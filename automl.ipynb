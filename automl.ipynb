{
 "cells": [
  {
   "cell_type": "markdown",
   "metadata": {},
   "source": [
    "# Automated ML\n",
    "\n",
    "Import all the dependencies that we will need to complete the project."
   ]
  },
  {
   "cell_type": "code",
   "execution_count": 14,
   "metadata": {
    "gather": {
     "logged": 1598423888013
    },
    "jupyter": {
     "outputs_hidden": false,
     "source_hidden": false
    },
    "nteract": {
     "transient": {
      "deleting": false
     }
    }
   },
   "outputs": [],
   "source": [
    "from azureml.core import Workspace, Experiment, Dataset\n",
    "from azureml.core.compute import ComputeTarget, AmlCompute\n",
    "from azureml.core.compute_target import ComputeTargetException\n",
    "from azureml.data.dataset_factory import TabularDatasetFactory\n",
    "from azureml.widgets import RunDetails\n",
    "import pandas as pd\n",
    "from azureml.data.datapath import DataPath\n",
    "from azureml.train.automl import AutoMLConfig\n",
    "import joblib \n",
    "import os"
   ]
  },
  {
   "cell_type": "markdown",
   "metadata": {},
   "source": [
    "## Dataset\n",
    "\n",
    "### Overview\n",
    "\n",
    "The dataset that we will be using for this project is the [Heart Failure Prediction](https://www.kaggle.com/andrewmvd/heart-failure-clinical-data) dataset from Kaggle. \n",
    "\n",
    "Heart failure is a common event caused by CVDs and this dataset contains 12 features that can be used to predict mortality by heart failure.\n",
    "\n",
    "People with cardiovascular disease or who are at high cardiovascular risk need early detection and management wherein a machine learning model can be of great help.\n",
    "\n",
    "**12 clinical features:**\n",
    "\n",
    "* age - Age\n",
    "\n",
    "* anaemia - Decrease of red blood cells or hemoglobin (boolean)\n",
    "\n",
    "* creatinine_phosphokinase - Level of the CPK enzyme in the blood (mcg/L)\n",
    "\n",
    "* diabetes - If the patient has diabetes (boolean)\n",
    "\n",
    "* ejection_fraction - Percentage of blood leaving the heart at each contraction (percentage)\n",
    "\n",
    "* high_blood_pressure - If the patient has hypertension (boolean)\n",
    "  \n",
    "* platelets - Platelets in the blood (kiloplatelets/mL)\n",
    "\n",
    "* serum_creatinine - Level of serum creatinine in the blood (mg/dL)\n",
    "\n",
    "* serum_sodium - Level of serum sodium in the blood (mEq/L)\n",
    "  \n",
    "* sex - Woman or man (binary)\n",
    "  \n",
    "* smoking - If the patient smokes or not (boolean)\n",
    "\n",
    "* time - Follow-up period (days)\n",
    "\n",
    "In this project we will use Azure Automated ML to make prediction on the death event based on the above mentioned clinical features.\n"
   ]
  },
  {
   "cell_type": "code",
   "execution_count": 2,
   "metadata": {
    "gather": {
     "logged": 1598423890461
    },
    "jupyter": {
     "outputs_hidden": false,
     "source_hidden": false
    },
    "nteract": {
     "transient": {
      "deleting": false
     }
    }
   },
   "outputs": [],
   "source": [
    "ws = Workspace.from_config()\n",
    "\n",
    "# choose a name for experiment\n",
    "experiment_name = 'new-experiment'\n",
    "\n",
    "experiment=Experiment(ws, experiment_name)"
   ]
  },
  {
   "cell_type": "code",
   "execution_count": 3,
   "metadata": {},
   "outputs": [
    {
     "name": "stdout",
     "output_type": "stream",
     "text": [
      "Workspace name: quick-starts-ws-137786\n",
      "Azure region: southcentralus\n",
      "Subscription id: a24a24d5-8d87-4c8a-99b6-91ed2d2df51f\n",
      "Resource group: aml-quickstarts-137786\n"
     ]
    }
   ],
   "source": [
    "print('Workspace name: '+ ws.name,\n",
    "     'Azure region: '+ ws.location,\n",
    "      'Subscription id: '+ ws.subscription_id,\n",
    "     'Resource group: '+ ws.resource_group, sep=\"\\n\")\n",
    "\n",
    "run = experiment.start_logging()"
   ]
  },
  {
   "cell_type": "code",
   "execution_count": 5,
   "metadata": {},
   "outputs": [],
   "source": [
    "ds = Dataset.get_by_name(ws, 'heart-failure-dataset')"
   ]
  },
  {
   "cell_type": "code",
   "execution_count": 6,
   "metadata": {},
   "outputs": [
    {
     "data": {
      "text/html": [
       "<div>\n",
       "<style scoped>\n",
       "    .dataframe tbody tr th:only-of-type {\n",
       "        vertical-align: middle;\n",
       "    }\n",
       "\n",
       "    .dataframe tbody tr th {\n",
       "        vertical-align: top;\n",
       "    }\n",
       "\n",
       "    .dataframe thead th {\n",
       "        text-align: right;\n",
       "    }\n",
       "</style>\n",
       "<table border=\"1\" class=\"dataframe\">\n",
       "  <thead>\n",
       "    <tr style=\"text-align: right;\">\n",
       "      <th></th>\n",
       "      <th>age</th>\n",
       "      <th>anaemia</th>\n",
       "      <th>creatinine_phosphokinase</th>\n",
       "      <th>diabetes</th>\n",
       "      <th>ejection_fraction</th>\n",
       "      <th>high_blood_pressure</th>\n",
       "      <th>platelets</th>\n",
       "      <th>serum_creatinine</th>\n",
       "      <th>serum_sodium</th>\n",
       "      <th>sex</th>\n",
       "      <th>smoking</th>\n",
       "      <th>time</th>\n",
       "      <th>DEATH_EVENT</th>\n",
       "    </tr>\n",
       "  </thead>\n",
       "  <tbody>\n",
       "    <tr>\n",
       "      <th>0</th>\n",
       "      <td>75.0</td>\n",
       "      <td>0</td>\n",
       "      <td>582</td>\n",
       "      <td>0</td>\n",
       "      <td>20</td>\n",
       "      <td>1</td>\n",
       "      <td>265000.00</td>\n",
       "      <td>1.9</td>\n",
       "      <td>130</td>\n",
       "      <td>1</td>\n",
       "      <td>0</td>\n",
       "      <td>4</td>\n",
       "      <td>1</td>\n",
       "    </tr>\n",
       "    <tr>\n",
       "      <th>1</th>\n",
       "      <td>55.0</td>\n",
       "      <td>0</td>\n",
       "      <td>7861</td>\n",
       "      <td>0</td>\n",
       "      <td>38</td>\n",
       "      <td>0</td>\n",
       "      <td>263358.03</td>\n",
       "      <td>1.1</td>\n",
       "      <td>136</td>\n",
       "      <td>1</td>\n",
       "      <td>0</td>\n",
       "      <td>6</td>\n",
       "      <td>1</td>\n",
       "    </tr>\n",
       "    <tr>\n",
       "      <th>2</th>\n",
       "      <td>65.0</td>\n",
       "      <td>0</td>\n",
       "      <td>146</td>\n",
       "      <td>0</td>\n",
       "      <td>20</td>\n",
       "      <td>0</td>\n",
       "      <td>162000.00</td>\n",
       "      <td>1.3</td>\n",
       "      <td>129</td>\n",
       "      <td>1</td>\n",
       "      <td>1</td>\n",
       "      <td>7</td>\n",
       "      <td>1</td>\n",
       "    </tr>\n",
       "    <tr>\n",
       "      <th>3</th>\n",
       "      <td>50.0</td>\n",
       "      <td>1</td>\n",
       "      <td>111</td>\n",
       "      <td>0</td>\n",
       "      <td>20</td>\n",
       "      <td>0</td>\n",
       "      <td>210000.00</td>\n",
       "      <td>1.9</td>\n",
       "      <td>137</td>\n",
       "      <td>1</td>\n",
       "      <td>0</td>\n",
       "      <td>7</td>\n",
       "      <td>1</td>\n",
       "    </tr>\n",
       "    <tr>\n",
       "      <th>4</th>\n",
       "      <td>65.0</td>\n",
       "      <td>1</td>\n",
       "      <td>160</td>\n",
       "      <td>1</td>\n",
       "      <td>20</td>\n",
       "      <td>0</td>\n",
       "      <td>327000.00</td>\n",
       "      <td>2.7</td>\n",
       "      <td>116</td>\n",
       "      <td>0</td>\n",
       "      <td>0</td>\n",
       "      <td>8</td>\n",
       "      <td>1</td>\n",
       "    </tr>\n",
       "  </tbody>\n",
       "</table>\n",
       "</div>"
      ],
      "text/plain": [
       "    age  anaemia  creatinine_phosphokinase  diabetes  ejection_fraction  \\\n",
       "0  75.0        0                       582         0                 20   \n",
       "1  55.0        0                      7861         0                 38   \n",
       "2  65.0        0                       146         0                 20   \n",
       "3  50.0        1                       111         0                 20   \n",
       "4  65.0        1                       160         1                 20   \n",
       "\n",
       "   high_blood_pressure  platelets  serum_creatinine  serum_sodium  sex  \\\n",
       "0                    1  265000.00               1.9           130    1   \n",
       "1                    0  263358.03               1.1           136    1   \n",
       "2                    0  162000.00               1.3           129    1   \n",
       "3                    0  210000.00               1.9           137    1   \n",
       "4                    0  327000.00               2.7           116    0   \n",
       "\n",
       "   smoking  time  DEATH_EVENT  \n",
       "0        0     4            1  \n",
       "1        0     6            1  \n",
       "2        1     7            1  \n",
       "3        0     7            1  \n",
       "4        0     8            1  "
      ]
     },
     "execution_count": 6,
     "metadata": {},
     "output_type": "execute_result"
    }
   ],
   "source": [
    "df = ds.to_pandas_dataframe()\n",
    "df.head()"
   ]
  },
  {
   "cell_type": "code",
   "execution_count": 9,
   "metadata": {},
   "outputs": [],
   "source": [
    "train_data, test_data = ds.random_split(0.9)"
   ]
  },
  {
   "cell_type": "markdown",
   "metadata": {},
   "source": [
    "## Create Compute Cluster"
   ]
  },
  {
   "cell_type": "code",
   "execution_count": 10,
   "metadata": {},
   "outputs": [
    {
     "name": "stdout",
     "output_type": "stream",
     "text": [
      "Creating\n",
      "Succeeded\n",
      "AmlCompute wait for completion finished\n",
      "\n",
      "Minimum number of nodes requested have been provisioned\n"
     ]
    }
   ],
   "source": [
    "cpu_cluster_name = \"compute-cluster\"\n",
    "#Verify that the cluster does not exist already\n",
    "try:\n",
    "    cpu_cluster = ComputeTarget(workspace = ws, name = cpu_cluster_name)\n",
    "    print(\"Found existing cluster. Use it\")\n",
    "except ComputeTargetException:\n",
    "    compute_config = AmlCompute.provisioning_configuration(vm_size='STANDARD_D2_V2', max_nodes =4)\n",
    "    cpu_cluster = ComputeTarget.create(ws, cpu_cluster_name, compute_config)\n",
    "    \n",
    "cpu_cluster.wait_for_completion(show_output=True)\n",
    "    "
   ]
  },
  {
   "cell_type": "markdown",
   "metadata": {},
   "source": [
    "## AutoML Configuration\n",
    "\n",
    "Instantiate an AutoMLConfig object for AutoML Configuration. \n",
    "\n",
    "The parameters used here are:\n",
    "\n",
    "* `n_cross_validation = 3` - Since our dataset is small. We apply cross validation with 3 folds instead of train/validation data split.\n",
    "\n",
    "\n",
    "* `primary_metric = 'accuracy'` - The primary metric parameter determines the metric to be used during model training for optimization. Accuracy primary metric is chosen for binary classification dataset.\n",
    "\n",
    "\n",
    "* `experiment_timeout_minutes = 30` - This defines how long, in minutes, our experiment should continue to run. Here this timeout is set to 30 minutes.\n",
    "\n",
    "\n",
    "* `max_concurrent_iterations = 4` - To help manage child runs and when they can be performed, we match the number of maximum concurrent iterations of our experiment to the number of nodes in the cluster. So, we get a dedicated cluster per experiment.\n",
    "\n",
    "\n",
    "* `task = 'classification'` - This specifies the experiment type as classification.\n",
    "\n",
    "\n",
    "*  `compute_target = cpu_cluster` -  Azure Machine Learning Managed Compute is a managed service that enables the ability to train machine learning models on clusters of Azure virtual machines. Here compute target is set to cpu_cluster which is already defined with 'STANDARD_D2_V2' and maximum nodes equal to 4.\n",
    "\n",
    "\n",
    "* `training_data = train_data` - This specifies the training data to be used in this experiment which is set to train_data which is a part of the dataset uploaded to the datastore.\n",
    "\n",
    "\n",
    "* `label_column_name = 'DEATH_EVENT'` - The target column here is set to DEATH_EVENT which has values 1 if the patient deceased or 0 if the patient survived.\n",
    "\n",
    "\n",
    "* `featurization= 'auto'` - This indicates that as part of preprocessing, data guardrails and featurization steps are performed automatically.\n"
   ]
  },
  {
   "cell_type": "code",
   "execution_count": 11,
   "metadata": {
    "gather": {
     "logged": 1598429217746
    },
    "jupyter": {
     "outputs_hidden": false,
     "source_hidden": false
    },
    "nteract": {
     "transient": {
      "deleting": false
     }
    }
   },
   "outputs": [],
   "source": [
    "# Automl settings\n",
    "automl_settings = {\n",
    "    \"n_cross_validations\": 3,\n",
    "    \"primary_metric\": 'accuracy',\n",
    "    \"experiment_timeout_minutes\": 30,\n",
    "    \"max_concurrent_iterations\": 4\n",
    "}\n",
    "\n",
    "# automl config here\n",
    "automl_config = AutoMLConfig(task = 'classification',\n",
    "                            compute_target = cpu_cluster,\n",
    "                             training_data = train_data,\n",
    "                             label_column_name = 'DEATH_EVENT',\n",
    "                             featurization= 'auto',\n",
    "                             **automl_settings\n",
    "                            )"
   ]
  },
  {
   "cell_type": "code",
   "execution_count": 12,
   "metadata": {
    "gather": {
     "logged": 1598431107951
    },
    "jupyter": {
     "outputs_hidden": false,
     "source_hidden": false
    },
    "nteract": {
     "transient": {
      "deleting": false
     }
    }
   },
   "outputs": [
    {
     "name": "stdout",
     "output_type": "stream",
     "text": [
      "Running on remote.\n",
      "No run_configuration provided, running on compute-cluster with default configuration\n",
      "Running on remote compute: compute-cluster\n",
      "Parent Run ID: AutoML_be0a801b-c90c-4aa6-84d7-3aef5a669649\n",
      "\n",
      "Current status: FeaturesGeneration. Generating features for the dataset.\n",
      "Current status: DatasetCrossValidationSplit. Generating individually featurized CV splits.\n",
      "Current status: ModelSelection. Beginning model selection.\n",
      "\n",
      "****************************************************************************************************\n",
      "DATA GUARDRAILS: \n",
      "\n",
      "TYPE:         Class balancing detection\n",
      "STATUS:       PASSED\n",
      "DESCRIPTION:  Your inputs were analyzed, and all classes are balanced in your training data.\n",
      "              Learn more about imbalanced data: https://aka.ms/AutomatedMLImbalancedData\n",
      "\n",
      "****************************************************************************************************\n",
      "\n",
      "TYPE:         Missing feature values imputation\n",
      "STATUS:       PASSED\n",
      "DESCRIPTION:  No feature missing values were detected in the training data.\n",
      "              Learn more about missing value imputation: https://aka.ms/AutomatedMLFeaturization\n",
      "\n",
      "****************************************************************************************************\n",
      "\n",
      "TYPE:         High cardinality feature detection\n",
      "STATUS:       PASSED\n",
      "DESCRIPTION:  Your inputs were analyzed, and no high cardinality features were detected.\n",
      "              Learn more about high cardinality feature handling: https://aka.ms/AutomatedMLFeaturization\n",
      "\n",
      "****************************************************************************************************\n",
      "\n",
      "****************************************************************************************************\n",
      "ITERATION: The iteration being evaluated.\n",
      "PIPELINE: A summary description of the pipeline being evaluated.\n",
      "DURATION: Time taken for the current iteration.\n",
      "METRIC: The result of computing score on the fitted pipeline.\n",
      "BEST: The best observed score thus far.\n",
      "****************************************************************************************************\n",
      "\n",
      " ITERATION   PIPELINE                                       DURATION      METRIC      BEST\n",
      "         2   MinMaxScaler RandomForest                      0:00:54       0.8437    0.8437\n",
      "         1   MaxAbsScaler XGBoostClassifier                 0:00:57       0.8328    0.8437\n",
      "         3   MinMaxScaler RandomForest                      0:00:53       0.8328    0.8437\n",
      "         6   MinMaxScaler SVM                               0:00:48       0.7709    0.8437\n",
      "         7   MaxAbsScaler GradientBoosting                  0:00:52       0.8402    0.8437\n",
      "         4   MinMaxScaler RandomForest                      0:03:23       0.8401    0.8437\n",
      "         0   MaxAbsScaler LightGBM                          0:03:42       0.8364    0.8437\n",
      "         5   RobustScaler LightGBM                          0:03:18       0.8436    0.8437\n",
      "         8   StandardScalerWrapper RandomForest             0:00:51       0.8364    0.8437\n",
      "         9   SparseNormalizer XGBoostClassifier             0:00:50       0.8255    0.8437\n",
      "        10   RobustScaler GradientBoosting                  0:00:54       0.8437    0.8437\n",
      "        11   MinMaxScaler LightGBM                          0:00:53       0.8074    0.8437\n",
      "        12   SparseNormalizer LightGBM                      0:00:45       0.8109    0.8437\n",
      "        13   StandardScalerWrapper LightGBM                 0:00:50       0.7999    0.8437\n",
      "        14   StandardScalerWrapper LightGBM                 0:00:51       0.8182    0.8437\n",
      "        15   RobustScaler ExtremeRandomTrees                0:00:54       0.8364    0.8437\n",
      "        16   StandardScalerWrapper LightGBM                 0:00:42       0.7272    0.8437\n",
      "        17   SparseNormalizer XGBoostClassifier             0:00:49       0.8036    0.8437\n",
      "        18   StandardScalerWrapper LightGBM                 0:00:51       0.8436    0.8437\n",
      "        19   TruncatedSVDWrapper XGBoostClassifier          0:00:51       0.8071    0.8437\n",
      "        20   SparseNormalizer XGBoostClassifier             0:00:46       0.8254    0.8437\n",
      "        21   RobustScaler RandomForest                      0:00:51       0.8437    0.8437\n",
      "        22   MaxAbsScaler LightGBM                          0:00:57       0.8291    0.8437\n",
      "        23   MinMaxScaler RandomForest                      0:00:51       0.8619    0.8619\n",
      "        24   StandardScalerWrapper RandomForest             0:00:51       0.8401    0.8619\n",
      "        25   SparseNormalizer RandomForest                  0:00:51       0.7163    0.8619\n",
      "        26   MaxAbsScaler ExtremeRandomTrees                0:00:49       0.7782    0.8619\n",
      "        27   RobustScaler ExtremeRandomTrees                0:00:49       0.8327    0.8619\n",
      "        28   SparseNormalizer XGBoostClassifier             0:00:54       0.8110    0.8619\n",
      "        29   MinMaxScaler LightGBM                          0:00:48       0.8365    0.8619\n",
      "        30   RobustScaler RandomForest                      0:00:51       0.7345    0.8619\n",
      "        31   MaxAbsScaler LightGBM                          0:00:46       0.7164    0.8619\n",
      "        32   MinMaxScaler RandomForest                      0:00:46       0.7927    0.8619\n",
      "        33   StandardScalerWrapper LightGBM                 0:00:52       0.7929    0.8619\n",
      "        34   StandardScalerWrapper RandomForest             0:00:43       0.8436    0.8619\n",
      "        35   MaxAbsScaler LightGBM                          0:00:41       0.8400    0.8619\n",
      "        36   StandardScalerWrapper LightGBM                 0:00:46       0.8220    0.8619\n",
      "        37   MinMaxScaler LogisticRegression                0:00:46       0.8034    0.8619\n",
      "        38   StandardScalerWrapper RandomForest             0:00:52       0.8328    0.8619\n",
      "        39   StandardScalerWrapper XGBoostClassifier        0:00:51       0.8327    0.8619\n",
      "        40   MaxAbsScaler RandomForest                      0:00:49       0.8364    0.8619\n",
      "        41   MaxAbsScaler LightGBM                          0:00:51       0.8400    0.8619\n",
      "        42   RobustScaler LightGBM                          0:00:49       0.8329    0.8619\n",
      "        43   StandardScalerWrapper XGBoostClassifier        0:00:52       0.8327    0.8619\n",
      "        44   StandardScalerWrapper LightGBM                 0:00:46       0.8473    0.8619\n",
      "        45   StandardScalerWrapper RandomForest             0:00:54       0.8473    0.8619\n",
      "        46   StandardScalerWrapper ExtremeRandomTrees       0:00:49       0.8364    0.8619\n",
      "        47   MaxAbsScaler LightGBM                          0:00:42       0.8509    0.8619\n",
      "        48   RobustScaler LightGBM                          0:00:52       0.8328    0.8619\n",
      "        49   StandardScalerWrapper LightGBM                 0:00:43       0.8400    0.8619\n",
      "        50   SparseNormalizer RandomForest                  0:00:48       0.7819    0.8619\n",
      "        51   SparseNormalizer LightGBM                      0:00:51       0.8146    0.8619\n",
      "        52   MaxAbsScaler RandomForest                      0:01:02       0.8546    0.8619\n",
      "        53   MaxAbsScaler RandomForest                      0:00:50       0.8146    0.8619\n",
      "        54   StandardScalerWrapper XGBoostClassifier        0:00:46       0.8437    0.8619\n",
      "        55   StandardScalerWrapper RandomForest             0:00:52       0.8436    0.8619\n",
      "        56   StandardScalerWrapper LightGBM                 0:00:52       0.7890    0.8619\n",
      "        57   StandardScalerWrapper XGBoostClassifier        0:00:52       0.7929    0.8619\n",
      "        58   MaxAbsScaler LightGBM                          0:00:46       0.8474    0.8619\n",
      "        59   StandardScalerWrapper LightGBM                 0:00:45       0.8364    0.8619\n",
      "        60   MinMaxScaler RandomForest                      0:00:51       0.6799    0.8619\n",
      "        61   StandardScalerWrapper XGBoostClassifier        0:00:45       0.8292    0.8619\n",
      "        62   StandardScalerWrapper LightGBM                 0:00:50       0.8510    0.8619\n",
      "        63   MaxAbsScaler LightGBM                          0:00:48       0.7600    0.8619\n",
      "        64   MaxAbsScaler LightGBM                          0:00:48       0.7891    0.8619\n",
      "        66   StandardScalerWrapper XGBoostClassifier        0:00:48       0.8328    0.8619\n",
      "        67   SparseNormalizer LightGBM                      0:00:47       0.7819    0.8619\n",
      "        65   MaxAbsScaler RandomForest                      0:01:04       0.8436    0.8619\n",
      "        68   MaxAbsScaler LightGBM                          0:00:48       0.8473    0.8619\n",
      "        69   MinMaxScaler LightGBM                          0:00:49       0.8182    0.8619\n",
      "        70   StandardScalerWrapper RandomForest             0:00:49       0.8473    0.8619\n",
      "        71   StandardScalerWrapper LightGBM                 0:00:47       0.7527    0.8619\n",
      "        72   StandardScalerWrapper XGBoostClassifier        0:00:48       0.8473    0.8619\n",
      "        73   StandardScalerWrapper RandomForest             0:00:48       0.8437    0.8619\n",
      "        74   MaxAbsScaler RandomForest                      0:00:55       0.8401    0.8619\n",
      "        75   MaxAbsScaler ExtremeRandomTrees                0:00:48       0.8473    0.8619\n",
      "        76   StandardScalerWrapper LightGBM                 0:00:48       0.8400    0.8619\n",
      "        77   MinMaxScaler LightGBM                          0:00:46       0.8400    0.8619\n",
      "        78   MaxAbsScaler LightGBM                          0:00:50       0.8217    0.8619\n",
      "        79   MaxAbsScaler LightGBM                          0:00:47       0.8364    0.8619\n",
      "        80   StandardScalerWrapper RandomForest             0:00:49       0.7928    0.8619\n",
      "        81   StandardScalerWrapper XGBoostClassifier        0:00:52       0.8364    0.8619\n",
      "        82   StandardScalerWrapper LightGBM                 0:00:53       0.8401    0.8619\n",
      "        83   StandardScalerWrapper XGBoostClassifier        0:00:55       0.8292    0.8619\n",
      "        84   StandardScalerWrapper XGBoostClassifier        0:00:48       0.8328    0.8619\n",
      "        85   StandardScalerWrapper RandomForest             0:00:46       0.8072    0.8619\n",
      "        86   StandardScalerWrapper XGBoostClassifier        0:00:51       0.8401    0.8619\n",
      "        87   StandardScalerWrapper LightGBM                 0:00:52       0.8582    0.8619\n",
      "        88   MinMaxScaler GradientBoosting                  0:00:54       0.8328    0.8619\n",
      "        89   StandardScalerWrapper XGBoostClassifier        0:00:57       0.8364    0.8619\n",
      "        90   StandardScalerWrapper RandomForest             0:00:48       0.8364    0.8619\n",
      "        91   StandardScalerWrapper LightGBM                 0:00:49       0.8436    0.8619\n",
      "        92   StandardScalerWrapper LightGBM                 0:00:45       0.8145    0.8619\n",
      "        93   StandardScalerWrapper XGBoostClassifier        0:00:46       0.8546    0.8619\n",
      "        94   StandardScalerWrapper LightGBM                 0:00:55       0.8290    0.8619\n",
      "        95   StandardScalerWrapper RandomForest             0:00:39       0.8437    0.8619\n",
      "        96   MaxAbsScaler RandomForest                      0:00:59       0.8473    0.8619\n",
      "        97   StandardScalerWrapper XGBoostClassifier        0:00:59       0.8437    0.8619\n",
      "       100   RobustScaler RandomForest                      0:00:26       0.7454    0.8619\n",
      "ERROR: {\n",
      "    \"additional_properties\": {},\n",
      "    \"error\": {\n",
      "        \"additional_properties\": {\n",
      "            \"debugInfo\": null\n",
      "        },\n",
      "        \"code\": \"UserError\",\n",
      "        \"severity\": null,\n",
      "        \"message\": \"Experiment timeout reached, please consider increasing your experiment timeout.\",\n",
      "        \"message_format\": \"Experiment timeout reached, please consider increasing your experiment timeout.\",\n",
      "        \"message_parameters\": {},\n",
      "        \"reference_code\": null,\n",
      "        \"details_uri\": null,\n",
      "        \"target\": null,\n",
      "        \"details\": [],\n",
      "        \"inner_error\": {\n",
      "            \"additional_properties\": {},\n",
      "            \"code\": \"ResourceExhausted\",\n",
      "            \"inner_error\": {\n",
      "                \"additional_properties\": {},\n",
      "                \"code\": \"Timeout\",\n",
      "                \"inner_error\": {\n",
      "                    \"additional_properties\": {},\n",
      "                    \"code\": \"ExperimentTimeoutForIterations\",\n",
      "                    \"inner_error\": null\n",
      "                }\n",
      "            }\n",
      "        }\n",
      "    },\n",
      "    \"correlation\": null,\n",
      "    \"environment\": null,\n",
      "    \"location\": null,\n",
      "    \"time\": {},\n",
      "    \"component_name\": null\n",
      "}\n",
      "        98   StandardScalerWrapper XGBoostClassifier        0:00:47       0.8436    0.8619\n",
      "ERROR: {\n",
      "    \"additional_properties\": {},\n",
      "    \"error\": {\n",
      "        \"additional_properties\": {\n",
      "            \"debugInfo\": null\n",
      "        },\n",
      "        \"code\": \"UserError\",\n",
      "        \"severity\": null,\n",
      "        \"message\": \"Experiment timeout reached, please consider increasing your experiment timeout.\",\n",
      "        \"message_format\": \"Experiment timeout reached, please consider increasing your experiment timeout.\",\n",
      "        \"message_parameters\": {},\n",
      "        \"reference_code\": null,\n",
      "        \"details_uri\": null,\n",
      "        \"target\": null,\n",
      "        \"details\": [],\n",
      "        \"inner_error\": {\n",
      "            \"additional_properties\": {},\n",
      "            \"code\": \"ResourceExhausted\",\n",
      "            \"inner_error\": {\n",
      "                \"additional_properties\": {},\n",
      "                \"code\": \"Timeout\",\n",
      "                \"inner_error\": {\n",
      "                    \"additional_properties\": {},\n",
      "                    \"code\": \"ExperimentTimeoutForIterations\",\n",
      "                    \"inner_error\": null\n",
      "                }\n",
      "            }\n",
      "        }\n",
      "    },\n",
      "    \"correlation\": null,\n",
      "    \"environment\": null,\n",
      "    \"location\": null,\n",
      "    \"time\": {},\n",
      "    \"component_name\": null\n",
      "}\n",
      "        99   StandardScalerWrapper XGBoostClassifier        0:00:30       0.8364    0.8619\n",
      "ERROR: {\n",
      "    \"additional_properties\": {},\n",
      "    \"error\": {\n",
      "        \"additional_properties\": {\n",
      "            \"debugInfo\": null\n",
      "        },\n",
      "        \"code\": \"UserError\",\n",
      "        \"severity\": null,\n",
      "        \"message\": \"Experiment timeout reached, please consider increasing your experiment timeout.\",\n",
      "        \"message_format\": \"Experiment timeout reached, please consider increasing your experiment timeout.\",\n",
      "        \"message_parameters\": {},\n",
      "        \"reference_code\": null,\n",
      "        \"details_uri\": null,\n",
      "        \"target\": null,\n",
      "        \"details\": [],\n",
      "        \"inner_error\": {\n",
      "            \"additional_properties\": {},\n",
      "            \"code\": \"ResourceExhausted\",\n",
      "            \"inner_error\": {\n",
      "                \"additional_properties\": {},\n",
      "                \"code\": \"Timeout\",\n",
      "                \"inner_error\": {\n",
      "                    \"additional_properties\": {},\n",
      "                    \"code\": \"ExperimentTimeoutForIterations\",\n",
      "                    \"inner_error\": null\n",
      "                }\n",
      "            }\n",
      "        }\n",
      "    },\n",
      "    \"correlation\": null,\n",
      "    \"environment\": null,\n",
      "    \"location\": null,\n",
      "    \"time\": {},\n",
      "    \"component_name\": null\n",
      "}\n",
      "       101    VotingEnsemble                                0:01:47       0.8656    0.8656\n",
      "       102    StackEnsemble                                 0:01:37       0.8474    0.8656\n"
     ]
    }
   ],
   "source": [
    "# Submit the experiment\n",
    "remote_run = experiment.submit(automl_config)"
   ]
  },
  {
   "cell_type": "markdown",
   "metadata": {},
   "source": [
    "## Run Details\n",
    "\n",
    "The `RunDetails` widget shows the different experiments."
   ]
  },
  {
   "cell_type": "code",
   "execution_count": 15,
   "metadata": {
    "gather": {
     "logged": 1598431121770
    },
    "jupyter": {
     "outputs_hidden": false,
     "source_hidden": false
    },
    "nteract": {
     "transient": {
      "deleting": false
     }
    }
   },
   "outputs": [
    {
     "data": {
      "application/vnd.jupyter.widget-view+json": {
       "model_id": "011cf83847c94c30a7a38dbf62324466",
       "version_major": 2,
       "version_minor": 0
      },
      "text/plain": [
       "_AutoMLWidget(widget_settings={'childWidgetDisplay': 'popup', 'send_telemetry': False, 'log_level': 'INFO', 's…"
      ]
     },
     "metadata": {},
     "output_type": "display_data"
    },
    {
     "data": {
      "application/aml.mini.widget.v1": "{\"status\": \"Completed\", \"workbench_run_details_uri\": \"https://ml.azure.com/experiments/new-experiment/runs/AutoML_be0a801b-c90c-4aa6-84d7-3aef5a669649?wsid=/subscriptions/a24a24d5-8d87-4c8a-99b6-91ed2d2df51f/resourcegroups/aml-quickstarts-137786/workspaces/quick-starts-ws-137786\", \"run_id\": \"AutoML_be0a801b-c90c-4aa6-84d7-3aef5a669649\", \"run_properties\": {\"run_id\": \"AutoML_be0a801b-c90c-4aa6-84d7-3aef5a669649\", \"created_utc\": \"2021-02-07T08:55:42.141316Z\", \"properties\": {\"num_iterations\": \"1000\", \"training_type\": \"TrainFull\", \"acquisition_function\": \"EI\", \"primary_metric\": \"accuracy\", \"train_split\": \"0\", \"acquisition_parameter\": \"0\", \"num_cross_validation\": \"3\", \"target\": \"compute-cluster\", \"AMLSettingsJsonString\": \"{\\\"path\\\":null,\\\"name\\\":\\\"new-experiment\\\",\\\"subscription_id\\\":\\\"a24a24d5-8d87-4c8a-99b6-91ed2d2df51f\\\",\\\"resource_group\\\":\\\"aml-quickstarts-137786\\\",\\\"workspace_name\\\":\\\"quick-starts-ws-137786\\\",\\\"region\\\":\\\"southcentralus\\\",\\\"compute_target\\\":\\\"compute-cluster\\\",\\\"spark_service\\\":null,\\\"azure_service\\\":\\\"remote\\\",\\\"many_models\\\":false,\\\"pipeline_fetch_max_batch_size\\\":1,\\\"iterations\\\":1000,\\\"primary_metric\\\":\\\"accuracy\\\",\\\"task_type\\\":\\\"classification\\\",\\\"data_script\\\":null,\\\"validation_size\\\":0.0,\\\"n_cross_validations\\\":3,\\\"y_min\\\":null,\\\"y_max\\\":null,\\\"num_classes\\\":null,\\\"featurization\\\":\\\"auto\\\",\\\"_ignore_package_version_incompatibilities\\\":false,\\\"is_timeseries\\\":false,\\\"max_cores_per_iteration\\\":1,\\\"max_concurrent_iterations\\\":4,\\\"iteration_timeout_minutes\\\":null,\\\"mem_in_mb\\\":null,\\\"enforce_time_on_windows\\\":false,\\\"experiment_timeout_minutes\\\":30,\\\"experiment_exit_score\\\":null,\\\"whitelist_models\\\":null,\\\"blacklist_algos\\\":[\\\"TensorFlowLinearClassifier\\\",\\\"TensorFlowDNN\\\"],\\\"supported_models\\\":[\\\"SGD\\\",\\\"LogisticRegression\\\",\\\"BernoulliNaiveBayes\\\",\\\"AveragedPerceptronClassifier\\\",\\\"TensorFlowLinearClassifier\\\",\\\"DecisionTree\\\",\\\"SVM\\\",\\\"GradientBoosting\\\",\\\"KNN\\\",\\\"TensorFlowDNN\\\",\\\"RandomForest\\\",\\\"LinearSVM\\\",\\\"XGBoostClassifier\\\",\\\"LightGBM\\\",\\\"ExtremeRandomTrees\\\",\\\"MultinomialNaiveBayes\\\"],\\\"auto_blacklist\\\":true,\\\"blacklist_samples_reached\\\":false,\\\"exclude_nan_labels\\\":true,\\\"verbosity\\\":20,\\\"_debug_log\\\":\\\"azureml_automl.log\\\",\\\"show_warnings\\\":false,\\\"model_explainability\\\":true,\\\"service_url\\\":null,\\\"sdk_url\\\":null,\\\"sdk_packages\\\":null,\\\"enable_onnx_compatible_models\\\":false,\\\"enable_split_onnx_featurizer_estimator_models\\\":false,\\\"vm_type\\\":\\\"STANDARD_D2_V2\\\",\\\"telemetry_verbosity\\\":20,\\\"send_telemetry\\\":true,\\\"enable_dnn\\\":false,\\\"scenario\\\":\\\"SDK-1.13.0\\\",\\\"environment_label\\\":null,\\\"force_text_dnn\\\":false,\\\"enable_feature_sweeping\\\":true,\\\"enable_early_stopping\\\":false,\\\"early_stopping_n_iters\\\":10,\\\"metrics\\\":null,\\\"enable_ensembling\\\":true,\\\"enable_stack_ensembling\\\":true,\\\"ensemble_iterations\\\":15,\\\"enable_tf\\\":false,\\\"enable_subsampling\\\":null,\\\"subsample_seed\\\":null,\\\"enable_nimbusml\\\":false,\\\"enable_streaming\\\":false,\\\"force_streaming\\\":false,\\\"track_child_runs\\\":true,\\\"allowed_private_models\\\":[],\\\"label_column_name\\\":\\\"DEATH_EVENT\\\",\\\"weight_column_name\\\":null,\\\"cv_split_column_names\\\":null,\\\"enable_local_managed\\\":false,\\\"_local_managed_run_id\\\":null,\\\"cost_mode\\\":1,\\\"lag_length\\\":0,\\\"metric_operation\\\":\\\"maximize\\\",\\\"preprocess\\\":true}\", \"DataPrepJsonString\": \"{\\\\\\\"training_data\\\\\\\": \\\\\\\"{\\\\\\\\\\\\\\\"blocks\\\\\\\\\\\\\\\": [{\\\\\\\\\\\\\\\"id\\\\\\\\\\\\\\\": \\\\\\\\\\\\\\\"8ffb4b86-1e4f-42b1-82eb-c7c27d11a08a\\\\\\\\\\\\\\\", \\\\\\\\\\\\\\\"type\\\\\\\\\\\\\\\": \\\\\\\\\\\\\\\"Microsoft.DPrep.GetDatastoreFilesBlock\\\\\\\\\\\\\\\", \\\\\\\\\\\\\\\"arguments\\\\\\\\\\\\\\\": {\\\\\\\\\\\\\\\"datastores\\\\\\\\\\\\\\\": [{\\\\\\\\\\\\\\\"datastoreName\\\\\\\\\\\\\\\": \\\\\\\\\\\\\\\"workspaceblobstore\\\\\\\\\\\\\\\", \\\\\\\\\\\\\\\"path\\\\\\\\\\\\\\\": \\\\\\\\\\\\\\\"UI/02-07-2021_083025_UTC/heart_failure_clinical_records_dataset.csv\\\\\\\\\\\\\\\", \\\\\\\\\\\\\\\"resourceGroup\\\\\\\\\\\\\\\": \\\\\\\\\\\\\\\"aml-quickstarts-137786\\\\\\\\\\\\\\\", \\\\\\\\\\\\\\\"subscription\\\\\\\\\\\\\\\": \\\\\\\\\\\\\\\"a24a24d5-8d87-4c8a-99b6-91ed2d2df51f\\\\\\\\\\\\\\\", \\\\\\\\\\\\\\\"workspaceName\\\\\\\\\\\\\\\": \\\\\\\\\\\\\\\"quick-starts-ws-137786\\\\\\\\\\\\\\\"}]}, \\\\\\\\\\\\\\\"localData\\\\\\\\\\\\\\\": {}, \\\\\\\\\\\\\\\"isEnabled\\\\\\\\\\\\\\\": true, \\\\\\\\\\\\\\\"name\\\\\\\\\\\\\\\": null, \\\\\\\\\\\\\\\"annotation\\\\\\\\\\\\\\\": null}, {\\\\\\\\\\\\\\\"id\\\\\\\\\\\\\\\": \\\\\\\\\\\\\\\"70856038-3c96-4177-a0ec-aadd69e86fef\\\\\\\\\\\\\\\", \\\\\\\\\\\\\\\"type\\\\\\\\\\\\\\\": \\\\\\\\\\\\\\\"Microsoft.DPrep.ParseDelimitedBlock\\\\\\\\\\\\\\\", \\\\\\\\\\\\\\\"arguments\\\\\\\\\\\\\\\": {\\\\\\\\\\\\\\\"columnHeadersMode\\\\\\\\\\\\\\\": 3, \\\\\\\\\\\\\\\"fileEncoding\\\\\\\\\\\\\\\": 0, \\\\\\\\\\\\\\\"handleQuotedLineBreaks\\\\\\\\\\\\\\\": false, \\\\\\\\\\\\\\\"preview\\\\\\\\\\\\\\\": false, \\\\\\\\\\\\\\\"separator\\\\\\\\\\\\\\\": \\\\\\\\\\\\\\\",\\\\\\\\\\\\\\\", \\\\\\\\\\\\\\\"skipRows\\\\\\\\\\\\\\\": 0, \\\\\\\\\\\\\\\"skipRowsMode\\\\\\\\\\\\\\\": 0}, \\\\\\\\\\\\\\\"localData\\\\\\\\\\\\\\\": {}, \\\\\\\\\\\\\\\"isEnabled\\\\\\\\\\\\\\\": true, \\\\\\\\\\\\\\\"name\\\\\\\\\\\\\\\": null, \\\\\\\\\\\\\\\"annotation\\\\\\\\\\\\\\\": null}, {\\\\\\\\\\\\\\\"id\\\\\\\\\\\\\\\": \\\\\\\\\\\\\\\"b0b7e7d5-7104-4042-b710-3973ca6c6183\\\\\\\\\\\\\\\", \\\\\\\\\\\\\\\"type\\\\\\\\\\\\\\\": \\\\\\\\\\\\\\\"Microsoft.DPrep.DropColumnsBlock\\\\\\\\\\\\\\\", \\\\\\\\\\\\\\\"arguments\\\\\\\\\\\\\\\": {\\\\\\\\\\\\\\\"columns\\\\\\\\\\\\\\\": {\\\\\\\\\\\\\\\"type\\\\\\\\\\\\\\\": 0, \\\\\\\\\\\\\\\"details\\\\\\\\\\\\\\\": {\\\\\\\\\\\\\\\"selectedColumns\\\\\\\\\\\\\\\": [\\\\\\\\\\\\\\\"Path\\\\\\\\\\\\\\\"]}}}, \\\\\\\\\\\\\\\"localData\\\\\\\\\\\\\\\": {}, \\\\\\\\\\\\\\\"isEnabled\\\\\\\\\\\\\\\": true, \\\\\\\\\\\\\\\"name\\\\\\\\\\\\\\\": null, \\\\\\\\\\\\\\\"annotation\\\\\\\\\\\\\\\": null}, {\\\\\\\\\\\\\\\"id\\\\\\\\\\\\\\\": \\\\\\\\\\\\\\\"140d1258-cec5-4790-b9f3-3ac8c42f0b2b\\\\\\\\\\\\\\\", \\\\\\\\\\\\\\\"type\\\\\\\\\\\\\\\": \\\\\\\\\\\\\\\"Microsoft.DPrep.SetColumnTypesBlock\\\\\\\\\\\\\\\", \\\\\\\\\\\\\\\"arguments\\\\\\\\\\\\\\\": {\\\\\\\\\\\\\\\"columnConversion\\\\\\\\\\\\\\\": [{\\\\\\\\\\\\\\\"column\\\\\\\\\\\\\\\": {\\\\\\\\\\\\\\\"type\\\\\\\\\\\\\\\": 2, \\\\\\\\\\\\\\\"details\\\\\\\\\\\\\\\": {\\\\\\\\\\\\\\\"selectedColumn\\\\\\\\\\\\\\\": \\\\\\\\\\\\\\\"Path\\\\\\\\\\\\\\\"}}, \\\\\\\\\\\\\\\"typeProperty\\\\\\\\\\\\\\\": 0}, {\\\\\\\\\\\\\\\"column\\\\\\\\\\\\\\\": {\\\\\\\\\\\\\\\"type\\\\\\\\\\\\\\\": 2, \\\\\\\\\\\\\\\"details\\\\\\\\\\\\\\\": {\\\\\\\\\\\\\\\"selectedColumn\\\\\\\\\\\\\\\": \\\\\\\\\\\\\\\"age\\\\\\\\\\\\\\\"}}, \\\\\\\\\\\\\\\"typeProperty\\\\\\\\\\\\\\\": 3}, {\\\\\\\\\\\\\\\"column\\\\\\\\\\\\\\\": {\\\\\\\\\\\\\\\"type\\\\\\\\\\\\\\\": 2, \\\\\\\\\\\\\\\"details\\\\\\\\\\\\\\\": {\\\\\\\\\\\\\\\"selectedColumn\\\\\\\\\\\\\\\": \\\\\\\\\\\\\\\"anaemia\\\\\\\\\\\\\\\"}}, \\\\\\\\\\\\\\\"typeProperty\\\\\\\\\\\\\\\": 2}, {\\\\\\\\\\\\\\\"column\\\\\\\\\\\\\\\": {\\\\\\\\\\\\\\\"type\\\\\\\\\\\\\\\": 2, \\\\\\\\\\\\\\\"details\\\\\\\\\\\\\\\": {\\\\\\\\\\\\\\\"selectedColumn\\\\\\\\\\\\\\\": \\\\\\\\\\\\\\\"creatinine_phosphokinase\\\\\\\\\\\\\\\"}}, \\\\\\\\\\\\\\\"typeProperty\\\\\\\\\\\\\\\": 2}, {\\\\\\\\\\\\\\\"column\\\\\\\\\\\\\\\": {\\\\\\\\\\\\\\\"type\\\\\\\\\\\\\\\": 2, \\\\\\\\\\\\\\\"details\\\\\\\\\\\\\\\": {\\\\\\\\\\\\\\\"selectedColumn\\\\\\\\\\\\\\\": \\\\\\\\\\\\\\\"diabetes\\\\\\\\\\\\\\\"}}, \\\\\\\\\\\\\\\"typeProperty\\\\\\\\\\\\\\\": 2}, {\\\\\\\\\\\\\\\"column\\\\\\\\\\\\\\\": {\\\\\\\\\\\\\\\"type\\\\\\\\\\\\\\\": 2, \\\\\\\\\\\\\\\"details\\\\\\\\\\\\\\\": {\\\\\\\\\\\\\\\"selectedColumn\\\\\\\\\\\\\\\": \\\\\\\\\\\\\\\"ejection_fraction\\\\\\\\\\\\\\\"}}, \\\\\\\\\\\\\\\"typeProperty\\\\\\\\\\\\\\\": 2}, {\\\\\\\\\\\\\\\"column\\\\\\\\\\\\\\\": {\\\\\\\\\\\\\\\"type\\\\\\\\\\\\\\\": 2, \\\\\\\\\\\\\\\"details\\\\\\\\\\\\\\\": {\\\\\\\\\\\\\\\"selectedColumn\\\\\\\\\\\\\\\": \\\\\\\\\\\\\\\"high_blood_pressure\\\\\\\\\\\\\\\"}}, \\\\\\\\\\\\\\\"typeProperty\\\\\\\\\\\\\\\": 2}, {\\\\\\\\\\\\\\\"column\\\\\\\\\\\\\\\": {\\\\\\\\\\\\\\\"type\\\\\\\\\\\\\\\": 2, \\\\\\\\\\\\\\\"details\\\\\\\\\\\\\\\": {\\\\\\\\\\\\\\\"selectedColumn\\\\\\\\\\\\\\\": \\\\\\\\\\\\\\\"platelets\\\\\\\\\\\\\\\"}}, \\\\\\\\\\\\\\\"typeProperty\\\\\\\\\\\\\\\": 3}, {\\\\\\\\\\\\\\\"column\\\\\\\\\\\\\\\": {\\\\\\\\\\\\\\\"type\\\\\\\\\\\\\\\": 2, \\\\\\\\\\\\\\\"details\\\\\\\\\\\\\\\": {\\\\\\\\\\\\\\\"selectedColumn\\\\\\\\\\\\\\\": \\\\\\\\\\\\\\\"serum_creatinine\\\\\\\\\\\\\\\"}}, \\\\\\\\\\\\\\\"typeProperty\\\\\\\\\\\\\\\": 3}, {\\\\\\\\\\\\\\\"column\\\\\\\\\\\\\\\": {\\\\\\\\\\\\\\\"type\\\\\\\\\\\\\\\": 2, \\\\\\\\\\\\\\\"details\\\\\\\\\\\\\\\": {\\\\\\\\\\\\\\\"selectedColumn\\\\\\\\\\\\\\\": \\\\\\\\\\\\\\\"serum_sodium\\\\\\\\\\\\\\\"}}, \\\\\\\\\\\\\\\"typeProperty\\\\\\\\\\\\\\\": 2}, {\\\\\\\\\\\\\\\"column\\\\\\\\\\\\\\\": {\\\\\\\\\\\\\\\"type\\\\\\\\\\\\\\\": 2, \\\\\\\\\\\\\\\"details\\\\\\\\\\\\\\\": {\\\\\\\\\\\\\\\"selectedColumn\\\\\\\\\\\\\\\": \\\\\\\\\\\\\\\"sex\\\\\\\\\\\\\\\"}}, \\\\\\\\\\\\\\\"typeProperty\\\\\\\\\\\\\\\": 2}, {\\\\\\\\\\\\\\\"column\\\\\\\\\\\\\\\": {\\\\\\\\\\\\\\\"type\\\\\\\\\\\\\\\": 2, \\\\\\\\\\\\\\\"details\\\\\\\\\\\\\\\": {\\\\\\\\\\\\\\\"selectedColumn\\\\\\\\\\\\\\\": \\\\\\\\\\\\\\\"smoking\\\\\\\\\\\\\\\"}}, \\\\\\\\\\\\\\\"typeProperty\\\\\\\\\\\\\\\": 2}, {\\\\\\\\\\\\\\\"column\\\\\\\\\\\\\\\": {\\\\\\\\\\\\\\\"type\\\\\\\\\\\\\\\": 2, \\\\\\\\\\\\\\\"details\\\\\\\\\\\\\\\": {\\\\\\\\\\\\\\\"selectedColumn\\\\\\\\\\\\\\\": \\\\\\\\\\\\\\\"time\\\\\\\\\\\\\\\"}}, \\\\\\\\\\\\\\\"typeProperty\\\\\\\\\\\\\\\": 2}, {\\\\\\\\\\\\\\\"column\\\\\\\\\\\\\\\": {\\\\\\\\\\\\\\\"type\\\\\\\\\\\\\\\": 2, \\\\\\\\\\\\\\\"details\\\\\\\\\\\\\\\": {\\\\\\\\\\\\\\\"selectedColumn\\\\\\\\\\\\\\\": \\\\\\\\\\\\\\\"DEATH_EVENT\\\\\\\\\\\\\\\"}}, \\\\\\\\\\\\\\\"typeProperty\\\\\\\\\\\\\\\": 2}]}, \\\\\\\\\\\\\\\"localData\\\\\\\\\\\\\\\": {}, \\\\\\\\\\\\\\\"isEnabled\\\\\\\\\\\\\\\": true, \\\\\\\\\\\\\\\"name\\\\\\\\\\\\\\\": null, \\\\\\\\\\\\\\\"annotation\\\\\\\\\\\\\\\": null}, {\\\\\\\\\\\\\\\"id\\\\\\\\\\\\\\\": \\\\\\\\\\\\\\\"50375a02-31c2-437f-85b6-7aabf816011b\\\\\\\\\\\\\\\", \\\\\\\\\\\\\\\"type\\\\\\\\\\\\\\\": \\\\\\\\\\\\\\\"Microsoft.DPrep.TakeSampleBlock\\\\\\\\\\\\\\\", \\\\\\\\\\\\\\\"arguments\\\\\\\\\\\\\\\": {\\\\\\\\\\\\\\\"probability\\\\\\\\\\\\\\\": 0.9, \\\\\\\\\\\\\\\"probabilityLowerBound\\\\\\\\\\\\\\\": 0.0, \\\\\\\\\\\\\\\"seed\\\\\\\\\\\\\\\": 915024374}, \\\\\\\\\\\\\\\"localData\\\\\\\\\\\\\\\": {}, \\\\\\\\\\\\\\\"isEnabled\\\\\\\\\\\\\\\": true, \\\\\\\\\\\\\\\"name\\\\\\\\\\\\\\\": null, \\\\\\\\\\\\\\\"annotation\\\\\\\\\\\\\\\": null}], \\\\\\\\\\\\\\\"inspectors\\\\\\\\\\\\\\\": [], \\\\\\\\\\\\\\\"meta\\\\\\\\\\\\\\\": {\\\\\\\\\\\\\\\"savedDatasetId\\\\\\\\\\\\\\\": \\\\\\\\\\\\\\\"d297d9f4-f322-4979-8a34-faaa178a64be\\\\\\\\\\\\\\\", \\\\\\\\\\\\\\\"datasetType\\\\\\\\\\\\\\\": \\\\\\\\\\\\\\\"tabular\\\\\\\\\\\\\\\", \\\\\\\\\\\\\\\"subscriptionId\\\\\\\\\\\\\\\": \\\\\\\\\\\\\\\"a24a24d5-8d87-4c8a-99b6-91ed2d2df51f\\\\\\\\\\\\\\\", \\\\\\\\\\\\\\\"workspaceId\\\\\\\\\\\\\\\": \\\\\\\\\\\\\\\"d84f77c3-e064-4678-bbc9-9ddd02a69eea\\\\\\\\\\\\\\\", \\\\\\\\\\\\\\\"workspaceLocation\\\\\\\\\\\\\\\": \\\\\\\\\\\\\\\"southcentralus\\\\\\\\\\\\\\\"}}\\\\\\\", \\\\\\\"activities\\\\\\\": 0}\", \"EnableSubsampling\": null, \"runTemplate\": \"AutoML\", \"azureml.runsource\": \"automl\", \"display_task_type\": \"classification\", \"dependencies_versions\": \"{\\\"azureml-widgets\\\": \\\"1.20.0\\\", \\\"azureml-train\\\": \\\"1.20.0\\\", \\\"azureml-train-restclients-hyperdrive\\\": \\\"1.20.0\\\", \\\"azureml-train-core\\\": \\\"1.20.0\\\", \\\"azureml-train-automl\\\": \\\"1.20.0\\\", \\\"azureml-train-automl-runtime\\\": \\\"1.20.0\\\", \\\"azureml-train-automl-client\\\": \\\"1.20.0\\\", \\\"azureml-tensorboard\\\": \\\"1.20.0\\\", \\\"azureml-telemetry\\\": \\\"1.20.0\\\", \\\"azureml-sdk\\\": \\\"1.20.0\\\", \\\"azureml-samples\\\": \\\"0+unknown\\\", \\\"azureml-pipeline\\\": \\\"1.20.0\\\", \\\"azureml-pipeline-steps\\\": \\\"1.20.0\\\", \\\"azureml-pipeline-core\\\": \\\"1.20.0\\\", \\\"azureml-opendatasets\\\": \\\"1.20.0\\\", \\\"azureml-model-management-sdk\\\": \\\"1.0.1b6.post1\\\", \\\"azureml-mlflow\\\": \\\"1.20.0.post1\\\", \\\"azureml-interpret\\\": \\\"1.20.0\\\", \\\"azureml-explain-model\\\": \\\"1.20.0\\\", \\\"azureml-defaults\\\": \\\"1.20.0\\\", \\\"azureml-dataset-runtime\\\": \\\"1.20.0\\\", \\\"azureml-dataprep\\\": \\\"2.7.3\\\", \\\"azureml-dataprep-rslex\\\": \\\"1.5.0\\\", \\\"azureml-dataprep-native\\\": \\\"27.0.0\\\", \\\"azureml-datadrift\\\": \\\"1.20.0\\\", \\\"azureml-core\\\": \\\"1.20.0\\\", \\\"azureml-contrib-services\\\": \\\"1.20.0\\\", \\\"azureml-contrib-server\\\": \\\"1.20.0\\\", \\\"azureml-contrib-reinforcementlearning\\\": \\\"1.20.0\\\", \\\"azureml-contrib-pipeline-steps\\\": \\\"1.20.0\\\", \\\"azureml-contrib-notebook\\\": \\\"1.20.0\\\", \\\"azureml-contrib-interpret\\\": \\\"1.20.0\\\", \\\"azureml-contrib-gbdt\\\": \\\"1.20.0\\\", \\\"azureml-contrib-fairness\\\": \\\"1.20.0\\\", \\\"azureml-contrib-dataset\\\": \\\"1.20.0\\\", \\\"azureml-cli-common\\\": \\\"1.20.0\\\", \\\"azureml-automl-runtime\\\": \\\"1.20.0\\\", \\\"azureml-automl-core\\\": \\\"1.20.0\\\", \\\"azureml-accel-models\\\": \\\"1.20.0\\\"}\", \"_aml_system_scenario_identification\": \"Remote.Parent\", \"ClientType\": \"SDK\", \"environment_cpu_name\": \"AzureML-AutoML\", \"environment_cpu_label\": \"prod\", \"environment_gpu_name\": \"AzureML-AutoML-GPU\", \"environment_gpu_label\": \"prod\", \"root_attribution\": \"automl\", \"attribution\": \"AutoML\", \"Orchestrator\": \"AutoML\", \"CancelUri\": \"https://southcentralus.experiments.azureml.net/jasmine/v1.0/subscriptions/a24a24d5-8d87-4c8a-99b6-91ed2d2df51f/resourceGroups/aml-quickstarts-137786/providers/Microsoft.MachineLearningServices/workspaces/quick-starts-ws-137786/experimentids/6f295d6f-c512-4415-9474-d5411fccd49e/cancel/AutoML_be0a801b-c90c-4aa6-84d7-3aef5a669649\", \"ClientSdkVersion\": \"1.21.0\", \"snapshotId\": \"00000000-0000-0000-0000-000000000000\", \"SetupRunId\": \"AutoML_be0a801b-c90c-4aa6-84d7-3aef5a669649_setup\", \"SetupRunContainerId\": \"dcid.AutoML_be0a801b-c90c-4aa6-84d7-3aef5a669649_setup\", \"FeaturizationRunJsonPath\": \"featurizer_container.json\", \"FeaturizationRunId\": \"AutoML_be0a801b-c90c-4aa6-84d7-3aef5a669649_featurize\", \"ProblemInfoJsonString\": \"{\\\"dataset_num_categorical\\\": 0, \\\"is_sparse\\\": false, \\\"subsampling\\\": false, \\\"dataset_classes\\\": 2, \\\"dataset_features\\\": 12, \\\"dataset_samples\\\": 275, \\\"single_frequency_class_detected\\\": false}\", \"ModelExplainRunId\": \"AutoML_be0a801b-c90c-4aa6-84d7-3aef5a669649_ModelExplain\"}, \"tags\": {\"model_explain_run\": \"best_run\", \"_aml_system_azureml.automlComponent\": \"AutoML\", \"pipeline_id\": \"\", \"score\": \"\", \"predicted_cost\": \"\", \"fit_time\": \"\", \"training_percent\": \"\", \"iteration\": \"\", \"run_preprocessor\": \"\", \"run_algorithm\": \"\", \"dynamic_whitelisting_iterations\": \"<25>;<30>;<34>;<40>;<45>;<50>;<55>;<60>;<65>;<70>;<74>;<80>;<85>;<90>;<95>;<100>;\", \"automl_best_child_run_id\": \"AutoML_be0a801b-c90c-4aa6-84d7-3aef5a669649_101\", \"model_explain_best_run_child_id\": \"AutoML_be0a801b-c90c-4aa6-84d7-3aef5a669649_101\"}, \"end_time_utc\": \"2021-02-07T09:37:48.580886Z\", \"status\": \"Completed\", \"log_files\": {}, \"log_groups\": [], \"run_duration\": \"0:42:06\"}, \"child_runs\": [{\"run_id\": \"AutoML_be0a801b-c90c-4aa6-84d7-3aef5a669649_0\", \"run_number\": 6, \"metric\": null, \"status\": \"Completed\", \"run_type\": \"azureml.scriptrun\", \"training_percent\": \"100\", \"start_time\": \"2021-02-07T09:06:58.275081Z\", \"end_time\": \"2021-02-07T09:10:40.765443Z\", \"created_time\": \"2021-02-07T09:04:54.878153Z\", \"created_time_dt\": \"2021-02-07T09:04:54.878153Z\", \"duration\": \"0:05:45\", \"iteration\": \"0\", \"goal\": \"accuracy_max\", \"run_name\": \"MaxAbsScaler, LightGBM\", \"run_properties\": \"copy=True\", \"primary_metric\": 0.83643892, \"best_metric\": 0.83643892}, {\"run_id\": \"AutoML_be0a801b-c90c-4aa6-84d7-3aef5a669649_3\", \"run_number\": 7, \"metric\": null, \"status\": \"Completed\", \"run_type\": \"azureml.scriptrun\", \"training_percent\": \"100\", \"start_time\": \"2021-02-07T09:07:03.307226Z\", \"end_time\": \"2021-02-07T09:07:56.431104Z\", \"created_time\": \"2021-02-07T09:04:54.926857Z\", \"created_time_dt\": \"2021-02-07T09:04:54.926857Z\", \"duration\": \"0:03:01\", \"iteration\": \"3\", \"goal\": \"accuracy_max\", \"run_name\": \"MinMaxScaler, RandomForest\", \"run_properties\": \"copy=True, feature_range=(0, 1\", \"primary_metric\": 0.83277592, \"best_metric\": 0.8436853}, {\"run_id\": \"AutoML_be0a801b-c90c-4aa6-84d7-3aef5a669649_1\", \"run_number\": 8, \"metric\": null, \"status\": \"Completed\", \"run_type\": \"azureml.scriptrun\", \"training_percent\": \"100\", \"start_time\": \"2021-02-07T09:06:06.420548Z\", \"end_time\": \"2021-02-07T09:07:03.013181Z\", \"created_time\": \"2021-02-07T09:04:54.93295Z\", \"created_time_dt\": \"2021-02-07T09:04:54.93295Z\", \"duration\": \"0:02:08\", \"iteration\": \"1\", \"goal\": \"accuracy_max\", \"run_name\": \"MaxAbsScaler, XGBoostClassifier\", \"run_properties\": \"copy=True\", \"primary_metric\": 0.83277592, \"best_metric\": 0.83643892}, {\"run_id\": \"AutoML_be0a801b-c90c-4aa6-84d7-3aef5a669649_2\", \"run_number\": 9, \"metric\": null, \"status\": \"Completed\", \"run_type\": \"azureml.scriptrun\", \"training_percent\": \"100\", \"start_time\": \"2021-02-07T09:05:07.781434Z\", \"end_time\": \"2021-02-07T09:06:01.449955Z\", \"created_time\": \"2021-02-07T09:04:55.263099Z\", \"created_time_dt\": \"2021-02-07T09:04:55.263099Z\", \"duration\": \"0:01:06\", \"iteration\": \"2\", \"goal\": \"accuracy_max\", \"run_name\": \"MinMaxScaler, RandomForest\", \"run_properties\": \"copy=True, feature_range=(0, 1\", \"primary_metric\": 0.8436853, \"best_metric\": 0.8436853}, {\"run_id\": \"AutoML_be0a801b-c90c-4aa6-84d7-3aef5a669649_4\", \"run_number\": 10, \"metric\": null, \"status\": \"Completed\", \"run_type\": \"azureml.scriptrun\", \"training_percent\": \"100\", \"start_time\": \"2021-02-07T09:07:04.61068Z\", \"end_time\": \"2021-02-07T09:10:27.799618Z\", \"created_time\": \"2021-02-07T09:06:04.342144Z\", \"created_time_dt\": \"2021-02-07T09:06:04.342144Z\", \"duration\": \"0:04:23\", \"iteration\": \"4\", \"goal\": \"accuracy_max\", \"run_name\": \"MinMaxScaler, RandomForest\", \"run_properties\": \"copy=True, feature_range=(0, 1\", \"primary_metric\": 0.84006211, \"best_metric\": 0.8436853}, {\"run_id\": \"AutoML_be0a801b-c90c-4aa6-84d7-3aef5a669649_5\", \"run_number\": 11, \"metric\": null, \"status\": \"Completed\", \"run_type\": \"azureml.scriptrun\", \"training_percent\": \"100\", \"start_time\": \"2021-02-07T09:07:20.697923Z\", \"end_time\": \"2021-02-07T09:10:38.511866Z\", \"created_time\": \"2021-02-07T09:07:05.929677Z\", \"created_time_dt\": \"2021-02-07T09:07:05.929677Z\", \"duration\": \"0:03:32\", \"iteration\": \"5\", \"goal\": \"accuracy_max\", \"run_name\": \"RobustScaler, LightGBM\", \"run_properties\": \"copy=True, quantile_range=[10, 90], with_centering=True,\\n             with_scaling=False\", \"primary_metric\": 0.84364548, \"best_metric\": 0.8436853}, {\"run_id\": \"AutoML_be0a801b-c90c-4aa6-84d7-3aef5a669649_6\", \"run_number\": 12, \"metric\": null, \"status\": \"Completed\", \"run_type\": \"azureml.scriptrun\", \"training_percent\": \"100\", \"start_time\": \"2021-02-07T09:08:12.305438Z\", \"end_time\": \"2021-02-07T09:09:00.636081Z\", \"created_time\": \"2021-02-07T09:07:59.126181Z\", \"created_time_dt\": \"2021-02-07T09:07:59.126181Z\", \"duration\": \"0:01:01\", \"iteration\": \"6\", \"goal\": \"accuracy_max\", \"run_name\": \"MinMaxScaler, SVM\", \"run_properties\": \"copy=True, feature_range=(0, 1\", \"primary_metric\": 0.77086319, \"best_metric\": 0.8436853}, {\"run_id\": \"AutoML_be0a801b-c90c-4aa6-84d7-3aef5a669649_7\", \"run_number\": 13, \"metric\": null, \"status\": \"Completed\", \"run_type\": \"azureml.scriptrun\", \"training_percent\": \"100\", \"start_time\": \"2021-02-07T09:09:18.118248Z\", \"end_time\": \"2021-02-07T09:10:10.399332Z\", \"created_time\": \"2021-02-07T09:09:03.472635Z\", \"created_time_dt\": \"2021-02-07T09:09:03.472635Z\", \"duration\": \"0:01:06\", \"iteration\": \"7\", \"goal\": \"accuracy_max\", \"run_name\": \"MaxAbsScaler, GradientBoosting\", \"run_properties\": \"copy=True\", \"primary_metric\": 0.84018156, \"best_metric\": 0.8436853}, {\"run_id\": \"AutoML_be0a801b-c90c-4aa6-84d7-3aef5a669649_8\", \"run_number\": 14, \"metric\": null, \"status\": \"Completed\", \"run_type\": \"azureml.scriptrun\", \"training_percent\": \"100\", \"start_time\": \"2021-02-07T09:10:25.185257Z\", \"end_time\": \"2021-02-07T09:11:15.890794Z\", \"created_time\": \"2021-02-07T09:10:12.879976Z\", \"created_time_dt\": \"2021-02-07T09:10:12.879976Z\", \"duration\": \"0:01:03\", \"iteration\": \"8\", \"goal\": \"accuracy_max\", \"run_name\": \"StandardScalerWrapper, RandomForest\", \"run_properties\": \"<azureml.automl.runtime.shared.model_wrappers.StandardScalerWrapper object at 0x7f7358bc55c0\", \"primary_metric\": 0.83639911, \"best_metric\": 0.8436853}, {\"run_id\": \"AutoML_be0a801b-c90c-4aa6-84d7-3aef5a669649_9\", \"run_number\": 15, \"metric\": null, \"status\": \"Completed\", \"run_type\": \"azureml.scriptrun\", \"training_percent\": \"100\", \"start_time\": \"2021-02-07T09:10:40.586346Z\", \"end_time\": \"2021-02-07T09:11:30.967004Z\", \"created_time\": \"2021-02-07T09:10:29.624208Z\", \"created_time_dt\": \"2021-02-07T09:10:29.624208Z\", \"duration\": \"0:01:01\", \"iteration\": \"9\", \"goal\": \"accuracy_max\", \"run_name\": \"SparseNormalizer, XGBoostClassifier\", \"run_properties\": \"<azureml.automl.runtime.shared.model_wrappers.SparseNormalizer object at 0x7fbf2877c908\", \"primary_metric\": 0.82552954, \"best_metric\": 0.8436853}, {\"run_id\": \"AutoML_be0a801b-c90c-4aa6-84d7-3aef5a669649_10\", \"run_number\": 16, \"metric\": null, \"status\": \"Completed\", \"run_type\": \"azureml.scriptrun\", \"training_percent\": \"100\", \"start_time\": \"2021-02-07T09:10:50.767613Z\", \"end_time\": \"2021-02-07T09:11:44.347019Z\", \"created_time\": \"2021-02-07T09:10:40.423429Z\", \"created_time_dt\": \"2021-02-07T09:10:40.423429Z\", \"duration\": \"0:01:03\", \"iteration\": \"10\", \"goal\": \"accuracy_max\", \"run_name\": \"RobustScaler, GradientBoosting\", \"run_properties\": \"copy=True, quantile_range=[25, 75], with_centering=False,\\n             with_scaling=False\", \"primary_metric\": 0.8436853, \"best_metric\": 0.8436853}, {\"run_id\": \"AutoML_be0a801b-c90c-4aa6-84d7-3aef5a669649_11\", \"run_number\": 17, \"metric\": null, \"status\": \"Completed\", \"run_type\": \"azureml.scriptrun\", \"training_percent\": \"100\", \"start_time\": \"2021-02-07T09:10:58.870212Z\", \"end_time\": \"2021-02-07T09:11:51.860952Z\", \"created_time\": \"2021-02-07T09:10:44.0683Z\", \"created_time_dt\": \"2021-02-07T09:10:44.0683Z\", \"duration\": \"0:01:07\", \"iteration\": \"11\", \"goal\": \"accuracy_max\", \"run_name\": \"MinMaxScaler, LightGBM\", \"run_properties\": \"copy=True, feature_range=(0, 1\", \"primary_metric\": 0.80737379, \"best_metric\": 0.8436853}, {\"run_id\": \"AutoML_be0a801b-c90c-4aa6-84d7-3aef5a669649_12\", \"run_number\": 18, \"metric\": null, \"status\": \"Completed\", \"run_type\": \"azureml.scriptrun\", \"training_percent\": \"100\", \"start_time\": \"2021-02-07T09:11:32.626549Z\", \"end_time\": \"2021-02-07T09:12:18.082473Z\", \"created_time\": \"2021-02-07T09:11:19.968486Z\", \"created_time_dt\": \"2021-02-07T09:11:19.968486Z\", \"duration\": \"0:00:58\", \"iteration\": \"12\", \"goal\": \"accuracy_max\", \"run_name\": \"SparseNormalizer, LightGBM\", \"run_properties\": \"<azureml.automl.runtime.shared.model_wrappers.SparseNormalizer object at 0x7fd8dc905be0\", \"primary_metric\": 0.81091734, \"best_metric\": 0.8436853}, {\"run_id\": \"AutoML_be0a801b-c90c-4aa6-84d7-3aef5a669649_13\", \"run_number\": 19, \"metric\": null, \"status\": \"Completed\", \"run_type\": \"azureml.scriptrun\", \"training_percent\": \"100\", \"start_time\": \"2021-02-07T09:11:48.007074Z\", \"end_time\": \"2021-02-07T09:12:37.675739Z\", \"created_time\": \"2021-02-07T09:11:34.316141Z\", \"created_time_dt\": \"2021-02-07T09:11:34.316141Z\", \"duration\": \"0:01:03\", \"iteration\": \"13\", \"goal\": \"accuracy_max\", \"run_name\": \"StandardScalerWrapper, LightGBM\", \"run_properties\": \"<azureml.automl.runtime.shared.model_wrappers.StandardScalerWrapper object at 0x7fb29cd54eb8\", \"primary_metric\": 0.79992833, \"best_metric\": 0.8436853}, {\"run_id\": \"AutoML_be0a801b-c90c-4aa6-84d7-3aef5a669649_14\", \"run_number\": 20, \"metric\": null, \"status\": \"Completed\", \"run_type\": \"azureml.scriptrun\", \"training_percent\": \"100\", \"start_time\": \"2021-02-07T09:11:57.597795Z\", \"end_time\": \"2021-02-07T09:12:48.487253Z\", \"created_time\": \"2021-02-07T09:11:47.517335Z\", \"created_time_dt\": \"2021-02-07T09:11:47.517335Z\", \"duration\": \"0:01:00\", \"iteration\": \"14\", \"goal\": \"accuracy_max\", \"run_name\": \"StandardScalerWrapper, LightGBM\", \"run_properties\": \"<azureml.automl.runtime.shared.model_wrappers.StandardScalerWrapper object at 0x7ff335955828\", \"primary_metric\": 0.81824335, \"best_metric\": 0.8436853}, {\"run_id\": \"AutoML_be0a801b-c90c-4aa6-84d7-3aef5a669649_15\", \"run_number\": 21, \"metric\": null, \"status\": \"Completed\", \"run_type\": \"azureml.scriptrun\", \"training_percent\": \"100\", \"start_time\": \"2021-02-07T09:12:05.030837Z\", \"end_time\": \"2021-02-07T09:12:59.34828Z\", \"created_time\": \"2021-02-07T09:11:53.81362Z\", \"created_time_dt\": \"2021-02-07T09:11:53.81362Z\", \"duration\": \"0:01:05\", \"iteration\": \"15\", \"goal\": \"accuracy_max\", \"run_name\": \"RobustScaler, ExtremeRandomTrees\", \"run_properties\": \"copy=True, quantile_range=[25, 75], with_centering=True,\\n             with_scaling=False\", \"primary_metric\": 0.83635929, \"best_metric\": 0.8436853}, {\"run_id\": \"AutoML_be0a801b-c90c-4aa6-84d7-3aef5a669649_16\", \"run_number\": 22, \"metric\": null, \"status\": \"Completed\", \"run_type\": \"azureml.scriptrun\", \"training_percent\": \"100\", \"start_time\": \"2021-02-07T09:12:31.59021Z\", \"end_time\": \"2021-02-07T09:13:13.548529Z\", \"created_time\": \"2021-02-07T09:12:20.258539Z\", \"created_time_dt\": \"2021-02-07T09:12:20.258539Z\", \"duration\": \"0:00:53\", \"iteration\": \"16\", \"goal\": \"accuracy_max\", \"run_name\": \"StandardScalerWrapper, LightGBM\", \"run_properties\": \"<azureml.automl.runtime.shared.model_wrappers.StandardScalerWrapper object at 0x7f32a7a002e8\", \"primary_metric\": 0.72722567, \"best_metric\": 0.8436853}, {\"run_id\": \"AutoML_be0a801b-c90c-4aa6-84d7-3aef5a669649_17\", \"run_number\": 23, \"metric\": null, \"status\": \"Completed\", \"run_type\": \"azureml.scriptrun\", \"training_percent\": \"100\", \"start_time\": \"2021-02-07T09:12:50.137387Z\", \"end_time\": \"2021-02-07T09:13:38.701573Z\", \"created_time\": \"2021-02-07T09:12:39.900774Z\", \"created_time_dt\": \"2021-02-07T09:12:39.900774Z\", \"duration\": \"0:00:58\", \"iteration\": \"17\", \"goal\": \"accuracy_max\", \"run_name\": \"SparseNormalizer, XGBoostClassifier\", \"run_properties\": \"<azureml.automl.runtime.shared.model_wrappers.SparseNormalizer object at 0x7f3750042780\", \"primary_metric\": 0.80359134, \"best_metric\": 0.8436853}, {\"run_id\": \"AutoML_be0a801b-c90c-4aa6-84d7-3aef5a669649_18\", \"run_number\": 24, \"metric\": null, \"status\": \"Completed\", \"run_type\": \"azureml.scriptrun\", \"training_percent\": \"100\", \"start_time\": \"2021-02-07T09:13:02.638308Z\", \"end_time\": \"2021-02-07T09:13:54.06408Z\", \"created_time\": \"2021-02-07T09:12:51.029923Z\", \"created_time_dt\": \"2021-02-07T09:12:51.029923Z\", \"duration\": \"0:01:03\", \"iteration\": \"18\", \"goal\": \"accuracy_max\", \"run_name\": \"StandardScalerWrapper, LightGBM\", \"run_properties\": \"<azureml.automl.runtime.shared.model_wrappers.StandardScalerWrapper object at 0x7f5443228e48\", \"primary_metric\": 0.84360567, \"best_metric\": 0.8436853}, {\"run_id\": \"AutoML_be0a801b-c90c-4aa6-84d7-3aef5a669649_19\", \"run_number\": 25, \"metric\": null, \"status\": \"Completed\", \"run_type\": \"azureml.scriptrun\", \"training_percent\": \"100\", \"start_time\": \"2021-02-07T09:13:13.892517Z\", \"end_time\": \"2021-02-07T09:14:05.385155Z\", \"created_time\": \"2021-02-07T09:13:01.914801Z\", \"created_time_dt\": \"2021-02-07T09:13:01.914801Z\", \"duration\": \"0:01:03\", \"iteration\": \"19\", \"goal\": \"accuracy_max\", \"run_name\": \"TruncatedSVDWrapper, XGBoostClassifier\", \"run_properties\": \"n_components=0.6036842105263158, random_state=None\", \"primary_metric\": 0.80713489, \"best_metric\": 0.8436853}, {\"run_id\": \"AutoML_be0a801b-c90c-4aa6-84d7-3aef5a669649_20\", \"run_number\": 26, \"metric\": null, \"status\": \"Completed\", \"run_type\": \"azureml.scriptrun\", \"training_percent\": \"100\", \"start_time\": \"2021-02-07T09:13:30.297494Z\", \"end_time\": \"2021-02-07T09:14:15.955084Z\", \"created_time\": \"2021-02-07T09:13:16.80822Z\", \"created_time_dt\": \"2021-02-07T09:13:16.80822Z\", \"duration\": \"0:00:59\", \"iteration\": \"20\", \"goal\": \"accuracy_max\", \"run_name\": \"SparseNormalizer, XGBoostClassifier\", \"run_properties\": \"<azureml.automl.runtime.shared.model_wrappers.SparseNormalizer object at 0x7fedb0376b70\", \"primary_metric\": 0.82544991, \"best_metric\": 0.8436853}, {\"run_id\": \"AutoML_be0a801b-c90c-4aa6-84d7-3aef5a669649_21\", \"run_number\": 27, \"metric\": null, \"status\": \"Completed\", \"run_type\": \"azureml.scriptrun\", \"training_percent\": \"100\", \"start_time\": \"2021-02-07T09:13:56.312961Z\", \"end_time\": \"2021-02-07T09:14:47.555512Z\", \"created_time\": \"2021-02-07T09:13:42.007202Z\", \"created_time_dt\": \"2021-02-07T09:13:42.007202Z\", \"duration\": \"0:01:05\", \"iteration\": \"21\", \"goal\": \"accuracy_max\", \"run_name\": \"RobustScaler, RandomForest\", \"run_properties\": \"copy=True, quantile_range=[25, 75], with_centering=False,\\n             with_scaling=False\", \"primary_metric\": 0.84372512, \"best_metric\": 0.84372512}, {\"run_id\": \"AutoML_be0a801b-c90c-4aa6-84d7-3aef5a669649_22\", \"run_number\": 28, \"metric\": null, \"status\": \"Completed\", \"run_type\": \"azureml.scriptrun\", \"training_percent\": \"100\", \"start_time\": \"2021-02-07T09:14:06.650112Z\", \"end_time\": \"2021-02-07T09:15:03.490242Z\", \"created_time\": \"2021-02-07T09:13:56.434822Z\", \"created_time_dt\": \"2021-02-07T09:13:56.434822Z\", \"duration\": \"0:01:07\", \"iteration\": \"22\", \"goal\": \"accuracy_max\", \"run_name\": \"MaxAbsScaler, LightGBM\", \"run_properties\": \"copy=True\", \"primary_metric\": 0.8290731, \"best_metric\": 0.84372512}, {\"run_id\": \"AutoML_be0a801b-c90c-4aa6-84d7-3aef5a669649_23\", \"run_number\": 29, \"metric\": null, \"status\": \"Completed\", \"run_type\": \"azureml.scriptrun\", \"training_percent\": \"100\", \"start_time\": \"2021-02-07T09:14:20.453009Z\", \"end_time\": \"2021-02-07T09:15:11.495448Z\", \"created_time\": \"2021-02-07T09:14:07.27939Z\", \"created_time_dt\": \"2021-02-07T09:14:07.27939Z\", \"duration\": \"0:01:04\", \"iteration\": \"23\", \"goal\": \"accuracy_max\", \"run_name\": \"MinMaxScaler, RandomForest\", \"run_properties\": \"copy=True, feature_range=(0, 1\", \"primary_metric\": 0.86188087, \"best_metric\": 0.86188087}, {\"run_id\": \"AutoML_be0a801b-c90c-4aa6-84d7-3aef5a669649_24\", \"run_number\": 30, \"metric\": null, \"status\": \"Completed\", \"run_type\": \"azureml.scriptrun\", \"training_percent\": \"100\", \"start_time\": \"2021-02-07T09:14:30.83272Z\", \"end_time\": \"2021-02-07T09:15:21.537942Z\", \"created_time\": \"2021-02-07T09:14:17.988165Z\", \"created_time_dt\": \"2021-02-07T09:14:17.988165Z\", \"duration\": \"0:01:03\", \"iteration\": \"24\", \"goal\": \"accuracy_max\", \"run_name\": \"StandardScalerWrapper, RandomForest\", \"run_properties\": \"<azureml.automl.runtime.shared.model_wrappers.StandardScalerWrapper object at 0x7f82c4533588\", \"primary_metric\": 0.84010193, \"best_metric\": 0.86188087}, {\"run_id\": \"AutoML_be0a801b-c90c-4aa6-84d7-3aef5a669649_25\", \"run_number\": 31, \"metric\": null, \"status\": \"Completed\", \"run_type\": \"azureml.scriptrun\", \"training_percent\": \"100\", \"start_time\": \"2021-02-07T09:15:02.975182Z\", \"end_time\": \"2021-02-07T09:15:54.450162Z\", \"created_time\": \"2021-02-07T09:14:50.417437Z\", \"created_time_dt\": \"2021-02-07T09:14:50.417437Z\", \"duration\": \"0:01:04\", \"iteration\": \"25\", \"goal\": \"accuracy_max\", \"run_name\": \"SparseNormalizer, RandomForest\", \"run_properties\": \"<azureml.automl.runtime.shared.model_wrappers.SparseNormalizer object at 0x7fd17524f0b8\", \"primary_metric\": 0.71627648, \"best_metric\": 0.86188087}, {\"run_id\": \"AutoML_be0a801b-c90c-4aa6-84d7-3aef5a669649_26\", \"run_number\": 32, \"metric\": null, \"status\": \"Completed\", \"run_type\": \"azureml.scriptrun\", \"training_percent\": \"100\", \"start_time\": \"2021-02-07T09:15:18.464452Z\", \"end_time\": \"2021-02-07T09:16:07.42995Z\", \"created_time\": \"2021-02-07T09:15:05.527918Z\", \"created_time_dt\": \"2021-02-07T09:15:05.527918Z\", \"duration\": \"0:01:01\", \"iteration\": \"26\", \"goal\": \"accuracy_max\", \"run_name\": \"MaxAbsScaler, ExtremeRandomTrees\", \"run_properties\": \"copy=True\", \"primary_metric\": 0.7781892, \"best_metric\": 0.86188087}, {\"run_id\": \"AutoML_be0a801b-c90c-4aa6-84d7-3aef5a669649_27\", \"run_number\": 33, \"metric\": null, \"status\": \"Completed\", \"run_type\": \"azureml.scriptrun\", \"training_percent\": \"100\", \"start_time\": \"2021-02-07T09:15:25.563638Z\", \"end_time\": \"2021-02-07T09:16:14.352622Z\", \"created_time\": \"2021-02-07T09:15:13.170582Z\", \"created_time_dt\": \"2021-02-07T09:15:13.170582Z\", \"duration\": \"0:01:01\", \"iteration\": \"27\", \"goal\": \"accuracy_max\", \"run_name\": \"RobustScaler, ExtremeRandomTrees\", \"run_properties\": \"copy=True, quantile_range=[10, 90], with_centering=False,\\n             with_scaling=False\", \"primary_metric\": 0.83269629, \"best_metric\": 0.86188087}, {\"run_id\": \"AutoML_be0a801b-c90c-4aa6-84d7-3aef5a669649_28\", \"run_number\": 34, \"metric\": null, \"status\": \"Completed\", \"run_type\": \"azureml.scriptrun\", \"training_percent\": \"100\", \"start_time\": \"2021-02-07T09:15:33.259334Z\", \"end_time\": \"2021-02-07T09:16:27.255335Z\", \"created_time\": \"2021-02-07T09:15:23.174381Z\", \"created_time_dt\": \"2021-02-07T09:15:23.174381Z\", \"duration\": \"0:01:04\", \"iteration\": \"28\", \"goal\": \"accuracy_max\", \"run_name\": \"SparseNormalizer, XGBoostClassifier\", \"run_properties\": \"<azureml.automl.runtime.shared.model_wrappers.SparseNormalizer object at 0x7fdde4b804e0\", \"primary_metric\": 0.81095716, \"best_metric\": 0.86188087}, {\"run_id\": \"AutoML_be0a801b-c90c-4aa6-84d7-3aef5a669649_29\", \"run_number\": 35, \"metric\": null, \"status\": \"Completed\", \"run_type\": \"azureml.scriptrun\", \"training_percent\": \"100\", \"start_time\": \"2021-02-07T09:16:10.189229Z\", \"end_time\": \"2021-02-07T09:16:58.600182Z\", \"created_time\": \"2021-02-07T09:15:57.519804Z\", \"created_time_dt\": \"2021-02-07T09:15:57.519804Z\", \"duration\": \"0:01:01\", \"iteration\": \"29\", \"goal\": \"accuracy_max\", \"run_name\": \"MinMaxScaler, LightGBM\", \"run_properties\": \"copy=True, feature_range=(0, 1\", \"primary_metric\": 0.83647874, \"best_metric\": 0.86188087}, {\"run_id\": \"AutoML_be0a801b-c90c-4aa6-84d7-3aef5a669649_30\", \"run_number\": 36, \"metric\": null, \"status\": \"Completed\", \"run_type\": \"azureml.scriptrun\", \"training_percent\": \"100\", \"start_time\": \"2021-02-07T09:16:23.687955Z\", \"end_time\": \"2021-02-07T09:17:15.041077Z\", \"created_time\": \"2021-02-07T09:16:10.417727Z\", \"created_time_dt\": \"2021-02-07T09:16:10.417727Z\", \"duration\": \"0:01:04\", \"iteration\": \"30\", \"goal\": \"accuracy_max\", \"run_name\": \"RobustScaler, RandomForest\", \"run_properties\": \"copy=True, quantile_range=[10, 90], with_centering=False,\\n             with_scaling=False\", \"primary_metric\": 0.73447205, \"best_metric\": 0.86188087}, {\"run_id\": \"AutoML_be0a801b-c90c-4aa6-84d7-3aef5a669649_31\", \"run_number\": 37, \"metric\": null, \"status\": \"Completed\", \"run_type\": \"azureml.scriptrun\", \"training_percent\": \"100\", \"start_time\": \"2021-02-07T09:16:28.697619Z\", \"end_time\": \"2021-02-07T09:17:14.718029Z\", \"created_time\": \"2021-02-07T09:16:16.091052Z\", \"created_time_dt\": \"2021-02-07T09:16:16.091052Z\", \"duration\": \"0:00:58\", \"iteration\": \"31\", \"goal\": \"accuracy_max\", \"run_name\": \"MaxAbsScaler, LightGBM\", \"run_properties\": \"copy=True\", \"primary_metric\": 0.71635611, \"best_metric\": 0.86188087}, {\"run_id\": \"AutoML_be0a801b-c90c-4aa6-84d7-3aef5a669649_32\", \"run_number\": 38, \"metric\": null, \"status\": \"Completed\", \"run_type\": \"azureml.scriptrun\", \"training_percent\": \"100\", \"start_time\": \"2021-02-07T09:16:44.342861Z\", \"end_time\": \"2021-02-07T09:17:29.891503Z\", \"created_time\": \"2021-02-07T09:16:29.014821Z\", \"created_time_dt\": \"2021-02-07T09:16:29.014821Z\", \"duration\": \"0:01:00\", \"iteration\": \"32\", \"goal\": \"accuracy_max\", \"run_name\": \"MinMaxScaler, RandomForest\", \"run_properties\": \"copy=True, feature_range=(0, 1\", \"primary_metric\": 0.79268196, \"best_metric\": 0.86188087}, {\"run_id\": \"AutoML_be0a801b-c90c-4aa6-84d7-3aef5a669649_33\", \"run_number\": 39, \"metric\": null, \"status\": \"Completed\", \"run_type\": \"azureml.scriptrun\", \"training_percent\": \"100\", \"start_time\": \"2021-02-07T09:17:14.65561Z\", \"end_time\": \"2021-02-07T09:18:06.723398Z\", \"created_time\": \"2021-02-07T09:17:00.34328Z\", \"created_time_dt\": \"2021-02-07T09:17:00.34328Z\", \"duration\": \"0:01:06\", \"iteration\": \"33\", \"goal\": \"accuracy_max\", \"run_name\": \"StandardScalerWrapper, LightGBM\", \"run_properties\": \"<azureml.automl.runtime.shared.model_wrappers.StandardScalerWrapper object at 0x7f6b979a5da0\", \"primary_metric\": 0.79288103, \"best_metric\": 0.86188087}, {\"run_id\": \"AutoML_be0a801b-c90c-4aa6-84d7-3aef5a669649_34\", \"run_number\": 40, \"metric\": null, \"status\": \"Completed\", \"run_type\": \"azureml.scriptrun\", \"training_percent\": \"100\", \"start_time\": \"2021-02-07T09:17:30.831688Z\", \"end_time\": \"2021-02-07T09:18:14.152622Z\", \"created_time\": \"2021-02-07T09:17:17.751604Z\", \"created_time_dt\": \"2021-02-07T09:17:17.751604Z\", \"duration\": \"0:00:56\", \"iteration\": \"34\", \"goal\": \"accuracy_max\", \"run_name\": \"StandardScalerWrapper, RandomForest\", \"run_properties\": \"<azureml.automl.runtime.shared.model_wrappers.StandardScalerWrapper object at 0x7f60086133c8\", \"primary_metric\": 0.84364548, \"best_metric\": 0.86188087}, {\"run_id\": \"AutoML_be0a801b-c90c-4aa6-84d7-3aef5a669649_35\", \"run_number\": 41, \"metric\": null, \"status\": \"Completed\", \"run_type\": \"azureml.scriptrun\", \"training_percent\": \"100\", \"start_time\": \"2021-02-07T09:17:30.942787Z\", \"end_time\": \"2021-02-07T09:18:12.124327Z\", \"created_time\": \"2021-02-07T09:17:18.055519Z\", \"created_time_dt\": \"2021-02-07T09:17:18.055519Z\", \"duration\": \"0:00:54\", \"iteration\": \"35\", \"goal\": \"accuracy_max\", \"run_name\": \"MaxAbsScaler, LightGBM\", \"run_properties\": \"copy=True\", \"primary_metric\": 0.8400223, \"best_metric\": 0.86188087}, {\"run_id\": \"AutoML_be0a801b-c90c-4aa6-84d7-3aef5a669649_36\", \"run_number\": 42, \"metric\": null, \"status\": \"Completed\", \"run_type\": \"azureml.scriptrun\", \"training_percent\": \"100\", \"start_time\": \"2021-02-07T09:17:45.375566Z\", \"end_time\": \"2021-02-07T09:18:31.815083Z\", \"created_time\": \"2021-02-07T09:17:31.757501Z\", \"created_time_dt\": \"2021-02-07T09:17:31.757501Z\", \"duration\": \"0:01:00\", \"iteration\": \"36\", \"goal\": \"accuracy_max\", \"run_name\": \"StandardScalerWrapper, LightGBM\", \"run_properties\": \"<azureml.automl.runtime.shared.model_wrappers.StandardScalerWrapper object at 0x7fd32a1e1160\", \"primary_metric\": 0.8220258, \"best_metric\": 0.86188087}, {\"run_id\": \"AutoML_be0a801b-c90c-4aa6-84d7-3aef5a669649_37\", \"run_number\": 43, \"metric\": null, \"status\": \"Completed\", \"run_type\": \"azureml.scriptrun\", \"training_percent\": \"100\", \"start_time\": \"2021-02-07T09:18:22.31754Z\", \"end_time\": \"2021-02-07T09:19:08.248568Z\", \"created_time\": \"2021-02-07T09:18:08.728685Z\", \"created_time_dt\": \"2021-02-07T09:18:08.728685Z\", \"duration\": \"0:00:59\", \"iteration\": \"37\", \"goal\": \"accuracy_max\", \"run_name\": \"MinMaxScaler, LogisticRegression\", \"run_properties\": \"copy=True, feature_range=(0, 1\", \"primary_metric\": 0.80343208, \"best_metric\": 0.86188087}, {\"run_id\": \"AutoML_be0a801b-c90c-4aa6-84d7-3aef5a669649_38\", \"run_number\": 44, \"metric\": null, \"status\": \"Completed\", \"run_type\": \"azureml.scriptrun\", \"training_percent\": \"100\", \"start_time\": \"2021-02-07T09:18:25.965462Z\", \"end_time\": \"2021-02-07T09:19:17.849566Z\", \"created_time\": \"2021-02-07T09:18:14.009562Z\", \"created_time_dt\": \"2021-02-07T09:18:14.009562Z\", \"duration\": \"0:01:03\", \"iteration\": \"38\", \"goal\": \"accuracy_max\", \"run_name\": \"StandardScalerWrapper, RandomForest\", \"run_properties\": \"<azureml.automl.runtime.shared.model_wrappers.StandardScalerWrapper object at 0x7f48ba460198\", \"primary_metric\": 0.83281573, \"best_metric\": 0.86188087}, {\"run_id\": \"AutoML_be0a801b-c90c-4aa6-84d7-3aef5a669649_39\", \"run_number\": 45, \"metric\": null, \"status\": \"Completed\", \"run_type\": \"azureml.scriptrun\", \"training_percent\": \"100\", \"start_time\": \"2021-02-07T09:18:30.059819Z\", \"end_time\": \"2021-02-07T09:19:21.343939Z\", \"created_time\": \"2021-02-07T09:18:17.794378Z\", \"created_time_dt\": \"2021-02-07T09:18:17.794378Z\", \"duration\": \"0:01:03\", \"iteration\": \"39\", \"goal\": \"accuracy_max\", \"run_name\": \"StandardScalerWrapper, XGBoostClassifier\", \"run_properties\": \"<azureml.automl.runtime.shared.model_wrappers.StandardScalerWrapper object at 0x7f65e6a91240\", \"primary_metric\": 0.83269629, \"best_metric\": 0.86188087}, {\"run_id\": \"AutoML_be0a801b-c90c-4aa6-84d7-3aef5a669649_40\", \"run_number\": 46, \"metric\": null, \"status\": \"Completed\", \"run_type\": \"azureml.scriptrun\", \"training_percent\": \"100\", \"start_time\": \"2021-02-07T09:18:48.387531Z\", \"end_time\": \"2021-02-07T09:19:37.322331Z\", \"created_time\": \"2021-02-07T09:18:35.782495Z\", \"created_time_dt\": \"2021-02-07T09:18:35.782495Z\", \"duration\": \"0:01:01\", \"iteration\": \"40\", \"goal\": \"accuracy_max\", \"run_name\": \"MaxAbsScaler, RandomForest\", \"run_properties\": \"copy=True\", \"primary_metric\": 0.83635929, \"best_metric\": 0.86188087}, {\"run_id\": \"AutoML_be0a801b-c90c-4aa6-84d7-3aef5a669649_41\", \"run_number\": 47, \"metric\": null, \"status\": \"Completed\", \"run_type\": \"azureml.scriptrun\", \"training_percent\": \"100\", \"start_time\": \"2021-02-07T09:19:22.961795Z\", \"end_time\": \"2021-02-07T09:20:14.126593Z\", \"created_time\": \"2021-02-07T09:19:10.805072Z\", \"created_time_dt\": \"2021-02-07T09:19:10.805072Z\", \"duration\": \"0:01:03\", \"iteration\": \"41\", \"goal\": \"accuracy_max\", \"run_name\": \"MaxAbsScaler, LightGBM\", \"run_properties\": \"copy=True\", \"primary_metric\": 0.8400223, \"best_metric\": 0.86188087}, {\"run_id\": \"AutoML_be0a801b-c90c-4aa6-84d7-3aef5a669649_42\", \"run_number\": 48, \"metric\": null, \"status\": \"Completed\", \"run_type\": \"azureml.scriptrun\", \"training_percent\": \"100\", \"start_time\": \"2021-02-07T09:19:32.033194Z\", \"end_time\": \"2021-02-07T09:20:21.043549Z\", \"created_time\": \"2021-02-07T09:19:20.977265Z\", \"created_time_dt\": \"2021-02-07T09:19:20.977265Z\", \"duration\": \"0:01:00\", \"iteration\": \"42\", \"goal\": \"accuracy_max\", \"run_name\": \"RobustScaler, LightGBM\", \"run_properties\": \"copy=True, quantile_range=[25, 75], with_centering=True,\\n             with_scaling=False\", \"primary_metric\": 0.83285555, \"best_metric\": 0.86188087}, {\"run_id\": \"AutoML_be0a801b-c90c-4aa6-84d7-3aef5a669649_43\", \"run_number\": 49, \"metric\": null, \"status\": \"Completed\", \"run_type\": \"azureml.scriptrun\", \"training_percent\": \"100\", \"start_time\": \"2021-02-07T09:19:38.509454Z\", \"end_time\": \"2021-02-07T09:20:30.525247Z\", \"created_time\": \"2021-02-07T09:19:25.954248Z\", \"created_time_dt\": \"2021-02-07T09:19:25.954248Z\", \"duration\": \"0:01:04\", \"iteration\": \"43\", \"goal\": \"accuracy_max\", \"run_name\": \"StandardScalerWrapper, XGBoostClassifier\", \"run_properties\": \"<azureml.automl.runtime.shared.model_wrappers.StandardScalerWrapper object at 0x7f4612b697b8\", \"primary_metric\": 0.8327361, \"best_metric\": 0.86188087}, {\"run_id\": \"AutoML_be0a801b-c90c-4aa6-84d7-3aef5a669649_44\", \"run_number\": 50, \"metric\": null, \"status\": \"Completed\", \"run_type\": \"azureml.scriptrun\", \"training_percent\": \"100\", \"start_time\": \"2021-02-07T09:19:51.743333Z\", \"end_time\": \"2021-02-07T09:20:37.595227Z\", \"created_time\": \"2021-02-07T09:19:39.023626Z\", \"created_time_dt\": \"2021-02-07T09:19:39.023626Z\", \"duration\": \"0:00:58\", \"iteration\": \"44\", \"goal\": \"accuracy_max\", \"run_name\": \"StandardScalerWrapper, LightGBM\", \"run_properties\": \"<azureml.automl.runtime.shared.model_wrappers.StandardScalerWrapper object at 0x7f2b51b41cc0\", \"primary_metric\": 0.8473483, \"best_metric\": 0.86188087}, {\"run_id\": \"AutoML_be0a801b-c90c-4aa6-84d7-3aef5a669649_45\", \"run_number\": 51, \"metric\": null, \"status\": \"Completed\", \"run_type\": \"azureml.scriptrun\", \"training_percent\": \"100\", \"start_time\": \"2021-02-07T09:20:30.508064Z\", \"end_time\": \"2021-02-07T09:21:24.16383Z\", \"created_time\": \"2021-02-07T09:20:17.961777Z\", \"created_time_dt\": \"2021-02-07T09:20:17.961777Z\", \"duration\": \"0:01:06\", \"iteration\": \"45\", \"goal\": \"accuracy_max\", \"run_name\": \"StandardScalerWrapper, RandomForest\", \"run_properties\": \"<azureml.automl.runtime.shared.model_wrappers.StandardScalerWrapper object at 0x7f1a5d5aaf28\", \"primary_metric\": 0.84730849, \"best_metric\": 0.86188087}, {\"run_id\": \"AutoML_be0a801b-c90c-4aa6-84d7-3aef5a669649_46\", \"run_number\": 52, \"metric\": null, \"status\": \"Completed\", \"run_type\": \"azureml.scriptrun\", \"training_percent\": \"100\", \"start_time\": \"2021-02-07T09:20:38.269519Z\", \"end_time\": \"2021-02-07T09:21:27.29668Z\", \"created_time\": \"2021-02-07T09:20:24.838247Z\", \"created_time_dt\": \"2021-02-07T09:20:24.838247Z\", \"duration\": \"0:01:02\", \"iteration\": \"46\", \"goal\": \"accuracy_max\", \"run_name\": \"StandardScalerWrapper, ExtremeRandomTrees\", \"run_properties\": \"<azureml.automl.runtime.shared.model_wrappers.StandardScalerWrapper object at 0x7fd2d6bcd6d8\", \"primary_metric\": 0.83643892, \"best_metric\": 0.86188087}, {\"run_id\": \"AutoML_be0a801b-c90c-4aa6-84d7-3aef5a669649_47\", \"run_number\": 53, \"metric\": null, \"status\": \"Completed\", \"run_type\": \"azureml.scriptrun\", \"training_percent\": \"100\", \"start_time\": \"2021-02-07T09:20:44.832242Z\", \"end_time\": \"2021-02-07T09:21:26.871373Z\", \"created_time\": \"2021-02-07T09:20:32.800914Z\", \"created_time_dt\": \"2021-02-07T09:20:32.800914Z\", \"duration\": \"0:00:54\", \"iteration\": \"47\", \"goal\": \"accuracy_max\", \"run_name\": \"MaxAbsScaler, LightGBM\", \"run_properties\": \"copy=True\", \"primary_metric\": 0.85089186, \"best_metric\": 0.86188087}, {\"run_id\": \"AutoML_be0a801b-c90c-4aa6-84d7-3aef5a669649_48\", \"run_number\": 54, \"metric\": null, \"status\": \"Completed\", \"run_type\": \"azureml.scriptrun\", \"training_percent\": \"100\", \"start_time\": \"2021-02-07T09:20:52.208244Z\", \"end_time\": \"2021-02-07T09:21:44.089213Z\", \"created_time\": \"2021-02-07T09:20:39.768956Z\", \"created_time_dt\": \"2021-02-07T09:20:39.768956Z\", \"duration\": \"0:01:04\", \"iteration\": \"48\", \"goal\": \"accuracy_max\", \"run_name\": \"RobustScaler, LightGBM\", \"run_properties\": \"copy=True, quantile_range=[10, 90], with_centering=True,\\n             with_scaling=False\", \"primary_metric\": 0.83281573, \"best_metric\": 0.86188087}, {\"run_id\": \"AutoML_be0a801b-c90c-4aa6-84d7-3aef5a669649_49\", \"run_number\": 55, \"metric\": null, \"status\": \"Completed\", \"run_type\": \"azureml.scriptrun\", \"training_percent\": \"100\", \"start_time\": \"2021-02-07T09:21:39.358329Z\", \"end_time\": \"2021-02-07T09:22:22.725513Z\", \"created_time\": \"2021-02-07T09:21:25.829338Z\", \"created_time_dt\": \"2021-02-07T09:21:25.829338Z\", \"duration\": \"0:00:56\", \"iteration\": \"49\", \"goal\": \"accuracy_max\", \"run_name\": \"StandardScalerWrapper, LightGBM\", \"run_properties\": \"<azureml.automl.runtime.shared.model_wrappers.StandardScalerWrapper object at 0x7fb5a0500c50\", \"primary_metric\": 0.8400223, \"best_metric\": 0.86188087}, {\"run_id\": \"AutoML_be0a801b-c90c-4aa6-84d7-3aef5a669649_51\", \"run_number\": 56, \"metric\": null, \"status\": \"Completed\", \"run_type\": \"azureml.scriptrun\", \"training_percent\": \"100\", \"start_time\": \"2021-02-07T09:21:44.316395Z\", \"end_time\": \"2021-02-07T09:22:35.500383Z\", \"created_time\": \"2021-02-07T09:21:32.196595Z\", \"created_time_dt\": \"2021-02-07T09:21:32.196595Z\", \"duration\": \"0:01:03\", \"iteration\": \"51\", \"goal\": \"accuracy_max\", \"run_name\": \"SparseNormalizer, LightGBM\", \"run_properties\": \"<azureml.automl.runtime.shared.model_wrappers.SparseNormalizer object at 0x7f0f614c25c0\", \"primary_metric\": 0.81462016, \"best_metric\": 0.86188087}, {\"run_id\": \"AutoML_be0a801b-c90c-4aa6-84d7-3aef5a669649_50\", \"run_number\": 57, \"metric\": null, \"status\": \"Completed\", \"run_type\": \"azureml.scriptrun\", \"training_percent\": \"100\", \"start_time\": \"2021-02-07T09:21:44.813432Z\", \"end_time\": \"2021-02-07T09:22:32.449558Z\", \"created_time\": \"2021-02-07T09:21:32.296079Z\", \"created_time_dt\": \"2021-02-07T09:21:32.296079Z\", \"duration\": \"0:01:00\", \"iteration\": \"50\", \"goal\": \"accuracy_max\", \"run_name\": \"SparseNormalizer, RandomForest\", \"run_properties\": \"<azureml.automl.runtime.shared.model_wrappers.SparseNormalizer object at 0x7fe1dd462a20\", \"primary_metric\": 0.78185221, \"best_metric\": 0.86188087}, {\"run_id\": \"AutoML_be0a801b-c90c-4aa6-84d7-3aef5a669649_52\", \"run_number\": 58, \"metric\": null, \"status\": \"Completed\", \"run_type\": \"azureml.scriptrun\", \"training_percent\": \"100\", \"start_time\": \"2021-02-07T09:22:00.358404Z\", \"end_time\": \"2021-02-07T09:23:01.904604Z\", \"created_time\": \"2021-02-07T09:21:46.312109Z\", \"created_time_dt\": \"2021-02-07T09:21:46.312109Z\", \"duration\": \"0:01:15\", \"iteration\": \"52\", \"goal\": \"accuracy_max\", \"run_name\": \"MaxAbsScaler, RandomForest\", \"run_properties\": \"copy=True\", \"primary_metric\": 0.85459468, \"best_metric\": 0.86188087}, {\"run_id\": \"AutoML_be0a801b-c90c-4aa6-84d7-3aef5a669649_53\", \"run_number\": 59, \"metric\": null, \"status\": \"Completed\", \"run_type\": \"azureml.scriptrun\", \"training_percent\": \"100\", \"start_time\": \"2021-02-07T09:22:36.222474Z\", \"end_time\": \"2021-02-07T09:23:26.238785Z\", \"created_time\": \"2021-02-07T09:22:24.787943Z\", \"created_time_dt\": \"2021-02-07T09:22:24.787943Z\", \"duration\": \"0:01:01\", \"iteration\": \"53\", \"goal\": \"accuracy_max\", \"run_name\": \"MaxAbsScaler, RandomForest\", \"run_properties\": \"copy=True\", \"primary_metric\": 0.81458035, \"best_metric\": 0.86188087}, {\"run_id\": \"AutoML_be0a801b-c90c-4aa6-84d7-3aef5a669649_54\", \"run_number\": 60, \"metric\": null, \"status\": \"Completed\", \"run_type\": \"azureml.scriptrun\", \"training_percent\": \"100\", \"start_time\": \"2021-02-07T09:22:46.031386Z\", \"end_time\": \"2021-02-07T09:23:31.90886Z\", \"created_time\": \"2021-02-07T09:22:34.054097Z\", \"created_time_dt\": \"2021-02-07T09:22:34.054097Z\", \"duration\": \"0:00:57\", \"iteration\": \"54\", \"goal\": \"accuracy_max\", \"run_name\": \"StandardScalerWrapper, XGBoostClassifier\", \"run_properties\": \"<azureml.automl.runtime.shared.model_wrappers.StandardScalerWrapper object at 0x7f51f390db70\", \"primary_metric\": 0.84372512, \"best_metric\": 0.86188087}, {\"run_id\": \"AutoML_be0a801b-c90c-4aa6-84d7-3aef5a669649_55\", \"run_number\": 61, \"metric\": null, \"status\": \"Completed\", \"run_type\": \"azureml.scriptrun\", \"training_percent\": \"100\", \"start_time\": \"2021-02-07T09:22:51.350009Z\", \"end_time\": \"2021-02-07T09:23:43.08418Z\", \"created_time\": \"2021-02-07T09:22:38.120217Z\", \"created_time_dt\": \"2021-02-07T09:22:38.120217Z\", \"duration\": \"0:01:04\", \"iteration\": \"55\", \"goal\": \"accuracy_max\", \"run_name\": \"StandardScalerWrapper, RandomForest\", \"run_properties\": \"<azureml.automl.runtime.shared.model_wrappers.StandardScalerWrapper object at 0x7f4848a04b38\", \"primary_metric\": 0.84364548, \"best_metric\": 0.86188087}, {\"run_id\": \"AutoML_be0a801b-c90c-4aa6-84d7-3aef5a669649_56\", \"run_number\": 62, \"metric\": null, \"status\": \"Completed\", \"run_type\": \"azureml.scriptrun\", \"training_percent\": \"100\", \"start_time\": \"2021-02-07T09:23:17.284109Z\", \"end_time\": \"2021-02-07T09:24:09.223076Z\", \"created_time\": \"2021-02-07T09:23:03.658725Z\", \"created_time_dt\": \"2021-02-07T09:23:03.658725Z\", \"duration\": \"0:01:05\", \"iteration\": \"56\", \"goal\": \"accuracy_max\", \"run_name\": \"StandardScalerWrapper, LightGBM\", \"run_properties\": \"<azureml.automl.runtime.shared.model_wrappers.StandardScalerWrapper object at 0x7fa929c41eb8\", \"primary_metric\": 0.78901895, \"best_metric\": 0.86188087}, {\"run_id\": \"AutoML_be0a801b-c90c-4aa6-84d7-3aef5a669649_57\", \"run_number\": 63, \"metric\": null, \"status\": \"Completed\", \"run_type\": \"azureml.scriptrun\", \"training_percent\": \"100\", \"start_time\": \"2021-02-07T09:23:41.383144Z\", \"end_time\": \"2021-02-07T09:24:33.612437Z\", \"created_time\": \"2021-02-07T09:23:28.007292Z\", \"created_time_dt\": \"2021-02-07T09:23:28.007292Z\", \"duration\": \"0:01:05\", \"iteration\": \"57\", \"goal\": \"accuracy_max\", \"run_name\": \"StandardScalerWrapper, XGBoostClassifier\", \"run_properties\": \"<azureml.automl.runtime.shared.model_wrappers.StandardScalerWrapper object at 0x7f6d4572fb70\", \"primary_metric\": 0.79288103, \"best_metric\": 0.86188087}, {\"run_id\": \"AutoML_be0a801b-c90c-4aa6-84d7-3aef5a669649_58\", \"run_number\": 64, \"metric\": null, \"status\": \"Completed\", \"run_type\": \"azureml.scriptrun\", \"training_percent\": \"100\", \"start_time\": \"2021-02-07T09:23:46.494228Z\", \"end_time\": \"2021-02-07T09:24:32.553641Z\", \"created_time\": \"2021-02-07T09:23:33.672776Z\", \"created_time_dt\": \"2021-02-07T09:23:33.672776Z\", \"duration\": \"0:00:58\", \"iteration\": \"58\", \"goal\": \"accuracy_max\", \"run_name\": \"MaxAbsScaler, LightGBM\", \"run_properties\": \"copy=True\", \"primary_metric\": 0.84738812, \"best_metric\": 0.86188087}, {\"run_id\": \"AutoML_be0a801b-c90c-4aa6-84d7-3aef5a669649_59\", \"run_number\": 65, \"metric\": null, \"status\": \"Completed\", \"run_type\": \"azureml.scriptrun\", \"training_percent\": \"100\", \"start_time\": \"2021-02-07T09:23:55.838053Z\", \"end_time\": \"2021-02-07T09:24:40.436457Z\", \"created_time\": \"2021-02-07T09:23:44.787622Z\", \"created_time_dt\": \"2021-02-07T09:23:44.787622Z\", \"duration\": \"0:00:55\", \"iteration\": \"59\", \"goal\": \"accuracy_max\", \"run_name\": \"StandardScalerWrapper, LightGBM\", \"run_properties\": \"<azureml.automl.runtime.shared.model_wrappers.StandardScalerWrapper object at 0x7fed6959b5c0\", \"primary_metric\": 0.83635929, \"best_metric\": 0.86188087}, {\"run_id\": \"AutoML_be0a801b-c90c-4aa6-84d7-3aef5a669649_60\", \"run_number\": 66, \"metric\": null, \"status\": \"Completed\", \"run_type\": \"azureml.scriptrun\", \"training_percent\": \"100\", \"start_time\": \"2021-02-07T09:24:23.523618Z\", \"end_time\": \"2021-02-07T09:25:14.312474Z\", \"created_time\": \"2021-02-07T09:24:12.168656Z\", \"created_time_dt\": \"2021-02-07T09:24:12.168656Z\", \"duration\": \"0:01:02\", \"iteration\": \"60\", \"goal\": \"accuracy_max\", \"run_name\": \"MinMaxScaler, RandomForest\", \"run_properties\": \"copy=True, feature_range=(0, 1\", \"primary_metric\": 0.67992515, \"best_metric\": 0.86188087}, {\"run_id\": \"AutoML_be0a801b-c90c-4aa6-84d7-3aef5a669649_61\", \"run_number\": 67, \"metric\": null, \"status\": \"Completed\", \"run_type\": \"azureml.scriptrun\", \"training_percent\": \"100\", \"start_time\": \"2021-02-07T09:24:45.678146Z\", \"end_time\": \"2021-02-07T09:25:30.615768Z\", \"created_time\": \"2021-02-07T09:24:34.310762Z\", \"created_time_dt\": \"2021-02-07T09:24:34.310762Z\", \"duration\": \"0:00:56\", \"iteration\": \"61\", \"goal\": \"accuracy_max\", \"run_name\": \"StandardScalerWrapper, XGBoostClassifier\", \"run_properties\": \"<azureml.automl.runtime.shared.model_wrappers.StandardScalerWrapper object at 0x7feefbf29978\", \"primary_metric\": 0.82915273, \"best_metric\": 0.86188087}, {\"run_id\": \"AutoML_be0a801b-c90c-4aa6-84d7-3aef5a669649_62\", \"run_number\": 68, \"metric\": null, \"status\": \"Completed\", \"run_type\": \"azureml.scriptrun\", \"training_percent\": \"100\", \"start_time\": \"2021-02-07T09:24:49.382907Z\", \"end_time\": \"2021-02-07T09:25:39.036902Z\", \"created_time\": \"2021-02-07T09:24:37.30989Z\", \"created_time_dt\": \"2021-02-07T09:24:37.30989Z\", \"duration\": \"0:01:01\", \"iteration\": \"62\", \"goal\": \"accuracy_max\", \"run_name\": \"StandardScalerWrapper, LightGBM\", \"run_properties\": \"<azureml.automl.runtime.shared.model_wrappers.StandardScalerWrapper object at 0x7fe010468a20\", \"primary_metric\": 0.85097149, \"best_metric\": 0.86188087}, {\"run_id\": \"AutoML_be0a801b-c90c-4aa6-84d7-3aef5a669649_63\", \"run_number\": 69, \"metric\": null, \"status\": \"Completed\", \"run_type\": \"azureml.scriptrun\", \"training_percent\": \"100\", \"start_time\": \"2021-02-07T09:24:51.906263Z\", \"end_time\": \"2021-02-07T09:25:39.43028Z\", \"created_time\": \"2021-02-07T09:24:42.142675Z\", \"created_time_dt\": \"2021-02-07T09:24:42.142675Z\", \"duration\": \"0:00:57\", \"iteration\": \"63\", \"goal\": \"accuracy_max\", \"run_name\": \"MaxAbsScaler, LightGBM\", \"run_properties\": \"copy=True\", \"primary_metric\": 0.76003344, \"best_metric\": 0.86188087}, {\"run_id\": \"AutoML_be0a801b-c90c-4aa6-84d7-3aef5a669649_64\", \"run_number\": 70, \"metric\": null, \"status\": \"Completed\", \"run_type\": \"azureml.scriptrun\", \"training_percent\": \"100\", \"start_time\": \"2021-02-07T09:25:25.905806Z\", \"end_time\": \"2021-02-07T09:26:13.44486Z\", \"created_time\": \"2021-02-07T09:25:15.881001Z\", \"created_time_dt\": \"2021-02-07T09:25:15.881001Z\", \"duration\": \"0:00:57\", \"iteration\": \"64\", \"goal\": \"accuracy_max\", \"run_name\": \"MaxAbsScaler, LightGBM\", \"run_properties\": \"copy=True\", \"primary_metric\": 0.78909858, \"best_metric\": 0.86188087}, {\"run_id\": \"AutoML_be0a801b-c90c-4aa6-84d7-3aef5a669649_65\", \"run_number\": 71, \"metric\": null, \"status\": \"Completed\", \"run_type\": \"azureml.scriptrun\", \"training_percent\": \"100\", \"start_time\": \"2021-02-07T09:25:50.014055Z\", \"end_time\": \"2021-02-07T09:26:54.369816Z\", \"created_time\": \"2021-02-07T09:25:33.354535Z\", \"created_time_dt\": \"2021-02-07T09:25:33.354535Z\", \"duration\": \"0:01:21\", \"iteration\": \"65\", \"goal\": \"accuracy_max\", \"run_name\": \"MaxAbsScaler, RandomForest\", \"run_properties\": \"copy=True\", \"primary_metric\": 0.84364548, \"best_metric\": 0.86188087}, {\"run_id\": \"AutoML_be0a801b-c90c-4aa6-84d7-3aef5a669649_66\", \"run_number\": 72, \"metric\": null, \"status\": \"Completed\", \"run_type\": \"azureml.scriptrun\", \"training_percent\": \"100\", \"start_time\": \"2021-02-07T09:25:53.641302Z\", \"end_time\": \"2021-02-07T09:26:41.714838Z\", \"created_time\": \"2021-02-07T09:25:41.099881Z\", \"created_time_dt\": \"2021-02-07T09:25:41.099881Z\", \"duration\": \"0:01:00\", \"iteration\": \"66\", \"goal\": \"accuracy_max\", \"run_name\": \"StandardScalerWrapper, XGBoostClassifier\", \"run_properties\": \"<azureml.automl.runtime.shared.model_wrappers.StandardScalerWrapper object at 0x7f4276018cf8\", \"primary_metric\": 0.83281573, \"best_metric\": 0.86188087}, {\"run_id\": \"AutoML_be0a801b-c90c-4aa6-84d7-3aef5a669649_67\", \"run_number\": 73, \"metric\": null, \"status\": \"Completed\", \"run_type\": \"azureml.scriptrun\", \"training_percent\": \"100\", \"start_time\": \"2021-02-07T09:26:00.782952Z\", \"end_time\": \"2021-02-07T09:26:48.128641Z\", \"created_time\": \"2021-02-07T09:25:45.670442Z\", \"created_time_dt\": \"2021-02-07T09:25:45.670442Z\", \"duration\": \"0:01:02\", \"iteration\": \"67\", \"goal\": \"accuracy_max\", \"run_name\": \"SparseNormalizer, LightGBM\", \"run_properties\": \"<azureml.automl.runtime.shared.model_wrappers.SparseNormalizer object at 0x7effeb0d2c18\", \"primary_metric\": 0.78185221, \"best_metric\": 0.86188087}, {\"run_id\": \"AutoML_be0a801b-c90c-4aa6-84d7-3aef5a669649_68\", \"run_number\": 74, \"metric\": null, \"status\": \"Completed\", \"run_type\": \"azureml.scriptrun\", \"training_percent\": \"100\", \"start_time\": \"2021-02-07T09:26:26.4869Z\", \"end_time\": \"2021-02-07T09:27:14.000599Z\", \"created_time\": \"2021-02-07T09:26:15.344672Z\", \"created_time_dt\": \"2021-02-07T09:26:15.344672Z\", \"duration\": \"0:00:58\", \"iteration\": \"68\", \"goal\": \"accuracy_max\", \"run_name\": \"MaxAbsScaler, LightGBM\", \"run_properties\": \"copy=True\", \"primary_metric\": 0.8473483, \"best_metric\": 0.86188087}, {\"run_id\": \"AutoML_be0a801b-c90c-4aa6-84d7-3aef5a669649_69\", \"run_number\": 75, \"metric\": null, \"status\": \"Completed\", \"run_type\": \"azureml.scriptrun\", \"training_percent\": \"100\", \"start_time\": \"2021-02-07T09:26:57.319183Z\", \"end_time\": \"2021-02-07T09:27:46.373489Z\", \"created_time\": \"2021-02-07T09:26:44.462023Z\", \"created_time_dt\": \"2021-02-07T09:26:44.462023Z\", \"duration\": \"0:01:01\", \"iteration\": \"69\", \"goal\": \"accuracy_max\", \"run_name\": \"MinMaxScaler, LightGBM\", \"run_properties\": \"copy=True, feature_range=(0, 1\", \"primary_metric\": 0.81820354, \"best_metric\": 0.86188087}, {\"run_id\": \"AutoML_be0a801b-c90c-4aa6-84d7-3aef5a669649_70\", \"run_number\": 76, \"metric\": null, \"status\": \"Completed\", \"run_type\": \"azureml.scriptrun\", \"training_percent\": \"100\", \"start_time\": \"2021-02-07T09:27:03.983476Z\", \"end_time\": \"2021-02-07T09:27:52.797694Z\", \"created_time\": \"2021-02-07T09:26:51.283006Z\", \"created_time_dt\": \"2021-02-07T09:26:51.283006Z\", \"duration\": \"0:01:01\", \"iteration\": \"70\", \"goal\": \"accuracy_max\", \"run_name\": \"StandardScalerWrapper, RandomForest\", \"run_properties\": \"<azureml.automl.runtime.shared.model_wrappers.StandardScalerWrapper object at 0x7fdf05270470\", \"primary_metric\": 0.8473483, \"best_metric\": 0.86188087}, {\"run_id\": \"AutoML_be0a801b-c90c-4aa6-84d7-3aef5a669649_71\", \"run_number\": 77, \"metric\": null, \"status\": \"Completed\", \"run_type\": \"azureml.scriptrun\", \"training_percent\": \"100\", \"start_time\": \"2021-02-07T09:27:06.3566Z\", \"end_time\": \"2021-02-07T09:27:53.038229Z\", \"created_time\": \"2021-02-07T09:26:56.10478Z\", \"created_time_dt\": \"2021-02-07T09:26:56.10478Z\", \"duration\": \"0:00:56\", \"iteration\": \"71\", \"goal\": \"accuracy_max\", \"run_name\": \"StandardScalerWrapper, LightGBM\", \"run_properties\": \"<azureml.automl.runtime.shared.model_wrappers.StandardScalerWrapper object at 0x7f789188ac18\", \"primary_metric\": 0.75266762, \"best_metric\": 0.86188087}, {\"run_id\": \"AutoML_be0a801b-c90c-4aa6-84d7-3aef5a669649_72\", \"run_number\": 78, \"metric\": null, \"status\": \"Completed\", \"run_type\": \"azureml.scriptrun\", \"training_percent\": \"100\", \"start_time\": \"2021-02-07T09:27:26.942091Z\", \"end_time\": \"2021-02-07T09:28:14.572719Z\", \"created_time\": \"2021-02-07T09:27:16.178671Z\", \"created_time_dt\": \"2021-02-07T09:27:16.178671Z\", \"duration\": \"0:00:58\", \"iteration\": \"72\", \"goal\": \"accuracy_max\", \"run_name\": \"StandardScalerWrapper, XGBoostClassifier\", \"run_properties\": \"<azureml.automl.runtime.shared.model_wrappers.StandardScalerWrapper object at 0x7f4f265c7ba8\", \"primary_metric\": 0.8473483, \"best_metric\": 0.86188087}, {\"run_id\": \"AutoML_be0a801b-c90c-4aa6-84d7-3aef5a669649_73\", \"run_number\": 79, \"metric\": null, \"status\": \"Completed\", \"run_type\": \"azureml.scriptrun\", \"training_percent\": \"100\", \"start_time\": \"2021-02-07T09:27:58.458778Z\", \"end_time\": \"2021-02-07T09:28:46.124303Z\", \"created_time\": \"2021-02-07T09:27:48.237333Z\", \"created_time_dt\": \"2021-02-07T09:27:48.237333Z\", \"duration\": \"0:00:57\", \"iteration\": \"73\", \"goal\": \"accuracy_max\", \"run_name\": \"StandardScalerWrapper, RandomForest\", \"run_properties\": \"<azureml.automl.runtime.shared.model_wrappers.StandardScalerWrapper object at 0x7fa2f9192f98\", \"primary_metric\": 0.84372512, \"best_metric\": 0.86188087}, {\"run_id\": \"AutoML_be0a801b-c90c-4aa6-84d7-3aef5a669649_74\", \"run_number\": 80, \"metric\": null, \"status\": \"Completed\", \"run_type\": \"azureml.scriptrun\", \"training_percent\": \"100\", \"start_time\": \"2021-02-07T09:28:08.110154Z\", \"end_time\": \"2021-02-07T09:29:03.064632Z\", \"created_time\": \"2021-02-07T09:27:55.458485Z\", \"created_time_dt\": \"2021-02-07T09:27:55.458485Z\", \"duration\": \"0:01:07\", \"iteration\": \"74\", \"goal\": \"accuracy_max\", \"run_name\": \"MaxAbsScaler, RandomForest\", \"run_properties\": \"copy=True\", \"primary_metric\": 0.84010193, \"best_metric\": 0.86188087}, {\"run_id\": \"AutoML_be0a801b-c90c-4aa6-84d7-3aef5a669649_75\", \"run_number\": 81, \"metric\": null, \"status\": \"Completed\", \"run_type\": \"azureml.scriptrun\", \"training_percent\": \"100\", \"start_time\": \"2021-02-07T09:28:23.436913Z\", \"end_time\": \"2021-02-07T09:29:11.468497Z\", \"created_time\": \"2021-02-07T09:27:55.565311Z\", \"created_time_dt\": \"2021-02-07T09:27:55.565311Z\", \"duration\": \"0:01:15\", \"iteration\": \"75\", \"goal\": \"accuracy_max\", \"run_name\": \"MaxAbsScaler, ExtremeRandomTrees\", \"run_properties\": \"copy=True\", \"primary_metric\": 0.84726867, \"best_metric\": 0.86188087}, {\"run_id\": \"AutoML_be0a801b-c90c-4aa6-84d7-3aef5a669649_76\", \"run_number\": 82, \"metric\": null, \"status\": \"Completed\", \"run_type\": \"azureml.scriptrun\", \"training_percent\": \"100\", \"start_time\": \"2021-02-07T09:28:26.430268Z\", \"end_time\": \"2021-02-07T09:29:14.410138Z\", \"created_time\": \"2021-02-07T09:28:16.276369Z\", \"created_time_dt\": \"2021-02-07T09:28:16.276369Z\", \"duration\": \"0:00:58\", \"iteration\": \"76\", \"goal\": \"accuracy_max\", \"run_name\": \"StandardScalerWrapper, LightGBM\", \"run_properties\": \"<azureml.automl.runtime.shared.model_wrappers.StandardScalerWrapper object at 0x7f39e83d5e80\", \"primary_metric\": 0.8400223, \"best_metric\": 0.86188087}, {\"run_id\": \"AutoML_be0a801b-c90c-4aa6-84d7-3aef5a669649_77\", \"run_number\": 83, \"metric\": null, \"status\": \"Completed\", \"run_type\": \"azureml.scriptrun\", \"training_percent\": \"100\", \"start_time\": \"2021-02-07T09:29:01.485726Z\", \"end_time\": \"2021-02-07T09:29:47.335349Z\", \"created_time\": \"2021-02-07T09:28:47.901852Z\", \"created_time_dt\": \"2021-02-07T09:28:47.901852Z\", \"duration\": \"0:00:59\", \"iteration\": \"77\", \"goal\": \"accuracy_max\", \"run_name\": \"MinMaxScaler, LightGBM\", \"run_properties\": \"copy=True, feature_range=(0, 1\", \"primary_metric\": 0.8400223, \"best_metric\": 0.86188087}, {\"run_id\": \"AutoML_be0a801b-c90c-4aa6-84d7-3aef5a669649_78\", \"run_number\": 84, \"metric\": null, \"status\": \"Completed\", \"run_type\": \"azureml.scriptrun\", \"training_percent\": \"100\", \"start_time\": \"2021-02-07T09:29:15.19274Z\", \"end_time\": \"2021-02-07T09:30:05.569758Z\", \"created_time\": \"2021-02-07T09:29:04.827442Z\", \"created_time_dt\": \"2021-02-07T09:29:04.827442Z\", \"duration\": \"0:01:00\", \"iteration\": \"78\", \"goal\": \"accuracy_max\", \"run_name\": \"MaxAbsScaler, LightGBM\", \"run_properties\": \"copy=True\", \"primary_metric\": 0.82174709, \"best_metric\": 0.86188087}, {\"run_id\": \"AutoML_be0a801b-c90c-4aa6-84d7-3aef5a669649_79\", \"run_number\": 85, \"metric\": null, \"status\": \"Completed\", \"run_type\": \"azureml.scriptrun\", \"training_percent\": \"100\", \"start_time\": \"2021-02-07T09:29:27.338066Z\", \"end_time\": \"2021-02-07T09:30:13.881337Z\", \"created_time\": \"2021-02-07T09:29:13.697576Z\", \"created_time_dt\": \"2021-02-07T09:29:13.697576Z\", \"duration\": \"0:01:00\", \"iteration\": \"79\", \"goal\": \"accuracy_max\", \"run_name\": \"MaxAbsScaler, LightGBM\", \"run_properties\": \"copy=True\", \"primary_metric\": 0.83635929, \"best_metric\": 0.86188087}, {\"run_id\": \"AutoML_be0a801b-c90c-4aa6-84d7-3aef5a669649_80\", \"run_number\": 86, \"metric\": null, \"status\": \"Completed\", \"run_type\": \"azureml.scriptrun\", \"training_percent\": \"100\", \"start_time\": \"2021-02-07T09:29:30.377819Z\", \"end_time\": \"2021-02-07T09:30:19.666514Z\", \"created_time\": \"2021-02-07T09:29:17.578402Z\", \"created_time_dt\": \"2021-02-07T09:29:17.578402Z\", \"duration\": \"0:01:02\", \"iteration\": \"80\", \"goal\": \"accuracy_max\", \"run_name\": \"StandardScalerWrapper, RandomForest\", \"run_properties\": \"<azureml.automl.runtime.shared.model_wrappers.StandardScalerWrapper object at 0x7f76b636cdd8\", \"primary_metric\": 0.79284122, \"best_metric\": 0.86188087}, {\"run_id\": \"AutoML_be0a801b-c90c-4aa6-84d7-3aef5a669649_81\", \"run_number\": 87, \"metric\": null, \"status\": \"Completed\", \"run_type\": \"azureml.scriptrun\", \"training_percent\": \"100\", \"start_time\": \"2021-02-07T09:30:01.441789Z\", \"end_time\": \"2021-02-07T09:30:53.167282Z\", \"created_time\": \"2021-02-07T09:29:49.206829Z\", \"created_time_dt\": \"2021-02-07T09:29:49.206829Z\", \"duration\": \"0:01:03\", \"iteration\": \"81\", \"goal\": \"accuracy_max\", \"run_name\": \"StandardScalerWrapper, XGBoostClassifier\", \"run_properties\": \"<azureml.automl.runtime.shared.model_wrappers.StandardScalerWrapper object at 0x7f8fa52847b8\", \"primary_metric\": 0.83635929, \"best_metric\": 0.86188087}, {\"run_id\": \"AutoML_be0a801b-c90c-4aa6-84d7-3aef5a669649_82\", \"run_number\": 88, \"metric\": null, \"status\": \"Completed\", \"run_type\": \"azureml.scriptrun\", \"training_percent\": \"100\", \"start_time\": \"2021-02-07T09:30:18.196395Z\", \"end_time\": \"2021-02-07T09:31:11.599133Z\", \"created_time\": \"2021-02-07T09:30:07.806269Z\", \"created_time_dt\": \"2021-02-07T09:30:07.806269Z\", \"duration\": \"0:01:03\", \"iteration\": \"82\", \"goal\": \"accuracy_max\", \"run_name\": \"StandardScalerWrapper, LightGBM\", \"run_properties\": \"<azureml.automl.runtime.shared.model_wrappers.StandardScalerWrapper object at 0x7f1696cd3358\", \"primary_metric\": 0.84006211, \"best_metric\": 0.86188087}, {\"run_id\": \"AutoML_be0a801b-c90c-4aa6-84d7-3aef5a669649_83\", \"run_number\": 89, \"metric\": null, \"status\": \"Completed\", \"run_type\": \"azureml.scriptrun\", \"training_percent\": \"100\", \"start_time\": \"2021-02-07T09:30:27.655626Z\", \"end_time\": \"2021-02-07T09:31:22.64014Z\", \"created_time\": \"2021-02-07T09:30:15.609407Z\", \"created_time_dt\": \"2021-02-07T09:30:15.609407Z\", \"duration\": \"0:01:07\", \"iteration\": \"83\", \"goal\": \"accuracy_max\", \"run_name\": \"StandardScalerWrapper, XGBoostClassifier\", \"run_properties\": \"<azureml.automl.runtime.shared.model_wrappers.StandardScalerWrapper object at 0x7f844dbdcc18\", \"primary_metric\": 0.82915273, \"best_metric\": 0.86188087}, {\"run_id\": \"AutoML_be0a801b-c90c-4aa6-84d7-3aef5a669649_84\", \"run_number\": 90, \"metric\": null, \"status\": \"Completed\", \"run_type\": \"azureml.scriptrun\", \"training_percent\": \"100\", \"start_time\": \"2021-02-07T09:30:32.373333Z\", \"end_time\": \"2021-02-07T09:31:20.440188Z\", \"created_time\": \"2021-02-07T09:30:21.964181Z\", \"created_time_dt\": \"2021-02-07T09:30:21.964181Z\", \"duration\": \"0:00:58\", \"iteration\": \"84\", \"goal\": \"accuracy_max\", \"run_name\": \"StandardScalerWrapper, XGBoostClassifier\", \"run_properties\": \"<azureml.automl.runtime.shared.model_wrappers.StandardScalerWrapper object at 0x7fe6f271d0f0\", \"primary_metric\": 0.83277592, \"best_metric\": 0.86188087}, {\"run_id\": \"AutoML_be0a801b-c90c-4aa6-84d7-3aef5a669649_85\", \"run_number\": 91, \"metric\": null, \"status\": \"Completed\", \"run_type\": \"azureml.scriptrun\", \"training_percent\": \"100\", \"start_time\": \"2021-02-07T09:31:06.920737Z\", \"end_time\": \"2021-02-07T09:31:53.134186Z\", \"created_time\": \"2021-02-07T09:30:56.014454Z\", \"created_time_dt\": \"2021-02-07T09:30:56.014454Z\", \"duration\": \"0:00:57\", \"iteration\": \"85\", \"goal\": \"accuracy_max\", \"run_name\": \"StandardScalerWrapper, RandomForest\", \"run_properties\": \"<azureml.automl.runtime.shared.model_wrappers.StandardScalerWrapper object at 0x7f5b8bb4f4e0\", \"primary_metric\": 0.80721452, \"best_metric\": 0.86188087}, {\"run_id\": \"AutoML_be0a801b-c90c-4aa6-84d7-3aef5a669649_86\", \"run_number\": 92, \"metric\": null, \"status\": \"Completed\", \"run_type\": \"azureml.scriptrun\", \"training_percent\": \"100\", \"start_time\": \"2021-02-07T09:31:26.592517Z\", \"end_time\": \"2021-02-07T09:32:17.161231Z\", \"created_time\": \"2021-02-07T09:31:14.130324Z\", \"created_time_dt\": \"2021-02-07T09:31:14.130324Z\", \"duration\": \"0:01:03\", \"iteration\": \"86\", \"goal\": \"accuracy_max\", \"run_name\": \"StandardScalerWrapper, XGBoostClassifier\", \"run_properties\": \"<azureml.automl.runtime.shared.model_wrappers.StandardScalerWrapper object at 0x7f671b14fc50\", \"primary_metric\": 0.84006211, \"best_metric\": 0.86188087}, {\"run_id\": \"AutoML_be0a801b-c90c-4aa6-84d7-3aef5a669649_87\", \"run_number\": 93, \"metric\": null, \"status\": \"Completed\", \"run_type\": \"azureml.scriptrun\", \"training_percent\": \"100\", \"start_time\": \"2021-02-07T09:31:37.438845Z\", \"end_time\": \"2021-02-07T09:32:29.912429Z\", \"created_time\": \"2021-02-07T09:31:23.096174Z\", \"created_time_dt\": \"2021-02-07T09:31:23.096174Z\", \"duration\": \"0:01:06\", \"iteration\": \"87\", \"goal\": \"accuracy_max\", \"run_name\": \"StandardScalerWrapper, LightGBM\", \"run_properties\": \"<azureml.automl.runtime.shared.model_wrappers.StandardScalerWrapper object at 0x7f8e62c07fd0\", \"primary_metric\": 0.85821787, \"best_metric\": 0.86188087}, {\"run_id\": \"AutoML_be0a801b-c90c-4aa6-84d7-3aef5a669649_88\", \"run_number\": 94, \"metric\": null, \"status\": \"Completed\", \"run_type\": \"azureml.scriptrun\", \"training_percent\": \"100\", \"start_time\": \"2021-02-07T09:31:43.512068Z\", \"end_time\": \"2021-02-07T09:32:37.458386Z\", \"created_time\": \"2021-02-07T09:31:30.402512Z\", \"created_time_dt\": \"2021-02-07T09:31:30.402512Z\", \"duration\": \"0:01:07\", \"iteration\": \"88\", \"goal\": \"accuracy_max\", \"run_name\": \"MinMaxScaler, GradientBoosting\", \"run_properties\": \"copy=True, feature_range=(0, 1\", \"primary_metric\": 0.83281573, \"best_metric\": 0.86188087}, {\"run_id\": \"AutoML_be0a801b-c90c-4aa6-84d7-3aef5a669649_89\", \"run_number\": 95, \"metric\": null, \"status\": \"Completed\", \"run_type\": \"azureml.scriptrun\", \"training_percent\": \"100\", \"start_time\": \"2021-02-07T09:32:11.017511Z\", \"end_time\": \"2021-02-07T09:33:08.51424Z\", \"created_time\": \"2021-02-07T09:31:56.673053Z\", \"created_time_dt\": \"2021-02-07T09:31:56.673053Z\", \"duration\": \"0:01:11\", \"iteration\": \"89\", \"goal\": \"accuracy_max\", \"run_name\": \"StandardScalerWrapper, XGBoostClassifier\", \"run_properties\": \"<azureml.automl.runtime.shared.model_wrappers.StandardScalerWrapper object at 0x7f7db4218c88\", \"primary_metric\": 0.83643892, \"best_metric\": 0.86188087}, {\"run_id\": \"AutoML_be0a801b-c90c-4aa6-84d7-3aef5a669649_90\", \"run_number\": 96, \"metric\": null, \"status\": \"Completed\", \"run_type\": \"azureml.scriptrun\", \"training_percent\": \"100\", \"start_time\": \"2021-02-07T09:32:31.738286Z\", \"end_time\": \"2021-02-07T09:33:19.757553Z\", \"created_time\": \"2021-02-07T09:32:20.019618Z\", \"created_time_dt\": \"2021-02-07T09:32:20.019618Z\", \"duration\": \"0:00:59\", \"iteration\": \"90\", \"goal\": \"accuracy_max\", \"run_name\": \"StandardScalerWrapper, RandomForest\", \"run_properties\": \"<azureml.automl.runtime.shared.model_wrappers.StandardScalerWrapper object at 0x7fad11b8a550\", \"primary_metric\": 0.83643892, \"best_metric\": 0.86188087}, {\"run_id\": \"AutoML_be0a801b-c90c-4aa6-84d7-3aef5a669649_91\", \"run_number\": 97, \"metric\": null, \"status\": \"Completed\", \"run_type\": \"azureml.scriptrun\", \"training_percent\": \"100\", \"start_time\": \"2021-02-07T09:32:44.424964Z\", \"end_time\": \"2021-02-07T09:33:33.813834Z\", \"created_time\": \"2021-02-07T09:32:31.663522Z\", \"created_time_dt\": \"2021-02-07T09:32:31.663522Z\", \"duration\": \"0:01:02\", \"iteration\": \"91\", \"goal\": \"accuracy_max\", \"run_name\": \"StandardScalerWrapper, LightGBM\", \"run_properties\": \"<azureml.automl.runtime.shared.model_wrappers.StandardScalerWrapper object at 0x7fed8ee700f0\", \"primary_metric\": 0.84364548, \"best_metric\": 0.86188087}, {\"run_id\": \"AutoML_be0a801b-c90c-4aa6-84d7-3aef5a669649_92\", \"run_number\": 98, \"metric\": null, \"status\": \"Completed\", \"run_type\": \"azureml.scriptrun\", \"training_percent\": \"100\", \"start_time\": \"2021-02-07T09:32:53.318773Z\", \"end_time\": \"2021-02-07T09:33:38.455566Z\", \"created_time\": \"2021-02-07T09:32:39.585504Z\", \"created_time_dt\": \"2021-02-07T09:32:39.585504Z\", \"duration\": \"0:00:58\", \"iteration\": \"92\", \"goal\": \"accuracy_max\", \"run_name\": \"StandardScalerWrapper, LightGBM\", \"run_properties\": \"<azureml.automl.runtime.shared.model_wrappers.StandardScalerWrapper object at 0x7f3cba652ba8\", \"primary_metric\": 0.81450072, \"best_metric\": 0.86188087}, {\"run_id\": \"AutoML_be0a801b-c90c-4aa6-84d7-3aef5a669649_93\", \"run_number\": 99, \"metric\": null, \"status\": \"Completed\", \"run_type\": \"azureml.scriptrun\", \"training_percent\": \"100\", \"start_time\": \"2021-02-07T09:33:25.490029Z\", \"end_time\": \"2021-02-07T09:34:11.558807Z\", \"created_time\": \"2021-02-07T09:33:11.39551Z\", \"created_time_dt\": \"2021-02-07T09:33:11.39551Z\", \"duration\": \"0:01:00\", \"iteration\": \"93\", \"goal\": \"accuracy_max\", \"run_name\": \"StandardScalerWrapper, XGBoostClassifier\", \"run_properties\": \"<azureml.automl.runtime.shared.model_wrappers.StandardScalerWrapper object at 0x7faaea7e3d30\", \"primary_metric\": 0.85459468, \"best_metric\": 0.86188087}, {\"run_id\": \"AutoML_be0a801b-c90c-4aa6-84d7-3aef5a669649_94\", \"run_number\": 100, \"metric\": null, \"status\": \"Completed\", \"run_type\": \"azureml.scriptrun\", \"training_percent\": \"100\", \"start_time\": \"2021-02-07T09:33:34.840833Z\", \"end_time\": \"2021-02-07T09:34:29.853053Z\", \"created_time\": \"2021-02-07T09:33:22.772895Z\", \"created_time_dt\": \"2021-02-07T09:33:22.772895Z\", \"duration\": \"0:01:07\", \"iteration\": \"94\", \"goal\": \"accuracy_max\", \"run_name\": \"StandardScalerWrapper, LightGBM\", \"run_properties\": \"<azureml.automl.runtime.shared.model_wrappers.StandardScalerWrapper object at 0x7fbf06c3e0b8\", \"primary_metric\": 0.82903329, \"best_metric\": 0.86188087}, {\"run_id\": \"AutoML_be0a801b-c90c-4aa6-84d7-3aef5a669649_95\", \"run_number\": 101, \"metric\": null, \"status\": \"Completed\", \"run_type\": \"azureml.scriptrun\", \"training_percent\": \"100\", \"start_time\": \"2021-02-07T09:34:05.619464Z\", \"end_time\": \"2021-02-07T09:34:44.325839Z\", \"created_time\": \"2021-02-07T09:33:37.471223Z\", \"created_time_dt\": \"2021-02-07T09:33:37.471223Z\", \"duration\": \"0:01:06\", \"iteration\": \"95\", \"goal\": \"accuracy_max\", \"run_name\": \"StandardScalerWrapper, RandomForest\", \"run_properties\": \"<azureml.automl.runtime.shared.model_wrappers.StandardScalerWrapper object at 0x7f09bb6f4940\", \"primary_metric\": 0.8436853, \"best_metric\": 0.86188087}, {\"run_id\": \"AutoML_be0a801b-c90c-4aa6-84d7-3aef5a669649_96\", \"run_number\": 102, \"metric\": null, \"status\": \"Completed\", \"run_type\": \"azureml.scriptrun\", \"training_percent\": \"100\", \"start_time\": \"2021-02-07T09:33:53.493558Z\", \"end_time\": \"2021-02-07T09:34:52.0552Z\", \"created_time\": \"2021-02-07T09:33:43.410131Z\", \"created_time_dt\": \"2021-02-07T09:33:43.410131Z\", \"duration\": \"0:01:08\", \"iteration\": \"96\", \"goal\": \"accuracy_max\", \"run_name\": \"MaxAbsScaler, RandomForest\", \"run_properties\": \"copy=True\", \"primary_metric\": 0.8473483, \"best_metric\": 0.86188087}, {\"run_id\": \"AutoML_be0a801b-c90c-4aa6-84d7-3aef5a669649_97\", \"run_number\": 103, \"metric\": null, \"status\": \"Completed\", \"run_type\": \"azureml.scriptrun\", \"training_percent\": \"100\", \"start_time\": \"2021-02-07T09:34:25.930583Z\", \"end_time\": \"2021-02-07T09:35:24.867147Z\", \"created_time\": \"2021-02-07T09:34:13.89398Z\", \"created_time_dt\": \"2021-02-07T09:34:13.89398Z\", \"duration\": \"0:01:10\", \"iteration\": \"97\", \"goal\": \"accuracy_max\", \"run_name\": \"StandardScalerWrapper, XGBoostClassifier\", \"run_properties\": \"<azureml.automl.runtime.shared.model_wrappers.StandardScalerWrapper object at 0x7f3ffc12b9b0\", \"primary_metric\": 0.84372512, \"best_metric\": 0.86188087}, {\"run_id\": \"AutoML_be0a801b-c90c-4aa6-84d7-3aef5a669649_98\", \"run_number\": 104, \"metric\": null, \"status\": \"Canceled\", \"run_type\": \"azureml.scriptrun\", \"training_percent\": \"100\", \"start_time\": \"2021-02-07T09:34:46.156248Z\", \"end_time\": \"2021-02-07T09:35:33.147501Z\", \"created_time\": \"2021-02-07T09:34:32.328675Z\", \"created_time_dt\": \"2021-02-07T09:34:32.328675Z\", \"duration\": \"0:01:00\", \"iteration\": \"98\", \"goal\": \"accuracy_max\", \"run_name\": \"StandardScalerWrapper, XGBoostClassifier\", \"run_properties\": \"<azureml.automl.runtime.shared.model_wrappers.StandardScalerWrapper object at 0x7fe9c07dd710\", \"primary_metric\": 0.84364548, \"best_metric\": 0.86188087}, {\"run_id\": \"AutoML_be0a801b-c90c-4aa6-84d7-3aef5a669649_99\", \"run_number\": 105, \"metric\": null, \"status\": \"Canceled\", \"run_type\": \"azureml.scriptrun\", \"training_percent\": \"100\", \"start_time\": \"2021-02-07T09:35:02.963722Z\", \"end_time\": \"2021-02-07T09:35:32.924124Z\", \"created_time\": \"2021-02-07T09:34:47.380419Z\", \"created_time_dt\": \"2021-02-07T09:34:47.380419Z\", \"duration\": \"0:00:45\", \"iteration\": \"99\", \"goal\": \"accuracy_max\", \"run_name\": \"StandardScalerWrapper, XGBoostClassifier\", \"run_properties\": \"<azureml.automl.runtime.shared.model_wrappers.StandardScalerWrapper object at 0x7f68e6960e80\", \"primary_metric\": 0.83643892, \"best_metric\": 0.86188087}, {\"run_id\": \"AutoML_be0a801b-c90c-4aa6-84d7-3aef5a669649_100\", \"run_number\": 106, \"metric\": null, \"status\": \"Canceled\", \"run_type\": \"azureml.scriptrun\", \"training_percent\": \"100\", \"start_time\": \"2021-02-07T09:35:05.427Z\", \"end_time\": \"2021-02-07T09:35:31.831695Z\", \"created_time\": \"2021-02-07T09:34:55.096438Z\", \"created_time_dt\": \"2021-02-07T09:34:55.096438Z\", \"duration\": \"0:00:36\", \"iteration\": \"100\", \"goal\": \"accuracy_max\", \"run_name\": \"RobustScaler, RandomForest\", \"run_properties\": \"copy=True, quantile_range=[25, 75], with_centering=True,\\n             with_scaling=True\", \"primary_metric\": 0.74542125, \"best_metric\": 0.86188087}, {\"run_id\": \"AutoML_be0a801b-c90c-4aa6-84d7-3aef5a669649_101\", \"run_number\": 107, \"metric\": null, \"status\": \"Completed\", \"run_type\": \"azureml.scriptrun\", \"training_percent\": \"100\", \"start_time\": \"2021-02-07T09:35:46.437791Z\", \"end_time\": \"2021-02-07T09:37:33.779424Z\", \"created_time\": \"2021-02-07T09:35:34.331725Z\", \"created_time_dt\": \"2021-02-07T09:35:34.331725Z\", \"duration\": \"0:01:59\", \"iteration\": \"101\", \"goal\": \"accuracy_max\", \"run_name\": \"VotingEnsemble\", \"run_properties\": \"classification_labels=None,\\n                              estimators=[('23',\\n                                           Pipeline(memory=None,\\n                                                    steps=[('minmaxscaler',\\n                                                            MinMaxScaler(copy=True,\\n                                                                         feature_range=(0,\\n                                                                                        1\", \"primary_metric\": 0.86558369, \"best_metric\": 0.86558369}, {\"run_id\": \"AutoML_be0a801b-c90c-4aa6-84d7-3aef5a669649_102\", \"run_number\": 108, \"metric\": null, \"status\": \"Completed\", \"run_type\": \"azureml.scriptrun\", \"training_percent\": \"100\", \"start_time\": \"2021-02-07T09:35:47.115368Z\", \"end_time\": \"2021-02-07T09:37:24.055661Z\", \"created_time\": \"2021-02-07T09:35:34.338843Z\", \"created_time_dt\": \"2021-02-07T09:35:34.338843Z\", \"duration\": \"0:01:49\", \"iteration\": \"102\", \"goal\": \"accuracy_max\", \"run_name\": \"StackEnsemble\", \"run_properties\": \"base_learners=[('23',\\n                                        Pipeline(memory=None,\\n                                                 steps=[('minmaxscaler',\\n                                                         MinMaxScaler(copy=True,\\n                                                                      feature_range=(0,\\n                                                                                     1\", \"primary_metric\": 0.84738812, \"best_metric\": 0.86558369}], \"children_metrics\": {\"categories\": [0], \"series\": {\"average_precision_score_macro\": [{\"categories\": [\"0\", \"1\", \"2\", \"3\", \"4\", \"5\", \"6\", \"7\", \"8\", \"9\", \"10\", \"11\", \"12\", \"13\", \"14\", \"15\", \"16\", \"17\", \"18\", \"19\", \"20\", \"21\", \"22\", \"23\", \"24\", \"25\", \"26\", \"27\", \"28\", \"29\", \"30\", \"31\", \"32\", \"33\", \"34\", \"35\", \"36\", \"37\", \"38\", \"39\", \"40\", \"41\", \"42\", \"43\", \"44\", \"45\", \"46\", \"47\", \"48\", \"49\", \"50\", \"51\", \"52\", \"53\", \"54\", \"55\", \"56\", \"57\", \"58\", \"59\", \"60\", \"61\", \"62\", \"63\", \"64\", \"65\", \"66\", \"67\", \"68\", \"69\", \"70\", \"71\", \"72\", \"73\", \"74\", \"75\", \"76\", \"77\", \"78\", \"79\", \"80\", \"81\", \"82\", \"83\", \"84\", \"85\", \"86\", \"87\", \"88\", \"89\", \"90\", \"91\", \"92\", \"93\", \"94\", \"95\", \"96\", \"97\", \"98\", \"99\", \"100\", \"101\", \"102\"], \"mode\": \"markers\", \"name\": \"average_precision_score_macro\", \"stepped\": false, \"type\": \"scatter\", \"data\": [0.8557994405670005, 0.8634059061619218, 0.8544763448011027, 0.8875526692970005, 0.8783820217890161, 0.8766084400994817, 0.759146584880969, 0.8802801780947632, 0.893396654972587, 0.8577213586114872, 0.8831016624162994, 0.8773416947816738, 0.8535629100155931, 0.8784978883550241, 0.886192977839364, 0.8668213193102391, 0.8861675585696153, 0.8310973005275666, 0.8815717460377842, 0.8316700725201619, 0.8683687835538434, 0.8612093655341879, 0.8737141544757954, 0.8866210617595335, 0.8930433378707953, 0.7269318072828262, 0.8223986475646224, 0.8625282562236801, 0.8237149352287574, 0.866976509515658, 0.8891276963885177, 0.8609865047565366, 0.8986141024612803, 0.8721924686775971, 0.865710531755986, 0.8834333824902892, 0.8728587640151363, 0.8529299879570522, 0.8753880489375497, 0.8740006905264889, 0.8833264040989629, 0.8666607712418716, 0.8617033101645099, 0.8415373723686669, 0.8703454827811493, 0.8768268109544651, 0.8850153094404707, 0.8698903036149362, 0.8662940681368155, 0.8838071636716368, 0.8182528291573424, 0.8441468831783698, 0.899120163331364, 0.8765618320348185, 0.8603755993450312, 0.8763256604121944, 0.8670555143884099, 0.8699001326299575, 0.883513662444711, 0.863370795153554, 0.7861240768192532, 0.8655638203687378, 0.8769644096584539, 0.8593656555568785, 0.8680444914616308, 0.8675636477936011, 0.8916005687325481, 0.8535797025632625, 0.8604464560557868, 0.8719020240907575, 0.8859529930587628, 0.859536702937454, 0.8845314721811582, 0.8954803716950083, 0.8777101277046381, 0.8694037033264861, 0.8774142673870644, 0.8722297281693429, 0.8781302865944177, 0.8885987269345038, 0.8787187307001637, 0.839186900469029, 0.874603078218041, 0.8606709738290306, 0.860711711062201, 0.8886190906971851, 0.8683319216410834, 0.8859531028887627, 0.858477992449262, 0.8825604300194203, 0.889338050259623, 0.8813038913531847, 0.8758415257301899, 0.8839085145336613, 0.8619252401338295, 0.8886808733103556, 0.9014989080550989, 0.874079587933312, 0.8614810927327433, 0.8759303873549961, 0.869461905762677, 0.8857527785630507, 0.8916289872401979]}, {\"categories\": [\"0\", \"1\", \"2\", \"3\", \"4\", \"5\", \"6\", \"7\", \"8\", \"9\", \"10\", \"11\", \"12\", \"13\", \"14\", \"15\", \"16\", \"17\", \"18\", \"19\", \"20\", \"21\", \"22\", \"23\", \"24\", \"25\", \"26\", \"27\", \"28\", \"29\", \"30\", \"31\", \"32\", \"33\", \"34\", \"35\", \"36\", \"37\", \"38\", \"39\", \"40\", \"41\", \"42\", \"43\", \"44\", \"45\", \"46\", \"47\", \"48\", \"49\", \"50\", \"51\", \"52\", \"53\", \"54\", \"55\", \"56\", \"57\", \"58\", \"59\", \"60\", \"61\", \"62\", \"63\", \"64\", \"65\", \"66\", \"67\", \"68\", \"69\", \"70\", \"71\", \"72\", \"73\", \"74\", \"75\", \"76\", \"77\", \"78\", \"79\", \"80\", \"81\", \"82\", \"83\", \"84\", \"85\", \"86\", \"87\", \"88\", \"89\", \"90\", \"91\", \"92\", \"93\", \"94\", \"95\", \"96\", \"97\", \"98\", \"99\", \"100\", \"101\", \"102\"], \"mode\": \"lines\", \"name\": \"average_precision_score_macro_max\", \"stepped\": true, \"type\": \"scatter\", \"data\": [0.8557994405670005, 0.8634059061619218, 0.8634059061619218, 0.8875526692970005, 0.8875526692970005, 0.8875526692970005, 0.8875526692970005, 0.8875526692970005, 0.893396654972587, 0.893396654972587, 0.893396654972587, 0.893396654972587, 0.893396654972587, 0.893396654972587, 0.893396654972587, 0.893396654972587, 0.893396654972587, 0.893396654972587, 0.893396654972587, 0.893396654972587, 0.893396654972587, 0.893396654972587, 0.893396654972587, 0.893396654972587, 0.893396654972587, 0.893396654972587, 0.893396654972587, 0.893396654972587, 0.893396654972587, 0.893396654972587, 0.893396654972587, 0.893396654972587, 0.8986141024612803, 0.8986141024612803, 0.8986141024612803, 0.8986141024612803, 0.8986141024612803, 0.8986141024612803, 0.8986141024612803, 0.8986141024612803, 0.8986141024612803, 0.8986141024612803, 0.8986141024612803, 0.8986141024612803, 0.8986141024612803, 0.8986141024612803, 0.8986141024612803, 0.8986141024612803, 0.8986141024612803, 0.8986141024612803, 0.8986141024612803, 0.8986141024612803, 0.899120163331364, 0.899120163331364, 0.899120163331364, 0.899120163331364, 0.899120163331364, 0.899120163331364, 0.899120163331364, 0.899120163331364, 0.899120163331364, 0.899120163331364, 0.899120163331364, 0.899120163331364, 0.899120163331364, 0.899120163331364, 0.899120163331364, 0.899120163331364, 0.899120163331364, 0.899120163331364, 0.899120163331364, 0.899120163331364, 0.899120163331364, 0.899120163331364, 0.899120163331364, 0.899120163331364, 0.899120163331364, 0.899120163331364, 0.899120163331364, 0.899120163331364, 0.899120163331364, 0.899120163331364, 0.899120163331364, 0.899120163331364, 0.899120163331364, 0.899120163331364, 0.899120163331364, 0.899120163331364, 0.899120163331364, 0.899120163331364, 0.899120163331364, 0.899120163331364, 0.899120163331364, 0.899120163331364, 0.899120163331364, 0.899120163331364, 0.9014989080550989, 0.9014989080550989, 0.9014989080550989, 0.9014989080550989, 0.9014989080550989, 0.9014989080550989, 0.9014989080550989]}], \"precision_score_macro\": [{\"categories\": [\"0\", \"1\", \"2\", \"3\", \"4\", \"5\", \"6\", \"7\", \"8\", \"9\", \"10\", \"11\", \"12\", \"13\", \"14\", \"15\", \"16\", \"17\", \"18\", \"19\", \"20\", \"21\", \"22\", \"23\", \"24\", \"25\", \"26\", \"27\", \"28\", \"29\", \"30\", \"31\", \"32\", \"33\", \"34\", \"35\", \"36\", \"37\", \"38\", \"39\", \"40\", \"41\", \"42\", \"43\", \"44\", \"45\", \"46\", \"47\", \"48\", \"49\", \"50\", \"51\", \"52\", \"53\", \"54\", \"55\", \"56\", \"57\", \"58\", \"59\", \"60\", \"61\", \"62\", \"63\", \"64\", \"65\", \"66\", \"67\", \"68\", \"69\", \"70\", \"71\", \"72\", \"73\", \"74\", \"75\", \"76\", \"77\", \"78\", \"79\", \"80\", \"81\", \"82\", \"83\", \"84\", \"85\", \"86\", \"87\", \"88\", \"89\", \"90\", \"91\", \"92\", \"93\", \"94\", \"95\", \"96\", \"97\", \"98\", \"99\", \"100\", \"101\", \"102\"], \"mode\": \"markers\", \"name\": \"precision_score_macro\", \"stepped\": false, \"type\": \"scatter\", \"data\": [0.8137198185659007, 0.8141631864333488, 0.8219560746883152, 0.8257812220746725, 0.817920810090271, 0.8398669963395631, 0.774852028141502, 0.8191473854771237, 0.8258915885194659, 0.810892940626461, 0.8366473289927056, 0.8104537875736354, 0.7890900351721247, 0.8155261796106866, 0.8132435410665968, 0.8473745419311388, 0.8069314406523708, 0.7972386257120196, 0.8288317962231005, 0.7814141049170757, 0.8201947560745676, 0.8240877778026897, 0.8346802685037978, 0.8521121983563299, 0.8124856411862992, 0.7004781502120654, 0.7496370720508652, 0.8055499357909879, 0.7933684257285004, 0.8171804139941394, 0.8188403973287693, 0.8527543090516699, 0.8201722254353833, 0.795962644554194, 0.8327933177933179, 0.8426363067702424, 0.8013042366104169, 0.7783196548821549, 0.8129485114992362, 0.841074130396381, 0.844355385576686, 0.8426363067702424, 0.8107120869973313, 0.8141150516150516, 0.8313375768085912, 0.8429909462518159, 0.8509626229598913, 0.8326995662229256, 0.8258982622473671, 0.8273810600676272, 0.7854151950635327, 0.8038519857271171, 0.8614078409853058, 0.8187569043478963, 0.838402701667473, 0.8304108121816456, 0.8066959156024779, 0.778607139065777, 0.8285650980072315, 0.8402780996085024, 0.33996257365822585, 0.815796444037273, 0.8489918619026601, 0.779443674214916, 0.8405379155881763, 0.8327933177933179, 0.8504725618353675, 0.7977633477633478, 0.8450515533848867, 0.8053769490480027, 0.8382195836905981, 0.8058185938442457, 0.8269406522250548, 0.8340843214756258, 0.8219184717645538, 0.8604369529712779, 0.824943076247424, 0.8225605706357518, 0.8226240946829182, 0.8201320509068534, 0.8175323399139754, 0.8323489976072137, 0.8395650492377916, 0.8092803920213746, 0.8127107924667004, 0.8577051266813257, 0.8277710252414536, 0.8415303025981556, 0.8160496366378719, 0.817261811855754, 0.8572498847677202, 0.8258459326167659, 0.8260896348208613, 0.8367085811097675, 0.8355286069651742, 0.8367523033243346, 0.8378597106218589, 0.8228611902474515, 0.8323361243757663, 0.8156259502830734, 0.8327507231301269, 0.8549456716123384, 0.8262663205023624]}, {\"categories\": [\"0\", \"1\", \"2\", \"3\", \"4\", \"5\", \"6\", \"7\", \"8\", \"9\", \"10\", \"11\", \"12\", \"13\", \"14\", \"15\", \"16\", \"17\", \"18\", \"19\", \"20\", \"21\", \"22\", \"23\", \"24\", \"25\", \"26\", \"27\", \"28\", \"29\", \"30\", \"31\", \"32\", \"33\", \"34\", \"35\", \"36\", \"37\", \"38\", \"39\", \"40\", \"41\", \"42\", \"43\", \"44\", \"45\", \"46\", \"47\", \"48\", \"49\", \"50\", \"51\", \"52\", \"53\", \"54\", \"55\", \"56\", \"57\", \"58\", \"59\", \"60\", \"61\", \"62\", \"63\", \"64\", \"65\", \"66\", \"67\", \"68\", \"69\", \"70\", \"71\", \"72\", \"73\", \"74\", \"75\", \"76\", \"77\", \"78\", \"79\", \"80\", \"81\", \"82\", \"83\", \"84\", \"85\", \"86\", \"87\", \"88\", \"89\", \"90\", \"91\", \"92\", \"93\", \"94\", \"95\", \"96\", \"97\", \"98\", \"99\", \"100\", \"101\", \"102\"], \"mode\": \"lines\", \"name\": \"precision_score_macro_max\", \"stepped\": true, \"type\": \"scatter\", \"data\": [0.8137198185659007, 0.8141631864333488, 0.8219560746883152, 0.8257812220746725, 0.8257812220746725, 0.8398669963395631, 0.8398669963395631, 0.8398669963395631, 0.8398669963395631, 0.8398669963395631, 0.8398669963395631, 0.8398669963395631, 0.8398669963395631, 0.8398669963395631, 0.8398669963395631, 0.8473745419311388, 0.8473745419311388, 0.8473745419311388, 0.8473745419311388, 0.8473745419311388, 0.8473745419311388, 0.8473745419311388, 0.8473745419311388, 0.8521121983563299, 0.8521121983563299, 0.8521121983563299, 0.8521121983563299, 0.8521121983563299, 0.8521121983563299, 0.8521121983563299, 0.8521121983563299, 0.8527543090516699, 0.8527543090516699, 0.8527543090516699, 0.8527543090516699, 0.8527543090516699, 0.8527543090516699, 0.8527543090516699, 0.8527543090516699, 0.8527543090516699, 0.8527543090516699, 0.8527543090516699, 0.8527543090516699, 0.8527543090516699, 0.8527543090516699, 0.8527543090516699, 0.8527543090516699, 0.8527543090516699, 0.8527543090516699, 0.8527543090516699, 0.8527543090516699, 0.8527543090516699, 0.8614078409853058, 0.8614078409853058, 0.8614078409853058, 0.8614078409853058, 0.8614078409853058, 0.8614078409853058, 0.8614078409853058, 0.8614078409853058, 0.8614078409853058, 0.8614078409853058, 0.8614078409853058, 0.8614078409853058, 0.8614078409853058, 0.8614078409853058, 0.8614078409853058, 0.8614078409853058, 0.8614078409853058, 0.8614078409853058, 0.8614078409853058, 0.8614078409853058, 0.8614078409853058, 0.8614078409853058, 0.8614078409853058, 0.8614078409853058, 0.8614078409853058, 0.8614078409853058, 0.8614078409853058, 0.8614078409853058, 0.8614078409853058, 0.8614078409853058, 0.8614078409853058, 0.8614078409853058, 0.8614078409853058, 0.8614078409853058, 0.8614078409853058, 0.8614078409853058, 0.8614078409853058, 0.8614078409853058, 0.8614078409853058, 0.8614078409853058, 0.8614078409853058, 0.8614078409853058, 0.8614078409853058, 0.8614078409853058, 0.8614078409853058, 0.8614078409853058, 0.8614078409853058, 0.8614078409853058, 0.8614078409853058, 0.8614078409853058, 0.8614078409853058]}], \"average_precision_score_micro\": [{\"categories\": [\"0\", \"1\", \"2\", \"3\", \"4\", \"5\", \"6\", \"7\", \"8\", \"9\", \"10\", \"11\", \"12\", \"13\", \"14\", \"15\", \"16\", \"17\", \"18\", \"19\", \"20\", \"21\", \"22\", \"23\", \"24\", \"25\", \"26\", \"27\", \"28\", \"29\", \"30\", \"31\", \"32\", \"33\", \"34\", \"35\", \"36\", \"37\", \"38\", \"39\", \"40\", \"41\", \"42\", \"43\", \"44\", \"45\", \"46\", \"47\", \"48\", \"49\", \"50\", \"51\", \"52\", \"53\", \"54\", \"55\", \"56\", \"57\", \"58\", \"59\", \"60\", \"61\", \"62\", \"63\", \"64\", \"65\", \"66\", \"67\", \"68\", \"69\", \"70\", \"71\", \"72\", \"73\", \"74\", \"75\", \"76\", \"77\", \"78\", \"79\", \"80\", \"81\", \"82\", \"83\", \"84\", \"85\", \"86\", \"87\", \"88\", \"89\", \"90\", \"91\", \"92\", \"93\", \"94\", \"95\", \"96\", \"97\", \"98\", \"99\", \"100\", \"101\", \"102\"], \"mode\": \"markers\", \"name\": \"average_precision_score_micro\", \"stepped\": false, \"type\": \"scatter\", \"data\": [0.8981949386928388, 0.9011751472152837, 0.90808527375325, 0.9211613621309259, 0.9190775262374435, 0.9090283025209945, 0.8035452713200648, 0.9156833775995764, 0.9135855693616012, 0.9023838456999315, 0.9154795765569795, 0.9024089877736371, 0.8968956796771885, 0.8973755383753096, 0.9141260812869998, 0.9032823616138749, 0.8724826906873001, 0.8724324802512157, 0.9157346434142366, 0.888677314508792, 0.9037944526481203, 0.9026835871792297, 0.8983560211693579, 0.9200597340735044, 0.9184538866483739, 0.7994115881073197, 0.8488748026584446, 0.8924044183133404, 0.8832320967972055, 0.9077418213585503, 0.8738437665043387, 0.8640405041056374, 0.9019959924599611, 0.899066647320847, 0.9007144012993371, 0.9060723428647991, 0.9095094415995896, 0.8922950864720507, 0.9132112961554703, 0.9028057291503143, 0.902853412705594, 0.8997698078084445, 0.9054532778811026, 0.8939854773631151, 0.9067980906666157, 0.9105566729081173, 0.9019242322557774, 0.9068215535761083, 0.9051221238609856, 0.9156457092828383, 0.853159291333215, 0.886273842901914, 0.9203325992302959, 0.8998768451329026, 0.8966184695093351, 0.8988661460705197, 0.8847679690113504, 0.901396483464897, 0.9207913381546401, 0.8949691387327183, 0.7940834136379705, 0.8997573761316643, 0.9120561407190687, 0.8824809180884365, 0.8882080230967384, 0.9150125125013985, 0.9191381467541594, 0.8814441626465322, 0.90356569653171, 0.9113008991801138, 0.9186296234247294, 0.8770280789232777, 0.9226329308286831, 0.9258698830311157, 0.9146372743332042, 0.9069185013532075, 0.9121426153081025, 0.9103188269329966, 0.9054569557003097, 0.9177307553397517, 0.8901192475093431, 0.8784173857841857, 0.9102881240222197, 0.9045449665817292, 0.9017874725398696, 0.8839202943730028, 0.9039974268163333, 0.9178228803922707, 0.9028950475878835, 0.921235492816523, 0.9096410465338463, 0.9182419955347797, 0.9022683206154761, 0.9199528417427457, 0.8904197068061515, 0.9189643632596685, 0.9233868113797171, 0.9159277022769036, 0.9015395071672879, 0.9167121229329916, 0.8569431810056954, 0.9218724429456621, 0.9233196401325353]}, {\"categories\": [\"0\", \"1\", \"2\", \"3\", \"4\", \"5\", \"6\", \"7\", \"8\", \"9\", \"10\", \"11\", \"12\", \"13\", \"14\", \"15\", \"16\", \"17\", \"18\", \"19\", \"20\", \"21\", \"22\", \"23\", \"24\", \"25\", \"26\", \"27\", \"28\", \"29\", \"30\", \"31\", \"32\", \"33\", \"34\", \"35\", \"36\", \"37\", \"38\", \"39\", \"40\", \"41\", \"42\", \"43\", \"44\", \"45\", \"46\", \"47\", \"48\", \"49\", \"50\", \"51\", \"52\", \"53\", \"54\", \"55\", \"56\", \"57\", \"58\", \"59\", \"60\", \"61\", \"62\", \"63\", \"64\", \"65\", \"66\", \"67\", \"68\", \"69\", \"70\", \"71\", \"72\", \"73\", \"74\", \"75\", \"76\", \"77\", \"78\", \"79\", \"80\", \"81\", \"82\", \"83\", \"84\", \"85\", \"86\", \"87\", \"88\", \"89\", \"90\", \"91\", \"92\", \"93\", \"94\", \"95\", \"96\", \"97\", \"98\", \"99\", \"100\", \"101\", \"102\"], \"mode\": \"lines\", \"name\": \"average_precision_score_micro_max\", \"stepped\": true, \"type\": \"scatter\", \"data\": [0.8981949386928388, 0.9011751472152837, 0.90808527375325, 0.9211613621309259, 0.9211613621309259, 0.9211613621309259, 0.9211613621309259, 0.9211613621309259, 0.9211613621309259, 0.9211613621309259, 0.9211613621309259, 0.9211613621309259, 0.9211613621309259, 0.9211613621309259, 0.9211613621309259, 0.9211613621309259, 0.9211613621309259, 0.9211613621309259, 0.9211613621309259, 0.9211613621309259, 0.9211613621309259, 0.9211613621309259, 0.9211613621309259, 0.9211613621309259, 0.9211613621309259, 0.9211613621309259, 0.9211613621309259, 0.9211613621309259, 0.9211613621309259, 0.9211613621309259, 0.9211613621309259, 0.9211613621309259, 0.9211613621309259, 0.9211613621309259, 0.9211613621309259, 0.9211613621309259, 0.9211613621309259, 0.9211613621309259, 0.9211613621309259, 0.9211613621309259, 0.9211613621309259, 0.9211613621309259, 0.9211613621309259, 0.9211613621309259, 0.9211613621309259, 0.9211613621309259, 0.9211613621309259, 0.9211613621309259, 0.9211613621309259, 0.9211613621309259, 0.9211613621309259, 0.9211613621309259, 0.9211613621309259, 0.9211613621309259, 0.9211613621309259, 0.9211613621309259, 0.9211613621309259, 0.9211613621309259, 0.9211613621309259, 0.9211613621309259, 0.9211613621309259, 0.9211613621309259, 0.9211613621309259, 0.9211613621309259, 0.9211613621309259, 0.9211613621309259, 0.9211613621309259, 0.9211613621309259, 0.9211613621309259, 0.9211613621309259, 0.9211613621309259, 0.9211613621309259, 0.9226329308286831, 0.9258698830311157, 0.9258698830311157, 0.9258698830311157, 0.9258698830311157, 0.9258698830311157, 0.9258698830311157, 0.9258698830311157, 0.9258698830311157, 0.9258698830311157, 0.9258698830311157, 0.9258698830311157, 0.9258698830311157, 0.9258698830311157, 0.9258698830311157, 0.9258698830311157, 0.9258698830311157, 0.9258698830311157, 0.9258698830311157, 0.9258698830311157, 0.9258698830311157, 0.9258698830311157, 0.9258698830311157, 0.9258698830311157, 0.9258698830311157, 0.9258698830311157, 0.9258698830311157, 0.9258698830311157, 0.9258698830311157, 0.9258698830311157, 0.9258698830311157]}], \"balanced_accuracy\": [{\"categories\": [\"0\", \"1\", \"2\", \"3\", \"4\", \"5\", \"6\", \"7\", \"8\", \"9\", \"10\", \"11\", \"12\", \"13\", \"14\", \"15\", \"16\", \"17\", \"18\", \"19\", \"20\", \"21\", \"22\", \"23\", \"24\", \"25\", \"26\", \"27\", \"28\", \"29\", \"30\", \"31\", \"32\", \"33\", \"34\", \"35\", \"36\", \"37\", \"38\", \"39\", \"40\", \"41\", \"42\", \"43\", \"44\", \"45\", \"46\", \"47\", \"48\", \"49\", \"50\", \"51\", \"52\", \"53\", \"54\", \"55\", \"56\", \"57\", \"58\", \"59\", \"60\", \"61\", \"62\", \"63\", \"64\", \"65\", \"66\", \"67\", \"68\", \"69\", \"70\", \"71\", \"72\", \"73\", \"74\", \"75\", \"76\", \"77\", \"78\", \"79\", \"80\", \"81\", \"82\", \"83\", \"84\", \"85\", \"86\", \"87\", \"88\", \"89\", \"90\", \"91\", \"92\", \"93\", \"94\", \"95\", \"96\", \"97\", \"98\", \"99\", \"100\", \"101\", \"102\"], \"mode\": \"markers\", \"name\": \"balanced_accuracy\", \"stepped\": false, \"type\": \"scatter\", \"data\": [0.7997924516741722, 0.7876711699292344, 0.8112520295315995, 0.7840218423551756, 0.804562233863309, 0.7879606653800203, 0.6759381797016206, 0.7986030695708116, 0.7860483105106763, 0.7776353276353275, 0.790648837423031, 0.7194130441442269, 0.7573943877707318, 0.7113186594369391, 0.7461201482706858, 0.7684472934472936, 0.580002603927335, 0.740449713567993, 0.8000375271880648, 0.768307140887786, 0.7668933615170174, 0.8048655148117513, 0.7633742303097142, 0.8182925895291486, 0.8286600496277915, 0.7263027295285359, 0.768569065343259, 0.8122622001654259, 0.7624720460741967, 0.7940232209049413, 0.587280580828968, 0.5558940661091198, 0.6935866801458199, 0.6966976074502957, 0.7930337285175995, 0.7796824740373127, 0.7658923812149618, 0.7683714732101828, 0.7880295928683024, 0.7660624023527248, 0.7720560303893637, 0.7796824740373127, 0.7904489477070124, 0.7884883435958704, 0.8048310510676101, 0.7932129399871336, 0.7652214869956806, 0.8209095365009343, 0.773364886805747, 0.7910869099041141, 0.6820083938363508, 0.7552890359341973, 0.7964287902459946, 0.7399970897282726, 0.7868608890114266, 0.7956322948258432, 0.6949552737187146, 0.7054238274668382, 0.8108591428483901, 0.7743061299512912, 0.5, 0.7776805134332015, 0.7994753852280733, 0.6370707349201973, 0.6764084183439022, 0.7930337285175995, 0.7548226265968202, 0.6838548846613363, 0.7933025457219006, 0.7520341267653095, 0.7990962840425206, 0.6205143522347824, 0.8061950494746194, 0.793809545691266, 0.799971663143706, 0.7819432956529729, 0.7940783628955671, 0.7966769292038108, 0.7552201084459149, 0.7919178690684067, 0.68829534662868, 0.7756701283583004, 0.783111999509849, 0.7859931685200502, 0.7920419385473149, 0.7053411144808995, 0.7945608553135436, 0.8259481358943725, 0.7893882302484453, 0.7934404006984653, 0.7608507183776, 0.806458505652054, 0.7380257635633979, 0.82338403333027, 0.7635534417792482, 0.7909973041693471, 0.7996339184511226, 0.8083501822749136, 0.7976526360934963, 0.7923061605857304, 0.6105083785191311, 0.8238826088288453, 0.8128404252060166]}, {\"categories\": [\"0\", \"1\", \"2\", \"3\", \"4\", \"5\", \"6\", \"7\", \"8\", \"9\", \"10\", \"11\", \"12\", \"13\", \"14\", \"15\", \"16\", \"17\", \"18\", \"19\", \"20\", \"21\", \"22\", \"23\", \"24\", \"25\", \"26\", \"27\", \"28\", \"29\", \"30\", \"31\", \"32\", \"33\", \"34\", \"35\", \"36\", \"37\", \"38\", \"39\", \"40\", \"41\", \"42\", \"43\", \"44\", \"45\", \"46\", \"47\", \"48\", \"49\", \"50\", \"51\", \"52\", \"53\", \"54\", \"55\", \"56\", \"57\", \"58\", \"59\", \"60\", \"61\", \"62\", \"63\", \"64\", \"65\", \"66\", \"67\", \"68\", \"69\", \"70\", \"71\", \"72\", \"73\", \"74\", \"75\", \"76\", \"77\", \"78\", \"79\", \"80\", \"81\", \"82\", \"83\", \"84\", \"85\", \"86\", \"87\", \"88\", \"89\", \"90\", \"91\", \"92\", \"93\", \"94\", \"95\", \"96\", \"97\", \"98\", \"99\", \"100\", \"101\", \"102\"], \"mode\": \"lines\", \"name\": \"balanced_accuracy_max\", \"stepped\": true, \"type\": \"scatter\", \"data\": [0.7997924516741722, 0.7997924516741722, 0.8112520295315995, 0.8112520295315995, 0.8112520295315995, 0.8112520295315995, 0.8112520295315995, 0.8112520295315995, 0.8112520295315995, 0.8112520295315995, 0.8112520295315995, 0.8112520295315995, 0.8112520295315995, 0.8112520295315995, 0.8112520295315995, 0.8112520295315995, 0.8112520295315995, 0.8112520295315995, 0.8112520295315995, 0.8112520295315995, 0.8112520295315995, 0.8112520295315995, 0.8112520295315995, 0.8182925895291486, 0.8286600496277915, 0.8286600496277915, 0.8286600496277915, 0.8286600496277915, 0.8286600496277915, 0.8286600496277915, 0.8286600496277915, 0.8286600496277915, 0.8286600496277915, 0.8286600496277915, 0.8286600496277915, 0.8286600496277915, 0.8286600496277915, 0.8286600496277915, 0.8286600496277915, 0.8286600496277915, 0.8286600496277915, 0.8286600496277915, 0.8286600496277915, 0.8286600496277915, 0.8286600496277915, 0.8286600496277915, 0.8286600496277915, 0.8286600496277915, 0.8286600496277915, 0.8286600496277915, 0.8286600496277915, 0.8286600496277915, 0.8286600496277915, 0.8286600496277915, 0.8286600496277915, 0.8286600496277915, 0.8286600496277915, 0.8286600496277915, 0.8286600496277915, 0.8286600496277915, 0.8286600496277915, 0.8286600496277915, 0.8286600496277915, 0.8286600496277915, 0.8286600496277915, 0.8286600496277915, 0.8286600496277915, 0.8286600496277915, 0.8286600496277915, 0.8286600496277915, 0.8286600496277915, 0.8286600496277915, 0.8286600496277915, 0.8286600496277915, 0.8286600496277915, 0.8286600496277915, 0.8286600496277915, 0.8286600496277915, 0.8286600496277915, 0.8286600496277915, 0.8286600496277915, 0.8286600496277915, 0.8286600496277915, 0.8286600496277915, 0.8286600496277915, 0.8286600496277915, 0.8286600496277915, 0.8286600496277915, 0.8286600496277915, 0.8286600496277915, 0.8286600496277915, 0.8286600496277915, 0.8286600496277915, 0.8286600496277915, 0.8286600496277915, 0.8286600496277915, 0.8286600496277915, 0.8286600496277915, 0.8286600496277915, 0.8286600496277915, 0.8286600496277915, 0.8286600496277915, 0.8286600496277915]}], \"recall_score_micro\": [{\"categories\": [\"0\", \"1\", \"2\", \"3\", \"4\", \"5\", \"6\", \"7\", \"8\", \"9\", \"10\", \"11\", \"12\", \"13\", \"14\", \"15\", \"16\", \"17\", \"18\", \"19\", \"20\", \"21\", \"22\", \"23\", \"24\", \"25\", \"26\", \"27\", \"28\", \"29\", \"30\", \"31\", \"32\", \"33\", \"34\", \"35\", \"36\", \"37\", \"38\", \"39\", \"40\", \"41\", \"42\", \"43\", \"44\", \"45\", \"46\", \"47\", \"48\", \"49\", \"50\", \"51\", \"52\", \"53\", \"54\", \"55\", \"56\", \"57\", \"58\", \"59\", \"60\", \"61\", \"62\", \"63\", \"64\", \"65\", \"66\", \"67\", \"68\", \"69\", \"70\", \"71\", \"72\", \"73\", \"74\", \"75\", \"76\", \"77\", \"78\", \"79\", \"80\", \"81\", \"82\", \"83\", \"84\", \"85\", \"86\", \"87\", \"88\", \"89\", \"90\", \"91\", \"92\", \"93\", \"94\", \"95\", \"96\", \"97\", \"98\", \"99\", \"100\", \"101\", \"102\"], \"mode\": \"markers\", \"name\": \"recall_score_micro\", \"stepped\": false, \"type\": \"scatter\", \"data\": [0.8364389233954451, 0.8327759197324415, 0.8436853002070394, 0.8327759197324415, 0.8400621118012422, 0.8436454849498328, 0.7708631947762382, 0.840181557572862, 0.8363991081382386, 0.8255295429208473, 0.8436853002070394, 0.8073737856346552, 0.8109173435260392, 0.7999283325370282, 0.8182433508520465, 0.8363592928810321, 0.7272256728778469, 0.8035913362000318, 0.8436056696926263, 0.8071348940914159, 0.8254499124064342, 0.8437251154642459, 0.8290731008122313, 0.861880872750438, 0.8401019270584488, 0.7162764771460424, 0.7781892021022455, 0.8326962892180282, 0.8109571587832457, 0.8364787386526517, 0.7344720496894411, 0.7163561076604555, 0.792681955725434, 0.7928810320114668, 0.8436454849498327, 0.8400222965440357, 0.8220258002866698, 0.8034320751712056, 0.832815734989648, 0.8326962892180282, 0.8363592928810321, 0.8400222965440357, 0.8328555502468546, 0.8327361044752349, 0.847348303870043, 0.8473084886128364, 0.8364389233954451, 0.850891861761427, 0.832815734989648, 0.8400222965440357, 0.7818522057652492, 0.8146201624462495, 0.8545946806816372, 0.8145803471890428, 0.8437251154642459, 0.8436454849498327, 0.7890189520624303, 0.7928810320114668, 0.8473881191272495, 0.8363592928810321, 0.6799251473164517, 0.8291527313266444, 0.8509714922758401, 0.7600334448160534, 0.7890985825768434, 0.8436454849498327, 0.832815734989648, 0.7818522057652492, 0.847348303870043, 0.81820353559484, 0.847348303870043, 0.7526676222328397, 0.847348303870043, 0.8437251154642459, 0.8401019270584488, 0.8472686733556299, 0.8400222965440357, 0.8400222965440357, 0.821747093486224, 0.8363592928810321, 0.7928412167542603, 0.8363592928810321, 0.8400621118012422, 0.8291527313266444, 0.8327759197324415, 0.807214524605829, 0.8400621118012422, 0.8582178690874344, 0.832815734989648, 0.8364389233954451, 0.8364389233954451, 0.8436454849498327, 0.8145007166746296, 0.8545946806816372, 0.8290332855550245, 0.8436853002070394, 0.847348303870043, 0.8437251154642459, 0.8436454849498327, 0.8364389233954451, 0.7454212454212454, 0.8655836916706482, 0.8473881191272495]}, {\"categories\": [\"0\", \"1\", \"2\", \"3\", \"4\", \"5\", \"6\", \"7\", \"8\", \"9\", \"10\", \"11\", \"12\", \"13\", \"14\", \"15\", \"16\", \"17\", \"18\", \"19\", \"20\", \"21\", \"22\", \"23\", \"24\", \"25\", \"26\", \"27\", \"28\", \"29\", \"30\", \"31\", \"32\", \"33\", \"34\", \"35\", \"36\", \"37\", \"38\", \"39\", \"40\", \"41\", \"42\", \"43\", \"44\", \"45\", \"46\", \"47\", \"48\", \"49\", \"50\", \"51\", \"52\", \"53\", \"54\", \"55\", \"56\", \"57\", \"58\", \"59\", \"60\", \"61\", \"62\", \"63\", \"64\", \"65\", \"66\", \"67\", \"68\", \"69\", \"70\", \"71\", \"72\", \"73\", \"74\", \"75\", \"76\", \"77\", \"78\", \"79\", \"80\", \"81\", \"82\", \"83\", \"84\", \"85\", \"86\", \"87\", \"88\", \"89\", \"90\", \"91\", \"92\", \"93\", \"94\", \"95\", \"96\", \"97\", \"98\", \"99\", \"100\", \"101\", \"102\"], \"mode\": \"lines\", \"name\": \"recall_score_micro_max\", \"stepped\": true, \"type\": \"scatter\", \"data\": [0.8364389233954451, 0.8364389233954451, 0.8436853002070394, 0.8436853002070394, 0.8436853002070394, 0.8436853002070394, 0.8436853002070394, 0.8436853002070394, 0.8436853002070394, 0.8436853002070394, 0.8436853002070394, 0.8436853002070394, 0.8436853002070394, 0.8436853002070394, 0.8436853002070394, 0.8436853002070394, 0.8436853002070394, 0.8436853002070394, 0.8436853002070394, 0.8436853002070394, 0.8436853002070394, 0.8437251154642459, 0.8437251154642459, 0.861880872750438, 0.861880872750438, 0.861880872750438, 0.861880872750438, 0.861880872750438, 0.861880872750438, 0.861880872750438, 0.861880872750438, 0.861880872750438, 0.861880872750438, 0.861880872750438, 0.861880872750438, 0.861880872750438, 0.861880872750438, 0.861880872750438, 0.861880872750438, 0.861880872750438, 0.861880872750438, 0.861880872750438, 0.861880872750438, 0.861880872750438, 0.861880872750438, 0.861880872750438, 0.861880872750438, 0.861880872750438, 0.861880872750438, 0.861880872750438, 0.861880872750438, 0.861880872750438, 0.861880872750438, 0.861880872750438, 0.861880872750438, 0.861880872750438, 0.861880872750438, 0.861880872750438, 0.861880872750438, 0.861880872750438, 0.861880872750438, 0.861880872750438, 0.861880872750438, 0.861880872750438, 0.861880872750438, 0.861880872750438, 0.861880872750438, 0.861880872750438, 0.861880872750438, 0.861880872750438, 0.861880872750438, 0.861880872750438, 0.861880872750438, 0.861880872750438, 0.861880872750438, 0.861880872750438, 0.861880872750438, 0.861880872750438, 0.861880872750438, 0.861880872750438, 0.861880872750438, 0.861880872750438, 0.861880872750438, 0.861880872750438, 0.861880872750438, 0.861880872750438, 0.861880872750438, 0.861880872750438, 0.861880872750438, 0.861880872750438, 0.861880872750438, 0.861880872750438, 0.861880872750438, 0.861880872750438, 0.861880872750438, 0.861880872750438, 0.861880872750438, 0.861880872750438, 0.861880872750438, 0.861880872750438, 0.861880872750438, 0.8655836916706482, 0.8655836916706482]}], \"matthews_correlation\": [{\"categories\": [\"0\", \"1\", \"2\", \"3\", \"4\", \"5\", \"6\", \"7\", \"8\", \"9\", \"10\", \"11\", \"12\", \"13\", \"14\", \"15\", \"16\", \"17\", \"18\", \"19\", \"20\", \"21\", \"22\", \"23\", \"24\", \"25\", \"26\", \"27\", \"28\", \"29\", \"30\", \"31\", \"32\", \"33\", \"34\", \"35\", \"36\", \"37\", \"38\", \"39\", \"40\", \"41\", \"42\", \"43\", \"44\", \"45\", \"46\", \"47\", \"48\", \"49\", \"50\", \"51\", \"52\", \"53\", \"54\", \"55\", \"56\", \"57\", \"58\", \"59\", \"60\", \"61\", \"62\", \"63\", \"64\", \"65\", \"66\", \"67\", \"68\", \"69\", \"70\", \"71\", \"72\", \"73\", \"74\", \"75\", \"76\", \"77\", \"78\", \"79\", \"80\", \"81\", \"82\", \"83\", \"84\", \"85\", \"86\", \"87\", \"88\", \"89\", \"90\", \"91\", \"92\", \"93\", \"94\", \"95\", \"96\", \"97\", \"98\", \"99\", \"100\", \"101\", \"102\"], \"mode\": \"markers\", \"name\": \"matthews_correlation\", \"stepped\": false, \"type\": \"scatter\", \"data\": [0.613350574983902, 0.6011153343393217, 0.6330884605520368, 0.6071290935902438, 0.6221669669435232, 0.6254347908224825, 0.4389102887204057, 0.617348033972864, 0.6105239480556138, 0.5868304843183191, 0.6253849418029067, 0.5208880266975146, 0.5455062155808797, 0.5147146131143786, 0.5548173340606359, 0.6103916267275802, 0.3114132976465776, 0.53303092717699, 0.6282038621715478, 0.5494038961091653, 0.5840588518531363, 0.6286241044460169, 0.5928519066027372, 0.6694053095709354, 0.6409118475047891, 0.4259920484486039, 0.5178280287520206, 0.6177736161195452, 0.554383026816841, 0.610763835742849, 0.3309496334405056, 0.2768952321761555, 0.49788079702559807, 0.48155470018215735, 0.624388412735226, 0.6185587410713359, 0.5654388812478524, 0.5462351809805795, 0.6004333906430616, 0.6016890870175962, 0.6116450713457828, 0.6185587410713359, 0.6007609966531077, 0.6019471057429802, 0.6356068489849188, 0.6339871871057886, 0.6100688049825027, 0.6533653420881237, 0.5968711000299943, 0.6173935703916511, 0.44940220610713855, 0.5566376182730745, 0.6545475557256638, 0.5528609147563139, 0.6229299687125666, 0.624845640477263, 0.4876105034976767, 0.47789022943725507, 0.6390628701460677, 0.6102245467233118, 0.0, 0.5921663395181739, 0.6461198557054715, 0.38987567855588906, 0.4863837893169641, 0.624388412735226, 0.5974026384864746, 0.46778192841819405, 0.6357642463019112, 0.5541254074653102, 0.6359062798616769, 0.3807725015922521, 0.6325649110191948, 0.6265566619347928, 0.6213886016067814, 0.6372298004390239, 0.6182299548238709, 0.6186871825659078, 0.5730218778033027, 0.6113859098964431, 0.48786034057242356, 0.604539013266447, 0.6197639879301652, 0.5947783544837494, 0.6043844876820916, 0.5358914663706441, 0.621018393559952, 0.6672436907192162, 0.6047109392911736, 0.6101977623776419, 0.6098510940790512, 0.6319577225704208, 0.5561358201009986, 0.6598705503194391, 0.5932398139194323, 0.6260701633440777, 0.6362102349974007, 0.6310361536608361, 0.6288682819043486, 0.6072423777276806, 0.36524773658395476, 0.6780488195619266, 0.6388043874804828]}, {\"categories\": [\"0\", \"1\", \"2\", \"3\", \"4\", \"5\", \"6\", \"7\", \"8\", \"9\", \"10\", \"11\", \"12\", \"13\", \"14\", \"15\", \"16\", \"17\", \"18\", \"19\", \"20\", \"21\", \"22\", \"23\", \"24\", \"25\", \"26\", \"27\", \"28\", \"29\", \"30\", \"31\", \"32\", \"33\", \"34\", \"35\", \"36\", \"37\", \"38\", \"39\", \"40\", \"41\", \"42\", \"43\", \"44\", \"45\", \"46\", \"47\", \"48\", \"49\", \"50\", \"51\", \"52\", \"53\", \"54\", \"55\", \"56\", \"57\", \"58\", \"59\", \"60\", \"61\", \"62\", \"63\", \"64\", \"65\", \"66\", \"67\", \"68\", \"69\", \"70\", \"71\", \"72\", \"73\", \"74\", \"75\", \"76\", \"77\", \"78\", \"79\", \"80\", \"81\", \"82\", \"83\", \"84\", \"85\", \"86\", \"87\", \"88\", \"89\", \"90\", \"91\", \"92\", \"93\", \"94\", \"95\", \"96\", \"97\", \"98\", \"99\", \"100\", \"101\", \"102\"], \"mode\": \"lines\", \"name\": \"matthews_correlation_max\", \"stepped\": true, \"type\": \"scatter\", \"data\": [0.613350574983902, 0.613350574983902, 0.6330884605520368, 0.6330884605520368, 0.6330884605520368, 0.6330884605520368, 0.6330884605520368, 0.6330884605520368, 0.6330884605520368, 0.6330884605520368, 0.6330884605520368, 0.6330884605520368, 0.6330884605520368, 0.6330884605520368, 0.6330884605520368, 0.6330884605520368, 0.6330884605520368, 0.6330884605520368, 0.6330884605520368, 0.6330884605520368, 0.6330884605520368, 0.6330884605520368, 0.6330884605520368, 0.6694053095709354, 0.6694053095709354, 0.6694053095709354, 0.6694053095709354, 0.6694053095709354, 0.6694053095709354, 0.6694053095709354, 0.6694053095709354, 0.6694053095709354, 0.6694053095709354, 0.6694053095709354, 0.6694053095709354, 0.6694053095709354, 0.6694053095709354, 0.6694053095709354, 0.6694053095709354, 0.6694053095709354, 0.6694053095709354, 0.6694053095709354, 0.6694053095709354, 0.6694053095709354, 0.6694053095709354, 0.6694053095709354, 0.6694053095709354, 0.6694053095709354, 0.6694053095709354, 0.6694053095709354, 0.6694053095709354, 0.6694053095709354, 0.6694053095709354, 0.6694053095709354, 0.6694053095709354, 0.6694053095709354, 0.6694053095709354, 0.6694053095709354, 0.6694053095709354, 0.6694053095709354, 0.6694053095709354, 0.6694053095709354, 0.6694053095709354, 0.6694053095709354, 0.6694053095709354, 0.6694053095709354, 0.6694053095709354, 0.6694053095709354, 0.6694053095709354, 0.6694053095709354, 0.6694053095709354, 0.6694053095709354, 0.6694053095709354, 0.6694053095709354, 0.6694053095709354, 0.6694053095709354, 0.6694053095709354, 0.6694053095709354, 0.6694053095709354, 0.6694053095709354, 0.6694053095709354, 0.6694053095709354, 0.6694053095709354, 0.6694053095709354, 0.6694053095709354, 0.6694053095709354, 0.6694053095709354, 0.6694053095709354, 0.6694053095709354, 0.6694053095709354, 0.6694053095709354, 0.6694053095709354, 0.6694053095709354, 0.6694053095709354, 0.6694053095709354, 0.6694053095709354, 0.6694053095709354, 0.6694053095709354, 0.6694053095709354, 0.6694053095709354, 0.6694053095709354, 0.6780488195619266, 0.6780488195619266]}], \"recall_score_weighted\": [{\"categories\": [\"0\", \"1\", \"2\", \"3\", \"4\", \"5\", \"6\", \"7\", \"8\", \"9\", \"10\", \"11\", \"12\", \"13\", \"14\", \"15\", \"16\", \"17\", \"18\", \"19\", \"20\", \"21\", \"22\", \"23\", \"24\", \"25\", \"26\", \"27\", \"28\", \"29\", \"30\", \"31\", \"32\", \"33\", \"34\", \"35\", \"36\", \"37\", \"38\", \"39\", \"40\", \"41\", \"42\", \"43\", \"44\", \"45\", \"46\", \"47\", \"48\", \"49\", \"50\", \"51\", \"52\", \"53\", \"54\", \"55\", \"56\", \"57\", \"58\", \"59\", \"60\", \"61\", \"62\", \"63\", \"64\", \"65\", \"66\", \"67\", \"68\", \"69\", \"70\", \"71\", \"72\", \"73\", \"74\", \"75\", \"76\", \"77\", \"78\", \"79\", \"80\", \"81\", \"82\", \"83\", \"84\", \"85\", \"86\", \"87\", \"88\", \"89\", \"90\", \"91\", \"92\", \"93\", \"94\", \"95\", \"96\", \"97\", \"98\", \"99\", \"100\", \"101\", \"102\"], \"mode\": \"markers\", \"name\": \"recall_score_weighted\", \"stepped\": false, \"type\": \"scatter\", \"data\": [0.8364389233954451, 0.8327759197324415, 0.8436853002070394, 0.8327759197324415, 0.8400621118012422, 0.8436454849498328, 0.7708631947762382, 0.840181557572862, 0.8363991081382386, 0.8255295429208473, 0.8436853002070394, 0.8073737856346552, 0.8109173435260392, 0.7999283325370282, 0.8182433508520465, 0.8363592928810321, 0.7272256728778469, 0.8035913362000318, 0.8436056696926263, 0.8071348940914159, 0.8254499124064342, 0.8437251154642459, 0.8290731008122313, 0.861880872750438, 0.8401019270584488, 0.7162764771460424, 0.7781892021022455, 0.8326962892180282, 0.8109571587832457, 0.8364787386526517, 0.7344720496894411, 0.7163561076604555, 0.792681955725434, 0.7928810320114668, 0.8436454849498327, 0.8400222965440357, 0.8220258002866698, 0.8034320751712056, 0.832815734989648, 0.8326962892180282, 0.8363592928810321, 0.8400222965440357, 0.8328555502468546, 0.8327361044752349, 0.847348303870043, 0.8473084886128364, 0.8364389233954451, 0.850891861761427, 0.832815734989648, 0.8400222965440357, 0.7818522057652492, 0.8146201624462495, 0.8545946806816372, 0.8145803471890428, 0.8437251154642459, 0.8436454849498327, 0.7890189520624303, 0.7928810320114668, 0.8473881191272495, 0.8363592928810321, 0.6799251473164517, 0.8291527313266444, 0.8509714922758401, 0.7600334448160534, 0.7890985825768434, 0.8436454849498327, 0.832815734989648, 0.7818522057652492, 0.847348303870043, 0.81820353559484, 0.847348303870043, 0.7526676222328397, 0.847348303870043, 0.8437251154642459, 0.8401019270584488, 0.8472686733556299, 0.8400222965440357, 0.8400222965440357, 0.821747093486224, 0.8363592928810321, 0.7928412167542603, 0.8363592928810321, 0.8400621118012422, 0.8291527313266444, 0.8327759197324415, 0.807214524605829, 0.8400621118012422, 0.8582178690874344, 0.832815734989648, 0.8364389233954451, 0.8364389233954451, 0.8436454849498327, 0.8145007166746296, 0.8545946806816372, 0.8290332855550245, 0.8436853002070394, 0.847348303870043, 0.8437251154642459, 0.8436454849498327, 0.8364389233954451, 0.7454212454212454, 0.8655836916706482, 0.8473881191272495]}, {\"categories\": [\"0\", \"1\", \"2\", \"3\", \"4\", \"5\", \"6\", \"7\", \"8\", \"9\", \"10\", \"11\", \"12\", \"13\", \"14\", \"15\", \"16\", \"17\", \"18\", \"19\", \"20\", \"21\", \"22\", \"23\", \"24\", \"25\", \"26\", \"27\", \"28\", \"29\", \"30\", \"31\", \"32\", \"33\", \"34\", \"35\", \"36\", \"37\", \"38\", \"39\", \"40\", \"41\", \"42\", \"43\", \"44\", \"45\", \"46\", \"47\", \"48\", \"49\", \"50\", \"51\", \"52\", \"53\", \"54\", \"55\", \"56\", \"57\", \"58\", \"59\", \"60\", \"61\", \"62\", \"63\", \"64\", \"65\", \"66\", \"67\", \"68\", \"69\", \"70\", \"71\", \"72\", \"73\", \"74\", \"75\", \"76\", \"77\", \"78\", \"79\", \"80\", \"81\", \"82\", \"83\", \"84\", \"85\", \"86\", \"87\", \"88\", \"89\", \"90\", \"91\", \"92\", \"93\", \"94\", \"95\", \"96\", \"97\", \"98\", \"99\", \"100\", \"101\", \"102\"], \"mode\": \"lines\", \"name\": \"recall_score_weighted_max\", \"stepped\": true, \"type\": \"scatter\", \"data\": [0.8364389233954451, 0.8364389233954451, 0.8436853002070394, 0.8436853002070394, 0.8436853002070394, 0.8436853002070394, 0.8436853002070394, 0.8436853002070394, 0.8436853002070394, 0.8436853002070394, 0.8436853002070394, 0.8436853002070394, 0.8436853002070394, 0.8436853002070394, 0.8436853002070394, 0.8436853002070394, 0.8436853002070394, 0.8436853002070394, 0.8436853002070394, 0.8436853002070394, 0.8436853002070394, 0.8437251154642459, 0.8437251154642459, 0.861880872750438, 0.861880872750438, 0.861880872750438, 0.861880872750438, 0.861880872750438, 0.861880872750438, 0.861880872750438, 0.861880872750438, 0.861880872750438, 0.861880872750438, 0.861880872750438, 0.861880872750438, 0.861880872750438, 0.861880872750438, 0.861880872750438, 0.861880872750438, 0.861880872750438, 0.861880872750438, 0.861880872750438, 0.861880872750438, 0.861880872750438, 0.861880872750438, 0.861880872750438, 0.861880872750438, 0.861880872750438, 0.861880872750438, 0.861880872750438, 0.861880872750438, 0.861880872750438, 0.861880872750438, 0.861880872750438, 0.861880872750438, 0.861880872750438, 0.861880872750438, 0.861880872750438, 0.861880872750438, 0.861880872750438, 0.861880872750438, 0.861880872750438, 0.861880872750438, 0.861880872750438, 0.861880872750438, 0.861880872750438, 0.861880872750438, 0.861880872750438, 0.861880872750438, 0.861880872750438, 0.861880872750438, 0.861880872750438, 0.861880872750438, 0.861880872750438, 0.861880872750438, 0.861880872750438, 0.861880872750438, 0.861880872750438, 0.861880872750438, 0.861880872750438, 0.861880872750438, 0.861880872750438, 0.861880872750438, 0.861880872750438, 0.861880872750438, 0.861880872750438, 0.861880872750438, 0.861880872750438, 0.861880872750438, 0.861880872750438, 0.861880872750438, 0.861880872750438, 0.861880872750438, 0.861880872750438, 0.861880872750438, 0.861880872750438, 0.861880872750438, 0.861880872750438, 0.861880872750438, 0.861880872750438, 0.861880872750438, 0.8655836916706482, 0.8655836916706482]}], \"f1_score_macro\": [{\"categories\": [\"0\", \"1\", \"2\", \"3\", \"4\", \"5\", \"6\", \"7\", \"8\", \"9\", \"10\", \"11\", \"12\", \"13\", \"14\", \"15\", \"16\", \"17\", \"18\", \"19\", \"20\", \"21\", \"22\", \"23\", \"24\", \"25\", \"26\", \"27\", \"28\", \"29\", \"30\", \"31\", \"32\", \"33\", \"34\", \"35\", \"36\", \"37\", \"38\", \"39\", \"40\", \"41\", \"42\", \"43\", \"44\", \"45\", \"46\", \"47\", \"48\", \"49\", \"50\", \"51\", \"52\", \"53\", \"54\", \"55\", \"56\", \"57\", \"58\", \"59\", \"60\", \"61\", \"62\", \"63\", \"64\", \"65\", \"66\", \"67\", \"68\", \"69\", \"70\", \"71\", \"72\", \"73\", \"74\", \"75\", \"76\", \"77\", \"78\", \"79\", \"80\", \"81\", \"82\", \"83\", \"84\", \"85\", \"86\", \"87\", \"88\", \"89\", \"90\", \"91\", \"92\", \"93\", \"94\", \"95\", \"96\", \"97\", \"98\", \"99\", \"100\", \"101\", \"102\"], \"mode\": \"markers\", \"name\": \"f1_score_macro\", \"stepped\": false, \"type\": \"scatter\", \"data\": [0.8059507961576357, 0.7980214870721355, 0.8160536443378915, 0.7959457018077708, 0.8099410596333069, 0.8050754440118325, 0.6903769737832922, 0.8071228981458827, 0.8002382772909734, 0.7879311054323092, 0.8064255219785735, 0.7376301161096362, 0.7689248065109285, 0.729431976777268, 0.7645627693126557, 0.7903393508166311, 0.5579845207796635, 0.7538099313126206, 0.8115672343171362, 0.7732965731197323, 0.7828194724761723, 0.8130329112519324, 0.7824203992900038, 0.8314067537223483, 0.8187914129467977, 0.698646845607982, 0.7549002355438922, 0.8086511082232738, 0.7722518860449895, 0.8035913487104148, 0.5667021633925619, 0.5132244221162306, 0.7135313701747487, 0.7129765276611725, 0.8075105759504541, 0.7985018074794762, 0.7770295753189552, 0.7710143213611095, 0.798040618842519, 0.7861590504337151, 0.7924706381141586, 0.7985018074794762, 0.7988351021531686, 0.7985811637285147, 0.8156608637054675, 0.8100193923579102, 0.7885188149825701, 0.8257237141512066, 0.790674794974377, 0.8048142262151122, 0.6897659796369338, 0.7703348064230638, 0.8173773938479819, 0.7602836533159226, 0.8041916361968182, 0.8086486717770928, 0.7120433524822021, 0.7202366659195167, 0.818184454593147, 0.7930278411784423, 0.40465371160946306, 0.7913385066728451, 0.8159183841005347, 0.6409546131834563, 0.690893706136403, 0.8075105759504541, 0.7788826409919832, 0.7011968195714692, 0.81011682964327, 0.7673761017175993, 0.8133870958066997, 0.6183932052353105, 0.8143558302662816, 0.8086046953629893, 0.8087018345639034, 0.8046954552420024, 0.8060874693990364, 0.8072255652256751, 0.7729883926565045, 0.8030917321492597, 0.7052528562123445, 0.7921448395123916, 0.8010075216011026, 0.7954080162593496, 0.8006374968885397, 0.7213104947332836, 0.8060668296510678, 0.8326801575430265, 0.7995749206055281, 0.8031731999141113, 0.7850803913703355, 0.814526006702577, 0.7579506631027697, 0.8290384017672269, 0.7815738995586604, 0.8073149662310876, 0.8136106175471847, 0.8147815802636345, 0.8103628573749188, 0.8012810041484868, 0.5958005845696626, 0.8362739887255112, 0.8182529956427015]}, {\"categories\": [\"0\", \"1\", \"2\", \"3\", \"4\", \"5\", \"6\", \"7\", \"8\", \"9\", \"10\", \"11\", \"12\", \"13\", \"14\", \"15\", \"16\", \"17\", \"18\", \"19\", \"20\", \"21\", \"22\", \"23\", \"24\", \"25\", \"26\", \"27\", \"28\", \"29\", \"30\", \"31\", \"32\", \"33\", \"34\", \"35\", \"36\", \"37\", \"38\", \"39\", \"40\", \"41\", \"42\", \"43\", \"44\", \"45\", \"46\", \"47\", \"48\", \"49\", \"50\", \"51\", \"52\", \"53\", \"54\", \"55\", \"56\", \"57\", \"58\", \"59\", \"60\", \"61\", \"62\", \"63\", \"64\", \"65\", \"66\", \"67\", \"68\", \"69\", \"70\", \"71\", \"72\", \"73\", \"74\", \"75\", \"76\", \"77\", \"78\", \"79\", \"80\", \"81\", \"82\", \"83\", \"84\", \"85\", \"86\", \"87\", \"88\", \"89\", \"90\", \"91\", \"92\", \"93\", \"94\", \"95\", \"96\", \"97\", \"98\", \"99\", \"100\", \"101\", \"102\"], \"mode\": \"lines\", \"name\": \"f1_score_macro_max\", \"stepped\": true, \"type\": \"scatter\", \"data\": [0.8059507961576357, 0.8059507961576357, 0.8160536443378915, 0.8160536443378915, 0.8160536443378915, 0.8160536443378915, 0.8160536443378915, 0.8160536443378915, 0.8160536443378915, 0.8160536443378915, 0.8160536443378915, 0.8160536443378915, 0.8160536443378915, 0.8160536443378915, 0.8160536443378915, 0.8160536443378915, 0.8160536443378915, 0.8160536443378915, 0.8160536443378915, 0.8160536443378915, 0.8160536443378915, 0.8160536443378915, 0.8160536443378915, 0.8314067537223483, 0.8314067537223483, 0.8314067537223483, 0.8314067537223483, 0.8314067537223483, 0.8314067537223483, 0.8314067537223483, 0.8314067537223483, 0.8314067537223483, 0.8314067537223483, 0.8314067537223483, 0.8314067537223483, 0.8314067537223483, 0.8314067537223483, 0.8314067537223483, 0.8314067537223483, 0.8314067537223483, 0.8314067537223483, 0.8314067537223483, 0.8314067537223483, 0.8314067537223483, 0.8314067537223483, 0.8314067537223483, 0.8314067537223483, 0.8314067537223483, 0.8314067537223483, 0.8314067537223483, 0.8314067537223483, 0.8314067537223483, 0.8314067537223483, 0.8314067537223483, 0.8314067537223483, 0.8314067537223483, 0.8314067537223483, 0.8314067537223483, 0.8314067537223483, 0.8314067537223483, 0.8314067537223483, 0.8314067537223483, 0.8314067537223483, 0.8314067537223483, 0.8314067537223483, 0.8314067537223483, 0.8314067537223483, 0.8314067537223483, 0.8314067537223483, 0.8314067537223483, 0.8314067537223483, 0.8314067537223483, 0.8314067537223483, 0.8314067537223483, 0.8314067537223483, 0.8314067537223483, 0.8314067537223483, 0.8314067537223483, 0.8314067537223483, 0.8314067537223483, 0.8314067537223483, 0.8314067537223483, 0.8314067537223483, 0.8314067537223483, 0.8314067537223483, 0.8314067537223483, 0.8314067537223483, 0.8326801575430265, 0.8326801575430265, 0.8326801575430265, 0.8326801575430265, 0.8326801575430265, 0.8326801575430265, 0.8326801575430265, 0.8326801575430265, 0.8326801575430265, 0.8326801575430265, 0.8326801575430265, 0.8326801575430265, 0.8326801575430265, 0.8326801575430265, 0.8362739887255112, 0.8362739887255112]}], \"accuracy\": [{\"categories\": [\"0\", \"1\", \"2\", \"3\", \"4\", \"5\", \"6\", \"7\", \"8\", \"9\", \"10\", \"11\", \"12\", \"13\", \"14\", \"15\", \"16\", \"17\", \"18\", \"19\", \"20\", \"21\", \"22\", \"23\", \"24\", \"25\", \"26\", \"27\", \"28\", \"29\", \"30\", \"31\", \"32\", \"33\", \"34\", \"35\", \"36\", \"37\", \"38\", \"39\", \"40\", \"41\", \"42\", \"43\", \"44\", \"45\", \"46\", \"47\", \"48\", \"49\", \"50\", \"51\", \"52\", \"53\", \"54\", \"55\", \"56\", \"57\", \"58\", \"59\", \"60\", \"61\", \"62\", \"63\", \"64\", \"65\", \"66\", \"67\", \"68\", \"69\", \"70\", \"71\", \"72\", \"73\", \"74\", \"75\", \"76\", \"77\", \"78\", \"79\", \"80\", \"81\", \"82\", \"83\", \"84\", \"85\", \"86\", \"87\", \"88\", \"89\", \"90\", \"91\", \"92\", \"93\", \"94\", \"95\", \"96\", \"97\", \"98\", \"99\", \"100\", \"101\", \"102\"], \"mode\": \"markers\", \"name\": \"accuracy\", \"stepped\": false, \"type\": \"scatter\", \"data\": [0.8364389233954451, 0.8327759197324415, 0.8436853002070394, 0.8327759197324415, 0.8400621118012422, 0.8436454849498328, 0.7708631947762382, 0.840181557572862, 0.8363991081382386, 0.8255295429208473, 0.8436853002070394, 0.8073737856346552, 0.8109173435260392, 0.7999283325370282, 0.8182433508520465, 0.8363592928810321, 0.7272256728778469, 0.8035913362000318, 0.8436056696926263, 0.8071348940914159, 0.8254499124064342, 0.8437251154642459, 0.8290731008122313, 0.861880872750438, 0.8401019270584488, 0.7162764771460424, 0.7781892021022455, 0.8326962892180282, 0.8109571587832457, 0.8364787386526517, 0.7344720496894411, 0.7163561076604555, 0.792681955725434, 0.7928810320114668, 0.8436454849498327, 0.8400222965440357, 0.8220258002866698, 0.8034320751712056, 0.832815734989648, 0.8326962892180282, 0.8363592928810321, 0.8400222965440357, 0.8328555502468546, 0.8327361044752349, 0.847348303870043, 0.8473084886128364, 0.8364389233954451, 0.850891861761427, 0.832815734989648, 0.8400222965440357, 0.7818522057652492, 0.8146201624462495, 0.8545946806816372, 0.8145803471890428, 0.8437251154642459, 0.8436454849498327, 0.7890189520624303, 0.7928810320114668, 0.8473881191272495, 0.8363592928810321, 0.6799251473164517, 0.8291527313266444, 0.8509714922758401, 0.7600334448160534, 0.7890985825768434, 0.8436454849498327, 0.832815734989648, 0.7818522057652492, 0.847348303870043, 0.81820353559484, 0.847348303870043, 0.7526676222328397, 0.847348303870043, 0.8437251154642459, 0.8401019270584488, 0.8472686733556299, 0.8400222965440357, 0.8400222965440357, 0.821747093486224, 0.8363592928810321, 0.7928412167542603, 0.8363592928810321, 0.8400621118012422, 0.8291527313266444, 0.8327759197324415, 0.807214524605829, 0.8400621118012422, 0.8582178690874344, 0.832815734989648, 0.8364389233954451, 0.8364389233954451, 0.8436454849498327, 0.8145007166746296, 0.8545946806816372, 0.8290332855550245, 0.8436853002070394, 0.847348303870043, 0.8437251154642459, 0.8436454849498327, 0.8364389233954451, 0.7454212454212454, 0.8655836916706482, 0.8473881191272495]}, {\"categories\": [\"0\", \"1\", \"2\", \"3\", \"4\", \"5\", \"6\", \"7\", \"8\", \"9\", \"10\", \"11\", \"12\", \"13\", \"14\", \"15\", \"16\", \"17\", \"18\", \"19\", \"20\", \"21\", \"22\", \"23\", \"24\", \"25\", \"26\", \"27\", \"28\", \"29\", \"30\", \"31\", \"32\", \"33\", \"34\", \"35\", \"36\", \"37\", \"38\", \"39\", \"40\", \"41\", \"42\", \"43\", \"44\", \"45\", \"46\", \"47\", \"48\", \"49\", \"50\", \"51\", \"52\", \"53\", \"54\", \"55\", \"56\", \"57\", \"58\", \"59\", \"60\", \"61\", \"62\", \"63\", \"64\", \"65\", \"66\", \"67\", \"68\", \"69\", \"70\", \"71\", \"72\", \"73\", \"74\", \"75\", \"76\", \"77\", \"78\", \"79\", \"80\", \"81\", \"82\", \"83\", \"84\", \"85\", \"86\", \"87\", \"88\", \"89\", \"90\", \"91\", \"92\", \"93\", \"94\", \"95\", \"96\", \"97\", \"98\", \"99\", \"100\", \"101\", \"102\"], \"mode\": \"lines\", \"name\": \"accuracy_max\", \"stepped\": true, \"type\": \"scatter\", \"data\": [0.8364389233954451, 0.8364389233954451, 0.8436853002070394, 0.8436853002070394, 0.8436853002070394, 0.8436853002070394, 0.8436853002070394, 0.8436853002070394, 0.8436853002070394, 0.8436853002070394, 0.8436853002070394, 0.8436853002070394, 0.8436853002070394, 0.8436853002070394, 0.8436853002070394, 0.8436853002070394, 0.8436853002070394, 0.8436853002070394, 0.8436853002070394, 0.8436853002070394, 0.8436853002070394, 0.8437251154642459, 0.8437251154642459, 0.861880872750438, 0.861880872750438, 0.861880872750438, 0.861880872750438, 0.861880872750438, 0.861880872750438, 0.861880872750438, 0.861880872750438, 0.861880872750438, 0.861880872750438, 0.861880872750438, 0.861880872750438, 0.861880872750438, 0.861880872750438, 0.861880872750438, 0.861880872750438, 0.861880872750438, 0.861880872750438, 0.861880872750438, 0.861880872750438, 0.861880872750438, 0.861880872750438, 0.861880872750438, 0.861880872750438, 0.861880872750438, 0.861880872750438, 0.861880872750438, 0.861880872750438, 0.861880872750438, 0.861880872750438, 0.861880872750438, 0.861880872750438, 0.861880872750438, 0.861880872750438, 0.861880872750438, 0.861880872750438, 0.861880872750438, 0.861880872750438, 0.861880872750438, 0.861880872750438, 0.861880872750438, 0.861880872750438, 0.861880872750438, 0.861880872750438, 0.861880872750438, 0.861880872750438, 0.861880872750438, 0.861880872750438, 0.861880872750438, 0.861880872750438, 0.861880872750438, 0.861880872750438, 0.861880872750438, 0.861880872750438, 0.861880872750438, 0.861880872750438, 0.861880872750438, 0.861880872750438, 0.861880872750438, 0.861880872750438, 0.861880872750438, 0.861880872750438, 0.861880872750438, 0.861880872750438, 0.861880872750438, 0.861880872750438, 0.861880872750438, 0.861880872750438, 0.861880872750438, 0.861880872750438, 0.861880872750438, 0.861880872750438, 0.861880872750438, 0.861880872750438, 0.861880872750438, 0.861880872750438, 0.861880872750438, 0.861880872750438, 0.8655836916706482, 0.8655836916706482]}], \"precision_score_micro\": [{\"categories\": [\"0\", \"1\", \"2\", \"3\", \"4\", \"5\", \"6\", \"7\", \"8\", \"9\", \"10\", \"11\", \"12\", \"13\", \"14\", \"15\", \"16\", \"17\", \"18\", \"19\", \"20\", \"21\", \"22\", \"23\", \"24\", \"25\", \"26\", \"27\", \"28\", \"29\", \"30\", \"31\", \"32\", \"33\", \"34\", \"35\", \"36\", \"37\", \"38\", \"39\", \"40\", \"41\", \"42\", \"43\", \"44\", \"45\", \"46\", \"47\", \"48\", \"49\", \"50\", \"51\", \"52\", \"53\", \"54\", \"55\", \"56\", \"57\", \"58\", \"59\", \"60\", \"61\", \"62\", \"63\", \"64\", \"65\", \"66\", \"67\", \"68\", \"69\", \"70\", \"71\", \"72\", \"73\", \"74\", \"75\", \"76\", \"77\", \"78\", \"79\", \"80\", \"81\", \"82\", \"83\", \"84\", \"85\", \"86\", \"87\", \"88\", \"89\", \"90\", \"91\", \"92\", \"93\", \"94\", \"95\", \"96\", \"97\", \"98\", \"99\", \"100\", \"101\", \"102\"], \"mode\": \"markers\", \"name\": \"precision_score_micro\", \"stepped\": false, \"type\": \"scatter\", \"data\": [0.8364389233954451, 0.8327759197324415, 0.8436853002070394, 0.8327759197324415, 0.8400621118012422, 0.8436454849498328, 0.7708631947762382, 0.840181557572862, 0.8363991081382386, 0.8255295429208473, 0.8436853002070394, 0.8073737856346552, 0.8109173435260392, 0.7999283325370282, 0.8182433508520465, 0.8363592928810321, 0.7272256728778469, 0.8035913362000318, 0.8436056696926263, 0.8071348940914159, 0.8254499124064342, 0.8437251154642459, 0.8290731008122313, 0.861880872750438, 0.8401019270584488, 0.7162764771460424, 0.7781892021022455, 0.8326962892180282, 0.8109571587832457, 0.8364787386526517, 0.7344720496894411, 0.7163561076604555, 0.792681955725434, 0.7928810320114668, 0.8436454849498327, 0.8400222965440357, 0.8220258002866698, 0.8034320751712056, 0.832815734989648, 0.8326962892180282, 0.8363592928810321, 0.8400222965440357, 0.8328555502468546, 0.8327361044752349, 0.847348303870043, 0.8473084886128364, 0.8364389233954451, 0.850891861761427, 0.832815734989648, 0.8400222965440357, 0.7818522057652492, 0.8146201624462495, 0.8545946806816372, 0.8145803471890428, 0.8437251154642459, 0.8436454849498327, 0.7890189520624303, 0.7928810320114668, 0.8473881191272495, 0.8363592928810321, 0.6799251473164517, 0.8291527313266444, 0.8509714922758401, 0.7600334448160534, 0.7890985825768434, 0.8436454849498327, 0.832815734989648, 0.7818522057652492, 0.847348303870043, 0.81820353559484, 0.847348303870043, 0.7526676222328397, 0.847348303870043, 0.8437251154642459, 0.8401019270584488, 0.8472686733556299, 0.8400222965440357, 0.8400222965440357, 0.821747093486224, 0.8363592928810321, 0.7928412167542603, 0.8363592928810321, 0.8400621118012422, 0.8291527313266444, 0.8327759197324415, 0.807214524605829, 0.8400621118012422, 0.8582178690874344, 0.832815734989648, 0.8364389233954451, 0.8364389233954451, 0.8436454849498327, 0.8145007166746296, 0.8545946806816372, 0.8290332855550245, 0.8436853002070394, 0.847348303870043, 0.8437251154642459, 0.8436454849498327, 0.8364389233954451, 0.7454212454212454, 0.8655836916706482, 0.8473881191272495]}, {\"categories\": [\"0\", \"1\", \"2\", \"3\", \"4\", \"5\", \"6\", \"7\", \"8\", \"9\", \"10\", \"11\", \"12\", \"13\", \"14\", \"15\", \"16\", \"17\", \"18\", \"19\", \"20\", \"21\", \"22\", \"23\", \"24\", \"25\", \"26\", \"27\", \"28\", \"29\", \"30\", \"31\", \"32\", \"33\", \"34\", \"35\", \"36\", \"37\", \"38\", \"39\", \"40\", \"41\", \"42\", \"43\", \"44\", \"45\", \"46\", \"47\", \"48\", \"49\", \"50\", \"51\", \"52\", \"53\", \"54\", \"55\", \"56\", \"57\", \"58\", \"59\", \"60\", \"61\", \"62\", \"63\", \"64\", \"65\", \"66\", \"67\", \"68\", \"69\", \"70\", \"71\", \"72\", \"73\", \"74\", \"75\", \"76\", \"77\", \"78\", \"79\", \"80\", \"81\", \"82\", \"83\", \"84\", \"85\", \"86\", \"87\", \"88\", \"89\", \"90\", \"91\", \"92\", \"93\", \"94\", \"95\", \"96\", \"97\", \"98\", \"99\", \"100\", \"101\", \"102\"], \"mode\": \"lines\", \"name\": \"precision_score_micro_max\", \"stepped\": true, \"type\": \"scatter\", \"data\": [0.8364389233954451, 0.8364389233954451, 0.8436853002070394, 0.8436853002070394, 0.8436853002070394, 0.8436853002070394, 0.8436853002070394, 0.8436853002070394, 0.8436853002070394, 0.8436853002070394, 0.8436853002070394, 0.8436853002070394, 0.8436853002070394, 0.8436853002070394, 0.8436853002070394, 0.8436853002070394, 0.8436853002070394, 0.8436853002070394, 0.8436853002070394, 0.8436853002070394, 0.8436853002070394, 0.8437251154642459, 0.8437251154642459, 0.861880872750438, 0.861880872750438, 0.861880872750438, 0.861880872750438, 0.861880872750438, 0.861880872750438, 0.861880872750438, 0.861880872750438, 0.861880872750438, 0.861880872750438, 0.861880872750438, 0.861880872750438, 0.861880872750438, 0.861880872750438, 0.861880872750438, 0.861880872750438, 0.861880872750438, 0.861880872750438, 0.861880872750438, 0.861880872750438, 0.861880872750438, 0.861880872750438, 0.861880872750438, 0.861880872750438, 0.861880872750438, 0.861880872750438, 0.861880872750438, 0.861880872750438, 0.861880872750438, 0.861880872750438, 0.861880872750438, 0.861880872750438, 0.861880872750438, 0.861880872750438, 0.861880872750438, 0.861880872750438, 0.861880872750438, 0.861880872750438, 0.861880872750438, 0.861880872750438, 0.861880872750438, 0.861880872750438, 0.861880872750438, 0.861880872750438, 0.861880872750438, 0.861880872750438, 0.861880872750438, 0.861880872750438, 0.861880872750438, 0.861880872750438, 0.861880872750438, 0.861880872750438, 0.861880872750438, 0.861880872750438, 0.861880872750438, 0.861880872750438, 0.861880872750438, 0.861880872750438, 0.861880872750438, 0.861880872750438, 0.861880872750438, 0.861880872750438, 0.861880872750438, 0.861880872750438, 0.861880872750438, 0.861880872750438, 0.861880872750438, 0.861880872750438, 0.861880872750438, 0.861880872750438, 0.861880872750438, 0.861880872750438, 0.861880872750438, 0.861880872750438, 0.861880872750438, 0.861880872750438, 0.861880872750438, 0.861880872750438, 0.8655836916706482, 0.8655836916706482]}], \"log_loss\": [{\"categories\": [\"0\", \"1\", \"2\", \"3\", \"4\", \"5\", \"6\", \"7\", \"8\", \"9\", \"10\", \"11\", \"12\", \"13\", \"14\", \"15\", \"16\", \"17\", \"18\", \"19\", \"20\", \"21\", \"22\", \"23\", \"24\", \"25\", \"26\", \"27\", \"28\", \"29\", \"30\", \"31\", \"32\", \"33\", \"34\", \"35\", \"36\", \"37\", \"38\", \"39\", \"40\", \"41\", \"42\", \"43\", \"44\", \"45\", \"46\", \"47\", \"48\", \"49\", \"50\", \"51\", \"52\", \"53\", \"54\", \"55\", \"56\", \"57\", \"58\", \"59\", \"60\", \"61\", \"62\", \"63\", \"64\", \"65\", \"66\", \"67\", \"68\", \"69\", \"70\", \"71\", \"72\", \"73\", \"74\", \"75\", \"76\", \"77\", \"78\", \"79\", \"80\", \"81\", \"82\", \"83\", \"84\", \"85\", \"86\", \"87\", \"88\", \"89\", \"90\", \"91\", \"92\", \"93\", \"94\", \"95\", \"96\", \"97\", \"98\", \"99\", \"100\", \"101\", \"102\"], \"mode\": \"markers\", \"name\": \"log_loss\", \"stepped\": false, \"type\": \"scatter\", \"data\": [0.4848118205257073, 0.4399025747755476, 0.3854936271334189, 0.3753688131840523, 0.37931799340482675, 0.4111723480113591, 0.5442592608905973, 0.3742643662140645, 0.3991848893588816, 0.4011659772049489, 0.3741276936451705, 0.43196573335033345, 0.41677269012644325, 0.4631910280931482, 0.42256987738354473, 0.40922098634694337, 0.5032437627547781, 0.5142126202969894, 0.3722379419945681, 0.42805652699686453, 0.4206142895675744, 0.49480205127979165, 0.44062679895910817, 0.36742687471824403, 0.4347174640541948, 0.5769066967407702, 0.6532602795736971, 0.42743736824681156, 0.5087886026909899, 0.39214850883409924, 0.4959836429705125, 0.5276244615940215, 0.45269042515269325, 0.45625002723924607, 0.3917311381861934, 0.4319210178387254, 0.385692336297672, 0.4311555174552253, 0.38872481076544324, 0.42856119921065766, 0.4276103690956134, 0.4406018710027706, 0.3979501681296817, 0.4831725360172244, 0.38330424271405955, 0.40012897056255486, 0.4335851631559078, 0.3909398973334986, 0.4174247152047646, 0.37284630982575884, 0.491852431051713, 0.4248281428041614, 0.41352088538593074, 0.437258813825576, 0.40413443975735114, 0.423977113500485, 0.4817521283324215, 0.5141308985447447, 0.37272180689290607, 0.43938558605570743, 0.5948852035593118, 0.4922085430428919, 0.399053438121502, 0.48040510464984676, 0.46830049831561865, 0.38322022322025173, 0.41621248707513553, 0.46589197492552303, 0.3947526623172948, 0.4060215638084375, 0.40948100467126114, 0.5009001661087015, 0.36955588119265964, 0.37998293237500963, 0.38372817697736666, 0.41264173946381383, 0.3828742595774106, 0.3907484138923665, 0.425785797691918, 0.38846790943631265, 0.46741821877687584, 0.47470147104903243, 0.4101147793507239, 0.4483566078993688, 0.4514817038905594, 0.4711120987154939, 0.47891882663782576, 0.36657737341160307, 0.398505541727371, 0.37255966839939075, 0.42291864122432204, 0.3825765857045141, 0.44028804068862654, 0.36697771474499863, 0.4571329975219888, 0.41167279846024735, 0.38113322354769186, 0.375826074858513, 0.4695034193672573, 0.3734610493200343, 0.5100257069247937, 0.37350774905392875, 0.36865050617487594]}, {\"categories\": [\"0\", \"1\", \"2\", \"3\", \"4\", \"5\", \"6\", \"7\", \"8\", \"9\", \"10\", \"11\", \"12\", \"13\", \"14\", \"15\", \"16\", \"17\", \"18\", \"19\", \"20\", \"21\", \"22\", \"23\", \"24\", \"25\", \"26\", \"27\", \"28\", \"29\", \"30\", \"31\", \"32\", \"33\", \"34\", \"35\", \"36\", \"37\", \"38\", \"39\", \"40\", \"41\", \"42\", \"43\", \"44\", \"45\", \"46\", \"47\", \"48\", \"49\", \"50\", \"51\", \"52\", \"53\", \"54\", \"55\", \"56\", \"57\", \"58\", \"59\", \"60\", \"61\", \"62\", \"63\", \"64\", \"65\", \"66\", \"67\", \"68\", \"69\", \"70\", \"71\", \"72\", \"73\", \"74\", \"75\", \"76\", \"77\", \"78\", \"79\", \"80\", \"81\", \"82\", \"83\", \"84\", \"85\", \"86\", \"87\", \"88\", \"89\", \"90\", \"91\", \"92\", \"93\", \"94\", \"95\", \"96\", \"97\", \"98\", \"99\", \"100\", \"101\", \"102\"], \"mode\": \"lines\", \"name\": \"log_loss_min\", \"stepped\": true, \"type\": \"scatter\", \"data\": [0.4848118205257073, 0.4399025747755476, 0.3854936271334189, 0.3753688131840523, 0.3753688131840523, 0.3753688131840523, 0.3753688131840523, 0.3742643662140645, 0.3742643662140645, 0.3742643662140645, 0.3741276936451705, 0.3741276936451705, 0.3741276936451705, 0.3741276936451705, 0.3741276936451705, 0.3741276936451705, 0.3741276936451705, 0.3741276936451705, 0.3722379419945681, 0.3722379419945681, 0.3722379419945681, 0.3722379419945681, 0.3722379419945681, 0.36742687471824403, 0.36742687471824403, 0.36742687471824403, 0.36742687471824403, 0.36742687471824403, 0.36742687471824403, 0.36742687471824403, 0.36742687471824403, 0.36742687471824403, 0.36742687471824403, 0.36742687471824403, 0.36742687471824403, 0.36742687471824403, 0.36742687471824403, 0.36742687471824403, 0.36742687471824403, 0.36742687471824403, 0.36742687471824403, 0.36742687471824403, 0.36742687471824403, 0.36742687471824403, 0.36742687471824403, 0.36742687471824403, 0.36742687471824403, 0.36742687471824403, 0.36742687471824403, 0.36742687471824403, 0.36742687471824403, 0.36742687471824403, 0.36742687471824403, 0.36742687471824403, 0.36742687471824403, 0.36742687471824403, 0.36742687471824403, 0.36742687471824403, 0.36742687471824403, 0.36742687471824403, 0.36742687471824403, 0.36742687471824403, 0.36742687471824403, 0.36742687471824403, 0.36742687471824403, 0.36742687471824403, 0.36742687471824403, 0.36742687471824403, 0.36742687471824403, 0.36742687471824403, 0.36742687471824403, 0.36742687471824403, 0.36742687471824403, 0.36742687471824403, 0.36742687471824403, 0.36742687471824403, 0.36742687471824403, 0.36742687471824403, 0.36742687471824403, 0.36742687471824403, 0.36742687471824403, 0.36742687471824403, 0.36742687471824403, 0.36742687471824403, 0.36742687471824403, 0.36742687471824403, 0.36742687471824403, 0.36657737341160307, 0.36657737341160307, 0.36657737341160307, 0.36657737341160307, 0.36657737341160307, 0.36657737341160307, 0.36657737341160307, 0.36657737341160307, 0.36657737341160307, 0.36657737341160307, 0.36657737341160307, 0.36657737341160307, 0.36657737341160307, 0.36657737341160307, 0.36657737341160307, 0.36657737341160307]}], \"precision_score_weighted\": [{\"categories\": [\"0\", \"1\", \"2\", \"3\", \"4\", \"5\", \"6\", \"7\", \"8\", \"9\", \"10\", \"11\", \"12\", \"13\", \"14\", \"15\", \"16\", \"17\", \"18\", \"19\", \"20\", \"21\", \"22\", \"23\", \"24\", \"25\", \"26\", \"27\", \"28\", \"29\", \"30\", \"31\", \"32\", \"33\", \"34\", \"35\", \"36\", \"37\", \"38\", \"39\", \"40\", \"41\", \"42\", \"43\", \"44\", \"45\", \"46\", \"47\", \"48\", \"49\", \"50\", \"51\", \"52\", \"53\", \"54\", \"55\", \"56\", \"57\", \"58\", \"59\", \"60\", \"61\", \"62\", \"63\", \"64\", \"65\", \"66\", \"67\", \"68\", \"69\", \"70\", \"71\", \"72\", \"73\", \"74\", \"75\", \"76\", \"77\", \"78\", \"79\", \"80\", \"81\", \"82\", \"83\", \"84\", \"85\", \"86\", \"87\", \"88\", \"89\", \"90\", \"91\", \"92\", \"93\", \"94\", \"95\", \"96\", \"97\", \"98\", \"99\", \"100\", \"101\", \"102\"], \"mode\": \"markers\", \"name\": \"precision_score_weighted\", \"stepped\": false, \"type\": \"scatter\", \"data\": [0.8339516145794246, 0.829844853002982, 0.8422280940990848, 0.8364785362792787, 0.8377153961240902, 0.8438885684999616, 0.7763333238271629, 0.8365487799441932, 0.8356121712899207, 0.825799923963575, 0.8429339932707967, 0.808415955071184, 0.806133876218237, 0.8092105281939942, 0.8165308575697634, 0.8421110354466675, 0.7754467353629567, 0.8056692800908866, 0.8407479696559238, 0.804460456283322, 0.8263567319247157, 0.8409513072322204, 0.8339117359258025, 0.8597740709663079, 0.8465759624091085, 0.7590609884647502, 0.7934094136723591, 0.8349988825235889, 0.8103515786961717, 0.8334639118420023, 0.7860353681258636, 0.7999876277119776, 0.807448037596779, 0.7948412222600832, 0.8408725211986082, 0.8430667359383334, 0.8167515020469424, 0.8043975825905174, 0.8293383967805954, 0.8383287516293744, 0.8416405574371835, 0.8430667359383334, 0.8290883130843936, 0.8292907621921, 0.8444357807936888, 0.8469806160023552, 0.8432915906101434, 0.8508979945282963, 0.8316187004006697, 0.8372768298108987, 0.7843869713073538, 0.8139363170852235, 0.8583043333283906, 0.8175631863787367, 0.8425553266981501, 0.8404061048988586, 0.8001692380263371, 0.7867667214434251, 0.8454355561826761, 0.8402676177823297, 0.462687287697934, 0.8270511087793517, 0.8525003144808935, 0.7712028983900051, 0.8154899583134553, 0.8408725211986082, 0.8402875210689748, 0.7906530322679391, 0.8485715486491884, 0.8137492474132629, 0.8464144784245603, 0.7822989867930813, 0.8432905075092876, 0.8423519265863311, 0.8385411520261049, 0.8531123891162693, 0.837262460287035, 0.8367960439872854, 0.8242621380409104, 0.833617978743283, 0.8052582728819395, 0.8363790920588228, 0.8423373730720366, 0.8266157768694001, 0.8300749480248725, 0.8336850634615969, 0.8399544229747234, 0.8567726377914026, 0.8314024953558693, 0.8337032860948835, 0.8462796823881761, 0.8418988754133682, 0.8220901914325803, 0.8536857488349484, 0.8347422387980467, 0.8425808400203908, 0.8465361874124245, 0.8413767590048685, 0.8425187965629143, 0.832387737703309, 0.7975293099954347, 0.8636135727272851, 0.8454266748947923]}, {\"categories\": [\"0\", \"1\", \"2\", \"3\", \"4\", \"5\", \"6\", \"7\", \"8\", \"9\", \"10\", \"11\", \"12\", \"13\", \"14\", \"15\", \"16\", \"17\", \"18\", \"19\", \"20\", \"21\", \"22\", \"23\", \"24\", \"25\", \"26\", \"27\", \"28\", \"29\", \"30\", \"31\", \"32\", \"33\", \"34\", \"35\", \"36\", \"37\", \"38\", \"39\", \"40\", \"41\", \"42\", \"43\", \"44\", \"45\", \"46\", \"47\", \"48\", \"49\", \"50\", \"51\", \"52\", \"53\", \"54\", \"55\", \"56\", \"57\", \"58\", \"59\", \"60\", \"61\", \"62\", \"63\", \"64\", \"65\", \"66\", \"67\", \"68\", \"69\", \"70\", \"71\", \"72\", \"73\", \"74\", \"75\", \"76\", \"77\", \"78\", \"79\", \"80\", \"81\", \"82\", \"83\", \"84\", \"85\", \"86\", \"87\", \"88\", \"89\", \"90\", \"91\", \"92\", \"93\", \"94\", \"95\", \"96\", \"97\", \"98\", \"99\", \"100\", \"101\", \"102\"], \"mode\": \"lines\", \"name\": \"precision_score_weighted_max\", \"stepped\": true, \"type\": \"scatter\", \"data\": [0.8339516145794246, 0.8339516145794246, 0.8422280940990848, 0.8422280940990848, 0.8422280940990848, 0.8438885684999616, 0.8438885684999616, 0.8438885684999616, 0.8438885684999616, 0.8438885684999616, 0.8438885684999616, 0.8438885684999616, 0.8438885684999616, 0.8438885684999616, 0.8438885684999616, 0.8438885684999616, 0.8438885684999616, 0.8438885684999616, 0.8438885684999616, 0.8438885684999616, 0.8438885684999616, 0.8438885684999616, 0.8438885684999616, 0.8597740709663079, 0.8597740709663079, 0.8597740709663079, 0.8597740709663079, 0.8597740709663079, 0.8597740709663079, 0.8597740709663079, 0.8597740709663079, 0.8597740709663079, 0.8597740709663079, 0.8597740709663079, 0.8597740709663079, 0.8597740709663079, 0.8597740709663079, 0.8597740709663079, 0.8597740709663079, 0.8597740709663079, 0.8597740709663079, 0.8597740709663079, 0.8597740709663079, 0.8597740709663079, 0.8597740709663079, 0.8597740709663079, 0.8597740709663079, 0.8597740709663079, 0.8597740709663079, 0.8597740709663079, 0.8597740709663079, 0.8597740709663079, 0.8597740709663079, 0.8597740709663079, 0.8597740709663079, 0.8597740709663079, 0.8597740709663079, 0.8597740709663079, 0.8597740709663079, 0.8597740709663079, 0.8597740709663079, 0.8597740709663079, 0.8597740709663079, 0.8597740709663079, 0.8597740709663079, 0.8597740709663079, 0.8597740709663079, 0.8597740709663079, 0.8597740709663079, 0.8597740709663079, 0.8597740709663079, 0.8597740709663079, 0.8597740709663079, 0.8597740709663079, 0.8597740709663079, 0.8597740709663079, 0.8597740709663079, 0.8597740709663079, 0.8597740709663079, 0.8597740709663079, 0.8597740709663079, 0.8597740709663079, 0.8597740709663079, 0.8597740709663079, 0.8597740709663079, 0.8597740709663079, 0.8597740709663079, 0.8597740709663079, 0.8597740709663079, 0.8597740709663079, 0.8597740709663079, 0.8597740709663079, 0.8597740709663079, 0.8597740709663079, 0.8597740709663079, 0.8597740709663079, 0.8597740709663079, 0.8597740709663079, 0.8597740709663079, 0.8597740709663079, 0.8597740709663079, 0.8636135727272851, 0.8636135727272851]}], \"f1_score_micro\": [{\"categories\": [\"0\", \"1\", \"2\", \"3\", \"4\", \"5\", \"6\", \"7\", \"8\", \"9\", \"10\", \"11\", \"12\", \"13\", \"14\", \"15\", \"16\", \"17\", \"18\", \"19\", \"20\", \"21\", \"22\", \"23\", \"24\", \"25\", \"26\", \"27\", \"28\", \"29\", \"30\", \"31\", \"32\", \"33\", \"34\", \"35\", \"36\", \"37\", \"38\", \"39\", \"40\", \"41\", \"42\", \"43\", \"44\", \"45\", \"46\", \"47\", \"48\", \"49\", \"50\", \"51\", \"52\", \"53\", \"54\", \"55\", \"56\", \"57\", \"58\", \"59\", \"60\", \"61\", \"62\", \"63\", \"64\", \"65\", \"66\", \"67\", \"68\", \"69\", \"70\", \"71\", \"72\", \"73\", \"74\", \"75\", \"76\", \"77\", \"78\", \"79\", \"80\", \"81\", \"82\", \"83\", \"84\", \"85\", \"86\", \"87\", \"88\", \"89\", \"90\", \"91\", \"92\", \"93\", \"94\", \"95\", \"96\", \"97\", \"98\", \"99\", \"100\", \"101\", \"102\"], \"mode\": \"markers\", \"name\": \"f1_score_micro\", \"stepped\": false, \"type\": \"scatter\", \"data\": [0.8364389233954451, 0.8327759197324415, 0.8436853002070394, 0.8327759197324415, 0.8400621118012422, 0.8436454849498328, 0.7708631947762382, 0.840181557572862, 0.8363991081382386, 0.8255295429208473, 0.8436853002070394, 0.8073737856346552, 0.8109173435260392, 0.7999283325370282, 0.8182433508520465, 0.8363592928810322, 0.7272256728778469, 0.8035913362000318, 0.8436056696926263, 0.8071348940914159, 0.8254499124064342, 0.8437251154642459, 0.8290731008122313, 0.861880872750438, 0.8401019270584489, 0.7162764771460424, 0.7781892021022455, 0.8326962892180282, 0.8109571587832457, 0.8364787386526517, 0.7344720496894411, 0.7163561076604555, 0.792681955725434, 0.7928810320114669, 0.8436454849498328, 0.8400222965440358, 0.8220258002866698, 0.8034320751712056, 0.832815734989648, 0.8326962892180285, 0.8363592928810322, 0.8400222965440358, 0.8328555502468546, 0.8327361044752349, 0.847348303870043, 0.8473084886128365, 0.8364389233954451, 0.850891861761427, 0.832815734989648, 0.8400222965440358, 0.7818522057652492, 0.8146201624462495, 0.8545946806816372, 0.8145803471890428, 0.8437251154642459, 0.8436454849498328, 0.7890189520624303, 0.7928810320114668, 0.8473881191272495, 0.8363592928810322, 0.6799251473164517, 0.8291527313266444, 0.8509714922758401, 0.7600334448160534, 0.7890985825768434, 0.8436454849498328, 0.832815734989648, 0.7818522057652492, 0.8473483038700431, 0.81820353559484, 0.847348303870043, 0.7526676222328396, 0.847348303870043, 0.8437251154642459, 0.8401019270584488, 0.8472686733556299, 0.8400222965440357, 0.8400222965440357, 0.821747093486224, 0.8363592928810322, 0.7928412167542603, 0.8363592928810321, 0.8400621118012422, 0.8291527313266444, 0.8327759197324416, 0.807214524605829, 0.8400621118012422, 0.8582178690874344, 0.832815734989648, 0.8364389233954451, 0.8364389233954452, 0.8436454849498328, 0.8145007166746296, 0.8545946806816372, 0.8290332855550249, 0.8436853002070395, 0.847348303870043, 0.8437251154642459, 0.8436454849498328, 0.8364389233954451, 0.7454212454212454, 0.8655836916706482, 0.8473881191272495]}, {\"categories\": [\"0\", \"1\", \"2\", \"3\", \"4\", \"5\", \"6\", \"7\", \"8\", \"9\", \"10\", \"11\", \"12\", \"13\", \"14\", \"15\", \"16\", \"17\", \"18\", \"19\", \"20\", \"21\", \"22\", \"23\", \"24\", \"25\", \"26\", \"27\", \"28\", \"29\", \"30\", \"31\", \"32\", \"33\", \"34\", \"35\", \"36\", \"37\", \"38\", \"39\", \"40\", \"41\", \"42\", \"43\", \"44\", \"45\", \"46\", \"47\", \"48\", \"49\", \"50\", \"51\", \"52\", \"53\", \"54\", \"55\", \"56\", \"57\", \"58\", \"59\", \"60\", \"61\", \"62\", \"63\", \"64\", \"65\", \"66\", \"67\", \"68\", \"69\", \"70\", \"71\", \"72\", \"73\", \"74\", \"75\", \"76\", \"77\", \"78\", \"79\", \"80\", \"81\", \"82\", \"83\", \"84\", \"85\", \"86\", \"87\", \"88\", \"89\", \"90\", \"91\", \"92\", \"93\", \"94\", \"95\", \"96\", \"97\", \"98\", \"99\", \"100\", \"101\", \"102\"], \"mode\": \"lines\", \"name\": \"f1_score_micro_max\", \"stepped\": true, \"type\": \"scatter\", \"data\": [0.8364389233954451, 0.8364389233954451, 0.8436853002070394, 0.8436853002070394, 0.8436853002070394, 0.8436853002070394, 0.8436853002070394, 0.8436853002070394, 0.8436853002070394, 0.8436853002070394, 0.8436853002070394, 0.8436853002070394, 0.8436853002070394, 0.8436853002070394, 0.8436853002070394, 0.8436853002070394, 0.8436853002070394, 0.8436853002070394, 0.8436853002070394, 0.8436853002070394, 0.8436853002070394, 0.8437251154642459, 0.8437251154642459, 0.861880872750438, 0.861880872750438, 0.861880872750438, 0.861880872750438, 0.861880872750438, 0.861880872750438, 0.861880872750438, 0.861880872750438, 0.861880872750438, 0.861880872750438, 0.861880872750438, 0.861880872750438, 0.861880872750438, 0.861880872750438, 0.861880872750438, 0.861880872750438, 0.861880872750438, 0.861880872750438, 0.861880872750438, 0.861880872750438, 0.861880872750438, 0.861880872750438, 0.861880872750438, 0.861880872750438, 0.861880872750438, 0.861880872750438, 0.861880872750438, 0.861880872750438, 0.861880872750438, 0.861880872750438, 0.861880872750438, 0.861880872750438, 0.861880872750438, 0.861880872750438, 0.861880872750438, 0.861880872750438, 0.861880872750438, 0.861880872750438, 0.861880872750438, 0.861880872750438, 0.861880872750438, 0.861880872750438, 0.861880872750438, 0.861880872750438, 0.861880872750438, 0.861880872750438, 0.861880872750438, 0.861880872750438, 0.861880872750438, 0.861880872750438, 0.861880872750438, 0.861880872750438, 0.861880872750438, 0.861880872750438, 0.861880872750438, 0.861880872750438, 0.861880872750438, 0.861880872750438, 0.861880872750438, 0.861880872750438, 0.861880872750438, 0.861880872750438, 0.861880872750438, 0.861880872750438, 0.861880872750438, 0.861880872750438, 0.861880872750438, 0.861880872750438, 0.861880872750438, 0.861880872750438, 0.861880872750438, 0.861880872750438, 0.861880872750438, 0.861880872750438, 0.861880872750438, 0.861880872750438, 0.861880872750438, 0.861880872750438, 0.8655836916706482, 0.8655836916706482]}], \"weighted_accuracy\": [{\"categories\": [\"0\", \"1\", \"2\", \"3\", \"4\", \"5\", \"6\", \"7\", \"8\", \"9\", \"10\", \"11\", \"12\", \"13\", \"14\", \"15\", \"16\", \"17\", \"18\", \"19\", \"20\", \"21\", \"22\", \"23\", \"24\", \"25\", \"26\", \"27\", \"28\", \"29\", \"30\", \"31\", \"32\", \"33\", \"34\", \"35\", \"36\", \"37\", \"38\", \"39\", \"40\", \"41\", \"42\", \"43\", \"44\", \"45\", \"46\", \"47\", \"48\", \"49\", \"50\", \"51\", \"52\", \"53\", \"54\", \"55\", \"56\", \"57\", \"58\", \"59\", \"60\", \"61\", \"62\", \"63\", \"64\", \"65\", \"66\", \"67\", \"68\", \"69\", \"70\", \"71\", \"72\", \"73\", \"74\", \"75\", \"76\", \"77\", \"78\", \"79\", \"80\", \"81\", \"82\", \"83\", \"84\", \"85\", \"86\", \"87\", \"88\", \"89\", \"90\", \"91\", \"92\", \"93\", \"94\", \"95\", \"96\", \"97\", \"98\", \"99\", \"100\", \"101\", \"102\"], \"mode\": \"markers\", \"name\": \"weighted_accuracy\", \"stepped\": false, \"type\": \"scatter\", \"data\": [0.8640669397011846, 0.8667357012002507, 0.8681206152003652, 0.8702790276935839, 0.866467317745672, 0.8860684403841438, 0.8437963084590376, 0.8713241178652845, 0.874910669735595, 0.8620037058721648, 0.8839776454279082, 0.8736497503267078, 0.8515288906147461, 0.8676429305325416, 0.8725954107362387, 0.8883456365627765, 0.8398280270265372, 0.8525167195957617, 0.8767216481274794, 0.8368046969865203, 0.8704253725062138, 0.8729545491004326, 0.8794580271635287, 0.894687606983367, 0.8481323847673466, 0.7079148340430339, 0.7848119474439836, 0.8479118405462892, 0.8483063876924035, 0.8686096615668935, 0.8467457209535084, 0.8387629483607761, 0.8683442352718839, 0.8654920689667972, 0.8818467940619055, 0.8860971230295848, 0.8638951460412746, 0.829266751661197, 0.86663528856873, 0.8838144071522863, 0.8857887801504498, 0.8860971230295848, 0.8646735295440099, 0.8661921743833108, 0.8794475375356429, 0.8883512156068883, 0.8909094092135431, 0.8738448376899073, 0.8779450800592313, 0.8771820118485669, 0.8569231950893584, 0.8600363678033333, 0.8990498410377858, 0.871575607856871, 0.8866921610717453, 0.8797273758056751, 0.8611443037077735, 0.8587295162133369, 0.8749289220985962, 0.8838315379970627, 0.8174778182618238, 0.8684635541360478, 0.8901965526735361, 0.853228160415387, 0.8743557499737212, 0.8818467940619055, 0.8919407638935754, 0.8569869389148564, 0.888379838906883, 0.8679408431292366, 0.8839444459111347, 0.8530706198747687, 0.8779105433481297, 0.8817074841786073, 0.8705713612461675, 0.8970927175752904, 0.8749163674705986, 0.8727969492143682, 0.8728074388422541, 0.8702401521474877, 0.8719851167474534, 0.8822945438095493, 0.883697925848768, 0.8619418830553967, 0.8637757870122721, 0.8843460950813906, 0.8747987646488555, 0.882778260579372, 0.8660356743097904, 0.8688550601110351, 0.8938693234015217, 0.8720568065686948, 0.8732506717185654, 0.8784046904003922, 0.8793003679320184, 0.8838154693250652, 0.8836863740481036, 0.870414882878328, 0.8788524994934823, 0.8693096884573537, 0.8492269143228239, 0.8969646251256617, 0.8731007158767242]}, {\"categories\": [\"0\", \"1\", \"2\", \"3\", \"4\", \"5\", \"6\", \"7\", \"8\", \"9\", \"10\", \"11\", \"12\", \"13\", \"14\", \"15\", \"16\", \"17\", \"18\", \"19\", \"20\", \"21\", \"22\", \"23\", \"24\", \"25\", \"26\", \"27\", \"28\", \"29\", \"30\", \"31\", \"32\", \"33\", \"34\", \"35\", \"36\", \"37\", \"38\", \"39\", \"40\", \"41\", \"42\", \"43\", \"44\", \"45\", \"46\", \"47\", \"48\", \"49\", \"50\", \"51\", \"52\", \"53\", \"54\", \"55\", \"56\", \"57\", \"58\", \"59\", \"60\", \"61\", \"62\", \"63\", \"64\", \"65\", \"66\", \"67\", \"68\", \"69\", \"70\", \"71\", \"72\", \"73\", \"74\", \"75\", \"76\", \"77\", \"78\", \"79\", \"80\", \"81\", \"82\", \"83\", \"84\", \"85\", \"86\", \"87\", \"88\", \"89\", \"90\", \"91\", \"92\", \"93\", \"94\", \"95\", \"96\", \"97\", \"98\", \"99\", \"100\", \"101\", \"102\"], \"mode\": \"lines\", \"name\": \"weighted_accuracy_max\", \"stepped\": true, \"type\": \"scatter\", \"data\": [0.8640669397011846, 0.8667357012002507, 0.8681206152003652, 0.8702790276935839, 0.8702790276935839, 0.8860684403841438, 0.8860684403841438, 0.8860684403841438, 0.8860684403841438, 0.8860684403841438, 0.8860684403841438, 0.8860684403841438, 0.8860684403841438, 0.8860684403841438, 0.8860684403841438, 0.8883456365627765, 0.8883456365627765, 0.8883456365627765, 0.8883456365627765, 0.8883456365627765, 0.8883456365627765, 0.8883456365627765, 0.8883456365627765, 0.894687606983367, 0.894687606983367, 0.894687606983367, 0.894687606983367, 0.894687606983367, 0.894687606983367, 0.894687606983367, 0.894687606983367, 0.894687606983367, 0.894687606983367, 0.894687606983367, 0.894687606983367, 0.894687606983367, 0.894687606983367, 0.894687606983367, 0.894687606983367, 0.894687606983367, 0.894687606983367, 0.894687606983367, 0.894687606983367, 0.894687606983367, 0.894687606983367, 0.894687606983367, 0.894687606983367, 0.894687606983367, 0.894687606983367, 0.894687606983367, 0.894687606983367, 0.894687606983367, 0.8990498410377858, 0.8990498410377858, 0.8990498410377858, 0.8990498410377858, 0.8990498410377858, 0.8990498410377858, 0.8990498410377858, 0.8990498410377858, 0.8990498410377858, 0.8990498410377858, 0.8990498410377858, 0.8990498410377858, 0.8990498410377858, 0.8990498410377858, 0.8990498410377858, 0.8990498410377858, 0.8990498410377858, 0.8990498410377858, 0.8990498410377858, 0.8990498410377858, 0.8990498410377858, 0.8990498410377858, 0.8990498410377858, 0.8990498410377858, 0.8990498410377858, 0.8990498410377858, 0.8990498410377858, 0.8990498410377858, 0.8990498410377858, 0.8990498410377858, 0.8990498410377858, 0.8990498410377858, 0.8990498410377858, 0.8990498410377858, 0.8990498410377858, 0.8990498410377858, 0.8990498410377858, 0.8990498410377858, 0.8990498410377858, 0.8990498410377858, 0.8990498410377858, 0.8990498410377858, 0.8990498410377858, 0.8990498410377858, 0.8990498410377858, 0.8990498410377858, 0.8990498410377858, 0.8990498410377858, 0.8990498410377858, 0.8990498410377858, 0.8990498410377858]}], \"AUC_micro\": [{\"categories\": [\"0\", \"1\", \"2\", \"3\", \"4\", \"5\", \"6\", \"7\", \"8\", \"9\", \"10\", \"11\", \"12\", \"13\", \"14\", \"15\", \"16\", \"17\", \"18\", \"19\", \"20\", \"21\", \"22\", \"23\", \"24\", \"25\", \"26\", \"27\", \"28\", \"29\", \"30\", \"31\", \"32\", \"33\", \"34\", \"35\", \"36\", \"37\", \"38\", \"39\", \"40\", \"41\", \"42\", \"43\", \"44\", \"45\", \"46\", \"47\", \"48\", \"49\", \"50\", \"51\", \"52\", \"53\", \"54\", \"55\", \"56\", \"57\", \"58\", \"59\", \"60\", \"61\", \"62\", \"63\", \"64\", \"65\", \"66\", \"67\", \"68\", \"69\", \"70\", \"71\", \"72\", \"73\", \"74\", \"75\", \"76\", \"77\", \"78\", \"79\", \"80\", \"81\", \"82\", \"83\", \"84\", \"85\", \"86\", \"87\", \"88\", \"89\", \"90\", \"91\", \"92\", \"93\", \"94\", \"95\", \"96\", \"97\", \"98\", \"99\", \"100\", \"101\", \"102\"], \"mode\": \"markers\", \"name\": \"AUC_micro\", \"stepped\": false, \"type\": \"scatter\", \"data\": [0.9003751784267582, 0.9012853270523765, 0.9091793319323233, 0.919325543049291, 0.91580810381445, 0.9095177877752816, 0.8204312615360569, 0.9140234890614001, 0.9139819284387617, 0.9027953487409438, 0.9167815706835524, 0.8978751493214818, 0.8949362630590428, 0.8928011247115819, 0.9115112804442141, 0.9024409111526626, 0.8621698282225609, 0.8781540988561284, 0.915939524600122, 0.8858813452451146, 0.9023580086725355, 0.9100628268779353, 0.9004347966857574, 0.918880803011913, 0.9174082044312003, 0.8244222726282491, 0.84982243783969, 0.8983536172379937, 0.8798438503822911, 0.9068647990286371, 0.8663461119954295, 0.8515006566378635, 0.8960091634443512, 0.8956405774578151, 0.9108387250382307, 0.9046302271649704, 0.9080362673810812, 0.8892995697288993, 0.9124573255774049, 0.9065632312700699, 0.9024467845213499, 0.90004510461806, 0.9055747504536429, 0.8915946254006349, 0.9094605616656345, 0.9104942983334204, 0.8997635538706709, 0.9075066702445231, 0.9046894078936706, 0.9175735718611557, 0.8537226114593218, 0.8897290722980392, 0.9178007261785487, 0.8973272805391774, 0.9017629199082906, 0.8980627119025818, 0.8810849478772057, 0.8960539865211752, 0.9190270237355241, 0.8982974801983298, 0.8195521181146143, 0.898581423095071, 0.9097168735728428, 0.8730452620528754, 0.8813886890199756, 0.918143198264306, 0.9148450806033536, 0.8775357353822839, 0.9072760299520307, 0.907529949709887, 0.9172019374298191, 0.8669259680472003, 0.919836431009804, 0.922855822847254, 0.9125861354485755, 0.9054742326232179, 0.9116083218110681, 0.9105939553705399, 0.9012714021750354, 0.9174767445036872, 0.8887240556897695, 0.8919640816920049, 0.9088830977632157, 0.9043804401661336, 0.9063946013859286, 0.8839576909722737, 0.9060606135833602, 0.9183039954049427, 0.9041004112632627, 0.9174419323103341, 0.9066493914486188, 0.9173518533821511, 0.8992922719137431, 0.9182228382902472, 0.8927256222004244, 0.9187443839181516, 0.9212324380093756, 0.9149227612544778, 0.9088456698995971, 0.9138666154261617, 0.8558107533457563, 0.9203066238967482, 0.9215083341532271]}, {\"categories\": [\"0\", \"1\", \"2\", \"3\", \"4\", \"5\", \"6\", \"7\", \"8\", \"9\", \"10\", \"11\", \"12\", \"13\", \"14\", \"15\", \"16\", \"17\", \"18\", \"19\", \"20\", \"21\", \"22\", \"23\", \"24\", \"25\", \"26\", \"27\", \"28\", \"29\", \"30\", \"31\", \"32\", \"33\", \"34\", \"35\", \"36\", \"37\", \"38\", \"39\", \"40\", \"41\", \"42\", \"43\", \"44\", \"45\", \"46\", \"47\", \"48\", \"49\", \"50\", \"51\", \"52\", \"53\", \"54\", \"55\", \"56\", \"57\", \"58\", \"59\", \"60\", \"61\", \"62\", \"63\", \"64\", \"65\", \"66\", \"67\", \"68\", \"69\", \"70\", \"71\", \"72\", \"73\", \"74\", \"75\", \"76\", \"77\", \"78\", \"79\", \"80\", \"81\", \"82\", \"83\", \"84\", \"85\", \"86\", \"87\", \"88\", \"89\", \"90\", \"91\", \"92\", \"93\", \"94\", \"95\", \"96\", \"97\", \"98\", \"99\", \"100\", \"101\", \"102\"], \"mode\": \"lines\", \"name\": \"AUC_micro_max\", \"stepped\": true, \"type\": \"scatter\", \"data\": [0.9003751784267582, 0.9012853270523765, 0.9091793319323233, 0.919325543049291, 0.919325543049291, 0.919325543049291, 0.919325543049291, 0.919325543049291, 0.919325543049291, 0.919325543049291, 0.919325543049291, 0.919325543049291, 0.919325543049291, 0.919325543049291, 0.919325543049291, 0.919325543049291, 0.919325543049291, 0.919325543049291, 0.919325543049291, 0.919325543049291, 0.919325543049291, 0.919325543049291, 0.919325543049291, 0.919325543049291, 0.919325543049291, 0.919325543049291, 0.919325543049291, 0.919325543049291, 0.919325543049291, 0.919325543049291, 0.919325543049291, 0.919325543049291, 0.919325543049291, 0.919325543049291, 0.919325543049291, 0.919325543049291, 0.919325543049291, 0.919325543049291, 0.919325543049291, 0.919325543049291, 0.919325543049291, 0.919325543049291, 0.919325543049291, 0.919325543049291, 0.919325543049291, 0.919325543049291, 0.919325543049291, 0.919325543049291, 0.919325543049291, 0.919325543049291, 0.919325543049291, 0.919325543049291, 0.919325543049291, 0.919325543049291, 0.919325543049291, 0.919325543049291, 0.919325543049291, 0.919325543049291, 0.919325543049291, 0.919325543049291, 0.919325543049291, 0.919325543049291, 0.919325543049291, 0.919325543049291, 0.919325543049291, 0.919325543049291, 0.919325543049291, 0.919325543049291, 0.919325543049291, 0.919325543049291, 0.919325543049291, 0.919325543049291, 0.919836431009804, 0.922855822847254, 0.922855822847254, 0.922855822847254, 0.922855822847254, 0.922855822847254, 0.922855822847254, 0.922855822847254, 0.922855822847254, 0.922855822847254, 0.922855822847254, 0.922855822847254, 0.922855822847254, 0.922855822847254, 0.922855822847254, 0.922855822847254, 0.922855822847254, 0.922855822847254, 0.922855822847254, 0.922855822847254, 0.922855822847254, 0.922855822847254, 0.922855822847254, 0.922855822847254, 0.922855822847254, 0.922855822847254, 0.922855822847254, 0.922855822847254, 0.922855822847254, 0.922855822847254, 0.922855822847254]}], \"recall_score_macro\": [{\"categories\": [\"0\", \"1\", \"2\", \"3\", \"4\", \"5\", \"6\", \"7\", \"8\", \"9\", \"10\", \"11\", \"12\", \"13\", \"14\", \"15\", \"16\", \"17\", \"18\", \"19\", \"20\", \"21\", \"22\", \"23\", \"24\", \"25\", \"26\", \"27\", \"28\", \"29\", \"30\", \"31\", \"32\", \"33\", \"34\", \"35\", \"36\", \"37\", \"38\", \"39\", \"40\", \"41\", \"42\", \"43\", \"44\", \"45\", \"46\", \"47\", \"48\", \"49\", \"50\", \"51\", \"52\", \"53\", \"54\", \"55\", \"56\", \"57\", \"58\", \"59\", \"60\", \"61\", \"62\", \"63\", \"64\", \"65\", \"66\", \"67\", \"68\", \"69\", \"70\", \"71\", \"72\", \"73\", \"74\", \"75\", \"76\", \"77\", \"78\", \"79\", \"80\", \"81\", \"82\", \"83\", \"84\", \"85\", \"86\", \"87\", \"88\", \"89\", \"90\", \"91\", \"92\", \"93\", \"94\", \"95\", \"96\", \"97\", \"98\", \"99\", \"100\", \"101\", \"102\"], \"mode\": \"markers\", \"name\": \"recall_score_macro\", \"stepped\": false, \"type\": \"scatter\", \"data\": [0.7997924516741722, 0.7876711699292344, 0.8112520295315995, 0.7840218423551756, 0.804562233863309, 0.7879606653800203, 0.6759381797016206, 0.7986030695708116, 0.7860483105106763, 0.7776353276353275, 0.790648837423031, 0.7194130441442269, 0.7573943877707318, 0.7113186594369391, 0.7461201482706858, 0.7684472934472936, 0.580002603927335, 0.740449713567993, 0.8000375271880648, 0.768307140887786, 0.7668933615170174, 0.8048655148117513, 0.7633742303097142, 0.8182925895291486, 0.8286600496277915, 0.7263027295285359, 0.768569065343259, 0.8122622001654259, 0.7624720460741967, 0.7940232209049413, 0.587280580828968, 0.5558940661091198, 0.6935866801458199, 0.6966976074502957, 0.7930337285175995, 0.7796824740373127, 0.7658923812149618, 0.7683714732101828, 0.7880295928683024, 0.7660624023527248, 0.7720560303893637, 0.7796824740373127, 0.7904489477070124, 0.7884883435958704, 0.8048310510676101, 0.7932129399871336, 0.7652214869956806, 0.8209095365009343, 0.773364886805747, 0.7910869099041141, 0.6820083938363508, 0.7552890359341973, 0.7964287902459946, 0.7399970897282726, 0.7868608890114266, 0.7956322948258432, 0.6949552737187146, 0.7054238274668382, 0.8108591428483901, 0.7743061299512912, 0.5, 0.7776805134332015, 0.7994753852280733, 0.6370707349201973, 0.6764084183439022, 0.7930337285175995, 0.7548226265968202, 0.6838548846613363, 0.7933025457219006, 0.7520341267653095, 0.7990962840425206, 0.6205143522347824, 0.8061950494746194, 0.793809545691266, 0.799971663143706, 0.7819432956529729, 0.7940783628955671, 0.7966769292038108, 0.7552201084459149, 0.7919178690684067, 0.68829534662868, 0.7756701283583004, 0.783111999509849, 0.7859931685200502, 0.7920419385473149, 0.7053411144808995, 0.7945608553135436, 0.8259481358943725, 0.7893882302484453, 0.7934404006984653, 0.7608507183776, 0.806458505652054, 0.7380257635633979, 0.82338403333027, 0.7635534417792482, 0.7909973041693471, 0.7996339184511226, 0.8083501822749136, 0.7976526360934963, 0.7923061605857304, 0.6105083785191311, 0.8238826088288453, 0.8128404252060166]}, {\"categories\": [\"0\", \"1\", \"2\", \"3\", \"4\", \"5\", \"6\", \"7\", \"8\", \"9\", \"10\", \"11\", \"12\", \"13\", \"14\", \"15\", \"16\", \"17\", \"18\", \"19\", \"20\", \"21\", \"22\", \"23\", \"24\", \"25\", \"26\", \"27\", \"28\", \"29\", \"30\", \"31\", \"32\", \"33\", \"34\", \"35\", \"36\", \"37\", \"38\", \"39\", \"40\", \"41\", \"42\", \"43\", \"44\", \"45\", \"46\", \"47\", \"48\", \"49\", \"50\", \"51\", \"52\", \"53\", \"54\", \"55\", \"56\", \"57\", \"58\", \"59\", \"60\", \"61\", \"62\", \"63\", \"64\", \"65\", \"66\", \"67\", \"68\", \"69\", \"70\", \"71\", \"72\", \"73\", \"74\", \"75\", \"76\", \"77\", \"78\", \"79\", \"80\", \"81\", \"82\", \"83\", \"84\", \"85\", \"86\", \"87\", \"88\", \"89\", \"90\", \"91\", \"92\", \"93\", \"94\", \"95\", \"96\", \"97\", \"98\", \"99\", \"100\", \"101\", \"102\"], \"mode\": \"lines\", \"name\": \"recall_score_macro_max\", \"stepped\": true, \"type\": \"scatter\", \"data\": [0.7997924516741722, 0.7997924516741722, 0.8112520295315995, 0.8112520295315995, 0.8112520295315995, 0.8112520295315995, 0.8112520295315995, 0.8112520295315995, 0.8112520295315995, 0.8112520295315995, 0.8112520295315995, 0.8112520295315995, 0.8112520295315995, 0.8112520295315995, 0.8112520295315995, 0.8112520295315995, 0.8112520295315995, 0.8112520295315995, 0.8112520295315995, 0.8112520295315995, 0.8112520295315995, 0.8112520295315995, 0.8112520295315995, 0.8182925895291486, 0.8286600496277915, 0.8286600496277915, 0.8286600496277915, 0.8286600496277915, 0.8286600496277915, 0.8286600496277915, 0.8286600496277915, 0.8286600496277915, 0.8286600496277915, 0.8286600496277915, 0.8286600496277915, 0.8286600496277915, 0.8286600496277915, 0.8286600496277915, 0.8286600496277915, 0.8286600496277915, 0.8286600496277915, 0.8286600496277915, 0.8286600496277915, 0.8286600496277915, 0.8286600496277915, 0.8286600496277915, 0.8286600496277915, 0.8286600496277915, 0.8286600496277915, 0.8286600496277915, 0.8286600496277915, 0.8286600496277915, 0.8286600496277915, 0.8286600496277915, 0.8286600496277915, 0.8286600496277915, 0.8286600496277915, 0.8286600496277915, 0.8286600496277915, 0.8286600496277915, 0.8286600496277915, 0.8286600496277915, 0.8286600496277915, 0.8286600496277915, 0.8286600496277915, 0.8286600496277915, 0.8286600496277915, 0.8286600496277915, 0.8286600496277915, 0.8286600496277915, 0.8286600496277915, 0.8286600496277915, 0.8286600496277915, 0.8286600496277915, 0.8286600496277915, 0.8286600496277915, 0.8286600496277915, 0.8286600496277915, 0.8286600496277915, 0.8286600496277915, 0.8286600496277915, 0.8286600496277915, 0.8286600496277915, 0.8286600496277915, 0.8286600496277915, 0.8286600496277915, 0.8286600496277915, 0.8286600496277915, 0.8286600496277915, 0.8286600496277915, 0.8286600496277915, 0.8286600496277915, 0.8286600496277915, 0.8286600496277915, 0.8286600496277915, 0.8286600496277915, 0.8286600496277915, 0.8286600496277915, 0.8286600496277915, 0.8286600496277915, 0.8286600496277915, 0.8286600496277915, 0.8286600496277915]}], \"AUC_macro\": [{\"categories\": [\"0\", \"1\", \"2\", \"3\", \"4\", \"5\", \"6\", \"7\", \"8\", \"9\", \"10\", \"11\", \"12\", \"13\", \"14\", \"15\", \"16\", \"17\", \"18\", \"19\", \"20\", \"21\", \"22\", \"23\", \"24\", \"25\", \"26\", \"27\", \"28\", \"29\", \"30\", \"31\", \"32\", \"33\", \"34\", \"35\", \"36\", \"37\", \"38\", \"39\", \"40\", \"41\", \"42\", \"43\", \"44\", \"45\", \"46\", \"47\", \"48\", \"49\", \"50\", \"51\", \"52\", \"53\", \"54\", \"55\", \"56\", \"57\", \"58\", \"59\", \"60\", \"61\", \"62\", \"63\", \"64\", \"65\", \"66\", \"67\", \"68\", \"69\", \"70\", \"71\", \"72\", \"73\", \"74\", \"75\", \"76\", \"77\", \"78\", \"79\", \"80\", \"81\", \"82\", \"83\", \"84\", \"85\", \"86\", \"87\", \"88\", \"89\", \"90\", \"91\", \"92\", \"93\", \"94\", \"95\", \"96\", \"97\", \"98\", \"99\", \"100\", \"101\", \"102\"], \"mode\": \"markers\", \"name\": \"AUC_macro\", \"stepped\": false, \"type\": \"scatter\", \"data\": [0.8776062249180528, 0.8829764421162271, 0.8877714977177341, 0.9069946083386945, 0.9016129032258066, 0.8948419262935392, 0.7777793094997397, 0.8976166406273932, 0.8987041632202922, 0.8857672395306805, 0.9039556719664247, 0.8948426921545202, 0.8733342523665105, 0.9006341328921974, 0.90308948319701, 0.888466133627424, 0.9012973685016696, 0.8537358698649022, 0.9012429923720245, 0.8650338510553564, 0.8884018013050271, 0.8932933553901297, 0.894671905155776, 0.9059032564408908, 0.9093802652942437, 0.7914851576141899, 0.8360904328646264, 0.8841007260362099, 0.8595073982170757, 0.890648837423031, 0.9023481297674847, 0.8785727414759673, 0.9119213920289188, 0.893261955089912, 0.8888283858713967, 0.9028183684097663, 0.8942652329749103, 0.8667463162086818, 0.8968431210366695, 0.8974335998529547, 0.8963575651747696, 0.8959309806084, 0.8868746745090831, 0.8689596544435254, 0.8893047514015257, 0.894753852280734, 0.8945363477621542, 0.8862405416168858, 0.8888015807370646, 0.9035742731979292, 0.8469465122690929, 0.863734950831725, 0.9153003706767148, 0.8927197255154246, 0.8837415372361609, 0.8884814508470423, 0.89310954875471, 0.8897389945777042, 0.9043072021566645, 0.8861800385993934, 0.8199545078577337, 0.8807692307692307, 0.8970284593940508, 0.8837545568728364, 0.8833425236651044, 0.8985372055264529, 0.9138237907055112, 0.8682121741261527, 0.886963514382869, 0.8942300033697883, 0.9073185675336214, 0.8824066415464266, 0.9061176975155468, 0.9115017002113777, 0.8972092025855467, 0.894519498820574, 0.8981067916551787, 0.8911864718316331, 0.8968078914315473, 0.9050500873081518, 0.8951413779370769, 0.8697745305272188, 0.899316852005024, 0.8843274208865607, 0.8881260913518977, 0.89358668014582, 0.8889616456820758, 0.9042826946052752, 0.8846460190546211, 0.9061789663940201, 0.9054452715743038, 0.8980179517813927, 0.9005391661305641, 0.9036225224397268, 0.8918803418803419, 0.9119918512391632, 0.912017890512514, 0.8963866678920441, 0.8883183224581074, 0.8994761510890542, 0.875043654075912, 0.9072006249425604, 0.909458383114297]}, {\"categories\": [\"0\", \"1\", \"2\", \"3\", \"4\", \"5\", \"6\", \"7\", \"8\", \"9\", \"10\", \"11\", \"12\", \"13\", \"14\", \"15\", \"16\", \"17\", \"18\", \"19\", \"20\", \"21\", \"22\", \"23\", \"24\", \"25\", \"26\", \"27\", \"28\", \"29\", \"30\", \"31\", \"32\", \"33\", \"34\", \"35\", \"36\", \"37\", \"38\", \"39\", \"40\", \"41\", \"42\", \"43\", \"44\", \"45\", \"46\", \"47\", \"48\", \"49\", \"50\", \"51\", \"52\", \"53\", \"54\", \"55\", \"56\", \"57\", \"58\", \"59\", \"60\", \"61\", \"62\", \"63\", \"64\", \"65\", \"66\", \"67\", \"68\", \"69\", \"70\", \"71\", \"72\", \"73\", \"74\", \"75\", \"76\", \"77\", \"78\", \"79\", \"80\", \"81\", \"82\", \"83\", \"84\", \"85\", \"86\", \"87\", \"88\", \"89\", \"90\", \"91\", \"92\", \"93\", \"94\", \"95\", \"96\", \"97\", \"98\", \"99\", \"100\", \"101\", \"102\"], \"mode\": \"lines\", \"name\": \"AUC_macro_max\", \"stepped\": true, \"type\": \"scatter\", \"data\": [0.8776062249180528, 0.8829764421162271, 0.8877714977177341, 0.9069946083386945, 0.9069946083386945, 0.9069946083386945, 0.9069946083386945, 0.9069946083386945, 0.9069946083386945, 0.9069946083386945, 0.9069946083386945, 0.9069946083386945, 0.9069946083386945, 0.9069946083386945, 0.9069946083386945, 0.9069946083386945, 0.9069946083386945, 0.9069946083386945, 0.9069946083386945, 0.9069946083386945, 0.9069946083386945, 0.9069946083386945, 0.9069946083386945, 0.9069946083386945, 0.9093802652942437, 0.9093802652942437, 0.9093802652942437, 0.9093802652942437, 0.9093802652942437, 0.9093802652942437, 0.9093802652942437, 0.9093802652942437, 0.9119213920289188, 0.9119213920289188, 0.9119213920289188, 0.9119213920289188, 0.9119213920289188, 0.9119213920289188, 0.9119213920289188, 0.9119213920289188, 0.9119213920289188, 0.9119213920289188, 0.9119213920289188, 0.9119213920289188, 0.9119213920289188, 0.9119213920289188, 0.9119213920289188, 0.9119213920289188, 0.9119213920289188, 0.9119213920289188, 0.9119213920289188, 0.9119213920289188, 0.9153003706767148, 0.9153003706767148, 0.9153003706767148, 0.9153003706767148, 0.9153003706767148, 0.9153003706767148, 0.9153003706767148, 0.9153003706767148, 0.9153003706767148, 0.9153003706767148, 0.9153003706767148, 0.9153003706767148, 0.9153003706767148, 0.9153003706767148, 0.9153003706767148, 0.9153003706767148, 0.9153003706767148, 0.9153003706767148, 0.9153003706767148, 0.9153003706767148, 0.9153003706767148, 0.9153003706767148, 0.9153003706767148, 0.9153003706767148, 0.9153003706767148, 0.9153003706767148, 0.9153003706767148, 0.9153003706767148, 0.9153003706767148, 0.9153003706767148, 0.9153003706767148, 0.9153003706767148, 0.9153003706767148, 0.9153003706767148, 0.9153003706767148, 0.9153003706767148, 0.9153003706767148, 0.9153003706767148, 0.9153003706767148, 0.9153003706767148, 0.9153003706767148, 0.9153003706767148, 0.9153003706767148, 0.9153003706767148, 0.9153003706767148, 0.9153003706767148, 0.9153003706767148, 0.9153003706767148, 0.9153003706767148, 0.9153003706767148, 0.9153003706767148]}], \"average_precision_score_weighted\": [{\"categories\": [\"0\", \"1\", \"2\", \"3\", \"4\", \"5\", \"6\", \"7\", \"8\", \"9\", \"10\", \"11\", \"12\", \"13\", \"14\", \"15\", \"16\", \"17\", \"18\", \"19\", \"20\", \"21\", \"22\", \"23\", \"24\", \"25\", \"26\", \"27\", \"28\", \"29\", \"30\", \"31\", \"32\", \"33\", \"34\", \"35\", \"36\", \"37\", \"38\", \"39\", \"40\", \"41\", \"42\", \"43\", \"44\", \"45\", \"46\", \"47\", \"48\", \"49\", \"50\", \"51\", \"52\", \"53\", \"54\", \"55\", \"56\", \"57\", \"58\", \"59\", \"60\", \"61\", \"62\", \"63\", \"64\", \"65\", \"66\", \"67\", \"68\", \"69\", \"70\", \"71\", \"72\", \"73\", \"74\", \"75\", \"76\", \"77\", \"78\", \"79\", \"80\", \"81\", \"82\", \"83\", \"84\", \"85\", \"86\", \"87\", \"88\", \"89\", \"90\", \"91\", \"92\", \"93\", \"94\", \"95\", \"96\", \"97\", \"98\", \"99\", \"100\", \"101\", \"102\"], \"mode\": \"markers\", \"name\": \"average_precision_score_weighted\", \"stepped\": false, \"type\": \"scatter\", \"data\": [0.884841316086313, 0.8926821824140467, 0.8881042421366372, 0.913041077513518, 0.9068746587477903, 0.9023487171758645, 0.7972578068240873, 0.9063013793664864, 0.9133568243842434, 0.8891028564138392, 0.9080781733786725, 0.904584756809461, 0.8850371561786451, 0.9063058094856888, 0.9107097617575893, 0.8955856251845069, 0.9105760573256619, 0.8618651704260326, 0.9070957939270118, 0.8685225495680715, 0.896636370952436, 0.8895530213236759, 0.8994551374199878, 0.912313629237353, 0.9167836546580967, 0.7739970892128336, 0.8541852523038088, 0.891638587733933, 0.8643385692407567, 0.896357032411315, 0.9115070156591915, 0.8925709893753138, 0.9213105923235568, 0.9003412939034595, 0.8900619084700655, 0.9088892010329904, 0.9007679714747786, 0.8818152339127927, 0.9035973565676715, 0.8994879671932386, 0.9071069032360534, 0.8964368692128928, 0.8923602177211781, 0.8768930039480454, 0.8963076769732607, 0.9030346933238526, 0.908044128735256, 0.8961410683993517, 0.8952971074898525, 0.9088764769739609, 0.8536806998496012, 0.8736482493241695, 0.9218757501156031, 0.9020641369462852, 0.8892202345961131, 0.9013822671629157, 0.8966984702952862, 0.8993572121574552, 0.9096134877288641, 0.89061259851312, 0.8151989381016973, 0.8933471250293392, 0.9045655033019316, 0.8927644315130947, 0.897436515735651, 0.8972178986219065, 0.9177197538532368, 0.8835553860419441, 0.8895372300414662, 0.9009654814888785, 0.9120769413888387, 0.8919015053385468, 0.911409006737092, 0.9193654143109327, 0.9052057725477983, 0.8988410028468814, 0.9040946553649482, 0.8986593472224419, 0.9054829685417364, 0.9123022358342673, 0.9039789949660028, 0.8692940758767639, 0.9029225288456771, 0.8915981784569035, 0.8900039363370292, 0.9082736317976634, 0.8950444384370154, 0.9107481263862233, 0.889505691904178, 0.910753560207365, 0.9136257044778203, 0.9065855222411706, 0.9039336342119185, 0.9100217297811741, 0.8910077695796547, 0.9136948059194222, 0.9229092667169132, 0.9021077631717557, 0.8883683677841071, 0.9044855863384096, 0.8903138951102448, 0.9121978462633121, 0.91623689410907]}, {\"categories\": [\"0\", \"1\", \"2\", \"3\", \"4\", \"5\", \"6\", \"7\", \"8\", \"9\", \"10\", \"11\", \"12\", \"13\", \"14\", \"15\", \"16\", \"17\", \"18\", \"19\", \"20\", \"21\", \"22\", \"23\", \"24\", \"25\", \"26\", \"27\", \"28\", \"29\", \"30\", \"31\", \"32\", \"33\", \"34\", \"35\", \"36\", \"37\", \"38\", \"39\", \"40\", \"41\", \"42\", \"43\", \"44\", \"45\", \"46\", \"47\", \"48\", \"49\", \"50\", \"51\", \"52\", \"53\", \"54\", \"55\", \"56\", \"57\", \"58\", \"59\", \"60\", \"61\", \"62\", \"63\", \"64\", \"65\", \"66\", \"67\", \"68\", \"69\", \"70\", \"71\", \"72\", \"73\", \"74\", \"75\", \"76\", \"77\", \"78\", \"79\", \"80\", \"81\", \"82\", \"83\", \"84\", \"85\", \"86\", \"87\", \"88\", \"89\", \"90\", \"91\", \"92\", \"93\", \"94\", \"95\", \"96\", \"97\", \"98\", \"99\", \"100\", \"101\", \"102\"], \"mode\": \"lines\", \"name\": \"average_precision_score_weighted_max\", \"stepped\": true, \"type\": \"scatter\", \"data\": [0.884841316086313, 0.8926821824140467, 0.8926821824140467, 0.913041077513518, 0.913041077513518, 0.913041077513518, 0.913041077513518, 0.913041077513518, 0.9133568243842434, 0.9133568243842434, 0.9133568243842434, 0.9133568243842434, 0.9133568243842434, 0.9133568243842434, 0.9133568243842434, 0.9133568243842434, 0.9133568243842434, 0.9133568243842434, 0.9133568243842434, 0.9133568243842434, 0.9133568243842434, 0.9133568243842434, 0.9133568243842434, 0.9133568243842434, 0.9167836546580967, 0.9167836546580967, 0.9167836546580967, 0.9167836546580967, 0.9167836546580967, 0.9167836546580967, 0.9167836546580967, 0.9167836546580967, 0.9213105923235568, 0.9213105923235568, 0.9213105923235568, 0.9213105923235568, 0.9213105923235568, 0.9213105923235568, 0.9213105923235568, 0.9213105923235568, 0.9213105923235568, 0.9213105923235568, 0.9213105923235568, 0.9213105923235568, 0.9213105923235568, 0.9213105923235568, 0.9213105923235568, 0.9213105923235568, 0.9213105923235568, 0.9213105923235568, 0.9213105923235568, 0.9213105923235568, 0.9218757501156031, 0.9218757501156031, 0.9218757501156031, 0.9218757501156031, 0.9218757501156031, 0.9218757501156031, 0.9218757501156031, 0.9218757501156031, 0.9218757501156031, 0.9218757501156031, 0.9218757501156031, 0.9218757501156031, 0.9218757501156031, 0.9218757501156031, 0.9218757501156031, 0.9218757501156031, 0.9218757501156031, 0.9218757501156031, 0.9218757501156031, 0.9218757501156031, 0.9218757501156031, 0.9218757501156031, 0.9218757501156031, 0.9218757501156031, 0.9218757501156031, 0.9218757501156031, 0.9218757501156031, 0.9218757501156031, 0.9218757501156031, 0.9218757501156031, 0.9218757501156031, 0.9218757501156031, 0.9218757501156031, 0.9218757501156031, 0.9218757501156031, 0.9218757501156031, 0.9218757501156031, 0.9218757501156031, 0.9218757501156031, 0.9218757501156031, 0.9218757501156031, 0.9218757501156031, 0.9218757501156031, 0.9218757501156031, 0.9229092667169132, 0.9229092667169132, 0.9229092667169132, 0.9229092667169132, 0.9229092667169132, 0.9229092667169132, 0.9229092667169132]}], \"norm_macro_recall\": [{\"categories\": [\"0\", \"1\", \"2\", \"3\", \"4\", \"5\", \"6\", \"7\", \"8\", \"9\", \"10\", \"11\", \"12\", \"13\", \"14\", \"15\", \"16\", \"17\", \"18\", \"19\", \"20\", \"21\", \"22\", \"23\", \"24\", \"25\", \"26\", \"27\", \"28\", \"29\", \"30\", \"31\", \"32\", \"33\", \"34\", \"35\", \"36\", \"37\", \"38\", \"39\", \"40\", \"41\", \"42\", \"43\", \"44\", \"45\", \"46\", \"47\", \"48\", \"49\", \"50\", \"51\", \"52\", \"53\", \"54\", \"55\", \"56\", \"57\", \"58\", \"59\", \"60\", \"61\", \"62\", \"63\", \"64\", \"65\", \"66\", \"67\", \"68\", \"69\", \"70\", \"71\", \"72\", \"73\", \"74\", \"75\", \"76\", \"77\", \"78\", \"79\", \"80\", \"81\", \"82\", \"83\", \"84\", \"85\", \"86\", \"87\", \"88\", \"89\", \"90\", \"91\", \"92\", \"93\", \"94\", \"95\", \"96\", \"97\", \"98\", \"99\", \"100\", \"101\", \"102\"], \"mode\": \"markers\", \"name\": \"norm_macro_recall\", \"stepped\": false, \"type\": \"scatter\", \"data\": [0.5995849033483442, 0.5753423398584689, 0.622504059063199, 0.5680436847103514, 0.6091244677266182, 0.5759213307600405, 0.3518763594032412, 0.5972061391416229, 0.5720966210213522, 0.5552706552706553, 0.581297674846062, 0.4388260882884539, 0.5147887755414636, 0.42263731887387807, 0.4922402965413719, 0.5368945868945869, 0.16000520785467018, 0.48089942713598627, 0.6000750543761296, 0.536614281775572, 0.5337867230340348, 0.6097310296235027, 0.5267484606194284, 0.6365851790582974, 0.6573200992555832, 0.4526054590570719, 0.5371381306865178, 0.6245244003308519, 0.5249440921483933, 0.5880464418098826, 0.1745611616579359, 0.11178813221823976, 0.3871733602916399, 0.3933952149005913, 0.586067457035199, 0.5593649480746254, 0.5317847624299238, 0.5367429464203659, 0.5760591857366051, 0.5321248047054499, 0.5441120607787274, 0.5593649480746254, 0.5808978954140244, 0.5769766871917409, 0.6096621021352203, 0.5864258799742671, 0.5304429739913611, 0.6418190730018688, 0.546729773611494, 0.5821738198082284, 0.3640167876727016, 0.5105780718683945, 0.592857580491989, 0.47999417945654504, 0.5737217780228532, 0.5912645896516865, 0.38991054743742914, 0.4108476549336764, 0.6217182856967803, 0.5486122599025824, 0.0, 0.5553610268664032, 0.5989507704561468, 0.27414146984039456, 0.35281683668780445, 0.586067457035199, 0.5096452531936403, 0.36770976932267246, 0.5866050914438011, 0.5040682535306191, 0.5981925680850412, 0.2410287044695647, 0.6123900989492387, 0.5876190913825322, 0.5999433262874123, 0.5638865913059461, 0.5881567257911343, 0.5933538584076218, 0.5104402168918298, 0.5838357381368133, 0.37659069325735994, 0.5513402567166008, 0.5662239990196979, 0.5719863370401005, 0.5840838770946298, 0.4106822289617989, 0.589121710627087, 0.6518962717887449, 0.5787764604968907, 0.5868808013969306, 0.5217014367552001, 0.612917011304108, 0.47605152712679594, 0.6467680666605398, 0.5271068835584964, 0.5819946083386943, 0.5992678369022454, 0.6167003645498269, 0.5953052721869926, 0.584612321171461, 0.22101675703826232, 0.6477652176576907, 0.6256808504120331]}, {\"categories\": [\"0\", \"1\", \"2\", \"3\", \"4\", \"5\", \"6\", \"7\", \"8\", \"9\", \"10\", \"11\", \"12\", \"13\", \"14\", \"15\", \"16\", \"17\", \"18\", \"19\", \"20\", \"21\", \"22\", \"23\", \"24\", \"25\", \"26\", \"27\", \"28\", \"29\", \"30\", \"31\", \"32\", \"33\", \"34\", \"35\", \"36\", \"37\", \"38\", \"39\", \"40\", \"41\", \"42\", \"43\", \"44\", \"45\", \"46\", \"47\", \"48\", \"49\", \"50\", \"51\", \"52\", \"53\", \"54\", \"55\", \"56\", \"57\", \"58\", \"59\", \"60\", \"61\", \"62\", \"63\", \"64\", \"65\", \"66\", \"67\", \"68\", \"69\", \"70\", \"71\", \"72\", \"73\", \"74\", \"75\", \"76\", \"77\", \"78\", \"79\", \"80\", \"81\", \"82\", \"83\", \"84\", \"85\", \"86\", \"87\", \"88\", \"89\", \"90\", \"91\", \"92\", \"93\", \"94\", \"95\", \"96\", \"97\", \"98\", \"99\", \"100\", \"101\", \"102\"], \"mode\": \"lines\", \"name\": \"norm_macro_recall_max\", \"stepped\": true, \"type\": \"scatter\", \"data\": [0.5995849033483442, 0.5995849033483442, 0.622504059063199, 0.622504059063199, 0.622504059063199, 0.622504059063199, 0.622504059063199, 0.622504059063199, 0.622504059063199, 0.622504059063199, 0.622504059063199, 0.622504059063199, 0.622504059063199, 0.622504059063199, 0.622504059063199, 0.622504059063199, 0.622504059063199, 0.622504059063199, 0.622504059063199, 0.622504059063199, 0.622504059063199, 0.622504059063199, 0.622504059063199, 0.6365851790582974, 0.6573200992555832, 0.6573200992555832, 0.6573200992555832, 0.6573200992555832, 0.6573200992555832, 0.6573200992555832, 0.6573200992555832, 0.6573200992555832, 0.6573200992555832, 0.6573200992555832, 0.6573200992555832, 0.6573200992555832, 0.6573200992555832, 0.6573200992555832, 0.6573200992555832, 0.6573200992555832, 0.6573200992555832, 0.6573200992555832, 0.6573200992555832, 0.6573200992555832, 0.6573200992555832, 0.6573200992555832, 0.6573200992555832, 0.6573200992555832, 0.6573200992555832, 0.6573200992555832, 0.6573200992555832, 0.6573200992555832, 0.6573200992555832, 0.6573200992555832, 0.6573200992555832, 0.6573200992555832, 0.6573200992555832, 0.6573200992555832, 0.6573200992555832, 0.6573200992555832, 0.6573200992555832, 0.6573200992555832, 0.6573200992555832, 0.6573200992555832, 0.6573200992555832, 0.6573200992555832, 0.6573200992555832, 0.6573200992555832, 0.6573200992555832, 0.6573200992555832, 0.6573200992555832, 0.6573200992555832, 0.6573200992555832, 0.6573200992555832, 0.6573200992555832, 0.6573200992555832, 0.6573200992555832, 0.6573200992555832, 0.6573200992555832, 0.6573200992555832, 0.6573200992555832, 0.6573200992555832, 0.6573200992555832, 0.6573200992555832, 0.6573200992555832, 0.6573200992555832, 0.6573200992555832, 0.6573200992555832, 0.6573200992555832, 0.6573200992555832, 0.6573200992555832, 0.6573200992555832, 0.6573200992555832, 0.6573200992555832, 0.6573200992555832, 0.6573200992555832, 0.6573200992555832, 0.6573200992555832, 0.6573200992555832, 0.6573200992555832, 0.6573200992555832, 0.6573200992555832, 0.6573200992555832]}], \"f1_score_weighted\": [{\"categories\": [\"0\", \"1\", \"2\", \"3\", \"4\", \"5\", \"6\", \"7\", \"8\", \"9\", \"10\", \"11\", \"12\", \"13\", \"14\", \"15\", \"16\", \"17\", \"18\", \"19\", \"20\", \"21\", \"22\", \"23\", \"24\", \"25\", \"26\", \"27\", \"28\", \"29\", \"30\", \"31\", \"32\", \"33\", \"34\", \"35\", \"36\", \"37\", \"38\", \"39\", \"40\", \"41\", \"42\", \"43\", \"44\", \"45\", \"46\", \"47\", \"48\", \"49\", \"50\", \"51\", \"52\", \"53\", \"54\", \"55\", \"56\", \"57\", \"58\", \"59\", \"60\", \"61\", \"62\", \"63\", \"64\", \"65\", \"66\", \"67\", \"68\", \"69\", \"70\", \"71\", \"72\", \"73\", \"74\", \"75\", \"76\", \"77\", \"78\", \"79\", \"80\", \"81\", \"82\", \"83\", \"84\", \"85\", \"86\", \"87\", \"88\", \"89\", \"90\", \"91\", \"92\", \"93\", \"94\", \"95\", \"96\", \"97\", \"98\", \"99\", \"100\", \"101\", \"102\"], \"mode\": \"markers\", \"name\": \"f1_score_weighted\", \"stepped\": false, \"type\": \"scatter\", \"data\": [0.834559864048427, 0.8291124471579998, 0.8425269754475563, 0.8277039502226909, 0.8379214634734661, 0.8370102279598536, 0.7473835435484264, 0.8370352794783287, 0.8315425619027494, 0.8207539610924025, 0.83779238785485, 0.7881538002855719, 0.805178779597322, 0.7794744707016562, 0.8063172060961538, 0.8260305242887949, 0.6565120391955445, 0.7931033256501435, 0.8399676511982047, 0.8045685039773843, 0.8176619167644251, 0.8412310375518155, 0.8189270125853744, 0.8579969904255874, 0.8418571330207851, 0.7245955607428174, 0.7821855197073923, 0.8336390296026887, 0.806208975739595, 0.8334046342936451, 0.6646983175411644, 0.6274327925039517, 0.768418866185693, 0.7695861484857183, 0.8382325584017085, 0.8319580687216325, 0.8145385402660187, 0.8021021873365424, 0.8291793637820956, 0.8223456304583379, 0.8270467467828334, 0.8319580687216325, 0.8296472212705983, 0.82895122052874, 0.8440327977102123, 0.8410398164744338, 0.8252533383228758, 0.8500508429970991, 0.8254185458011323, 0.8352659608497636, 0.7524125530909416, 0.8071580694787003, 0.8476873804928102, 0.801822400184987, 0.8368338640627294, 0.8388175931914151, 0.7658286976794194, 0.7737222347899264, 0.8452360828332584, 0.8275145637840352, 0.5505428714139772, 0.8239042199240827, 0.845407955142699, 0.717472047513204, 0.755266547930406, 0.8382325584017085, 0.8192324192269315, 0.757070567204782, 0.8411159549472788, 0.807701421918806, 0.8428792863664835, 0.7013334735016657, 0.8437083455248131, 0.8389295607205153, 0.8375445857776121, 0.8379184715220195, 0.8359872960607063, 0.8365723308504128, 0.81091533106623, 0.8327032442247173, 0.7648992737339823, 0.8275072046270243, 0.83327660245433, 0.8261387923454864, 0.8300555718010045, 0.7782317177940413, 0.8360272296426396, 0.8566668357023978, 0.8296454052300466, 0.833390052565092, 0.8238290738960535, 0.8414848359999589, 0.8001751185309157, 0.8533489281863301, 0.8183145333759695, 0.838113367751685, 0.8429571780305881, 0.8419095052251343, 0.839459008640454, 0.8324414090179699, 0.6828590453671691, 0.8622170933519829, 0.8454168340506026]}, {\"categories\": [\"0\", \"1\", \"2\", \"3\", \"4\", \"5\", \"6\", \"7\", \"8\", \"9\", \"10\", \"11\", \"12\", \"13\", \"14\", \"15\", \"16\", \"17\", \"18\", \"19\", \"20\", \"21\", \"22\", \"23\", \"24\", \"25\", \"26\", \"27\", \"28\", \"29\", \"30\", \"31\", \"32\", \"33\", \"34\", \"35\", \"36\", \"37\", \"38\", \"39\", \"40\", \"41\", \"42\", \"43\", \"44\", \"45\", \"46\", \"47\", \"48\", \"49\", \"50\", \"51\", \"52\", \"53\", \"54\", \"55\", \"56\", \"57\", \"58\", \"59\", \"60\", \"61\", \"62\", \"63\", \"64\", \"65\", \"66\", \"67\", \"68\", \"69\", \"70\", \"71\", \"72\", \"73\", \"74\", \"75\", \"76\", \"77\", \"78\", \"79\", \"80\", \"81\", \"82\", \"83\", \"84\", \"85\", \"86\", \"87\", \"88\", \"89\", \"90\", \"91\", \"92\", \"93\", \"94\", \"95\", \"96\", \"97\", \"98\", \"99\", \"100\", \"101\", \"102\"], \"mode\": \"lines\", \"name\": \"f1_score_weighted_max\", \"stepped\": true, \"type\": \"scatter\", \"data\": [0.834559864048427, 0.834559864048427, 0.8425269754475563, 0.8425269754475563, 0.8425269754475563, 0.8425269754475563, 0.8425269754475563, 0.8425269754475563, 0.8425269754475563, 0.8425269754475563, 0.8425269754475563, 0.8425269754475563, 0.8425269754475563, 0.8425269754475563, 0.8425269754475563, 0.8425269754475563, 0.8425269754475563, 0.8425269754475563, 0.8425269754475563, 0.8425269754475563, 0.8425269754475563, 0.8425269754475563, 0.8425269754475563, 0.8579969904255874, 0.8579969904255874, 0.8579969904255874, 0.8579969904255874, 0.8579969904255874, 0.8579969904255874, 0.8579969904255874, 0.8579969904255874, 0.8579969904255874, 0.8579969904255874, 0.8579969904255874, 0.8579969904255874, 0.8579969904255874, 0.8579969904255874, 0.8579969904255874, 0.8579969904255874, 0.8579969904255874, 0.8579969904255874, 0.8579969904255874, 0.8579969904255874, 0.8579969904255874, 0.8579969904255874, 0.8579969904255874, 0.8579969904255874, 0.8579969904255874, 0.8579969904255874, 0.8579969904255874, 0.8579969904255874, 0.8579969904255874, 0.8579969904255874, 0.8579969904255874, 0.8579969904255874, 0.8579969904255874, 0.8579969904255874, 0.8579969904255874, 0.8579969904255874, 0.8579969904255874, 0.8579969904255874, 0.8579969904255874, 0.8579969904255874, 0.8579969904255874, 0.8579969904255874, 0.8579969904255874, 0.8579969904255874, 0.8579969904255874, 0.8579969904255874, 0.8579969904255874, 0.8579969904255874, 0.8579969904255874, 0.8579969904255874, 0.8579969904255874, 0.8579969904255874, 0.8579969904255874, 0.8579969904255874, 0.8579969904255874, 0.8579969904255874, 0.8579969904255874, 0.8579969904255874, 0.8579969904255874, 0.8579969904255874, 0.8579969904255874, 0.8579969904255874, 0.8579969904255874, 0.8579969904255874, 0.8579969904255874, 0.8579969904255874, 0.8579969904255874, 0.8579969904255874, 0.8579969904255874, 0.8579969904255874, 0.8579969904255874, 0.8579969904255874, 0.8579969904255874, 0.8579969904255874, 0.8579969904255874, 0.8579969904255874, 0.8579969904255874, 0.8579969904255874, 0.8622170933519829, 0.8622170933519829]}], \"AUC_weighted\": [{\"categories\": [\"0\", \"1\", \"2\", \"3\", \"4\", \"5\", \"6\", \"7\", \"8\", \"9\", \"10\", \"11\", \"12\", \"13\", \"14\", \"15\", \"16\", \"17\", \"18\", \"19\", \"20\", \"21\", \"22\", \"23\", \"24\", \"25\", \"26\", \"27\", \"28\", \"29\", \"30\", \"31\", \"32\", \"33\", \"34\", \"35\", \"36\", \"37\", \"38\", \"39\", \"40\", \"41\", \"42\", \"43\", \"44\", \"45\", \"46\", \"47\", \"48\", \"49\", \"50\", \"51\", \"52\", \"53\", \"54\", \"55\", \"56\", \"57\", \"58\", \"59\", \"60\", \"61\", \"62\", \"63\", \"64\", \"65\", \"66\", \"67\", \"68\", \"69\", \"70\", \"71\", \"72\", \"73\", \"74\", \"75\", \"76\", \"77\", \"78\", \"79\", \"80\", \"81\", \"82\", \"83\", \"84\", \"85\", \"86\", \"87\", \"88\", \"89\", \"90\", \"91\", \"92\", \"93\", \"94\", \"95\", \"96\", \"97\", \"98\", \"99\", \"100\", \"101\", \"102\"], \"mode\": \"markers\", \"name\": \"AUC_weighted\", \"stepped\": false, \"type\": \"scatter\", \"data\": [0.8776062249180528, 0.8829764421162271, 0.8877714977177341, 0.9069946083386943, 0.9016129032258066, 0.8948419262935392, 0.7777793094997397, 0.8976166406273934, 0.8987041632202922, 0.8857672395306803, 0.9039556719664246, 0.8948426921545202, 0.8733342523665105, 0.9006341328921973, 0.9030894831970101, 0.888466133627424, 0.9012973685016696, 0.8537358698649022, 0.9012429923720248, 0.8650338510553564, 0.8884018013050271, 0.8932933553901297, 0.894671905155776, 0.9059032564408908, 0.9093802652942437, 0.7914851576141899, 0.8360904328646265, 0.8841007260362099, 0.8595073982170756, 0.8906488374230309, 0.9023481297674847, 0.8785727414759673, 0.911921392028919, 0.893261955089912, 0.8888283858713967, 0.9028183684097663, 0.8942652329749103, 0.8667463162086818, 0.8968431210366693, 0.8974335998529547, 0.8963575651747696, 0.8959309806084002, 0.8868746745090831, 0.8689596544435254, 0.8893047514015255, 0.894753852280734, 0.8945363477621543, 0.8862405416168858, 0.8888015807370646, 0.9035742731979292, 0.8469465122690929, 0.863734950831725, 0.9153003706767149, 0.8927197255154246, 0.8837415372361609, 0.8884814508470423, 0.89310954875471, 0.8897389945777042, 0.9043072021566645, 0.8861800385993934, 0.8199545078577337, 0.8807692307692307, 0.8970284593940508, 0.8837545568728364, 0.8833425236651044, 0.8985372055264529, 0.9138237907055111, 0.8682121741261527, 0.8869635143828692, 0.8942300033697883, 0.9073185675336214, 0.8824066415464266, 0.9061176975155468, 0.9115017002113777, 0.8972092025855467, 0.894519498820574, 0.8981067916551787, 0.8911864718316331, 0.8968078914315473, 0.9050500873081518, 0.8951413779370769, 0.8697745305272188, 0.899316852005024, 0.8843274208865607, 0.8881260913518978, 0.89358668014582, 0.8889616456820758, 0.9042826946052753, 0.8846460190546214, 0.9061789663940201, 0.9054452715743039, 0.8980179517813927, 0.9005391661305641, 0.9036225224397268, 0.8918803418803419, 0.911991851239163, 0.9120178905125141, 0.8963866678920441, 0.8883183224581074, 0.8994761510890542, 0.875043654075912, 0.9072006249425604, 0.9094583831142972]}, {\"categories\": [\"0\", \"1\", \"2\", \"3\", \"4\", \"5\", \"6\", \"7\", \"8\", \"9\", \"10\", \"11\", \"12\", \"13\", \"14\", \"15\", \"16\", \"17\", \"18\", \"19\", \"20\", \"21\", \"22\", \"23\", \"24\", \"25\", \"26\", \"27\", \"28\", \"29\", \"30\", \"31\", \"32\", \"33\", \"34\", \"35\", \"36\", \"37\", \"38\", \"39\", \"40\", \"41\", \"42\", \"43\", \"44\", \"45\", \"46\", \"47\", \"48\", \"49\", \"50\", \"51\", \"52\", \"53\", \"54\", \"55\", \"56\", \"57\", \"58\", \"59\", \"60\", \"61\", \"62\", \"63\", \"64\", \"65\", \"66\", \"67\", \"68\", \"69\", \"70\", \"71\", \"72\", \"73\", \"74\", \"75\", \"76\", \"77\", \"78\", \"79\", \"80\", \"81\", \"82\", \"83\", \"84\", \"85\", \"86\", \"87\", \"88\", \"89\", \"90\", \"91\", \"92\", \"93\", \"94\", \"95\", \"96\", \"97\", \"98\", \"99\", \"100\", \"101\", \"102\"], \"mode\": \"lines\", \"name\": \"AUC_weighted_max\", \"stepped\": true, \"type\": \"scatter\", \"data\": [0.8776062249180528, 0.8829764421162271, 0.8877714977177341, 0.9069946083386943, 0.9069946083386943, 0.9069946083386943, 0.9069946083386943, 0.9069946083386943, 0.9069946083386943, 0.9069946083386943, 0.9069946083386943, 0.9069946083386943, 0.9069946083386943, 0.9069946083386943, 0.9069946083386943, 0.9069946083386943, 0.9069946083386943, 0.9069946083386943, 0.9069946083386943, 0.9069946083386943, 0.9069946083386943, 0.9069946083386943, 0.9069946083386943, 0.9069946083386943, 0.9093802652942437, 0.9093802652942437, 0.9093802652942437, 0.9093802652942437, 0.9093802652942437, 0.9093802652942437, 0.9093802652942437, 0.9093802652942437, 0.911921392028919, 0.911921392028919, 0.911921392028919, 0.911921392028919, 0.911921392028919, 0.911921392028919, 0.911921392028919, 0.911921392028919, 0.911921392028919, 0.911921392028919, 0.911921392028919, 0.911921392028919, 0.911921392028919, 0.911921392028919, 0.911921392028919, 0.911921392028919, 0.911921392028919, 0.911921392028919, 0.911921392028919, 0.911921392028919, 0.9153003706767149, 0.9153003706767149, 0.9153003706767149, 0.9153003706767149, 0.9153003706767149, 0.9153003706767149, 0.9153003706767149, 0.9153003706767149, 0.9153003706767149, 0.9153003706767149, 0.9153003706767149, 0.9153003706767149, 0.9153003706767149, 0.9153003706767149, 0.9153003706767149, 0.9153003706767149, 0.9153003706767149, 0.9153003706767149, 0.9153003706767149, 0.9153003706767149, 0.9153003706767149, 0.9153003706767149, 0.9153003706767149, 0.9153003706767149, 0.9153003706767149, 0.9153003706767149, 0.9153003706767149, 0.9153003706767149, 0.9153003706767149, 0.9153003706767149, 0.9153003706767149, 0.9153003706767149, 0.9153003706767149, 0.9153003706767149, 0.9153003706767149, 0.9153003706767149, 0.9153003706767149, 0.9153003706767149, 0.9153003706767149, 0.9153003706767149, 0.9153003706767149, 0.9153003706767149, 0.9153003706767149, 0.9153003706767149, 0.9153003706767149, 0.9153003706767149, 0.9153003706767149, 0.9153003706767149, 0.9153003706767149, 0.9153003706767149, 0.9153003706767149]}]}, \"metricName\": null, \"primaryMetricName\": \"accuracy\", \"showLegend\": false}, \"run_metrics\": [{\"name\": \"experiment_status\", \"run_id\": \"AutoML_be0a801b-c90c-4aa6-84d7-3aef5a669649\", \"categories\": [0, 1, 2, 3, 4, 5, 6, 7, 8, 9, 10, 11, 12, 13], \"series\": [{\"data\": [\"DatasetEvaluation\", \"FeaturesGeneration\", \"DatasetFeaturization\", \"DatasetFeaturizationCompleted\", \"DatasetCrossValidationSplit\", \"ModelSelection\", \"BestRunExplainModel\", \"ModelExplanationDataSetSetup\", \"PickSurrogateModel\", \"EngineeredFeatureExplanations\", \"EngineeredFeatureExplanations\", \"RawFeaturesExplanations\", \"RawFeaturesExplanations\", \"BestRunExplainModel\"]}]}, {\"name\": \"experiment_status_description\", \"run_id\": \"AutoML_be0a801b-c90c-4aa6-84d7-3aef5a669649\", \"categories\": [0, 1, 2, 3, 4, 5, 6, 7, 8, 9, 10, 11, 12, 13], \"series\": [{\"data\": [\"Gathering dataset statistics.\", \"Generating features for the dataset.\", \"Beginning to fit featurizers and featurize the dataset.\", \"Completed fit featurizers and featurizing the dataset.\", \"Generating individually featurized CV splits.\", \"Beginning model selection.\", \"Best run model explanations started\", \"Model explanations data setup completed\", \"Choosing LightGBM as the surrogate model for explanations\", \"Computation of engineered features started\", \"Computation of engineered features completed\", \"Computation of raw features started\", \"Computation of raw features completed\", \"Best run model explanations completed\"]}]}, {\"name\": \"average_precision_score_weighted\", \"run_id\": \"AutoML_be0a801b-c90c-4aa6-84d7-3aef5a669649\", \"categories\": [0], \"series\": [{\"data\": [0.9121978462633121]}]}, {\"name\": \"recall_score_weighted\", \"run_id\": \"AutoML_be0a801b-c90c-4aa6-84d7-3aef5a669649\", \"categories\": [0], \"series\": [{\"data\": [0.8655836916706482]}]}, {\"name\": \"f1_score_weighted\", \"run_id\": \"AutoML_be0a801b-c90c-4aa6-84d7-3aef5a669649\", \"categories\": [0], \"series\": [{\"data\": [0.8622170933519829]}]}, {\"name\": \"log_loss\", \"run_id\": \"AutoML_be0a801b-c90c-4aa6-84d7-3aef5a669649\", \"categories\": [0], \"series\": [{\"data\": [0.37350774905392875]}]}, {\"name\": \"recall_score_macro\", \"run_id\": \"AutoML_be0a801b-c90c-4aa6-84d7-3aef5a669649\", \"categories\": [0], \"series\": [{\"data\": [0.8238826088288453]}]}, {\"name\": \"precision_score_weighted\", \"run_id\": \"AutoML_be0a801b-c90c-4aa6-84d7-3aef5a669649\", \"categories\": [0], \"series\": [{\"data\": [0.8636135727272851]}]}, {\"name\": \"average_precision_score_micro\", \"run_id\": \"AutoML_be0a801b-c90c-4aa6-84d7-3aef5a669649\", \"categories\": [0], \"series\": [{\"data\": [0.9218724429456621]}]}, {\"name\": \"recall_score_micro\", \"run_id\": \"AutoML_be0a801b-c90c-4aa6-84d7-3aef5a669649\", \"categories\": [0], \"series\": [{\"data\": [0.8655836916706482]}]}, {\"name\": \"AUC_weighted\", \"run_id\": \"AutoML_be0a801b-c90c-4aa6-84d7-3aef5a669649\", \"categories\": [0], \"series\": [{\"data\": [0.9072006249425604]}]}, {\"name\": \"f1_score_micro\", \"run_id\": \"AutoML_be0a801b-c90c-4aa6-84d7-3aef5a669649\", \"categories\": [0], \"series\": [{\"data\": [0.8655836916706482]}]}, {\"name\": \"norm_macro_recall\", \"run_id\": \"AutoML_be0a801b-c90c-4aa6-84d7-3aef5a669649\", \"categories\": [0], \"series\": [{\"data\": [0.6477652176576907]}]}, {\"name\": \"matthews_correlation\", \"run_id\": \"AutoML_be0a801b-c90c-4aa6-84d7-3aef5a669649\", \"categories\": [0], \"series\": [{\"data\": [0.6780488195619266]}]}, {\"name\": \"f1_score_macro\", \"run_id\": \"AutoML_be0a801b-c90c-4aa6-84d7-3aef5a669649\", \"categories\": [0], \"series\": [{\"data\": [0.8362739887255112]}]}, {\"name\": \"AUC_macro\", \"run_id\": \"AutoML_be0a801b-c90c-4aa6-84d7-3aef5a669649\", \"categories\": [0], \"series\": [{\"data\": [0.9072006249425604]}]}, {\"name\": \"precision_score_micro\", \"run_id\": \"AutoML_be0a801b-c90c-4aa6-84d7-3aef5a669649\", \"categories\": [0], \"series\": [{\"data\": [0.8655836916706482]}]}, {\"name\": \"weighted_accuracy\", \"run_id\": \"AutoML_be0a801b-c90c-4aa6-84d7-3aef5a669649\", \"categories\": [0], \"series\": [{\"data\": [0.8969646251256617]}]}, {\"name\": \"accuracy\", \"run_id\": \"AutoML_be0a801b-c90c-4aa6-84d7-3aef5a669649\", \"categories\": [0], \"series\": [{\"data\": [0.8655836916706482]}]}, {\"name\": \"balanced_accuracy\", \"run_id\": \"AutoML_be0a801b-c90c-4aa6-84d7-3aef5a669649\", \"categories\": [0], \"series\": [{\"data\": [0.8238826088288453]}]}, {\"name\": \"precision_score_macro\", \"run_id\": \"AutoML_be0a801b-c90c-4aa6-84d7-3aef5a669649\", \"categories\": [0], \"series\": [{\"data\": [0.8549456716123384]}]}, {\"name\": \"average_precision_score_macro\", \"run_id\": \"AutoML_be0a801b-c90c-4aa6-84d7-3aef5a669649\", \"categories\": [0], \"series\": [{\"data\": [0.8857527785630507]}]}, {\"name\": \"AUC_micro\", \"run_id\": \"AutoML_be0a801b-c90c-4aa6-84d7-3aef5a669649\", \"categories\": [0], \"series\": [{\"data\": [0.9203066238967482]}]}], \"run_logs\": \"\\nRun is completed.\", \"graph\": {}, \"widget_settings\": {\"childWidgetDisplay\": \"popup\", \"send_telemetry\": false, \"log_level\": \"INFO\", \"sdk_version\": \"1.20.0\"}, \"loading\": false}"
     },
     "metadata": {},
     "output_type": "display_data"
    },
    {
     "name": "stdout",
     "output_type": "stream",
     "text": [
      "\n",
      "\n",
      "****************************************************************************************************\n",
      "DATA GUARDRAILS: \n",
      "\n",
      "TYPE:         Class balancing detection\n",
      "STATUS:       PASSED\n",
      "DESCRIPTION:  Your inputs were analyzed, and all classes are balanced in your training data.\n",
      "              Learn more about imbalanced data: https://aka.ms/AutomatedMLImbalancedData\n",
      "\n",
      "****************************************************************************************************\n",
      "\n",
      "TYPE:         Missing feature values imputation\n",
      "STATUS:       PASSED\n",
      "DESCRIPTION:  No feature missing values were detected in the training data.\n",
      "              Learn more about missing value imputation: https://aka.ms/AutomatedMLFeaturization\n",
      "\n",
      "****************************************************************************************************\n",
      "\n",
      "TYPE:         High cardinality feature detection\n",
      "STATUS:       PASSED\n",
      "DESCRIPTION:  Your inputs were analyzed, and no high cardinality features were detected.\n",
      "              Learn more about high cardinality feature handling: https://aka.ms/AutomatedMLFeaturization\n",
      "\n",
      "****************************************************************************************************\n",
      "\n",
      "****************************************************************************************************\n",
      "ITERATION: The iteration being evaluated.\n",
      "PIPELINE: A summary description of the pipeline being evaluated.\n",
      "DURATION: Time taken for the current iteration.\n",
      "METRIC: The result of computing score on the fitted pipeline.\n",
      "BEST: The best observed score thus far.\n",
      "****************************************************************************************************\n",
      "\n",
      " ITERATION   PIPELINE                                       DURATION      METRIC      BEST\n",
      "         0   MaxAbsScaler LightGBM                          0:03:42       0.8364    0.8364\n",
      "         1   MaxAbsScaler XGBoostClassifier                 0:00:57       0.8328    0.8364\n",
      "         2   MinMaxScaler RandomForest                      0:00:54       0.8437    0.8437\n",
      "         3   MinMaxScaler RandomForest                      0:00:53       0.8328    0.8437\n",
      "         4   MinMaxScaler RandomForest                      0:03:23       0.8401    0.8437\n",
      "         5   RobustScaler LightGBM                          0:03:18       0.8436    0.8437\n",
      "         6   MinMaxScaler SVM                               0:00:48       0.7709    0.8437\n",
      "         7   MaxAbsScaler GradientBoosting                  0:00:52       0.8402    0.8437\n",
      "        10   RobustScaler GradientBoosting                  0:00:54       0.8437    0.8437\n",
      "        11   MinMaxScaler LightGBM                          0:00:53       0.8074    0.8437\n",
      "         8   StandardScalerWrapper RandomForest             0:00:51       0.8364    0.8437\n",
      "         9   SparseNormalizer XGBoostClassifier             0:00:50       0.8255    0.8437\n",
      "        12   SparseNormalizer LightGBM                      0:00:45       0.8109    0.8437\n",
      "        13   StandardScalerWrapper LightGBM                 0:00:50       0.7999    0.8437\n",
      "        14   StandardScalerWrapper LightGBM                 0:00:51       0.8182    0.8437\n",
      "        15   RobustScaler ExtremeRandomTrees                0:00:54       0.8364    0.8437\n",
      "        16   StandardScalerWrapper LightGBM                 0:00:42       0.7272    0.8437\n",
      "        17   SparseNormalizer XGBoostClassifier             0:00:49       0.8036    0.8437\n",
      "        18   StandardScalerWrapper LightGBM                 0:00:51       0.8436    0.8437\n",
      "        19   TruncatedSVDWrapper XGBoostClassifier          0:00:51       0.8071    0.8437\n",
      "        20   SparseNormalizer XGBoostClassifier             0:00:46       0.8254    0.8437\n",
      "        21   RobustScaler RandomForest                      0:00:51       0.8437    0.8437\n",
      "        22   MaxAbsScaler LightGBM                          0:00:57       0.8291    0.8437\n",
      "        23   MinMaxScaler RandomForest                      0:00:51       0.8619    0.8619\n",
      "        24   StandardScalerWrapper RandomForest             0:00:51       0.8401    0.8619\n",
      "        25   SparseNormalizer RandomForest                  0:00:51       0.7163    0.8619\n",
      "        26   MaxAbsScaler ExtremeRandomTrees                0:00:49       0.7782    0.8619\n",
      "        27   RobustScaler ExtremeRandomTrees                0:00:49       0.8327    0.8619\n",
      "        28   SparseNormalizer XGBoostClassifier             0:00:54       0.8110    0.8619\n",
      "        29   MinMaxScaler LightGBM                          0:00:48       0.8365    0.8619\n",
      "        30   RobustScaler RandomForest                      0:00:51       0.7345    0.8619\n",
      "        31   MaxAbsScaler LightGBM                          0:00:46       0.7164    0.8619\n",
      "        32   MinMaxScaler RandomForest                      0:00:46       0.7927    0.8619\n",
      "        33   StandardScalerWrapper LightGBM                 0:00:52       0.7929    0.8619\n",
      "        34   StandardScalerWrapper RandomForest             0:00:43       0.8436    0.8619\n",
      "        35   MaxAbsScaler LightGBM                          0:00:41       0.8400    0.8619\n",
      "        36   StandardScalerWrapper LightGBM                 0:00:46       0.8220    0.8619\n",
      "        37   MinMaxScaler LogisticRegression                0:00:46       0.8034    0.8619\n",
      "        38   StandardScalerWrapper RandomForest             0:00:52       0.8328    0.8619\n",
      "        39   StandardScalerWrapper XGBoostClassifier        0:00:51       0.8327    0.8619\n",
      "        40   MaxAbsScaler RandomForest                      0:00:49       0.8364    0.8619\n",
      "        41   MaxAbsScaler LightGBM                          0:00:51       0.8400    0.8619\n",
      "        42   RobustScaler LightGBM                          0:00:49       0.8329    0.8619\n",
      "        43   StandardScalerWrapper XGBoostClassifier        0:00:52       0.8327    0.8619\n",
      "        44   StandardScalerWrapper LightGBM                 0:00:46       0.8473    0.8619\n",
      "        45   StandardScalerWrapper RandomForest             0:00:54       0.8473    0.8619\n",
      "        46   StandardScalerWrapper ExtremeRandomTrees       0:00:49       0.8364    0.8619\n",
      "        47   MaxAbsScaler LightGBM                          0:00:42       0.8509    0.8619\n",
      "        48   RobustScaler LightGBM                          0:00:52       0.8328    0.8619\n",
      "        49   StandardScalerWrapper LightGBM                 0:00:43       0.8400    0.8619\n",
      "        50   SparseNormalizer RandomForest                  0:00:48       0.7819    0.8619\n",
      "        51   SparseNormalizer LightGBM                      0:00:51       0.8146    0.8619\n",
      "        52   MaxAbsScaler RandomForest                      0:01:02       0.8546    0.8619\n",
      "        53   MaxAbsScaler RandomForest                      0:00:50       0.8146    0.8619\n",
      "        54   StandardScalerWrapper XGBoostClassifier        0:00:46       0.8437    0.8619\n",
      "        55   StandardScalerWrapper RandomForest             0:00:52       0.8436    0.8619\n",
      "        56   StandardScalerWrapper LightGBM                 0:00:52       0.7890    0.8619\n",
      "        57   StandardScalerWrapper XGBoostClassifier        0:00:52       0.7929    0.8619\n",
      "        58   MaxAbsScaler LightGBM                          0:00:46       0.8474    0.8619\n",
      "        59   StandardScalerWrapper LightGBM                 0:00:45       0.8364    0.8619\n",
      "        60   MinMaxScaler RandomForest                      0:00:51       0.6799    0.8619\n",
      "        61   StandardScalerWrapper XGBoostClassifier        0:00:45       0.8292    0.8619\n",
      "        62   StandardScalerWrapper LightGBM                 0:00:50       0.8510    0.8619\n",
      "        63   MaxAbsScaler LightGBM                          0:00:48       0.7600    0.8619\n",
      "        64   MaxAbsScaler LightGBM                          0:00:48       0.7891    0.8619\n",
      "        65   MaxAbsScaler RandomForest                      0:01:04       0.8436    0.8619\n",
      "        66   StandardScalerWrapper XGBoostClassifier        0:00:48       0.8328    0.8619\n",
      "        67   SparseNormalizer LightGBM                      0:00:47       0.7819    0.8619\n",
      "        68   MaxAbsScaler LightGBM                          0:00:48       0.8473    0.8619\n",
      "        69   MinMaxScaler LightGBM                          0:00:49       0.8182    0.8619\n",
      "        70   StandardScalerWrapper RandomForest             0:00:49       0.8473    0.8619\n",
      "        71   StandardScalerWrapper LightGBM                 0:00:47       0.7527    0.8619\n",
      "        72   StandardScalerWrapper XGBoostClassifier        0:00:48       0.8473    0.8619\n",
      "        73   StandardScalerWrapper RandomForest             0:00:48       0.8437    0.8619\n",
      "        74   MaxAbsScaler RandomForest                      0:00:55       0.8401    0.8619\n",
      "        75   MaxAbsScaler ExtremeRandomTrees                0:00:48       0.8473    0.8619\n",
      "        76   StandardScalerWrapper LightGBM                 0:00:48       0.8400    0.8619\n",
      "        77   MinMaxScaler LightGBM                          0:00:46       0.8400    0.8619\n",
      "        78   MaxAbsScaler LightGBM                          0:00:50       0.8217    0.8619\n",
      "        79   MaxAbsScaler LightGBM                          0:00:47       0.8364    0.8619\n",
      "        80   StandardScalerWrapper RandomForest             0:00:49       0.7928    0.8619\n",
      "        81   StandardScalerWrapper XGBoostClassifier        0:00:52       0.8364    0.8619\n",
      "        82   StandardScalerWrapper LightGBM                 0:00:53       0.8401    0.8619\n",
      "        83   StandardScalerWrapper XGBoostClassifier        0:00:55       0.8292    0.8619\n",
      "        84   StandardScalerWrapper XGBoostClassifier        0:00:48       0.8328    0.8619\n",
      "        85   StandardScalerWrapper RandomForest             0:00:46       0.8072    0.8619\n",
      "        86   StandardScalerWrapper XGBoostClassifier        0:00:51       0.8401    0.8619\n",
      "        87   StandardScalerWrapper LightGBM                 0:00:52       0.8582    0.8619\n",
      "        88   MinMaxScaler GradientBoosting                  0:00:54       0.8328    0.8619\n",
      "        89   StandardScalerWrapper XGBoostClassifier        0:00:57       0.8364    0.8619\n",
      "        90   StandardScalerWrapper RandomForest             0:00:48       0.8364    0.8619\n",
      "        91   StandardScalerWrapper LightGBM                 0:00:49       0.8436    0.8619\n",
      "        92   StandardScalerWrapper LightGBM                 0:00:45       0.8145    0.8619\n",
      "        93   StandardScalerWrapper XGBoostClassifier        0:00:46       0.8546    0.8619\n",
      "        94   StandardScalerWrapper LightGBM                 0:00:55       0.8290    0.8619\n",
      "        95   StandardScalerWrapper RandomForest             0:00:39       0.8437    0.8619\n",
      "        96   MaxAbsScaler RandomForest                      0:00:59       0.8473    0.8619\n",
      "        97   StandardScalerWrapper XGBoostClassifier        0:00:59       0.8437    0.8619\n",
      "        98   StandardScalerWrapper XGBoostClassifier        0:00:47       0.8436    0.8619\n",
      "ERROR: {\n",
      "    \"additional_properties\": {},\n",
      "    \"error\": {\n",
      "        \"additional_properties\": {\n",
      "            \"debugInfo\": null\n",
      "        },\n",
      "        \"code\": \"UserError\",\n",
      "        \"severity\": null,\n",
      "        \"message\": \"Experiment timeout reached, please consider increasing your experiment timeout.\",\n",
      "        \"message_format\": \"Experiment timeout reached, please consider increasing your experiment timeout.\",\n",
      "        \"message_parameters\": {},\n",
      "        \"reference_code\": null,\n",
      "        \"details_uri\": null,\n",
      "        \"target\": null,\n",
      "        \"details\": [],\n",
      "        \"inner_error\": {\n",
      "            \"additional_properties\": {},\n",
      "            \"code\": \"ResourceExhausted\",\n",
      "            \"inner_error\": {\n",
      "                \"additional_properties\": {},\n",
      "                \"code\": \"Timeout\",\n",
      "                \"inner_error\": {\n",
      "                    \"additional_properties\": {},\n",
      "                    \"code\": \"ExperimentTimeoutForIterations\",\n",
      "                    \"inner_error\": null\n",
      "                }\n",
      "            }\n",
      "        }\n",
      "    },\n",
      "    \"correlation\": null,\n",
      "    \"environment\": null,\n",
      "    \"location\": null,\n",
      "    \"time\": {},\n",
      "    \"component_name\": null\n",
      "}\n",
      "        99   StandardScalerWrapper XGBoostClassifier        0:00:30       0.8364    0.8619\n",
      "ERROR: {\n",
      "    \"additional_properties\": {},\n",
      "    \"error\": {\n",
      "        \"additional_properties\": {\n",
      "            \"debugInfo\": null\n",
      "        },\n",
      "        \"code\": \"UserError\",\n",
      "        \"severity\": null,\n",
      "        \"message\": \"Experiment timeout reached, please consider increasing your experiment timeout.\",\n",
      "        \"message_format\": \"Experiment timeout reached, please consider increasing your experiment timeout.\",\n",
      "        \"message_parameters\": {},\n",
      "        \"reference_code\": null,\n",
      "        \"details_uri\": null,\n",
      "        \"target\": null,\n",
      "        \"details\": [],\n",
      "        \"inner_error\": {\n",
      "            \"additional_properties\": {},\n",
      "            \"code\": \"ResourceExhausted\",\n",
      "            \"inner_error\": {\n",
      "                \"additional_properties\": {},\n",
      "                \"code\": \"Timeout\",\n",
      "                \"inner_error\": {\n",
      "                    \"additional_properties\": {},\n",
      "                    \"code\": \"ExperimentTimeoutForIterations\",\n",
      "                    \"inner_error\": null\n",
      "                }\n",
      "            }\n",
      "        }\n",
      "    },\n",
      "    \"correlation\": null,\n",
      "    \"environment\": null,\n",
      "    \"location\": null,\n",
      "    \"time\": {},\n",
      "    \"component_name\": null\n",
      "}\n",
      "       100   RobustScaler RandomForest                      0:00:26       0.7454    0.8619\n",
      "ERROR: {\n",
      "    \"additional_properties\": {},\n",
      "    \"error\": {\n",
      "        \"additional_properties\": {\n",
      "            \"debugInfo\": null\n",
      "        },\n",
      "        \"code\": \"UserError\",\n",
      "        \"severity\": null,\n",
      "        \"message\": \"Experiment timeout reached, please consider increasing your experiment timeout.\",\n",
      "        \"message_format\": \"Experiment timeout reached, please consider increasing your experiment timeout.\",\n",
      "        \"message_parameters\": {},\n",
      "        \"reference_code\": null,\n",
      "        \"details_uri\": null,\n",
      "        \"target\": null,\n",
      "        \"details\": [],\n",
      "        \"inner_error\": {\n",
      "            \"additional_properties\": {},\n",
      "            \"code\": \"ResourceExhausted\",\n",
      "            \"inner_error\": {\n",
      "                \"additional_properties\": {},\n",
      "                \"code\": \"Timeout\",\n",
      "                \"inner_error\": {\n",
      "                    \"additional_properties\": {},\n",
      "                    \"code\": \"ExperimentTimeoutForIterations\",\n",
      "                    \"inner_error\": null\n",
      "                }\n",
      "            }\n",
      "        }\n",
      "    },\n",
      "    \"correlation\": null,\n",
      "    \"environment\": null,\n",
      "    \"location\": null,\n",
      "    \"time\": {},\n",
      "    \"component_name\": null\n",
      "}\n",
      "       101    VotingEnsemble                                0:01:47       0.8656    0.8656\n",
      "       102    StackEnsemble                                 0:01:37       0.8474    0.8656\n"
     ]
    },
    {
     "data": {
      "text/plain": [
       "{'runId': 'AutoML_be0a801b-c90c-4aa6-84d7-3aef5a669649',\n",
       " 'target': 'compute-cluster',\n",
       " 'status': 'Completed',\n",
       " 'startTimeUtc': '2021-02-07T08:55:58.450869Z',\n",
       " 'endTimeUtc': '2021-02-07T09:37:48.580886Z',\n",
       " 'properties': {'num_iterations': '1000',\n",
       "  'training_type': 'TrainFull',\n",
       "  'acquisition_function': 'EI',\n",
       "  'primary_metric': 'accuracy',\n",
       "  'train_split': '0',\n",
       "  'acquisition_parameter': '0',\n",
       "  'num_cross_validation': '3',\n",
       "  'target': 'compute-cluster',\n",
       "  'AMLSettingsJsonString': '{\"path\":null,\"name\":\"new-experiment\",\"subscription_id\":\"a24a24d5-8d87-4c8a-99b6-91ed2d2df51f\",\"resource_group\":\"aml-quickstarts-137786\",\"workspace_name\":\"quick-starts-ws-137786\",\"region\":\"southcentralus\",\"compute_target\":\"compute-cluster\",\"spark_service\":null,\"azure_service\":\"remote\",\"many_models\":false,\"pipeline_fetch_max_batch_size\":1,\"iterations\":1000,\"primary_metric\":\"accuracy\",\"task_type\":\"classification\",\"data_script\":null,\"validation_size\":0.0,\"n_cross_validations\":3,\"y_min\":null,\"y_max\":null,\"num_classes\":null,\"featurization\":\"auto\",\"_ignore_package_version_incompatibilities\":false,\"is_timeseries\":false,\"max_cores_per_iteration\":1,\"max_concurrent_iterations\":4,\"iteration_timeout_minutes\":null,\"mem_in_mb\":null,\"enforce_time_on_windows\":false,\"experiment_timeout_minutes\":30,\"experiment_exit_score\":null,\"whitelist_models\":null,\"blacklist_algos\":[\"TensorFlowLinearClassifier\",\"TensorFlowDNN\"],\"supported_models\":[\"SGD\",\"LogisticRegression\",\"BernoulliNaiveBayes\",\"AveragedPerceptronClassifier\",\"TensorFlowLinearClassifier\",\"DecisionTree\",\"SVM\",\"GradientBoosting\",\"KNN\",\"TensorFlowDNN\",\"RandomForest\",\"LinearSVM\",\"XGBoostClassifier\",\"LightGBM\",\"ExtremeRandomTrees\",\"MultinomialNaiveBayes\"],\"auto_blacklist\":true,\"blacklist_samples_reached\":false,\"exclude_nan_labels\":true,\"verbosity\":20,\"_debug_log\":\"azureml_automl.log\",\"show_warnings\":false,\"model_explainability\":true,\"service_url\":null,\"sdk_url\":null,\"sdk_packages\":null,\"enable_onnx_compatible_models\":false,\"enable_split_onnx_featurizer_estimator_models\":false,\"vm_type\":\"STANDARD_D2_V2\",\"telemetry_verbosity\":20,\"send_telemetry\":true,\"enable_dnn\":false,\"scenario\":\"SDK-1.13.0\",\"environment_label\":null,\"force_text_dnn\":false,\"enable_feature_sweeping\":true,\"enable_early_stopping\":false,\"early_stopping_n_iters\":10,\"metrics\":null,\"enable_ensembling\":true,\"enable_stack_ensembling\":true,\"ensemble_iterations\":15,\"enable_tf\":false,\"enable_subsampling\":null,\"subsample_seed\":null,\"enable_nimbusml\":false,\"enable_streaming\":false,\"force_streaming\":false,\"track_child_runs\":true,\"allowed_private_models\":[],\"label_column_name\":\"DEATH_EVENT\",\"weight_column_name\":null,\"cv_split_column_names\":null,\"enable_local_managed\":false,\"_local_managed_run_id\":null,\"cost_mode\":1,\"lag_length\":0,\"metric_operation\":\"maximize\",\"preprocess\":true}',\n",
       "  'DataPrepJsonString': '{\\\\\"training_data\\\\\": \\\\\"{\\\\\\\\\\\\\"blocks\\\\\\\\\\\\\": [{\\\\\\\\\\\\\"id\\\\\\\\\\\\\": \\\\\\\\\\\\\"8ffb4b86-1e4f-42b1-82eb-c7c27d11a08a\\\\\\\\\\\\\", \\\\\\\\\\\\\"type\\\\\\\\\\\\\": \\\\\\\\\\\\\"Microsoft.DPrep.GetDatastoreFilesBlock\\\\\\\\\\\\\", \\\\\\\\\\\\\"arguments\\\\\\\\\\\\\": {\\\\\\\\\\\\\"datastores\\\\\\\\\\\\\": [{\\\\\\\\\\\\\"datastoreName\\\\\\\\\\\\\": \\\\\\\\\\\\\"workspaceblobstore\\\\\\\\\\\\\", \\\\\\\\\\\\\"path\\\\\\\\\\\\\": \\\\\\\\\\\\\"UI/02-07-2021_083025_UTC/heart_failure_clinical_records_dataset.csv\\\\\\\\\\\\\", \\\\\\\\\\\\\"resourceGroup\\\\\\\\\\\\\": \\\\\\\\\\\\\"aml-quickstarts-137786\\\\\\\\\\\\\", \\\\\\\\\\\\\"subscription\\\\\\\\\\\\\": \\\\\\\\\\\\\"a24a24d5-8d87-4c8a-99b6-91ed2d2df51f\\\\\\\\\\\\\", \\\\\\\\\\\\\"workspaceName\\\\\\\\\\\\\": \\\\\\\\\\\\\"quick-starts-ws-137786\\\\\\\\\\\\\"}]}, \\\\\\\\\\\\\"localData\\\\\\\\\\\\\": {}, \\\\\\\\\\\\\"isEnabled\\\\\\\\\\\\\": true, \\\\\\\\\\\\\"name\\\\\\\\\\\\\": null, \\\\\\\\\\\\\"annotation\\\\\\\\\\\\\": null}, {\\\\\\\\\\\\\"id\\\\\\\\\\\\\": \\\\\\\\\\\\\"70856038-3c96-4177-a0ec-aadd69e86fef\\\\\\\\\\\\\", \\\\\\\\\\\\\"type\\\\\\\\\\\\\": \\\\\\\\\\\\\"Microsoft.DPrep.ParseDelimitedBlock\\\\\\\\\\\\\", \\\\\\\\\\\\\"arguments\\\\\\\\\\\\\": {\\\\\\\\\\\\\"columnHeadersMode\\\\\\\\\\\\\": 3, \\\\\\\\\\\\\"fileEncoding\\\\\\\\\\\\\": 0, \\\\\\\\\\\\\"handleQuotedLineBreaks\\\\\\\\\\\\\": false, \\\\\\\\\\\\\"preview\\\\\\\\\\\\\": false, \\\\\\\\\\\\\"separator\\\\\\\\\\\\\": \\\\\\\\\\\\\",\\\\\\\\\\\\\", \\\\\\\\\\\\\"skipRows\\\\\\\\\\\\\": 0, \\\\\\\\\\\\\"skipRowsMode\\\\\\\\\\\\\": 0}, \\\\\\\\\\\\\"localData\\\\\\\\\\\\\": {}, \\\\\\\\\\\\\"isEnabled\\\\\\\\\\\\\": true, \\\\\\\\\\\\\"name\\\\\\\\\\\\\": null, \\\\\\\\\\\\\"annotation\\\\\\\\\\\\\": null}, {\\\\\\\\\\\\\"id\\\\\\\\\\\\\": \\\\\\\\\\\\\"b0b7e7d5-7104-4042-b710-3973ca6c6183\\\\\\\\\\\\\", \\\\\\\\\\\\\"type\\\\\\\\\\\\\": \\\\\\\\\\\\\"Microsoft.DPrep.DropColumnsBlock\\\\\\\\\\\\\", \\\\\\\\\\\\\"arguments\\\\\\\\\\\\\": {\\\\\\\\\\\\\"columns\\\\\\\\\\\\\": {\\\\\\\\\\\\\"type\\\\\\\\\\\\\": 0, \\\\\\\\\\\\\"details\\\\\\\\\\\\\": {\\\\\\\\\\\\\"selectedColumns\\\\\\\\\\\\\": [\\\\\\\\\\\\\"Path\\\\\\\\\\\\\"]}}}, \\\\\\\\\\\\\"localData\\\\\\\\\\\\\": {}, \\\\\\\\\\\\\"isEnabled\\\\\\\\\\\\\": true, \\\\\\\\\\\\\"name\\\\\\\\\\\\\": null, \\\\\\\\\\\\\"annotation\\\\\\\\\\\\\": null}, {\\\\\\\\\\\\\"id\\\\\\\\\\\\\": \\\\\\\\\\\\\"140d1258-cec5-4790-b9f3-3ac8c42f0b2b\\\\\\\\\\\\\", \\\\\\\\\\\\\"type\\\\\\\\\\\\\": \\\\\\\\\\\\\"Microsoft.DPrep.SetColumnTypesBlock\\\\\\\\\\\\\", \\\\\\\\\\\\\"arguments\\\\\\\\\\\\\": {\\\\\\\\\\\\\"columnConversion\\\\\\\\\\\\\": [{\\\\\\\\\\\\\"column\\\\\\\\\\\\\": {\\\\\\\\\\\\\"type\\\\\\\\\\\\\": 2, \\\\\\\\\\\\\"details\\\\\\\\\\\\\": {\\\\\\\\\\\\\"selectedColumn\\\\\\\\\\\\\": \\\\\\\\\\\\\"Path\\\\\\\\\\\\\"}}, \\\\\\\\\\\\\"typeProperty\\\\\\\\\\\\\": 0}, {\\\\\\\\\\\\\"column\\\\\\\\\\\\\": {\\\\\\\\\\\\\"type\\\\\\\\\\\\\": 2, \\\\\\\\\\\\\"details\\\\\\\\\\\\\": {\\\\\\\\\\\\\"selectedColumn\\\\\\\\\\\\\": \\\\\\\\\\\\\"age\\\\\\\\\\\\\"}}, \\\\\\\\\\\\\"typeProperty\\\\\\\\\\\\\": 3}, {\\\\\\\\\\\\\"column\\\\\\\\\\\\\": {\\\\\\\\\\\\\"type\\\\\\\\\\\\\": 2, \\\\\\\\\\\\\"details\\\\\\\\\\\\\": {\\\\\\\\\\\\\"selectedColumn\\\\\\\\\\\\\": \\\\\\\\\\\\\"anaemia\\\\\\\\\\\\\"}}, \\\\\\\\\\\\\"typeProperty\\\\\\\\\\\\\": 2}, {\\\\\\\\\\\\\"column\\\\\\\\\\\\\": {\\\\\\\\\\\\\"type\\\\\\\\\\\\\": 2, \\\\\\\\\\\\\"details\\\\\\\\\\\\\": {\\\\\\\\\\\\\"selectedColumn\\\\\\\\\\\\\": \\\\\\\\\\\\\"creatinine_phosphokinase\\\\\\\\\\\\\"}}, \\\\\\\\\\\\\"typeProperty\\\\\\\\\\\\\": 2}, {\\\\\\\\\\\\\"column\\\\\\\\\\\\\": {\\\\\\\\\\\\\"type\\\\\\\\\\\\\": 2, \\\\\\\\\\\\\"details\\\\\\\\\\\\\": {\\\\\\\\\\\\\"selectedColumn\\\\\\\\\\\\\": \\\\\\\\\\\\\"diabetes\\\\\\\\\\\\\"}}, \\\\\\\\\\\\\"typeProperty\\\\\\\\\\\\\": 2}, {\\\\\\\\\\\\\"column\\\\\\\\\\\\\": {\\\\\\\\\\\\\"type\\\\\\\\\\\\\": 2, \\\\\\\\\\\\\"details\\\\\\\\\\\\\": {\\\\\\\\\\\\\"selectedColumn\\\\\\\\\\\\\": \\\\\\\\\\\\\"ejection_fraction\\\\\\\\\\\\\"}}, \\\\\\\\\\\\\"typeProperty\\\\\\\\\\\\\": 2}, {\\\\\\\\\\\\\"column\\\\\\\\\\\\\": {\\\\\\\\\\\\\"type\\\\\\\\\\\\\": 2, \\\\\\\\\\\\\"details\\\\\\\\\\\\\": {\\\\\\\\\\\\\"selectedColumn\\\\\\\\\\\\\": \\\\\\\\\\\\\"high_blood_pressure\\\\\\\\\\\\\"}}, \\\\\\\\\\\\\"typeProperty\\\\\\\\\\\\\": 2}, {\\\\\\\\\\\\\"column\\\\\\\\\\\\\": {\\\\\\\\\\\\\"type\\\\\\\\\\\\\": 2, \\\\\\\\\\\\\"details\\\\\\\\\\\\\": {\\\\\\\\\\\\\"selectedColumn\\\\\\\\\\\\\": \\\\\\\\\\\\\"platelets\\\\\\\\\\\\\"}}, \\\\\\\\\\\\\"typeProperty\\\\\\\\\\\\\": 3}, {\\\\\\\\\\\\\"column\\\\\\\\\\\\\": {\\\\\\\\\\\\\"type\\\\\\\\\\\\\": 2, \\\\\\\\\\\\\"details\\\\\\\\\\\\\": {\\\\\\\\\\\\\"selectedColumn\\\\\\\\\\\\\": \\\\\\\\\\\\\"serum_creatinine\\\\\\\\\\\\\"}}, \\\\\\\\\\\\\"typeProperty\\\\\\\\\\\\\": 3}, {\\\\\\\\\\\\\"column\\\\\\\\\\\\\": {\\\\\\\\\\\\\"type\\\\\\\\\\\\\": 2, \\\\\\\\\\\\\"details\\\\\\\\\\\\\": {\\\\\\\\\\\\\"selectedColumn\\\\\\\\\\\\\": \\\\\\\\\\\\\"serum_sodium\\\\\\\\\\\\\"}}, \\\\\\\\\\\\\"typeProperty\\\\\\\\\\\\\": 2}, {\\\\\\\\\\\\\"column\\\\\\\\\\\\\": {\\\\\\\\\\\\\"type\\\\\\\\\\\\\": 2, \\\\\\\\\\\\\"details\\\\\\\\\\\\\": {\\\\\\\\\\\\\"selectedColumn\\\\\\\\\\\\\": \\\\\\\\\\\\\"sex\\\\\\\\\\\\\"}}, \\\\\\\\\\\\\"typeProperty\\\\\\\\\\\\\": 2}, {\\\\\\\\\\\\\"column\\\\\\\\\\\\\": {\\\\\\\\\\\\\"type\\\\\\\\\\\\\": 2, \\\\\\\\\\\\\"details\\\\\\\\\\\\\": {\\\\\\\\\\\\\"selectedColumn\\\\\\\\\\\\\": \\\\\\\\\\\\\"smoking\\\\\\\\\\\\\"}}, \\\\\\\\\\\\\"typeProperty\\\\\\\\\\\\\": 2}, {\\\\\\\\\\\\\"column\\\\\\\\\\\\\": {\\\\\\\\\\\\\"type\\\\\\\\\\\\\": 2, \\\\\\\\\\\\\"details\\\\\\\\\\\\\": {\\\\\\\\\\\\\"selectedColumn\\\\\\\\\\\\\": \\\\\\\\\\\\\"time\\\\\\\\\\\\\"}}, \\\\\\\\\\\\\"typeProperty\\\\\\\\\\\\\": 2}, {\\\\\\\\\\\\\"column\\\\\\\\\\\\\": {\\\\\\\\\\\\\"type\\\\\\\\\\\\\": 2, \\\\\\\\\\\\\"details\\\\\\\\\\\\\": {\\\\\\\\\\\\\"selectedColumn\\\\\\\\\\\\\": \\\\\\\\\\\\\"DEATH_EVENT\\\\\\\\\\\\\"}}, \\\\\\\\\\\\\"typeProperty\\\\\\\\\\\\\": 2}]}, \\\\\\\\\\\\\"localData\\\\\\\\\\\\\": {}, \\\\\\\\\\\\\"isEnabled\\\\\\\\\\\\\": true, \\\\\\\\\\\\\"name\\\\\\\\\\\\\": null, \\\\\\\\\\\\\"annotation\\\\\\\\\\\\\": null}, {\\\\\\\\\\\\\"id\\\\\\\\\\\\\": \\\\\\\\\\\\\"50375a02-31c2-437f-85b6-7aabf816011b\\\\\\\\\\\\\", \\\\\\\\\\\\\"type\\\\\\\\\\\\\": \\\\\\\\\\\\\"Microsoft.DPrep.TakeSampleBlock\\\\\\\\\\\\\", \\\\\\\\\\\\\"arguments\\\\\\\\\\\\\": {\\\\\\\\\\\\\"probability\\\\\\\\\\\\\": 0.9, \\\\\\\\\\\\\"probabilityLowerBound\\\\\\\\\\\\\": 0.0, \\\\\\\\\\\\\"seed\\\\\\\\\\\\\": 915024374}, \\\\\\\\\\\\\"localData\\\\\\\\\\\\\": {}, \\\\\\\\\\\\\"isEnabled\\\\\\\\\\\\\": true, \\\\\\\\\\\\\"name\\\\\\\\\\\\\": null, \\\\\\\\\\\\\"annotation\\\\\\\\\\\\\": null}], \\\\\\\\\\\\\"inspectors\\\\\\\\\\\\\": [], \\\\\\\\\\\\\"meta\\\\\\\\\\\\\": {\\\\\\\\\\\\\"savedDatasetId\\\\\\\\\\\\\": \\\\\\\\\\\\\"d297d9f4-f322-4979-8a34-faaa178a64be\\\\\\\\\\\\\", \\\\\\\\\\\\\"datasetType\\\\\\\\\\\\\": \\\\\\\\\\\\\"tabular\\\\\\\\\\\\\", \\\\\\\\\\\\\"subscriptionId\\\\\\\\\\\\\": \\\\\\\\\\\\\"a24a24d5-8d87-4c8a-99b6-91ed2d2df51f\\\\\\\\\\\\\", \\\\\\\\\\\\\"workspaceId\\\\\\\\\\\\\": \\\\\\\\\\\\\"d84f77c3-e064-4678-bbc9-9ddd02a69eea\\\\\\\\\\\\\", \\\\\\\\\\\\\"workspaceLocation\\\\\\\\\\\\\": \\\\\\\\\\\\\"southcentralus\\\\\\\\\\\\\"}}\\\\\", \\\\\"activities\\\\\": 0}',\n",
       "  'EnableSubsampling': None,\n",
       "  'runTemplate': 'AutoML',\n",
       "  'azureml.runsource': 'automl',\n",
       "  'display_task_type': 'classification',\n",
       "  'dependencies_versions': '{\"azureml-widgets\": \"1.20.0\", \"azureml-train\": \"1.20.0\", \"azureml-train-restclients-hyperdrive\": \"1.20.0\", \"azureml-train-core\": \"1.20.0\", \"azureml-train-automl\": \"1.20.0\", \"azureml-train-automl-runtime\": \"1.20.0\", \"azureml-train-automl-client\": \"1.20.0\", \"azureml-tensorboard\": \"1.20.0\", \"azureml-telemetry\": \"1.20.0\", \"azureml-sdk\": \"1.20.0\", \"azureml-samples\": \"0+unknown\", \"azureml-pipeline\": \"1.20.0\", \"azureml-pipeline-steps\": \"1.20.0\", \"azureml-pipeline-core\": \"1.20.0\", \"azureml-opendatasets\": \"1.20.0\", \"azureml-model-management-sdk\": \"1.0.1b6.post1\", \"azureml-mlflow\": \"1.20.0.post1\", \"azureml-interpret\": \"1.20.0\", \"azureml-explain-model\": \"1.20.0\", \"azureml-defaults\": \"1.20.0\", \"azureml-dataset-runtime\": \"1.20.0\", \"azureml-dataprep\": \"2.7.3\", \"azureml-dataprep-rslex\": \"1.5.0\", \"azureml-dataprep-native\": \"27.0.0\", \"azureml-datadrift\": \"1.20.0\", \"azureml-core\": \"1.20.0\", \"azureml-contrib-services\": \"1.20.0\", \"azureml-contrib-server\": \"1.20.0\", \"azureml-contrib-reinforcementlearning\": \"1.20.0\", \"azureml-contrib-pipeline-steps\": \"1.20.0\", \"azureml-contrib-notebook\": \"1.20.0\", \"azureml-contrib-interpret\": \"1.20.0\", \"azureml-contrib-gbdt\": \"1.20.0\", \"azureml-contrib-fairness\": \"1.20.0\", \"azureml-contrib-dataset\": \"1.20.0\", \"azureml-cli-common\": \"1.20.0\", \"azureml-automl-runtime\": \"1.20.0\", \"azureml-automl-core\": \"1.20.0\", \"azureml-accel-models\": \"1.20.0\"}',\n",
       "  '_aml_system_scenario_identification': 'Remote.Parent',\n",
       "  'ClientType': 'SDK',\n",
       "  'environment_cpu_name': 'AzureML-AutoML',\n",
       "  'environment_cpu_label': 'prod',\n",
       "  'environment_gpu_name': 'AzureML-AutoML-GPU',\n",
       "  'environment_gpu_label': 'prod',\n",
       "  'root_attribution': 'automl',\n",
       "  'attribution': 'AutoML',\n",
       "  'Orchestrator': 'AutoML',\n",
       "  'CancelUri': 'https://southcentralus.experiments.azureml.net/jasmine/v1.0/subscriptions/a24a24d5-8d87-4c8a-99b6-91ed2d2df51f/resourceGroups/aml-quickstarts-137786/providers/Microsoft.MachineLearningServices/workspaces/quick-starts-ws-137786/experimentids/6f295d6f-c512-4415-9474-d5411fccd49e/cancel/AutoML_be0a801b-c90c-4aa6-84d7-3aef5a669649',\n",
       "  'ClientSdkVersion': '1.21.0',\n",
       "  'snapshotId': '00000000-0000-0000-0000-000000000000',\n",
       "  'SetupRunId': 'AutoML_be0a801b-c90c-4aa6-84d7-3aef5a669649_setup',\n",
       "  'SetupRunContainerId': 'dcid.AutoML_be0a801b-c90c-4aa6-84d7-3aef5a669649_setup',\n",
       "  'FeaturizationRunJsonPath': 'featurizer_container.json',\n",
       "  'FeaturizationRunId': 'AutoML_be0a801b-c90c-4aa6-84d7-3aef5a669649_featurize',\n",
       "  'ProblemInfoJsonString': '{\"dataset_num_categorical\": 0, \"is_sparse\": false, \"subsampling\": false, \"dataset_classes\": 2, \"dataset_features\": 12, \"dataset_samples\": 275, \"single_frequency_class_detected\": false}',\n",
       "  'ModelExplainRunId': 'AutoML_be0a801b-c90c-4aa6-84d7-3aef5a669649_ModelExplain'},\n",
       " 'inputDatasets': [{'dataset': {'id': 'd297d9f4-f322-4979-8a34-faaa178a64be'}, 'consumptionDetails': {'type': 'RunInput', 'inputName': 'training_data', 'mechanism': 'Direct'}}],\n",
       " 'outputDatasets': [],\n",
       " 'logFiles': {},\n",
       " 'submittedBy': 'ODL_User 137786'}"
      ]
     },
     "execution_count": 15,
     "metadata": {},
     "output_type": "execute_result"
    }
   ],
   "source": [
    "RunDetails(remote_run).show()\n",
    "remote_run.wait_for_completion(show_output=True)"
   ]
  },
  {
   "cell_type": "markdown",
   "metadata": {},
   "source": [
    "## Best Model\n",
    "\n",
    "The best model from the automl experiments and all the properties of the model.\n",
    "\n"
   ]
  },
  {
   "cell_type": "code",
   "execution_count": 16,
   "metadata": {
    "gather": {
     "logged": 1598431425670
    },
    "jupyter": {
     "outputs_hidden": false,
     "source_hidden": false
    },
    "nteract": {
     "transient": {
      "deleting": false
     }
    }
   },
   "outputs": [
    {
     "name": "stderr",
     "output_type": "stream",
     "text": [
      "WARNING:root:The version of the SDK does not match the version the model was trained on.\n",
      "WARNING:root:The consistency in the result may not be guaranteed.\n",
      "WARNING:root:Package:azureml-automl-core, training version:1.21.0, current version:1.20.0\n",
      "Package:azureml-automl-runtime, training version:1.21.0, current version:1.20.0\n",
      "Package:azureml-core, training version:1.21.0.post1, current version:1.20.0\n",
      "Package:azureml-dataprep, training version:2.8.2, current version:2.7.3\n",
      "Package:azureml-dataprep-native, training version:28.0.0, current version:27.0.0\n",
      "Package:azureml-dataprep-rslex, training version:1.6.0, current version:1.5.0\n",
      "Package:azureml-dataset-runtime, training version:1.21.0, current version:1.20.0\n",
      "Package:azureml-defaults, training version:1.21.0, current version:1.20.0\n",
      "Package:azureml-interpret, training version:1.21.0, current version:1.20.0\n",
      "Package:azureml-pipeline-core, training version:1.21.0, current version:1.20.0\n",
      "Package:azureml-telemetry, training version:1.21.0, current version:1.20.0\n",
      "Package:azureml-train-automl-client, training version:1.21.0, current version:1.20.0\n",
      "Package:azureml-train-automl-runtime, training version:1.21.0, current version:1.20.0\n",
      "WARNING:root:Please ensure the version of your local conda dependencies match the version on which your model was trained in order to properly retrieve your model.\n"
     ]
    }
   ],
   "source": [
    "best_automl_run, best_automl_model = remote_run.get_output()"
   ]
  },
  {
   "cell_type": "code",
   "execution_count": 17,
   "metadata": {},
   "outputs": [
    {
     "name": "stdout",
     "output_type": "stream",
     "text": [
      "Run(Experiment: new-experiment,\n",
      "Id: AutoML_be0a801b-c90c-4aa6-84d7-3aef5a669649_101,\n",
      "Type: azureml.scriptrun,\n",
      "Status: Completed)\n"
     ]
    }
   ],
   "source": [
    "print(best_automl_run)"
   ]
  },
  {
   "cell_type": "code",
   "execution_count": 18,
   "metadata": {},
   "outputs": [
    {
     "name": "stdout",
     "output_type": "stream",
     "text": [
      "Pipeline(memory=None,\n",
      "         steps=[('datatransformer',\n",
      "                 DataTransformer(enable_dnn=None, enable_feature_sweeping=None,\n",
      "                                 feature_sweeping_config=None,\n",
      "                                 feature_sweeping_timeout=None,\n",
      "                                 featurization_config=None, force_text_dnn=None,\n",
      "                                 is_cross_validation=None,\n",
      "                                 is_onnx_compatible=None, logger=None,\n",
      "                                 observer=None, task=None, working_dir=None)),\n",
      "                ('prefittedsoftvotingclassifier',...\n",
      "                                                                                                    min_samples_split=0.15052631578947367,\n",
      "                                                                                                    min_weight_fraction_leaf=0.0,\n",
      "                                                                                                    n_estimators=25,\n",
      "                                                                                                    n_jobs=1,\n",
      "                                                                                                    oob_score=False,\n",
      "                                                                                                    random_state=None,\n",
      "                                                                                                    verbose=0,\n",
      "                                                                                                    warm_start=False))],\n",
      "                                                                     verbose=False))],\n",
      "                                               flatten_transform=None,\n",
      "                                               weights=[0.2727272727272727,\n",
      "                                                        0.09090909090909091,\n",
      "                                                        0.09090909090909091,\n",
      "                                                        0.09090909090909091,\n",
      "                                                        0.09090909090909091,\n",
      "                                                        0.09090909090909091,\n",
      "                                                        0.09090909090909091,\n",
      "                                                        0.18181818181818182]))],\n",
      "         verbose=False)\n"
     ]
    }
   ],
   "source": [
    "print(best_automl_model)"
   ]
  },
  {
   "cell_type": "code",
   "execution_count": null,
   "metadata": {},
   "outputs": [],
   "source": [
    "best_automl_run"
   ]
  },
  {
   "cell_type": "code",
   "execution_count": 19,
   "metadata": {},
   "outputs": [
    {
     "name": "stdout",
     "output_type": "stream",
     "text": [
      "{'f1_score_weighted': 0.8622170933519829, 'AUC_micro': 0.9203066238967482, 'f1_score_macro': 0.8362739887255112, 'log_loss': 0.37350774905392875, 'precision_score_micro': 0.8655836916706482, 'average_precision_score_macro': 0.8857527785630507, 'AUC_macro': 0.9072006249425604, 'weighted_accuracy': 0.8969646251256617, 'AUC_weighted': 0.9072006249425604, 'recall_score_weighted': 0.8655836916706482, 'norm_macro_recall': 0.6477652176576907, 'precision_score_macro': 0.8549456716123384, 'recall_score_micro': 0.8655836916706482, 'precision_score_weighted': 0.8636135727272851, 'f1_score_micro': 0.8655836916706482, 'average_precision_score_weighted': 0.9121978462633121, 'accuracy': 0.8655836916706482, 'matthews_correlation': 0.6780488195619266, 'recall_score_macro': 0.8238826088288453, 'average_precision_score_micro': 0.9218724429456621, 'balanced_accuracy': 0.8238826088288453, 'confusion_matrix': 'aml://artifactId/ExperimentRun/dcid.AutoML_be0a801b-c90c-4aa6-84d7-3aef5a669649_101/confusion_matrix', 'accuracy_table': 'aml://artifactId/ExperimentRun/dcid.AutoML_be0a801b-c90c-4aa6-84d7-3aef5a669649_101/accuracy_table'}\n"
     ]
    }
   ],
   "source": [
    "get_best_automl_metrics = best_automl_run.get_metrics()\n",
    "\n",
    "for metric_name in get_best_automl_metrics:\n",
    "    metric = get_best_automl_metrics[metric_name]\n",
    "    print(metric_name, metric)"
   ]
  },
  {
   "cell_type": "code",
   "execution_count": 20,
   "metadata": {
    "gather": {
     "logged": 1598431426111
    },
    "jupyter": {
     "outputs_hidden": false,
     "source_hidden": false
    },
    "nteract": {
     "transient": {
      "deleting": false
     }
    }
   },
   "outputs": [
    {
     "name": "stdout",
     "output_type": "stream",
     "text": [
      "Model(workspace=Workspace.create(name='quick-starts-ws-137786', subscription_id='a24a24d5-8d87-4c8a-99b6-91ed2d2df51f', resource_group='aml-quickstarts-137786'), name=best_automl_model, id=best_automl_model:1, version=1, tags={}, properties={})\n"
     ]
    }
   ],
   "source": [
    "# Save the best model\n",
    "model = best_automl_run.register_model(model_name = 'best_automl_model', model_path = 'outputs/model.pkl', \n",
    "                                       tags = {'Training context':'Auto ML'},\n",
    "                                       properties={'Accuracy': get_best_automl_metrics['accuracy']})\n",
    "print(model)"
   ]
  },
  {
   "cell_type": "code",
   "execution_count": 21,
   "metadata": {},
   "outputs": [
    {
     "data": {
      "text/html": [
       "<table style=\"width:100%\"><tr><th>Experiment</th><th>Id</th><th>Type</th><th>Status</th><th>Details Page</th><th>Docs Page</th></tr><tr><td>new-experiment</td><td>AutoML_be0a801b-c90c-4aa6-84d7-3aef5a669649_101</td><td>azureml.scriptrun</td><td>Completed</td><td><a href=\"https://ml.azure.com/experiments/new-experiment/runs/AutoML_be0a801b-c90c-4aa6-84d7-3aef5a669649_101?wsid=/subscriptions/a24a24d5-8d87-4c8a-99b6-91ed2d2df51f/resourcegroups/aml-quickstarts-137786/workspaces/quick-starts-ws-137786\" target=\"_blank\" rel=\"noopener\">Link to Azure Machine Learning studio</a></td><td><a href=\"https://docs.microsoft.com/en-us/python/api/azureml-core/azureml.core.run.Run?view=azure-ml-py\" target=\"_blank\" rel=\"noopener\">Link to Documentation</a></td></tr></table>"
      ],
      "text/plain": [
       "Run(Experiment: new-experiment,\n",
       "Id: AutoML_be0a801b-c90c-4aa6-84d7-3aef5a669649_101,\n",
       "Type: azureml.scriptrun,\n",
       "Status: Completed)"
      ]
     },
     "execution_count": 21,
     "metadata": {},
     "output_type": "execute_result"
    }
   ],
   "source": [
    "# List best models of HyperDrive Run and AutoML Run to compare the accuracy of the model\n",
    "\n",
    "for model in Model.list(ws):\n",
    "    print(model.name)\n",
    "    for tag_name in model.tags:\n",
    "        tag = model.tags[tag_name]\n",
    "        print('\\t',tag_name,':',tag)\n",
    "    for prop_name in model.properties:\n",
    "        prop = model.properties[prop_name]\n",
    "        print('\\t',prop_name,':',prop)\n",
    "    print(\"\\n\")"
   ]
  },
  {
   "cell_type": "markdown",
   "metadata": {},
   "source": [
    "## Model Deployment\n",
    "\n",
    "Register the model, create an inference config and deploy the model as a web service."
   ]
  },
  {
   "cell_type": "code",
   "execution_count": null,
   "metadata": {
    "gather": {
     "logged": 1598431435189
    },
    "jupyter": {
     "outputs_hidden": false,
     "source_hidden": false
    },
    "nteract": {
     "transient": {
      "deleting": false
     }
    }
   },
   "outputs": [],
   "source": [
    "# Download scoring file\n",
    "best_automl_run.download_file('outputs/scoring_file_v_1_0_0.py','score.py')\n",
    "\n",
    "# Download environment file\n",
    "best_automl_run.download_file('outputs/conda_env_v_1_0_0.yml', 'envFile.yml')"
   ]
  },
  {
   "cell_type": "code",
   "execution_count": null,
   "metadata": {},
   "outputs": [],
   "source": [
    "# Create an inference config\n",
    "\n",
    "from azureml.core.environment import Environment\n",
    "from azureml.core.model import InferenceConfig\n",
    "\n",
    "\n",
    "# env = Environment.get(ws, \"AzureML-Minimal\").clone(env_name)\n",
    "\n",
    "# for pip_package in [\"scikit-learn\"]:\n",
    "#     env.python.conda_dependencies.add_pip_package(pip_package)\n",
    "\n",
    "inference_config = InferenceConfig(entry_script='score.py',\n",
    "                                    environment=best_automl_run.get_environment())"
   ]
  },
  {
   "cell_type": "code",
   "execution_count": null,
   "metadata": {},
   "outputs": [],
   "source": [
    "# Deploy the model as a web service\n",
    "from azureml.core.webservice import AciWebservice, Webservice\n",
    "from azureml.core.model import Model\n",
    "\n",
    "deployment_config = AciWebservice.deploy_configuration(cpu_cores = 1, memory_gb = 1)\n",
    "service = Model.deploy(ws, \"aciservice\", [model], inference_config, deployment_config)\n",
    "service.wait_for_deployment(show_output = True)"
   ]
  },
  {
   "cell_type": "code",
   "execution_count": null,
   "metadata": {},
   "outputs": [],
   "source": [
    "service.update(enable_app_insights = True)"
   ]
  },
  {
   "cell_type": "code",
   "execution_count": null,
   "metadata": {},
   "outputs": [],
   "source": [
    "print(\"State : \"+service.state)\n",
    "print(\"Key : \"+service.get_keys()[0])\n",
    "print(\"Swagger URI : \"+service.swagger_uri)\n",
    "print(\"Scoring URI : \"+service.scoring_uri)"
   ]
  },
  {
   "cell_type": "markdown",
   "metadata": {
    "collapsed": true,
    "gather": {
     "logged": 1598431657736
    },
    "jupyter": {
     "outputs_hidden": false,
     "source_hidden": false
    },
    "nteract": {
     "transient": {
      "deleting": false
     }
    }
   },
   "source": [
    "Send a request to the web service that is deployed to test it."
   ]
  },
  {
   "cell_type": "code",
   "execution_count": null,
   "metadata": {
    "gather": {
     "logged": 1598432707604
    },
    "jupyter": {
     "outputs_hidden": false,
     "source_hidden": false
    },
    "nteract": {
     "transient": {
      "deleting": false
     }
    }
   },
   "outputs": [],
   "source": [
    "import requests\n",
    "import json\n",
    "\n",
    "# Two sets of data to score, so we get two results back\n",
    "\n",
    "sample = test_data.sample(2)\n",
    "y_test = sample[\"Death_EVENT\"]\n",
    "sample.drop(['DEATH_EVENT'], inplace=True, axis=1)\n",
    "x_test = sample\n",
    "data = {\"data\":x_test.to_dict()}\n",
    "\n",
    "# Convert to JSON string\n",
    "input_data = json.dumps(data)\n",
    "print(input_data)"
   ]
  },
  {
   "cell_type": "code",
   "execution_count": null,
   "metadata": {},
   "outputs": [],
   "source": [
    "# Set the content type\n",
    "headers = {'Content-Type': 'application/json'}\n",
    "\n",
    "# Make the request and display the response\n",
    "resp = requests.post(scoring_uri, input_data, headers=headers)\n",
    "print(resp.text)"
   ]
  },
  {
   "cell_type": "code",
   "execution_count": null,
   "metadata": {},
   "outputs": [],
   "source": [
    "# Print original labels\n",
    "print(y_test)"
   ]
  },
  {
   "cell_type": "markdown",
   "metadata": {
    "collapsed": true,
    "gather": {
     "logged": 1598432765711
    },
    "jupyter": {
     "outputs_hidden": false,
     "source_hidden": false
    },
    "nteract": {
     "transient": {
      "deleting": false
     }
    }
   },
   "source": [
    "Print the logs of the web service and delete the service"
   ]
  },
  {
   "cell_type": "code",
   "execution_count": null,
   "metadata": {
    "jupyter": {
     "outputs_hidden": false,
     "source_hidden": false
    },
    "nteract": {
     "transient": {
      "deleting": false
     }
    }
   },
   "outputs": [],
   "source": [
    "print(service.get_logs())"
   ]
  },
  {
   "cell_type": "code",
   "execution_count": null,
   "metadata": {},
   "outputs": [],
   "source": [
    "service.delete()\n",
    "cpu_cluster.delete()"
   ]
  }
 ],
 "metadata": {
  "kernel_info": {
   "name": "python3-azureml"
  },
  "kernelspec": {
   "display_name": "Python 3",
   "language": "python",
   "name": "python3"
  },
  "language_info": {
   "codemirror_mode": {
    "name": "ipython",
    "version": 3
   },
   "file_extension": ".py",
   "mimetype": "text/x-python",
   "name": "python",
   "nbconvert_exporter": "python",
   "pygments_lexer": "ipython3",
   "version": "3.7.4"
  },
  "nteract": {
   "version": "nteract-front-end@1.0.0"
  }
 },
 "nbformat": 4,
 "nbformat_minor": 2
}
