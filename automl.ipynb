{
 "cells": [
  {
   "cell_type": "markdown",
   "metadata": {},
   "source": [
    "# Automated ML\n",
    "\n",
    "Import all the dependencies that we will need to complete the project."
   ]
  },
  {
   "cell_type": "code",
   "execution_count": 1,
   "metadata": {
    "gather": {
     "logged": 1598423888013
    },
    "jupyter": {
     "outputs_hidden": false,
     "source_hidden": false
    },
    "nteract": {
     "transient": {
      "deleting": false
     }
    }
   },
   "outputs": [],
   "source": [
    "from azureml.core import Workspace, Experiment, Dataset\n",
    "from azureml.core.compute import ComputeTarget, AmlCompute\n",
    "from azureml.core.compute_target import ComputeTargetException\n",
    "from azureml.data.dataset_factory import TabularDatasetFactory\n",
    "from azureml.widgets import RunDetails\n",
    "import pandas as pd\n",
    "from azureml.data.datapath import DataPath\n",
    "from azureml.train.automl import AutoMLConfig\n",
    "import joblib \n",
    "import os"
   ]
  },
  {
   "cell_type": "markdown",
   "metadata": {},
   "source": [
    "## Dataset\n",
    "\n",
    "### Overview\n",
    "\n",
    "The dataset that we will be using for this project is the [Heart Failure Prediction](https://www.kaggle.com/andrewmvd/heart-failure-clinical-data) dataset from Kaggle. \n",
    "\n",
    "Heart failure is a common event caused by CVDs and this dataset contains 12 features that can be used to predict mortality by heart failure.\n",
    "\n",
    "People with cardiovascular disease or who are at high cardiovascular risk need early detection and management wherein a machine learning model can be of great help.\n",
    "\n",
    "**12 clinical features:**\n",
    "\n",
    "* age - Age\n",
    "\n",
    "* anaemia - Decrease of red blood cells or hemoglobin (boolean)\n",
    "\n",
    "* creatinine_phosphokinase - Level of the CPK enzyme in the blood (mcg/L)\n",
    "\n",
    "* diabetes - If the patient has diabetes (boolean)\n",
    "\n",
    "* ejection_fraction - Percentage of blood leaving the heart at each contraction (percentage)\n",
    "\n",
    "* high_blood_pressure - If the patient has hypertension (boolean)\n",
    "  \n",
    "* platelets - Platelets in the blood (kiloplatelets/mL)\n",
    "\n",
    "* serum_creatinine - Level of serum creatinine in the blood (mg/dL)\n",
    "\n",
    "* serum_sodium - Level of serum sodium in the blood (mEq/L)\n",
    "  \n",
    "* sex - Woman or man (binary)\n",
    "  \n",
    "* smoking - If the patient smokes or not (boolean)\n",
    "\n",
    "* time - Follow-up period (days)\n",
    "\n",
    "In this project we will use Azure Automated ML to make prediction on the death event based on the above mentioned clinical features.\n"
   ]
  },
  {
   "cell_type": "code",
   "execution_count": 2,
   "metadata": {
    "gather": {
     "logged": 1598423890461
    },
    "jupyter": {
     "outputs_hidden": false,
     "source_hidden": false
    },
    "nteract": {
     "transient": {
      "deleting": false
     }
    }
   },
   "outputs": [],
   "source": [
    "ws = Workspace.from_config()\n",
    "\n",
    "# choose a name for experiment\n",
    "experiment_name = 'new-experiment'\n",
    "\n",
    "experiment=Experiment(ws, experiment_name)"
   ]
  },
  {
   "cell_type": "code",
   "execution_count": 3,
   "metadata": {},
   "outputs": [
    {
     "name": "stdout",
     "output_type": "stream",
     "text": [
      "Workspace name: quick-starts-ws-139012\n",
      "Azure region: southcentralus\n",
      "Subscription id: f5091c60-1c3c-430f-8d81-d802f6bf2414\n",
      "Resource group: aml-quickstarts-139012\n"
     ]
    }
   ],
   "source": [
    "print('Workspace name: '+ ws.name,\n",
    "     'Azure region: '+ ws.location,\n",
    "      'Subscription id: '+ ws.subscription_id,\n",
    "     'Resource group: '+ ws.resource_group, sep=\"\\n\")\n",
    "\n",
    "run = experiment.start_logging()"
   ]
  },
  {
   "cell_type": "code",
   "execution_count": 4,
   "metadata": {},
   "outputs": [],
   "source": [
    "ds = Dataset.get_by_name(ws, 'heart-failure-dataset')"
   ]
  },
  {
   "cell_type": "code",
   "execution_count": 5,
   "metadata": {},
   "outputs": [
    {
     "data": {
      "text/html": [
       "<div>\n",
       "<style scoped>\n",
       "    .dataframe tbody tr th:only-of-type {\n",
       "        vertical-align: middle;\n",
       "    }\n",
       "\n",
       "    .dataframe tbody tr th {\n",
       "        vertical-align: top;\n",
       "    }\n",
       "\n",
       "    .dataframe thead th {\n",
       "        text-align: right;\n",
       "    }\n",
       "</style>\n",
       "<table border=\"1\" class=\"dataframe\">\n",
       "  <thead>\n",
       "    <tr style=\"text-align: right;\">\n",
       "      <th></th>\n",
       "      <th>age</th>\n",
       "      <th>anaemia</th>\n",
       "      <th>creatinine_phosphokinase</th>\n",
       "      <th>diabetes</th>\n",
       "      <th>ejection_fraction</th>\n",
       "      <th>high_blood_pressure</th>\n",
       "      <th>platelets</th>\n",
       "      <th>serum_creatinine</th>\n",
       "      <th>serum_sodium</th>\n",
       "      <th>sex</th>\n",
       "      <th>smoking</th>\n",
       "      <th>time</th>\n",
       "      <th>DEATH_EVENT</th>\n",
       "    </tr>\n",
       "  </thead>\n",
       "  <tbody>\n",
       "    <tr>\n",
       "      <th>0</th>\n",
       "      <td>75.0</td>\n",
       "      <td>0</td>\n",
       "      <td>582</td>\n",
       "      <td>0</td>\n",
       "      <td>20</td>\n",
       "      <td>1</td>\n",
       "      <td>265000.00</td>\n",
       "      <td>1.9</td>\n",
       "      <td>130</td>\n",
       "      <td>1</td>\n",
       "      <td>0</td>\n",
       "      <td>4</td>\n",
       "      <td>1</td>\n",
       "    </tr>\n",
       "    <tr>\n",
       "      <th>1</th>\n",
       "      <td>55.0</td>\n",
       "      <td>0</td>\n",
       "      <td>7861</td>\n",
       "      <td>0</td>\n",
       "      <td>38</td>\n",
       "      <td>0</td>\n",
       "      <td>263358.03</td>\n",
       "      <td>1.1</td>\n",
       "      <td>136</td>\n",
       "      <td>1</td>\n",
       "      <td>0</td>\n",
       "      <td>6</td>\n",
       "      <td>1</td>\n",
       "    </tr>\n",
       "    <tr>\n",
       "      <th>2</th>\n",
       "      <td>65.0</td>\n",
       "      <td>0</td>\n",
       "      <td>146</td>\n",
       "      <td>0</td>\n",
       "      <td>20</td>\n",
       "      <td>0</td>\n",
       "      <td>162000.00</td>\n",
       "      <td>1.3</td>\n",
       "      <td>129</td>\n",
       "      <td>1</td>\n",
       "      <td>1</td>\n",
       "      <td>7</td>\n",
       "      <td>1</td>\n",
       "    </tr>\n",
       "    <tr>\n",
       "      <th>3</th>\n",
       "      <td>50.0</td>\n",
       "      <td>1</td>\n",
       "      <td>111</td>\n",
       "      <td>0</td>\n",
       "      <td>20</td>\n",
       "      <td>0</td>\n",
       "      <td>210000.00</td>\n",
       "      <td>1.9</td>\n",
       "      <td>137</td>\n",
       "      <td>1</td>\n",
       "      <td>0</td>\n",
       "      <td>7</td>\n",
       "      <td>1</td>\n",
       "    </tr>\n",
       "    <tr>\n",
       "      <th>4</th>\n",
       "      <td>65.0</td>\n",
       "      <td>1</td>\n",
       "      <td>160</td>\n",
       "      <td>1</td>\n",
       "      <td>20</td>\n",
       "      <td>0</td>\n",
       "      <td>327000.00</td>\n",
       "      <td>2.7</td>\n",
       "      <td>116</td>\n",
       "      <td>0</td>\n",
       "      <td>0</td>\n",
       "      <td>8</td>\n",
       "      <td>1</td>\n",
       "    </tr>\n",
       "  </tbody>\n",
       "</table>\n",
       "</div>"
      ],
      "text/plain": [
       "    age  anaemia  creatinine_phosphokinase  diabetes  ejection_fraction  \\\n",
       "0  75.0        0                       582         0                 20   \n",
       "1  55.0        0                      7861         0                 38   \n",
       "2  65.0        0                       146         0                 20   \n",
       "3  50.0        1                       111         0                 20   \n",
       "4  65.0        1                       160         1                 20   \n",
       "\n",
       "   high_blood_pressure  platelets  serum_creatinine  serum_sodium  sex  \\\n",
       "0                    1  265000.00               1.9           130    1   \n",
       "1                    0  263358.03               1.1           136    1   \n",
       "2                    0  162000.00               1.3           129    1   \n",
       "3                    0  210000.00               1.9           137    1   \n",
       "4                    0  327000.00               2.7           116    0   \n",
       "\n",
       "   smoking  time  DEATH_EVENT  \n",
       "0        0     4            1  \n",
       "1        0     6            1  \n",
       "2        1     7            1  \n",
       "3        0     7            1  \n",
       "4        0     8            1  "
      ]
     },
     "execution_count": 5,
     "metadata": {},
     "output_type": "execute_result"
    }
   ],
   "source": [
    "df = ds.to_pandas_dataframe()\n",
    "df.head()"
   ]
  },
  {
   "cell_type": "code",
   "execution_count": 6,
   "metadata": {},
   "outputs": [],
   "source": [
    "train_data, test_data = ds.random_split(0.9)"
   ]
  },
  {
   "cell_type": "markdown",
   "metadata": {},
   "source": [
    "## Create Compute Cluster"
   ]
  },
  {
   "cell_type": "code",
   "execution_count": 7,
   "metadata": {},
   "outputs": [
    {
     "name": "stdout",
     "output_type": "stream",
     "text": [
      "Creating\n",
      "Succeeded\n",
      "AmlCompute wait for completion finished\n",
      "\n",
      "Minimum number of nodes requested have been provisioned\n"
     ]
    }
   ],
   "source": [
    "cpu_cluster_name = \"compute-cluster\"\n",
    "#Verify that the cluster does not exist already\n",
    "try:\n",
    "    cpu_cluster = ComputeTarget(workspace = ws, name = cpu_cluster_name)\n",
    "    print(\"Found existing cluster. Use it\")\n",
    "except ComputeTargetException:\n",
    "    compute_config = AmlCompute.provisioning_configuration(vm_size='STANDARD_D2_V2', max_nodes =4)\n",
    "    cpu_cluster = ComputeTarget.create(ws, cpu_cluster_name, compute_config)\n",
    "    \n",
    "cpu_cluster.wait_for_completion(show_output=True)\n",
    "    "
   ]
  },
  {
   "cell_type": "markdown",
   "metadata": {},
   "source": [
    "## AutoML Configuration\n",
    "\n",
    "Instantiate an AutoMLConfig object for AutoML Configuration. \n",
    "\n",
    "The parameters used here are:\n",
    "\n",
    "* `n_cross_validation = 3` - Since our dataset is small. We apply cross validation with 3 folds instead of train/validation data split.\n",
    "\n",
    "\n",
    "* `primary_metric = 'accuracy'` - The primary metric parameter determines the metric to be used during model training for optimization. Accuracy primary metric is chosen for binary classification dataset.\n",
    "\n",
    "\n",
    "* `experiment_timeout_minutes = 30` - This defines how long, in minutes, our experiment should continue to run. Here this timeout is set to 30 minutes.\n",
    "\n",
    "\n",
    "* `max_concurrent_iterations = 4` - To help manage child runs and when they can be performed, we match the number of maximum concurrent iterations of our experiment to the number of nodes in the cluster. So, we get a dedicated cluster per experiment.\n",
    "\n",
    "\n",
    "* `task = 'classification'` - This specifies the experiment type as classification.\n",
    "\n",
    "\n",
    "*  `compute_target = cpu_cluster` -  Azure Machine Learning Managed Compute is a managed service that enables the ability to train machine learning models on clusters of Azure virtual machines. Here compute target is set to cpu_cluster which is already defined with 'STANDARD_D2_V2' and maximum nodes equal to 4.\n",
    "\n",
    "\n",
    "* `training_data = train_data` - This specifies the training data to be used in this experiment which is set to train_data which is a part of the dataset uploaded to the datastore.\n",
    "\n",
    "\n",
    "* `label_column_name = 'DEATH_EVENT'` - The target column here is set to DEATH_EVENT which has values 1 if the patient deceased or 0 if the patient survived.\n",
    "\n",
    "\n",
    "* `featurization= 'auto'` - This indicates that as part of preprocessing, data guardrails and featurization steps are performed automatically.\n"
   ]
  },
  {
   "cell_type": "code",
   "execution_count": 8,
   "metadata": {
    "gather": {
     "logged": 1598429217746
    },
    "jupyter": {
     "outputs_hidden": false,
     "source_hidden": false
    },
    "nteract": {
     "transient": {
      "deleting": false
     }
    }
   },
   "outputs": [],
   "source": [
    "# Automl settings\n",
    "automl_settings = {\n",
    "    \"n_cross_validations\": 3,\n",
    "    \"primary_metric\": 'accuracy',\n",
    "    \"experiment_timeout_minutes\": 30,\n",
    "    \"max_concurrent_iterations\": 4\n",
    "}\n",
    "\n",
    "# automl config here\n",
    "automl_config = AutoMLConfig(task = 'classification',\n",
    "                            compute_target = cpu_cluster,\n",
    "                             training_data = train_data,\n",
    "                             label_column_name = 'DEATH_EVENT',\n",
    "                             featurization= 'auto',\n",
    "                             **automl_settings\n",
    "                            )"
   ]
  },
  {
   "cell_type": "code",
   "execution_count": 9,
   "metadata": {
    "gather": {
     "logged": 1598431107951
    },
    "jupyter": {
     "outputs_hidden": false,
     "source_hidden": false
    },
    "nteract": {
     "transient": {
      "deleting": false
     }
    }
   },
   "outputs": [
    {
     "name": "stdout",
     "output_type": "stream",
     "text": [
      "Running on remote.\n"
     ]
    }
   ],
   "source": [
    "# Submit the experiment\n",
    "remote_run = experiment.submit(automl_config)"
   ]
  },
  {
   "cell_type": "markdown",
   "metadata": {},
   "source": [
    "## Run Details\n",
    "\n",
    "The `RunDetails` widget shows the different experiments."
   ]
  },
  {
   "cell_type": "code",
   "execution_count": 10,
   "metadata": {
    "gather": {
     "logged": 1598431121770
    },
    "jupyter": {
     "outputs_hidden": false,
     "source_hidden": false
    },
    "nteract": {
     "transient": {
      "deleting": false
     }
    }
   },
   "outputs": [
    {
     "data": {
      "application/vnd.jupyter.widget-view+json": {
       "model_id": "40dcc0e6a8484da2b4b18db806df56f7",
       "version_major": 2,
       "version_minor": 0
      },
      "text/plain": [
       "_AutoMLWidget(widget_settings={'childWidgetDisplay': 'popup', 'send_telemetry': False, 'log_level': 'INFO', 's…"
      ]
     },
     "metadata": {},
     "output_type": "display_data"
    },
    {
     "data": {
      "application/aml.mini.widget.v1": "{\"status\": \"Completed\", \"workbench_run_details_uri\": \"https://ml.azure.com/experiments/new-experiment/runs/AutoML_e8ac35d0-451b-4f6a-90c9-1e5d73e48bbc?wsid=/subscriptions/f5091c60-1c3c-430f-8d81-d802f6bf2414/resourcegroups/aml-quickstarts-139012/workspaces/quick-starts-ws-139012\", \"run_id\": \"AutoML_e8ac35d0-451b-4f6a-90c9-1e5d73e48bbc\", \"run_properties\": {\"run_id\": \"AutoML_e8ac35d0-451b-4f6a-90c9-1e5d73e48bbc\", \"created_utc\": \"2021-02-16T10:09:40.575385Z\", \"properties\": {\"num_iterations\": \"1000\", \"training_type\": \"TrainFull\", \"acquisition_function\": \"EI\", \"primary_metric\": \"accuracy\", \"train_split\": \"0\", \"acquisition_parameter\": \"0\", \"num_cross_validation\": \"3\", \"target\": \"compute-cluster\", \"AMLSettingsJsonString\": \"{\\\"path\\\":null,\\\"name\\\":\\\"new-experiment\\\",\\\"subscription_id\\\":\\\"f5091c60-1c3c-430f-8d81-d802f6bf2414\\\",\\\"resource_group\\\":\\\"aml-quickstarts-139012\\\",\\\"workspace_name\\\":\\\"quick-starts-ws-139012\\\",\\\"region\\\":\\\"southcentralus\\\",\\\"compute_target\\\":\\\"compute-cluster\\\",\\\"spark_service\\\":null,\\\"azure_service\\\":\\\"remote\\\",\\\"many_models\\\":false,\\\"pipeline_fetch_max_batch_size\\\":1,\\\"iterations\\\":1000,\\\"primary_metric\\\":\\\"accuracy\\\",\\\"task_type\\\":\\\"classification\\\",\\\"data_script\\\":null,\\\"validation_size\\\":0.0,\\\"n_cross_validations\\\":3,\\\"y_min\\\":null,\\\"y_max\\\":null,\\\"num_classes\\\":null,\\\"featurization\\\":\\\"auto\\\",\\\"_ignore_package_version_incompatibilities\\\":false,\\\"is_timeseries\\\":false,\\\"max_cores_per_iteration\\\":1,\\\"max_concurrent_iterations\\\":4,\\\"iteration_timeout_minutes\\\":null,\\\"mem_in_mb\\\":null,\\\"enforce_time_on_windows\\\":false,\\\"experiment_timeout_minutes\\\":30,\\\"experiment_exit_score\\\":null,\\\"whitelist_models\\\":null,\\\"blacklist_algos\\\":[\\\"TensorFlowLinearClassifier\\\",\\\"TensorFlowDNN\\\"],\\\"supported_models\\\":[\\\"LinearSVM\\\",\\\"MultinomialNaiveBayes\\\",\\\"TensorFlowLinearClassifier\\\",\\\"LightGBM\\\",\\\"TensorFlowDNN\\\",\\\"RandomForest\\\",\\\"GradientBoosting\\\",\\\"KNN\\\",\\\"DecisionTree\\\",\\\"AveragedPerceptronClassifier\\\",\\\"SVM\\\",\\\"ExtremeRandomTrees\\\",\\\"SGD\\\",\\\"LogisticRegression\\\",\\\"BernoulliNaiveBayes\\\",\\\"XGBoostClassifier\\\"],\\\"auto_blacklist\\\":true,\\\"blacklist_samples_reached\\\":false,\\\"exclude_nan_labels\\\":true,\\\"verbosity\\\":20,\\\"_debug_log\\\":\\\"azureml_automl.log\\\",\\\"show_warnings\\\":false,\\\"model_explainability\\\":true,\\\"service_url\\\":null,\\\"sdk_url\\\":null,\\\"sdk_packages\\\":null,\\\"enable_onnx_compatible_models\\\":false,\\\"enable_split_onnx_featurizer_estimator_models\\\":false,\\\"vm_type\\\":\\\"STANDARD_D2_V2\\\",\\\"telemetry_verbosity\\\":20,\\\"send_telemetry\\\":true,\\\"enable_dnn\\\":false,\\\"scenario\\\":\\\"SDK-1.13.0\\\",\\\"environment_label\\\":null,\\\"force_text_dnn\\\":false,\\\"enable_feature_sweeping\\\":true,\\\"enable_early_stopping\\\":false,\\\"early_stopping_n_iters\\\":10,\\\"metrics\\\":null,\\\"enable_ensembling\\\":true,\\\"enable_stack_ensembling\\\":true,\\\"ensemble_iterations\\\":15,\\\"enable_tf\\\":false,\\\"enable_subsampling\\\":null,\\\"subsample_seed\\\":null,\\\"enable_nimbusml\\\":false,\\\"enable_streaming\\\":false,\\\"force_streaming\\\":false,\\\"track_child_runs\\\":true,\\\"allowed_private_models\\\":[],\\\"label_column_name\\\":\\\"DEATH_EVENT\\\",\\\"weight_column_name\\\":null,\\\"cv_split_column_names\\\":null,\\\"enable_local_managed\\\":false,\\\"_local_managed_run_id\\\":null,\\\"cost_mode\\\":1,\\\"lag_length\\\":0,\\\"metric_operation\\\":\\\"maximize\\\",\\\"preprocess\\\":true}\", \"DataPrepJsonString\": \"{\\\\\\\"training_data\\\\\\\": \\\\\\\"{\\\\\\\\\\\\\\\"blocks\\\\\\\\\\\\\\\": [{\\\\\\\\\\\\\\\"id\\\\\\\\\\\\\\\": \\\\\\\\\\\\\\\"e7f38fa5-e94a-4074-8c52-b67439c26853\\\\\\\\\\\\\\\", \\\\\\\\\\\\\\\"type\\\\\\\\\\\\\\\": \\\\\\\\\\\\\\\"Microsoft.DPrep.GetDatastoreFilesBlock\\\\\\\\\\\\\\\", \\\\\\\\\\\\\\\"arguments\\\\\\\\\\\\\\\": {\\\\\\\\\\\\\\\"datastores\\\\\\\\\\\\\\\": [{\\\\\\\\\\\\\\\"datastoreName\\\\\\\\\\\\\\\": \\\\\\\\\\\\\\\"workspaceblobstore\\\\\\\\\\\\\\\", \\\\\\\\\\\\\\\"path\\\\\\\\\\\\\\\": \\\\\\\\\\\\\\\"UI/02-16-2021_093925_UTC/heart_failure_clinical_records_dataset.csv\\\\\\\\\\\\\\\", \\\\\\\\\\\\\\\"resourceGroup\\\\\\\\\\\\\\\": \\\\\\\\\\\\\\\"aml-quickstarts-139012\\\\\\\\\\\\\\\", \\\\\\\\\\\\\\\"subscription\\\\\\\\\\\\\\\": \\\\\\\\\\\\\\\"f5091c60-1c3c-430f-8d81-d802f6bf2414\\\\\\\\\\\\\\\", \\\\\\\\\\\\\\\"workspaceName\\\\\\\\\\\\\\\": \\\\\\\\\\\\\\\"quick-starts-ws-139012\\\\\\\\\\\\\\\"}]}, \\\\\\\\\\\\\\\"localData\\\\\\\\\\\\\\\": {}, \\\\\\\\\\\\\\\"isEnabled\\\\\\\\\\\\\\\": true, \\\\\\\\\\\\\\\"name\\\\\\\\\\\\\\\": null, \\\\\\\\\\\\\\\"annotation\\\\\\\\\\\\\\\": null}, {\\\\\\\\\\\\\\\"id\\\\\\\\\\\\\\\": \\\\\\\\\\\\\\\"3426be90-c612-4e0a-8aad-5281c4a7c215\\\\\\\\\\\\\\\", \\\\\\\\\\\\\\\"type\\\\\\\\\\\\\\\": \\\\\\\\\\\\\\\"Microsoft.DPrep.ParseDelimitedBlock\\\\\\\\\\\\\\\", \\\\\\\\\\\\\\\"arguments\\\\\\\\\\\\\\\": {\\\\\\\\\\\\\\\"columnHeadersMode\\\\\\\\\\\\\\\": 3, \\\\\\\\\\\\\\\"fileEncoding\\\\\\\\\\\\\\\": 0, \\\\\\\\\\\\\\\"handleQuotedLineBreaks\\\\\\\\\\\\\\\": false, \\\\\\\\\\\\\\\"preview\\\\\\\\\\\\\\\": false, \\\\\\\\\\\\\\\"separator\\\\\\\\\\\\\\\": \\\\\\\\\\\\\\\",\\\\\\\\\\\\\\\", \\\\\\\\\\\\\\\"skipRows\\\\\\\\\\\\\\\": 0, \\\\\\\\\\\\\\\"skipRowsMode\\\\\\\\\\\\\\\": 0}, \\\\\\\\\\\\\\\"localData\\\\\\\\\\\\\\\": {}, \\\\\\\\\\\\\\\"isEnabled\\\\\\\\\\\\\\\": true, \\\\\\\\\\\\\\\"name\\\\\\\\\\\\\\\": null, \\\\\\\\\\\\\\\"annotation\\\\\\\\\\\\\\\": null}, {\\\\\\\\\\\\\\\"id\\\\\\\\\\\\\\\": \\\\\\\\\\\\\\\"c172ae47-01e5-44ac-8b8c-212847c5d79b\\\\\\\\\\\\\\\", \\\\\\\\\\\\\\\"type\\\\\\\\\\\\\\\": \\\\\\\\\\\\\\\"Microsoft.DPrep.DropColumnsBlock\\\\\\\\\\\\\\\", \\\\\\\\\\\\\\\"arguments\\\\\\\\\\\\\\\": {\\\\\\\\\\\\\\\"columns\\\\\\\\\\\\\\\": {\\\\\\\\\\\\\\\"type\\\\\\\\\\\\\\\": 0, \\\\\\\\\\\\\\\"details\\\\\\\\\\\\\\\": {\\\\\\\\\\\\\\\"selectedColumns\\\\\\\\\\\\\\\": [\\\\\\\\\\\\\\\"Path\\\\\\\\\\\\\\\"]}}}, \\\\\\\\\\\\\\\"localData\\\\\\\\\\\\\\\": {}, \\\\\\\\\\\\\\\"isEnabled\\\\\\\\\\\\\\\": true, \\\\\\\\\\\\\\\"name\\\\\\\\\\\\\\\": null, \\\\\\\\\\\\\\\"annotation\\\\\\\\\\\\\\\": null}, {\\\\\\\\\\\\\\\"id\\\\\\\\\\\\\\\": \\\\\\\\\\\\\\\"f6286a6d-a37a-49eb-91b3-e1a82a6edd4c\\\\\\\\\\\\\\\", \\\\\\\\\\\\\\\"type\\\\\\\\\\\\\\\": \\\\\\\\\\\\\\\"Microsoft.DPrep.SetColumnTypesBlock\\\\\\\\\\\\\\\", \\\\\\\\\\\\\\\"arguments\\\\\\\\\\\\\\\": {\\\\\\\\\\\\\\\"columnConversion\\\\\\\\\\\\\\\": [{\\\\\\\\\\\\\\\"column\\\\\\\\\\\\\\\": {\\\\\\\\\\\\\\\"type\\\\\\\\\\\\\\\": 2, \\\\\\\\\\\\\\\"details\\\\\\\\\\\\\\\": {\\\\\\\\\\\\\\\"selectedColumn\\\\\\\\\\\\\\\": \\\\\\\\\\\\\\\"Path\\\\\\\\\\\\\\\"}}, \\\\\\\\\\\\\\\"typeProperty\\\\\\\\\\\\\\\": 0}, {\\\\\\\\\\\\\\\"column\\\\\\\\\\\\\\\": {\\\\\\\\\\\\\\\"type\\\\\\\\\\\\\\\": 2, \\\\\\\\\\\\\\\"details\\\\\\\\\\\\\\\": {\\\\\\\\\\\\\\\"selectedColumn\\\\\\\\\\\\\\\": \\\\\\\\\\\\\\\"age\\\\\\\\\\\\\\\"}}, \\\\\\\\\\\\\\\"typeProperty\\\\\\\\\\\\\\\": 3}, {\\\\\\\\\\\\\\\"column\\\\\\\\\\\\\\\": {\\\\\\\\\\\\\\\"type\\\\\\\\\\\\\\\": 2, \\\\\\\\\\\\\\\"details\\\\\\\\\\\\\\\": {\\\\\\\\\\\\\\\"selectedColumn\\\\\\\\\\\\\\\": \\\\\\\\\\\\\\\"anaemia\\\\\\\\\\\\\\\"}}, \\\\\\\\\\\\\\\"typeProperty\\\\\\\\\\\\\\\": 2}, {\\\\\\\\\\\\\\\"column\\\\\\\\\\\\\\\": {\\\\\\\\\\\\\\\"type\\\\\\\\\\\\\\\": 2, \\\\\\\\\\\\\\\"details\\\\\\\\\\\\\\\": {\\\\\\\\\\\\\\\"selectedColumn\\\\\\\\\\\\\\\": \\\\\\\\\\\\\\\"creatinine_phosphokinase\\\\\\\\\\\\\\\"}}, \\\\\\\\\\\\\\\"typeProperty\\\\\\\\\\\\\\\": 2}, {\\\\\\\\\\\\\\\"column\\\\\\\\\\\\\\\": {\\\\\\\\\\\\\\\"type\\\\\\\\\\\\\\\": 2, \\\\\\\\\\\\\\\"details\\\\\\\\\\\\\\\": {\\\\\\\\\\\\\\\"selectedColumn\\\\\\\\\\\\\\\": \\\\\\\\\\\\\\\"diabetes\\\\\\\\\\\\\\\"}}, \\\\\\\\\\\\\\\"typeProperty\\\\\\\\\\\\\\\": 2}, {\\\\\\\\\\\\\\\"column\\\\\\\\\\\\\\\": {\\\\\\\\\\\\\\\"type\\\\\\\\\\\\\\\": 2, \\\\\\\\\\\\\\\"details\\\\\\\\\\\\\\\": {\\\\\\\\\\\\\\\"selectedColumn\\\\\\\\\\\\\\\": \\\\\\\\\\\\\\\"ejection_fraction\\\\\\\\\\\\\\\"}}, \\\\\\\\\\\\\\\"typeProperty\\\\\\\\\\\\\\\": 2}, {\\\\\\\\\\\\\\\"column\\\\\\\\\\\\\\\": {\\\\\\\\\\\\\\\"type\\\\\\\\\\\\\\\": 2, \\\\\\\\\\\\\\\"details\\\\\\\\\\\\\\\": {\\\\\\\\\\\\\\\"selectedColumn\\\\\\\\\\\\\\\": \\\\\\\\\\\\\\\"high_blood_pressure\\\\\\\\\\\\\\\"}}, \\\\\\\\\\\\\\\"typeProperty\\\\\\\\\\\\\\\": 2}, {\\\\\\\\\\\\\\\"column\\\\\\\\\\\\\\\": {\\\\\\\\\\\\\\\"type\\\\\\\\\\\\\\\": 2, \\\\\\\\\\\\\\\"details\\\\\\\\\\\\\\\": {\\\\\\\\\\\\\\\"selectedColumn\\\\\\\\\\\\\\\": \\\\\\\\\\\\\\\"platelets\\\\\\\\\\\\\\\"}}, \\\\\\\\\\\\\\\"typeProperty\\\\\\\\\\\\\\\": 3}, {\\\\\\\\\\\\\\\"column\\\\\\\\\\\\\\\": {\\\\\\\\\\\\\\\"type\\\\\\\\\\\\\\\": 2, \\\\\\\\\\\\\\\"details\\\\\\\\\\\\\\\": {\\\\\\\\\\\\\\\"selectedColumn\\\\\\\\\\\\\\\": \\\\\\\\\\\\\\\"serum_creatinine\\\\\\\\\\\\\\\"}}, \\\\\\\\\\\\\\\"typeProperty\\\\\\\\\\\\\\\": 3}, {\\\\\\\\\\\\\\\"column\\\\\\\\\\\\\\\": {\\\\\\\\\\\\\\\"type\\\\\\\\\\\\\\\": 2, \\\\\\\\\\\\\\\"details\\\\\\\\\\\\\\\": {\\\\\\\\\\\\\\\"selectedColumn\\\\\\\\\\\\\\\": \\\\\\\\\\\\\\\"serum_sodium\\\\\\\\\\\\\\\"}}, \\\\\\\\\\\\\\\"typeProperty\\\\\\\\\\\\\\\": 2}, {\\\\\\\\\\\\\\\"column\\\\\\\\\\\\\\\": {\\\\\\\\\\\\\\\"type\\\\\\\\\\\\\\\": 2, \\\\\\\\\\\\\\\"details\\\\\\\\\\\\\\\": {\\\\\\\\\\\\\\\"selectedColumn\\\\\\\\\\\\\\\": \\\\\\\\\\\\\\\"sex\\\\\\\\\\\\\\\"}}, \\\\\\\\\\\\\\\"typeProperty\\\\\\\\\\\\\\\": 2}, {\\\\\\\\\\\\\\\"column\\\\\\\\\\\\\\\": {\\\\\\\\\\\\\\\"type\\\\\\\\\\\\\\\": 2, \\\\\\\\\\\\\\\"details\\\\\\\\\\\\\\\": {\\\\\\\\\\\\\\\"selectedColumn\\\\\\\\\\\\\\\": \\\\\\\\\\\\\\\"smoking\\\\\\\\\\\\\\\"}}, \\\\\\\\\\\\\\\"typeProperty\\\\\\\\\\\\\\\": 2}, {\\\\\\\\\\\\\\\"column\\\\\\\\\\\\\\\": {\\\\\\\\\\\\\\\"type\\\\\\\\\\\\\\\": 2, \\\\\\\\\\\\\\\"details\\\\\\\\\\\\\\\": {\\\\\\\\\\\\\\\"selectedColumn\\\\\\\\\\\\\\\": \\\\\\\\\\\\\\\"time\\\\\\\\\\\\\\\"}}, \\\\\\\\\\\\\\\"typeProperty\\\\\\\\\\\\\\\": 2}, {\\\\\\\\\\\\\\\"column\\\\\\\\\\\\\\\": {\\\\\\\\\\\\\\\"type\\\\\\\\\\\\\\\": 2, \\\\\\\\\\\\\\\"details\\\\\\\\\\\\\\\": {\\\\\\\\\\\\\\\"selectedColumn\\\\\\\\\\\\\\\": \\\\\\\\\\\\\\\"DEATH_EVENT\\\\\\\\\\\\\\\"}}, \\\\\\\\\\\\\\\"typeProperty\\\\\\\\\\\\\\\": 2}]}, \\\\\\\\\\\\\\\"localData\\\\\\\\\\\\\\\": {}, \\\\\\\\\\\\\\\"isEnabled\\\\\\\\\\\\\\\": true, \\\\\\\\\\\\\\\"name\\\\\\\\\\\\\\\": null, \\\\\\\\\\\\\\\"annotation\\\\\\\\\\\\\\\": null}, {\\\\\\\\\\\\\\\"id\\\\\\\\\\\\\\\": \\\\\\\\\\\\\\\"1a90b518-6c8b-4b04-a297-714a5b28c2db\\\\\\\\\\\\\\\", \\\\\\\\\\\\\\\"type\\\\\\\\\\\\\\\": \\\\\\\\\\\\\\\"Microsoft.DPrep.TakeSampleBlock\\\\\\\\\\\\\\\", \\\\\\\\\\\\\\\"arguments\\\\\\\\\\\\\\\": {\\\\\\\\\\\\\\\"probability\\\\\\\\\\\\\\\": 0.9, \\\\\\\\\\\\\\\"probabilityLowerBound\\\\\\\\\\\\\\\": 0.0, \\\\\\\\\\\\\\\"seed\\\\\\\\\\\\\\\": 2383116637}, \\\\\\\\\\\\\\\"localData\\\\\\\\\\\\\\\": {}, \\\\\\\\\\\\\\\"isEnabled\\\\\\\\\\\\\\\": true, \\\\\\\\\\\\\\\"name\\\\\\\\\\\\\\\": null, \\\\\\\\\\\\\\\"annotation\\\\\\\\\\\\\\\": null}], \\\\\\\\\\\\\\\"inspectors\\\\\\\\\\\\\\\": [], \\\\\\\\\\\\\\\"meta\\\\\\\\\\\\\\\": {\\\\\\\\\\\\\\\"savedDatasetId\\\\\\\\\\\\\\\": \\\\\\\\\\\\\\\"cd339782-a262-4ba5-b3dd-51786b262391\\\\\\\\\\\\\\\", \\\\\\\\\\\\\\\"datasetType\\\\\\\\\\\\\\\": \\\\\\\\\\\\\\\"tabular\\\\\\\\\\\\\\\", \\\\\\\\\\\\\\\"subscriptionId\\\\\\\\\\\\\\\": \\\\\\\\\\\\\\\"f5091c60-1c3c-430f-8d81-d802f6bf2414\\\\\\\\\\\\\\\", \\\\\\\\\\\\\\\"workspaceId\\\\\\\\\\\\\\\": \\\\\\\\\\\\\\\"3ed2b12f-3f63-40c8-82b0-a20a4ac947e4\\\\\\\\\\\\\\\", \\\\\\\\\\\\\\\"workspaceLocation\\\\\\\\\\\\\\\": \\\\\\\\\\\\\\\"southcentralus\\\\\\\\\\\\\\\"}}\\\\\\\", \\\\\\\"activities\\\\\\\": 0}\", \"EnableSubsampling\": null, \"runTemplate\": \"AutoML\", \"azureml.runsource\": \"automl\", \"display_task_type\": \"classification\", \"dependencies_versions\": \"{\\\"azureml-widgets\\\": \\\"1.20.0\\\", \\\"azureml-train\\\": \\\"1.20.0\\\", \\\"azureml-train-restclients-hyperdrive\\\": \\\"1.20.0\\\", \\\"azureml-train-core\\\": \\\"1.20.0\\\", \\\"azureml-train-automl\\\": \\\"1.20.0\\\", \\\"azureml-train-automl-runtime\\\": \\\"1.20.0\\\", \\\"azureml-train-automl-client\\\": \\\"1.20.0\\\", \\\"azureml-tensorboard\\\": \\\"1.20.0\\\", \\\"azureml-telemetry\\\": \\\"1.20.0\\\", \\\"azureml-sdk\\\": \\\"1.20.0\\\", \\\"azureml-samples\\\": \\\"0+unknown\\\", \\\"azureml-pipeline\\\": \\\"1.20.0\\\", \\\"azureml-pipeline-steps\\\": \\\"1.20.0\\\", \\\"azureml-pipeline-core\\\": \\\"1.20.0\\\", \\\"azureml-opendatasets\\\": \\\"1.20.0\\\", \\\"azureml-model-management-sdk\\\": \\\"1.0.1b6.post1\\\", \\\"azureml-mlflow\\\": \\\"1.20.0.post1\\\", \\\"azureml-interpret\\\": \\\"1.20.0\\\", \\\"azureml-explain-model\\\": \\\"1.20.0\\\", \\\"azureml-defaults\\\": \\\"1.20.0\\\", \\\"azureml-dataset-runtime\\\": \\\"1.20.0\\\", \\\"azureml-dataprep\\\": \\\"2.7.3\\\", \\\"azureml-dataprep-rslex\\\": \\\"1.5.0\\\", \\\"azureml-dataprep-native\\\": \\\"27.0.0\\\", \\\"azureml-datadrift\\\": \\\"1.20.0\\\", \\\"azureml-core\\\": \\\"1.20.0\\\", \\\"azureml-contrib-services\\\": \\\"1.20.0\\\", \\\"azureml-contrib-server\\\": \\\"1.20.0\\\", \\\"azureml-contrib-reinforcementlearning\\\": \\\"1.20.0\\\", \\\"azureml-contrib-pipeline-steps\\\": \\\"1.20.0\\\", \\\"azureml-contrib-notebook\\\": \\\"1.20.0\\\", \\\"azureml-contrib-interpret\\\": \\\"1.20.0\\\", \\\"azureml-contrib-gbdt\\\": \\\"1.20.0\\\", \\\"azureml-contrib-fairness\\\": \\\"1.20.0\\\", \\\"azureml-contrib-dataset\\\": \\\"1.20.0\\\", \\\"azureml-cli-common\\\": \\\"1.20.0\\\", \\\"azureml-automl-runtime\\\": \\\"1.20.0\\\", \\\"azureml-automl-core\\\": \\\"1.20.0\\\", \\\"azureml-accel-models\\\": \\\"1.20.0\\\"}\", \"_aml_system_scenario_identification\": \"Remote.Parent\", \"ClientType\": \"SDK\", \"environment_cpu_name\": \"AzureML-AutoML\", \"environment_cpu_label\": \"prod\", \"environment_gpu_name\": \"AzureML-AutoML-GPU\", \"environment_gpu_label\": \"prod\", \"root_attribution\": \"automl\", \"attribution\": \"AutoML\", \"Orchestrator\": \"AutoML\", \"CancelUri\": \"https://southcentralus.experiments.azureml.net/jasmine/v1.0/subscriptions/f5091c60-1c3c-430f-8d81-d802f6bf2414/resourceGroups/aml-quickstarts-139012/providers/Microsoft.MachineLearningServices/workspaces/quick-starts-ws-139012/experimentids/27730d93-4295-4ed1-85f7-1a06eb1409da/cancel/AutoML_e8ac35d0-451b-4f6a-90c9-1e5d73e48bbc\", \"ClientSdkVersion\": \"1.21.0\", \"snapshotId\": \"00000000-0000-0000-0000-000000000000\", \"SetupRunId\": \"AutoML_e8ac35d0-451b-4f6a-90c9-1e5d73e48bbc_setup\", \"SetupRunContainerId\": \"dcid.AutoML_e8ac35d0-451b-4f6a-90c9-1e5d73e48bbc_setup\", \"FeaturizationRunJsonPath\": \"featurizer_container.json\", \"FeaturizationRunId\": \"AutoML_e8ac35d0-451b-4f6a-90c9-1e5d73e48bbc_featurize\", \"ProblemInfoJsonString\": \"{\\\"dataset_num_categorical\\\": 0, \\\"is_sparse\\\": false, \\\"subsampling\\\": false, \\\"dataset_classes\\\": 2, \\\"dataset_features\\\": 12, \\\"dataset_samples\\\": 250, \\\"single_frequency_class_detected\\\": false}\", \"ModelExplainRunId\": \"AutoML_e8ac35d0-451b-4f6a-90c9-1e5d73e48bbc_ModelExplain\"}, \"tags\": {\"model_explain_run\": \"best_run\", \"_aml_system_azureml.automlComponent\": \"AutoML\", \"pipeline_id\": \"\", \"score\": \"\", \"predicted_cost\": \"\", \"fit_time\": \"\", \"training_percent\": \"\", \"iteration\": \"\", \"run_preprocessor\": \"\", \"run_algorithm\": \"\", \"dynamic_whitelisting_iterations\": \"<25>;<30>;<35>;<40>;<45>;<50>;<55>;<60>;<65>;<70>;<75>;<80>;<85>;<90>;\", \"automl_best_child_run_id\": \"AutoML_e8ac35d0-451b-4f6a-90c9-1e5d73e48bbc_92\", \"model_explain_best_run_child_id\": \"AutoML_e8ac35d0-451b-4f6a-90c9-1e5d73e48bbc_92\"}, \"end_time_utc\": \"2021-02-16T10:52:36.306249Z\", \"status\": \"Completed\", \"log_files\": {}, \"log_groups\": [], \"run_duration\": \"0:42:55\"}, \"child_runs\": [{\"run_id\": \"AutoML_e8ac35d0-451b-4f6a-90c9-1e5d73e48bbc_0\", \"run_number\": 9, \"metric\": null, \"status\": \"Completed\", \"run_type\": \"azureml.scriptrun\", \"training_percent\": \"100\", \"start_time\": \"2021-02-16T10:21:39.493639Z\", \"end_time\": \"2021-02-16T10:22:39.060145Z\", \"created_time\": \"2021-02-16T10:19:23.796041Z\", \"created_time_dt\": \"2021-02-16T10:19:23.796041Z\", \"duration\": \"0:03:15\", \"iteration\": \"0\", \"goal\": \"accuracy_max\", \"run_name\": \"MaxAbsScaler, LightGBM\", \"run_properties\": \"copy=True\", \"primary_metric\": 0.79212086, \"best_metric\": 0.79212086}, {\"run_id\": \"AutoML_e8ac35d0-451b-4f6a-90c9-1e5d73e48bbc_1\", \"run_number\": 10, \"metric\": null, \"status\": \"Completed\", \"run_type\": \"azureml.scriptrun\", \"training_percent\": \"100\", \"start_time\": \"2021-02-16T10:22:43.282321Z\", \"end_time\": \"2021-02-16T10:23:44.807745Z\", \"created_time\": \"2021-02-16T10:19:23.814086Z\", \"created_time_dt\": \"2021-02-16T10:19:23.814086Z\", \"duration\": \"0:04:20\", \"iteration\": \"1\", \"goal\": \"accuracy_max\", \"run_name\": \"MaxAbsScaler, XGBoostClassifier\", \"run_properties\": \"copy=True\", \"primary_metric\": 0.8280742, \"best_metric\": 0.8280742}, {\"run_id\": \"AutoML_e8ac35d0-451b-4f6a-90c9-1e5d73e48bbc_2\", \"run_number\": 11, \"metric\": null, \"status\": \"Completed\", \"run_type\": \"azureml.scriptrun\", \"training_percent\": \"100\", \"start_time\": \"2021-02-16T10:20:35.278546Z\", \"end_time\": \"2021-02-16T10:21:36.45931Z\", \"created_time\": \"2021-02-16T10:19:23.81789Z\", \"created_time_dt\": \"2021-02-16T10:19:23.81789Z\", \"duration\": \"0:02:12\", \"iteration\": \"2\", \"goal\": \"accuracy_max\", \"run_name\": \"MinMaxScaler, RandomForest\", \"run_properties\": \"copy=True, feature_range=(0, 1\", \"primary_metric\": 0.83605852, \"best_metric\": 0.83605852}, {\"run_id\": \"AutoML_e8ac35d0-451b-4f6a-90c9-1e5d73e48bbc_3\", \"run_number\": 12, \"metric\": null, \"status\": \"Completed\", \"run_type\": \"azureml.scriptrun\", \"training_percent\": \"100\", \"start_time\": \"2021-02-16T10:19:34.670585Z\", \"end_time\": \"2021-02-16T10:20:31.265306Z\", \"created_time\": \"2021-02-16T10:19:23.842713Z\", \"created_time_dt\": \"2021-02-16T10:19:23.842713Z\", \"duration\": \"0:01:07\", \"iteration\": \"3\", \"goal\": \"accuracy_max\", \"run_name\": \"MinMaxScaler, RandomForest\", \"run_properties\": \"copy=True, feature_range=(0, 1\", \"primary_metric\": 0.84801109, \"best_metric\": 0.84801109}, {\"run_id\": \"AutoML_e8ac35d0-451b-4f6a-90c9-1e5d73e48bbc_4\", \"run_number\": 17, \"metric\": null, \"status\": \"Completed\", \"run_type\": \"azureml.scriptrun\", \"training_percent\": \"100\", \"start_time\": \"2021-02-16T10:23:09.17594Z\", \"end_time\": \"2021-02-16T10:26:47.929509Z\", \"created_time\": \"2021-02-16T10:20:34.533636Z\", \"created_time_dt\": \"2021-02-16T10:20:34.533636Z\", \"duration\": \"0:06:13\", \"iteration\": \"4\", \"goal\": \"accuracy_max\", \"run_name\": \"MinMaxScaler, RandomForest\", \"run_properties\": \"copy=True, feature_range=(0, 1\", \"primary_metric\": 0.80794607, \"best_metric\": 0.84801109}, {\"run_id\": \"AutoML_e8ac35d0-451b-4f6a-90c9-1e5d73e48bbc_5\", \"run_number\": 18, \"metric\": null, \"status\": \"Completed\", \"run_type\": \"azureml.scriptrun\", \"training_percent\": \"100\", \"start_time\": \"2021-02-16T10:23:07.707262Z\", \"end_time\": \"2021-02-16T10:26:27.72879Z\", \"created_time\": \"2021-02-16T10:21:40.166892Z\", \"created_time_dt\": \"2021-02-16T10:21:40.166892Z\", \"duration\": \"0:04:47\", \"iteration\": \"5\", \"goal\": \"accuracy_max\", \"run_name\": \"MinMaxScaler, SVM\", \"run_properties\": \"copy=True, feature_range=(0, 1\", \"primary_metric\": 0.69568751, \"best_metric\": 0.84801109}, {\"run_id\": \"AutoML_e8ac35d0-451b-4f6a-90c9-1e5d73e48bbc_6\", \"run_number\": 19, \"metric\": null, \"status\": \"Completed\", \"run_type\": \"azureml.scriptrun\", \"training_percent\": \"100\", \"start_time\": \"2021-02-16T10:23:06.823836Z\", \"end_time\": \"2021-02-16T10:26:34.040216Z\", \"created_time\": \"2021-02-16T10:22:41.762501Z\", \"created_time_dt\": \"2021-02-16T10:22:41.762501Z\", \"duration\": \"0:03:52\", \"iteration\": \"6\", \"goal\": \"accuracy_max\", \"run_name\": \"MinMaxScaler, SVM\", \"run_properties\": \"copy=True, feature_range=(0, 1\", \"primary_metric\": 0.6956397, \"best_metric\": 0.84801109}, {\"run_id\": \"AutoML_e8ac35d0-451b-4f6a-90c9-1e5d73e48bbc_7\", \"run_number\": 20, \"metric\": null, \"status\": \"Completed\", \"run_type\": \"azureml.scriptrun\", \"training_percent\": \"100\", \"start_time\": \"2021-02-16T10:23:59.745969Z\", \"end_time\": \"2021-02-16T10:24:48.977337Z\", \"created_time\": \"2021-02-16T10:23:46.907891Z\", \"created_time_dt\": \"2021-02-16T10:23:46.907891Z\", \"duration\": \"0:01:02\", \"iteration\": \"7\", \"goal\": \"accuracy_max\", \"run_name\": \"MinMaxScaler, SVM\", \"run_properties\": \"copy=True, feature_range=(0, 1\", \"primary_metric\": 0.70362402, \"best_metric\": 0.84801109}, {\"run_id\": \"AutoML_e8ac35d0-451b-4f6a-90c9-1e5d73e48bbc_8\", \"run_number\": 21, \"metric\": null, \"status\": \"Completed\", \"run_type\": \"azureml.scriptrun\", \"training_percent\": \"100\", \"start_time\": \"2021-02-16T10:25:03.062189Z\", \"end_time\": \"2021-02-16T10:25:59.446268Z\", \"created_time\": \"2021-02-16T10:24:50.894819Z\", \"created_time_dt\": \"2021-02-16T10:24:50.894819Z\", \"duration\": \"0:01:08\", \"iteration\": \"8\", \"goal\": \"accuracy_max\", \"run_name\": \"SparseNormalizer, XGBoostClassifier\", \"run_properties\": \"<azureml.automl.runtime.shared.model_wrappers.SparseNormalizer object at 0x7f7588534d68\", \"primary_metric\": 0.76797667, \"best_metric\": 0.84801109}, {\"run_id\": \"AutoML_e8ac35d0-451b-4f6a-90c9-1e5d73e48bbc_9\", \"run_number\": 25, \"metric\": null, \"status\": \"Completed\", \"run_type\": \"azureml.scriptrun\", \"training_percent\": \"100\", \"start_time\": \"2021-02-16T10:26:11.596772Z\", \"end_time\": \"2021-02-16T10:27:09.085288Z\", \"created_time\": \"2021-02-16T10:26:01.739609Z\", \"created_time_dt\": \"2021-02-16T10:26:01.739609Z\", \"duration\": \"0:01:07\", \"iteration\": \"9\", \"goal\": \"accuracy_max\", \"run_name\": \"StandardScalerWrapper, LightGBM\", \"run_properties\": \"<azureml.automl.runtime.shared.model_wrappers.StandardScalerWrapper object at 0x7fa6a51117f0\", \"primary_metric\": 0.82004207, \"best_metric\": 0.84801109}, {\"run_id\": \"AutoML_e8ac35d0-451b-4f6a-90c9-1e5d73e48bbc_10\", \"run_number\": 27, \"metric\": null, \"status\": \"Completed\", \"run_type\": \"azureml.scriptrun\", \"training_percent\": \"100\", \"start_time\": \"2021-02-16T10:26:40.810144Z\", \"end_time\": \"2021-02-16T10:27:28.960264Z\", \"created_time\": \"2021-02-16T10:26:30.364749Z\", \"created_time_dt\": \"2021-02-16T10:26:30.364749Z\", \"duration\": \"0:00:58\", \"iteration\": \"10\", \"goal\": \"accuracy_max\", \"run_name\": \"StandardScalerWrapper, RandomForest\", \"run_properties\": \"<azureml.automl.runtime.shared.model_wrappers.StandardScalerWrapper object at 0x7f004044df98\", \"primary_metric\": 0.79188181, \"best_metric\": 0.84801109}, {\"run_id\": \"AutoML_e8ac35d0-451b-4f6a-90c9-1e5d73e48bbc_11\", \"run_number\": 28, \"metric\": null, \"status\": \"Completed\", \"run_type\": \"azureml.scriptrun\", \"training_percent\": \"100\", \"start_time\": \"2021-02-16T10:26:49.029037Z\", \"end_time\": \"2021-02-16T10:27:40.885458Z\", \"created_time\": \"2021-02-16T10:26:35.919939Z\", \"created_time_dt\": \"2021-02-16T10:26:35.919939Z\", \"duration\": \"0:01:04\", \"iteration\": \"11\", \"goal\": \"accuracy_max\", \"run_name\": \"MaxAbsScaler, ExtremeRandomTrees\", \"run_properties\": \"copy=True\", \"primary_metric\": 0.76788105, \"best_metric\": 0.84801109}, {\"run_id\": \"AutoML_e8ac35d0-451b-4f6a-90c9-1e5d73e48bbc_12\", \"run_number\": 29, \"metric\": null, \"status\": \"Completed\", \"run_type\": \"azureml.scriptrun\", \"training_percent\": \"100\", \"start_time\": \"2021-02-16T10:27:02.216237Z\", \"end_time\": \"2021-02-16T10:27:54.584943Z\", \"created_time\": \"2021-02-16T10:26:49.59379Z\", \"created_time_dt\": \"2021-02-16T10:26:49.59379Z\", \"duration\": \"0:01:04\", \"iteration\": \"12\", \"goal\": \"accuracy_max\", \"run_name\": \"StandardScalerWrapper, LightGBM\", \"run_properties\": \"<azureml.automl.runtime.shared.model_wrappers.StandardScalerWrapper object at 0x7f6385eed080\", \"primary_metric\": 0.71160834, \"best_metric\": 0.84801109}, {\"run_id\": \"AutoML_e8ac35d0-451b-4f6a-90c9-1e5d73e48bbc_13\", \"run_number\": 30, \"metric\": null, \"status\": \"Completed\", \"run_type\": \"azureml.scriptrun\", \"training_percent\": \"100\", \"start_time\": \"2021-02-16T10:27:22.087828Z\", \"end_time\": \"2021-02-16T10:28:11.994048Z\", \"created_time\": \"2021-02-16T10:27:10.764578Z\", \"created_time_dt\": \"2021-02-16T10:27:10.764578Z\", \"duration\": \"0:01:01\", \"iteration\": \"13\", \"goal\": \"accuracy_max\", \"run_name\": \"RobustScaler, ExtremeRandomTrees\", \"run_properties\": \"copy=True, quantile_range=[25, 75], with_centering=True,\\n             with_scaling=False\", \"primary_metric\": 0.80775483, \"best_metric\": 0.84801109}, {\"run_id\": \"AutoML_e8ac35d0-451b-4f6a-90c9-1e5d73e48bbc_14\", \"run_number\": 34, \"metric\": null, \"status\": \"Completed\", \"run_type\": \"azureml.scriptrun\", \"training_percent\": \"100\", \"start_time\": \"2021-02-16T10:27:43.156888Z\", \"end_time\": \"2021-02-16T10:28:30.011774Z\", \"created_time\": \"2021-02-16T10:27:30.699364Z\", \"created_time_dt\": \"2021-02-16T10:27:30.699364Z\", \"duration\": \"0:00:59\", \"iteration\": \"14\", \"goal\": \"accuracy_max\", \"run_name\": \"StandardScalerWrapper, GradientBoosting\", \"run_properties\": \"<azureml.automl.runtime.shared.model_wrappers.StandardScalerWrapper object at 0x7f6d0e3d0208\", \"primary_metric\": 0.83993115, \"best_metric\": 0.84801109}, {\"run_id\": \"AutoML_e8ac35d0-451b-4f6a-90c9-1e5d73e48bbc_15\", \"run_number\": 35, \"metric\": null, \"status\": \"Completed\", \"run_type\": \"azureml.scriptrun\", \"training_percent\": \"100\", \"start_time\": \"2021-02-16T10:27:53.00194Z\", \"end_time\": \"2021-02-16T10:28:40.384889Z\", \"created_time\": \"2021-02-16T10:27:43.17926Z\", \"created_time_dt\": \"2021-02-16T10:27:43.17926Z\", \"duration\": \"0:00:57\", \"iteration\": \"15\", \"goal\": \"accuracy_max\", \"run_name\": \"MaxAbsScaler, LightGBM\", \"run_properties\": \"copy=True\", \"primary_metric\": 0.79608912, \"best_metric\": 0.84801109}, {\"run_id\": \"AutoML_e8ac35d0-451b-4f6a-90c9-1e5d73e48bbc_16\", \"run_number\": 37, \"metric\": null, \"status\": \"Completed\", \"run_type\": \"azureml.scriptrun\", \"training_percent\": \"100\", \"start_time\": \"2021-02-16T10:28:06.156969Z\", \"end_time\": \"2021-02-16T10:28:54.736874Z\", \"created_time\": \"2021-02-16T10:27:56.308199Z\", \"created_time_dt\": \"2021-02-16T10:27:56.308199Z\", \"duration\": \"0:00:58\", \"iteration\": \"16\", \"goal\": \"accuracy_max\", \"run_name\": \"SparseNormalizer, XGBoostClassifier\", \"run_properties\": \"<azureml.automl.runtime.shared.model_wrappers.SparseNormalizer object at 0x7feb06c51748\", \"primary_metric\": 0.84796328, \"best_metric\": 0.84801109}, {\"run_id\": \"AutoML_e8ac35d0-451b-4f6a-90c9-1e5d73e48bbc_17\", \"run_number\": 38, \"metric\": null, \"status\": \"Completed\", \"run_type\": \"azureml.scriptrun\", \"training_percent\": \"100\", \"start_time\": \"2021-02-16T10:28:25.933876Z\", \"end_time\": \"2021-02-16T10:29:20.888436Z\", \"created_time\": \"2021-02-16T10:28:13.809975Z\", \"created_time_dt\": \"2021-02-16T10:28:13.809975Z\", \"duration\": \"0:01:07\", \"iteration\": \"17\", \"goal\": \"accuracy_max\", \"run_name\": \"MinMaxScaler, LightGBM\", \"run_properties\": \"copy=True, feature_range=(0, 1\", \"primary_metric\": 0.77586537, \"best_metric\": 0.84801109}, {\"run_id\": \"AutoML_e8ac35d0-451b-4f6a-90c9-1e5d73e48bbc_18\", \"run_number\": 39, \"metric\": null, \"status\": \"Completed\", \"run_type\": \"azureml.scriptrun\", \"training_percent\": \"100\", \"start_time\": \"2021-02-16T10:28:43.362138Z\", \"end_time\": \"2021-02-16T10:29:36.776921Z\", \"created_time\": \"2021-02-16T10:28:31.693882Z\", \"created_time_dt\": \"2021-02-16T10:28:31.693882Z\", \"duration\": \"0:01:05\", \"iteration\": \"18\", \"goal\": \"accuracy_max\", \"run_name\": \"SparseNormalizer, XGBoostClassifier\", \"run_properties\": \"<azureml.automl.runtime.shared.model_wrappers.SparseNormalizer object at 0x7fc6554a8ef0\", \"primary_metric\": 0.83204246, \"best_metric\": 0.84801109}, {\"run_id\": \"AutoML_e8ac35d0-451b-4f6a-90c9-1e5d73e48bbc_19\", \"run_number\": 40, \"metric\": null, \"status\": \"Completed\", \"run_type\": \"azureml.scriptrun\", \"training_percent\": \"100\", \"start_time\": \"2021-02-16T10:28:54.775937Z\", \"end_time\": \"2021-02-16T10:29:53.565887Z\", \"created_time\": \"2021-02-16T10:28:41.904179Z\", \"created_time_dt\": \"2021-02-16T10:28:41.904179Z\", \"duration\": \"0:01:11\", \"iteration\": \"19\", \"goal\": \"accuracy_max\", \"run_name\": \"SparseNormalizer, XGBoostClassifier\", \"run_properties\": \"<azureml.automl.runtime.shared.model_wrappers.SparseNormalizer object at 0x7f7e11588f98\", \"primary_metric\": 0.84404284, \"best_metric\": 0.84801109}, {\"run_id\": \"AutoML_e8ac35d0-451b-4f6a-90c9-1e5d73e48bbc_20\", \"run_number\": 44, \"metric\": null, \"status\": \"Completed\", \"run_type\": \"azureml.scriptrun\", \"training_percent\": \"100\", \"start_time\": \"2021-02-16T10:29:08.156361Z\", \"end_time\": \"2021-02-16T10:29:56.135279Z\", \"created_time\": \"2021-02-16T10:28:57.829268Z\", \"created_time_dt\": \"2021-02-16T10:28:57.829268Z\", \"duration\": \"0:00:58\", \"iteration\": \"20\", \"goal\": \"accuracy_max\", \"run_name\": \"SparseNormalizer, LightGBM\", \"run_properties\": \"<azureml.automl.runtime.shared.model_wrappers.SparseNormalizer object at 0x7fc5f93b52b0\", \"primary_metric\": 0.82802639, \"best_metric\": 0.84801109}, {\"run_id\": \"AutoML_e8ac35d0-451b-4f6a-90c9-1e5d73e48bbc_21\", \"run_number\": 46, \"metric\": null, \"status\": \"Completed\", \"run_type\": \"azureml.scriptrun\", \"training_percent\": \"100\", \"start_time\": \"2021-02-16T10:29:36.782969Z\", \"end_time\": \"2021-02-16T10:30:29.88257Z\", \"created_time\": \"2021-02-16T10:29:22.482662Z\", \"created_time_dt\": \"2021-02-16T10:29:22.482662Z\", \"duration\": \"0:01:07\", \"iteration\": \"21\", \"goal\": \"accuracy_max\", \"run_name\": \"StandardScalerWrapper, ExtremeRandomTrees\", \"run_properties\": \"<azureml.automl.runtime.shared.model_wrappers.StandardScalerWrapper object at 0x7fe0d9d42630\", \"primary_metric\": 0.76367374, \"best_metric\": 0.84801109}, {\"run_id\": \"AutoML_e8ac35d0-451b-4f6a-90c9-1e5d73e48bbc_22\", \"run_number\": 47, \"metric\": null, \"status\": \"Completed\", \"run_type\": \"azureml.scriptrun\", \"training_percent\": \"100\", \"start_time\": \"2021-02-16T10:29:52.834363Z\", \"end_time\": \"2021-02-16T10:30:39.838823Z\", \"created_time\": \"2021-02-16T10:29:39.163822Z\", \"created_time_dt\": \"2021-02-16T10:29:39.163822Z\", \"duration\": \"0:01:00\", \"iteration\": \"22\", \"goal\": \"accuracy_max\", \"run_name\": \"StandardScalerWrapper, XGBoostClassifier\", \"run_properties\": \"<azureml.automl.runtime.shared.model_wrappers.StandardScalerWrapper object at 0x7f9808848940\", \"primary_metric\": 0.83610633, \"best_metric\": 0.84801109}, {\"run_id\": \"AutoML_e8ac35d0-451b-4f6a-90c9-1e5d73e48bbc_23\", \"run_number\": 48, \"metric\": null, \"status\": \"Completed\", \"run_type\": \"azureml.scriptrun\", \"training_percent\": \"100\", \"start_time\": \"2021-02-16T10:30:06.520278Z\", \"end_time\": \"2021-02-16T10:30:56.852581Z\", \"created_time\": \"2021-02-16T10:29:55.291193Z\", \"created_time_dt\": \"2021-02-16T10:29:55.291193Z\", \"duration\": \"0:01:01\", \"iteration\": \"23\", \"goal\": \"accuracy_max\", \"run_name\": \"StandardScalerWrapper, RandomForest\", \"run_properties\": \"<azureml.automl.runtime.shared.model_wrappers.StandardScalerWrapper object at 0x7f1bdbe682b0\", \"primary_metric\": 0.85193154, \"best_metric\": 0.85193154}, {\"run_id\": \"AutoML_e8ac35d0-451b-4f6a-90c9-1e5d73e48bbc_24\", \"run_number\": 49, \"metric\": null, \"status\": \"Completed\", \"run_type\": \"azureml.scriptrun\", \"training_percent\": \"100\", \"start_time\": \"2021-02-16T10:30:10.352729Z\", \"end_time\": \"2021-02-16T10:31:00.780918Z\", \"created_time\": \"2021-02-16T10:29:59.163508Z\", \"created_time_dt\": \"2021-02-16T10:29:59.163508Z\", \"duration\": \"0:01:01\", \"iteration\": \"24\", \"goal\": \"accuracy_max\", \"run_name\": \"RobustScaler, ExtremeRandomTrees\", \"run_properties\": \"copy=True, quantile_range=[10, 90], with_centering=True,\\n             with_scaling=False\", \"primary_metric\": 0.81989864, \"best_metric\": 0.85193154}, {\"run_id\": \"AutoML_e8ac35d0-451b-4f6a-90c9-1e5d73e48bbc_25\", \"run_number\": 53, \"metric\": null, \"status\": \"Completed\", \"run_type\": \"azureml.scriptrun\", \"training_percent\": \"100\", \"start_time\": \"2021-02-16T10:30:44.821988Z\", \"end_time\": \"2021-02-16T10:31:37.332236Z\", \"created_time\": \"2021-02-16T10:30:32.614103Z\", \"created_time_dt\": \"2021-02-16T10:30:32.614103Z\", \"duration\": \"0:01:04\", \"iteration\": \"25\", \"goal\": \"accuracy_max\", \"run_name\": \"SparseNormalizer, RandomForest\", \"run_properties\": \"<azureml.automl.runtime.shared.model_wrappers.SparseNormalizer object at 0x7f5d001c25f8\", \"primary_metric\": 0.66767068, \"best_metric\": 0.85193154}, {\"run_id\": \"AutoML_e8ac35d0-451b-4f6a-90c9-1e5d73e48bbc_26\", \"run_number\": 54, \"metric\": null, \"status\": \"Completed\", \"run_type\": \"azureml.scriptrun\", \"training_percent\": \"100\", \"start_time\": \"2021-02-16T10:30:56.510736Z\", \"end_time\": \"2021-02-16T10:31:49.500034Z\", \"created_time\": \"2021-02-16T10:30:42.404636Z\", \"created_time_dt\": \"2021-02-16T10:30:42.404636Z\", \"duration\": \"0:01:07\", \"iteration\": \"26\", \"goal\": \"accuracy_max\", \"run_name\": \"StandardScalerWrapper, RandomForest\", \"run_properties\": \"<azureml.automl.runtime.shared.model_wrappers.StandardScalerWrapper object at 0x7fa71a9077f0\", \"primary_metric\": 0.82410595, \"best_metric\": 0.85193154}, {\"run_id\": \"AutoML_e8ac35d0-451b-4f6a-90c9-1e5d73e48bbc_27\", \"run_number\": 56, \"metric\": null, \"status\": \"Completed\", \"run_type\": \"azureml.scriptrun\", \"training_percent\": \"100\", \"start_time\": \"2021-02-16T10:31:10.74882Z\", \"end_time\": \"2021-02-16T10:32:13.146869Z\", \"created_time\": \"2021-02-16T10:31:00.27001Z\", \"created_time_dt\": \"2021-02-16T10:31:00.27001Z\", \"duration\": \"0:01:12\", \"iteration\": \"27\", \"goal\": \"accuracy_max\", \"run_name\": \"StandardScalerWrapper, ExtremeRandomTrees\", \"run_properties\": \"<azureml.automl.runtime.shared.model_wrappers.StandardScalerWrapper object at 0x7ff2394de3c8\", \"primary_metric\": 0.8280742, \"best_metric\": 0.85193154}, {\"run_id\": \"AutoML_e8ac35d0-451b-4f6a-90c9-1e5d73e48bbc_28\", \"run_number\": 57, \"metric\": null, \"status\": \"Completed\", \"run_type\": \"azureml.scriptrun\", \"training_percent\": \"100\", \"start_time\": \"2021-02-16T10:31:16.603349Z\", \"end_time\": \"2021-02-16T10:32:13.5634Z\", \"created_time\": \"2021-02-16T10:31:04.067943Z\", \"created_time_dt\": \"2021-02-16T10:31:04.067943Z\", \"duration\": \"0:01:09\", \"iteration\": \"28\", \"goal\": \"accuracy_max\", \"run_name\": \"SparseNormalizer, XGBoostClassifier\", \"run_properties\": \"<azureml.automl.runtime.shared.model_wrappers.SparseNormalizer object at 0x7ffafe76ef60\", \"primary_metric\": 0.81583477, \"best_metric\": 0.85193154}, {\"run_id\": \"AutoML_e8ac35d0-451b-4f6a-90c9-1e5d73e48bbc_29\", \"run_number\": 58, \"metric\": null, \"status\": \"Completed\", \"run_type\": \"azureml.scriptrun\", \"training_percent\": \"100\", \"start_time\": \"2021-02-16T10:31:53.827929Z\", \"end_time\": \"2021-02-16T10:32:52.158294Z\", \"created_time\": \"2021-02-16T10:31:40.591956Z\", \"created_time_dt\": \"2021-02-16T10:31:40.591956Z\", \"duration\": \"0:01:11\", \"iteration\": \"29\", \"goal\": \"accuracy_max\", \"run_name\": \"StandardScalerWrapper, XGBoostClassifier\", \"run_properties\": \"<azureml.automl.runtime.shared.model_wrappers.StandardScalerWrapper object at 0x7feab2bd7eb8\", \"primary_metric\": 0.78389749, \"best_metric\": 0.85193154}, {\"run_id\": \"AutoML_e8ac35d0-451b-4f6a-90c9-1e5d73e48bbc_30\", \"run_number\": 59, \"metric\": null, \"status\": \"Completed\", \"run_type\": \"azureml.scriptrun\", \"training_percent\": \"100\", \"start_time\": \"2021-02-16T10:32:05.047173Z\", \"end_time\": \"2021-02-16T10:32:55.596041Z\", \"created_time\": \"2021-02-16T10:31:52.3368Z\", \"created_time_dt\": \"2021-02-16T10:31:52.3368Z\", \"duration\": \"0:01:03\", \"iteration\": \"30\", \"goal\": \"accuracy_max\", \"run_name\": \"MinMaxScaler, RandomForest\", \"run_properties\": \"copy=True, feature_range=(0, 1\", \"primary_metric\": 0.77576975, \"best_metric\": 0.85193154}, {\"run_id\": \"AutoML_e8ac35d0-451b-4f6a-90c9-1e5d73e48bbc_31\", \"run_number\": 63, \"metric\": null, \"status\": \"Completed\", \"run_type\": \"azureml.scriptrun\", \"training_percent\": \"100\", \"start_time\": \"2021-02-16T10:32:26.357085Z\", \"end_time\": \"2021-02-16T10:33:20.066849Z\", \"created_time\": \"2021-02-16T10:32:14.917606Z\", \"created_time_dt\": \"2021-02-16T10:32:14.917606Z\", \"duration\": \"0:01:05\", \"iteration\": \"31\", \"goal\": \"accuracy_max\", \"run_name\": \"StandardScalerWrapper, LightGBM\", \"run_properties\": \"<azureml.automl.runtime.shared.model_wrappers.StandardScalerWrapper object at 0x7f66b61f5e10\", \"primary_metric\": 0.80397782, \"best_metric\": 0.85193154}, {\"run_id\": \"AutoML_e8ac35d0-451b-4f6a-90c9-1e5d73e48bbc_32\", \"run_number\": 64, \"metric\": null, \"status\": \"Completed\", \"run_type\": \"azureml.scriptrun\", \"training_percent\": \"100\", \"start_time\": \"2021-02-16T10:32:32.058961Z\", \"end_time\": \"2021-02-16T10:33:27.181375Z\", \"created_time\": \"2021-02-16T10:32:19.779817Z\", \"created_time_dt\": \"2021-02-16T10:32:19.779817Z\", \"duration\": \"0:01:07\", \"iteration\": \"32\", \"goal\": \"accuracy_max\", \"run_name\": \"RobustScaler, LightGBM\", \"run_properties\": \"copy=True, quantile_range=[25, 75], with_centering=True,\\n             with_scaling=False\", \"primary_metric\": 0.80407344, \"best_metric\": 0.85193154}, {\"run_id\": \"AutoML_e8ac35d0-451b-4f6a-90c9-1e5d73e48bbc_33\", \"run_number\": 66, \"metric\": null, \"status\": \"Completed\", \"run_type\": \"azureml.scriptrun\", \"training_percent\": \"100\", \"start_time\": \"2021-02-16T10:33:05.401597Z\", \"end_time\": \"2021-02-16T10:33:59.025352Z\", \"created_time\": \"2021-02-16T10:32:54.359936Z\", \"created_time_dt\": \"2021-02-16T10:32:54.359936Z\", \"duration\": \"0:01:04\", \"iteration\": \"33\", \"goal\": \"accuracy_max\", \"run_name\": \"StandardScalerWrapper, LightGBM\", \"run_properties\": \"<azureml.automl.runtime.shared.model_wrappers.StandardScalerWrapper object at 0x7ff462c80e80\", \"primary_metric\": 0.7439759, \"best_metric\": 0.85193154}, {\"run_id\": \"AutoML_e8ac35d0-451b-4f6a-90c9-1e5d73e48bbc_34\", \"run_number\": 67, \"metric\": null, \"status\": \"Completed\", \"run_type\": \"azureml.scriptrun\", \"training_percent\": \"100\", \"start_time\": \"2021-02-16T10:33:08.6497Z\", \"end_time\": \"2021-02-16T10:34:05.26203Z\", \"created_time\": \"2021-02-16T10:32:58.121756Z\", \"created_time_dt\": \"2021-02-16T10:32:58.121756Z\", \"duration\": \"0:01:07\", \"iteration\": \"34\", \"goal\": \"accuracy_max\", \"run_name\": \"StandardScalerWrapper, XGBoostClassifier\", \"run_properties\": \"<azureml.automl.runtime.shared.model_wrappers.StandardScalerWrapper object at 0x7f5a5cd80b38\", \"primary_metric\": 0.77591318, \"best_metric\": 0.85193154}, {\"run_id\": \"AutoML_e8ac35d0-451b-4f6a-90c9-1e5d73e48bbc_35\", \"run_number\": 68, \"metric\": null, \"status\": \"Completed\", \"run_type\": \"azureml.scriptrun\", \"training_percent\": \"100\", \"start_time\": \"2021-02-16T10:33:34.228885Z\", \"end_time\": \"2021-02-16T10:34:37.323661Z\", \"created_time\": \"2021-02-16T10:33:22.81339Z\", \"created_time_dt\": \"2021-02-16T10:33:22.81339Z\", \"duration\": \"0:01:14\", \"iteration\": \"35\", \"goal\": \"accuracy_max\", \"run_name\": \"RobustScaler, RandomForest\", \"run_properties\": \"copy=True, quantile_range=[25, 75], with_centering=True,\\n             with_scaling=True\", \"primary_metric\": 0.76367374, \"best_metric\": 0.85193154}, {\"run_id\": \"AutoML_e8ac35d0-451b-4f6a-90c9-1e5d73e48bbc_36\", \"run_number\": 69, \"metric\": null, \"status\": \"Completed\", \"run_type\": \"azureml.scriptrun\", \"training_percent\": \"100\", \"start_time\": \"2021-02-16T10:33:38.878248Z\", \"end_time\": \"2021-02-16T10:34:32.318195Z\", \"created_time\": \"2021-02-16T10:33:28.9117Z\", \"created_time_dt\": \"2021-02-16T10:33:28.9117Z\", \"duration\": \"0:01:03\", \"iteration\": \"36\", \"goal\": \"accuracy_max\", \"run_name\": \"StandardScalerWrapper, LightGBM\", \"run_properties\": \"<azureml.automl.runtime.shared.model_wrappers.StandardScalerWrapper object at 0x7f321f91c780\", \"primary_metric\": 0.80015299, \"best_metric\": 0.85193154}, {\"run_id\": \"AutoML_e8ac35d0-451b-4f6a-90c9-1e5d73e48bbc_37\", \"run_number\": 71, \"metric\": null, \"status\": \"Completed\", \"run_type\": \"azureml.scriptrun\", \"training_percent\": \"100\", \"start_time\": \"2021-02-16T10:34:14.141557Z\", \"end_time\": \"2021-02-16T10:35:01.723797Z\", \"created_time\": \"2021-02-16T10:34:01.714644Z\", \"created_time_dt\": \"2021-02-16T10:34:01.714644Z\", \"duration\": \"0:01:00\", \"iteration\": \"37\", \"goal\": \"accuracy_max\", \"run_name\": \"MaxAbsScaler, LightGBM\", \"run_properties\": \"copy=True\", \"primary_metric\": 0.81602601, \"best_metric\": 0.85193154}, {\"run_id\": \"AutoML_e8ac35d0-451b-4f6a-90c9-1e5d73e48bbc_38\", \"run_number\": 72, \"metric\": null, \"status\": \"Completed\", \"run_type\": \"azureml.scriptrun\", \"training_percent\": \"100\", \"start_time\": \"2021-02-16T10:34:23.718156Z\", \"end_time\": \"2021-02-16T10:35:18.402948Z\", \"created_time\": \"2021-02-16T10:34:08.252666Z\", \"created_time_dt\": \"2021-02-16T10:34:08.252666Z\", \"duration\": \"0:01:10\", \"iteration\": \"38\", \"goal\": \"accuracy_max\", \"run_name\": \"SparseNormalizer, LightGBM\", \"run_properties\": \"<azureml.automl.runtime.shared.model_wrappers.SparseNormalizer object at 0x7efd1199d6d8\", \"primary_metric\": 0.73575253, \"best_metric\": 0.85193154}, {\"run_id\": \"AutoML_e8ac35d0-451b-4f6a-90c9-1e5d73e48bbc_39\", \"run_number\": 73, \"metric\": null, \"status\": \"Completed\", \"run_type\": \"azureml.scriptrun\", \"training_percent\": \"100\", \"start_time\": \"2021-02-16T10:34:47.910864Z\", \"end_time\": \"2021-02-16T10:35:39.453925Z\", \"created_time\": \"2021-02-16T10:34:34.456216Z\", \"created_time_dt\": \"2021-02-16T10:34:34.456216Z\", \"duration\": \"0:01:04\", \"iteration\": \"39\", \"goal\": \"accuracy_max\", \"run_name\": \"SparseNormalizer, XGBoostClassifier\", \"run_properties\": \"<azureml.automl.runtime.shared.model_wrappers.SparseNormalizer object at 0x7f561e5ce2e8\", \"primary_metric\": 0.76792886, \"best_metric\": 0.85193154}, {\"run_id\": \"AutoML_e8ac35d0-451b-4f6a-90c9-1e5d73e48bbc_40\", \"run_number\": 74, \"metric\": null, \"status\": \"Completed\", \"run_type\": \"azureml.scriptrun\", \"training_percent\": \"100\", \"start_time\": \"2021-02-16T10:34:54.848981Z\", \"end_time\": \"2021-02-16T10:35:47.526256Z\", \"created_time\": \"2021-02-16T10:34:41.001159Z\", \"created_time_dt\": \"2021-02-16T10:34:41.001159Z\", \"duration\": \"0:01:06\", \"iteration\": \"40\", \"goal\": \"accuracy_max\", \"run_name\": \"MaxAbsScaler, RandomForest\", \"run_properties\": \"copy=True\", \"primary_metric\": 0.69965577, \"best_metric\": 0.85193154}, {\"run_id\": \"AutoML_e8ac35d0-451b-4f6a-90c9-1e5d73e48bbc_41\", \"run_number\": 75, \"metric\": null, \"status\": \"Completed\", \"run_type\": \"azureml.scriptrun\", \"training_percent\": \"100\", \"start_time\": \"2021-02-16T10:35:17.872925Z\", \"end_time\": \"2021-02-16T10:36:12.587777Z\", \"created_time\": \"2021-02-16T10:35:03.52767Z\", \"created_time_dt\": \"2021-02-16T10:35:03.52767Z\", \"duration\": \"0:01:09\", \"iteration\": \"41\", \"goal\": \"accuracy_max\", \"run_name\": \"SparseNormalizer, XGBoostClassifier\", \"run_properties\": \"<azureml.automl.runtime.shared.model_wrappers.SparseNormalizer object at 0x7f11c0c40c18\", \"primary_metric\": 0.80383439, \"best_metric\": 0.85193154}, {\"run_id\": \"AutoML_e8ac35d0-451b-4f6a-90c9-1e5d73e48bbc_42\", \"run_number\": 76, \"metric\": null, \"status\": \"Completed\", \"run_type\": \"azureml.scriptrun\", \"training_percent\": \"100\", \"start_time\": \"2021-02-16T10:35:33.919775Z\", \"end_time\": \"2021-02-16T10:36:27.117388Z\", \"created_time\": \"2021-02-16T10:35:20.138135Z\", \"created_time_dt\": \"2021-02-16T10:35:20.138135Z\", \"duration\": \"0:01:06\", \"iteration\": \"42\", \"goal\": \"accuracy_max\", \"run_name\": \"StandardScalerWrapper, KNN\", \"run_properties\": \"<azureml.automl.runtime.shared.model_wrappers.StandardScalerWrapper object at 0x7f9fa4923080\", \"primary_metric\": 0.62009945, \"best_metric\": 0.85193154}, {\"run_id\": \"AutoML_e8ac35d0-451b-4f6a-90c9-1e5d73e48bbc_43\", \"run_number\": 77, \"metric\": null, \"status\": \"Completed\", \"run_type\": \"azureml.scriptrun\", \"training_percent\": \"100\", \"start_time\": \"2021-02-16T10:35:56.524561Z\", \"end_time\": \"2021-02-16T10:36:55.573466Z\", \"created_time\": \"2021-02-16T10:35:42.748317Z\", \"created_time_dt\": \"2021-02-16T10:35:42.748317Z\", \"duration\": \"0:01:12\", \"iteration\": \"43\", \"goal\": \"accuracy_max\", \"run_name\": \"StandardScalerWrapper, XGBoostClassifier\", \"run_properties\": \"<azureml.automl.runtime.shared.model_wrappers.StandardScalerWrapper object at 0x7fb01948e780\", \"primary_metric\": 0.81200994, \"best_metric\": 0.85193154}, {\"run_id\": \"AutoML_e8ac35d0-451b-4f6a-90c9-1e5d73e48bbc_44\", \"run_number\": 78, \"metric\": null, \"status\": \"Completed\", \"run_type\": \"azureml.scriptrun\", \"training_percent\": \"100\", \"start_time\": \"2021-02-16T10:36:00.948542Z\", \"end_time\": \"2021-02-16T10:36:52.00679Z\", \"created_time\": \"2021-02-16T10:35:49.690446Z\", \"created_time_dt\": \"2021-02-16T10:35:49.690446Z\", \"duration\": \"0:01:02\", \"iteration\": \"44\", \"goal\": \"accuracy_max\", \"run_name\": \"StandardScalerWrapper, RandomForest\", \"run_properties\": \"<azureml.automl.runtime.shared.model_wrappers.StandardScalerWrapper object at 0x7fed0e69c2e8\", \"primary_metric\": 0.84820233, \"best_metric\": 0.85193154}, {\"run_id\": \"AutoML_e8ac35d0-451b-4f6a-90c9-1e5d73e48bbc_45\", \"run_number\": 79, \"metric\": null, \"status\": \"Completed\", \"run_type\": \"azureml.scriptrun\", \"training_percent\": \"100\", \"start_time\": \"2021-02-16T10:36:28.108754Z\", \"end_time\": \"2021-02-16T10:37:20.352999Z\", \"created_time\": \"2021-02-16T10:36:15.473372Z\", \"created_time_dt\": \"2021-02-16T10:36:15.473372Z\", \"duration\": \"0:01:04\", \"iteration\": \"45\", \"goal\": \"accuracy_max\", \"run_name\": \"StandardScalerWrapper, RandomForest\", \"run_properties\": \"<azureml.automl.runtime.shared.model_wrappers.StandardScalerWrapper object at 0x7fcb6dd09a58\", \"primary_metric\": 0.64443488, \"best_metric\": 0.85193154}, {\"run_id\": \"AutoML_e8ac35d0-451b-4f6a-90c9-1e5d73e48bbc_46\", \"run_number\": 80, \"metric\": null, \"status\": \"Completed\", \"run_type\": \"azureml.scriptrun\", \"training_percent\": \"100\", \"start_time\": \"2021-02-16T10:36:41.214264Z\", \"end_time\": \"2021-02-16T10:37:33.593042Z\", \"created_time\": \"2021-02-16T10:36:29.084146Z\", \"created_time_dt\": \"2021-02-16T10:36:29.084146Z\", \"duration\": \"0:01:04\", \"iteration\": \"46\", \"goal\": \"accuracy_max\", \"run_name\": \"SparseNormalizer, XGBoostClassifier\", \"run_properties\": \"<azureml.automl.runtime.shared.model_wrappers.SparseNormalizer object at 0x7f5c75a74b70\", \"primary_metric\": 0.83189902, \"best_metric\": 0.85193154}, {\"run_id\": \"AutoML_e8ac35d0-451b-4f6a-90c9-1e5d73e48bbc_47\", \"run_number\": 81, \"metric\": null, \"status\": \"Completed\", \"run_type\": \"azureml.scriptrun\", \"training_percent\": \"100\", \"start_time\": \"2021-02-16T10:37:04.466428Z\", \"end_time\": \"2021-02-16T10:37:59.111111Z\", \"created_time\": \"2021-02-16T10:36:53.903507Z\", \"created_time_dt\": \"2021-02-16T10:36:53.903507Z\", \"duration\": \"0:01:05\", \"iteration\": \"47\", \"goal\": \"accuracy_max\", \"run_name\": \"MinMaxScaler, LightGBM\", \"run_properties\": \"copy=True, feature_range=(0, 1\", \"primary_metric\": 0.77586537, \"best_metric\": 0.85193154}, {\"run_id\": \"AutoML_e8ac35d0-451b-4f6a-90c9-1e5d73e48bbc_48\", \"run_number\": 82, \"metric\": null, \"status\": \"Completed\", \"run_type\": \"azureml.scriptrun\", \"training_percent\": \"100\", \"start_time\": \"2021-02-16T10:37:09.234308Z\", \"end_time\": \"2021-02-16T10:37:56.919181Z\", \"created_time\": \"2021-02-16T10:36:57.604107Z\", \"created_time_dt\": \"2021-02-16T10:36:57.604107Z\", \"duration\": \"0:00:59\", \"iteration\": \"48\", \"goal\": \"accuracy_max\", \"run_name\": \"SparseNormalizer, LightGBM\", \"run_properties\": \"<azureml.automl.runtime.shared.model_wrappers.SparseNormalizer object at 0x7f433c3a8ef0\", \"primary_metric\": 0.84801109, \"best_metric\": 0.85193154}, {\"run_id\": \"AutoML_e8ac35d0-451b-4f6a-90c9-1e5d73e48bbc_49\", \"run_number\": 83, \"metric\": null, \"status\": \"Completed\", \"run_type\": \"azureml.scriptrun\", \"training_percent\": \"100\", \"start_time\": \"2021-02-16T10:37:34.719307Z\", \"end_time\": \"2021-02-16T10:38:28.147194Z\", \"created_time\": \"2021-02-16T10:37:22.395331Z\", \"created_time_dt\": \"2021-02-16T10:37:22.395331Z\", \"duration\": \"0:01:05\", \"iteration\": \"49\", \"goal\": \"accuracy_max\", \"run_name\": \"StandardScalerWrapper, ExtremeRandomTrees\", \"run_properties\": \"<azureml.automl.runtime.shared.model_wrappers.StandardScalerWrapper object at 0x7f049c317908\", \"primary_metric\": 0.79178619, \"best_metric\": 0.85193154}, {\"run_id\": \"AutoML_e8ac35d0-451b-4f6a-90c9-1e5d73e48bbc_50\", \"run_number\": 84, \"metric\": null, \"status\": \"Completed\", \"run_type\": \"azureml.scriptrun\", \"training_percent\": \"100\", \"start_time\": \"2021-02-16T10:37:48.323581Z\", \"end_time\": \"2021-02-16T10:38:41.82644Z\", \"created_time\": \"2021-02-16T10:37:36.999079Z\", \"created_time_dt\": \"2021-02-16T10:37:36.999079Z\", \"duration\": \"0:01:04\", \"iteration\": \"50\", \"goal\": \"accuracy_max\", \"run_name\": \"MaxAbsScaler, RandomForest\", \"run_properties\": \"copy=True\", \"primary_metric\": 0.83601071, \"best_metric\": 0.85193154}, {\"run_id\": \"AutoML_e8ac35d0-451b-4f6a-90c9-1e5d73e48bbc_51\", \"run_number\": 85, \"metric\": null, \"status\": \"Completed\", \"run_type\": \"azureml.scriptrun\", \"training_percent\": \"100\", \"start_time\": \"2021-02-16T10:38:11.57748Z\", \"end_time\": \"2021-02-16T10:38:59.27217Z\", \"created_time\": \"2021-02-16T10:38:00.625127Z\", \"created_time_dt\": \"2021-02-16T10:38:00.625127Z\", \"duration\": \"0:00:58\", \"iteration\": \"51\", \"goal\": \"accuracy_max\", \"run_name\": \"RobustScaler, LightGBM\", \"run_properties\": \"copy=True, quantile_range=[25, 75], with_centering=True,\\n             with_scaling=False\", \"primary_metric\": 0.81607382, \"best_metric\": 0.85193154}, {\"run_id\": \"AutoML_e8ac35d0-451b-4f6a-90c9-1e5d73e48bbc_52\", \"run_number\": 86, \"metric\": null, \"status\": \"Completed\", \"run_type\": \"azureml.scriptrun\", \"training_percent\": \"100\", \"start_time\": \"2021-02-16T10:38:20.534404Z\", \"end_time\": \"2021-02-16T10:39:15.655259Z\", \"created_time\": \"2021-02-16T10:38:05.069647Z\", \"created_time_dt\": \"2021-02-16T10:38:05.069647Z\", \"duration\": \"0:01:10\", \"iteration\": \"52\", \"goal\": \"accuracy_max\", \"run_name\": \"MaxAbsScaler, LightGBM\", \"run_properties\": \"copy=True\", \"primary_metric\": 0.82410595, \"best_metric\": 0.85193154}, {\"run_id\": \"AutoML_e8ac35d0-451b-4f6a-90c9-1e5d73e48bbc_53\", \"run_number\": 87, \"metric\": null, \"status\": \"Completed\", \"run_type\": \"azureml.scriptrun\", \"training_percent\": \"100\", \"start_time\": \"2021-02-16T10:38:44.059515Z\", \"end_time\": \"2021-02-16T10:39:37.530171Z\", \"created_time\": \"2021-02-16T10:38:30.960042Z\", \"created_time_dt\": \"2021-02-16T10:38:30.960042Z\", \"duration\": \"0:01:06\", \"iteration\": \"53\", \"goal\": \"accuracy_max\", \"run_name\": \"StandardScalerWrapper, RandomForest\", \"run_properties\": \"<azureml.automl.runtime.shared.model_wrappers.StandardScalerWrapper object at 0x7f79301f9a58\", \"primary_metric\": 0.85193154, \"best_metric\": 0.85193154}, {\"run_id\": \"AutoML_e8ac35d0-451b-4f6a-90c9-1e5d73e48bbc_54\", \"run_number\": 88, \"metric\": null, \"status\": \"Completed\", \"run_type\": \"azureml.scriptrun\", \"training_percent\": \"100\", \"start_time\": \"2021-02-16T10:38:55.459661Z\", \"end_time\": \"2021-02-16T10:39:43.312956Z\", \"created_time\": \"2021-02-16T10:38:44.129716Z\", \"created_time_dt\": \"2021-02-16T10:38:44.129716Z\", \"duration\": \"0:00:59\", \"iteration\": \"54\", \"goal\": \"accuracy_max\", \"run_name\": \"SparseNormalizer, XGBoostClassifier\", \"run_properties\": \"<azureml.automl.runtime.shared.model_wrappers.SparseNormalizer object at 0x7f2b24d97ac8\", \"primary_metric\": 0.82381909, \"best_metric\": 0.85193154}, {\"run_id\": \"AutoML_e8ac35d0-451b-4f6a-90c9-1e5d73e48bbc_55\", \"run_number\": 89, \"metric\": null, \"status\": \"Completed\", \"run_type\": \"azureml.scriptrun\", \"training_percent\": \"100\", \"start_time\": \"2021-02-16T10:39:15.541297Z\", \"end_time\": \"2021-02-16T10:40:07.630421Z\", \"created_time\": \"2021-02-16T10:39:01.945033Z\", \"created_time_dt\": \"2021-02-16T10:39:01.945033Z\", \"duration\": \"0:01:05\", \"iteration\": \"55\", \"goal\": \"accuracy_max\", \"run_name\": \"StandardScalerWrapper, RandomForest\", \"run_properties\": \"<azureml.automl.runtime.shared.model_wrappers.StandardScalerWrapper object at 0x7f7a243b31d0\", \"primary_metric\": 0.75564161, \"best_metric\": 0.85193154}, {\"run_id\": \"AutoML_e8ac35d0-451b-4f6a-90c9-1e5d73e48bbc_56\", \"run_number\": 90, \"metric\": null, \"status\": \"Completed\", \"run_type\": \"azureml.scriptrun\", \"training_percent\": \"100\", \"start_time\": \"2021-02-16T10:39:27.450508Z\", \"end_time\": \"2021-02-16T10:40:26.928418Z\", \"created_time\": \"2021-02-16T10:39:17.437252Z\", \"created_time_dt\": \"2021-02-16T10:39:17.437252Z\", \"duration\": \"0:01:09\", \"iteration\": \"56\", \"goal\": \"accuracy_max\", \"run_name\": \"StandardScalerWrapper, GradientBoosting\", \"run_properties\": \"<azureml.automl.runtime.shared.model_wrappers.StandardScalerWrapper object at 0x7f0afd20cc88\", \"primary_metric\": 0.8280742, \"best_metric\": 0.85193154}, {\"run_id\": \"AutoML_e8ac35d0-451b-4f6a-90c9-1e5d73e48bbc_57\", \"run_number\": 91, \"metric\": null, \"status\": \"Completed\", \"run_type\": \"azureml.scriptrun\", \"training_percent\": \"100\", \"start_time\": \"2021-02-16T10:39:55.038817Z\", \"end_time\": \"2021-02-16T10:40:46.936085Z\", \"created_time\": \"2021-02-16T10:39:41.602913Z\", \"created_time_dt\": \"2021-02-16T10:39:41.602913Z\", \"duration\": \"0:01:05\", \"iteration\": \"57\", \"goal\": \"accuracy_max\", \"run_name\": \"MaxAbsScaler, LightGBM\", \"run_properties\": \"copy=True\", \"primary_metric\": 0.80799388, \"best_metric\": 0.85193154}, {\"run_id\": \"AutoML_e8ac35d0-451b-4f6a-90c9-1e5d73e48bbc_58\", \"run_number\": 92, \"metric\": null, \"status\": \"Completed\", \"run_type\": \"azureml.scriptrun\", \"training_percent\": \"100\", \"start_time\": \"2021-02-16T10:40:00.309517Z\", \"end_time\": \"2021-02-16T10:40:49.177501Z\", \"created_time\": \"2021-02-16T10:39:47.838041Z\", \"created_time_dt\": \"2021-02-16T10:39:47.838041Z\", \"duration\": \"0:01:01\", \"iteration\": \"58\", \"goal\": \"accuracy_max\", \"run_name\": \"StandardScalerWrapper, RandomForest\", \"run_properties\": \"<azureml.automl.runtime.shared.model_wrappers.StandardScalerWrapper object at 0x7fb6a721b080\", \"primary_metric\": 0.85202716, \"best_metric\": 0.85202716}, {\"run_id\": \"AutoML_e8ac35d0-451b-4f6a-90c9-1e5d73e48bbc_59\", \"run_number\": 93, \"metric\": null, \"status\": \"Completed\", \"run_type\": \"azureml.scriptrun\", \"training_percent\": \"100\", \"start_time\": \"2021-02-16T10:40:20.406861Z\", \"end_time\": \"2021-02-16T10:41:24.34195Z\", \"created_time\": \"2021-02-16T10:40:09.520232Z\", \"created_time_dt\": \"2021-02-16T10:40:09.520232Z\", \"duration\": \"0:01:14\", \"iteration\": \"59\", \"goal\": \"accuracy_max\", \"run_name\": \"RobustScaler, RandomForest\", \"run_properties\": \"copy=True, quantile_range=[10, 90], with_centering=True,\\n             with_scaling=False\", \"primary_metric\": 0.84810671, \"best_metric\": 0.85202716}, {\"run_id\": \"AutoML_e8ac35d0-451b-4f6a-90c9-1e5d73e48bbc_60\", \"run_number\": 94, \"metric\": null, \"status\": \"Completed\", \"run_type\": \"azureml.scriptrun\", \"training_percent\": \"100\", \"start_time\": \"2021-02-16T10:40:44.040068Z\", \"end_time\": \"2021-02-16T10:41:38.902984Z\", \"created_time\": \"2021-02-16T10:40:30.002607Z\", \"created_time_dt\": \"2021-02-16T10:40:30.002607Z\", \"duration\": \"0:01:08\", \"iteration\": \"60\", \"goal\": \"accuracy_max\", \"run_name\": \"StandardScalerWrapper, RandomForest\", \"run_properties\": \"<azureml.automl.runtime.shared.model_wrappers.StandardScalerWrapper object at 0x7f02a56e57f0\", \"primary_metric\": 0.83199465, \"best_metric\": 0.85202716}, {\"run_id\": \"AutoML_e8ac35d0-451b-4f6a-90c9-1e5d73e48bbc_61\", \"run_number\": 95, \"metric\": null, \"status\": \"Completed\", \"run_type\": \"azureml.scriptrun\", \"training_percent\": \"100\", \"start_time\": \"2021-02-16T10:41:03.678423Z\", \"end_time\": \"2021-02-16T10:41:55.245656Z\", \"created_time\": \"2021-02-16T10:40:51.137365Z\", \"created_time_dt\": \"2021-02-16T10:40:51.137365Z\", \"duration\": \"0:01:04\", \"iteration\": \"61\", \"goal\": \"accuracy_max\", \"run_name\": \"StandardScalerWrapper, XGBoostClassifier\", \"run_properties\": \"<azureml.automl.runtime.shared.model_wrappers.StandardScalerWrapper object at 0x7fd055043780\", \"primary_metric\": 0.83213808, \"best_metric\": 0.85202716}, {\"run_id\": \"AutoML_e8ac35d0-451b-4f6a-90c9-1e5d73e48bbc_62\", \"run_number\": 96, \"metric\": null, \"status\": \"Completed\", \"run_type\": \"azureml.scriptrun\", \"training_percent\": \"100\", \"start_time\": \"2021-02-16T10:41:11.604062Z\", \"end_time\": \"2021-02-16T10:42:04.01217Z\", \"created_time\": \"2021-02-16T10:40:59.223437Z\", \"created_time_dt\": \"2021-02-16T10:40:59.223437Z\", \"duration\": \"0:01:04\", \"iteration\": \"62\", \"goal\": \"accuracy_max\", \"run_name\": \"StandardScalerWrapper, XGBoostClassifier\", \"run_properties\": \"<azureml.automl.runtime.shared.model_wrappers.StandardScalerWrapper object at 0x7f03cd3c0da0\", \"primary_metric\": 0.76773762, \"best_metric\": 0.85202716}, {\"run_id\": \"AutoML_e8ac35d0-451b-4f6a-90c9-1e5d73e48bbc_63\", \"run_number\": 97, \"metric\": null, \"status\": \"Completed\", \"run_type\": \"azureml.scriptrun\", \"training_percent\": \"100\", \"start_time\": \"2021-02-16T10:41:40.393052Z\", \"end_time\": \"2021-02-16T10:42:35.40867Z\", \"created_time\": \"2021-02-16T10:41:27.153769Z\", \"created_time_dt\": \"2021-02-16T10:41:27.153769Z\", \"duration\": \"0:01:08\", \"iteration\": \"63\", \"goal\": \"accuracy_max\", \"run_name\": \"SparseNormalizer, XGBoostClassifier\", \"run_properties\": \"<azureml.automl.runtime.shared.model_wrappers.SparseNormalizer object at 0x7fa9a4590a58\", \"primary_metric\": 0.84801109, \"best_metric\": 0.85202716}, {\"run_id\": \"AutoML_e8ac35d0-451b-4f6a-90c9-1e5d73e48bbc_64\", \"run_number\": 98, \"metric\": null, \"status\": \"Completed\", \"run_type\": \"azureml.scriptrun\", \"training_percent\": \"100\", \"start_time\": \"2021-02-16T10:41:53.098209Z\", \"end_time\": \"2021-02-16T10:42:51.192336Z\", \"created_time\": \"2021-02-16T10:41:41.008114Z\", \"created_time_dt\": \"2021-02-16T10:41:41.008114Z\", \"duration\": \"0:01:10\", \"iteration\": \"64\", \"goal\": \"accuracy_max\", \"run_name\": \"StandardScalerWrapper, XGBoostClassifier\", \"run_properties\": \"<azureml.automl.runtime.shared.model_wrappers.StandardScalerWrapper object at 0x7f39b55d3518\", \"primary_metric\": 0.81602601, \"best_metric\": 0.85202716}, {\"run_id\": \"AutoML_e8ac35d0-451b-4f6a-90c9-1e5d73e48bbc_65\", \"run_number\": 99, \"metric\": null, \"status\": \"Completed\", \"run_type\": \"azureml.scriptrun\", \"training_percent\": \"100\", \"start_time\": \"2021-02-16T10:42:10.440838Z\", \"end_time\": \"2021-02-16T10:43:08.816163Z\", \"created_time\": \"2021-02-16T10:41:58.578013Z\", \"created_time_dt\": \"2021-02-16T10:41:58.578013Z\", \"duration\": \"0:01:10\", \"iteration\": \"65\", \"goal\": \"accuracy_max\", \"run_name\": \"MaxAbsScaler, RandomForest\", \"run_properties\": \"copy=True\", \"primary_metric\": 0.81985083, \"best_metric\": 0.85202716}, {\"run_id\": \"AutoML_e8ac35d0-451b-4f6a-90c9-1e5d73e48bbc_66\", \"run_number\": 100, \"metric\": null, \"status\": \"Completed\", \"run_type\": \"azureml.scriptrun\", \"training_percent\": \"100\", \"start_time\": \"2021-02-16T10:42:18.7548Z\", \"end_time\": \"2021-02-16T10:43:16.494327Z\", \"created_time\": \"2021-02-16T10:42:05.877392Z\", \"created_time_dt\": \"2021-02-16T10:42:05.877392Z\", \"duration\": \"0:01:10\", \"iteration\": \"66\", \"goal\": \"accuracy_max\", \"run_name\": \"MaxAbsScaler, GradientBoosting\", \"run_properties\": \"copy=True\", \"primary_metric\": 0.81607382, \"best_metric\": 0.85202716}, {\"run_id\": \"AutoML_e8ac35d0-451b-4f6a-90c9-1e5d73e48bbc_67\", \"run_number\": 101, \"metric\": null, \"status\": \"Completed\", \"run_type\": \"azureml.scriptrun\", \"training_percent\": \"100\", \"start_time\": \"2021-02-16T10:42:48.723064Z\", \"end_time\": \"2021-02-16T10:43:39.755049Z\", \"created_time\": \"2021-02-16T10:42:37.611369Z\", \"created_time_dt\": \"2021-02-16T10:42:37.611369Z\", \"duration\": \"0:01:02\", \"iteration\": \"67\", \"goal\": \"accuracy_max\", \"run_name\": \"StandardScalerWrapper, XGBoostClassifier\", \"run_properties\": \"<azureml.automl.runtime.shared.model_wrappers.StandardScalerWrapper object at 0x7f97c92638d0\", \"primary_metric\": 0.8280742, \"best_metric\": 0.85202716}, {\"run_id\": \"AutoML_e8ac35d0-451b-4f6a-90c9-1e5d73e48bbc_68\", \"run_number\": 102, \"metric\": null, \"status\": \"Completed\", \"run_type\": \"azureml.scriptrun\", \"training_percent\": \"100\", \"start_time\": \"2021-02-16T10:43:04.240499Z\", \"end_time\": \"2021-02-16T10:43:55.348552Z\", \"created_time\": \"2021-02-16T10:42:53.301421Z\", \"created_time_dt\": \"2021-02-16T10:42:53.301421Z\", \"duration\": \"0:01:02\", \"iteration\": \"68\", \"goal\": \"accuracy_max\", \"run_name\": \"StandardScalerWrapper, XGBoostClassifier\", \"run_properties\": \"<azureml.automl.runtime.shared.model_wrappers.StandardScalerWrapper object at 0x7f32eca45748\", \"primary_metric\": 0.82802639, \"best_metric\": 0.85202716}, {\"run_id\": \"AutoML_e8ac35d0-451b-4f6a-90c9-1e5d73e48bbc_69\", \"run_number\": 103, \"metric\": null, \"status\": \"Completed\", \"run_type\": \"azureml.scriptrun\", \"training_percent\": \"100\", \"start_time\": \"2021-02-16T10:43:23.276242Z\", \"end_time\": \"2021-02-16T10:44:10.127526Z\", \"created_time\": \"2021-02-16T10:43:10.809819Z\", \"created_time_dt\": \"2021-02-16T10:43:10.809819Z\", \"duration\": \"0:00:59\", \"iteration\": \"69\", \"goal\": \"accuracy_max\", \"run_name\": \"StandardScalerWrapper, XGBoostClassifier\", \"run_properties\": \"<azureml.automl.runtime.shared.model_wrappers.StandardScalerWrapper object at 0x7f32f1e2e208\", \"primary_metric\": 0.8159782, \"best_metric\": 0.85202716}, {\"run_id\": \"AutoML_e8ac35d0-451b-4f6a-90c9-1e5d73e48bbc_70\", \"run_number\": 104, \"metric\": null, \"status\": \"Completed\", \"run_type\": \"azureml.scriptrun\", \"training_percent\": \"100\", \"start_time\": \"2021-02-16T10:43:32.695208Z\", \"end_time\": \"2021-02-16T10:44:30.724146Z\", \"created_time\": \"2021-02-16T10:43:19.73022Z\", \"created_time_dt\": \"2021-02-16T10:43:19.73022Z\", \"duration\": \"0:01:10\", \"iteration\": \"70\", \"goal\": \"accuracy_max\", \"run_name\": \"MaxAbsScaler, RandomForest\", \"run_properties\": \"copy=True\", \"primary_metric\": 0.83204246, \"best_metric\": 0.85202716}, {\"run_id\": \"AutoML_e8ac35d0-451b-4f6a-90c9-1e5d73e48bbc_71\", \"run_number\": 105, \"metric\": null, \"status\": \"Completed\", \"run_type\": \"azureml.scriptrun\", \"training_percent\": \"100\", \"start_time\": \"2021-02-16T10:43:51.979907Z\", \"end_time\": \"2021-02-16T10:44:40.830924Z\", \"created_time\": \"2021-02-16T10:43:41.656522Z\", \"created_time_dt\": \"2021-02-16T10:43:41.656522Z\", \"duration\": \"0:00:59\", \"iteration\": \"71\", \"goal\": \"accuracy_max\", \"run_name\": \"MinMaxScaler, GradientBoosting\", \"run_properties\": \"copy=True, feature_range=(0, 1\", \"primary_metric\": 0.81191432, \"best_metric\": 0.85202716}, {\"run_id\": \"AutoML_e8ac35d0-451b-4f6a-90c9-1e5d73e48bbc_72\", \"run_number\": 106, \"metric\": null, \"status\": \"Completed\", \"run_type\": \"azureml.scriptrun\", \"training_percent\": \"100\", \"start_time\": \"2021-02-16T10:44:10.729149Z\", \"end_time\": \"2021-02-16T10:45:02.733064Z\", \"created_time\": \"2021-02-16T10:43:57.166751Z\", \"created_time_dt\": \"2021-02-16T10:43:57.166751Z\", \"duration\": \"0:01:05\", \"iteration\": \"72\", \"goal\": \"accuracy_max\", \"run_name\": \"StandardScalerWrapper, LightGBM\", \"run_properties\": \"<azureml.automl.runtime.shared.model_wrappers.StandardScalerWrapper object at 0x7f54ec727d30\", \"primary_metric\": 0.80397782, \"best_metric\": 0.85202716}, {\"run_id\": \"AutoML_e8ac35d0-451b-4f6a-90c9-1e5d73e48bbc_73\", \"run_number\": 107, \"metric\": null, \"status\": \"Completed\", \"run_type\": \"azureml.scriptrun\", \"training_percent\": \"100\", \"start_time\": \"2021-02-16T10:44:25.447919Z\", \"end_time\": \"2021-02-16T10:45:17.988003Z\", \"created_time\": \"2021-02-16T10:44:11.869647Z\", \"created_time_dt\": \"2021-02-16T10:44:11.869647Z\", \"duration\": \"0:01:06\", \"iteration\": \"73\", \"goal\": \"accuracy_max\", \"run_name\": \"SparseNormalizer, XGBoostClassifier\", \"run_properties\": \"<azureml.automl.runtime.shared.model_wrappers.SparseNormalizer object at 0x7fc2a7e01240\", \"primary_metric\": 0.81607382, \"best_metric\": 0.85202716}, {\"run_id\": \"AutoML_e8ac35d0-451b-4f6a-90c9-1e5d73e48bbc_74\", \"run_number\": 108, \"metric\": null, \"status\": \"Completed\", \"run_type\": \"azureml.scriptrun\", \"training_percent\": \"100\", \"start_time\": \"2021-02-16T10:44:43.577247Z\", \"end_time\": \"2021-02-16T10:45:34.009186Z\", \"created_time\": \"2021-02-16T10:44:32.482232Z\", \"created_time_dt\": \"2021-02-16T10:44:32.482232Z\", \"duration\": \"0:01:01\", \"iteration\": \"74\", \"goal\": \"accuracy_max\", \"run_name\": \"MinMaxScaler, LightGBM\", \"run_properties\": \"copy=True, feature_range=(0, 1\", \"primary_metric\": 0.83199465, \"best_metric\": 0.85202716}, {\"run_id\": \"AutoML_e8ac35d0-451b-4f6a-90c9-1e5d73e48bbc_75\", \"run_number\": 109, \"metric\": null, \"status\": \"Completed\", \"run_type\": \"azureml.scriptrun\", \"training_percent\": \"100\", \"start_time\": \"2021-02-16T10:44:55.502885Z\", \"end_time\": \"2021-02-16T10:45:47.914493Z\", \"created_time\": \"2021-02-16T10:44:43.595895Z\", \"created_time_dt\": \"2021-02-16T10:44:43.595895Z\", \"duration\": \"0:01:04\", \"iteration\": \"75\", \"goal\": \"accuracy_max\", \"run_name\": \"StandardScalerWrapper, RandomForest\", \"run_properties\": \"<azureml.automl.runtime.shared.model_wrappers.StandardScalerWrapper object at 0x7fe6aa607390\", \"primary_metric\": 0.73981641, \"best_metric\": 0.85202716}, {\"run_id\": \"AutoML_e8ac35d0-451b-4f6a-90c9-1e5d73e48bbc_76\", \"run_number\": 110, \"metric\": null, \"status\": \"Completed\", \"run_type\": \"azureml.scriptrun\", \"training_percent\": \"100\", \"start_time\": \"2021-02-16T10:45:17.557792Z\", \"end_time\": \"2021-02-16T10:46:13.569927Z\", \"created_time\": \"2021-02-16T10:45:06.147788Z\", \"created_time_dt\": \"2021-02-16T10:45:06.147788Z\", \"duration\": \"0:01:07\", \"iteration\": \"76\", \"goal\": \"accuracy_max\", \"run_name\": \"StandardScalerWrapper, XGBoostClassifier\", \"run_properties\": \"<azureml.automl.runtime.shared.model_wrappers.StandardScalerWrapper object at 0x7f1b9c4c4630\", \"primary_metric\": 0.82401033, \"best_metric\": 0.85202716}, {\"run_id\": \"AutoML_e8ac35d0-451b-4f6a-90c9-1e5d73e48bbc_77\", \"run_number\": 111, \"metric\": null, \"status\": \"Completed\", \"run_type\": \"azureml.scriptrun\", \"training_percent\": \"100\", \"start_time\": \"2021-02-16T10:45:31.693873Z\", \"end_time\": \"2021-02-16T10:46:24.438866Z\", \"created_time\": \"2021-02-16T10:45:20.109239Z\", \"created_time_dt\": \"2021-02-16T10:45:20.109239Z\", \"duration\": \"0:01:04\", \"iteration\": \"77\", \"goal\": \"accuracy_max\", \"run_name\": \"SparseNormalizer, LightGBM\", \"run_properties\": \"<azureml.automl.runtime.shared.model_wrappers.SparseNormalizer object at 0x7f7f15075898\", \"primary_metric\": 0.82802639, \"best_metric\": 0.85202716}, {\"run_id\": \"AutoML_e8ac35d0-451b-4f6a-90c9-1e5d73e48bbc_78\", \"run_number\": 112, \"metric\": null, \"status\": \"Completed\", \"run_type\": \"azureml.scriptrun\", \"training_percent\": \"100\", \"start_time\": \"2021-02-16T10:45:47.740692Z\", \"end_time\": \"2021-02-16T10:46:36.995493Z\", \"created_time\": \"2021-02-16T10:45:35.782938Z\", \"created_time_dt\": \"2021-02-16T10:45:35.782938Z\", \"duration\": \"0:01:01\", \"iteration\": \"78\", \"goal\": \"accuracy_max\", \"run_name\": \"SparseNormalizer, XGBoostClassifier\", \"run_properties\": \"<azureml.automl.runtime.shared.model_wrappers.SparseNormalizer object at 0x7f1f0e41b208\", \"primary_metric\": 0.85193154, \"best_metric\": 0.85202716}, {\"run_id\": \"AutoML_e8ac35d0-451b-4f6a-90c9-1e5d73e48bbc_79\", \"run_number\": 113, \"metric\": null, \"status\": \"Completed\", \"run_type\": \"azureml.scriptrun\", \"training_percent\": \"100\", \"start_time\": \"2021-02-16T10:46:01.170338Z\", \"end_time\": \"2021-02-16T10:46:58.052919Z\", \"created_time\": \"2021-02-16T10:45:51.233227Z\", \"created_time_dt\": \"2021-02-16T10:45:51.233227Z\", \"duration\": \"0:01:06\", \"iteration\": \"79\", \"goal\": \"accuracy_max\", \"run_name\": \"StandardScalerWrapper, XGBoostClassifier\", \"run_properties\": \"<azureml.automl.runtime.shared.model_wrappers.StandardScalerWrapper object at 0x7fe4c86ea7f0\", \"primary_metric\": 0.83199465, \"best_metric\": 0.85202716}, {\"run_id\": \"AutoML_e8ac35d0-451b-4f6a-90c9-1e5d73e48bbc_80\", \"run_number\": 114, \"metric\": null, \"status\": \"Completed\", \"run_type\": \"azureml.scriptrun\", \"training_percent\": \"100\", \"start_time\": \"2021-02-16T10:46:31.096218Z\", \"end_time\": \"2021-02-16T10:47:29.959164Z\", \"created_time\": \"2021-02-16T10:46:16.678704Z\", \"created_time_dt\": \"2021-02-16T10:46:16.678704Z\", \"duration\": \"0:01:13\", \"iteration\": \"80\", \"goal\": \"accuracy_max\", \"run_name\": \"SparseNormalizer, RandomForest\", \"run_properties\": \"<azureml.automl.runtime.shared.model_wrappers.SparseNormalizer object at 0x7f3656b31f98\", \"primary_metric\": 0.83204246, \"best_metric\": 0.85202716}, {\"run_id\": \"AutoML_e8ac35d0-451b-4f6a-90c9-1e5d73e48bbc_81\", \"run_number\": 115, \"metric\": null, \"status\": \"Completed\", \"run_type\": \"azureml.scriptrun\", \"training_percent\": \"100\", \"start_time\": \"2021-02-16T10:46:40.395443Z\", \"end_time\": \"2021-02-16T10:47:32.552212Z\", \"created_time\": \"2021-02-16T10:46:26.446868Z\", \"created_time_dt\": \"2021-02-16T10:46:26.446868Z\", \"duration\": \"0:01:06\", \"iteration\": \"81\", \"goal\": \"accuracy_max\", \"run_name\": \"StandardScalerWrapper, LightGBM\", \"run_properties\": \"<azureml.automl.runtime.shared.model_wrappers.StandardScalerWrapper object at 0x7fd59011ba20\", \"primary_metric\": 0.80397782, \"best_metric\": 0.85202716}, {\"run_id\": \"AutoML_e8ac35d0-451b-4f6a-90c9-1e5d73e48bbc_82\", \"run_number\": 116, \"metric\": null, \"status\": \"Completed\", \"run_type\": \"azureml.scriptrun\", \"training_percent\": \"100\", \"start_time\": \"2021-02-16T10:46:53.838463Z\", \"end_time\": \"2021-02-16T10:47:42.454634Z\", \"created_time\": \"2021-02-16T10:46:40.24884Z\", \"created_time_dt\": \"2021-02-16T10:46:40.24884Z\", \"duration\": \"0:01:02\", \"iteration\": \"82\", \"goal\": \"accuracy_max\", \"run_name\": \"SparseNormalizer, XGBoostClassifier\", \"run_properties\": \"<azureml.automl.runtime.shared.model_wrappers.SparseNormalizer object at 0x7fea7946a160\", \"primary_metric\": 0.74780073, \"best_metric\": 0.85202716}, {\"run_id\": \"AutoML_e8ac35d0-451b-4f6a-90c9-1e5d73e48bbc_83\", \"run_number\": 117, \"metric\": null, \"status\": \"Completed\", \"run_type\": \"azureml.scriptrun\", \"training_percent\": \"100\", \"start_time\": \"2021-02-16T10:47:14.126676Z\", \"end_time\": \"2021-02-16T10:48:02.755082Z\", \"created_time\": \"2021-02-16T10:47:00.991136Z\", \"created_time_dt\": \"2021-02-16T10:47:00.991136Z\", \"duration\": \"0:01:01\", \"iteration\": \"83\", \"goal\": \"accuracy_max\", \"run_name\": \"SparseNormalizer, XGBoostClassifier\", \"run_properties\": \"<azureml.automl.runtime.shared.model_wrappers.SparseNormalizer object at 0x7f55e87bbeb8\", \"primary_metric\": 0.79192962, \"best_metric\": 0.85202716}, {\"run_id\": \"AutoML_e8ac35d0-451b-4f6a-90c9-1e5d73e48bbc_84\", \"run_number\": 118, \"metric\": null, \"status\": \"Completed\", \"run_type\": \"azureml.scriptrun\", \"training_percent\": \"100\", \"start_time\": \"2021-02-16T10:47:47.396456Z\", \"end_time\": \"2021-02-16T10:48:42.663968Z\", \"created_time\": \"2021-02-16T10:47:32.574296Z\", \"created_time_dt\": \"2021-02-16T10:47:32.574296Z\", \"duration\": \"0:01:10\", \"iteration\": \"84\", \"goal\": \"accuracy_max\", \"run_name\": \"SparseNormalizer, RandomForest\", \"run_properties\": \"<azureml.automl.runtime.shared.model_wrappers.SparseNormalizer object at 0x7f80dd3f1e48\", \"primary_metric\": 0.80789826, \"best_metric\": 0.85202716}, {\"run_id\": \"AutoML_e8ac35d0-451b-4f6a-90c9-1e5d73e48bbc_85\", \"run_number\": 119, \"metric\": null, \"status\": \"Completed\", \"run_type\": \"azureml.scriptrun\", \"training_percent\": \"100\", \"start_time\": \"2021-02-16T10:47:54.852117Z\", \"end_time\": \"2021-02-16T10:48:53.664054Z\", \"created_time\": \"2021-02-16T10:47:40.112418Z\", \"created_time_dt\": \"2021-02-16T10:47:40.112418Z\", \"duration\": \"0:01:13\", \"iteration\": \"85\", \"goal\": \"accuracy_max\", \"run_name\": \"StandardScalerWrapper, RandomForest\", \"run_properties\": \"<azureml.automl.runtime.shared.model_wrappers.StandardScalerWrapper object at 0x7ff5e464eb00\", \"primary_metric\": 0.72757697, \"best_metric\": 0.85202716}, {\"run_id\": \"AutoML_e8ac35d0-451b-4f6a-90c9-1e5d73e48bbc_86\", \"run_number\": 120, \"metric\": null, \"status\": \"Completed\", \"run_type\": \"azureml.scriptrun\", \"training_percent\": \"100\", \"start_time\": \"2021-02-16T10:48:00.920596Z\", \"end_time\": \"2021-02-16T10:48:58.642143Z\", \"created_time\": \"2021-02-16T10:47:47.54639Z\", \"created_time_dt\": \"2021-02-16T10:47:47.54639Z\", \"duration\": \"0:01:11\", \"iteration\": \"86\", \"goal\": \"accuracy_max\", \"run_name\": \"StandardScalerWrapper, XGBoostClassifier\", \"run_properties\": \"<azureml.automl.runtime.shared.model_wrappers.StandardScalerWrapper object at 0x7fc162c67d30\", \"primary_metric\": 0.82415376, \"best_metric\": 0.85202716}, {\"run_id\": \"AutoML_e8ac35d0-451b-4f6a-90c9-1e5d73e48bbc_87\", \"run_number\": 121, \"metric\": null, \"status\": \"Completed\", \"run_type\": \"azureml.scriptrun\", \"training_percent\": \"100\", \"start_time\": \"2021-02-16T10:48:18.991791Z\", \"end_time\": \"2021-02-16T10:49:16.076193Z\", \"created_time\": \"2021-02-16T10:48:06.379257Z\", \"created_time_dt\": \"2021-02-16T10:48:06.379257Z\", \"duration\": \"0:01:09\", \"iteration\": \"87\", \"goal\": \"accuracy_max\", \"run_name\": \"StandardScalerWrapper, RandomForest\", \"run_properties\": \"<azureml.automl.runtime.shared.model_wrappers.StandardScalerWrapper object at 0x7f854cb4bd68\", \"primary_metric\": 0.84801109, \"best_metric\": 0.85202716}, {\"run_id\": \"AutoML_e8ac35d0-451b-4f6a-90c9-1e5d73e48bbc_88\", \"run_number\": 122, \"metric\": null, \"status\": \"Canceled\", \"run_type\": \"azureml.scriptrun\", \"training_percent\": \"100\", \"start_time\": \"2021-02-16T10:48:59.573551Z\", \"end_time\": \"2021-02-16T10:49:56.017337Z\", \"created_time\": \"2021-02-16T10:48:45.387431Z\", \"created_time_dt\": \"2021-02-16T10:48:45.387431Z\", \"duration\": \"0:01:10\", \"iteration\": \"88\", \"goal\": \"accuracy_max\", \"run_name\": \"MaxAbsScaler, RandomForest\", \"run_properties\": \"copy=True\", \"primary_metric\": 0.74373685, \"best_metric\": 0.85202716}, {\"run_id\": \"AutoML_e8ac35d0-451b-4f6a-90c9-1e5d73e48bbc_89\", \"run_number\": 123, \"metric\": null, \"status\": \"Canceled\", \"run_type\": \"azureml.scriptrun\", \"training_percent\": \"100\", \"start_time\": \"2021-02-16T10:49:09.229841Z\", \"end_time\": \"2021-02-16T10:50:01.524699Z\", \"created_time\": \"2021-02-16T10:48:55.670441Z\", \"created_time_dt\": \"2021-02-16T10:48:55.670441Z\", \"duration\": \"0:01:05\", \"iteration\": \"89\", \"goal\": \"accuracy_max\", \"run_name\": \"StandardScalerWrapper, XGBoostClassifier\", \"run_properties\": \"<azureml.automl.runtime.shared.model_wrappers.StandardScalerWrapper object at 0x7fd50403d358\", \"primary_metric\": 0.81999426, \"best_metric\": 0.85202716}, {\"run_id\": \"AutoML_e8ac35d0-451b-4f6a-90c9-1e5d73e48bbc_90\", \"run_number\": 124, \"metric\": null, \"status\": \"Canceled\", \"run_type\": \"azureml.scriptrun\", \"training_percent\": \"100\", \"start_time\": \"2021-02-16T10:49:12.724608Z\", \"end_time\": \"2021-02-16T10:50:00.048767Z\", \"created_time\": \"2021-02-16T10:49:01.616453Z\", \"created_time_dt\": \"2021-02-16T10:49:01.616453Z\", \"duration\": \"0:00:58\", \"iteration\": \"90\", \"goal\": \"accuracy_max\", \"run_name\": \"MinMaxScaler, RandomForest\", \"run_properties\": \"copy=True, feature_range=(0, 1\", \"primary_metric\": 0.84815452, \"best_metric\": 0.85202716}, {\"run_id\": \"AutoML_e8ac35d0-451b-4f6a-90c9-1e5d73e48bbc_91\", \"run_number\": 125, \"metric\": null, \"status\": \"Canceled\", \"run_type\": \"azureml.scriptrun\", \"training_percent\": \"100\", \"start_time\": \"2021-02-16T10:49:28.96437Z\", \"end_time\": \"2021-02-16T10:50:00.547237Z\", \"created_time\": \"2021-02-16T10:49:18.120939Z\", \"created_time_dt\": \"2021-02-16T10:49:18.120939Z\", \"duration\": \"0:00:42\", \"iteration\": \"91\", \"goal\": \"accuracy_max\", \"run_name\": \"StandardScalerWrapper, XGBoostClassifier\", \"run_properties\": \"<azureml.automl.runtime.shared.model_wrappers.StandardScalerWrapper object at 0x7f1e8a242710\", \"primary_metric\": 0.74789635, \"best_metric\": 0.85202716}, {\"run_id\": \"AutoML_e8ac35d0-451b-4f6a-90c9-1e5d73e48bbc_92\", \"run_number\": 126, \"metric\": null, \"status\": \"Completed\", \"run_type\": \"azureml.scriptrun\", \"training_percent\": \"100\", \"start_time\": \"2021-02-16T10:50:17.98949Z\", \"end_time\": \"2021-02-16T10:52:14.757032Z\", \"created_time\": \"2021-02-16T10:50:04.750646Z\", \"created_time_dt\": \"2021-02-16T10:50:04.750646Z\", \"duration\": \"0:02:10\", \"iteration\": \"92\", \"goal\": \"accuracy_max\", \"run_name\": \"VotingEnsemble\", \"run_properties\": \"classification_labels=None,\\n                              estimators=[('58',\\n                                           Pipeline(memory=None,\\n                                                    steps=[('standardscalerwrapper',\\n                                                            <azureml.automl.runtime.shared.model_wrappers.StandardScalerWrapper object at 0x7f99259864e0>\", \"primary_metric\": 0.88798049, \"best_metric\": 0.88798049}, {\"run_id\": \"AutoML_e8ac35d0-451b-4f6a-90c9-1e5d73e48bbc_93\", \"run_number\": 127, \"metric\": null, \"status\": \"Completed\", \"run_type\": \"azureml.scriptrun\", \"training_percent\": \"100\", \"start_time\": \"2021-02-16T10:50:17.55112Z\", \"end_time\": \"2021-02-16T10:51:57.119471Z\", \"created_time\": \"2021-02-16T10:50:04.776493Z\", \"created_time_dt\": \"2021-02-16T10:50:04.776493Z\", \"duration\": \"0:01:52\", \"iteration\": \"93\", \"goal\": \"accuracy_max\", \"run_name\": \"StackEnsemble\", \"run_properties\": \"base_learners=[('58',\\n                                        Pipeline(memory=None,\\n                                                 steps=[('standardscalerwrapper',\\n                                                         <azureml.automl.runtime.shared.model_wrappers.StandardScalerWrapper object at 0x7ff8f7acdcc0>\", \"primary_metric\": 0.81593039, \"best_metric\": 0.88798049}], \"children_metrics\": {\"categories\": [0], \"series\": {\"precision_score_micro\": [{\"categories\": [\"0\", \"1\", \"2\", \"3\", \"4\", \"5\", \"6\", \"7\", \"8\", \"9\", \"10\", \"11\", \"12\", \"13\", \"14\", \"15\", \"16\", \"17\", \"18\", \"19\", \"20\", \"21\", \"22\", \"23\", \"24\", \"25\", \"26\", \"27\", \"28\", \"29\", \"30\", \"31\", \"32\", \"33\", \"34\", \"35\", \"36\", \"37\", \"38\", \"39\", \"40\", \"41\", \"42\", \"43\", \"44\", \"45\", \"46\", \"47\", \"48\", \"49\", \"50\", \"51\", \"52\", \"53\", \"54\", \"55\", \"56\", \"57\", \"58\", \"59\", \"60\", \"61\", \"62\", \"63\", \"64\", \"65\", \"66\", \"67\", \"68\", \"69\", \"70\", \"71\", \"72\", \"73\", \"74\", \"75\", \"76\", \"77\", \"78\", \"79\", \"80\", \"81\", \"82\", \"83\", \"84\", \"85\", \"86\", \"87\", \"88\", \"89\", \"90\", \"91\", \"92\", \"93\"], \"mode\": \"markers\", \"name\": \"precision_score_micro\", \"stepped\": false, \"type\": \"scatter\", \"data\": [0.792120864410021, 0.8280742015681776, 0.8360585197934595, 0.8480110919869955, 0.8079460699942628, 0.6956875119525723, 0.6956397016637981, 0.7036240198890802, 0.7679766685790782, 0.8200420730541212, 0.7918818129661503, 0.7678810480015299, 0.7116083381143623, 0.8077548288391663, 0.8399311531841652, 0.7960891183782751, 0.8479632816982215, 0.775865366226812, 0.8320424555364315, 0.8440428380187416, 0.8280263912794034, 0.7636737425894052, 0.8361063300822337, 0.8519315356664755, 0.8198986421877988, 0.6676706827309237, 0.8241059475999236, 0.8280742015681776, 0.8158347676419965, 0.7838974947408682, 0.7757697456492637, 0.8039778160260088, 0.8040734366035571, 0.7439759036144578, 0.7759131765155862, 0.7636737425894052, 0.8001529929240773, 0.8160260087970931, 0.7357525339453052, 0.7679288582903041, 0.6996557659208262, 0.8038343851596864, 0.6200994454006502, 0.812009944540065, 0.8482023331420923, 0.6444348823866896, 0.831899024670109, 0.775865366226812, 0.8480110919869958, 0.791786192388602, 0.8360107095046855, 0.8160738190858673, 0.8241059475999236, 0.8519315356664755, 0.8238190858672786, 0.755641614075349, 0.8280742015681776, 0.8079938802830369, 0.8520271562440237, 0.8481067125645438, 0.8319946452476573, 0.8321380761139797, 0.7677376171352076, 0.8480110919869958, 0.8160260087970932, 0.8198508318990246, 0.8160738190858673, 0.8280742015681776, 0.8280263912794034, 0.815978198508319, 0.8320424555364315, 0.8119143239625167, 0.8039778160260088, 0.8160738190858673, 0.8319946452476573, 0.7398164084911073, 0.8240103270223752, 0.8280263912794034, 0.8519315356664755, 0.8319946452476573, 0.8320424555364315, 0.8039778160260088, 0.7478007267163894, 0.7919296232549246, 0.8078982597054886, 0.7275769745649264, 0.8241537578886976, 0.8480110919869955, 0.7437368521705872, 0.819994262765347, 0.848154522853318, 0.7478963472939376, 0.8879804934021802, 0.8159303882195449]}, {\"categories\": [\"0\", \"1\", \"2\", \"3\", \"4\", \"5\", \"6\", \"7\", \"8\", \"9\", \"10\", \"11\", \"12\", \"13\", \"14\", \"15\", \"16\", \"17\", \"18\", \"19\", \"20\", \"21\", \"22\", \"23\", \"24\", \"25\", \"26\", \"27\", \"28\", \"29\", \"30\", \"31\", \"32\", \"33\", \"34\", \"35\", \"36\", \"37\", \"38\", \"39\", \"40\", \"41\", \"42\", \"43\", \"44\", \"45\", \"46\", \"47\", \"48\", \"49\", \"50\", \"51\", \"52\", \"53\", \"54\", \"55\", \"56\", \"57\", \"58\", \"59\", \"60\", \"61\", \"62\", \"63\", \"64\", \"65\", \"66\", \"67\", \"68\", \"69\", \"70\", \"71\", \"72\", \"73\", \"74\", \"75\", \"76\", \"77\", \"78\", \"79\", \"80\", \"81\", \"82\", \"83\", \"84\", \"85\", \"86\", \"87\", \"88\", \"89\", \"90\", \"91\", \"92\", \"93\"], \"mode\": \"lines\", \"name\": \"precision_score_micro_max\", \"stepped\": true, \"type\": \"scatter\", \"data\": [0.792120864410021, 0.8280742015681776, 0.8360585197934595, 0.8480110919869955, 0.8480110919869955, 0.8480110919869955, 0.8480110919869955, 0.8480110919869955, 0.8480110919869955, 0.8480110919869955, 0.8480110919869955, 0.8480110919869955, 0.8480110919869955, 0.8480110919869955, 0.8480110919869955, 0.8480110919869955, 0.8480110919869955, 0.8480110919869955, 0.8480110919869955, 0.8480110919869955, 0.8480110919869955, 0.8480110919869955, 0.8480110919869955, 0.8519315356664755, 0.8519315356664755, 0.8519315356664755, 0.8519315356664755, 0.8519315356664755, 0.8519315356664755, 0.8519315356664755, 0.8519315356664755, 0.8519315356664755, 0.8519315356664755, 0.8519315356664755, 0.8519315356664755, 0.8519315356664755, 0.8519315356664755, 0.8519315356664755, 0.8519315356664755, 0.8519315356664755, 0.8519315356664755, 0.8519315356664755, 0.8519315356664755, 0.8519315356664755, 0.8519315356664755, 0.8519315356664755, 0.8519315356664755, 0.8519315356664755, 0.8519315356664755, 0.8519315356664755, 0.8519315356664755, 0.8519315356664755, 0.8519315356664755, 0.8519315356664755, 0.8519315356664755, 0.8519315356664755, 0.8519315356664755, 0.8519315356664755, 0.8520271562440237, 0.8520271562440237, 0.8520271562440237, 0.8520271562440237, 0.8520271562440237, 0.8520271562440237, 0.8520271562440237, 0.8520271562440237, 0.8520271562440237, 0.8520271562440237, 0.8520271562440237, 0.8520271562440237, 0.8520271562440237, 0.8520271562440237, 0.8520271562440237, 0.8520271562440237, 0.8520271562440237, 0.8520271562440237, 0.8520271562440237, 0.8520271562440237, 0.8520271562440237, 0.8520271562440237, 0.8520271562440237, 0.8520271562440237, 0.8520271562440237, 0.8520271562440237, 0.8520271562440237, 0.8520271562440237, 0.8520271562440237, 0.8520271562440237, 0.8520271562440237, 0.8520271562440237, 0.8520271562440237, 0.8520271562440237, 0.8879804934021802, 0.8879804934021802]}], \"f1_score_macro\": [{\"categories\": [\"0\", \"1\", \"2\", \"3\", \"4\", \"5\", \"6\", \"7\", \"8\", \"9\", \"10\", \"11\", \"12\", \"13\", \"14\", \"15\", \"16\", \"17\", \"18\", \"19\", \"20\", \"21\", \"22\", \"23\", \"24\", \"25\", \"26\", \"27\", \"28\", \"29\", \"30\", \"31\", \"32\", \"33\", \"34\", \"35\", \"36\", \"37\", \"38\", \"39\", \"40\", \"41\", \"42\", \"43\", \"44\", \"45\", \"46\", \"47\", \"48\", \"49\", \"50\", \"51\", \"52\", \"53\", \"54\", \"55\", \"56\", \"57\", \"58\", \"59\", \"60\", \"61\", \"62\", \"63\", \"64\", \"65\", \"66\", \"67\", \"68\", \"69\", \"70\", \"71\", \"72\", \"73\", \"74\", \"75\", \"76\", \"77\", \"78\", \"79\", \"80\", \"81\", \"82\", \"83\", \"84\", \"85\", \"86\", \"87\", \"88\", \"89\", \"90\", \"91\", \"92\", \"93\"], \"mode\": \"markers\", \"name\": \"f1_score_macro\", \"stepped\": false, \"type\": \"scatter\", \"data\": [0.7562250709757015, 0.7967427866630675, 0.8051840016049985, 0.8056542639209759, 0.7687276214238311, 0.6177779899977128, 0.5998130050218892, 0.6281739125212147, 0.7206699110377022, 0.7885391790524919, 0.748363406087441, 0.7166028008579001, 0.5788487112016524, 0.7586366816662052, 0.8043239947850589, 0.7442050345964232, 0.8105968369020152, 0.7217171717171716, 0.7945551495678832, 0.8039218370660098, 0.7849147286366963, 0.689721466566496, 0.8044841729167896, 0.8191857696566999, 0.7816527904849645, 0.3978174603174603, 0.7932251703962603, 0.7887517961249463, 0.7780872033881711, 0.7281499466258238, 0.7124831309041836, 0.7662517784196797, 0.7681027163078612, 0.66605842986722, 0.7305376112640163, 0.6885761948237313, 0.7591268798903964, 0.7786859377181958, 0.6399177023246584, 0.7018929727170159, 0.5962755561307882, 0.7453209606695602, 0.5152102718922995, 0.7773134684768216, 0.8222143548083759, 0.6203414767407976, 0.7863122396025721, 0.7135224992681133, 0.8059569819874516, 0.7600675999856396, 0.7989085204500225, 0.7828535190720878, 0.7908208985361505, 0.8177099399890303, 0.7774044312555223, 0.6651198908445285, 0.7970883797955798, 0.7553471319600352, 0.818684311310817, 0.8134120292709919, 0.7840462869245765, 0.7990245061467262, 0.6975705189606053, 0.8146348579495828, 0.7767121285556199, 0.7754080385389703, 0.7748364280482472, 0.7955325804843673, 0.7984413583450859, 0.7785599418629241, 0.7880322589601368, 0.7684955663159573, 0.7589654127332605, 0.7767458160450645, 0.7968453351074305, 0.625425274674336, 0.7918675614507479, 0.7850749964642119, 0.8195226347877421, 0.799330892310912, 0.7894626422419027, 0.7684283426977339, 0.6660087153680934, 0.7538151841441986, 0.7562520259453308, 0.6210972476597477, 0.7909916911925207, 0.8170306486841085, 0.6484939691556861, 0.7856775355434914, 0.8178849971064467, 0.6895879674486006, 0.8628922226162028, 0.7830863081882993]}, {\"categories\": [\"0\", \"1\", \"2\", \"3\", \"4\", \"5\", \"6\", \"7\", \"8\", \"9\", \"10\", \"11\", \"12\", \"13\", \"14\", \"15\", \"16\", \"17\", \"18\", \"19\", \"20\", \"21\", \"22\", \"23\", \"24\", \"25\", \"26\", \"27\", \"28\", \"29\", \"30\", \"31\", \"32\", \"33\", \"34\", \"35\", \"36\", \"37\", \"38\", \"39\", \"40\", \"41\", \"42\", \"43\", \"44\", \"45\", \"46\", \"47\", \"48\", \"49\", \"50\", \"51\", \"52\", \"53\", \"54\", \"55\", \"56\", \"57\", \"58\", \"59\", \"60\", \"61\", \"62\", \"63\", \"64\", \"65\", \"66\", \"67\", \"68\", \"69\", \"70\", \"71\", \"72\", \"73\", \"74\", \"75\", \"76\", \"77\", \"78\", \"79\", \"80\", \"81\", \"82\", \"83\", \"84\", \"85\", \"86\", \"87\", \"88\", \"89\", \"90\", \"91\", \"92\", \"93\"], \"mode\": \"lines\", \"name\": \"f1_score_macro_max\", \"stepped\": true, \"type\": \"scatter\", \"data\": [0.7562250709757015, 0.7967427866630675, 0.8051840016049985, 0.8056542639209759, 0.8056542639209759, 0.8056542639209759, 0.8056542639209759, 0.8056542639209759, 0.8056542639209759, 0.8056542639209759, 0.8056542639209759, 0.8056542639209759, 0.8056542639209759, 0.8056542639209759, 0.8056542639209759, 0.8056542639209759, 0.8105968369020152, 0.8105968369020152, 0.8105968369020152, 0.8105968369020152, 0.8105968369020152, 0.8105968369020152, 0.8105968369020152, 0.8191857696566999, 0.8191857696566999, 0.8191857696566999, 0.8191857696566999, 0.8191857696566999, 0.8191857696566999, 0.8191857696566999, 0.8191857696566999, 0.8191857696566999, 0.8191857696566999, 0.8191857696566999, 0.8191857696566999, 0.8191857696566999, 0.8191857696566999, 0.8191857696566999, 0.8191857696566999, 0.8191857696566999, 0.8191857696566999, 0.8191857696566999, 0.8191857696566999, 0.8191857696566999, 0.8222143548083759, 0.8222143548083759, 0.8222143548083759, 0.8222143548083759, 0.8222143548083759, 0.8222143548083759, 0.8222143548083759, 0.8222143548083759, 0.8222143548083759, 0.8222143548083759, 0.8222143548083759, 0.8222143548083759, 0.8222143548083759, 0.8222143548083759, 0.8222143548083759, 0.8222143548083759, 0.8222143548083759, 0.8222143548083759, 0.8222143548083759, 0.8222143548083759, 0.8222143548083759, 0.8222143548083759, 0.8222143548083759, 0.8222143548083759, 0.8222143548083759, 0.8222143548083759, 0.8222143548083759, 0.8222143548083759, 0.8222143548083759, 0.8222143548083759, 0.8222143548083759, 0.8222143548083759, 0.8222143548083759, 0.8222143548083759, 0.8222143548083759, 0.8222143548083759, 0.8222143548083759, 0.8222143548083759, 0.8222143548083759, 0.8222143548083759, 0.8222143548083759, 0.8222143548083759, 0.8222143548083759, 0.8222143548083759, 0.8222143548083759, 0.8222143548083759, 0.8222143548083759, 0.8222143548083759, 0.8628922226162028, 0.8628922226162028]}], \"matthews_correlation\": [{\"categories\": [\"0\", \"1\", \"2\", \"3\", \"4\", \"5\", \"6\", \"7\", \"8\", \"9\", \"10\", \"11\", \"12\", \"13\", \"14\", \"15\", \"16\", \"17\", \"18\", \"19\", \"20\", \"21\", \"22\", \"23\", \"24\", \"25\", \"26\", \"27\", \"28\", \"29\", \"30\", \"31\", \"32\", \"33\", \"34\", \"35\", \"36\", \"37\", \"38\", \"39\", \"40\", \"41\", \"42\", \"43\", \"44\", \"45\", \"46\", \"47\", \"48\", \"49\", \"50\", \"51\", \"52\", \"53\", \"54\", \"55\", \"56\", \"57\", \"58\", \"59\", \"60\", \"61\", \"62\", \"63\", \"64\", \"65\", \"66\", \"67\", \"68\", \"69\", \"70\", \"71\", \"72\", \"73\", \"74\", \"75\", \"76\", \"77\", \"78\", \"79\", \"80\", \"81\", \"82\", \"83\", \"84\", \"85\", \"86\", \"87\", \"88\", \"89\", \"90\", \"91\", \"92\", \"93\"], \"mode\": \"markers\", \"name\": \"matthews_correlation\", \"stepped\": false, \"type\": \"scatter\", \"data\": [0.5204084919723977, 0.604147499031436, 0.6148775909470778, 0.6282946209749145, 0.550104097074497, 0.3162182429823726, 0.324337472593693, 0.3366053432721828, 0.45588102842651895, 0.5875321260227083, 0.5153168680699753, 0.46430690403059555, 0.2931867480010663, 0.5621304966726273, 0.6200418580444078, 0.516632345043868, 0.6324969396366416, 0.4942265910258333, 0.5918005620759543, 0.614631870981512, 0.5768062098795833, 0.46923242749672484, 0.6253592794881507, 0.6491854858029628, 0.5641506313141637, 0.0, 0.5958167791105846, 0.5776099760508361, 0.5754982988631728, 0.5217384438907638, 0.5043896315496722, 0.5506637857337359, 0.5461817549320462, 0.404092843329422, 0.5180554434254483, 0.4798360573777763, 0.5350990523733071, 0.5746654745875963, 0.3929563809292314, 0.43377616770358723, 0.29982194529069045, 0.5285917470742425, 0.09885777260609281, 0.5712420361240004, 0.6524214306905852, 0.282438060996756, 0.5894415763754254, 0.49133025754683607, 0.619698072760479, 0.5274096951853725, 0.6010678165653702, 0.5737327042321941, 0.5911361355037413, 0.6391004951723348, 0.5802567784426502, 0.4569193279947282, 0.6020353040050304, 0.5486950395025644, 0.6420738979586581, 0.6291011869869214, 0.5792205045287816, 0.6077515085124691, 0.4857525339499322, 0.6382807688240258, 0.568744734341227, 0.587314236915382, 0.5630577438994202, 0.6123775864220465, 0.6088554592165744, 0.5717850424926483, 0.5933110254335844, 0.5598237479517266, 0.5523810277669923, 0.5630835174672755, 0.5993220579873472, 0.38977090418145915, 0.5974838981671171, 0.5755307095231083, 0.646232625841335, 0.6178701235985707, 0.5822032224618681, 0.5424475314840612, 0.4081282138500397, 0.5132094077656302, 0.5407180235072622, 0.3578375126911975, 0.5954095371726836, 0.6395147522661296, 0.41929050054095135, 0.5843979558133134, 0.6404098912354369, 0.4495941359135047, 0.7281805874736121, 0.5927914049615293]}, {\"categories\": [\"0\", \"1\", \"2\", \"3\", \"4\", \"5\", \"6\", \"7\", \"8\", \"9\", \"10\", \"11\", \"12\", \"13\", \"14\", \"15\", \"16\", \"17\", \"18\", \"19\", \"20\", \"21\", \"22\", \"23\", \"24\", \"25\", \"26\", \"27\", \"28\", \"29\", \"30\", \"31\", \"32\", \"33\", \"34\", \"35\", \"36\", \"37\", \"38\", \"39\", \"40\", \"41\", \"42\", \"43\", \"44\", \"45\", \"46\", \"47\", \"48\", \"49\", \"50\", \"51\", \"52\", \"53\", \"54\", \"55\", \"56\", \"57\", \"58\", \"59\", \"60\", \"61\", \"62\", \"63\", \"64\", \"65\", \"66\", \"67\", \"68\", \"69\", \"70\", \"71\", \"72\", \"73\", \"74\", \"75\", \"76\", \"77\", \"78\", \"79\", \"80\", \"81\", \"82\", \"83\", \"84\", \"85\", \"86\", \"87\", \"88\", \"89\", \"90\", \"91\", \"92\", \"93\"], \"mode\": \"lines\", \"name\": \"matthews_correlation_max\", \"stepped\": true, \"type\": \"scatter\", \"data\": [0.5204084919723977, 0.604147499031436, 0.6148775909470778, 0.6282946209749145, 0.6282946209749145, 0.6282946209749145, 0.6282946209749145, 0.6282946209749145, 0.6282946209749145, 0.6282946209749145, 0.6282946209749145, 0.6282946209749145, 0.6282946209749145, 0.6282946209749145, 0.6282946209749145, 0.6282946209749145, 0.6324969396366416, 0.6324969396366416, 0.6324969396366416, 0.6324969396366416, 0.6324969396366416, 0.6324969396366416, 0.6324969396366416, 0.6491854858029628, 0.6491854858029628, 0.6491854858029628, 0.6491854858029628, 0.6491854858029628, 0.6491854858029628, 0.6491854858029628, 0.6491854858029628, 0.6491854858029628, 0.6491854858029628, 0.6491854858029628, 0.6491854858029628, 0.6491854858029628, 0.6491854858029628, 0.6491854858029628, 0.6491854858029628, 0.6491854858029628, 0.6491854858029628, 0.6491854858029628, 0.6491854858029628, 0.6491854858029628, 0.6524214306905852, 0.6524214306905852, 0.6524214306905852, 0.6524214306905852, 0.6524214306905852, 0.6524214306905852, 0.6524214306905852, 0.6524214306905852, 0.6524214306905852, 0.6524214306905852, 0.6524214306905852, 0.6524214306905852, 0.6524214306905852, 0.6524214306905852, 0.6524214306905852, 0.6524214306905852, 0.6524214306905852, 0.6524214306905852, 0.6524214306905852, 0.6524214306905852, 0.6524214306905852, 0.6524214306905852, 0.6524214306905852, 0.6524214306905852, 0.6524214306905852, 0.6524214306905852, 0.6524214306905852, 0.6524214306905852, 0.6524214306905852, 0.6524214306905852, 0.6524214306905852, 0.6524214306905852, 0.6524214306905852, 0.6524214306905852, 0.6524214306905852, 0.6524214306905852, 0.6524214306905852, 0.6524214306905852, 0.6524214306905852, 0.6524214306905852, 0.6524214306905852, 0.6524214306905852, 0.6524214306905852, 0.6524214306905852, 0.6524214306905852, 0.6524214306905852, 0.6524214306905852, 0.6524214306905852, 0.7281805874736121, 0.7281805874736121]}], \"accuracy\": [{\"categories\": [\"0\", \"1\", \"2\", \"3\", \"4\", \"5\", \"6\", \"7\", \"8\", \"9\", \"10\", \"11\", \"12\", \"13\", \"14\", \"15\", \"16\", \"17\", \"18\", \"19\", \"20\", \"21\", \"22\", \"23\", \"24\", \"25\", \"26\", \"27\", \"28\", \"29\", \"30\", \"31\", \"32\", \"33\", \"34\", \"35\", \"36\", \"37\", \"38\", \"39\", \"40\", \"41\", \"42\", \"43\", \"44\", \"45\", \"46\", \"47\", \"48\", \"49\", \"50\", \"51\", \"52\", \"53\", \"54\", \"55\", \"56\", \"57\", \"58\", \"59\", \"60\", \"61\", \"62\", \"63\", \"64\", \"65\", \"66\", \"67\", \"68\", \"69\", \"70\", \"71\", \"72\", \"73\", \"74\", \"75\", \"76\", \"77\", \"78\", \"79\", \"80\", \"81\", \"82\", \"83\", \"84\", \"85\", \"86\", \"87\", \"88\", \"89\", \"90\", \"91\", \"92\", \"93\"], \"mode\": \"markers\", \"name\": \"accuracy\", \"stepped\": false, \"type\": \"scatter\", \"data\": [0.792120864410021, 0.8280742015681776, 0.8360585197934595, 0.8480110919869955, 0.8079460699942628, 0.6956875119525723, 0.6956397016637981, 0.7036240198890802, 0.7679766685790782, 0.8200420730541212, 0.7918818129661503, 0.7678810480015299, 0.7116083381143623, 0.8077548288391663, 0.8399311531841652, 0.7960891183782751, 0.8479632816982215, 0.775865366226812, 0.8320424555364315, 0.8440428380187416, 0.8280263912794034, 0.7636737425894052, 0.8361063300822337, 0.8519315356664755, 0.8198986421877988, 0.6676706827309237, 0.8241059475999236, 0.8280742015681776, 0.8158347676419965, 0.7838974947408682, 0.7757697456492637, 0.8039778160260088, 0.8040734366035571, 0.7439759036144578, 0.7759131765155862, 0.7636737425894052, 0.8001529929240773, 0.8160260087970931, 0.7357525339453052, 0.7679288582903041, 0.6996557659208262, 0.8038343851596864, 0.6200994454006502, 0.812009944540065, 0.8482023331420923, 0.6444348823866896, 0.831899024670109, 0.775865366226812, 0.8480110919869958, 0.791786192388602, 0.8360107095046855, 0.8160738190858673, 0.8241059475999236, 0.8519315356664755, 0.8238190858672786, 0.755641614075349, 0.8280742015681776, 0.8079938802830369, 0.8520271562440237, 0.8481067125645438, 0.8319946452476573, 0.8321380761139797, 0.7677376171352076, 0.8480110919869958, 0.8160260087970932, 0.8198508318990246, 0.8160738190858673, 0.8280742015681776, 0.8280263912794034, 0.815978198508319, 0.8320424555364315, 0.8119143239625167, 0.8039778160260088, 0.8160738190858673, 0.8319946452476573, 0.7398164084911073, 0.8240103270223752, 0.8280263912794034, 0.8519315356664755, 0.8319946452476573, 0.8320424555364315, 0.8039778160260088, 0.7478007267163894, 0.7919296232549246, 0.8078982597054886, 0.7275769745649264, 0.8241537578886976, 0.8480110919869955, 0.7437368521705872, 0.819994262765347, 0.848154522853318, 0.7478963472939376, 0.8879804934021802, 0.8159303882195449]}, {\"categories\": [\"0\", \"1\", \"2\", \"3\", \"4\", \"5\", \"6\", \"7\", \"8\", \"9\", \"10\", \"11\", \"12\", \"13\", \"14\", \"15\", \"16\", \"17\", \"18\", \"19\", \"20\", \"21\", \"22\", \"23\", \"24\", \"25\", \"26\", \"27\", \"28\", \"29\", \"30\", \"31\", \"32\", \"33\", \"34\", \"35\", \"36\", \"37\", \"38\", \"39\", \"40\", \"41\", \"42\", \"43\", \"44\", \"45\", \"46\", \"47\", \"48\", \"49\", \"50\", \"51\", \"52\", \"53\", \"54\", \"55\", \"56\", \"57\", \"58\", \"59\", \"60\", \"61\", \"62\", \"63\", \"64\", \"65\", \"66\", \"67\", \"68\", \"69\", \"70\", \"71\", \"72\", \"73\", \"74\", \"75\", \"76\", \"77\", \"78\", \"79\", \"80\", \"81\", \"82\", \"83\", \"84\", \"85\", \"86\", \"87\", \"88\", \"89\", \"90\", \"91\", \"92\", \"93\"], \"mode\": \"lines\", \"name\": \"accuracy_max\", \"stepped\": true, \"type\": \"scatter\", \"data\": [0.792120864410021, 0.8280742015681776, 0.8360585197934595, 0.8480110919869955, 0.8480110919869955, 0.8480110919869955, 0.8480110919869955, 0.8480110919869955, 0.8480110919869955, 0.8480110919869955, 0.8480110919869955, 0.8480110919869955, 0.8480110919869955, 0.8480110919869955, 0.8480110919869955, 0.8480110919869955, 0.8480110919869955, 0.8480110919869955, 0.8480110919869955, 0.8480110919869955, 0.8480110919869955, 0.8480110919869955, 0.8480110919869955, 0.8519315356664755, 0.8519315356664755, 0.8519315356664755, 0.8519315356664755, 0.8519315356664755, 0.8519315356664755, 0.8519315356664755, 0.8519315356664755, 0.8519315356664755, 0.8519315356664755, 0.8519315356664755, 0.8519315356664755, 0.8519315356664755, 0.8519315356664755, 0.8519315356664755, 0.8519315356664755, 0.8519315356664755, 0.8519315356664755, 0.8519315356664755, 0.8519315356664755, 0.8519315356664755, 0.8519315356664755, 0.8519315356664755, 0.8519315356664755, 0.8519315356664755, 0.8519315356664755, 0.8519315356664755, 0.8519315356664755, 0.8519315356664755, 0.8519315356664755, 0.8519315356664755, 0.8519315356664755, 0.8519315356664755, 0.8519315356664755, 0.8519315356664755, 0.8520271562440237, 0.8520271562440237, 0.8520271562440237, 0.8520271562440237, 0.8520271562440237, 0.8520271562440237, 0.8520271562440237, 0.8520271562440237, 0.8520271562440237, 0.8520271562440237, 0.8520271562440237, 0.8520271562440237, 0.8520271562440237, 0.8520271562440237, 0.8520271562440237, 0.8520271562440237, 0.8520271562440237, 0.8520271562440237, 0.8520271562440237, 0.8520271562440237, 0.8520271562440237, 0.8520271562440237, 0.8520271562440237, 0.8520271562440237, 0.8520271562440237, 0.8520271562440237, 0.8520271562440237, 0.8520271562440237, 0.8520271562440237, 0.8520271562440237, 0.8520271562440237, 0.8520271562440237, 0.8520271562440237, 0.8520271562440237, 0.8879804934021802, 0.8879804934021802]}], \"norm_macro_recall\": [{\"categories\": [\"0\", \"1\", \"2\", \"3\", \"4\", \"5\", \"6\", \"7\", \"8\", \"9\", \"10\", \"11\", \"12\", \"13\", \"14\", \"15\", \"16\", \"17\", \"18\", \"19\", \"20\", \"21\", \"22\", \"23\", \"24\", \"25\", \"26\", \"27\", \"28\", \"29\", \"30\", \"31\", \"32\", \"33\", \"34\", \"35\", \"36\", \"37\", \"38\", \"39\", \"40\", \"41\", \"42\", \"43\", \"44\", \"45\", \"46\", \"47\", \"48\", \"49\", \"50\", \"51\", \"52\", \"53\", \"54\", \"55\", \"56\", \"57\", \"58\", \"59\", \"60\", \"61\", \"62\", \"63\", \"64\", \"65\", \"66\", \"67\", \"68\", \"69\", \"70\", \"71\", \"72\", \"73\", \"74\", \"75\", \"76\", \"77\", \"78\", \"79\", \"80\", \"81\", \"82\", \"83\", \"84\", \"85\", \"86\", \"87\", \"88\", \"89\", \"90\", \"91\", \"92\", \"93\"], \"mode\": \"markers\", \"name\": \"norm_macro_recall\", \"stepped\": false, \"type\": \"scatter\", \"data\": [0.5249369959053528, 0.6109513476173788, 0.6242621052857423, 0.5860518295897632, 0.5374490644696516, 0.30148431192083497, 0.2866971825988219, 0.32175335678004374, 0.44690939770047655, 0.5948660762995494, 0.49869003012350327, 0.4352725372931244, 0.23108130485179665, 0.49721523552061103, 0.6006441381298416, 0.4776772958053934, 0.6029649654506689, 0.45091651863478016, 0.5908154214292224, 0.5907156729688182, 0.5564753383186475, 0.383381630512778, 0.6250627427810044, 0.6303149682105077, 0.564739698603595, 0.0, 0.6105869617878769, 0.5798690250177098, 0.5554868667430619, 0.4612640850345769, 0.43545840922890094, 0.5435511552171864, 0.5493222303458675, 0.34368258681068437, 0.4930205647418762, 0.39683407060456233, 0.5204854079711113, 0.5590496215353249, 0.30439267775333345, 0.3953480074238747, 0.29700596913711674, 0.4630350259305654, 0.09331149851546343, 0.5656435228966681, 0.6719358683140614, 0.29213418886503134, 0.5482821103579777, 0.42917110212192183, 0.5891884964416417, 0.5386499015168478, 0.5992888601352192, 0.5818619128855499, 0.595078331744363, 0.6260520578953671, 0.5285731156489829, 0.3484213721918639, 0.611532742966216, 0.4976277213982132, 0.6464825533258625, 0.6298880367313459, 0.5444500420577432, 0.6111636030621924, 0.40820973198022376, 0.6285637954623848, 0.5649154068139962, 0.5352581787961125, 0.5446917571774607, 0.606919704460688, 0.6162035730468822, 0.573036484702516, 0.5669122052175807, 0.5272314397171431, 0.5192504672012869, 0.5592215200678792, 0.5912249182455054, 0.2773896261601179, 0.6033395150055463, 0.5593441907776638, 0.6322888443647117, 0.6068809245991861, 0.5705463765700137, 0.5481641937227145, 0.3397891877400074, 0.5169274072533699, 0.4918108797064192, 0.3248763986468904, 0.6013030932016825, 0.644967401810711, 0.3219663457368375, 0.5844241710902024, 0.6503305571738663, 0.41229218001044154, 0.7286049959134214, 0.5861034780020674]}, {\"categories\": [\"0\", \"1\", \"2\", \"3\", \"4\", \"5\", \"6\", \"7\", \"8\", \"9\", \"10\", \"11\", \"12\", \"13\", \"14\", \"15\", \"16\", \"17\", \"18\", \"19\", \"20\", \"21\", \"22\", \"23\", \"24\", \"25\", \"26\", \"27\", \"28\", \"29\", \"30\", \"31\", \"32\", \"33\", \"34\", \"35\", \"36\", \"37\", \"38\", \"39\", \"40\", \"41\", \"42\", \"43\", \"44\", \"45\", \"46\", \"47\", \"48\", \"49\", \"50\", \"51\", \"52\", \"53\", \"54\", \"55\", \"56\", \"57\", \"58\", \"59\", \"60\", \"61\", \"62\", \"63\", \"64\", \"65\", \"66\", \"67\", \"68\", \"69\", \"70\", \"71\", \"72\", \"73\", \"74\", \"75\", \"76\", \"77\", \"78\", \"79\", \"80\", \"81\", \"82\", \"83\", \"84\", \"85\", \"86\", \"87\", \"88\", \"89\", \"90\", \"91\", \"92\", \"93\"], \"mode\": \"lines\", \"name\": \"norm_macro_recall_max\", \"stepped\": true, \"type\": \"scatter\", \"data\": [0.5249369959053528, 0.6109513476173788, 0.6242621052857423, 0.6242621052857423, 0.6242621052857423, 0.6242621052857423, 0.6242621052857423, 0.6242621052857423, 0.6242621052857423, 0.6242621052857423, 0.6242621052857423, 0.6242621052857423, 0.6242621052857423, 0.6242621052857423, 0.6242621052857423, 0.6242621052857423, 0.6242621052857423, 0.6242621052857423, 0.6242621052857423, 0.6242621052857423, 0.6242621052857423, 0.6242621052857423, 0.6250627427810044, 0.6303149682105077, 0.6303149682105077, 0.6303149682105077, 0.6303149682105077, 0.6303149682105077, 0.6303149682105077, 0.6303149682105077, 0.6303149682105077, 0.6303149682105077, 0.6303149682105077, 0.6303149682105077, 0.6303149682105077, 0.6303149682105077, 0.6303149682105077, 0.6303149682105077, 0.6303149682105077, 0.6303149682105077, 0.6303149682105077, 0.6303149682105077, 0.6303149682105077, 0.6303149682105077, 0.6719358683140614, 0.6719358683140614, 0.6719358683140614, 0.6719358683140614, 0.6719358683140614, 0.6719358683140614, 0.6719358683140614, 0.6719358683140614, 0.6719358683140614, 0.6719358683140614, 0.6719358683140614, 0.6719358683140614, 0.6719358683140614, 0.6719358683140614, 0.6719358683140614, 0.6719358683140614, 0.6719358683140614, 0.6719358683140614, 0.6719358683140614, 0.6719358683140614, 0.6719358683140614, 0.6719358683140614, 0.6719358683140614, 0.6719358683140614, 0.6719358683140614, 0.6719358683140614, 0.6719358683140614, 0.6719358683140614, 0.6719358683140614, 0.6719358683140614, 0.6719358683140614, 0.6719358683140614, 0.6719358683140614, 0.6719358683140614, 0.6719358683140614, 0.6719358683140614, 0.6719358683140614, 0.6719358683140614, 0.6719358683140614, 0.6719358683140614, 0.6719358683140614, 0.6719358683140614, 0.6719358683140614, 0.6719358683140614, 0.6719358683140614, 0.6719358683140614, 0.6719358683140614, 0.6719358683140614, 0.7286049959134214, 0.7286049959134214]}], \"average_precision_score_micro\": [{\"categories\": [\"0\", \"1\", \"2\", \"3\", \"4\", \"5\", \"6\", \"7\", \"8\", \"9\", \"10\", \"11\", \"12\", \"13\", \"14\", \"15\", \"16\", \"17\", \"18\", \"19\", \"20\", \"21\", \"22\", \"23\", \"24\", \"25\", \"26\", \"27\", \"28\", \"29\", \"30\", \"31\", \"32\", \"33\", \"34\", \"35\", \"36\", \"37\", \"38\", \"39\", \"40\", \"41\", \"42\", \"43\", \"44\", \"45\", \"46\", \"47\", \"48\", \"49\", \"50\", \"51\", \"52\", \"53\", \"54\", \"55\", \"56\", \"57\", \"58\", \"59\", \"60\", \"61\", \"62\", \"63\", \"64\", \"65\", \"66\", \"67\", \"68\", \"69\", \"70\", \"71\", \"72\", \"73\", \"74\", \"75\", \"76\", \"77\", \"78\", \"79\", \"80\", \"81\", \"82\", \"83\", \"84\", \"85\", \"86\", \"87\", \"88\", \"89\", \"90\", \"91\", \"92\", \"93\"], \"mode\": \"markers\", \"name\": \"average_precision_score_micro\", \"stepped\": false, \"type\": \"scatter\", \"data\": [0.8721657782023892, 0.892507278655604, 0.9085198008392373, 0.9069323277402043, 0.9145925789157691, 0.7770413254688826, 0.7771326933436259, 0.7746276994367269, 0.8637600761631931, 0.9018774850816049, 0.9023599736219535, 0.8244764577911646, 0.8632477093004706, 0.891633606883023, 0.9148862158783122, 0.8889889549344985, 0.9060149587614049, 0.8941609208102864, 0.90897555733455, 0.8986837930292834, 0.9020223137914797, 0.8537771737149805, 0.9040769847457394, 0.921747135288627, 0.8864329053613189, 0.8077130715354045, 0.9093208932124314, 0.8942052319567582, 0.9029658182797732, 0.878447933527008, 0.8730960310725416, 0.8964032406833865, 0.8931068774638632, 0.8735273779322137, 0.8611780509707451, 0.8762729376447232, 0.8977311762412171, 0.8985346272559785, 0.8468741105287817, 0.863030005436087, 0.8125179351695548, 0.8701371613413533, 0.6240767241916437, 0.8980149477391212, 0.9255628216589592, 0.6362888678030192, 0.9015998853069352, 0.870811693663574, 0.9077690584513439, 0.8557885031613015, 0.8982458163936947, 0.9002281568209227, 0.9050299775865924, 0.9078875305693556, 0.8950071205110747, 0.878326853734758, 0.9054982970422406, 0.8912559813391464, 0.9139091434064491, 0.9201795615248014, 0.8376982893806445, 0.914276536861436, 0.8681998179482244, 0.9110526473459002, 0.8908858226981665, 0.9010503353307082, 0.898108835036151, 0.8952563003229203, 0.904745215945243, 0.8888661713113327, 0.9180382799663601, 0.9049397378267564, 0.8853291083521078, 0.9036713109575386, 0.9031103448167244, 0.8638917842954266, 0.9048853759035556, 0.9115521274942265, 0.9158065789821883, 0.9084346160271637, 0.9165084204337282, 0.9027346861020847, 0.8512431093898782, 0.8704968296286436, 0.894116081972168, 0.8661454734766845, 0.9094905253121013, 0.9174494124216498, 0.871216186377589, 0.9057483482044555, 0.9160182040061722, 0.8704673437196456, 0.9266301636346217, 0.8941681951216367]}, {\"categories\": [\"0\", \"1\", \"2\", \"3\", \"4\", \"5\", \"6\", \"7\", \"8\", \"9\", \"10\", \"11\", \"12\", \"13\", \"14\", \"15\", \"16\", \"17\", \"18\", \"19\", \"20\", \"21\", \"22\", \"23\", \"24\", \"25\", \"26\", \"27\", \"28\", \"29\", \"30\", \"31\", \"32\", \"33\", \"34\", \"35\", \"36\", \"37\", \"38\", \"39\", \"40\", \"41\", \"42\", \"43\", \"44\", \"45\", \"46\", \"47\", \"48\", \"49\", \"50\", \"51\", \"52\", \"53\", \"54\", \"55\", \"56\", \"57\", \"58\", \"59\", \"60\", \"61\", \"62\", \"63\", \"64\", \"65\", \"66\", \"67\", \"68\", \"69\", \"70\", \"71\", \"72\", \"73\", \"74\", \"75\", \"76\", \"77\", \"78\", \"79\", \"80\", \"81\", \"82\", \"83\", \"84\", \"85\", \"86\", \"87\", \"88\", \"89\", \"90\", \"91\", \"92\", \"93\"], \"mode\": \"lines\", \"name\": \"average_precision_score_micro_max\", \"stepped\": true, \"type\": \"scatter\", \"data\": [0.8721657782023892, 0.892507278655604, 0.9085198008392373, 0.9085198008392373, 0.9145925789157691, 0.9145925789157691, 0.9145925789157691, 0.9145925789157691, 0.9145925789157691, 0.9145925789157691, 0.9145925789157691, 0.9145925789157691, 0.9145925789157691, 0.9145925789157691, 0.9148862158783122, 0.9148862158783122, 0.9148862158783122, 0.9148862158783122, 0.9148862158783122, 0.9148862158783122, 0.9148862158783122, 0.9148862158783122, 0.9148862158783122, 0.921747135288627, 0.921747135288627, 0.921747135288627, 0.921747135288627, 0.921747135288627, 0.921747135288627, 0.921747135288627, 0.921747135288627, 0.921747135288627, 0.921747135288627, 0.921747135288627, 0.921747135288627, 0.921747135288627, 0.921747135288627, 0.921747135288627, 0.921747135288627, 0.921747135288627, 0.921747135288627, 0.921747135288627, 0.921747135288627, 0.921747135288627, 0.9255628216589592, 0.9255628216589592, 0.9255628216589592, 0.9255628216589592, 0.9255628216589592, 0.9255628216589592, 0.9255628216589592, 0.9255628216589592, 0.9255628216589592, 0.9255628216589592, 0.9255628216589592, 0.9255628216589592, 0.9255628216589592, 0.9255628216589592, 0.9255628216589592, 0.9255628216589592, 0.9255628216589592, 0.9255628216589592, 0.9255628216589592, 0.9255628216589592, 0.9255628216589592, 0.9255628216589592, 0.9255628216589592, 0.9255628216589592, 0.9255628216589592, 0.9255628216589592, 0.9255628216589592, 0.9255628216589592, 0.9255628216589592, 0.9255628216589592, 0.9255628216589592, 0.9255628216589592, 0.9255628216589592, 0.9255628216589592, 0.9255628216589592, 0.9255628216589592, 0.9255628216589592, 0.9255628216589592, 0.9255628216589592, 0.9255628216589592, 0.9255628216589592, 0.9255628216589592, 0.9255628216589592, 0.9255628216589592, 0.9255628216589592, 0.9255628216589592, 0.9255628216589592, 0.9255628216589592, 0.9266301636346217, 0.9266301636346217]}], \"recall_score_macro\": [{\"categories\": [\"0\", \"1\", \"2\", \"3\", \"4\", \"5\", \"6\", \"7\", \"8\", \"9\", \"10\", \"11\", \"12\", \"13\", \"14\", \"15\", \"16\", \"17\", \"18\", \"19\", \"20\", \"21\", \"22\", \"23\", \"24\", \"25\", \"26\", \"27\", \"28\", \"29\", \"30\", \"31\", \"32\", \"33\", \"34\", \"35\", \"36\", \"37\", \"38\", \"39\", \"40\", \"41\", \"42\", \"43\", \"44\", \"45\", \"46\", \"47\", \"48\", \"49\", \"50\", \"51\", \"52\", \"53\", \"54\", \"55\", \"56\", \"57\", \"58\", \"59\", \"60\", \"61\", \"62\", \"63\", \"64\", \"65\", \"66\", \"67\", \"68\", \"69\", \"70\", \"71\", \"72\", \"73\", \"74\", \"75\", \"76\", \"77\", \"78\", \"79\", \"80\", \"81\", \"82\", \"83\", \"84\", \"85\", \"86\", \"87\", \"88\", \"89\", \"90\", \"91\", \"92\", \"93\"], \"mode\": \"markers\", \"name\": \"recall_score_macro\", \"stepped\": false, \"type\": \"scatter\", \"data\": [0.7624684979526765, 0.8054756738086896, 0.8121310526428712, 0.7930259147948817, 0.7687245322348257, 0.6507421559604175, 0.6433485912994109, 0.6608766783900218, 0.7234546988502384, 0.7974330381497747, 0.7493450150617517, 0.7176362686465622, 0.6155406524258983, 0.7486076177603055, 0.8003220690649208, 0.7388386479026967, 0.8014824827253344, 0.72545825931739, 0.7954077107146112, 0.795357836484409, 0.7782376691593238, 0.691690815256389, 0.8125313713905022, 0.8151574841052538, 0.7823698493017975, 0.5, 0.8052934808939384, 0.7899345125088549, 0.7777434333715308, 0.7306320425172884, 0.7177292046144504, 0.7717755776085933, 0.7746611151729338, 0.6718412934053423, 0.7465102823709381, 0.6984170353022812, 0.7602427039855556, 0.7795248107676626, 0.6521963388766667, 0.6976740037119372, 0.6485029845685584, 0.7315175129652828, 0.5387192413212237, 0.7828217614483339, 0.8359679341570306, 0.6460670944325156, 0.7741410551789888, 0.7145855510609609, 0.7945942482208208, 0.7693249507584238, 0.7996444300676097, 0.790930956442775, 0.7975391658721814, 0.8130260289476835, 0.7642865578244914, 0.6742106860959319, 0.8057663714831079, 0.7488138606991065, 0.8232412766629312, 0.814944018365673, 0.7722250210288716, 0.8055818015310962, 0.7041048659901118, 0.8142818977311924, 0.782457703406998, 0.7676290893980561, 0.7723458785887303, 0.8034598522303441, 0.8081017865234411, 0.7865182423512579, 0.7834561026087904, 0.7636157198585716, 0.7596252336006435, 0.7796107600339397, 0.7956124591227528, 0.6386948130800589, 0.8016697575027733, 0.779672095388832, 0.8161444221823558, 0.8034404622995931, 0.7852731882850068, 0.7740820968613572, 0.6698945938700036, 0.7584637036266849, 0.7459054398532096, 0.6624381993234452, 0.8006515466008413, 0.8224837009053555, 0.6609831728684187, 0.7922120855451013, 0.8251652785869332, 0.7061460900052209, 0.8643024979567108, 0.7930517390010338]}, {\"categories\": [\"0\", \"1\", \"2\", \"3\", \"4\", \"5\", \"6\", \"7\", \"8\", \"9\", \"10\", \"11\", \"12\", \"13\", \"14\", \"15\", \"16\", \"17\", \"18\", \"19\", \"20\", \"21\", \"22\", \"23\", \"24\", \"25\", \"26\", \"27\", \"28\", \"29\", \"30\", \"31\", \"32\", \"33\", \"34\", \"35\", \"36\", \"37\", \"38\", \"39\", \"40\", \"41\", \"42\", \"43\", \"44\", \"45\", \"46\", \"47\", \"48\", \"49\", \"50\", \"51\", \"52\", \"53\", \"54\", \"55\", \"56\", \"57\", \"58\", \"59\", \"60\", \"61\", \"62\", \"63\", \"64\", \"65\", \"66\", \"67\", \"68\", \"69\", \"70\", \"71\", \"72\", \"73\", \"74\", \"75\", \"76\", \"77\", \"78\", \"79\", \"80\", \"81\", \"82\", \"83\", \"84\", \"85\", \"86\", \"87\", \"88\", \"89\", \"90\", \"91\", \"92\", \"93\"], \"mode\": \"lines\", \"name\": \"recall_score_macro_max\", \"stepped\": true, \"type\": \"scatter\", \"data\": [0.7624684979526765, 0.8054756738086896, 0.8121310526428712, 0.8121310526428712, 0.8121310526428712, 0.8121310526428712, 0.8121310526428712, 0.8121310526428712, 0.8121310526428712, 0.8121310526428712, 0.8121310526428712, 0.8121310526428712, 0.8121310526428712, 0.8121310526428712, 0.8121310526428712, 0.8121310526428712, 0.8121310526428712, 0.8121310526428712, 0.8121310526428712, 0.8121310526428712, 0.8121310526428712, 0.8121310526428712, 0.8125313713905022, 0.8151574841052538, 0.8151574841052538, 0.8151574841052538, 0.8151574841052538, 0.8151574841052538, 0.8151574841052538, 0.8151574841052538, 0.8151574841052538, 0.8151574841052538, 0.8151574841052538, 0.8151574841052538, 0.8151574841052538, 0.8151574841052538, 0.8151574841052538, 0.8151574841052538, 0.8151574841052538, 0.8151574841052538, 0.8151574841052538, 0.8151574841052538, 0.8151574841052538, 0.8151574841052538, 0.8359679341570306, 0.8359679341570306, 0.8359679341570306, 0.8359679341570306, 0.8359679341570306, 0.8359679341570306, 0.8359679341570306, 0.8359679341570306, 0.8359679341570306, 0.8359679341570306, 0.8359679341570306, 0.8359679341570306, 0.8359679341570306, 0.8359679341570306, 0.8359679341570306, 0.8359679341570306, 0.8359679341570306, 0.8359679341570306, 0.8359679341570306, 0.8359679341570306, 0.8359679341570306, 0.8359679341570306, 0.8359679341570306, 0.8359679341570306, 0.8359679341570306, 0.8359679341570306, 0.8359679341570306, 0.8359679341570306, 0.8359679341570306, 0.8359679341570306, 0.8359679341570306, 0.8359679341570306, 0.8359679341570306, 0.8359679341570306, 0.8359679341570306, 0.8359679341570306, 0.8359679341570306, 0.8359679341570306, 0.8359679341570306, 0.8359679341570306, 0.8359679341570306, 0.8359679341570306, 0.8359679341570306, 0.8359679341570306, 0.8359679341570306, 0.8359679341570306, 0.8359679341570306, 0.8359679341570306, 0.8643024979567108, 0.8643024979567108]}], \"average_precision_score_macro\": [{\"categories\": [\"0\", \"1\", \"2\", \"3\", \"4\", \"5\", \"6\", \"7\", \"8\", \"9\", \"10\", \"11\", \"12\", \"13\", \"14\", \"15\", \"16\", \"17\", \"18\", \"19\", \"20\", \"21\", \"22\", \"23\", \"24\", \"25\", \"26\", \"27\", \"28\", \"29\", \"30\", \"31\", \"32\", \"33\", \"34\", \"35\", \"36\", \"37\", \"38\", \"39\", \"40\", \"41\", \"42\", \"43\", \"44\", \"45\", \"46\", \"47\", \"48\", \"49\", \"50\", \"51\", \"52\", \"53\", \"54\", \"55\", \"56\", \"57\", \"58\", \"59\", \"60\", \"61\", \"62\", \"63\", \"64\", \"65\", \"66\", \"67\", \"68\", \"69\", \"70\", \"71\", \"72\", \"73\", \"74\", \"75\", \"76\", \"77\", \"78\", \"79\", \"80\", \"81\", \"82\", \"83\", \"84\", \"85\", \"86\", \"87\", \"88\", \"89\", \"90\", \"91\", \"92\", \"93\"], \"mode\": \"markers\", \"name\": \"average_precision_score_macro\", \"stepped\": false, \"type\": \"scatter\", \"data\": [0.8353351223063431, 0.8575865520294755, 0.8786651692188284, 0.8720933801067877, 0.8870240869750257, 0.7242156987058844, 0.7213792979724287, 0.7231394060426676, 0.8123747616363858, 0.8641207870004816, 0.8789976971878607, 0.7880473463441952, 0.8738198217028613, 0.8684862572956881, 0.8776693621385266, 0.8728118113357217, 0.8726594828548615, 0.8803316701203991, 0.8663486211330138, 0.8519255473202372, 0.863744160783205, 0.8398631141538561, 0.866704361681841, 0.8956743082806392, 0.8472789379225946, 0.7621135088098515, 0.8795245868039512, 0.8482465780003592, 0.868568205839552, 0.8577584506157226, 0.872564739839128, 0.856488471798739, 0.855291697815769, 0.8549592754935099, 0.8474119097466053, 0.8870121440175639, 0.860140220557553, 0.8614719555263527, 0.8385923718188368, 0.8279895556668938, 0.8015445801379597, 0.8364399598988737, 0.5611830081398703, 0.8511488492181464, 0.8993930238015685, 0.6205890899949923, 0.8659844623132589, 0.8379658557004456, 0.8580498340558821, 0.8079091994713855, 0.8546550510718086, 0.8625075629061971, 0.8689777678345418, 0.8784918629737527, 0.8574460680643137, 0.8925076216084409, 0.8786766980232046, 0.8541493269825823, 0.8721235930698894, 0.8684633741596063, 0.76553373961169, 0.878757700818543, 0.8419316680951282, 0.8742135496629909, 0.8404903938909708, 0.8858843726186886, 0.8653759335602853, 0.8655054053004857, 0.8697628826373632, 0.8475146487302342, 0.891529713027277, 0.8753222178791485, 0.8565463380968626, 0.8559204085760984, 0.862010640665528, 0.8687436797598616, 0.8682240515513464, 0.8652274902337928, 0.8833832155437437, 0.8864087581197303, 0.8662115298073368, 0.8645524684972145, 0.8252926540151321, 0.8269505110203598, 0.8642599791863735, 0.8805548063074567, 0.8798900543301889, 0.8822819607153725, 0.8691344504655089, 0.8599342517484562, 0.8798260606869626, 0.8341199763484517, 0.8909225801185564, 0.8857364717507551]}, {\"categories\": [\"0\", \"1\", \"2\", \"3\", \"4\", \"5\", \"6\", \"7\", \"8\", \"9\", \"10\", \"11\", \"12\", \"13\", \"14\", \"15\", \"16\", \"17\", \"18\", \"19\", \"20\", \"21\", \"22\", \"23\", \"24\", \"25\", \"26\", \"27\", \"28\", \"29\", \"30\", \"31\", \"32\", \"33\", \"34\", \"35\", \"36\", \"37\", \"38\", \"39\", \"40\", \"41\", \"42\", \"43\", \"44\", \"45\", \"46\", \"47\", \"48\", \"49\", \"50\", \"51\", \"52\", \"53\", \"54\", \"55\", \"56\", \"57\", \"58\", \"59\", \"60\", \"61\", \"62\", \"63\", \"64\", \"65\", \"66\", \"67\", \"68\", \"69\", \"70\", \"71\", \"72\", \"73\", \"74\", \"75\", \"76\", \"77\", \"78\", \"79\", \"80\", \"81\", \"82\", \"83\", \"84\", \"85\", \"86\", \"87\", \"88\", \"89\", \"90\", \"91\", \"92\", \"93\"], \"mode\": \"lines\", \"name\": \"average_precision_score_macro_max\", \"stepped\": true, \"type\": \"scatter\", \"data\": [0.8353351223063431, 0.8575865520294755, 0.8786651692188284, 0.8786651692188284, 0.8870240869750257, 0.8870240869750257, 0.8870240869750257, 0.8870240869750257, 0.8870240869750257, 0.8870240869750257, 0.8870240869750257, 0.8870240869750257, 0.8870240869750257, 0.8870240869750257, 0.8870240869750257, 0.8870240869750257, 0.8870240869750257, 0.8870240869750257, 0.8870240869750257, 0.8870240869750257, 0.8870240869750257, 0.8870240869750257, 0.8870240869750257, 0.8956743082806392, 0.8956743082806392, 0.8956743082806392, 0.8956743082806392, 0.8956743082806392, 0.8956743082806392, 0.8956743082806392, 0.8956743082806392, 0.8956743082806392, 0.8956743082806392, 0.8956743082806392, 0.8956743082806392, 0.8956743082806392, 0.8956743082806392, 0.8956743082806392, 0.8956743082806392, 0.8956743082806392, 0.8956743082806392, 0.8956743082806392, 0.8956743082806392, 0.8956743082806392, 0.8993930238015685, 0.8993930238015685, 0.8993930238015685, 0.8993930238015685, 0.8993930238015685, 0.8993930238015685, 0.8993930238015685, 0.8993930238015685, 0.8993930238015685, 0.8993930238015685, 0.8993930238015685, 0.8993930238015685, 0.8993930238015685, 0.8993930238015685, 0.8993930238015685, 0.8993930238015685, 0.8993930238015685, 0.8993930238015685, 0.8993930238015685, 0.8993930238015685, 0.8993930238015685, 0.8993930238015685, 0.8993930238015685, 0.8993930238015685, 0.8993930238015685, 0.8993930238015685, 0.8993930238015685, 0.8993930238015685, 0.8993930238015685, 0.8993930238015685, 0.8993930238015685, 0.8993930238015685, 0.8993930238015685, 0.8993930238015685, 0.8993930238015685, 0.8993930238015685, 0.8993930238015685, 0.8993930238015685, 0.8993930238015685, 0.8993930238015685, 0.8993930238015685, 0.8993930238015685, 0.8993930238015685, 0.8993930238015685, 0.8993930238015685, 0.8993930238015685, 0.8993930238015685, 0.8993930238015685, 0.8993930238015685, 0.8993930238015685]}], \"recall_score_micro\": [{\"categories\": [\"0\", \"1\", \"2\", \"3\", \"4\", \"5\", \"6\", \"7\", \"8\", \"9\", \"10\", \"11\", \"12\", \"13\", \"14\", \"15\", \"16\", \"17\", \"18\", \"19\", \"20\", \"21\", \"22\", \"23\", \"24\", \"25\", \"26\", \"27\", \"28\", \"29\", \"30\", \"31\", \"32\", \"33\", \"34\", \"35\", \"36\", \"37\", \"38\", \"39\", \"40\", \"41\", \"42\", \"43\", \"44\", \"45\", \"46\", \"47\", \"48\", \"49\", \"50\", \"51\", \"52\", \"53\", \"54\", \"55\", \"56\", \"57\", \"58\", \"59\", \"60\", \"61\", \"62\", \"63\", \"64\", \"65\", \"66\", \"67\", \"68\", \"69\", \"70\", \"71\", \"72\", \"73\", \"74\", \"75\", \"76\", \"77\", \"78\", \"79\", \"80\", \"81\", \"82\", \"83\", \"84\", \"85\", \"86\", \"87\", \"88\", \"89\", \"90\", \"91\", \"92\", \"93\"], \"mode\": \"markers\", \"name\": \"recall_score_micro\", \"stepped\": false, \"type\": \"scatter\", \"data\": [0.792120864410021, 0.8280742015681776, 0.8360585197934595, 0.8480110919869955, 0.8079460699942628, 0.6956875119525723, 0.6956397016637981, 0.7036240198890802, 0.7679766685790782, 0.8200420730541212, 0.7918818129661503, 0.7678810480015299, 0.7116083381143623, 0.8077548288391663, 0.8399311531841652, 0.7960891183782751, 0.8479632816982215, 0.775865366226812, 0.8320424555364315, 0.8440428380187416, 0.8280263912794034, 0.7636737425894052, 0.8361063300822337, 0.8519315356664755, 0.8198986421877988, 0.6676706827309237, 0.8241059475999236, 0.8280742015681776, 0.8158347676419965, 0.7838974947408682, 0.7757697456492637, 0.8039778160260088, 0.8040734366035571, 0.7439759036144578, 0.7759131765155862, 0.7636737425894052, 0.8001529929240773, 0.8160260087970931, 0.7357525339453052, 0.7679288582903041, 0.6996557659208262, 0.8038343851596864, 0.6200994454006502, 0.812009944540065, 0.8482023331420923, 0.6444348823866896, 0.831899024670109, 0.775865366226812, 0.8480110919869958, 0.791786192388602, 0.8360107095046855, 0.8160738190858673, 0.8241059475999236, 0.8519315356664755, 0.8238190858672786, 0.755641614075349, 0.8280742015681776, 0.8079938802830369, 0.8520271562440237, 0.8481067125645438, 0.8319946452476573, 0.8321380761139797, 0.7677376171352076, 0.8480110919869958, 0.8160260087970932, 0.8198508318990246, 0.8160738190858673, 0.8280742015681776, 0.8280263912794034, 0.815978198508319, 0.8320424555364315, 0.8119143239625167, 0.8039778160260088, 0.8160738190858673, 0.8319946452476573, 0.7398164084911073, 0.8240103270223752, 0.8280263912794034, 0.8519315356664755, 0.8319946452476573, 0.8320424555364315, 0.8039778160260088, 0.7478007267163894, 0.7919296232549246, 0.8078982597054886, 0.7275769745649264, 0.8241537578886976, 0.8480110919869955, 0.7437368521705872, 0.819994262765347, 0.848154522853318, 0.7478963472939376, 0.8879804934021802, 0.8159303882195449]}, {\"categories\": [\"0\", \"1\", \"2\", \"3\", \"4\", \"5\", \"6\", \"7\", \"8\", \"9\", \"10\", \"11\", \"12\", \"13\", \"14\", \"15\", \"16\", \"17\", \"18\", \"19\", \"20\", \"21\", \"22\", \"23\", \"24\", \"25\", \"26\", \"27\", \"28\", \"29\", \"30\", \"31\", \"32\", \"33\", \"34\", \"35\", \"36\", \"37\", \"38\", \"39\", \"40\", \"41\", \"42\", \"43\", \"44\", \"45\", \"46\", \"47\", \"48\", \"49\", \"50\", \"51\", \"52\", \"53\", \"54\", \"55\", \"56\", \"57\", \"58\", \"59\", \"60\", \"61\", \"62\", \"63\", \"64\", \"65\", \"66\", \"67\", \"68\", \"69\", \"70\", \"71\", \"72\", \"73\", \"74\", \"75\", \"76\", \"77\", \"78\", \"79\", \"80\", \"81\", \"82\", \"83\", \"84\", \"85\", \"86\", \"87\", \"88\", \"89\", \"90\", \"91\", \"92\", \"93\"], \"mode\": \"lines\", \"name\": \"recall_score_micro_max\", \"stepped\": true, \"type\": \"scatter\", \"data\": [0.792120864410021, 0.8280742015681776, 0.8360585197934595, 0.8480110919869955, 0.8480110919869955, 0.8480110919869955, 0.8480110919869955, 0.8480110919869955, 0.8480110919869955, 0.8480110919869955, 0.8480110919869955, 0.8480110919869955, 0.8480110919869955, 0.8480110919869955, 0.8480110919869955, 0.8480110919869955, 0.8480110919869955, 0.8480110919869955, 0.8480110919869955, 0.8480110919869955, 0.8480110919869955, 0.8480110919869955, 0.8480110919869955, 0.8519315356664755, 0.8519315356664755, 0.8519315356664755, 0.8519315356664755, 0.8519315356664755, 0.8519315356664755, 0.8519315356664755, 0.8519315356664755, 0.8519315356664755, 0.8519315356664755, 0.8519315356664755, 0.8519315356664755, 0.8519315356664755, 0.8519315356664755, 0.8519315356664755, 0.8519315356664755, 0.8519315356664755, 0.8519315356664755, 0.8519315356664755, 0.8519315356664755, 0.8519315356664755, 0.8519315356664755, 0.8519315356664755, 0.8519315356664755, 0.8519315356664755, 0.8519315356664755, 0.8519315356664755, 0.8519315356664755, 0.8519315356664755, 0.8519315356664755, 0.8519315356664755, 0.8519315356664755, 0.8519315356664755, 0.8519315356664755, 0.8519315356664755, 0.8520271562440237, 0.8520271562440237, 0.8520271562440237, 0.8520271562440237, 0.8520271562440237, 0.8520271562440237, 0.8520271562440237, 0.8520271562440237, 0.8520271562440237, 0.8520271562440237, 0.8520271562440237, 0.8520271562440237, 0.8520271562440237, 0.8520271562440237, 0.8520271562440237, 0.8520271562440237, 0.8520271562440237, 0.8520271562440237, 0.8520271562440237, 0.8520271562440237, 0.8520271562440237, 0.8520271562440237, 0.8520271562440237, 0.8520271562440237, 0.8520271562440237, 0.8520271562440237, 0.8520271562440237, 0.8520271562440237, 0.8520271562440237, 0.8520271562440237, 0.8520271562440237, 0.8520271562440237, 0.8520271562440237, 0.8520271562440237, 0.8879804934021802, 0.8879804934021802]}], \"average_precision_score_weighted\": [{\"categories\": [\"0\", \"1\", \"2\", \"3\", \"4\", \"5\", \"6\", \"7\", \"8\", \"9\", \"10\", \"11\", \"12\", \"13\", \"14\", \"15\", \"16\", \"17\", \"18\", \"19\", \"20\", \"21\", \"22\", \"23\", \"24\", \"25\", \"26\", \"27\", \"28\", \"29\", \"30\", \"31\", \"32\", \"33\", \"34\", \"35\", \"36\", \"37\", \"38\", \"39\", \"40\", \"41\", \"42\", \"43\", \"44\", \"45\", \"46\", \"47\", \"48\", \"49\", \"50\", \"51\", \"52\", \"53\", \"54\", \"55\", \"56\", \"57\", \"58\", \"59\", \"60\", \"61\", \"62\", \"63\", \"64\", \"65\", \"66\", \"67\", \"68\", \"69\", \"70\", \"71\", \"72\", \"73\", \"74\", \"75\", \"76\", \"77\", \"78\", \"79\", \"80\", \"81\", \"82\", \"83\", \"84\", \"85\", \"86\", \"87\", \"88\", \"89\", \"90\", \"91\", \"92\", \"93\"], \"mode\": \"markers\", \"name\": \"average_precision_score_weighted\", \"stepped\": false, \"type\": \"scatter\", \"data\": [0.8790364922952804, 0.8996022528363511, 0.9073026169273689, 0.9086872500577498, 0.9183477705654414, 0.7785955923881334, 0.7741523737454218, 0.7753585002064854, 0.8593096416447886, 0.9052074891437755, 0.9123141774769858, 0.8295270200487751, 0.9099502558900833, 0.904710004956339, 0.9158107174665423, 0.909219264803128, 0.9080666226065662, 0.9161721777130502, 0.9075850425145365, 0.8946484929043796, 0.901741203749725, 0.8802871804410697, 0.9066774867429809, 0.9253240253852754, 0.8862827086441837, 0.8233491810696977, 0.9128030354231852, 0.8876388411088599, 0.9079203550054292, 0.8935096469544096, 0.908050074014063, 0.8981772118493018, 0.8975004964579124, 0.8944094940755698, 0.8824359713263795, 0.915363832702888, 0.9032237391071772, 0.9031633529380935, 0.8791721143950477, 0.868373950580119, 0.8394167006493817, 0.8779936427930912, 0.6293405051244344, 0.8964622792484164, 0.9287503255476729, 0.6956039713088593, 0.9041101334166083, 0.8859659047028908, 0.9003481232928682, 0.8532444553526671, 0.8938440951077534, 0.9056167693213825, 0.9095055802082946, 0.9109905019772335, 0.8946812512496504, 0.9241478353051059, 0.9146597790212123, 0.9007055946760464, 0.9110908497582328, 0.9109895164024561, 0.8178634005905714, 0.9159113226897615, 0.8865616306675236, 0.9125888287812259, 0.887260153246921, 0.9162289169767098, 0.9051157934994382, 0.9032177133370368, 0.9091847394841798, 0.8912211646249303, 0.9226550263948826, 0.911944087177182, 0.8993513084430931, 0.8991623902143049, 0.9029949083582293, 0.9035619951876125, 0.9084384090271858, 0.9060036918249074, 0.917110202787447, 0.9191777641743686, 0.9069635550583574, 0.9047432849177682, 0.8724276894432609, 0.8643766314408968, 0.9034830954955261, 0.9147539965516372, 0.9165101733694693, 0.9188286795732469, 0.9048128775662437, 0.9018324078143486, 0.9170701593368458, 0.8848596545081456, 0.9256192795568977, 0.9198692786545878]}, {\"categories\": [\"0\", \"1\", \"2\", \"3\", \"4\", \"5\", \"6\", \"7\", \"8\", \"9\", \"10\", \"11\", \"12\", \"13\", \"14\", \"15\", \"16\", \"17\", \"18\", \"19\", \"20\", \"21\", \"22\", \"23\", \"24\", \"25\", \"26\", \"27\", \"28\", \"29\", \"30\", \"31\", \"32\", \"33\", \"34\", \"35\", \"36\", \"37\", \"38\", \"39\", \"40\", \"41\", \"42\", \"43\", \"44\", \"45\", \"46\", \"47\", \"48\", \"49\", \"50\", \"51\", \"52\", \"53\", \"54\", \"55\", \"56\", \"57\", \"58\", \"59\", \"60\", \"61\", \"62\", \"63\", \"64\", \"65\", \"66\", \"67\", \"68\", \"69\", \"70\", \"71\", \"72\", \"73\", \"74\", \"75\", \"76\", \"77\", \"78\", \"79\", \"80\", \"81\", \"82\", \"83\", \"84\", \"85\", \"86\", \"87\", \"88\", \"89\", \"90\", \"91\", \"92\", \"93\"], \"mode\": \"lines\", \"name\": \"average_precision_score_weighted_max\", \"stepped\": true, \"type\": \"scatter\", \"data\": [0.8790364922952804, 0.8996022528363511, 0.9073026169273689, 0.9086872500577498, 0.9183477705654414, 0.9183477705654414, 0.9183477705654414, 0.9183477705654414, 0.9183477705654414, 0.9183477705654414, 0.9183477705654414, 0.9183477705654414, 0.9183477705654414, 0.9183477705654414, 0.9183477705654414, 0.9183477705654414, 0.9183477705654414, 0.9183477705654414, 0.9183477705654414, 0.9183477705654414, 0.9183477705654414, 0.9183477705654414, 0.9183477705654414, 0.9253240253852754, 0.9253240253852754, 0.9253240253852754, 0.9253240253852754, 0.9253240253852754, 0.9253240253852754, 0.9253240253852754, 0.9253240253852754, 0.9253240253852754, 0.9253240253852754, 0.9253240253852754, 0.9253240253852754, 0.9253240253852754, 0.9253240253852754, 0.9253240253852754, 0.9253240253852754, 0.9253240253852754, 0.9253240253852754, 0.9253240253852754, 0.9253240253852754, 0.9253240253852754, 0.9287503255476729, 0.9287503255476729, 0.9287503255476729, 0.9287503255476729, 0.9287503255476729, 0.9287503255476729, 0.9287503255476729, 0.9287503255476729, 0.9287503255476729, 0.9287503255476729, 0.9287503255476729, 0.9287503255476729, 0.9287503255476729, 0.9287503255476729, 0.9287503255476729, 0.9287503255476729, 0.9287503255476729, 0.9287503255476729, 0.9287503255476729, 0.9287503255476729, 0.9287503255476729, 0.9287503255476729, 0.9287503255476729, 0.9287503255476729, 0.9287503255476729, 0.9287503255476729, 0.9287503255476729, 0.9287503255476729, 0.9287503255476729, 0.9287503255476729, 0.9287503255476729, 0.9287503255476729, 0.9287503255476729, 0.9287503255476729, 0.9287503255476729, 0.9287503255476729, 0.9287503255476729, 0.9287503255476729, 0.9287503255476729, 0.9287503255476729, 0.9287503255476729, 0.9287503255476729, 0.9287503255476729, 0.9287503255476729, 0.9287503255476729, 0.9287503255476729, 0.9287503255476729, 0.9287503255476729, 0.9287503255476729, 0.9287503255476729]}], \"AUC_micro\": [{\"categories\": [\"0\", \"1\", \"2\", \"3\", \"4\", \"5\", \"6\", \"7\", \"8\", \"9\", \"10\", \"11\", \"12\", \"13\", \"14\", \"15\", \"16\", \"17\", \"18\", \"19\", \"20\", \"21\", \"22\", \"23\", \"24\", \"25\", \"26\", \"27\", \"28\", \"29\", \"30\", \"31\", \"32\", \"33\", \"34\", \"35\", \"36\", \"37\", \"38\", \"39\", \"40\", \"41\", \"42\", \"43\", \"44\", \"45\", \"46\", \"47\", \"48\", \"49\", \"50\", \"51\", \"52\", \"53\", \"54\", \"55\", \"56\", \"57\", \"58\", \"59\", \"60\", \"61\", \"62\", \"63\", \"64\", \"65\", \"66\", \"67\", \"68\", \"69\", \"70\", \"71\", \"72\", \"73\", \"74\", \"75\", \"76\", \"77\", \"78\", \"79\", \"80\", \"81\", \"82\", \"83\", \"84\", \"85\", \"86\", \"87\", \"88\", \"89\", \"90\", \"91\", \"92\", \"93\"], \"mode\": \"markers\", \"name\": \"AUC_micro\", \"stepped\": false, \"type\": \"scatter\", \"data\": [0.8720654000862614, 0.8915816943703015, 0.9143964219855132, 0.9081026246888491, 0.9092175123464653, 0.768665974720399, 0.7695366472583776, 0.7674495930612047, 0.8617428007799304, 0.8990377678788811, 0.8975286373480701, 0.8343355287390032, 0.8486521558188604, 0.8856725634883879, 0.9125066366605674, 0.8833159386720446, 0.9059504348020719, 0.8852579813557977, 0.9063463989005225, 0.898317993993294, 0.9018836938333341, 0.8435137635480313, 0.9011598946121891, 0.9201536838828691, 0.8858469215495427, 0.793044236613695, 0.9123113701699128, 0.8939025231873043, 0.8999290608325715, 0.881575464494922, 0.8650740162518775, 0.8929806047675114, 0.890000690684493, 0.8619237420133777, 0.8625839793345444, 0.8662135290883501, 0.8952899747502426, 0.8969302475590969, 0.8444456938756858, 0.8704629325157911, 0.80581565943582, 0.8685750089942591, 0.6398364953955648, 0.8962293591490241, 0.92349576844657, 0.6339152610770925, 0.90082034007132, 0.870062956796725, 0.905805275853023, 0.8536900587076334, 0.9052280756498661, 0.898554761899276, 0.9025573717979313, 0.9108171272089424, 0.8943297024943749, 0.8654742799847314, 0.9056280445114612, 0.8888637631146392, 0.9130675160824157, 0.9183462053552572, 0.8645423359421348, 0.912606844886307, 0.8685647022151387, 0.9104921653666548, 0.8937708185966278, 0.9003911652401482, 0.8982381113120076, 0.8952693611920018, 0.902838816128377, 0.8917720920564481, 0.9180232527520128, 0.9010831732250972, 0.8825457692310645, 0.9017316636982046, 0.9004598702434796, 0.8554333993076918, 0.9019126049316518, 0.9092155099648931, 0.9157897538299525, 0.9051564973661277, 0.9150175751499291, 0.9005105469551896, 0.8426459505755174, 0.8759288718955268, 0.8911433648151604, 0.8528646317642233, 0.9070424116486162, 0.9168991966554851, 0.8572471729938084, 0.9029980054633747, 0.9157092951210903, 0.8606659858020723, 0.925978653021506, 0.8975807472712476]}, {\"categories\": [\"0\", \"1\", \"2\", \"3\", \"4\", \"5\", \"6\", \"7\", \"8\", \"9\", \"10\", \"11\", \"12\", \"13\", \"14\", \"15\", \"16\", \"17\", \"18\", \"19\", \"20\", \"21\", \"22\", \"23\", \"24\", \"25\", \"26\", \"27\", \"28\", \"29\", \"30\", \"31\", \"32\", \"33\", \"34\", \"35\", \"36\", \"37\", \"38\", \"39\", \"40\", \"41\", \"42\", \"43\", \"44\", \"45\", \"46\", \"47\", \"48\", \"49\", \"50\", \"51\", \"52\", \"53\", \"54\", \"55\", \"56\", \"57\", \"58\", \"59\", \"60\", \"61\", \"62\", \"63\", \"64\", \"65\", \"66\", \"67\", \"68\", \"69\", \"70\", \"71\", \"72\", \"73\", \"74\", \"75\", \"76\", \"77\", \"78\", \"79\", \"80\", \"81\", \"82\", \"83\", \"84\", \"85\", \"86\", \"87\", \"88\", \"89\", \"90\", \"91\", \"92\", \"93\"], \"mode\": \"lines\", \"name\": \"AUC_micro_max\", \"stepped\": true, \"type\": \"scatter\", \"data\": [0.8720654000862614, 0.8915816943703015, 0.9143964219855132, 0.9143964219855132, 0.9143964219855132, 0.9143964219855132, 0.9143964219855132, 0.9143964219855132, 0.9143964219855132, 0.9143964219855132, 0.9143964219855132, 0.9143964219855132, 0.9143964219855132, 0.9143964219855132, 0.9143964219855132, 0.9143964219855132, 0.9143964219855132, 0.9143964219855132, 0.9143964219855132, 0.9143964219855132, 0.9143964219855132, 0.9143964219855132, 0.9143964219855132, 0.9201536838828691, 0.9201536838828691, 0.9201536838828691, 0.9201536838828691, 0.9201536838828691, 0.9201536838828691, 0.9201536838828691, 0.9201536838828691, 0.9201536838828691, 0.9201536838828691, 0.9201536838828691, 0.9201536838828691, 0.9201536838828691, 0.9201536838828691, 0.9201536838828691, 0.9201536838828691, 0.9201536838828691, 0.9201536838828691, 0.9201536838828691, 0.9201536838828691, 0.9201536838828691, 0.92349576844657, 0.92349576844657, 0.92349576844657, 0.92349576844657, 0.92349576844657, 0.92349576844657, 0.92349576844657, 0.92349576844657, 0.92349576844657, 0.92349576844657, 0.92349576844657, 0.92349576844657, 0.92349576844657, 0.92349576844657, 0.92349576844657, 0.92349576844657, 0.92349576844657, 0.92349576844657, 0.92349576844657, 0.92349576844657, 0.92349576844657, 0.92349576844657, 0.92349576844657, 0.92349576844657, 0.92349576844657, 0.92349576844657, 0.92349576844657, 0.92349576844657, 0.92349576844657, 0.92349576844657, 0.92349576844657, 0.92349576844657, 0.92349576844657, 0.92349576844657, 0.92349576844657, 0.92349576844657, 0.92349576844657, 0.92349576844657, 0.92349576844657, 0.92349576844657, 0.92349576844657, 0.92349576844657, 0.92349576844657, 0.92349576844657, 0.92349576844657, 0.92349576844657, 0.92349576844657, 0.92349576844657, 0.925978653021506, 0.925978653021506]}], \"AUC_macro\": [{\"categories\": [\"0\", \"1\", \"2\", \"3\", \"4\", \"5\", \"6\", \"7\", \"8\", \"9\", \"10\", \"11\", \"12\", \"13\", \"14\", \"15\", \"16\", \"17\", \"18\", \"19\", \"20\", \"21\", \"22\", \"23\", \"24\", \"25\", \"26\", \"27\", \"28\", \"29\", \"30\", \"31\", \"32\", \"33\", \"34\", \"35\", \"36\", \"37\", \"38\", \"39\", \"40\", \"41\", \"42\", \"43\", \"44\", \"45\", \"46\", \"47\", \"48\", \"49\", \"50\", \"51\", \"52\", \"53\", \"54\", \"55\", \"56\", \"57\", \"58\", \"59\", \"60\", \"61\", \"62\", \"63\", \"64\", \"65\", \"66\", \"67\", \"68\", \"69\", \"70\", \"71\", \"72\", \"73\", \"74\", \"75\", \"76\", \"77\", \"78\", \"79\", \"80\", \"81\", \"82\", \"83\", \"84\", \"85\", \"86\", \"87\", \"88\", \"89\", \"90\", \"91\", \"92\", \"93\"], \"mode\": \"markers\", \"name\": \"AUC_macro\", \"stepped\": false, \"type\": \"scatter\", \"data\": [0.8633068082739488, 0.8884683944139674, 0.8985099878615119, 0.8945863074078676, 0.9068179501943096, 0.7415420132914642, 0.7407089582778997, 0.7422206740753298, 0.8486686582914094, 0.8953012458168313, 0.9011855743220231, 0.8234116944181755, 0.8987695880117316, 0.8879556151813471, 0.908495895087947, 0.892246130215649, 0.8885783432753459, 0.9053095085673194, 0.8952364118717622, 0.8816928738490292, 0.8899044133031934, 0.8557111454534434, 0.8978310533204965, 0.9177271900761906, 0.8651275851963905, 0.7921076494846986, 0.9079263003313981, 0.8664128315713197, 0.8977260473693129, 0.887196395352723, 0.8951222094049736, 0.892141622441352, 0.8859746442634994, 0.8737349581689035, 0.8709240567583887, 0.9003396044765433, 0.8938521383232092, 0.894713282916086, 0.8629712161734293, 0.8583304077993908, 0.8138815586809978, 0.8633499069055409, 0.5517600438769402, 0.8923393521658868, 0.9193462867881473, 0.668918559906932, 0.8873501272385683, 0.8887798474211251, 0.8897890726921464, 0.8340809957638199, 0.891372023745669, 0.8964073825378583, 0.8994837544866593, 0.9004765094665791, 0.8771081602579068, 0.9153502958066072, 0.9073538132235915, 0.9004699055665325, 0.9064239130162374, 0.9113582922049236, 0.8344550085014474, 0.9083234994700419, 0.8831905044699827, 0.9004940864657112, 0.8810286670715478, 0.905781829811476, 0.8947458074048855, 0.8903720537148727, 0.900923340514503, 0.8819863542845224, 0.9135489329378551, 0.903650933847637, 0.8884192949557944, 0.8926852207474179, 0.8936775020008504, 0.8898489857760413, 0.9009829949044407, 0.894775038512217, 0.9070567827865904, 0.9085731114138245, 0.8972296966219773, 0.8956381157781772, 0.847959354498804, 0.8536329989339538, 0.8891749133715802, 0.9032175849027236, 0.905683183911267, 0.9128822096248527, 0.8964567941752373, 0.8969827770601149, 0.9104972475967156, 0.8791926320083828, 0.9205561442862426, 0.9116641721583355]}, {\"categories\": [\"0\", \"1\", \"2\", \"3\", \"4\", \"5\", \"6\", \"7\", \"8\", \"9\", \"10\", \"11\", \"12\", \"13\", \"14\", \"15\", \"16\", \"17\", \"18\", \"19\", \"20\", \"21\", \"22\", \"23\", \"24\", \"25\", \"26\", \"27\", \"28\", \"29\", \"30\", \"31\", \"32\", \"33\", \"34\", \"35\", \"36\", \"37\", \"38\", \"39\", \"40\", \"41\", \"42\", \"43\", \"44\", \"45\", \"46\", \"47\", \"48\", \"49\", \"50\", \"51\", \"52\", \"53\", \"54\", \"55\", \"56\", \"57\", \"58\", \"59\", \"60\", \"61\", \"62\", \"63\", \"64\", \"65\", \"66\", \"67\", \"68\", \"69\", \"70\", \"71\", \"72\", \"73\", \"74\", \"75\", \"76\", \"77\", \"78\", \"79\", \"80\", \"81\", \"82\", \"83\", \"84\", \"85\", \"86\", \"87\", \"88\", \"89\", \"90\", \"91\", \"92\", \"93\"], \"mode\": \"lines\", \"name\": \"AUC_macro_max\", \"stepped\": true, \"type\": \"scatter\", \"data\": [0.8633068082739488, 0.8884683944139674, 0.8985099878615119, 0.8985099878615119, 0.9068179501943096, 0.9068179501943096, 0.9068179501943096, 0.9068179501943096, 0.9068179501943096, 0.9068179501943096, 0.9068179501943096, 0.9068179501943096, 0.9068179501943096, 0.9068179501943096, 0.908495895087947, 0.908495895087947, 0.908495895087947, 0.908495895087947, 0.908495895087947, 0.908495895087947, 0.908495895087947, 0.908495895087947, 0.908495895087947, 0.9177271900761906, 0.9177271900761906, 0.9177271900761906, 0.9177271900761906, 0.9177271900761906, 0.9177271900761906, 0.9177271900761906, 0.9177271900761906, 0.9177271900761906, 0.9177271900761906, 0.9177271900761906, 0.9177271900761906, 0.9177271900761906, 0.9177271900761906, 0.9177271900761906, 0.9177271900761906, 0.9177271900761906, 0.9177271900761906, 0.9177271900761906, 0.9177271900761906, 0.9177271900761906, 0.9193462867881473, 0.9193462867881473, 0.9193462867881473, 0.9193462867881473, 0.9193462867881473, 0.9193462867881473, 0.9193462867881473, 0.9193462867881473, 0.9193462867881473, 0.9193462867881473, 0.9193462867881473, 0.9193462867881473, 0.9193462867881473, 0.9193462867881473, 0.9193462867881473, 0.9193462867881473, 0.9193462867881473, 0.9193462867881473, 0.9193462867881473, 0.9193462867881473, 0.9193462867881473, 0.9193462867881473, 0.9193462867881473, 0.9193462867881473, 0.9193462867881473, 0.9193462867881473, 0.9193462867881473, 0.9193462867881473, 0.9193462867881473, 0.9193462867881473, 0.9193462867881473, 0.9193462867881473, 0.9193462867881473, 0.9193462867881473, 0.9193462867881473, 0.9193462867881473, 0.9193462867881473, 0.9193462867881473, 0.9193462867881473, 0.9193462867881473, 0.9193462867881473, 0.9193462867881473, 0.9193462867881473, 0.9193462867881473, 0.9193462867881473, 0.9193462867881473, 0.9193462867881473, 0.9193462867881473, 0.9205561442862426, 0.9205561442862426]}], \"balanced_accuracy\": [{\"categories\": [\"0\", \"1\", \"2\", \"3\", \"4\", \"5\", \"6\", \"7\", \"8\", \"9\", \"10\", \"11\", \"12\", \"13\", \"14\", \"15\", \"16\", \"17\", \"18\", \"19\", \"20\", \"21\", \"22\", \"23\", \"24\", \"25\", \"26\", \"27\", \"28\", \"29\", \"30\", \"31\", \"32\", \"33\", \"34\", \"35\", \"36\", \"37\", \"38\", \"39\", \"40\", \"41\", \"42\", \"43\", \"44\", \"45\", \"46\", \"47\", \"48\", \"49\", \"50\", \"51\", \"52\", \"53\", \"54\", \"55\", \"56\", \"57\", \"58\", \"59\", \"60\", \"61\", \"62\", \"63\", \"64\", \"65\", \"66\", \"67\", \"68\", \"69\", \"70\", \"71\", \"72\", \"73\", \"74\", \"75\", \"76\", \"77\", \"78\", \"79\", \"80\", \"81\", \"82\", \"83\", \"84\", \"85\", \"86\", \"87\", \"88\", \"89\", \"90\", \"91\", \"92\", \"93\"], \"mode\": \"markers\", \"name\": \"balanced_accuracy\", \"stepped\": false, \"type\": \"scatter\", \"data\": [0.7624684979526765, 0.8054756738086896, 0.8121310526428712, 0.7930259147948817, 0.7687245322348257, 0.6507421559604175, 0.6433485912994109, 0.6608766783900218, 0.7234546988502384, 0.7974330381497747, 0.7493450150617517, 0.7176362686465622, 0.6155406524258983, 0.7486076177603055, 0.8003220690649208, 0.7388386479026967, 0.8014824827253344, 0.72545825931739, 0.7954077107146112, 0.795357836484409, 0.7782376691593238, 0.691690815256389, 0.8125313713905022, 0.8151574841052538, 0.7823698493017975, 0.5, 0.8052934808939384, 0.7899345125088549, 0.7777434333715308, 0.7306320425172884, 0.7177292046144504, 0.7717755776085933, 0.7746611151729338, 0.6718412934053423, 0.7465102823709381, 0.6984170353022812, 0.7602427039855556, 0.7795248107676626, 0.6521963388766667, 0.6976740037119372, 0.6485029845685584, 0.7315175129652828, 0.5387192413212237, 0.7828217614483339, 0.8359679341570306, 0.6460670944325156, 0.7741410551789888, 0.7145855510609609, 0.7945942482208208, 0.7693249507584238, 0.7996444300676097, 0.790930956442775, 0.7975391658721814, 0.8130260289476835, 0.7642865578244914, 0.6742106860959319, 0.8057663714831079, 0.7488138606991065, 0.8232412766629312, 0.814944018365673, 0.7722250210288716, 0.8055818015310962, 0.7041048659901118, 0.8142818977311924, 0.782457703406998, 0.7676290893980561, 0.7723458785887303, 0.8034598522303441, 0.8081017865234411, 0.7865182423512579, 0.7834561026087904, 0.7636157198585716, 0.7596252336006435, 0.7796107600339397, 0.7956124591227528, 0.6386948130800589, 0.8016697575027733, 0.779672095388832, 0.8161444221823558, 0.8034404622995931, 0.7852731882850068, 0.7740820968613572, 0.6698945938700036, 0.7584637036266849, 0.7459054398532096, 0.6624381993234452, 0.8006515466008413, 0.8224837009053555, 0.6609831728684187, 0.7922120855451013, 0.8251652785869332, 0.7061460900052209, 0.8643024979567108, 0.7930517390010338]}, {\"categories\": [\"0\", \"1\", \"2\", \"3\", \"4\", \"5\", \"6\", \"7\", \"8\", \"9\", \"10\", \"11\", \"12\", \"13\", \"14\", \"15\", \"16\", \"17\", \"18\", \"19\", \"20\", \"21\", \"22\", \"23\", \"24\", \"25\", \"26\", \"27\", \"28\", \"29\", \"30\", \"31\", \"32\", \"33\", \"34\", \"35\", \"36\", \"37\", \"38\", \"39\", \"40\", \"41\", \"42\", \"43\", \"44\", \"45\", \"46\", \"47\", \"48\", \"49\", \"50\", \"51\", \"52\", \"53\", \"54\", \"55\", \"56\", \"57\", \"58\", \"59\", \"60\", \"61\", \"62\", \"63\", \"64\", \"65\", \"66\", \"67\", \"68\", \"69\", \"70\", \"71\", \"72\", \"73\", \"74\", \"75\", \"76\", \"77\", \"78\", \"79\", \"80\", \"81\", \"82\", \"83\", \"84\", \"85\", \"86\", \"87\", \"88\", \"89\", \"90\", \"91\", \"92\", \"93\"], \"mode\": \"lines\", \"name\": \"balanced_accuracy_max\", \"stepped\": true, \"type\": \"scatter\", \"data\": [0.7624684979526765, 0.8054756738086896, 0.8121310526428712, 0.8121310526428712, 0.8121310526428712, 0.8121310526428712, 0.8121310526428712, 0.8121310526428712, 0.8121310526428712, 0.8121310526428712, 0.8121310526428712, 0.8121310526428712, 0.8121310526428712, 0.8121310526428712, 0.8121310526428712, 0.8121310526428712, 0.8121310526428712, 0.8121310526428712, 0.8121310526428712, 0.8121310526428712, 0.8121310526428712, 0.8121310526428712, 0.8125313713905022, 0.8151574841052538, 0.8151574841052538, 0.8151574841052538, 0.8151574841052538, 0.8151574841052538, 0.8151574841052538, 0.8151574841052538, 0.8151574841052538, 0.8151574841052538, 0.8151574841052538, 0.8151574841052538, 0.8151574841052538, 0.8151574841052538, 0.8151574841052538, 0.8151574841052538, 0.8151574841052538, 0.8151574841052538, 0.8151574841052538, 0.8151574841052538, 0.8151574841052538, 0.8151574841052538, 0.8359679341570306, 0.8359679341570306, 0.8359679341570306, 0.8359679341570306, 0.8359679341570306, 0.8359679341570306, 0.8359679341570306, 0.8359679341570306, 0.8359679341570306, 0.8359679341570306, 0.8359679341570306, 0.8359679341570306, 0.8359679341570306, 0.8359679341570306, 0.8359679341570306, 0.8359679341570306, 0.8359679341570306, 0.8359679341570306, 0.8359679341570306, 0.8359679341570306, 0.8359679341570306, 0.8359679341570306, 0.8359679341570306, 0.8359679341570306, 0.8359679341570306, 0.8359679341570306, 0.8359679341570306, 0.8359679341570306, 0.8359679341570306, 0.8359679341570306, 0.8359679341570306, 0.8359679341570306, 0.8359679341570306, 0.8359679341570306, 0.8359679341570306, 0.8359679341570306, 0.8359679341570306, 0.8359679341570306, 0.8359679341570306, 0.8359679341570306, 0.8359679341570306, 0.8359679341570306, 0.8359679341570306, 0.8359679341570306, 0.8359679341570306, 0.8359679341570306, 0.8359679341570306, 0.8359679341570306, 0.8643024979567108, 0.8643024979567108]}], \"precision_score_weighted\": [{\"categories\": [\"0\", \"1\", \"2\", \"3\", \"4\", \"5\", \"6\", \"7\", \"8\", \"9\", \"10\", \"11\", \"12\", \"13\", \"14\", \"15\", \"16\", \"17\", \"18\", \"19\", \"20\", \"21\", \"22\", \"23\", \"24\", \"25\", \"26\", \"27\", \"28\", \"29\", \"30\", \"31\", \"32\", \"33\", \"34\", \"35\", \"36\", \"37\", \"38\", \"39\", \"40\", \"41\", \"42\", \"43\", \"44\", \"45\", \"46\", \"47\", \"48\", \"49\", \"50\", \"51\", \"52\", \"53\", \"54\", \"55\", \"56\", \"57\", \"58\", \"59\", \"60\", \"61\", \"62\", \"63\", \"64\", \"65\", \"66\", \"67\", \"68\", \"69\", \"70\", \"71\", \"72\", \"73\", \"74\", \"75\", \"76\", \"77\", \"78\", \"79\", \"80\", \"81\", \"82\", \"83\", \"84\", \"85\", \"86\", \"87\", \"88\", \"89\", \"90\", \"91\", \"92\", \"93\"], \"mode\": \"markers\", \"name\": \"precision_score_weighted\", \"stepped\": false, \"type\": \"scatter\", \"data\": [0.8023097746178168, 0.8409998834259543, 0.8434925939268227, 0.8531596819860529, 0.8151598362208042, 0.7227244189791748, 0.7672347237273609, 0.7303593754427015, 0.7780222742823145, 0.8324968888172467, 0.8026795435646635, 0.7797215569672172, 0.621941313260164, 0.8265187326172674, 0.8458550639242555, 0.810450420316467, 0.8514237660115654, 0.803568012505254, 0.8348342320046935, 0.8434577394011266, 0.8282094595170428, 0.8075312947697221, 0.8522658034407425, 0.8575166702037545, 0.8219575062859956, 0.4570117820680311, 0.8370655733587902, 0.8291102297388311, 0.8283668219871171, 0.8219620393132744, 0.8183534007724832, 0.8193497668057645, 0.8159373348940969, 0.7724212798571958, 0.8182575099333859, 0.8148797851547983, 0.814072402585814, 0.8285627143227331, 0.7845477693710441, 0.7756206529144558, 0.6162848261814293, 0.8145842290120169, 0.6344667745461225, 0.8259369850735313, 0.8611403025963708, 0.7155350751656308, 0.8357207583134499, 0.8097400092535193, 0.8463119870649591, 0.8042409674194805, 0.8395634069936687, 0.8272616397193105, 0.8357618460493811, 0.8522215253236504, 0.8327692808055046, 0.8136759583033811, 0.8387526359202537, 0.8275623622685426, 0.856011132239205, 0.8505854592712896, 0.8295474235153494, 0.8442648406580889, 0.8139585288648865, 0.8550718571922363, 0.8293750639446946, 0.8383167390880351, 0.8243455200202393, 0.8488014273567351, 0.8411041365034758, 0.8287660916992793, 0.8388675807112879, 0.8229693930689708, 0.8273185054118644, 0.8245511373459573, 0.8350871459569665, 0.7912706329692352, 0.8385340117098252, 0.8279278403938334, 0.8559315358740883, 0.8478817167922205, 0.831323128009875, 0.8112003432321995, 0.7801264442830708, 0.7979155548677377, 0.8171833875981996, 0.6410603011959999, 0.8404631748105755, 0.8537467245090843, 0.7978647448689281, 0.8326830435426108, 0.8556667470890836, 0.7889805916317499, 0.8905626696143601, 0.8386337094879147]}, {\"categories\": [\"0\", \"1\", \"2\", \"3\", \"4\", \"5\", \"6\", \"7\", \"8\", \"9\", \"10\", \"11\", \"12\", \"13\", \"14\", \"15\", \"16\", \"17\", \"18\", \"19\", \"20\", \"21\", \"22\", \"23\", \"24\", \"25\", \"26\", \"27\", \"28\", \"29\", \"30\", \"31\", \"32\", \"33\", \"34\", \"35\", \"36\", \"37\", \"38\", \"39\", \"40\", \"41\", \"42\", \"43\", \"44\", \"45\", \"46\", \"47\", \"48\", \"49\", \"50\", \"51\", \"52\", \"53\", \"54\", \"55\", \"56\", \"57\", \"58\", \"59\", \"60\", \"61\", \"62\", \"63\", \"64\", \"65\", \"66\", \"67\", \"68\", \"69\", \"70\", \"71\", \"72\", \"73\", \"74\", \"75\", \"76\", \"77\", \"78\", \"79\", \"80\", \"81\", \"82\", \"83\", \"84\", \"85\", \"86\", \"87\", \"88\", \"89\", \"90\", \"91\", \"92\", \"93\"], \"mode\": \"lines\", \"name\": \"precision_score_weighted_max\", \"stepped\": true, \"type\": \"scatter\", \"data\": [0.8023097746178168, 0.8409998834259543, 0.8434925939268227, 0.8531596819860529, 0.8531596819860529, 0.8531596819860529, 0.8531596819860529, 0.8531596819860529, 0.8531596819860529, 0.8531596819860529, 0.8531596819860529, 0.8531596819860529, 0.8531596819860529, 0.8531596819860529, 0.8531596819860529, 0.8531596819860529, 0.8531596819860529, 0.8531596819860529, 0.8531596819860529, 0.8531596819860529, 0.8531596819860529, 0.8531596819860529, 0.8531596819860529, 0.8575166702037545, 0.8575166702037545, 0.8575166702037545, 0.8575166702037545, 0.8575166702037545, 0.8575166702037545, 0.8575166702037545, 0.8575166702037545, 0.8575166702037545, 0.8575166702037545, 0.8575166702037545, 0.8575166702037545, 0.8575166702037545, 0.8575166702037545, 0.8575166702037545, 0.8575166702037545, 0.8575166702037545, 0.8575166702037545, 0.8575166702037545, 0.8575166702037545, 0.8575166702037545, 0.8611403025963708, 0.8611403025963708, 0.8611403025963708, 0.8611403025963708, 0.8611403025963708, 0.8611403025963708, 0.8611403025963708, 0.8611403025963708, 0.8611403025963708, 0.8611403025963708, 0.8611403025963708, 0.8611403025963708, 0.8611403025963708, 0.8611403025963708, 0.8611403025963708, 0.8611403025963708, 0.8611403025963708, 0.8611403025963708, 0.8611403025963708, 0.8611403025963708, 0.8611403025963708, 0.8611403025963708, 0.8611403025963708, 0.8611403025963708, 0.8611403025963708, 0.8611403025963708, 0.8611403025963708, 0.8611403025963708, 0.8611403025963708, 0.8611403025963708, 0.8611403025963708, 0.8611403025963708, 0.8611403025963708, 0.8611403025963708, 0.8611403025963708, 0.8611403025963708, 0.8611403025963708, 0.8611403025963708, 0.8611403025963708, 0.8611403025963708, 0.8611403025963708, 0.8611403025963708, 0.8611403025963708, 0.8611403025963708, 0.8611403025963708, 0.8611403025963708, 0.8611403025963708, 0.8611403025963708, 0.8905626696143601, 0.8905626696143601]}], \"recall_score_weighted\": [{\"categories\": [\"0\", \"1\", \"2\", \"3\", \"4\", \"5\", \"6\", \"7\", \"8\", \"9\", \"10\", \"11\", \"12\", \"13\", \"14\", \"15\", \"16\", \"17\", \"18\", \"19\", \"20\", \"21\", \"22\", \"23\", \"24\", \"25\", \"26\", \"27\", \"28\", \"29\", \"30\", \"31\", \"32\", \"33\", \"34\", \"35\", \"36\", \"37\", \"38\", \"39\", \"40\", \"41\", \"42\", \"43\", \"44\", \"45\", \"46\", \"47\", \"48\", \"49\", \"50\", \"51\", \"52\", \"53\", \"54\", \"55\", \"56\", \"57\", \"58\", \"59\", \"60\", \"61\", \"62\", \"63\", \"64\", \"65\", \"66\", \"67\", \"68\", \"69\", \"70\", \"71\", \"72\", \"73\", \"74\", \"75\", \"76\", \"77\", \"78\", \"79\", \"80\", \"81\", \"82\", \"83\", \"84\", \"85\", \"86\", \"87\", \"88\", \"89\", \"90\", \"91\", \"92\", \"93\"], \"mode\": \"markers\", \"name\": \"recall_score_weighted\", \"stepped\": false, \"type\": \"scatter\", \"data\": [0.792120864410021, 0.8280742015681776, 0.8360585197934595, 0.8480110919869955, 0.8079460699942628, 0.6956875119525723, 0.6956397016637981, 0.7036240198890802, 0.7679766685790782, 0.8200420730541212, 0.7918818129661503, 0.7678810480015299, 0.7116083381143623, 0.8077548288391663, 0.8399311531841652, 0.7960891183782751, 0.8479632816982215, 0.775865366226812, 0.8320424555364315, 0.8440428380187416, 0.8280263912794034, 0.7636737425894052, 0.8361063300822337, 0.8519315356664755, 0.8198986421877988, 0.6676706827309237, 0.8241059475999236, 0.8280742015681776, 0.8158347676419965, 0.7838974947408682, 0.7757697456492637, 0.8039778160260088, 0.8040734366035571, 0.7439759036144578, 0.7759131765155862, 0.7636737425894052, 0.8001529929240773, 0.8160260087970931, 0.7357525339453052, 0.7679288582903041, 0.6996557659208262, 0.8038343851596864, 0.6200994454006502, 0.812009944540065, 0.8482023331420923, 0.6444348823866896, 0.831899024670109, 0.775865366226812, 0.8480110919869958, 0.791786192388602, 0.8360107095046855, 0.8160738190858673, 0.8241059475999236, 0.8519315356664755, 0.8238190858672786, 0.755641614075349, 0.8280742015681776, 0.8079938802830369, 0.8520271562440237, 0.8481067125645438, 0.8319946452476573, 0.8321380761139797, 0.7677376171352076, 0.8480110919869958, 0.8160260087970932, 0.8198508318990246, 0.8160738190858673, 0.8280742015681776, 0.8280263912794034, 0.815978198508319, 0.8320424555364315, 0.8119143239625167, 0.8039778160260088, 0.8160738190858673, 0.8319946452476573, 0.7398164084911073, 0.8240103270223752, 0.8280263912794034, 0.8519315356664755, 0.8319946452476573, 0.8320424555364315, 0.8039778160260088, 0.7478007267163894, 0.7919296232549246, 0.8078982597054886, 0.7275769745649264, 0.8241537578886976, 0.8480110919869955, 0.7437368521705872, 0.819994262765347, 0.848154522853318, 0.7478963472939376, 0.8879804934021802, 0.8159303882195449]}, {\"categories\": [\"0\", \"1\", \"2\", \"3\", \"4\", \"5\", \"6\", \"7\", \"8\", \"9\", \"10\", \"11\", \"12\", \"13\", \"14\", \"15\", \"16\", \"17\", \"18\", \"19\", \"20\", \"21\", \"22\", \"23\", \"24\", \"25\", \"26\", \"27\", \"28\", \"29\", \"30\", \"31\", \"32\", \"33\", \"34\", \"35\", \"36\", \"37\", \"38\", \"39\", \"40\", \"41\", \"42\", \"43\", \"44\", \"45\", \"46\", \"47\", \"48\", \"49\", \"50\", \"51\", \"52\", \"53\", \"54\", \"55\", \"56\", \"57\", \"58\", \"59\", \"60\", \"61\", \"62\", \"63\", \"64\", \"65\", \"66\", \"67\", \"68\", \"69\", \"70\", \"71\", \"72\", \"73\", \"74\", \"75\", \"76\", \"77\", \"78\", \"79\", \"80\", \"81\", \"82\", \"83\", \"84\", \"85\", \"86\", \"87\", \"88\", \"89\", \"90\", \"91\", \"92\", \"93\"], \"mode\": \"lines\", \"name\": \"recall_score_weighted_max\", \"stepped\": true, \"type\": \"scatter\", \"data\": [0.792120864410021, 0.8280742015681776, 0.8360585197934595, 0.8480110919869955, 0.8480110919869955, 0.8480110919869955, 0.8480110919869955, 0.8480110919869955, 0.8480110919869955, 0.8480110919869955, 0.8480110919869955, 0.8480110919869955, 0.8480110919869955, 0.8480110919869955, 0.8480110919869955, 0.8480110919869955, 0.8480110919869955, 0.8480110919869955, 0.8480110919869955, 0.8480110919869955, 0.8480110919869955, 0.8480110919869955, 0.8480110919869955, 0.8519315356664755, 0.8519315356664755, 0.8519315356664755, 0.8519315356664755, 0.8519315356664755, 0.8519315356664755, 0.8519315356664755, 0.8519315356664755, 0.8519315356664755, 0.8519315356664755, 0.8519315356664755, 0.8519315356664755, 0.8519315356664755, 0.8519315356664755, 0.8519315356664755, 0.8519315356664755, 0.8519315356664755, 0.8519315356664755, 0.8519315356664755, 0.8519315356664755, 0.8519315356664755, 0.8519315356664755, 0.8519315356664755, 0.8519315356664755, 0.8519315356664755, 0.8519315356664755, 0.8519315356664755, 0.8519315356664755, 0.8519315356664755, 0.8519315356664755, 0.8519315356664755, 0.8519315356664755, 0.8519315356664755, 0.8519315356664755, 0.8519315356664755, 0.8520271562440237, 0.8520271562440237, 0.8520271562440237, 0.8520271562440237, 0.8520271562440237, 0.8520271562440237, 0.8520271562440237, 0.8520271562440237, 0.8520271562440237, 0.8520271562440237, 0.8520271562440237, 0.8520271562440237, 0.8520271562440237, 0.8520271562440237, 0.8520271562440237, 0.8520271562440237, 0.8520271562440237, 0.8520271562440237, 0.8520271562440237, 0.8520271562440237, 0.8520271562440237, 0.8520271562440237, 0.8520271562440237, 0.8520271562440237, 0.8520271562440237, 0.8520271562440237, 0.8520271562440237, 0.8520271562440237, 0.8520271562440237, 0.8520271562440237, 0.8520271562440237, 0.8520271562440237, 0.8520271562440237, 0.8520271562440237, 0.8879804934021802, 0.8879804934021802]}], \"AUC_weighted\": [{\"categories\": [\"0\", \"1\", \"2\", \"3\", \"4\", \"5\", \"6\", \"7\", \"8\", \"9\", \"10\", \"11\", \"12\", \"13\", \"14\", \"15\", \"16\", \"17\", \"18\", \"19\", \"20\", \"21\", \"22\", \"23\", \"24\", \"25\", \"26\", \"27\", \"28\", \"29\", \"30\", \"31\", \"32\", \"33\", \"34\", \"35\", \"36\", \"37\", \"38\", \"39\", \"40\", \"41\", \"42\", \"43\", \"44\", \"45\", \"46\", \"47\", \"48\", \"49\", \"50\", \"51\", \"52\", \"53\", \"54\", \"55\", \"56\", \"57\", \"58\", \"59\", \"60\", \"61\", \"62\", \"63\", \"64\", \"65\", \"66\", \"67\", \"68\", \"69\", \"70\", \"71\", \"72\", \"73\", \"74\", \"75\", \"76\", \"77\", \"78\", \"79\", \"80\", \"81\", \"82\", \"83\", \"84\", \"85\", \"86\", \"87\", \"88\", \"89\", \"90\", \"91\", \"92\", \"93\"], \"mode\": \"markers\", \"name\": \"AUC_weighted\", \"stepped\": false, \"type\": \"scatter\", \"data\": [0.8633068082739488, 0.8884683944139674, 0.8985099878615119, 0.8945863074078675, 0.9068179501943096, 0.7415420132914642, 0.7407089582778997, 0.7422206740753298, 0.8486686582914094, 0.8953012458168313, 0.9011855743220231, 0.8234081920365561, 0.8987695880117318, 0.8879556151813471, 0.908495895087947, 0.892246130215649, 0.8885783432753459, 0.9053095085673194, 0.8952364118717622, 0.8816928738490292, 0.8899044133031934, 0.8557111454534434, 0.8978310533204965, 0.9177271900761906, 0.8651275851963905, 0.7921076494846987, 0.9079263003313981, 0.8664128315713197, 0.8977260473693128, 0.8871963953527232, 0.8951222094049736, 0.892141622441352, 0.8859746442634994, 0.8737349581689032, 0.8709240567583886, 0.9003396044765433, 0.8938521383232092, 0.894713282916086, 0.8629712161734292, 0.8583304077993911, 0.8138815586809978, 0.8633499069055411, 0.5517600438769402, 0.8923393521658868, 0.9193462867881471, 0.668918559906932, 0.8873501272385682, 0.8887798474211251, 0.8897890726921464, 0.8340809957638199, 0.8913755261272884, 0.8964073825378583, 0.8994837544866593, 0.900476509466579, 0.8771081602579068, 0.9153502958066072, 0.9073538132235915, 0.9004699055665325, 0.9064239130162374, 0.9113582922049236, 0.8344550085014476, 0.908323499470042, 0.8831905044699827, 0.9004940864657112, 0.8810286670715478, 0.905781829811476, 0.8947458074048855, 0.8903720537148726, 0.900923340514503, 0.8819863542845224, 0.913548932937855, 0.903650933847637, 0.8884192949557943, 0.8926852207474179, 0.8936775020008505, 0.8898489857760413, 0.9009829949044407, 0.894775038512217, 0.9070567827865905, 0.9085731114138246, 0.8972296966219773, 0.8956381157781772, 0.847959354498804, 0.8536329989339538, 0.8891749133715802, 0.9032175849027236, 0.905683183911267, 0.9128822096248524, 0.8964567941752373, 0.896982777060115, 0.9104972475967156, 0.8791926320083828, 0.9205561442862426, 0.9116641721583356]}, {\"categories\": [\"0\", \"1\", \"2\", \"3\", \"4\", \"5\", \"6\", \"7\", \"8\", \"9\", \"10\", \"11\", \"12\", \"13\", \"14\", \"15\", \"16\", \"17\", \"18\", \"19\", \"20\", \"21\", \"22\", \"23\", \"24\", \"25\", \"26\", \"27\", \"28\", \"29\", \"30\", \"31\", \"32\", \"33\", \"34\", \"35\", \"36\", \"37\", \"38\", \"39\", \"40\", \"41\", \"42\", \"43\", \"44\", \"45\", \"46\", \"47\", \"48\", \"49\", \"50\", \"51\", \"52\", \"53\", \"54\", \"55\", \"56\", \"57\", \"58\", \"59\", \"60\", \"61\", \"62\", \"63\", \"64\", \"65\", \"66\", \"67\", \"68\", \"69\", \"70\", \"71\", \"72\", \"73\", \"74\", \"75\", \"76\", \"77\", \"78\", \"79\", \"80\", \"81\", \"82\", \"83\", \"84\", \"85\", \"86\", \"87\", \"88\", \"89\", \"90\", \"91\", \"92\", \"93\"], \"mode\": \"lines\", \"name\": \"AUC_weighted_max\", \"stepped\": true, \"type\": \"scatter\", \"data\": [0.8633068082739488, 0.8884683944139674, 0.8985099878615119, 0.8985099878615119, 0.9068179501943096, 0.9068179501943096, 0.9068179501943096, 0.9068179501943096, 0.9068179501943096, 0.9068179501943096, 0.9068179501943096, 0.9068179501943096, 0.9068179501943096, 0.9068179501943096, 0.908495895087947, 0.908495895087947, 0.908495895087947, 0.908495895087947, 0.908495895087947, 0.908495895087947, 0.908495895087947, 0.908495895087947, 0.908495895087947, 0.9177271900761906, 0.9177271900761906, 0.9177271900761906, 0.9177271900761906, 0.9177271900761906, 0.9177271900761906, 0.9177271900761906, 0.9177271900761906, 0.9177271900761906, 0.9177271900761906, 0.9177271900761906, 0.9177271900761906, 0.9177271900761906, 0.9177271900761906, 0.9177271900761906, 0.9177271900761906, 0.9177271900761906, 0.9177271900761906, 0.9177271900761906, 0.9177271900761906, 0.9177271900761906, 0.9193462867881471, 0.9193462867881471, 0.9193462867881471, 0.9193462867881471, 0.9193462867881471, 0.9193462867881471, 0.9193462867881471, 0.9193462867881471, 0.9193462867881471, 0.9193462867881471, 0.9193462867881471, 0.9193462867881471, 0.9193462867881471, 0.9193462867881471, 0.9193462867881471, 0.9193462867881471, 0.9193462867881471, 0.9193462867881471, 0.9193462867881471, 0.9193462867881471, 0.9193462867881471, 0.9193462867881471, 0.9193462867881471, 0.9193462867881471, 0.9193462867881471, 0.9193462867881471, 0.9193462867881471, 0.9193462867881471, 0.9193462867881471, 0.9193462867881471, 0.9193462867881471, 0.9193462867881471, 0.9193462867881471, 0.9193462867881471, 0.9193462867881471, 0.9193462867881471, 0.9193462867881471, 0.9193462867881471, 0.9193462867881471, 0.9193462867881471, 0.9193462867881471, 0.9193462867881471, 0.9193462867881471, 0.9193462867881471, 0.9193462867881471, 0.9193462867881471, 0.9193462867881471, 0.9193462867881471, 0.9205561442862426, 0.9205561442862426]}], \"log_loss\": [{\"categories\": [\"0\", \"1\", \"2\", \"3\", \"4\", \"5\", \"6\", \"7\", \"8\", \"9\", \"10\", \"11\", \"12\", \"13\", \"14\", \"15\", \"16\", \"17\", \"18\", \"19\", \"20\", \"21\", \"22\", \"23\", \"24\", \"25\", \"26\", \"27\", \"28\", \"29\", \"30\", \"31\", \"32\", \"33\", \"34\", \"35\", \"36\", \"37\", \"38\", \"39\", \"40\", \"41\", \"42\", \"43\", \"44\", \"45\", \"46\", \"47\", \"48\", \"49\", \"50\", \"51\", \"52\", \"53\", \"54\", \"55\", \"56\", \"57\", \"58\", \"59\", \"60\", \"61\", \"62\", \"63\", \"64\", \"65\", \"66\", \"67\", \"68\", \"69\", \"70\", \"71\", \"72\", \"73\", \"74\", \"75\", \"76\", \"77\", \"78\", \"79\", \"80\", \"81\", \"82\", \"83\", \"84\", \"85\", \"86\", \"87\", \"88\", \"89\", \"90\", \"91\", \"92\", \"93\"], \"mode\": \"markers\", \"name\": \"log_loss\", \"stepped\": false, \"type\": \"scatter\", \"data\": [0.5585705745361679, 0.45142463398170557, 0.499913488396059, 0.4081299464740307, 0.3908106647161193, 0.5777373122727506, 0.5745819646764815, 0.5770739320796564, 0.5100073796814507, 0.4048625945013829, 0.42275561281094814, 0.8761584923801186, 0.5305965588756155, 0.4300196956642255, 0.38233070087046256, 0.4526535114486056, 0.41513623259765975, 0.44889897437477444, 0.4038435687927482, 0.4254582315339887, 0.3996097732128376, 0.49149244849148693, 0.4083939957675618, 0.4006835814218365, 0.4994488635797459, 0.6642221034733096, 0.4535013522217619, 0.46638758702070776, 0.4104746880707457, 0.510794258960475, 0.4757181911712483, 0.4122024763056567, 0.4272653570336959, 0.4887158272765819, 0.5191275193786563, 0.49046753618427275, 0.4135170793037033, 0.4031099302061774, 0.4984781405950822, 0.5259929382799351, 0.524120257254115, 0.4749826617019632, 0.7475645873279517, 0.4654954547431042, 0.427319042261483, 0.6776431493280612, 0.4249131945461528, 0.48475554081011724, 0.3970546315343498, 0.5904366702911011, 0.41720941968785485, 0.41628935915908133, 0.40130923002089264, 0.40235703947004486, 0.4309824632914118, 0.4988440046497676, 0.5005114964876435, 0.4608960484357811, 0.3732803441334489, 0.36448184168176995, 0.7053128178050275, 0.3864342012534347, 0.46831074092346997, 0.3896126167877018, 0.4834971986424852, 0.437905107683967, 0.40304710431113916, 0.4952459902326613, 0.4401753545199185, 0.486103370440474, 0.4066665091124369, 0.40325539710843855, 0.4476486810647764, 0.4153955499733713, 0.40720555081407905, 0.5174669074886261, 0.39661279832071306, 0.3991839067207191, 0.3870347512747361, 0.4200166978810948, 0.387651857653833, 0.46185007029763003, 0.5567412566743151, 0.5007625084341337, 0.4375558032731299, 0.5039010849534197, 0.4074693433427498, 0.3742504670935869, 0.5011215874155329, 0.3969443054923234, 0.36833177908029374, 0.5301735839944064, 0.37640083253120293, 0.40792466178777825]}, {\"categories\": [\"0\", \"1\", \"2\", \"3\", \"4\", \"5\", \"6\", \"7\", \"8\", \"9\", \"10\", \"11\", \"12\", \"13\", \"14\", \"15\", \"16\", \"17\", \"18\", \"19\", \"20\", \"21\", \"22\", \"23\", \"24\", \"25\", \"26\", \"27\", \"28\", \"29\", \"30\", \"31\", \"32\", \"33\", \"34\", \"35\", \"36\", \"37\", \"38\", \"39\", \"40\", \"41\", \"42\", \"43\", \"44\", \"45\", \"46\", \"47\", \"48\", \"49\", \"50\", \"51\", \"52\", \"53\", \"54\", \"55\", \"56\", \"57\", \"58\", \"59\", \"60\", \"61\", \"62\", \"63\", \"64\", \"65\", \"66\", \"67\", \"68\", \"69\", \"70\", \"71\", \"72\", \"73\", \"74\", \"75\", \"76\", \"77\", \"78\", \"79\", \"80\", \"81\", \"82\", \"83\", \"84\", \"85\", \"86\", \"87\", \"88\", \"89\", \"90\", \"91\", \"92\", \"93\"], \"mode\": \"lines\", \"name\": \"log_loss_min\", \"stepped\": true, \"type\": \"scatter\", \"data\": [0.5585705745361679, 0.45142463398170557, 0.45142463398170557, 0.4081299464740307, 0.3908106647161193, 0.3908106647161193, 0.3908106647161193, 0.3908106647161193, 0.3908106647161193, 0.3908106647161193, 0.3908106647161193, 0.3908106647161193, 0.3908106647161193, 0.3908106647161193, 0.38233070087046256, 0.38233070087046256, 0.38233070087046256, 0.38233070087046256, 0.38233070087046256, 0.38233070087046256, 0.38233070087046256, 0.38233070087046256, 0.38233070087046256, 0.38233070087046256, 0.38233070087046256, 0.38233070087046256, 0.38233070087046256, 0.38233070087046256, 0.38233070087046256, 0.38233070087046256, 0.38233070087046256, 0.38233070087046256, 0.38233070087046256, 0.38233070087046256, 0.38233070087046256, 0.38233070087046256, 0.38233070087046256, 0.38233070087046256, 0.38233070087046256, 0.38233070087046256, 0.38233070087046256, 0.38233070087046256, 0.38233070087046256, 0.38233070087046256, 0.38233070087046256, 0.38233070087046256, 0.38233070087046256, 0.38233070087046256, 0.38233070087046256, 0.38233070087046256, 0.38233070087046256, 0.38233070087046256, 0.38233070087046256, 0.38233070087046256, 0.38233070087046256, 0.38233070087046256, 0.38233070087046256, 0.38233070087046256, 0.3732803441334489, 0.36448184168176995, 0.36448184168176995, 0.36448184168176995, 0.36448184168176995, 0.36448184168176995, 0.36448184168176995, 0.36448184168176995, 0.36448184168176995, 0.36448184168176995, 0.36448184168176995, 0.36448184168176995, 0.36448184168176995, 0.36448184168176995, 0.36448184168176995, 0.36448184168176995, 0.36448184168176995, 0.36448184168176995, 0.36448184168176995, 0.36448184168176995, 0.36448184168176995, 0.36448184168176995, 0.36448184168176995, 0.36448184168176995, 0.36448184168176995, 0.36448184168176995, 0.36448184168176995, 0.36448184168176995, 0.36448184168176995, 0.36448184168176995, 0.36448184168176995, 0.36448184168176995, 0.36448184168176995, 0.36448184168176995, 0.36448184168176995, 0.36448184168176995]}], \"f1_score_weighted\": [{\"categories\": [\"0\", \"1\", \"2\", \"3\", \"4\", \"5\", \"6\", \"7\", \"8\", \"9\", \"10\", \"11\", \"12\", \"13\", \"14\", \"15\", \"16\", \"17\", \"18\", \"19\", \"20\", \"21\", \"22\", \"23\", \"24\", \"25\", \"26\", \"27\", \"28\", \"29\", \"30\", \"31\", \"32\", \"33\", \"34\", \"35\", \"36\", \"37\", \"38\", \"39\", \"40\", \"41\", \"42\", \"43\", \"44\", \"45\", \"46\", \"47\", \"48\", \"49\", \"50\", \"51\", \"52\", \"53\", \"54\", \"55\", \"56\", \"57\", \"58\", \"59\", \"60\", \"61\", \"62\", \"63\", \"64\", \"65\", \"66\", \"67\", \"68\", \"69\", \"70\", \"71\", \"72\", \"73\", \"74\", \"75\", \"76\", \"77\", \"78\", \"79\", \"80\", \"81\", \"82\", \"83\", \"84\", \"85\", \"86\", \"87\", \"88\", \"89\", \"90\", \"91\", \"92\", \"93\"], \"mode\": \"markers\", \"name\": \"f1_score_weighted\", \"stepped\": false, \"type\": \"scatter\", \"data\": [0.7934130237784965, 0.8296191933535972, 0.8376882286725266, 0.8427503639210084, 0.8055297950800284, 0.6657185768235542, 0.6499855026866298, 0.6736526826050145, 0.7657875483456044, 0.8214584555171514, 0.7878555694843615, 0.7579072181094713, 0.6421839211527377, 0.7949477185102479, 0.8372614886617029, 0.7891493795000536, 0.844343137146183, 0.7629623834443112, 0.832153406706007, 0.8406764520179829, 0.8248128332198953, 0.738252151051067, 0.8368175478741279, 0.8495321418564624, 0.8205633924731289, 0.5397064448269268, 0.8268108262512005, 0.8285506712669911, 0.8122985104112189, 0.7682046411767929, 0.7547872100186622, 0.8026351018692237, 0.8051854134103172, 0.7199752006717093, 0.7665808468572015, 0.7323598697942743, 0.7988780761666631, 0.8135913911195684, 0.6974687366979412, 0.7571344445946835, 0.6442021222629605, 0.7915502203910177, 0.5914696419832169, 0.8111547353391352, 0.8515705860142431, 0.6617750921343973, 0.8261458844435422, 0.7585640142129257, 0.8438441230870319, 0.794827377565709, 0.8361686312160144, 0.8179576834583709, 0.8254644935509283, 0.8503035433719536, 0.8165148746629484, 0.7146906669955385, 0.8299168392527245, 0.7992388712754046, 0.8521293252974923, 0.8483847410807472, 0.8262924095730652, 0.8336252313873742, 0.7417005231728565, 0.8470171367159024, 0.8155271631800202, 0.8108532219906373, 0.8135691927817742, 0.8280328015511745, 0.8291679733189006, 0.815712995885003, 0.8279475076531134, 0.80593543752965, 0.7980102041680986, 0.815592284091286, 0.8309045371767815, 0.6928629734999143, 0.8249680489959151, 0.8254352422566567, 0.8503402533946735, 0.8304234144442137, 0.830186304464814, 0.8049935370381869, 0.7241355810126562, 0.7923461863502257, 0.7989674951692138, 0.6672824348370282, 0.8262837904667788, 0.8485450714736986, 0.7025265913547291, 0.8200889065093059, 0.8500456899157617, 0.7307888289592158, 0.8880881570408049, 0.8138013434677963]}, {\"categories\": [\"0\", \"1\", \"2\", \"3\", \"4\", \"5\", \"6\", \"7\", \"8\", \"9\", \"10\", \"11\", \"12\", \"13\", \"14\", \"15\", \"16\", \"17\", \"18\", \"19\", \"20\", \"21\", \"22\", \"23\", \"24\", \"25\", \"26\", \"27\", \"28\", \"29\", \"30\", \"31\", \"32\", \"33\", \"34\", \"35\", \"36\", \"37\", \"38\", \"39\", \"40\", \"41\", \"42\", \"43\", \"44\", \"45\", \"46\", \"47\", \"48\", \"49\", \"50\", \"51\", \"52\", \"53\", \"54\", \"55\", \"56\", \"57\", \"58\", \"59\", \"60\", \"61\", \"62\", \"63\", \"64\", \"65\", \"66\", \"67\", \"68\", \"69\", \"70\", \"71\", \"72\", \"73\", \"74\", \"75\", \"76\", \"77\", \"78\", \"79\", \"80\", \"81\", \"82\", \"83\", \"84\", \"85\", \"86\", \"87\", \"88\", \"89\", \"90\", \"91\", \"92\", \"93\"], \"mode\": \"lines\", \"name\": \"f1_score_weighted_max\", \"stepped\": true, \"type\": \"scatter\", \"data\": [0.7934130237784965, 0.8296191933535972, 0.8376882286725266, 0.8427503639210084, 0.8427503639210084, 0.8427503639210084, 0.8427503639210084, 0.8427503639210084, 0.8427503639210084, 0.8427503639210084, 0.8427503639210084, 0.8427503639210084, 0.8427503639210084, 0.8427503639210084, 0.8427503639210084, 0.8427503639210084, 0.844343137146183, 0.844343137146183, 0.844343137146183, 0.844343137146183, 0.844343137146183, 0.844343137146183, 0.844343137146183, 0.8495321418564624, 0.8495321418564624, 0.8495321418564624, 0.8495321418564624, 0.8495321418564624, 0.8495321418564624, 0.8495321418564624, 0.8495321418564624, 0.8495321418564624, 0.8495321418564624, 0.8495321418564624, 0.8495321418564624, 0.8495321418564624, 0.8495321418564624, 0.8495321418564624, 0.8495321418564624, 0.8495321418564624, 0.8495321418564624, 0.8495321418564624, 0.8495321418564624, 0.8495321418564624, 0.8515705860142431, 0.8515705860142431, 0.8515705860142431, 0.8515705860142431, 0.8515705860142431, 0.8515705860142431, 0.8515705860142431, 0.8515705860142431, 0.8515705860142431, 0.8515705860142431, 0.8515705860142431, 0.8515705860142431, 0.8515705860142431, 0.8515705860142431, 0.8521293252974923, 0.8521293252974923, 0.8521293252974923, 0.8521293252974923, 0.8521293252974923, 0.8521293252974923, 0.8521293252974923, 0.8521293252974923, 0.8521293252974923, 0.8521293252974923, 0.8521293252974923, 0.8521293252974923, 0.8521293252974923, 0.8521293252974923, 0.8521293252974923, 0.8521293252974923, 0.8521293252974923, 0.8521293252974923, 0.8521293252974923, 0.8521293252974923, 0.8521293252974923, 0.8521293252974923, 0.8521293252974923, 0.8521293252974923, 0.8521293252974923, 0.8521293252974923, 0.8521293252974923, 0.8521293252974923, 0.8521293252974923, 0.8521293252974923, 0.8521293252974923, 0.8521293252974923, 0.8521293252974923, 0.8521293252974923, 0.8880881570408049, 0.8880881570408049]}], \"weighted_accuracy\": [{\"categories\": [\"0\", \"1\", \"2\", \"3\", \"4\", \"5\", \"6\", \"7\", \"8\", \"9\", \"10\", \"11\", \"12\", \"13\", \"14\", \"15\", \"16\", \"17\", \"18\", \"19\", \"20\", \"21\", \"22\", \"23\", \"24\", \"25\", \"26\", \"27\", \"28\", \"29\", \"30\", \"31\", \"32\", \"33\", \"34\", \"35\", \"36\", \"37\", \"38\", \"39\", \"40\", \"41\", \"42\", \"43\", \"44\", \"45\", \"46\", \"47\", \"48\", \"49\", \"50\", \"51\", \"52\", \"53\", \"54\", \"55\", \"56\", \"57\", \"58\", \"59\", \"60\", \"61\", \"62\", \"63\", \"64\", \"65\", \"66\", \"67\", \"68\", \"69\", \"70\", \"71\", \"72\", \"73\", \"74\", \"75\", \"76\", \"77\", \"78\", \"79\", \"80\", \"81\", \"82\", \"83\", \"84\", \"85\", \"86\", \"87\", \"88\", \"89\", \"90\", \"91\", \"92\", \"93\"], \"mode\": \"markers\", \"name\": \"weighted_accuracy\", \"stepped\": false, \"type\": \"scatter\", \"data\": [0.810945466093609, 0.8427902663702801, 0.8512111323617114, 0.8827438711871601, 0.8331348823971925, 0.725509438858015, 0.7301599701829447, 0.7319416907123834, 0.7964542645825438, 0.8347686175831921, 0.8191966884545926, 0.8000861444712374, 0.773267208850564, 0.845587483552373, 0.8652078498654854, 0.8324910066641888, 0.8771668666602453, 0.8085310174627969, 0.8548467246618222, 0.8743935760354035, 0.8591863475501015, 0.8096179337095641, 0.851698528092899, 0.8754965195677819, 0.8430113819502393, 0.7736654497957728, 0.8363957794369475, 0.8516268409030928, 0.8401564494663565, 0.8184919831312709, 0.8136215685893702, 0.8248916397507262, 0.8228926462935942, 0.7899666034555294, 0.7954756304679028, 0.8060946571772747, 0.825730108445152, 0.8394812250894198, 0.789300127104671, 0.8125844136497072, 0.7337601971675713, 0.8495528752317241, 0.6722119312798718, 0.8310981240190243, 0.8560268293302631, 0.6427562324664967, 0.8681521905030486, 0.8151701629247897, 0.8812773800260566, 0.8059129602487912, 0.8588458645906581, 0.8322116575551973, 0.8412029647829785, 0.8764418667482127, 0.8613165307535008, 0.8078867570267825, 0.8425003272574938, 0.8459309106116725, 0.8704224597782467, 0.8689918122120464, 0.8694684439201539, 0.8492246135700666, 0.8090644620896716, 0.8693249365635406, 0.8378483386578583, 0.8534043340772549, 0.8438816775680172, 0.8443398030365455, 0.8411914324483374, 0.8352798462952227, 0.8630930049845525, 0.8427039725051279, 0.8327073372610362, 0.8389338485223522, 0.8551041621161032, 0.8038161039274255, 0.838767757512028, 0.8582166891094086, 0.8746099066322509, 0.8506774770511111, 0.8611128855058664, 0.8230521639716742, 0.7978226252837205, 0.8132865595761837, 0.8472261777407697, 0.770405913718163, 0.8395441500251558, 0.8644347057123477, 0.7967756459156714, 0.8380765058494802, 0.8627992598839409, 0.7756072806538761, 0.9030135335509483, 0.8311528415923733]}, {\"categories\": [\"0\", \"1\", \"2\", \"3\", \"4\", \"5\", \"6\", \"7\", \"8\", \"9\", \"10\", \"11\", \"12\", \"13\", \"14\", \"15\", \"16\", \"17\", \"18\", \"19\", \"20\", \"21\", \"22\", \"23\", \"24\", \"25\", \"26\", \"27\", \"28\", \"29\", \"30\", \"31\", \"32\", \"33\", \"34\", \"35\", \"36\", \"37\", \"38\", \"39\", \"40\", \"41\", \"42\", \"43\", \"44\", \"45\", \"46\", \"47\", \"48\", \"49\", \"50\", \"51\", \"52\", \"53\", \"54\", \"55\", \"56\", \"57\", \"58\", \"59\", \"60\", \"61\", \"62\", \"63\", \"64\", \"65\", \"66\", \"67\", \"68\", \"69\", \"70\", \"71\", \"72\", \"73\", \"74\", \"75\", \"76\", \"77\", \"78\", \"79\", \"80\", \"81\", \"82\", \"83\", \"84\", \"85\", \"86\", \"87\", \"88\", \"89\", \"90\", \"91\", \"92\", \"93\"], \"mode\": \"lines\", \"name\": \"weighted_accuracy_max\", \"stepped\": true, \"type\": \"scatter\", \"data\": [0.810945466093609, 0.8427902663702801, 0.8512111323617114, 0.8827438711871601, 0.8827438711871601, 0.8827438711871601, 0.8827438711871601, 0.8827438711871601, 0.8827438711871601, 0.8827438711871601, 0.8827438711871601, 0.8827438711871601, 0.8827438711871601, 0.8827438711871601, 0.8827438711871601, 0.8827438711871601, 0.8827438711871601, 0.8827438711871601, 0.8827438711871601, 0.8827438711871601, 0.8827438711871601, 0.8827438711871601, 0.8827438711871601, 0.8827438711871601, 0.8827438711871601, 0.8827438711871601, 0.8827438711871601, 0.8827438711871601, 0.8827438711871601, 0.8827438711871601, 0.8827438711871601, 0.8827438711871601, 0.8827438711871601, 0.8827438711871601, 0.8827438711871601, 0.8827438711871601, 0.8827438711871601, 0.8827438711871601, 0.8827438711871601, 0.8827438711871601, 0.8827438711871601, 0.8827438711871601, 0.8827438711871601, 0.8827438711871601, 0.8827438711871601, 0.8827438711871601, 0.8827438711871601, 0.8827438711871601, 0.8827438711871601, 0.8827438711871601, 0.8827438711871601, 0.8827438711871601, 0.8827438711871601, 0.8827438711871601, 0.8827438711871601, 0.8827438711871601, 0.8827438711871601, 0.8827438711871601, 0.8827438711871601, 0.8827438711871601, 0.8827438711871601, 0.8827438711871601, 0.8827438711871601, 0.8827438711871601, 0.8827438711871601, 0.8827438711871601, 0.8827438711871601, 0.8827438711871601, 0.8827438711871601, 0.8827438711871601, 0.8827438711871601, 0.8827438711871601, 0.8827438711871601, 0.8827438711871601, 0.8827438711871601, 0.8827438711871601, 0.8827438711871601, 0.8827438711871601, 0.8827438711871601, 0.8827438711871601, 0.8827438711871601, 0.8827438711871601, 0.8827438711871601, 0.8827438711871601, 0.8827438711871601, 0.8827438711871601, 0.8827438711871601, 0.8827438711871601, 0.8827438711871601, 0.8827438711871601, 0.8827438711871601, 0.8827438711871601, 0.9030135335509483, 0.9030135335509483]}], \"precision_score_macro\": [{\"categories\": [\"0\", \"1\", \"2\", \"3\", \"4\", \"5\", \"6\", \"7\", \"8\", \"9\", \"10\", \"11\", \"12\", \"13\", \"14\", \"15\", \"16\", \"17\", \"18\", \"19\", \"20\", \"21\", \"22\", \"23\", \"24\", \"25\", \"26\", \"27\", \"28\", \"29\", \"30\", \"31\", \"32\", \"33\", \"34\", \"35\", \"36\", \"37\", \"38\", \"39\", \"40\", \"41\", \"42\", \"43\", \"44\", \"45\", \"46\", \"47\", \"48\", \"49\", \"50\", \"51\", \"52\", \"53\", \"54\", \"55\", \"56\", \"57\", \"58\", \"59\", \"60\", \"61\", \"62\", \"63\", \"64\", \"65\", \"66\", \"67\", \"68\", \"69\", \"70\", \"71\", \"72\", \"73\", \"74\", \"75\", \"76\", \"77\", \"78\", \"79\", \"80\", \"81\", \"82\", \"83\", \"84\", \"85\", \"86\", \"87\", \"88\", \"89\", \"90\", \"91\", \"92\", \"93\"], \"mode\": \"markers\", \"name\": \"precision_score_macro\", \"stepped\": false, \"type\": \"scatter\", \"data\": [0.7582563102937744, 0.7993137978722974, 0.8030104979845044, 0.8370794603263724, 0.7821753119166912, 0.6739354751757686, 0.7234926242212216, 0.6841267541876878, 0.7329805996472664, 0.7907323255811477, 0.7667097400189725, 0.7483774540517961, 0.6056940388498727, 0.8180644041787964, 0.8201972443881095, 0.7797689975199565, 0.8318516708601523, 0.7733649745776612, 0.7964958299704062, 0.8199222987853365, 0.7989804381348499, 0.7921844541910331, 0.8140735376571593, 0.8347077766128285, 0.7818552346010748, 0.33383534136546184, 0.7914838540210308, 0.7876911235227716, 0.7985922659452999, 0.7989039232752729, 0.797913892371945, 0.779719110339812, 0.7719300266187128, 0.740896956307064, 0.7773318932092611, 0.8001062383671079, 0.7757196113321596, 0.7958676018988508, 0.762931785986706, 0.7383835925968111, 0.5712451811409648, 0.8018004303170544, 0.5652272097746082, 0.7894742116233345, 0.8173858915628873, 0.6370910476815564, 0.8172407476208289, 0.7841256969573189, 0.8262634000968809, 0.7585478650885903, 0.8014715064769868, 0.7832576288213359, 0.7940807156579691, 0.8262261849184118, 0.8190886872630294, 0.8108818516427213, 0.7968380478159022, 0.8038792534515985, 0.8194917165384646, 0.814416668221016, 0.8095082247511772, 0.8026621879491188, 0.7960781158314152, 0.8242327784613982, 0.787249543478748, 0.8228536244302594, 0.791290818688951, 0.8101069579564203, 0.8015922249793217, 0.7863269120127363, 0.8125399008814155, 0.7974262715676632, 0.7952084374451193, 0.7838074938552736, 0.8040738735594685, 0.7830961626728218, 0.7967111555516911, 0.7961713913326817, 0.8302629829847571, 0.8154206154964406, 0.7971896955503514, 0.7686676714351068, 0.7482110482110483, 0.7550622052754367, 0.7973136973821487, 0.6175833147091176, 0.7956472831333787, 0.8175859262066157, 0.7846715270169037, 0.7928509782421536, 0.815789986522744, 0.7516247549151872, 0.8639252977764347, 0.801238025055269]}, {\"categories\": [\"0\", \"1\", \"2\", \"3\", \"4\", \"5\", \"6\", \"7\", \"8\", \"9\", \"10\", \"11\", \"12\", \"13\", \"14\", \"15\", \"16\", \"17\", \"18\", \"19\", \"20\", \"21\", \"22\", \"23\", \"24\", \"25\", \"26\", \"27\", \"28\", \"29\", \"30\", \"31\", \"32\", \"33\", \"34\", \"35\", \"36\", \"37\", \"38\", \"39\", \"40\", \"41\", \"42\", \"43\", \"44\", \"45\", \"46\", \"47\", \"48\", \"49\", \"50\", \"51\", \"52\", \"53\", \"54\", \"55\", \"56\", \"57\", \"58\", \"59\", \"60\", \"61\", \"62\", \"63\", \"64\", \"65\", \"66\", \"67\", \"68\", \"69\", \"70\", \"71\", \"72\", \"73\", \"74\", \"75\", \"76\", \"77\", \"78\", \"79\", \"80\", \"81\", \"82\", \"83\", \"84\", \"85\", \"86\", \"87\", \"88\", \"89\", \"90\", \"91\", \"92\", \"93\"], \"mode\": \"lines\", \"name\": \"precision_score_macro_max\", \"stepped\": true, \"type\": \"scatter\", \"data\": [0.7582563102937744, 0.7993137978722974, 0.8030104979845044, 0.8370794603263724, 0.8370794603263724, 0.8370794603263724, 0.8370794603263724, 0.8370794603263724, 0.8370794603263724, 0.8370794603263724, 0.8370794603263724, 0.8370794603263724, 0.8370794603263724, 0.8370794603263724, 0.8370794603263724, 0.8370794603263724, 0.8370794603263724, 0.8370794603263724, 0.8370794603263724, 0.8370794603263724, 0.8370794603263724, 0.8370794603263724, 0.8370794603263724, 0.8370794603263724, 0.8370794603263724, 0.8370794603263724, 0.8370794603263724, 0.8370794603263724, 0.8370794603263724, 0.8370794603263724, 0.8370794603263724, 0.8370794603263724, 0.8370794603263724, 0.8370794603263724, 0.8370794603263724, 0.8370794603263724, 0.8370794603263724, 0.8370794603263724, 0.8370794603263724, 0.8370794603263724, 0.8370794603263724, 0.8370794603263724, 0.8370794603263724, 0.8370794603263724, 0.8370794603263724, 0.8370794603263724, 0.8370794603263724, 0.8370794603263724, 0.8370794603263724, 0.8370794603263724, 0.8370794603263724, 0.8370794603263724, 0.8370794603263724, 0.8370794603263724, 0.8370794603263724, 0.8370794603263724, 0.8370794603263724, 0.8370794603263724, 0.8370794603263724, 0.8370794603263724, 0.8370794603263724, 0.8370794603263724, 0.8370794603263724, 0.8370794603263724, 0.8370794603263724, 0.8370794603263724, 0.8370794603263724, 0.8370794603263724, 0.8370794603263724, 0.8370794603263724, 0.8370794603263724, 0.8370794603263724, 0.8370794603263724, 0.8370794603263724, 0.8370794603263724, 0.8370794603263724, 0.8370794603263724, 0.8370794603263724, 0.8370794603263724, 0.8370794603263724, 0.8370794603263724, 0.8370794603263724, 0.8370794603263724, 0.8370794603263724, 0.8370794603263724, 0.8370794603263724, 0.8370794603263724, 0.8370794603263724, 0.8370794603263724, 0.8370794603263724, 0.8370794603263724, 0.8370794603263724, 0.8639252977764347, 0.8639252977764347]}], \"f1_score_micro\": [{\"categories\": [\"0\", \"1\", \"2\", \"3\", \"4\", \"5\", \"6\", \"7\", \"8\", \"9\", \"10\", \"11\", \"12\", \"13\", \"14\", \"15\", \"16\", \"17\", \"18\", \"19\", \"20\", \"21\", \"22\", \"23\", \"24\", \"25\", \"26\", \"27\", \"28\", \"29\", \"30\", \"31\", \"32\", \"33\", \"34\", \"35\", \"36\", \"37\", \"38\", \"39\", \"40\", \"41\", \"42\", \"43\", \"44\", \"45\", \"46\", \"47\", \"48\", \"49\", \"50\", \"51\", \"52\", \"53\", \"54\", \"55\", \"56\", \"57\", \"58\", \"59\", \"60\", \"61\", \"62\", \"63\", \"64\", \"65\", \"66\", \"67\", \"68\", \"69\", \"70\", \"71\", \"72\", \"73\", \"74\", \"75\", \"76\", \"77\", \"78\", \"79\", \"80\", \"81\", \"82\", \"83\", \"84\", \"85\", \"86\", \"87\", \"88\", \"89\", \"90\", \"91\", \"92\", \"93\"], \"mode\": \"markers\", \"name\": \"f1_score_micro\", \"stepped\": false, \"type\": \"scatter\", \"data\": [0.792120864410021, 0.8280742015681776, 0.8360585197934595, 0.8480110919869955, 0.8079460699942628, 0.6956875119525723, 0.6956397016637981, 0.7036240198890802, 0.7679766685790782, 0.8200420730541214, 0.7918818129661503, 0.7678810480015299, 0.7116083381143623, 0.8077548288391663, 0.8399311531841652, 0.7960891183782751, 0.8479632816982215, 0.775865366226812, 0.8320424555364315, 0.8440428380187416, 0.8280263912794034, 0.7636737425894052, 0.8361063300822337, 0.8519315356664755, 0.8198986421877988, 0.6676706827309237, 0.8241059475999236, 0.8280742015681776, 0.8158347676419965, 0.7838974947408682, 0.7757697456492637, 0.8039778160260088, 0.8040734366035571, 0.7439759036144578, 0.7759131765155862, 0.7636737425894052, 0.8001529929240773, 0.8160260087970932, 0.7357525339453052, 0.7679288582903041, 0.6996557659208262, 0.8038343851596864, 0.6200994454006502, 0.8120099445400651, 0.8482023331420923, 0.6444348823866896, 0.831899024670109, 0.775865366226812, 0.8480110919869958, 0.791786192388602, 0.8360107095046855, 0.8160738190858673, 0.8241059475999236, 0.8519315356664755, 0.8238190858672786, 0.755641614075349, 0.8280742015681776, 0.807993880283037, 0.8520271562440237, 0.8481067125645438, 0.8319946452476573, 0.8321380761139797, 0.7677376171352076, 0.8480110919869958, 0.8160260087970932, 0.8198508318990246, 0.8160738190858673, 0.8280742015681776, 0.8280263912794034, 0.815978198508319, 0.8320424555364315, 0.8119143239625167, 0.8039778160260088, 0.8160738190858673, 0.8319946452476573, 0.7398164084911073, 0.8240103270223752, 0.8280263912794034, 0.8519315356664755, 0.8319946452476573, 0.8320424555364315, 0.8039778160260088, 0.7478007267163894, 0.7919296232549246, 0.8078982597054886, 0.7275769745649264, 0.8241537578886976, 0.8480110919869955, 0.7437368521705872, 0.8199942627653471, 0.848154522853318, 0.7478963472939376, 0.8879804934021802, 0.8159303882195449]}, {\"categories\": [\"0\", \"1\", \"2\", \"3\", \"4\", \"5\", \"6\", \"7\", \"8\", \"9\", \"10\", \"11\", \"12\", \"13\", \"14\", \"15\", \"16\", \"17\", \"18\", \"19\", \"20\", \"21\", \"22\", \"23\", \"24\", \"25\", \"26\", \"27\", \"28\", \"29\", \"30\", \"31\", \"32\", \"33\", \"34\", \"35\", \"36\", \"37\", \"38\", \"39\", \"40\", \"41\", \"42\", \"43\", \"44\", \"45\", \"46\", \"47\", \"48\", \"49\", \"50\", \"51\", \"52\", \"53\", \"54\", \"55\", \"56\", \"57\", \"58\", \"59\", \"60\", \"61\", \"62\", \"63\", \"64\", \"65\", \"66\", \"67\", \"68\", \"69\", \"70\", \"71\", \"72\", \"73\", \"74\", \"75\", \"76\", \"77\", \"78\", \"79\", \"80\", \"81\", \"82\", \"83\", \"84\", \"85\", \"86\", \"87\", \"88\", \"89\", \"90\", \"91\", \"92\", \"93\"], \"mode\": \"lines\", \"name\": \"f1_score_micro_max\", \"stepped\": true, \"type\": \"scatter\", \"data\": [0.792120864410021, 0.8280742015681776, 0.8360585197934595, 0.8480110919869955, 0.8480110919869955, 0.8480110919869955, 0.8480110919869955, 0.8480110919869955, 0.8480110919869955, 0.8480110919869955, 0.8480110919869955, 0.8480110919869955, 0.8480110919869955, 0.8480110919869955, 0.8480110919869955, 0.8480110919869955, 0.8480110919869955, 0.8480110919869955, 0.8480110919869955, 0.8480110919869955, 0.8480110919869955, 0.8480110919869955, 0.8480110919869955, 0.8519315356664755, 0.8519315356664755, 0.8519315356664755, 0.8519315356664755, 0.8519315356664755, 0.8519315356664755, 0.8519315356664755, 0.8519315356664755, 0.8519315356664755, 0.8519315356664755, 0.8519315356664755, 0.8519315356664755, 0.8519315356664755, 0.8519315356664755, 0.8519315356664755, 0.8519315356664755, 0.8519315356664755, 0.8519315356664755, 0.8519315356664755, 0.8519315356664755, 0.8519315356664755, 0.8519315356664755, 0.8519315356664755, 0.8519315356664755, 0.8519315356664755, 0.8519315356664755, 0.8519315356664755, 0.8519315356664755, 0.8519315356664755, 0.8519315356664755, 0.8519315356664755, 0.8519315356664755, 0.8519315356664755, 0.8519315356664755, 0.8519315356664755, 0.8520271562440237, 0.8520271562440237, 0.8520271562440237, 0.8520271562440237, 0.8520271562440237, 0.8520271562440237, 0.8520271562440237, 0.8520271562440237, 0.8520271562440237, 0.8520271562440237, 0.8520271562440237, 0.8520271562440237, 0.8520271562440237, 0.8520271562440237, 0.8520271562440237, 0.8520271562440237, 0.8520271562440237, 0.8520271562440237, 0.8520271562440237, 0.8520271562440237, 0.8520271562440237, 0.8520271562440237, 0.8520271562440237, 0.8520271562440237, 0.8520271562440237, 0.8520271562440237, 0.8520271562440237, 0.8520271562440237, 0.8520271562440237, 0.8520271562440237, 0.8520271562440237, 0.8520271562440237, 0.8520271562440237, 0.8520271562440237, 0.8879804934021802, 0.8879804934021802]}]}, \"metricName\": null, \"primaryMetricName\": \"accuracy\", \"showLegend\": false}, \"run_metrics\": [{\"name\": \"experiment_status\", \"run_id\": \"AutoML_e8ac35d0-451b-4f6a-90c9-1e5d73e48bbc\", \"categories\": [0, 1, 2, 3, 4, 5, 6, 7, 8, 9, 10, 11, 12, 13], \"series\": [{\"data\": [\"DatasetEvaluation\", \"FeaturesGeneration\", \"DatasetFeaturization\", \"DatasetFeaturizationCompleted\", \"DatasetCrossValidationSplit\", \"ModelSelection\", \"BestRunExplainModel\", \"ModelExplanationDataSetSetup\", \"PickSurrogateModel\", \"EngineeredFeatureExplanations\", \"EngineeredFeatureExplanations\", \"RawFeaturesExplanations\", \"RawFeaturesExplanations\", \"BestRunExplainModel\"]}]}, {\"name\": \"experiment_status_description\", \"run_id\": \"AutoML_e8ac35d0-451b-4f6a-90c9-1e5d73e48bbc\", \"categories\": [0, 1, 2, 3, 4, 5, 6, 7, 8, 9, 10, 11, 12, 13], \"series\": [{\"data\": [\"Gathering dataset statistics.\", \"Generating features for the dataset.\", \"Beginning to fit featurizers and featurize the dataset.\", \"Completed fit featurizers and featurizing the dataset.\", \"Generating individually featurized CV splits.\", \"Beginning model selection.\", \"Best run model explanations started\", \"Model explanations data setup completed\", \"Choosing LightGBM as the surrogate model for explanations\", \"Computation of engineered features started\", \"Computation of engineered features completed\", \"Computation of raw features started\", \"Computation of raw features completed\", \"Best run model explanations completed\"]}]}, {\"name\": \"recall_score_macro\", \"run_id\": \"AutoML_e8ac35d0-451b-4f6a-90c9-1e5d73e48bbc\", \"categories\": [0], \"series\": [{\"data\": [0.8643024979567108]}]}, {\"name\": \"AUC_micro\", \"run_id\": \"AutoML_e8ac35d0-451b-4f6a-90c9-1e5d73e48bbc\", \"categories\": [0], \"series\": [{\"data\": [0.925978653021506]}]}, {\"name\": \"f1_score_macro\", \"run_id\": \"AutoML_e8ac35d0-451b-4f6a-90c9-1e5d73e48bbc\", \"categories\": [0], \"series\": [{\"data\": [0.8628922226162028]}]}, {\"name\": \"AUC_macro\", \"run_id\": \"AutoML_e8ac35d0-451b-4f6a-90c9-1e5d73e48bbc\", \"categories\": [0], \"series\": [{\"data\": [0.9205561442862426]}]}, {\"name\": \"average_precision_score_macro\", \"run_id\": \"AutoML_e8ac35d0-451b-4f6a-90c9-1e5d73e48bbc\", \"categories\": [0], \"series\": [{\"data\": [0.8909225801185564]}]}, {\"name\": \"AUC_weighted\", \"run_id\": \"AutoML_e8ac35d0-451b-4f6a-90c9-1e5d73e48bbc\", \"categories\": [0], \"series\": [{\"data\": [0.9205561442862426]}]}, {\"name\": \"matthews_correlation\", \"run_id\": \"AutoML_e8ac35d0-451b-4f6a-90c9-1e5d73e48bbc\", \"categories\": [0], \"series\": [{\"data\": [0.7281805874736121]}]}, {\"name\": \"accuracy\", \"run_id\": \"AutoML_e8ac35d0-451b-4f6a-90c9-1e5d73e48bbc\", \"categories\": [0], \"series\": [{\"data\": [0.8879804934021802]}]}, {\"name\": \"recall_score_weighted\", \"run_id\": \"AutoML_e8ac35d0-451b-4f6a-90c9-1e5d73e48bbc\", \"categories\": [0], \"series\": [{\"data\": [0.8879804934021802]}]}, {\"name\": \"recall_score_micro\", \"run_id\": \"AutoML_e8ac35d0-451b-4f6a-90c9-1e5d73e48bbc\", \"categories\": [0], \"series\": [{\"data\": [0.8879804934021802]}]}, {\"name\": \"weighted_accuracy\", \"run_id\": \"AutoML_e8ac35d0-451b-4f6a-90c9-1e5d73e48bbc\", \"categories\": [0], \"series\": [{\"data\": [0.9030135335509483]}]}, {\"name\": \"f1_score_weighted\", \"run_id\": \"AutoML_e8ac35d0-451b-4f6a-90c9-1e5d73e48bbc\", \"categories\": [0], \"series\": [{\"data\": [0.8880881570408049]}]}, {\"name\": \"average_precision_score_micro\", \"run_id\": \"AutoML_e8ac35d0-451b-4f6a-90c9-1e5d73e48bbc\", \"categories\": [0], \"series\": [{\"data\": [0.9266301636346217]}]}, {\"name\": \"norm_macro_recall\", \"run_id\": \"AutoML_e8ac35d0-451b-4f6a-90c9-1e5d73e48bbc\", \"categories\": [0], \"series\": [{\"data\": [0.7286049959134214]}]}, {\"name\": \"f1_score_micro\", \"run_id\": \"AutoML_e8ac35d0-451b-4f6a-90c9-1e5d73e48bbc\", \"categories\": [0], \"series\": [{\"data\": [0.8879804934021802]}]}, {\"name\": \"precision_score_macro\", \"run_id\": \"AutoML_e8ac35d0-451b-4f6a-90c9-1e5d73e48bbc\", \"categories\": [0], \"series\": [{\"data\": [0.8639252977764347]}]}, {\"name\": \"balanced_accuracy\", \"run_id\": \"AutoML_e8ac35d0-451b-4f6a-90c9-1e5d73e48bbc\", \"categories\": [0], \"series\": [{\"data\": [0.8643024979567108]}]}, {\"name\": \"log_loss\", \"run_id\": \"AutoML_e8ac35d0-451b-4f6a-90c9-1e5d73e48bbc\", \"categories\": [0], \"series\": [{\"data\": [0.37640083253120293]}]}, {\"name\": \"precision_score_micro\", \"run_id\": \"AutoML_e8ac35d0-451b-4f6a-90c9-1e5d73e48bbc\", \"categories\": [0], \"series\": [{\"data\": [0.8879804934021802]}]}, {\"name\": \"precision_score_weighted\", \"run_id\": \"AutoML_e8ac35d0-451b-4f6a-90c9-1e5d73e48bbc\", \"categories\": [0], \"series\": [{\"data\": [0.8905626696143601]}]}, {\"name\": \"average_precision_score_weighted\", \"run_id\": \"AutoML_e8ac35d0-451b-4f6a-90c9-1e5d73e48bbc\", \"categories\": [0], \"series\": [{\"data\": [0.9256192795568977]}]}], \"run_logs\": \"\\nRun is completed.\", \"graph\": {}, \"widget_settings\": {\"childWidgetDisplay\": \"popup\", \"send_telemetry\": false, \"log_level\": \"INFO\", \"sdk_version\": \"1.20.0\"}, \"loading\": false}"
     },
     "metadata": {},
     "output_type": "display_data"
    },
    {
     "name": "stdout",
     "output_type": "stream",
     "text": [
      "\n",
      "Current status: FeaturesGeneration. Generating features for the dataset.\n",
      "Current status: ModelSelection. Beginning model selection.\n",
      "\n",
      "****************************************************************************************************\n",
      "DATA GUARDRAILS: \n",
      "\n",
      "TYPE:         Class balancing detection\n",
      "STATUS:       PASSED\n",
      "DESCRIPTION:  Your inputs were analyzed, and all classes are balanced in your training data.\n",
      "              Learn more about imbalanced data: https://aka.ms/AutomatedMLImbalancedData\n",
      "\n",
      "****************************************************************************************************\n",
      "\n",
      "TYPE:         Missing feature values imputation\n",
      "STATUS:       PASSED\n",
      "DESCRIPTION:  No feature missing values were detected in the training data.\n",
      "              Learn more about missing value imputation: https://aka.ms/AutomatedMLFeaturization\n",
      "\n",
      "****************************************************************************************************\n",
      "\n",
      "TYPE:         High cardinality feature detection\n",
      "STATUS:       PASSED\n",
      "DESCRIPTION:  Your inputs were analyzed, and no high cardinality features were detected.\n",
      "              Learn more about high cardinality feature handling: https://aka.ms/AutomatedMLFeaturization\n",
      "\n",
      "****************************************************************************************************\n",
      "\n",
      "****************************************************************************************************\n",
      "ITERATION: The iteration being evaluated.\n",
      "PIPELINE: A summary description of the pipeline being evaluated.\n",
      "DURATION: Time taken for the current iteration.\n",
      "METRIC: The result of computing score on the fitted pipeline.\n",
      "BEST: The best observed score thus far.\n",
      "****************************************************************************************************\n",
      "\n",
      " ITERATION   PIPELINE                                       DURATION      METRIC      BEST\n",
      "         3   MinMaxScaler RandomForest                      0:00:57       0.8480    0.8480\n",
      "         2   MinMaxScaler RandomForest                      0:01:01       0.8361    0.8480\n",
      "         0   MaxAbsScaler LightGBM                          0:01:00       0.7921    0.8480\n",
      "         1   MaxAbsScaler XGBoostClassifier                 0:01:02       0.8281    0.8480\n",
      "         7   MinMaxScaler SVM                               0:00:49       0.7036    0.8480\n",
      "         8   SparseNormalizer XGBoostClassifier             0:00:56       0.7680    0.8480\n",
      "         5   MinMaxScaler SVM                               0:03:20       0.6957    0.8480\n",
      "         6   MinMaxScaler SVM                               0:03:27       0.6956    0.8480\n",
      "         4   MinMaxScaler RandomForest                      0:03:39       0.8079    0.8480\n",
      "         9   StandardScalerWrapper LightGBM                 0:00:57       0.8200    0.8480\n",
      "        10   StandardScalerWrapper RandomForest             0:00:48       0.7919    0.8480\n",
      "        11   MaxAbsScaler ExtremeRandomTrees                0:00:52       0.7679    0.8480\n",
      "        12   StandardScalerWrapper LightGBM                 0:00:52       0.7116    0.8480\n",
      "        13   RobustScaler ExtremeRandomTrees                0:00:50       0.8078    0.8480\n",
      "        14   StandardScalerWrapper GradientBoosting         0:00:47       0.8399    0.8480\n",
      "        15   MaxAbsScaler LightGBM                          0:00:47       0.7961    0.8480\n",
      "        16   SparseNormalizer XGBoostClassifier             0:00:49       0.8480    0.8480\n",
      "        17   MinMaxScaler LightGBM                          0:00:55       0.7759    0.8480\n",
      "        18   SparseNormalizer XGBoostClassifier             0:00:53       0.8320    0.8480\n",
      "        19   SparseNormalizer XGBoostClassifier             0:00:59       0.8440    0.8480\n",
      "        20   SparseNormalizer LightGBM                      0:00:48       0.8280    0.8480\n",
      "        21   StandardScalerWrapper ExtremeRandomTrees       0:00:53       0.7637    0.8480\n",
      "        22   StandardScalerWrapper XGBoostClassifier        0:00:47       0.8361    0.8480\n",
      "        23   StandardScalerWrapper RandomForest             0:00:50       0.8519    0.8519\n",
      "        24   RobustScaler ExtremeRandomTrees                0:00:50       0.8199    0.8519\n",
      "        25   SparseNormalizer RandomForest                  0:00:53       0.6677    0.8519\n",
      "        26   StandardScalerWrapper RandomForest             0:00:53       0.8241    0.8519\n",
      "        27   StandardScalerWrapper ExtremeRandomTrees       0:01:02       0.8281    0.8519\n",
      "        28   SparseNormalizer XGBoostClassifier             0:00:57       0.8158    0.8519\n",
      "        29   StandardScalerWrapper XGBoostClassifier        0:00:58       0.7839    0.8519\n",
      "        30   MinMaxScaler RandomForest                      0:00:51       0.7758    0.8519\n",
      "        31   StandardScalerWrapper LightGBM                 0:00:54       0.8040    0.8519\n",
      "        32   RobustScaler LightGBM                          0:00:55       0.8041    0.8519\n",
      "        33   StandardScalerWrapper LightGBM                 0:00:54       0.7440    0.8519\n",
      "        34   StandardScalerWrapper XGBoostClassifier        0:00:57       0.7759    0.8519\n",
      "        36   StandardScalerWrapper LightGBM                 0:00:53       0.8002    0.8519\n",
      "        35   RobustScaler RandomForest                      0:01:03       0.7637    0.8519\n",
      "        37   MaxAbsScaler LightGBM                          0:00:48       0.8160    0.8519\n",
      "        38   SparseNormalizer LightGBM                      0:00:55       0.7358    0.8519\n",
      "        39   SparseNormalizer XGBoostClassifier             0:00:52       0.7679    0.8519\n",
      "        40   MaxAbsScaler RandomForest                      0:00:53       0.6997    0.8519\n",
      "        41   SparseNormalizer XGBoostClassifier             0:00:55       0.8038    0.8519\n",
      "        42   StandardScalerWrapper KNN                      0:00:53       0.6201    0.8519\n",
      "        43   StandardScalerWrapper XGBoostClassifier        0:00:59       0.8120    0.8519\n",
      "        44   StandardScalerWrapper RandomForest             0:00:51       0.8482    0.8519\n",
      "        45   StandardScalerWrapper RandomForest             0:00:52       0.6444    0.8519\n",
      "        46   SparseNormalizer XGBoostClassifier             0:00:52       0.8319    0.8519\n",
      "        47   MinMaxScaler LightGBM                          0:00:55       0.7759    0.8519\n",
      "        48   SparseNormalizer LightGBM                      0:00:48       0.8480    0.8519\n",
      "        49   StandardScalerWrapper ExtremeRandomTrees       0:00:53       0.7918    0.8519\n",
      "        50   MaxAbsScaler RandomForest                      0:00:54       0.8360    0.8519\n",
      "        51   RobustScaler LightGBM                          0:00:48       0.8161    0.8519\n",
      "        52   MaxAbsScaler LightGBM                          0:00:55       0.8241    0.8519\n",
      "        53   StandardScalerWrapper RandomForest             0:00:53       0.8519    0.8519\n",
      "        54   SparseNormalizer XGBoostClassifier             0:00:48       0.8238    0.8519\n",
      "        55   StandardScalerWrapper RandomForest             0:00:52       0.7556    0.8519\n",
      "        56   StandardScalerWrapper GradientBoosting         0:00:59       0.8281    0.8519\n",
      "        57   MaxAbsScaler LightGBM                          0:00:52       0.8080    0.8519\n",
      "        58   StandardScalerWrapper RandomForest             0:00:49       0.8520    0.8520\n",
      "        59   RobustScaler RandomForest                      0:01:04       0.8481    0.8520\n",
      "        60   StandardScalerWrapper RandomForest             0:00:55       0.8320    0.8520\n",
      "        61   StandardScalerWrapper XGBoostClassifier        0:00:52       0.8321    0.8520\n",
      "        62   StandardScalerWrapper XGBoostClassifier        0:00:52       0.7677    0.8520\n",
      "        63   SparseNormalizer XGBoostClassifier             0:00:55       0.8480    0.8520\n",
      "        64   StandardScalerWrapper XGBoostClassifier        0:00:58       0.8160    0.8520\n",
      "        65   MaxAbsScaler RandomForest                      0:00:58       0.8199    0.8520\n",
      "        66   MaxAbsScaler GradientBoosting                  0:00:58       0.8161    0.8520\n",
      "        67   StandardScalerWrapper XGBoostClassifier        0:00:51       0.8281    0.8520\n",
      "        68   StandardScalerWrapper XGBoostClassifier        0:00:51       0.8280    0.8520\n",
      "        69   StandardScalerWrapper XGBoostClassifier        0:00:47       0.8160    0.8520\n",
      "        70   MaxAbsScaler RandomForest                      0:00:58       0.8320    0.8520\n",
      "        71   MinMaxScaler GradientBoosting                  0:00:49       0.8119    0.8520\n",
      "        72   StandardScalerWrapper LightGBM                 0:00:52       0.8040    0.8520\n",
      "        73   SparseNormalizer XGBoostClassifier             0:00:53       0.8161    0.8520\n",
      "        74   MinMaxScaler LightGBM                          0:00:50       0.8320    0.8520\n",
      "        75   StandardScalerWrapper RandomForest             0:00:52       0.7398    0.8520\n",
      "        76   StandardScalerWrapper XGBoostClassifier        0:00:56       0.8240    0.8520\n",
      "        77   SparseNormalizer LightGBM                      0:00:53       0.8280    0.8520\n",
      "        78   SparseNormalizer XGBoostClassifier             0:00:49       0.8519    0.8520\n",
      "        79   StandardScalerWrapper XGBoostClassifier        0:00:57       0.8320    0.8520\n",
      "        80   SparseNormalizer RandomForest                  0:00:59       0.8320    0.8520\n",
      "        81   StandardScalerWrapper LightGBM                 0:00:52       0.8040    0.8520\n",
      "        82   SparseNormalizer XGBoostClassifier             0:00:49       0.7478    0.8520\n",
      "        83   SparseNormalizer XGBoostClassifier             0:00:49       0.7919    0.8520\n",
      "        84   SparseNormalizer RandomForest                  0:00:55       0.8079    0.8520\n",
      "        85   StandardScalerWrapper RandomForest             0:00:59       0.7276    0.8520\n",
      "        86   StandardScalerWrapper XGBoostClassifier        0:00:58       0.8242    0.8520\n",
      "        87   StandardScalerWrapper RandomForest             0:00:57       0.8480    0.8520\n",
      "        88   MaxAbsScaler RandomForest                      0:00:56       0.7437    0.8520\n",
      "ERROR: {\n",
      "    \"additional_properties\": {},\n",
      "    \"error\": {\n",
      "        \"additional_properties\": {\n",
      "            \"debugInfo\": null\n",
      "        },\n",
      "        \"code\": \"UserError\",\n",
      "        \"severity\": null,\n",
      "        \"message\": \"Experiment timeout reached, please consider increasing your experiment timeout.\",\n",
      "        \"message_format\": \"Experiment timeout reached, please consider increasing your experiment timeout.\",\n",
      "        \"message_parameters\": {},\n",
      "        \"reference_code\": null,\n",
      "        \"details_uri\": null,\n",
      "        \"target\": null,\n",
      "        \"details\": [],\n",
      "        \"inner_error\": {\n",
      "            \"additional_properties\": {},\n",
      "            \"code\": \"ResourceExhausted\",\n",
      "            \"inner_error\": {\n",
      "                \"additional_properties\": {},\n",
      "                \"code\": \"Timeout\",\n",
      "                \"inner_error\": {\n",
      "                    \"additional_properties\": {},\n",
      "                    \"code\": \"ExperimentTimeoutForIterations\",\n",
      "                    \"inner_error\": null\n",
      "                }\n",
      "            }\n",
      "        }\n",
      "    },\n",
      "    \"correlation\": null,\n",
      "    \"environment\": null,\n",
      "    \"location\": null,\n",
      "    \"time\": {},\n",
      "    \"component_name\": null\n",
      "}\n",
      "        89   StandardScalerWrapper XGBoostClassifier        0:00:52       0.8200    0.8520\n",
      "ERROR: {\n",
      "    \"additional_properties\": {},\n",
      "    \"error\": {\n",
      "        \"additional_properties\": {\n",
      "            \"debugInfo\": null\n",
      "        },\n",
      "        \"code\": \"UserError\",\n",
      "        \"severity\": null,\n",
      "        \"message\": \"Experiment timeout reached, please consider increasing your experiment timeout.\",\n",
      "        \"message_format\": \"Experiment timeout reached, please consider increasing your experiment timeout.\",\n",
      "        \"message_parameters\": {},\n",
      "        \"reference_code\": null,\n",
      "        \"details_uri\": null,\n",
      "        \"target\": null,\n",
      "        \"details\": [],\n",
      "        \"inner_error\": {\n",
      "            \"additional_properties\": {},\n",
      "            \"code\": \"ResourceExhausted\",\n",
      "            \"inner_error\": {\n",
      "                \"additional_properties\": {},\n",
      "                \"code\": \"Timeout\",\n",
      "                \"inner_error\": {\n",
      "                    \"additional_properties\": {},\n",
      "                    \"code\": \"ExperimentTimeoutForIterations\",\n",
      "                    \"inner_error\": null\n",
      "                }\n",
      "            }\n",
      "        }\n",
      "    },\n",
      "    \"correlation\": null,\n",
      "    \"environment\": null,\n",
      "    \"location\": null,\n",
      "    \"time\": {},\n",
      "    \"component_name\": null\n",
      "}\n",
      "        90   MinMaxScaler RandomForest                      0:00:47       0.8482    0.8520\n",
      "ERROR: {\n",
      "    \"additional_properties\": {},\n",
      "    \"error\": {\n",
      "        \"additional_properties\": {\n",
      "            \"debugInfo\": null\n",
      "        },\n",
      "        \"code\": \"UserError\",\n",
      "        \"severity\": null,\n",
      "        \"message\": \"Experiment timeout reached, please consider increasing your experiment timeout.\",\n",
      "        \"message_format\": \"Experiment timeout reached, please consider increasing your experiment timeout.\",\n",
      "        \"message_parameters\": {},\n",
      "        \"reference_code\": null,\n",
      "        \"details_uri\": null,\n",
      "        \"target\": null,\n",
      "        \"details\": [],\n",
      "        \"inner_error\": {\n",
      "            \"additional_properties\": {},\n",
      "            \"code\": \"ResourceExhausted\",\n",
      "            \"inner_error\": {\n",
      "                \"additional_properties\": {},\n",
      "                \"code\": \"Timeout\",\n",
      "                \"inner_error\": {\n",
      "                    \"additional_properties\": {},\n",
      "                    \"code\": \"ExperimentTimeoutForIterations\",\n",
      "                    \"inner_error\": null\n",
      "                }\n",
      "            }\n",
      "        }\n",
      "    },\n",
      "    \"correlation\": null,\n",
      "    \"environment\": null,\n",
      "    \"location\": null,\n",
      "    \"time\": {},\n",
      "    \"component_name\": null\n",
      "}\n",
      "        91   StandardScalerWrapper XGBoostClassifier        0:00:32       0.7479    0.8520\n",
      "ERROR: {\n",
      "    \"additional_properties\": {},\n",
      "    \"error\": {\n",
      "        \"additional_properties\": {\n",
      "            \"debugInfo\": null\n",
      "        },\n",
      "        \"code\": \"UserError\",\n",
      "        \"severity\": null,\n",
      "        \"message\": \"Experiment timeout reached, please consider increasing your experiment timeout.\",\n",
      "        \"message_format\": \"Experiment timeout reached, please consider increasing your experiment timeout.\",\n",
      "        \"message_parameters\": {},\n",
      "        \"reference_code\": null,\n",
      "        \"details_uri\": null,\n",
      "        \"target\": null,\n",
      "        \"details\": [],\n",
      "        \"inner_error\": {\n",
      "            \"additional_properties\": {},\n",
      "            \"code\": \"ResourceExhausted\",\n",
      "            \"inner_error\": {\n",
      "                \"additional_properties\": {},\n",
      "                \"code\": \"Timeout\",\n",
      "                \"inner_error\": {\n",
      "                    \"additional_properties\": {},\n",
      "                    \"code\": \"ExperimentTimeoutForIterations\",\n",
      "                    \"inner_error\": null\n",
      "                }\n",
      "            }\n",
      "        }\n",
      "    },\n",
      "    \"correlation\": null,\n",
      "    \"environment\": null,\n",
      "    \"location\": null,\n",
      "    \"time\": {},\n",
      "    \"component_name\": null\n",
      "}\n",
      "        93    StackEnsemble                                 0:01:40       0.8159    0.8520\n",
      "        92    VotingEnsemble                                0:01:57       0.8880    0.8880\n"
     ]
    },
    {
     "data": {
      "text/plain": [
       "{'runId': 'AutoML_e8ac35d0-451b-4f6a-90c9-1e5d73e48bbc',\n",
       " 'target': 'compute-cluster',\n",
       " 'status': 'Completed',\n",
       " 'startTimeUtc': '2021-02-16T10:09:56.757822Z',\n",
       " 'endTimeUtc': '2021-02-16T10:52:36.306249Z',\n",
       " 'properties': {'num_iterations': '1000',\n",
       "  'training_type': 'TrainFull',\n",
       "  'acquisition_function': 'EI',\n",
       "  'primary_metric': 'accuracy',\n",
       "  'train_split': '0',\n",
       "  'acquisition_parameter': '0',\n",
       "  'num_cross_validation': '3',\n",
       "  'target': 'compute-cluster',\n",
       "  'AMLSettingsJsonString': '{\"path\":null,\"name\":\"new-experiment\",\"subscription_id\":\"f5091c60-1c3c-430f-8d81-d802f6bf2414\",\"resource_group\":\"aml-quickstarts-139012\",\"workspace_name\":\"quick-starts-ws-139012\",\"region\":\"southcentralus\",\"compute_target\":\"compute-cluster\",\"spark_service\":null,\"azure_service\":\"remote\",\"many_models\":false,\"pipeline_fetch_max_batch_size\":1,\"iterations\":1000,\"primary_metric\":\"accuracy\",\"task_type\":\"classification\",\"data_script\":null,\"validation_size\":0.0,\"n_cross_validations\":3,\"y_min\":null,\"y_max\":null,\"num_classes\":null,\"featurization\":\"auto\",\"_ignore_package_version_incompatibilities\":false,\"is_timeseries\":false,\"max_cores_per_iteration\":1,\"max_concurrent_iterations\":4,\"iteration_timeout_minutes\":null,\"mem_in_mb\":null,\"enforce_time_on_windows\":false,\"experiment_timeout_minutes\":30,\"experiment_exit_score\":null,\"whitelist_models\":null,\"blacklist_algos\":[\"TensorFlowLinearClassifier\",\"TensorFlowDNN\"],\"supported_models\":[\"LinearSVM\",\"MultinomialNaiveBayes\",\"TensorFlowLinearClassifier\",\"LightGBM\",\"TensorFlowDNN\",\"RandomForest\",\"GradientBoosting\",\"KNN\",\"DecisionTree\",\"AveragedPerceptronClassifier\",\"SVM\",\"ExtremeRandomTrees\",\"SGD\",\"LogisticRegression\",\"BernoulliNaiveBayes\",\"XGBoostClassifier\"],\"auto_blacklist\":true,\"blacklist_samples_reached\":false,\"exclude_nan_labels\":true,\"verbosity\":20,\"_debug_log\":\"azureml_automl.log\",\"show_warnings\":false,\"model_explainability\":true,\"service_url\":null,\"sdk_url\":null,\"sdk_packages\":null,\"enable_onnx_compatible_models\":false,\"enable_split_onnx_featurizer_estimator_models\":false,\"vm_type\":\"STANDARD_D2_V2\",\"telemetry_verbosity\":20,\"send_telemetry\":true,\"enable_dnn\":false,\"scenario\":\"SDK-1.13.0\",\"environment_label\":null,\"force_text_dnn\":false,\"enable_feature_sweeping\":true,\"enable_early_stopping\":false,\"early_stopping_n_iters\":10,\"metrics\":null,\"enable_ensembling\":true,\"enable_stack_ensembling\":true,\"ensemble_iterations\":15,\"enable_tf\":false,\"enable_subsampling\":null,\"subsample_seed\":null,\"enable_nimbusml\":false,\"enable_streaming\":false,\"force_streaming\":false,\"track_child_runs\":true,\"allowed_private_models\":[],\"label_column_name\":\"DEATH_EVENT\",\"weight_column_name\":null,\"cv_split_column_names\":null,\"enable_local_managed\":false,\"_local_managed_run_id\":null,\"cost_mode\":1,\"lag_length\":0,\"metric_operation\":\"maximize\",\"preprocess\":true}',\n",
       "  'DataPrepJsonString': '{\\\\\"training_data\\\\\": \\\\\"{\\\\\\\\\\\\\"blocks\\\\\\\\\\\\\": [{\\\\\\\\\\\\\"id\\\\\\\\\\\\\": \\\\\\\\\\\\\"e7f38fa5-e94a-4074-8c52-b67439c26853\\\\\\\\\\\\\", \\\\\\\\\\\\\"type\\\\\\\\\\\\\": \\\\\\\\\\\\\"Microsoft.DPrep.GetDatastoreFilesBlock\\\\\\\\\\\\\", \\\\\\\\\\\\\"arguments\\\\\\\\\\\\\": {\\\\\\\\\\\\\"datastores\\\\\\\\\\\\\": [{\\\\\\\\\\\\\"datastoreName\\\\\\\\\\\\\": \\\\\\\\\\\\\"workspaceblobstore\\\\\\\\\\\\\", \\\\\\\\\\\\\"path\\\\\\\\\\\\\": \\\\\\\\\\\\\"UI/02-16-2021_093925_UTC/heart_failure_clinical_records_dataset.csv\\\\\\\\\\\\\", \\\\\\\\\\\\\"resourceGroup\\\\\\\\\\\\\": \\\\\\\\\\\\\"aml-quickstarts-139012\\\\\\\\\\\\\", \\\\\\\\\\\\\"subscription\\\\\\\\\\\\\": \\\\\\\\\\\\\"f5091c60-1c3c-430f-8d81-d802f6bf2414\\\\\\\\\\\\\", \\\\\\\\\\\\\"workspaceName\\\\\\\\\\\\\": \\\\\\\\\\\\\"quick-starts-ws-139012\\\\\\\\\\\\\"}]}, \\\\\\\\\\\\\"localData\\\\\\\\\\\\\": {}, \\\\\\\\\\\\\"isEnabled\\\\\\\\\\\\\": true, \\\\\\\\\\\\\"name\\\\\\\\\\\\\": null, \\\\\\\\\\\\\"annotation\\\\\\\\\\\\\": null}, {\\\\\\\\\\\\\"id\\\\\\\\\\\\\": \\\\\\\\\\\\\"3426be90-c612-4e0a-8aad-5281c4a7c215\\\\\\\\\\\\\", \\\\\\\\\\\\\"type\\\\\\\\\\\\\": \\\\\\\\\\\\\"Microsoft.DPrep.ParseDelimitedBlock\\\\\\\\\\\\\", \\\\\\\\\\\\\"arguments\\\\\\\\\\\\\": {\\\\\\\\\\\\\"columnHeadersMode\\\\\\\\\\\\\": 3, \\\\\\\\\\\\\"fileEncoding\\\\\\\\\\\\\": 0, \\\\\\\\\\\\\"handleQuotedLineBreaks\\\\\\\\\\\\\": false, \\\\\\\\\\\\\"preview\\\\\\\\\\\\\": false, \\\\\\\\\\\\\"separator\\\\\\\\\\\\\": \\\\\\\\\\\\\",\\\\\\\\\\\\\", \\\\\\\\\\\\\"skipRows\\\\\\\\\\\\\": 0, \\\\\\\\\\\\\"skipRowsMode\\\\\\\\\\\\\": 0}, \\\\\\\\\\\\\"localData\\\\\\\\\\\\\": {}, \\\\\\\\\\\\\"isEnabled\\\\\\\\\\\\\": true, \\\\\\\\\\\\\"name\\\\\\\\\\\\\": null, \\\\\\\\\\\\\"annotation\\\\\\\\\\\\\": null}, {\\\\\\\\\\\\\"id\\\\\\\\\\\\\": \\\\\\\\\\\\\"c172ae47-01e5-44ac-8b8c-212847c5d79b\\\\\\\\\\\\\", \\\\\\\\\\\\\"type\\\\\\\\\\\\\": \\\\\\\\\\\\\"Microsoft.DPrep.DropColumnsBlock\\\\\\\\\\\\\", \\\\\\\\\\\\\"arguments\\\\\\\\\\\\\": {\\\\\\\\\\\\\"columns\\\\\\\\\\\\\": {\\\\\\\\\\\\\"type\\\\\\\\\\\\\": 0, \\\\\\\\\\\\\"details\\\\\\\\\\\\\": {\\\\\\\\\\\\\"selectedColumns\\\\\\\\\\\\\": [\\\\\\\\\\\\\"Path\\\\\\\\\\\\\"]}}}, \\\\\\\\\\\\\"localData\\\\\\\\\\\\\": {}, \\\\\\\\\\\\\"isEnabled\\\\\\\\\\\\\": true, \\\\\\\\\\\\\"name\\\\\\\\\\\\\": null, \\\\\\\\\\\\\"annotation\\\\\\\\\\\\\": null}, {\\\\\\\\\\\\\"id\\\\\\\\\\\\\": \\\\\\\\\\\\\"f6286a6d-a37a-49eb-91b3-e1a82a6edd4c\\\\\\\\\\\\\", \\\\\\\\\\\\\"type\\\\\\\\\\\\\": \\\\\\\\\\\\\"Microsoft.DPrep.SetColumnTypesBlock\\\\\\\\\\\\\", \\\\\\\\\\\\\"arguments\\\\\\\\\\\\\": {\\\\\\\\\\\\\"columnConversion\\\\\\\\\\\\\": [{\\\\\\\\\\\\\"column\\\\\\\\\\\\\": {\\\\\\\\\\\\\"type\\\\\\\\\\\\\": 2, \\\\\\\\\\\\\"details\\\\\\\\\\\\\": {\\\\\\\\\\\\\"selectedColumn\\\\\\\\\\\\\": \\\\\\\\\\\\\"Path\\\\\\\\\\\\\"}}, \\\\\\\\\\\\\"typeProperty\\\\\\\\\\\\\": 0}, {\\\\\\\\\\\\\"column\\\\\\\\\\\\\": {\\\\\\\\\\\\\"type\\\\\\\\\\\\\": 2, \\\\\\\\\\\\\"details\\\\\\\\\\\\\": {\\\\\\\\\\\\\"selectedColumn\\\\\\\\\\\\\": \\\\\\\\\\\\\"age\\\\\\\\\\\\\"}}, \\\\\\\\\\\\\"typeProperty\\\\\\\\\\\\\": 3}, {\\\\\\\\\\\\\"column\\\\\\\\\\\\\": {\\\\\\\\\\\\\"type\\\\\\\\\\\\\": 2, \\\\\\\\\\\\\"details\\\\\\\\\\\\\": {\\\\\\\\\\\\\"selectedColumn\\\\\\\\\\\\\": \\\\\\\\\\\\\"anaemia\\\\\\\\\\\\\"}}, \\\\\\\\\\\\\"typeProperty\\\\\\\\\\\\\": 2}, {\\\\\\\\\\\\\"column\\\\\\\\\\\\\": {\\\\\\\\\\\\\"type\\\\\\\\\\\\\": 2, \\\\\\\\\\\\\"details\\\\\\\\\\\\\": {\\\\\\\\\\\\\"selectedColumn\\\\\\\\\\\\\": \\\\\\\\\\\\\"creatinine_phosphokinase\\\\\\\\\\\\\"}}, \\\\\\\\\\\\\"typeProperty\\\\\\\\\\\\\": 2}, {\\\\\\\\\\\\\"column\\\\\\\\\\\\\": {\\\\\\\\\\\\\"type\\\\\\\\\\\\\": 2, \\\\\\\\\\\\\"details\\\\\\\\\\\\\": {\\\\\\\\\\\\\"selectedColumn\\\\\\\\\\\\\": \\\\\\\\\\\\\"diabetes\\\\\\\\\\\\\"}}, \\\\\\\\\\\\\"typeProperty\\\\\\\\\\\\\": 2}, {\\\\\\\\\\\\\"column\\\\\\\\\\\\\": {\\\\\\\\\\\\\"type\\\\\\\\\\\\\": 2, \\\\\\\\\\\\\"details\\\\\\\\\\\\\": {\\\\\\\\\\\\\"selectedColumn\\\\\\\\\\\\\": \\\\\\\\\\\\\"ejection_fraction\\\\\\\\\\\\\"}}, \\\\\\\\\\\\\"typeProperty\\\\\\\\\\\\\": 2}, {\\\\\\\\\\\\\"column\\\\\\\\\\\\\": {\\\\\\\\\\\\\"type\\\\\\\\\\\\\": 2, \\\\\\\\\\\\\"details\\\\\\\\\\\\\": {\\\\\\\\\\\\\"selectedColumn\\\\\\\\\\\\\": \\\\\\\\\\\\\"high_blood_pressure\\\\\\\\\\\\\"}}, \\\\\\\\\\\\\"typeProperty\\\\\\\\\\\\\": 2}, {\\\\\\\\\\\\\"column\\\\\\\\\\\\\": {\\\\\\\\\\\\\"type\\\\\\\\\\\\\": 2, \\\\\\\\\\\\\"details\\\\\\\\\\\\\": {\\\\\\\\\\\\\"selectedColumn\\\\\\\\\\\\\": \\\\\\\\\\\\\"platelets\\\\\\\\\\\\\"}}, \\\\\\\\\\\\\"typeProperty\\\\\\\\\\\\\": 3}, {\\\\\\\\\\\\\"column\\\\\\\\\\\\\": {\\\\\\\\\\\\\"type\\\\\\\\\\\\\": 2, \\\\\\\\\\\\\"details\\\\\\\\\\\\\": {\\\\\\\\\\\\\"selectedColumn\\\\\\\\\\\\\": \\\\\\\\\\\\\"serum_creatinine\\\\\\\\\\\\\"}}, \\\\\\\\\\\\\"typeProperty\\\\\\\\\\\\\": 3}, {\\\\\\\\\\\\\"column\\\\\\\\\\\\\": {\\\\\\\\\\\\\"type\\\\\\\\\\\\\": 2, \\\\\\\\\\\\\"details\\\\\\\\\\\\\": {\\\\\\\\\\\\\"selectedColumn\\\\\\\\\\\\\": \\\\\\\\\\\\\"serum_sodium\\\\\\\\\\\\\"}}, \\\\\\\\\\\\\"typeProperty\\\\\\\\\\\\\": 2}, {\\\\\\\\\\\\\"column\\\\\\\\\\\\\": {\\\\\\\\\\\\\"type\\\\\\\\\\\\\": 2, \\\\\\\\\\\\\"details\\\\\\\\\\\\\": {\\\\\\\\\\\\\"selectedColumn\\\\\\\\\\\\\": \\\\\\\\\\\\\"sex\\\\\\\\\\\\\"}}, \\\\\\\\\\\\\"typeProperty\\\\\\\\\\\\\": 2}, {\\\\\\\\\\\\\"column\\\\\\\\\\\\\": {\\\\\\\\\\\\\"type\\\\\\\\\\\\\": 2, \\\\\\\\\\\\\"details\\\\\\\\\\\\\": {\\\\\\\\\\\\\"selectedColumn\\\\\\\\\\\\\": \\\\\\\\\\\\\"smoking\\\\\\\\\\\\\"}}, \\\\\\\\\\\\\"typeProperty\\\\\\\\\\\\\": 2}, {\\\\\\\\\\\\\"column\\\\\\\\\\\\\": {\\\\\\\\\\\\\"type\\\\\\\\\\\\\": 2, \\\\\\\\\\\\\"details\\\\\\\\\\\\\": {\\\\\\\\\\\\\"selectedColumn\\\\\\\\\\\\\": \\\\\\\\\\\\\"time\\\\\\\\\\\\\"}}, \\\\\\\\\\\\\"typeProperty\\\\\\\\\\\\\": 2}, {\\\\\\\\\\\\\"column\\\\\\\\\\\\\": {\\\\\\\\\\\\\"type\\\\\\\\\\\\\": 2, \\\\\\\\\\\\\"details\\\\\\\\\\\\\": {\\\\\\\\\\\\\"selectedColumn\\\\\\\\\\\\\": \\\\\\\\\\\\\"DEATH_EVENT\\\\\\\\\\\\\"}}, \\\\\\\\\\\\\"typeProperty\\\\\\\\\\\\\": 2}]}, \\\\\\\\\\\\\"localData\\\\\\\\\\\\\": {}, \\\\\\\\\\\\\"isEnabled\\\\\\\\\\\\\": true, \\\\\\\\\\\\\"name\\\\\\\\\\\\\": null, \\\\\\\\\\\\\"annotation\\\\\\\\\\\\\": null}, {\\\\\\\\\\\\\"id\\\\\\\\\\\\\": \\\\\\\\\\\\\"1a90b518-6c8b-4b04-a297-714a5b28c2db\\\\\\\\\\\\\", \\\\\\\\\\\\\"type\\\\\\\\\\\\\": \\\\\\\\\\\\\"Microsoft.DPrep.TakeSampleBlock\\\\\\\\\\\\\", \\\\\\\\\\\\\"arguments\\\\\\\\\\\\\": {\\\\\\\\\\\\\"probability\\\\\\\\\\\\\": 0.9, \\\\\\\\\\\\\"probabilityLowerBound\\\\\\\\\\\\\": 0.0, \\\\\\\\\\\\\"seed\\\\\\\\\\\\\": 2383116637}, \\\\\\\\\\\\\"localData\\\\\\\\\\\\\": {}, \\\\\\\\\\\\\"isEnabled\\\\\\\\\\\\\": true, \\\\\\\\\\\\\"name\\\\\\\\\\\\\": null, \\\\\\\\\\\\\"annotation\\\\\\\\\\\\\": null}], \\\\\\\\\\\\\"inspectors\\\\\\\\\\\\\": [], \\\\\\\\\\\\\"meta\\\\\\\\\\\\\": {\\\\\\\\\\\\\"savedDatasetId\\\\\\\\\\\\\": \\\\\\\\\\\\\"cd339782-a262-4ba5-b3dd-51786b262391\\\\\\\\\\\\\", \\\\\\\\\\\\\"datasetType\\\\\\\\\\\\\": \\\\\\\\\\\\\"tabular\\\\\\\\\\\\\", \\\\\\\\\\\\\"subscriptionId\\\\\\\\\\\\\": \\\\\\\\\\\\\"f5091c60-1c3c-430f-8d81-d802f6bf2414\\\\\\\\\\\\\", \\\\\\\\\\\\\"workspaceId\\\\\\\\\\\\\": \\\\\\\\\\\\\"3ed2b12f-3f63-40c8-82b0-a20a4ac947e4\\\\\\\\\\\\\", \\\\\\\\\\\\\"workspaceLocation\\\\\\\\\\\\\": \\\\\\\\\\\\\"southcentralus\\\\\\\\\\\\\"}}\\\\\", \\\\\"activities\\\\\": 0}',\n",
       "  'EnableSubsampling': None,\n",
       "  'runTemplate': 'AutoML',\n",
       "  'azureml.runsource': 'automl',\n",
       "  'display_task_type': 'classification',\n",
       "  'dependencies_versions': '{\"azureml-widgets\": \"1.20.0\", \"azureml-train\": \"1.20.0\", \"azureml-train-restclients-hyperdrive\": \"1.20.0\", \"azureml-train-core\": \"1.20.0\", \"azureml-train-automl\": \"1.20.0\", \"azureml-train-automl-runtime\": \"1.20.0\", \"azureml-train-automl-client\": \"1.20.0\", \"azureml-tensorboard\": \"1.20.0\", \"azureml-telemetry\": \"1.20.0\", \"azureml-sdk\": \"1.20.0\", \"azureml-samples\": \"0+unknown\", \"azureml-pipeline\": \"1.20.0\", \"azureml-pipeline-steps\": \"1.20.0\", \"azureml-pipeline-core\": \"1.20.0\", \"azureml-opendatasets\": \"1.20.0\", \"azureml-model-management-sdk\": \"1.0.1b6.post1\", \"azureml-mlflow\": \"1.20.0.post1\", \"azureml-interpret\": \"1.20.0\", \"azureml-explain-model\": \"1.20.0\", \"azureml-defaults\": \"1.20.0\", \"azureml-dataset-runtime\": \"1.20.0\", \"azureml-dataprep\": \"2.7.3\", \"azureml-dataprep-rslex\": \"1.5.0\", \"azureml-dataprep-native\": \"27.0.0\", \"azureml-datadrift\": \"1.20.0\", \"azureml-core\": \"1.20.0\", \"azureml-contrib-services\": \"1.20.0\", \"azureml-contrib-server\": \"1.20.0\", \"azureml-contrib-reinforcementlearning\": \"1.20.0\", \"azureml-contrib-pipeline-steps\": \"1.20.0\", \"azureml-contrib-notebook\": \"1.20.0\", \"azureml-contrib-interpret\": \"1.20.0\", \"azureml-contrib-gbdt\": \"1.20.0\", \"azureml-contrib-fairness\": \"1.20.0\", \"azureml-contrib-dataset\": \"1.20.0\", \"azureml-cli-common\": \"1.20.0\", \"azureml-automl-runtime\": \"1.20.0\", \"azureml-automl-core\": \"1.20.0\", \"azureml-accel-models\": \"1.20.0\"}',\n",
       "  '_aml_system_scenario_identification': 'Remote.Parent',\n",
       "  'ClientType': 'SDK',\n",
       "  'environment_cpu_name': 'AzureML-AutoML',\n",
       "  'environment_cpu_label': 'prod',\n",
       "  'environment_gpu_name': 'AzureML-AutoML-GPU',\n",
       "  'environment_gpu_label': 'prod',\n",
       "  'root_attribution': 'automl',\n",
       "  'attribution': 'AutoML',\n",
       "  'Orchestrator': 'AutoML',\n",
       "  'CancelUri': 'https://southcentralus.experiments.azureml.net/jasmine/v1.0/subscriptions/f5091c60-1c3c-430f-8d81-d802f6bf2414/resourceGroups/aml-quickstarts-139012/providers/Microsoft.MachineLearningServices/workspaces/quick-starts-ws-139012/experimentids/27730d93-4295-4ed1-85f7-1a06eb1409da/cancel/AutoML_e8ac35d0-451b-4f6a-90c9-1e5d73e48bbc',\n",
       "  'ClientSdkVersion': '1.21.0',\n",
       "  'snapshotId': '00000000-0000-0000-0000-000000000000',\n",
       "  'SetupRunId': 'AutoML_e8ac35d0-451b-4f6a-90c9-1e5d73e48bbc_setup',\n",
       "  'SetupRunContainerId': 'dcid.AutoML_e8ac35d0-451b-4f6a-90c9-1e5d73e48bbc_setup',\n",
       "  'FeaturizationRunJsonPath': 'featurizer_container.json',\n",
       "  'FeaturizationRunId': 'AutoML_e8ac35d0-451b-4f6a-90c9-1e5d73e48bbc_featurize',\n",
       "  'ProblemInfoJsonString': '{\"dataset_num_categorical\": 0, \"is_sparse\": false, \"subsampling\": false, \"dataset_classes\": 2, \"dataset_features\": 12, \"dataset_samples\": 250, \"single_frequency_class_detected\": false}',\n",
       "  'ModelExplainRunId': 'AutoML_e8ac35d0-451b-4f6a-90c9-1e5d73e48bbc_ModelExplain'},\n",
       " 'inputDatasets': [{'dataset': {'id': 'cd339782-a262-4ba5-b3dd-51786b262391'}, 'consumptionDetails': {'type': 'RunInput', 'inputName': 'training_data', 'mechanism': 'Direct'}}],\n",
       " 'outputDatasets': [],\n",
       " 'logFiles': {},\n",
       " 'submittedBy': 'ODL_User 139012'}"
      ]
     },
     "execution_count": 10,
     "metadata": {},
     "output_type": "execute_result"
    }
   ],
   "source": [
    "RunDetails(remote_run).show()\n",
    "remote_run.wait_for_completion(show_output=True)"
   ]
  },
  {
   "cell_type": "markdown",
   "metadata": {},
   "source": [
    "## Best Model\n",
    "\n",
    "The best model from the automl experiments and all the properties of the model.\n",
    "\n"
   ]
  },
  {
   "cell_type": "code",
   "execution_count": 11,
   "metadata": {
    "gather": {
     "logged": 1598431425670
    },
    "jupyter": {
     "outputs_hidden": false,
     "source_hidden": false
    },
    "nteract": {
     "transient": {
      "deleting": false
     }
    }
   },
   "outputs": [
    {
     "name": "stderr",
     "output_type": "stream",
     "text": [
      "WARNING:root:The version of the SDK does not match the version the model was trained on.\n",
      "WARNING:root:The consistency in the result may not be guaranteed.\n",
      "WARNING:root:Package:azureml-automl-core, training version:1.21.0, current version:1.20.0\n",
      "Package:azureml-automl-runtime, training version:1.21.0, current version:1.20.0\n",
      "Package:azureml-core, training version:1.21.0.post1, current version:1.20.0\n",
      "Package:azureml-dataprep, training version:2.8.2, current version:2.7.3\n",
      "Package:azureml-dataprep-native, training version:28.0.0, current version:27.0.0\n",
      "Package:azureml-dataprep-rslex, training version:1.6.0, current version:1.5.0\n",
      "Package:azureml-dataset-runtime, training version:1.21.0, current version:1.20.0\n",
      "Package:azureml-defaults, training version:1.21.0, current version:1.20.0\n",
      "Package:azureml-interpret, training version:1.21.0, current version:1.20.0\n",
      "Package:azureml-pipeline-core, training version:1.21.0, current version:1.20.0\n",
      "Package:azureml-telemetry, training version:1.21.0, current version:1.20.0\n",
      "Package:azureml-train-automl-client, training version:1.21.0, current version:1.20.0\n",
      "Package:azureml-train-automl-runtime, training version:1.21.0, current version:1.20.0\n",
      "WARNING:root:Please ensure the version of your local conda dependencies match the version on which your model was trained in order to properly retrieve your model.\n"
     ]
    }
   ],
   "source": [
    "best_automl_run, best_automl_model = remote_run.get_output()"
   ]
  },
  {
   "cell_type": "code",
   "execution_count": 12,
   "metadata": {},
   "outputs": [
    {
     "name": "stdout",
     "output_type": "stream",
     "text": [
      "Run(Experiment: new-experiment,\n",
      "Id: AutoML_e8ac35d0-451b-4f6a-90c9-1e5d73e48bbc_92,\n",
      "Type: azureml.scriptrun,\n",
      "Status: Completed)\n"
     ]
    }
   ],
   "source": [
    "print(best_automl_run)"
   ]
  },
  {
   "cell_type": "code",
   "execution_count": 13,
   "metadata": {},
   "outputs": [
    {
     "name": "stdout",
     "output_type": "stream",
     "text": [
      "Pipeline(memory=None,\n",
      "         steps=[('datatransformer',\n",
      "                 DataTransformer(enable_dnn=None, enable_feature_sweeping=None,\n",
      "                                 feature_sweeping_config=None,\n",
      "                                 feature_sweeping_timeout=None,\n",
      "                                 featurization_config=None, force_text_dnn=None,\n",
      "                                 is_cross_validation=None,\n",
      "                                 is_onnx_compatible=None, logger=None,\n",
      "                                 observer=None, task=None, working_dir=None)),\n",
      "                ('prefittedsoftvotingclassifier',...\n",
      "                                                                                                min_split_gain=0.2631578947368421,\n",
      "                                                                                                n_estimators=200,\n",
      "                                                                                                n_jobs=1,\n",
      "                                                                                                num_leaves=143,\n",
      "                                                                                                objective=None,\n",
      "                                                                                                random_state=None,\n",
      "                                                                                                reg_alpha=0.5789473684210527,\n",
      "                                                                                                reg_lambda=0.631578947368421,\n",
      "                                                                                                silent=True,\n",
      "                                                                                                subsample=1,\n",
      "                                                                                                subsample_for_bin=200000,\n",
      "                                                                                                subsample_freq=0,\n",
      "                                                                                                verbose=-10))],\n",
      "                                                                     verbose=False))],\n",
      "                                               flatten_transform=None,\n",
      "                                               weights=[0.1, 0.1, 0.1, 0.1, 0.1,\n",
      "                                                        0.1, 0.2, 0.1, 0.1]))],\n",
      "         verbose=False)\n"
     ]
    }
   ],
   "source": [
    "print(best_automl_model)"
   ]
  },
  {
   "cell_type": "code",
   "execution_count": 15,
   "metadata": {},
   "outputs": [
    {
     "data": {
      "text/html": [
       "<table style=\"width:100%\"><tr><th>Experiment</th><th>Id</th><th>Type</th><th>Status</th><th>Details Page</th><th>Docs Page</th></tr><tr><td>new-experiment</td><td>AutoML_e8ac35d0-451b-4f6a-90c9-1e5d73e48bbc_92</td><td>azureml.scriptrun</td><td>Completed</td><td><a href=\"https://ml.azure.com/experiments/new-experiment/runs/AutoML_e8ac35d0-451b-4f6a-90c9-1e5d73e48bbc_92?wsid=/subscriptions/f5091c60-1c3c-430f-8d81-d802f6bf2414/resourcegroups/aml-quickstarts-139012/workspaces/quick-starts-ws-139012\" target=\"_blank\" rel=\"noopener\">Link to Azure Machine Learning studio</a></td><td><a href=\"https://docs.microsoft.com/en-us/python/api/azureml-core/azureml.core.run.Run?view=azure-ml-py\" target=\"_blank\" rel=\"noopener\">Link to Documentation</a></td></tr></table>"
      ],
      "text/plain": [
       "Run(Experiment: new-experiment,\n",
       "Id: AutoML_e8ac35d0-451b-4f6a-90c9-1e5d73e48bbc_92,\n",
       "Type: azureml.scriptrun,\n",
       "Status: Completed)"
      ]
     },
     "execution_count": 15,
     "metadata": {},
     "output_type": "execute_result"
    }
   ],
   "source": [
    "best_automl_run"
   ]
  },
  {
   "cell_type": "code",
   "execution_count": 16,
   "metadata": {},
   "outputs": [
    {
     "name": "stdout",
     "output_type": "stream",
     "text": [
      "balanced_accuracy 0.8643024979567108\n",
      "average_precision_score_micro 0.9266301636346217\n",
      "recall_score_micro 0.8879804934021802\n",
      "AUC_weighted 0.9205561442862426\n",
      "f1_score_weighted 0.8880881570408049\n",
      "f1_score_micro 0.8879804934021802\n",
      "average_precision_score_macro 0.8909225801185564\n",
      "f1_score_macro 0.8628922226162028\n",
      "AUC_micro 0.925978653021506\n",
      "norm_macro_recall 0.7286049959134214\n",
      "matthews_correlation 0.7281805874736121\n",
      "precision_score_weighted 0.8905626696143601\n",
      "precision_score_macro 0.8639252977764347\n",
      "log_loss 0.37640083253120293\n",
      "recall_score_weighted 0.8879804934021802\n",
      "recall_score_macro 0.8643024979567108\n",
      "average_precision_score_weighted 0.9256192795568977\n",
      "weighted_accuracy 0.9030135335509483\n",
      "AUC_macro 0.9205561442862426\n",
      "accuracy 0.8879804934021802\n",
      "precision_score_micro 0.8879804934021802\n",
      "accuracy_table aml://artifactId/ExperimentRun/dcid.AutoML_e8ac35d0-451b-4f6a-90c9-1e5d73e48bbc_92/accuracy_table\n",
      "confusion_matrix aml://artifactId/ExperimentRun/dcid.AutoML_e8ac35d0-451b-4f6a-90c9-1e5d73e48bbc_92/confusion_matrix\n"
     ]
    }
   ],
   "source": [
    "get_best_automl_metrics = best_automl_run.get_metrics()\n",
    "\n",
    "for metric_name in get_best_automl_metrics:\n",
    "    metric = get_best_automl_metrics[metric_name]\n",
    "    print(metric_name, metric)"
   ]
  },
  {
   "cell_type": "code",
   "execution_count": 19,
   "metadata": {
    "gather": {
     "logged": 1598431426111
    },
    "jupyter": {
     "outputs_hidden": false,
     "source_hidden": false
    },
    "nteract": {
     "transient": {
      "deleting": false
     }
    }
   },
   "outputs": [],
   "source": [
    "# Save the best model\n",
    "os.makedirs('outputs', exist_ok=True)\n",
    "\n",
    "joblib.dump(best_automl_model, filename=\"outputs/automl-model.pkl\")\n",
    "\n",
    "automl_model = remote_run.register_model(model_name='best-automl-model', description=\"Training context : AutoML\")"
   ]
  },
  {
   "cell_type": "markdown",
   "metadata": {},
   "source": [
    "## Model Deployment\n",
    "\n",
    "Register the model, create an inference config and deploy the model as a web service."
   ]
  },
  {
   "cell_type": "code",
   "execution_count": 25,
   "metadata": {},
   "outputs": [],
   "source": [
    "# Create an inference config\n",
    "\n",
    "from azureml.core.environment import Environment\n",
    "from azureml.core.model import InferenceConfig\n",
    "from azureml.core.webservice import AciWebservice\n",
    "from azureml.automl.core.shared import constants\n",
    "\n",
    "\n",
    "aci_config = AciWebservice.deploy_configuration(\n",
    "    cpu_cores=1,\n",
    "    memory_gb=1,\n",
    "    description='Heart failure prediction',\n",
    "    auth_enabled=True\n",
    ")"
   ]
  },
  {
   "cell_type": "code",
   "execution_count": 26,
   "metadata": {},
   "outputs": [
    {
     "name": "stdout",
     "output_type": "stream",
     "text": [
      "Tips: You can try get_logs(): https://aka.ms/debugimage#dockerlog or local deployment: https://aka.ms/debugimage#debug-locally to debug if deployment takes longer than 10 minutes.\n",
      "Running............................................\n",
      "Succeeded\n",
      "ACI service creation operation finished, operation \"Succeeded\"\n"
     ]
    }
   ],
   "source": [
    "model = Model(ws, 'best-automl-model')\n",
    "\n",
    "myenv = best_automl_run.get_environment()\n",
    "best_automl_run.download_file('outputs/scoring_file_v_1_0_0.py', 'score.py')\n",
    "best_automl_run.download_file(constants.CONDA_ENV_FILE_PATH, 'myenv.yml')\n",
    "\n",
    "inference_config = InferenceConfig(entry_script='score.py', environment=myenv)\n",
    "\n",
    "service = Model.deploy(workspace=ws, \n",
    "                       name='aci-service', \n",
    "                       models=[model], \n",
    "                       inference_config=inference_config, \n",
    "                       deployment_config=aci_config)\n",
    "\n",
    "service.wait_for_deployment(show_output=True)"
   ]
  },
  {
   "cell_type": "code",
   "execution_count": 27,
   "metadata": {},
   "outputs": [],
   "source": [
    "#Enable application insights\n",
    "service.update(enable_app_insights = True)"
   ]
  },
  {
   "cell_type": "code",
   "execution_count": 31,
   "metadata": {},
   "outputs": [
    {
     "name": "stdout",
     "output_type": "stream",
     "text": [
      "State : Healthy\n",
      "Key YxDnLyfILbE2YqC06dOQlQk3vQIvZumz\n",
      "Swagger URI : http://dc2d423f-0e9c-46db-a10d-df2e8c2ff987.southcentralus.azurecontainer.io/swagger.json\n",
      "Scoring URI : http://dc2d423f-0e9c-46db-a10d-df2e8c2ff987.southcentralus.azurecontainer.io/score\n"
     ]
    }
   ],
   "source": [
    "print(\"State : \"+service.state)\n",
    "print(\"Key \" + service.get_keys()[0])\n",
    "print(\"Swagger URI : \"+service.swagger_uri)\n",
    "print(\"Scoring URI : \"+service.scoring_uri)"
   ]
  },
  {
   "cell_type": "markdown",
   "metadata": {
    "collapsed": true,
    "gather": {
     "logged": 1598431657736
    },
    "jupyter": {
     "outputs_hidden": false,
     "source_hidden": false
    },
    "nteract": {
     "transient": {
      "deleting": false
     }
    }
   },
   "source": [
    "Send a request to the web service that is deployed to test it."
   ]
  },
  {
   "cell_type": "code",
   "execution_count": 38,
   "metadata": {
    "gather": {
     "logged": 1598432707604
    },
    "jupyter": {
     "outputs_hidden": false,
     "source_hidden": false
    },
    "nteract": {
     "transient": {
      "deleting": false
     }
    }
   },
   "outputs": [
    {
     "name": "stdout",
     "output_type": "stream",
     "text": [
      "{\"data\": [{\"age\": 55.0, \"anaemia\": 0, \"creatinine_phosphokinase\": 748, \"diabetes\": 0, \"ejection_fraction\": 45, \"high_blood_pressure\": 0, \"platelets\": 263000.0, \"serum_creatinine\": 1.3, \"serum_sodium\": 137, \"sex\": 1, \"smoking\": 0, \"time\": 88}, {\"age\": 60.0, \"anaemia\": 1, \"creatinine_phosphokinase\": 754, \"diabetes\": 1, \"ejection_fraction\": 40, \"high_blood_pressure\": 1, \"platelets\": 328000.0, \"serum_creatinine\": 1.2, \"serum_sodium\": 126, \"sex\": 1, \"smoking\": 0, \"time\": 91}]}\n"
     ]
    }
   ],
   "source": [
    "import requests\n",
    "import json\n",
    "\n",
    "# Two sets of data to score, so we get two results back\n",
    "\n",
    "td = test_data.to_pandas_dataframe()\n",
    "sample_data = td.sample(2)\n",
    "y_test = sample_data[\"DEATH_EVENT\"]\n",
    "sample_data.drop(['DEATH_EVENT'], inplace=True, axis=1)\n",
    "x_test = sample_data\n",
    "data = {\"data\":x_test.to_dict(orient='records')}\n",
    "\n",
    "# Convert to JSON string\n",
    "input_data = json.dumps(data)\n",
    "print(input_data)"
   ]
  },
  {
   "cell_type": "code",
   "execution_count": 39,
   "metadata": {},
   "outputs": [
    {
     "name": "stdout",
     "output_type": "stream",
     "text": [
      "Prediction : \"{\\\"result\\\": [0, 0]}\"\n",
      "True Values : [0 0]\n"
     ]
    }
   ],
   "source": [
    "# Set the content type\n",
    "headers = {'Content-Type': 'application/json'}\n",
    "# If authentication is enabled, set the authorization header\n",
    "headers['Authorization'] = f'Bearer {service.get_keys()[0]}'\n",
    "\n",
    "# Make the request and display the response\n",
    "resp = requests.post(service.scoring_uri, input_data, headers=headers)\n",
    "print('Prediction :', resp.text)\n",
    "\n",
    "# Print original labels\n",
    "print('True Values :', y_test.values)"
   ]
  },
  {
   "cell_type": "markdown",
   "metadata": {
    "collapsed": true,
    "gather": {
     "logged": 1598432765711
    },
    "jupyter": {
     "outputs_hidden": false,
     "source_hidden": false
    },
    "nteract": {
     "transient": {
      "deleting": false
     }
    }
   },
   "source": [
    "Print the logs of the web service and delete the service"
   ]
  },
  {
   "cell_type": "code",
   "execution_count": 40,
   "metadata": {
    "jupyter": {
     "outputs_hidden": false,
     "source_hidden": false
    },
    "nteract": {
     "transient": {
      "deleting": false
     }
    }
   },
   "outputs": [
    {
     "name": "stdout",
     "output_type": "stream",
     "text": [
      "2021-02-16T11:27:26,971621200+00:00 - rsyslog/run \n",
      "2021-02-16T11:27:26,976435700+00:00 - iot-server/run \n",
      "2021-02-16T11:27:26,987267900+00:00 - nginx/run \n",
      "/usr/sbin/nginx: /azureml-envs/azureml_20a8278aa8b20dd48cc50f56a6d2586c/lib/libcrypto.so.1.0.0: no version information available (required by /usr/sbin/nginx)\n",
      "/usr/sbin/nginx: /azureml-envs/azureml_20a8278aa8b20dd48cc50f56a6d2586c/lib/libcrypto.so.1.0.0: no version information available (required by /usr/sbin/nginx)\n",
      "/usr/sbin/nginx: /azureml-envs/azureml_20a8278aa8b20dd48cc50f56a6d2586c/lib/libssl.so.1.0.0: no version information available (required by /usr/sbin/nginx)\n",
      "/usr/sbin/nginx: /azureml-envs/azureml_20a8278aa8b20dd48cc50f56a6d2586c/lib/libssl.so.1.0.0: no version information available (required by /usr/sbin/nginx)\n",
      "/usr/sbin/nginx: /azureml-envs/azureml_20a8278aa8b20dd48cc50f56a6d2586c/lib/libssl.so.1.0.0: no version information available (required by /usr/sbin/nginx)\n",
      "2021-02-16T11:27:26,998065900+00:00 - gunicorn/run \n",
      "rsyslogd: /azureml-envs/azureml_20a8278aa8b20dd48cc50f56a6d2586c/lib/libuuid.so.1: no version information available (required by rsyslogd)\n",
      "EdgeHubConnectionString and IOTEDGE_IOTHUBHOSTNAME are not set. Exiting...\n",
      "2021-02-16T11:27:28,377442100+00:00 - iot-server/finish 1 0\n",
      "2021-02-16T11:27:28,381613000+00:00 - Exit code 1 is normal. Not restarting iot-server.\n",
      "Starting gunicorn 19.9.0\n",
      "Listening at: http://127.0.0.1:31311 (74)\n",
      "Using worker: sync\n",
      "worker timeout is set to 300\n",
      "Booting worker with pid: 100\n",
      "SPARK_HOME not set. Skipping PySpark Initialization.\n",
      "Generating new fontManager, this may take some time...\n",
      "Initializing logger\n",
      "2021-02-16 11:27:33,519 | root | INFO | Starting up app insights client\n",
      "2021-02-16 11:27:33,520 | root | INFO | Starting up request id generator\n",
      "2021-02-16 11:27:33,520 | root | INFO | Starting up app insight hooks\n",
      "2021-02-16 11:27:33,521 | root | INFO | Invoking user's init function\n",
      "2021-02-16 11:27:44,357 | root | INFO | Users's init has completed successfully\n",
      "2021-02-16 11:27:44,410 | root | INFO | Skipping middleware: dbg_model_info as it's not enabled.\n",
      "2021-02-16 11:27:44,410 | root | INFO | Skipping middleware: dbg_resource_usage as it's not enabled.\n",
      "2021-02-16 11:27:44,414 | root | INFO | Scoring timeout is found from os.environ: 60000 ms\n",
      "2021-02-16 11:28:08,664 | root | INFO | 200\n",
      "127.0.0.1 - - [16/Feb/2021:11:28:08 +0000] \"GET /swagger.json HTTP/1.0\" 200 2834 \"-\" \"Go-http-client/1.1\"\n",
      "2021-02-16 11:30:57,739 | root | INFO | Validation Request Content-Type\n",
      "2021-02-16 11:30:57,740 | root | INFO | Scoring Timer is set to 60.0 seconds\n",
      "2021-02-16 11:30:58,136 | root | INFO | 200\n",
      "127.0.0.1 - - [16/Feb/2021:11:30:58 +0000] \"POST /score HTTP/1.0\" 200 22 \"-\" \"python-requests/2.25.1\"\n",
      "2021-02-16 11:31:03,036 | root | INFO | Validation Request Content-Type\n",
      "2021-02-16 11:31:03,036 | root | INFO | Scoring Timer is set to 60.0 seconds\n",
      "2021-02-16 11:31:03,494 | root | INFO | 200\n",
      "127.0.0.1 - - [16/Feb/2021:11:31:03 +0000] \"POST /score HTTP/1.0\" 200 22 \"-\" \"python-requests/2.25.1\"\n",
      "2021-02-16 11:31:12,543 | root | INFO | Validation Request Content-Type\n",
      "2021-02-16 11:31:12,543 | root | INFO | Scoring Timer is set to 60.0 seconds\n",
      "2021-02-16 11:31:12,924 | root | INFO | 200\n",
      "127.0.0.1 - - [16/Feb/2021:11:31:12 +0000] \"POST /score HTTP/1.0\" 200 22 \"-\" \"python-requests/2.25.1\"\n",
      "\n"
     ]
    }
   ],
   "source": [
    "print(service.get_logs())"
   ]
  },
  {
   "cell_type": "code",
   "execution_count": 43,
   "metadata": {},
   "outputs": [],
   "source": [
    "service.delete()\n",
    "cpu_cluster.delete()"
   ]
  },
  {
   "cell_type": "code",
   "execution_count": null,
   "metadata": {},
   "outputs": [],
   "source": []
  }
 ],
 "metadata": {
  "kernel_info": {
   "name": "python3"
  },
  "kernelspec": {
   "display_name": "Python 3",
   "language": "python",
   "name": "python3"
  },
  "language_info": {
   "codemirror_mode": {
    "name": "ipython",
    "version": 3
   },
   "file_extension": ".py",
   "mimetype": "text/x-python",
   "name": "python",
   "nbconvert_exporter": "python",
   "pygments_lexer": "ipython3",
   "version": "3.6.9"
  },
  "nteract": {
   "version": "nteract-front-end@1.0.0"
  }
 },
 "nbformat": 4,
 "nbformat_minor": 2
}
