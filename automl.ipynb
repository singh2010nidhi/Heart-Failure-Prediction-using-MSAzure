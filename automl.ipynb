{
 "cells": [
  {
   "cell_type": "markdown",
   "metadata": {},
   "source": [
    "# Automated ML\n",
    "\n",
    "Import all the dependencies that we will need to complete the project."
   ]
  },
  {
   "cell_type": "code",
   "execution_count": 1,
   "metadata": {
    "gather": {
     "logged": 1598423888013
    },
    "jupyter": {
     "outputs_hidden": false,
     "source_hidden": false
    },
    "nteract": {
     "transient": {
      "deleting": false
     }
    }
   },
   "outputs": [],
   "source": [
    "from azureml.core import Workspace, Experiment, Dataset\n",
    "from azureml.core.compute import ComputeTarget, AmlCompute\n",
    "from azureml.core.compute_target import ComputeTargetException\n",
    "from azureml.data.dataset_factory import TabularDatasetFactory\n",
    "from azureml.widgets import RunDetails\n",
    "import pandas as pd\n",
    "from azureml.data.datapath import DataPath\n",
    "from azureml.train.automl import AutoMLConfig\n",
    "import joblib \n",
    "import os"
   ]
  },
  {
   "cell_type": "markdown",
   "metadata": {},
   "source": [
    "## Dataset\n",
    "\n",
    "### Overview\n",
    "\n",
    "The dataset that we will be using for this project is the [Heart Failure Prediction](https://www.kaggle.com/andrewmvd/heart-failure-clinical-data) dataset from Kaggle. \n",
    "\n",
    "Heart failure is a common event caused by CVDs and this dataset contains 12 features that can be used to predict mortality by heart failure.\n",
    "\n",
    "People with cardiovascular disease or who are at high cardiovascular risk need early detection and management wherein a machine learning model can be of great help.\n",
    "\n",
    "**12 clinical features:**\n",
    "\n",
    "* age - Age\n",
    "\n",
    "* anaemia - Decrease of red blood cells or hemoglobin (boolean)\n",
    "\n",
    "* creatinine_phosphokinase - Level of the CPK enzyme in the blood (mcg/L)\n",
    "\n",
    "* diabetes - If the patient has diabetes (boolean)\n",
    "\n",
    "* ejection_fraction - Percentage of blood leaving the heart at each contraction (percentage)\n",
    "\n",
    "* high_blood_pressure - If the patient has hypertension (boolean)\n",
    "  \n",
    "* platelets - Platelets in the blood (kiloplatelets/mL)\n",
    "\n",
    "* serum_creatinine - Level of serum creatinine in the blood (mg/dL)\n",
    "\n",
    "* serum_sodium - Level of serum sodium in the blood (mEq/L)\n",
    "  \n",
    "* sex - Woman or man (binary)\n",
    "  \n",
    "* smoking - If the patient smokes or not (boolean)\n",
    "\n",
    "* time - Follow-up period (days)\n",
    "\n",
    "In this project we will use Azure Automated ML to make prediction on the death event based on the above mentioned clinical features.\n"
   ]
  },
  {
   "cell_type": "code",
   "execution_count": 2,
   "metadata": {
    "gather": {
     "logged": 1598423890461
    },
    "jupyter": {
     "outputs_hidden": false,
     "source_hidden": false
    },
    "nteract": {
     "transient": {
      "deleting": false
     }
    }
   },
   "outputs": [],
   "source": [
    "ws = Workspace.from_config()\n",
    "\n",
    "# choose a name for experiment\n",
    "experiment_name = 'new-experiment'\n",
    "\n",
    "experiment=Experiment(ws, experiment_name)"
   ]
  },
  {
   "cell_type": "code",
   "execution_count": 3,
   "metadata": {},
   "outputs": [
    {
     "name": "stdout",
     "output_type": "stream",
     "text": [
      "Workspace name: quick-starts-ws-138975\n",
      "Azure region: southcentralus\n",
      "Subscription id: aa7cf8e8-d23f-4bce-a7b9-1f0b4e0ac8ee\n",
      "Resource group: aml-quickstarts-138975\n"
     ]
    }
   ],
   "source": [
    "print('Workspace name: '+ ws.name,\n",
    "     'Azure region: '+ ws.location,\n",
    "      'Subscription id: '+ ws.subscription_id,\n",
    "     'Resource group: '+ ws.resource_group, sep=\"\\n\")\n",
    "\n",
    "run = experiment.start_logging()"
   ]
  },
  {
   "cell_type": "code",
   "execution_count": 4,
   "metadata": {},
   "outputs": [],
   "source": [
    "ds = Dataset.get_by_name(ws, 'heart-failure-dataset')"
   ]
  },
  {
   "cell_type": "code",
   "execution_count": 5,
   "metadata": {},
   "outputs": [
    {
     "data": {
      "text/html": [
       "<div>\n",
       "<style scoped>\n",
       "    .dataframe tbody tr th:only-of-type {\n",
       "        vertical-align: middle;\n",
       "    }\n",
       "\n",
       "    .dataframe tbody tr th {\n",
       "        vertical-align: top;\n",
       "    }\n",
       "\n",
       "    .dataframe thead th {\n",
       "        text-align: right;\n",
       "    }\n",
       "</style>\n",
       "<table border=\"1\" class=\"dataframe\">\n",
       "  <thead>\n",
       "    <tr style=\"text-align: right;\">\n",
       "      <th></th>\n",
       "      <th>age</th>\n",
       "      <th>anaemia</th>\n",
       "      <th>creatinine_phosphokinase</th>\n",
       "      <th>diabetes</th>\n",
       "      <th>ejection_fraction</th>\n",
       "      <th>high_blood_pressure</th>\n",
       "      <th>platelets</th>\n",
       "      <th>serum_creatinine</th>\n",
       "      <th>serum_sodium</th>\n",
       "      <th>sex</th>\n",
       "      <th>smoking</th>\n",
       "      <th>time</th>\n",
       "      <th>DEATH_EVENT</th>\n",
       "    </tr>\n",
       "  </thead>\n",
       "  <tbody>\n",
       "    <tr>\n",
       "      <th>0</th>\n",
       "      <td>75.0</td>\n",
       "      <td>0</td>\n",
       "      <td>582</td>\n",
       "      <td>0</td>\n",
       "      <td>20</td>\n",
       "      <td>1</td>\n",
       "      <td>265000.00</td>\n",
       "      <td>1.9</td>\n",
       "      <td>130</td>\n",
       "      <td>1</td>\n",
       "      <td>0</td>\n",
       "      <td>4</td>\n",
       "      <td>1</td>\n",
       "    </tr>\n",
       "    <tr>\n",
       "      <th>1</th>\n",
       "      <td>55.0</td>\n",
       "      <td>0</td>\n",
       "      <td>7861</td>\n",
       "      <td>0</td>\n",
       "      <td>38</td>\n",
       "      <td>0</td>\n",
       "      <td>263358.03</td>\n",
       "      <td>1.1</td>\n",
       "      <td>136</td>\n",
       "      <td>1</td>\n",
       "      <td>0</td>\n",
       "      <td>6</td>\n",
       "      <td>1</td>\n",
       "    </tr>\n",
       "    <tr>\n",
       "      <th>2</th>\n",
       "      <td>65.0</td>\n",
       "      <td>0</td>\n",
       "      <td>146</td>\n",
       "      <td>0</td>\n",
       "      <td>20</td>\n",
       "      <td>0</td>\n",
       "      <td>162000.00</td>\n",
       "      <td>1.3</td>\n",
       "      <td>129</td>\n",
       "      <td>1</td>\n",
       "      <td>1</td>\n",
       "      <td>7</td>\n",
       "      <td>1</td>\n",
       "    </tr>\n",
       "    <tr>\n",
       "      <th>3</th>\n",
       "      <td>50.0</td>\n",
       "      <td>1</td>\n",
       "      <td>111</td>\n",
       "      <td>0</td>\n",
       "      <td>20</td>\n",
       "      <td>0</td>\n",
       "      <td>210000.00</td>\n",
       "      <td>1.9</td>\n",
       "      <td>137</td>\n",
       "      <td>1</td>\n",
       "      <td>0</td>\n",
       "      <td>7</td>\n",
       "      <td>1</td>\n",
       "    </tr>\n",
       "    <tr>\n",
       "      <th>4</th>\n",
       "      <td>65.0</td>\n",
       "      <td>1</td>\n",
       "      <td>160</td>\n",
       "      <td>1</td>\n",
       "      <td>20</td>\n",
       "      <td>0</td>\n",
       "      <td>327000.00</td>\n",
       "      <td>2.7</td>\n",
       "      <td>116</td>\n",
       "      <td>0</td>\n",
       "      <td>0</td>\n",
       "      <td>8</td>\n",
       "      <td>1</td>\n",
       "    </tr>\n",
       "  </tbody>\n",
       "</table>\n",
       "</div>"
      ],
      "text/plain": [
       "    age  anaemia  creatinine_phosphokinase  diabetes  ejection_fraction  \\\n",
       "0  75.0        0                       582         0                 20   \n",
       "1  55.0        0                      7861         0                 38   \n",
       "2  65.0        0                       146         0                 20   \n",
       "3  50.0        1                       111         0                 20   \n",
       "4  65.0        1                       160         1                 20   \n",
       "\n",
       "   high_blood_pressure  platelets  serum_creatinine  serum_sodium  sex  \\\n",
       "0                    1  265000.00               1.9           130    1   \n",
       "1                    0  263358.03               1.1           136    1   \n",
       "2                    0  162000.00               1.3           129    1   \n",
       "3                    0  210000.00               1.9           137    1   \n",
       "4                    0  327000.00               2.7           116    0   \n",
       "\n",
       "   smoking  time  DEATH_EVENT  \n",
       "0        0     4            1  \n",
       "1        0     6            1  \n",
       "2        1     7            1  \n",
       "3        0     7            1  \n",
       "4        0     8            1  "
      ]
     },
     "execution_count": 5,
     "metadata": {},
     "output_type": "execute_result"
    }
   ],
   "source": [
    "df = ds.to_pandas_dataframe()\n",
    "df.head()"
   ]
  },
  {
   "cell_type": "code",
   "execution_count": 6,
   "metadata": {},
   "outputs": [],
   "source": [
    "train_data, test_data = ds.random_split(0.9)"
   ]
  },
  {
   "cell_type": "markdown",
   "metadata": {},
   "source": [
    "## Create Compute Cluster"
   ]
  },
  {
   "cell_type": "code",
   "execution_count": 7,
   "metadata": {},
   "outputs": [
    {
     "name": "stdout",
     "output_type": "stream",
     "text": [
      "Creating\n",
      "Succeeded\n",
      "AmlCompute wait for completion finished\n",
      "\n",
      "Minimum number of nodes requested have been provisioned\n"
     ]
    }
   ],
   "source": [
    "cpu_cluster_name = \"compute-cluster\"\n",
    "#Verify that the cluster does not exist already\n",
    "try:\n",
    "    cpu_cluster = ComputeTarget(workspace = ws, name = cpu_cluster_name)\n",
    "    print(\"Found existing cluster. Use it\")\n",
    "except ComputeTargetException:\n",
    "    compute_config = AmlCompute.provisioning_configuration(vm_size='STANDARD_D2_V2', max_nodes =4)\n",
    "    cpu_cluster = ComputeTarget.create(ws, cpu_cluster_name, compute_config)\n",
    "    \n",
    "cpu_cluster.wait_for_completion(show_output=True)\n",
    "    "
   ]
  },
  {
   "cell_type": "markdown",
   "metadata": {},
   "source": [
    "## AutoML Configuration\n",
    "\n",
    "Instantiate an AutoMLConfig object for AutoML Configuration. \n",
    "\n",
    "The parameters used here are:\n",
    "\n",
    "* `n_cross_validation = 3` - Since our dataset is small. We apply cross validation with 3 folds instead of train/validation data split.\n",
    "\n",
    "\n",
    "* `primary_metric = 'accuracy'` - The primary metric parameter determines the metric to be used during model training for optimization. Accuracy primary metric is chosen for binary classification dataset.\n",
    "\n",
    "\n",
    "* `experiment_timeout_minutes = 30` - This defines how long, in minutes, our experiment should continue to run. Here this timeout is set to 30 minutes.\n",
    "\n",
    "\n",
    "* `max_concurrent_iterations = 4` - To help manage child runs and when they can be performed, we match the number of maximum concurrent iterations of our experiment to the number of nodes in the cluster. So, we get a dedicated cluster per experiment.\n",
    "\n",
    "\n",
    "* `task = 'classification'` - This specifies the experiment type as classification.\n",
    "\n",
    "\n",
    "*  `compute_target = cpu_cluster` -  Azure Machine Learning Managed Compute is a managed service that enables the ability to train machine learning models on clusters of Azure virtual machines. Here compute target is set to cpu_cluster which is already defined with 'STANDARD_D2_V2' and maximum nodes equal to 4.\n",
    "\n",
    "\n",
    "* `training_data = train_data` - This specifies the training data to be used in this experiment which is set to train_data which is a part of the dataset uploaded to the datastore.\n",
    "\n",
    "\n",
    "* `label_column_name = 'DEATH_EVENT'` - The target column here is set to DEATH_EVENT which has values 1 if the patient deceased or 0 if the patient survived.\n",
    "\n",
    "\n",
    "* `featurization= 'auto'` - This indicates that as part of preprocessing, data guardrails and featurization steps are performed automatically.\n"
   ]
  },
  {
   "cell_type": "code",
   "execution_count": 8,
   "metadata": {
    "gather": {
     "logged": 1598429217746
    },
    "jupyter": {
     "outputs_hidden": false,
     "source_hidden": false
    },
    "nteract": {
     "transient": {
      "deleting": false
     }
    }
   },
   "outputs": [],
   "source": [
    "# Automl settings\n",
    "automl_settings = {\n",
    "    \"n_cross_validations\": 3,\n",
    "    \"primary_metric\": 'accuracy',\n",
    "    \"experiment_timeout_minutes\": 30,\n",
    "    \"max_concurrent_iterations\": 4\n",
    "}\n",
    "\n",
    "# automl config here\n",
    "automl_config = AutoMLConfig(task = 'classification',\n",
    "                            compute_target = cpu_cluster,\n",
    "                             training_data = train_data,\n",
    "                             label_column_name = 'DEATH_EVENT',\n",
    "                             featurization= 'auto',\n",
    "                             **automl_settings\n",
    "                            )"
   ]
  },
  {
   "cell_type": "code",
   "execution_count": 9,
   "metadata": {
    "gather": {
     "logged": 1598431107951
    },
    "jupyter": {
     "outputs_hidden": false,
     "source_hidden": false
    },
    "nteract": {
     "transient": {
      "deleting": false
     }
    }
   },
   "outputs": [
    {
     "name": "stdout",
     "output_type": "stream",
     "text": [
      "Running on remote.\n"
     ]
    }
   ],
   "source": [
    "# Submit the experiment\n",
    "remote_run = experiment.submit(automl_config)"
   ]
  },
  {
   "cell_type": "markdown",
   "metadata": {},
   "source": [
    "## Run Details\n",
    "\n",
    "The `RunDetails` widget shows the different experiments."
   ]
  },
  {
   "cell_type": "code",
   "execution_count": 10,
   "metadata": {
    "gather": {
     "logged": 1598431121770
    },
    "jupyter": {
     "outputs_hidden": false,
     "source_hidden": false
    },
    "nteract": {
     "transient": {
      "deleting": false
     }
    }
   },
   "outputs": [
    {
     "data": {
      "application/vnd.jupyter.widget-view+json": {
       "model_id": "34b829bbd34c4c13952e121268058852",
       "version_major": 2,
       "version_minor": 0
      },
      "text/plain": [
       "_AutoMLWidget(widget_settings={'childWidgetDisplay': 'popup', 'send_telemetry': False, 'log_level': 'INFO', 's…"
      ]
     },
     "metadata": {},
     "output_type": "display_data"
    },
    {
     "data": {
      "application/aml.mini.widget.v1": "{\"status\": \"Completed\", \"workbench_run_details_uri\": \"https://ml.azure.com/experiments/new-experiment/runs/AutoML_f152ea1b-337e-453f-b35a-6ed293cda5c5?wsid=/subscriptions/aa7cf8e8-d23f-4bce-a7b9-1f0b4e0ac8ee/resourcegroups/aml-quickstarts-138975/workspaces/quick-starts-ws-138975\", \"run_id\": \"AutoML_f152ea1b-337e-453f-b35a-6ed293cda5c5\", \"run_properties\": {\"run_id\": \"AutoML_f152ea1b-337e-453f-b35a-6ed293cda5c5\", \"created_utc\": \"2021-02-15T18:52:42.413208Z\", \"properties\": {\"num_iterations\": \"1000\", \"training_type\": \"TrainFull\", \"acquisition_function\": \"EI\", \"primary_metric\": \"accuracy\", \"train_split\": \"0\", \"acquisition_parameter\": \"0\", \"num_cross_validation\": \"3\", \"target\": \"compute-cluster\", \"AMLSettingsJsonString\": \"{\\\"path\\\":null,\\\"name\\\":\\\"new-experiment\\\",\\\"subscription_id\\\":\\\"aa7cf8e8-d23f-4bce-a7b9-1f0b4e0ac8ee\\\",\\\"resource_group\\\":\\\"aml-quickstarts-138975\\\",\\\"workspace_name\\\":\\\"quick-starts-ws-138975\\\",\\\"region\\\":\\\"southcentralus\\\",\\\"compute_target\\\":\\\"compute-cluster\\\",\\\"spark_service\\\":null,\\\"azure_service\\\":\\\"remote\\\",\\\"many_models\\\":false,\\\"pipeline_fetch_max_batch_size\\\":1,\\\"iterations\\\":1000,\\\"primary_metric\\\":\\\"accuracy\\\",\\\"task_type\\\":\\\"classification\\\",\\\"data_script\\\":null,\\\"validation_size\\\":0.0,\\\"n_cross_validations\\\":3,\\\"y_min\\\":null,\\\"y_max\\\":null,\\\"num_classes\\\":null,\\\"featurization\\\":\\\"auto\\\",\\\"_ignore_package_version_incompatibilities\\\":false,\\\"is_timeseries\\\":false,\\\"max_cores_per_iteration\\\":1,\\\"max_concurrent_iterations\\\":4,\\\"iteration_timeout_minutes\\\":null,\\\"mem_in_mb\\\":null,\\\"enforce_time_on_windows\\\":false,\\\"experiment_timeout_minutes\\\":30,\\\"experiment_exit_score\\\":null,\\\"whitelist_models\\\":null,\\\"blacklist_algos\\\":[\\\"TensorFlowLinearClassifier\\\",\\\"TensorFlowDNN\\\"],\\\"supported_models\\\":[\\\"SGD\\\",\\\"ExtremeRandomTrees\\\",\\\"TensorFlowLinearClassifier\\\",\\\"XGBoostClassifier\\\",\\\"BernoulliNaiveBayes\\\",\\\"LinearSVM\\\",\\\"GradientBoosting\\\",\\\"SVM\\\",\\\"DecisionTree\\\",\\\"AveragedPerceptronClassifier\\\",\\\"TensorFlowDNN\\\",\\\"LightGBM\\\",\\\"RandomForest\\\",\\\"MultinomialNaiveBayes\\\",\\\"KNN\\\",\\\"LogisticRegression\\\"],\\\"auto_blacklist\\\":true,\\\"blacklist_samples_reached\\\":false,\\\"exclude_nan_labels\\\":true,\\\"verbosity\\\":20,\\\"_debug_log\\\":\\\"azureml_automl.log\\\",\\\"show_warnings\\\":false,\\\"model_explainability\\\":true,\\\"service_url\\\":null,\\\"sdk_url\\\":null,\\\"sdk_packages\\\":null,\\\"enable_onnx_compatible_models\\\":false,\\\"enable_split_onnx_featurizer_estimator_models\\\":false,\\\"vm_type\\\":\\\"STANDARD_D2_V2\\\",\\\"telemetry_verbosity\\\":20,\\\"send_telemetry\\\":true,\\\"enable_dnn\\\":false,\\\"scenario\\\":\\\"SDK-1.13.0\\\",\\\"environment_label\\\":null,\\\"force_text_dnn\\\":false,\\\"enable_feature_sweeping\\\":true,\\\"enable_early_stopping\\\":false,\\\"early_stopping_n_iters\\\":10,\\\"metrics\\\":null,\\\"enable_ensembling\\\":true,\\\"enable_stack_ensembling\\\":true,\\\"ensemble_iterations\\\":15,\\\"enable_tf\\\":false,\\\"enable_subsampling\\\":null,\\\"subsample_seed\\\":null,\\\"enable_nimbusml\\\":false,\\\"enable_streaming\\\":false,\\\"force_streaming\\\":false,\\\"track_child_runs\\\":true,\\\"allowed_private_models\\\":[],\\\"label_column_name\\\":\\\"DEATH_EVENT\\\",\\\"weight_column_name\\\":null,\\\"cv_split_column_names\\\":null,\\\"enable_local_managed\\\":false,\\\"_local_managed_run_id\\\":null,\\\"cost_mode\\\":1,\\\"lag_length\\\":0,\\\"metric_operation\\\":\\\"maximize\\\",\\\"preprocess\\\":true}\", \"DataPrepJsonString\": \"{\\\\\\\"training_data\\\\\\\": \\\\\\\"{\\\\\\\\\\\\\\\"blocks\\\\\\\\\\\\\\\": [{\\\\\\\\\\\\\\\"id\\\\\\\\\\\\\\\": \\\\\\\\\\\\\\\"4e1d5859-453f-47f4-b4f2-a984371dcd1e\\\\\\\\\\\\\\\", \\\\\\\\\\\\\\\"type\\\\\\\\\\\\\\\": \\\\\\\\\\\\\\\"Microsoft.DPrep.GetDatastoreFilesBlock\\\\\\\\\\\\\\\", \\\\\\\\\\\\\\\"arguments\\\\\\\\\\\\\\\": {\\\\\\\\\\\\\\\"datastores\\\\\\\\\\\\\\\": [{\\\\\\\\\\\\\\\"datastoreName\\\\\\\\\\\\\\\": \\\\\\\\\\\\\\\"workspaceblobstore\\\\\\\\\\\\\\\", \\\\\\\\\\\\\\\"path\\\\\\\\\\\\\\\": \\\\\\\\\\\\\\\"UI/02-15-2021_064701_UTC/heart_failure_clinical_records_dataset.csv\\\\\\\\\\\\\\\", \\\\\\\\\\\\\\\"resourceGroup\\\\\\\\\\\\\\\": \\\\\\\\\\\\\\\"aml-quickstarts-138975\\\\\\\\\\\\\\\", \\\\\\\\\\\\\\\"subscription\\\\\\\\\\\\\\\": \\\\\\\\\\\\\\\"aa7cf8e8-d23f-4bce-a7b9-1f0b4e0ac8ee\\\\\\\\\\\\\\\", \\\\\\\\\\\\\\\"workspaceName\\\\\\\\\\\\\\\": \\\\\\\\\\\\\\\"quick-starts-ws-138975\\\\\\\\\\\\\\\"}]}, \\\\\\\\\\\\\\\"localData\\\\\\\\\\\\\\\": {}, \\\\\\\\\\\\\\\"isEnabled\\\\\\\\\\\\\\\": true, \\\\\\\\\\\\\\\"name\\\\\\\\\\\\\\\": null, \\\\\\\\\\\\\\\"annotation\\\\\\\\\\\\\\\": null}, {\\\\\\\\\\\\\\\"id\\\\\\\\\\\\\\\": \\\\\\\\\\\\\\\"49377a12-6704-42c3-b084-d61651d4898c\\\\\\\\\\\\\\\", \\\\\\\\\\\\\\\"type\\\\\\\\\\\\\\\": \\\\\\\\\\\\\\\"Microsoft.DPrep.ParseDelimitedBlock\\\\\\\\\\\\\\\", \\\\\\\\\\\\\\\"arguments\\\\\\\\\\\\\\\": {\\\\\\\\\\\\\\\"columnHeadersMode\\\\\\\\\\\\\\\": 3, \\\\\\\\\\\\\\\"fileEncoding\\\\\\\\\\\\\\\": 0, \\\\\\\\\\\\\\\"handleQuotedLineBreaks\\\\\\\\\\\\\\\": false, \\\\\\\\\\\\\\\"preview\\\\\\\\\\\\\\\": false, \\\\\\\\\\\\\\\"separator\\\\\\\\\\\\\\\": \\\\\\\\\\\\\\\",\\\\\\\\\\\\\\\", \\\\\\\\\\\\\\\"skipRows\\\\\\\\\\\\\\\": 0, \\\\\\\\\\\\\\\"skipRowsMode\\\\\\\\\\\\\\\": 0}, \\\\\\\\\\\\\\\"localData\\\\\\\\\\\\\\\": {}, \\\\\\\\\\\\\\\"isEnabled\\\\\\\\\\\\\\\": true, \\\\\\\\\\\\\\\"name\\\\\\\\\\\\\\\": null, \\\\\\\\\\\\\\\"annotation\\\\\\\\\\\\\\\": null}, {\\\\\\\\\\\\\\\"id\\\\\\\\\\\\\\\": \\\\\\\\\\\\\\\"52c28444-8527-4dd7-be62-8f0650dc3e59\\\\\\\\\\\\\\\", \\\\\\\\\\\\\\\"type\\\\\\\\\\\\\\\": \\\\\\\\\\\\\\\"Microsoft.DPrep.DropColumnsBlock\\\\\\\\\\\\\\\", \\\\\\\\\\\\\\\"arguments\\\\\\\\\\\\\\\": {\\\\\\\\\\\\\\\"columns\\\\\\\\\\\\\\\": {\\\\\\\\\\\\\\\"type\\\\\\\\\\\\\\\": 0, \\\\\\\\\\\\\\\"details\\\\\\\\\\\\\\\": {\\\\\\\\\\\\\\\"selectedColumns\\\\\\\\\\\\\\\": [\\\\\\\\\\\\\\\"Path\\\\\\\\\\\\\\\"]}}}, \\\\\\\\\\\\\\\"localData\\\\\\\\\\\\\\\": {}, \\\\\\\\\\\\\\\"isEnabled\\\\\\\\\\\\\\\": true, \\\\\\\\\\\\\\\"name\\\\\\\\\\\\\\\": null, \\\\\\\\\\\\\\\"annotation\\\\\\\\\\\\\\\": null}, {\\\\\\\\\\\\\\\"id\\\\\\\\\\\\\\\": \\\\\\\\\\\\\\\"869c179b-a80a-4ea5-b85d-aea809c7491c\\\\\\\\\\\\\\\", \\\\\\\\\\\\\\\"type\\\\\\\\\\\\\\\": \\\\\\\\\\\\\\\"Microsoft.DPrep.SetColumnTypesBlock\\\\\\\\\\\\\\\", \\\\\\\\\\\\\\\"arguments\\\\\\\\\\\\\\\": {\\\\\\\\\\\\\\\"columnConversion\\\\\\\\\\\\\\\": [{\\\\\\\\\\\\\\\"column\\\\\\\\\\\\\\\": {\\\\\\\\\\\\\\\"type\\\\\\\\\\\\\\\": 2, \\\\\\\\\\\\\\\"details\\\\\\\\\\\\\\\": {\\\\\\\\\\\\\\\"selectedColumn\\\\\\\\\\\\\\\": \\\\\\\\\\\\\\\"Path\\\\\\\\\\\\\\\"}}, \\\\\\\\\\\\\\\"typeProperty\\\\\\\\\\\\\\\": 0}, {\\\\\\\\\\\\\\\"column\\\\\\\\\\\\\\\": {\\\\\\\\\\\\\\\"type\\\\\\\\\\\\\\\": 2, \\\\\\\\\\\\\\\"details\\\\\\\\\\\\\\\": {\\\\\\\\\\\\\\\"selectedColumn\\\\\\\\\\\\\\\": \\\\\\\\\\\\\\\"age\\\\\\\\\\\\\\\"}}, \\\\\\\\\\\\\\\"typeProperty\\\\\\\\\\\\\\\": 3}, {\\\\\\\\\\\\\\\"column\\\\\\\\\\\\\\\": {\\\\\\\\\\\\\\\"type\\\\\\\\\\\\\\\": 2, \\\\\\\\\\\\\\\"details\\\\\\\\\\\\\\\": {\\\\\\\\\\\\\\\"selectedColumn\\\\\\\\\\\\\\\": \\\\\\\\\\\\\\\"anaemia\\\\\\\\\\\\\\\"}}, \\\\\\\\\\\\\\\"typeProperty\\\\\\\\\\\\\\\": 2}, {\\\\\\\\\\\\\\\"column\\\\\\\\\\\\\\\": {\\\\\\\\\\\\\\\"type\\\\\\\\\\\\\\\": 2, \\\\\\\\\\\\\\\"details\\\\\\\\\\\\\\\": {\\\\\\\\\\\\\\\"selectedColumn\\\\\\\\\\\\\\\": \\\\\\\\\\\\\\\"creatinine_phosphokinase\\\\\\\\\\\\\\\"}}, \\\\\\\\\\\\\\\"typeProperty\\\\\\\\\\\\\\\": 2}, {\\\\\\\\\\\\\\\"column\\\\\\\\\\\\\\\": {\\\\\\\\\\\\\\\"type\\\\\\\\\\\\\\\": 2, \\\\\\\\\\\\\\\"details\\\\\\\\\\\\\\\": {\\\\\\\\\\\\\\\"selectedColumn\\\\\\\\\\\\\\\": \\\\\\\\\\\\\\\"diabetes\\\\\\\\\\\\\\\"}}, \\\\\\\\\\\\\\\"typeProperty\\\\\\\\\\\\\\\": 2}, {\\\\\\\\\\\\\\\"column\\\\\\\\\\\\\\\": {\\\\\\\\\\\\\\\"type\\\\\\\\\\\\\\\": 2, \\\\\\\\\\\\\\\"details\\\\\\\\\\\\\\\": {\\\\\\\\\\\\\\\"selectedColumn\\\\\\\\\\\\\\\": \\\\\\\\\\\\\\\"ejection_fraction\\\\\\\\\\\\\\\"}}, \\\\\\\\\\\\\\\"typeProperty\\\\\\\\\\\\\\\": 2}, {\\\\\\\\\\\\\\\"column\\\\\\\\\\\\\\\": {\\\\\\\\\\\\\\\"type\\\\\\\\\\\\\\\": 2, \\\\\\\\\\\\\\\"details\\\\\\\\\\\\\\\": {\\\\\\\\\\\\\\\"selectedColumn\\\\\\\\\\\\\\\": \\\\\\\\\\\\\\\"high_blood_pressure\\\\\\\\\\\\\\\"}}, \\\\\\\\\\\\\\\"typeProperty\\\\\\\\\\\\\\\": 2}, {\\\\\\\\\\\\\\\"column\\\\\\\\\\\\\\\": {\\\\\\\\\\\\\\\"type\\\\\\\\\\\\\\\": 2, \\\\\\\\\\\\\\\"details\\\\\\\\\\\\\\\": {\\\\\\\\\\\\\\\"selectedColumn\\\\\\\\\\\\\\\": \\\\\\\\\\\\\\\"platelets\\\\\\\\\\\\\\\"}}, \\\\\\\\\\\\\\\"typeProperty\\\\\\\\\\\\\\\": 3}, {\\\\\\\\\\\\\\\"column\\\\\\\\\\\\\\\": {\\\\\\\\\\\\\\\"type\\\\\\\\\\\\\\\": 2, \\\\\\\\\\\\\\\"details\\\\\\\\\\\\\\\": {\\\\\\\\\\\\\\\"selectedColumn\\\\\\\\\\\\\\\": \\\\\\\\\\\\\\\"serum_creatinine\\\\\\\\\\\\\\\"}}, \\\\\\\\\\\\\\\"typeProperty\\\\\\\\\\\\\\\": 3}, {\\\\\\\\\\\\\\\"column\\\\\\\\\\\\\\\": {\\\\\\\\\\\\\\\"type\\\\\\\\\\\\\\\": 2, \\\\\\\\\\\\\\\"details\\\\\\\\\\\\\\\": {\\\\\\\\\\\\\\\"selectedColumn\\\\\\\\\\\\\\\": \\\\\\\\\\\\\\\"serum_sodium\\\\\\\\\\\\\\\"}}, \\\\\\\\\\\\\\\"typeProperty\\\\\\\\\\\\\\\": 2}, {\\\\\\\\\\\\\\\"column\\\\\\\\\\\\\\\": {\\\\\\\\\\\\\\\"type\\\\\\\\\\\\\\\": 2, \\\\\\\\\\\\\\\"details\\\\\\\\\\\\\\\": {\\\\\\\\\\\\\\\"selectedColumn\\\\\\\\\\\\\\\": \\\\\\\\\\\\\\\"sex\\\\\\\\\\\\\\\"}}, \\\\\\\\\\\\\\\"typeProperty\\\\\\\\\\\\\\\": 2}, {\\\\\\\\\\\\\\\"column\\\\\\\\\\\\\\\": {\\\\\\\\\\\\\\\"type\\\\\\\\\\\\\\\": 2, \\\\\\\\\\\\\\\"details\\\\\\\\\\\\\\\": {\\\\\\\\\\\\\\\"selectedColumn\\\\\\\\\\\\\\\": \\\\\\\\\\\\\\\"smoking\\\\\\\\\\\\\\\"}}, \\\\\\\\\\\\\\\"typeProperty\\\\\\\\\\\\\\\": 2}, {\\\\\\\\\\\\\\\"column\\\\\\\\\\\\\\\": {\\\\\\\\\\\\\\\"type\\\\\\\\\\\\\\\": 2, \\\\\\\\\\\\\\\"details\\\\\\\\\\\\\\\": {\\\\\\\\\\\\\\\"selectedColumn\\\\\\\\\\\\\\\": \\\\\\\\\\\\\\\"time\\\\\\\\\\\\\\\"}}, \\\\\\\\\\\\\\\"typeProperty\\\\\\\\\\\\\\\": 2}, {\\\\\\\\\\\\\\\"column\\\\\\\\\\\\\\\": {\\\\\\\\\\\\\\\"type\\\\\\\\\\\\\\\": 2, \\\\\\\\\\\\\\\"details\\\\\\\\\\\\\\\": {\\\\\\\\\\\\\\\"selectedColumn\\\\\\\\\\\\\\\": \\\\\\\\\\\\\\\"DEATH_EVENT\\\\\\\\\\\\\\\"}}, \\\\\\\\\\\\\\\"typeProperty\\\\\\\\\\\\\\\": 2}]}, \\\\\\\\\\\\\\\"localData\\\\\\\\\\\\\\\": {}, \\\\\\\\\\\\\\\"isEnabled\\\\\\\\\\\\\\\": true, \\\\\\\\\\\\\\\"name\\\\\\\\\\\\\\\": null, \\\\\\\\\\\\\\\"annotation\\\\\\\\\\\\\\\": null}, {\\\\\\\\\\\\\\\"id\\\\\\\\\\\\\\\": \\\\\\\\\\\\\\\"d4702808-691b-4115-aac8-a42ad08278dc\\\\\\\\\\\\\\\", \\\\\\\\\\\\\\\"type\\\\\\\\\\\\\\\": \\\\\\\\\\\\\\\"Microsoft.DPrep.TakeSampleBlock\\\\\\\\\\\\\\\", \\\\\\\\\\\\\\\"arguments\\\\\\\\\\\\\\\": {\\\\\\\\\\\\\\\"probability\\\\\\\\\\\\\\\": 0.9, \\\\\\\\\\\\\\\"probabilityLowerBound\\\\\\\\\\\\\\\": 0.0, \\\\\\\\\\\\\\\"seed\\\\\\\\\\\\\\\": 888299196}, \\\\\\\\\\\\\\\"localData\\\\\\\\\\\\\\\": {}, \\\\\\\\\\\\\\\"isEnabled\\\\\\\\\\\\\\\": true, \\\\\\\\\\\\\\\"name\\\\\\\\\\\\\\\": null, \\\\\\\\\\\\\\\"annotation\\\\\\\\\\\\\\\": null}], \\\\\\\\\\\\\\\"inspectors\\\\\\\\\\\\\\\": [], \\\\\\\\\\\\\\\"meta\\\\\\\\\\\\\\\": {\\\\\\\\\\\\\\\"savedDatasetId\\\\\\\\\\\\\\\": \\\\\\\\\\\\\\\"fe08c28a-8217-4baa-b04f-45734937ae05\\\\\\\\\\\\\\\", \\\\\\\\\\\\\\\"datasetType\\\\\\\\\\\\\\\": \\\\\\\\\\\\\\\"tabular\\\\\\\\\\\\\\\", \\\\\\\\\\\\\\\"subscriptionId\\\\\\\\\\\\\\\": \\\\\\\\\\\\\\\"aa7cf8e8-d23f-4bce-a7b9-1f0b4e0ac8ee\\\\\\\\\\\\\\\", \\\\\\\\\\\\\\\"workspaceId\\\\\\\\\\\\\\\": \\\\\\\\\\\\\\\"ce6ecb49-c51d-4332-82ca-133ce81ca160\\\\\\\\\\\\\\\", \\\\\\\\\\\\\\\"workspaceLocation\\\\\\\\\\\\\\\": \\\\\\\\\\\\\\\"southcentralus\\\\\\\\\\\\\\\"}}\\\\\\\", \\\\\\\"activities\\\\\\\": 0}\", \"EnableSubsampling\": null, \"runTemplate\": \"AutoML\", \"azureml.runsource\": \"automl\", \"display_task_type\": \"classification\", \"dependencies_versions\": \"{\\\"azureml-widgets\\\": \\\"1.20.0\\\", \\\"azureml-train\\\": \\\"1.20.0\\\", \\\"azureml-train-restclients-hyperdrive\\\": \\\"1.20.0\\\", \\\"azureml-train-core\\\": \\\"1.20.0\\\", \\\"azureml-train-automl\\\": \\\"1.20.0\\\", \\\"azureml-train-automl-runtime\\\": \\\"1.20.0\\\", \\\"azureml-train-automl-client\\\": \\\"1.20.0\\\", \\\"azureml-tensorboard\\\": \\\"1.20.0\\\", \\\"azureml-telemetry\\\": \\\"1.20.0\\\", \\\"azureml-sdk\\\": \\\"1.20.0\\\", \\\"azureml-samples\\\": \\\"0+unknown\\\", \\\"azureml-pipeline\\\": \\\"1.20.0\\\", \\\"azureml-pipeline-steps\\\": \\\"1.20.0\\\", \\\"azureml-pipeline-core\\\": \\\"1.20.0\\\", \\\"azureml-opendatasets\\\": \\\"1.20.0\\\", \\\"azureml-model-management-sdk\\\": \\\"1.0.1b6.post1\\\", \\\"azureml-mlflow\\\": \\\"1.20.0.post1\\\", \\\"azureml-interpret\\\": \\\"1.20.0\\\", \\\"azureml-explain-model\\\": \\\"1.20.0\\\", \\\"azureml-defaults\\\": \\\"1.20.0\\\", \\\"azureml-dataset-runtime\\\": \\\"1.20.0\\\", \\\"azureml-dataprep\\\": \\\"2.7.3\\\", \\\"azureml-dataprep-rslex\\\": \\\"1.5.0\\\", \\\"azureml-dataprep-native\\\": \\\"27.0.0\\\", \\\"azureml-datadrift\\\": \\\"1.20.0\\\", \\\"azureml-core\\\": \\\"1.20.0\\\", \\\"azureml-contrib-services\\\": \\\"1.20.0\\\", \\\"azureml-contrib-server\\\": \\\"1.20.0\\\", \\\"azureml-contrib-reinforcementlearning\\\": \\\"1.20.0\\\", \\\"azureml-contrib-pipeline-steps\\\": \\\"1.20.0\\\", \\\"azureml-contrib-notebook\\\": \\\"1.20.0\\\", \\\"azureml-contrib-interpret\\\": \\\"1.20.0\\\", \\\"azureml-contrib-gbdt\\\": \\\"1.20.0\\\", \\\"azureml-contrib-fairness\\\": \\\"1.20.0\\\", \\\"azureml-contrib-dataset\\\": \\\"1.20.0\\\", \\\"azureml-cli-common\\\": \\\"1.20.0\\\", \\\"azureml-automl-runtime\\\": \\\"1.20.0\\\", \\\"azureml-automl-core\\\": \\\"1.20.0\\\", \\\"azureml-accel-models\\\": \\\"1.20.0\\\"}\", \"_aml_system_scenario_identification\": \"Remote.Parent\", \"ClientType\": \"SDK\", \"environment_cpu_name\": \"AzureML-AutoML\", \"environment_cpu_label\": \"prod\", \"environment_gpu_name\": \"AzureML-AutoML-GPU\", \"environment_gpu_label\": \"prod\", \"root_attribution\": \"automl\", \"attribution\": \"AutoML\", \"Orchestrator\": \"AutoML\", \"CancelUri\": \"https://southcentralus.experiments.azureml.net/jasmine/v1.0/subscriptions/aa7cf8e8-d23f-4bce-a7b9-1f0b4e0ac8ee/resourceGroups/aml-quickstarts-138975/providers/Microsoft.MachineLearningServices/workspaces/quick-starts-ws-138975/experimentids/9836fa7b-dd04-4fd6-86ce-4e1ad3d707ff/cancel/AutoML_f152ea1b-337e-453f-b35a-6ed293cda5c5\", \"ClientSdkVersion\": \"1.21.0\", \"snapshotId\": \"00000000-0000-0000-0000-000000000000\", \"SetupRunId\": \"AutoML_f152ea1b-337e-453f-b35a-6ed293cda5c5_setup\", \"SetupRunContainerId\": \"dcid.AutoML_f152ea1b-337e-453f-b35a-6ed293cda5c5_setup\", \"FeaturizationRunJsonPath\": \"featurizer_container.json\", \"FeaturizationRunId\": \"AutoML_f152ea1b-337e-453f-b35a-6ed293cda5c5_featurize\", \"ProblemInfoJsonString\": \"{\\\"dataset_num_categorical\\\": 0, \\\"is_sparse\\\": false, \\\"subsampling\\\": false, \\\"dataset_classes\\\": 2, \\\"dataset_features\\\": 12, \\\"dataset_samples\\\": 269, \\\"single_frequency_class_detected\\\": false}\", \"ModelExplainRunId\": \"AutoML_f152ea1b-337e-453f-b35a-6ed293cda5c5_ModelExplain\"}, \"tags\": {\"model_explain_run\": \"best_run\", \"_aml_system_azureml.automlComponent\": \"AutoML\", \"pipeline_id\": \"\", \"score\": \"\", \"predicted_cost\": \"\", \"fit_time\": \"\", \"training_percent\": \"\", \"iteration\": \"\", \"run_preprocessor\": \"\", \"run_algorithm\": \"\", \"dynamic_whitelisting_iterations\": \"<24>;<30>;<35>;<40>;<44>;<50>;<55>;<59>;<65>;<70>;<75>;<80>;<85>;\", \"automl_best_child_run_id\": \"AutoML_f152ea1b-337e-453f-b35a-6ed293cda5c5_12\", \"model_explain_best_run_child_id\": \"AutoML_f152ea1b-337e-453f-b35a-6ed293cda5c5_12\"}, \"end_time_utc\": \"2021-02-15T19:36:36.540875Z\", \"status\": \"Completed\", \"log_files\": {}, \"log_groups\": [], \"run_duration\": \"0:43:54\"}, \"child_runs\": [{\"run_id\": \"AutoML_f152ea1b-337e-453f-b35a-6ed293cda5c5_0\", \"run_number\": 15, \"metric\": null, \"status\": \"Completed\", \"run_type\": \"azureml.scriptrun\", \"training_percent\": \"100\", \"start_time\": \"2021-02-15T19:05:20.240677Z\", \"end_time\": \"2021-02-15T19:06:18.326137Z\", \"created_time\": \"2021-02-15T19:04:05.199028Z\", \"created_time_dt\": \"2021-02-15T19:04:05.199028Z\", \"duration\": \"0:02:13\", \"iteration\": \"0\", \"goal\": \"accuracy_max\", \"run_name\": \"MaxAbsScaler, LightGBM\", \"run_properties\": \"copy=True\", \"primary_metric\": 0.81389929, \"best_metric\": 0.81389929}, {\"run_id\": \"AutoML_f152ea1b-337e-453f-b35a-6ed293cda5c5_1\", \"run_number\": 16, \"metric\": null, \"status\": \"Completed\", \"run_type\": \"azureml.scriptrun\", \"training_percent\": \"100\", \"start_time\": \"2021-02-15T19:04:17.557925Z\", \"end_time\": \"2021-02-15T19:05:11.104943Z\", \"created_time\": \"2021-02-15T19:04:05.325604Z\", \"created_time_dt\": \"2021-02-15T19:04:05.325604Z\", \"duration\": \"0:01:05\", \"iteration\": \"1\", \"goal\": \"accuracy_max\", \"run_name\": \"MaxAbsScaler, XGBoostClassifier\", \"run_properties\": \"copy=True\", \"primary_metric\": 0.80649189, \"best_metric\": 0.81389929}, {\"run_id\": \"AutoML_f152ea1b-337e-453f-b35a-6ed293cda5c5_3\", \"run_number\": 17, \"metric\": null, \"status\": \"Completed\", \"run_type\": \"azureml.scriptrun\", \"training_percent\": \"100\", \"start_time\": \"2021-02-15T19:06:22.305659Z\", \"end_time\": \"2021-02-15T19:07:16.024036Z\", \"created_time\": \"2021-02-15T19:04:05.365432Z\", \"created_time_dt\": \"2021-02-15T19:04:05.365432Z\", \"duration\": \"0:03:10\", \"iteration\": \"3\", \"goal\": \"accuracy_max\", \"run_name\": \"MinMaxScaler, RandomForest\", \"run_properties\": \"copy=True, feature_range=(0, 1\", \"primary_metric\": 0.82875572, \"best_metric\": 0.82875572}, {\"run_id\": \"AutoML_f152ea1b-337e-453f-b35a-6ed293cda5c5_2\", \"run_number\": 18, \"metric\": null, \"status\": \"Completed\", \"run_type\": \"azureml.scriptrun\", \"training_percent\": \"100\", \"start_time\": \"2021-02-15T19:06:39.463154Z\", \"end_time\": \"2021-02-15T19:12:11.295285Z\", \"created_time\": \"2021-02-15T19:04:05.370305Z\", \"created_time_dt\": \"2021-02-15T19:04:05.370305Z\", \"duration\": \"0:08:05\", \"iteration\": \"2\", \"goal\": \"accuracy_max\", \"run_name\": \"MinMaxScaler, RandomForest\", \"run_properties\": \"copy=True, feature_range=(0, 1\", \"primary_metric\": 0.81402414, \"best_metric\": 0.81402414}, {\"run_id\": \"AutoML_f152ea1b-337e-453f-b35a-6ed293cda5c5_4\", \"run_number\": 23, \"metric\": null, \"status\": \"Completed\", \"run_type\": \"azureml.scriptrun\", \"training_percent\": \"100\", \"start_time\": \"2021-02-15T19:06:39.136067Z\", \"end_time\": \"2021-02-15T19:12:08.005507Z\", \"created_time\": \"2021-02-15T19:05:13.459106Z\", \"created_time_dt\": \"2021-02-15T19:05:13.459106Z\", \"duration\": \"0:06:54\", \"iteration\": \"4\", \"goal\": \"accuracy_max\", \"run_name\": \"MinMaxScaler, RandomForest\", \"run_properties\": \"copy=True, feature_range=(0, 1\", \"primary_metric\": 0.83616313, \"best_metric\": 0.83616313}, {\"run_id\": \"AutoML_f152ea1b-337e-453f-b35a-6ed293cda5c5_5\", \"run_number\": 28, \"metric\": null, \"status\": \"Completed\", \"run_type\": \"azureml.scriptrun\", \"training_percent\": \"100\", \"start_time\": \"2021-02-15T19:06:38.456101Z\", \"end_time\": \"2021-02-15T19:12:07.988744Z\", \"created_time\": \"2021-02-15T19:06:19.529007Z\", \"created_time_dt\": \"2021-02-15T19:06:19.529007Z\", \"duration\": \"0:05:48\", \"iteration\": \"5\", \"goal\": \"accuracy_max\", \"run_name\": \"SparseNormalizer, XGBoostClassifier\", \"run_properties\": \"<azureml.automl.runtime.shared.model_wrappers.SparseNormalizer object at 0x7fbf6ceaf160\", \"primary_metric\": 0.82480233, \"best_metric\": 0.83616313}, {\"run_id\": \"AutoML_f152ea1b-337e-453f-b35a-6ed293cda5c5_6\", \"run_number\": 29, \"metric\": null, \"status\": \"Completed\", \"run_type\": \"azureml.scriptrun\", \"training_percent\": \"100\", \"start_time\": \"2021-02-15T19:07:31.343841Z\", \"end_time\": \"2021-02-15T19:08:23.609746Z\", \"created_time\": \"2021-02-15T19:07:18.862774Z\", \"created_time_dt\": \"2021-02-15T19:07:18.862774Z\", \"duration\": \"0:01:04\", \"iteration\": \"6\", \"goal\": \"accuracy_max\", \"run_name\": \"MaxAbsScaler, LightGBM\", \"run_properties\": \"copy=True\", \"primary_metric\": 0.82888057, \"best_metric\": 0.83616313}, {\"run_id\": \"AutoML_f152ea1b-337e-453f-b35a-6ed293cda5c5_7\", \"run_number\": 34, \"metric\": null, \"status\": \"Completed\", \"run_type\": \"azureml.scriptrun\", \"training_percent\": \"100\", \"start_time\": \"2021-02-15T19:08:37.31403Z\", \"end_time\": \"2021-02-15T19:09:25.585685Z\", \"created_time\": \"2021-02-15T19:08:25.889902Z\", \"created_time_dt\": \"2021-02-15T19:08:25.889902Z\", \"duration\": \"0:00:59\", \"iteration\": \"7\", \"goal\": \"accuracy_max\", \"run_name\": \"SparseNormalizer, XGBoostClassifier\", \"run_properties\": \"<azureml.automl.runtime.shared.model_wrappers.SparseNormalizer object at 0x7efced0cceb8\", \"primary_metric\": 0.82118186, \"best_metric\": 0.83616313}, {\"run_id\": \"AutoML_f152ea1b-337e-453f-b35a-6ed293cda5c5_8\", \"run_number\": 39, \"metric\": null, \"status\": \"Completed\", \"run_type\": \"azureml.scriptrun\", \"training_percent\": \"100\", \"start_time\": \"2021-02-15T19:09:39.984175Z\", \"end_time\": \"2021-02-15T19:10:28.646207Z\", \"created_time\": \"2021-02-15T19:09:27.682602Z\", \"created_time_dt\": \"2021-02-15T19:09:27.682602Z\", \"duration\": \"0:01:00\", \"iteration\": \"8\", \"goal\": \"accuracy_max\", \"run_name\": \"MaxAbsScaler, LightGBM\", \"run_properties\": \"copy=True\", \"primary_metric\": 0.81764461, \"best_metric\": 0.83616313}, {\"run_id\": \"AutoML_f152ea1b-337e-453f-b35a-6ed293cda5c5_9\", \"run_number\": 40, \"metric\": null, \"status\": \"Completed\", \"run_type\": \"azureml.scriptrun\", \"training_percent\": \"100\", \"start_time\": \"2021-02-15T19:10:40.546436Z\", \"end_time\": \"2021-02-15T19:11:36.762675Z\", \"created_time\": \"2021-02-15T19:10:30.888152Z\", \"created_time_dt\": \"2021-02-15T19:10:30.888152Z\", \"duration\": \"0:01:05\", \"iteration\": \"9\", \"goal\": \"accuracy_max\", \"run_name\": \"StandardScalerWrapper, LogisticRegression\", \"run_properties\": \"<azureml.automl.runtime.shared.model_wrappers.StandardScalerWrapper object at 0x7f2e30450080\", \"primary_metric\": 0.79533916, \"best_metric\": 0.83616313}, {\"run_id\": \"AutoML_f152ea1b-337e-453f-b35a-6ed293cda5c5_10\", \"run_number\": 44, \"metric\": null, \"status\": \"Completed\", \"run_type\": \"azureml.scriptrun\", \"training_percent\": \"100\", \"start_time\": \"2021-02-15T19:11:53.204426Z\", \"end_time\": \"2021-02-15T19:12:42.377539Z\", \"created_time\": \"2021-02-15T19:11:40.169617Z\", \"created_time_dt\": \"2021-02-15T19:11:40.169617Z\", \"duration\": \"0:01:02\", \"iteration\": \"10\", \"goal\": \"accuracy_max\", \"run_name\": \"MinMaxScaler, LightGBM\", \"run_properties\": \"copy=True, feature_range=(0, 1\", \"primary_metric\": 0.83616313, \"best_metric\": 0.83616313}, {\"run_id\": \"AutoML_f152ea1b-337e-453f-b35a-6ed293cda5c5_11\", \"run_number\": 45, \"metric\": null, \"status\": \"Completed\", \"run_type\": \"azureml.scriptrun\", \"training_percent\": \"100\", \"start_time\": \"2021-02-15T19:12:23.032431Z\", \"end_time\": \"2021-02-15T19:13:17.145001Z\", \"created_time\": \"2021-02-15T19:12:11.119572Z\", \"created_time_dt\": \"2021-02-15T19:12:11.119572Z\", \"duration\": \"0:01:06\", \"iteration\": \"11\", \"goal\": \"accuracy_max\", \"run_name\": \"SparseNormalizer, XGBoostClassifier\", \"run_properties\": \"<azureml.automl.runtime.shared.model_wrappers.SparseNormalizer object at 0x7f68ea9a3240\", \"primary_metric\": 0.81373283, \"best_metric\": 0.83616313}, {\"run_id\": \"AutoML_f152ea1b-337e-453f-b35a-6ed293cda5c5_12\", \"run_number\": 46, \"metric\": null, \"status\": \"Completed\", \"run_type\": \"azureml.scriptrun\", \"training_percent\": \"100\", \"start_time\": \"2021-02-15T19:12:22.147592Z\", \"end_time\": \"2021-02-15T19:13:10.897484Z\", \"created_time\": \"2021-02-15T19:12:11.272209Z\", \"created_time_dt\": \"2021-02-15T19:12:11.272209Z\", \"duration\": \"0:00:59\", \"iteration\": \"12\", \"goal\": \"accuracy_max\", \"run_name\": \"RobustScaler, ExtremeRandomTrees\", \"run_properties\": \"copy=True, quantile_range=[25, 75], with_centering=True,\\n             with_scaling=False\", \"primary_metric\": 0.85106117, \"best_metric\": 0.85106117}, {\"run_id\": \"AutoML_f152ea1b-337e-453f-b35a-6ed293cda5c5_13\", \"run_number\": 47, \"metric\": null, \"status\": \"Completed\", \"run_type\": \"azureml.scriptrun\", \"training_percent\": \"100\", \"start_time\": \"2021-02-15T19:12:26.926255Z\", \"end_time\": \"2021-02-15T19:13:14.35813Z\", \"created_time\": \"2021-02-15T19:12:16.080425Z\", \"created_time_dt\": \"2021-02-15T19:12:16.080425Z\", \"duration\": \"0:00:58\", \"iteration\": \"13\", \"goal\": \"accuracy_max\", \"run_name\": \"SparseNormalizer, LightGBM\", \"run_properties\": \"<azureml.automl.runtime.shared.model_wrappers.SparseNormalizer object at 0x7f42256f0550\", \"primary_metric\": 0.79891802, \"best_metric\": 0.85106117}, {\"run_id\": \"AutoML_f152ea1b-337e-453f-b35a-6ed293cda5c5_14\", \"run_number\": 48, \"metric\": null, \"status\": \"Completed\", \"run_type\": \"azureml.scriptrun\", \"training_percent\": \"100\", \"start_time\": \"2021-02-15T19:12:57.282443Z\", \"end_time\": \"2021-02-15T19:13:46.017055Z\", \"created_time\": \"2021-02-15T19:12:44.809732Z\", \"created_time_dt\": \"2021-02-15T19:12:44.809732Z\", \"duration\": \"0:01:01\", \"iteration\": \"14\", \"goal\": \"accuracy_max\", \"run_name\": \"StandardScalerWrapper, RandomForest\", \"run_properties\": \"<azureml.automl.runtime.shared.model_wrappers.StandardScalerWrapper object at 0x7effbc0daf98\", \"primary_metric\": 0.83995006, \"best_metric\": 0.85106117}, {\"run_id\": \"AutoML_f152ea1b-337e-453f-b35a-6ed293cda5c5_15\", \"run_number\": 49, \"metric\": null, \"status\": \"Completed\", \"run_type\": \"azureml.scriptrun\", \"training_percent\": \"100\", \"start_time\": \"2021-02-15T19:13:27.184939Z\", \"end_time\": \"2021-02-15T19:14:17.145536Z\", \"created_time\": \"2021-02-15T19:13:13.759505Z\", \"created_time_dt\": \"2021-02-15T19:13:13.759505Z\", \"duration\": \"0:01:03\", \"iteration\": \"15\", \"goal\": \"accuracy_max\", \"run_name\": \"StandardScalerWrapper, LightGBM\", \"run_properties\": \"<azureml.automl.runtime.shared.model_wrappers.StandardScalerWrapper object at 0x7fa4d1ddae48\", \"primary_metric\": 0.82505202, \"best_metric\": 0.85106117}, {\"run_id\": \"AutoML_f152ea1b-337e-453f-b35a-6ed293cda5c5_16\", \"run_number\": 50, \"metric\": null, \"status\": \"Completed\", \"run_type\": \"azureml.scriptrun\", \"training_percent\": \"100\", \"start_time\": \"2021-02-15T19:13:29.239374Z\", \"end_time\": \"2021-02-15T19:14:13.748231Z\", \"created_time\": \"2021-02-15T19:13:18.93956Z\", \"created_time_dt\": \"2021-02-15T19:13:18.93956Z\", \"duration\": \"0:00:54\", \"iteration\": \"16\", \"goal\": \"accuracy_max\", \"run_name\": \"MaxAbsScaler, ExtremeRandomTrees\", \"run_properties\": \"copy=True\", \"primary_metric\": 0.82134831, \"best_metric\": 0.85106117}, {\"run_id\": \"AutoML_f152ea1b-337e-453f-b35a-6ed293cda5c5_17\", \"run_number\": 51, \"metric\": null, \"status\": \"Completed\", \"run_type\": \"azureml.scriptrun\", \"training_percent\": \"100\", \"start_time\": \"2021-02-15T19:13:28.956775Z\", \"end_time\": \"2021-02-15T19:14:17.011497Z\", \"created_time\": \"2021-02-15T19:13:19.084169Z\", \"created_time_dt\": \"2021-02-15T19:13:19.084169Z\", \"duration\": \"0:00:57\", \"iteration\": \"17\", \"goal\": \"accuracy_max\", \"run_name\": \"SparseNormalizer, XGBoostClassifier\", \"run_properties\": \"<azureml.automl.runtime.shared.model_wrappers.SparseNormalizer object at 0x7fbb1f37d2e8\", \"primary_metric\": 0.78406159, \"best_metric\": 0.85106117}, {\"run_id\": \"AutoML_f152ea1b-337e-453f-b35a-6ed293cda5c5_18\", \"run_number\": 52, \"metric\": null, \"status\": \"Completed\", \"run_type\": \"azureml.scriptrun\", \"training_percent\": \"100\", \"start_time\": \"2021-02-15T19:14:02.584217Z\", \"end_time\": \"2021-02-15T19:14:52.917067Z\", \"created_time\": \"2021-02-15T19:13:48.491573Z\", \"created_time_dt\": \"2021-02-15T19:13:48.491573Z\", \"duration\": \"0:01:04\", \"iteration\": \"18\", \"goal\": \"accuracy_max\", \"run_name\": \"MinMaxScaler, LightGBM\", \"run_properties\": \"copy=True, feature_range=(0, 1\", \"primary_metric\": 0.83245943, \"best_metric\": 0.85106117}, {\"run_id\": \"AutoML_f152ea1b-337e-453f-b35a-6ed293cda5c5_19\", \"run_number\": 53, \"metric\": null, \"status\": \"Completed\", \"run_type\": \"azureml.scriptrun\", \"training_percent\": \"100\", \"start_time\": \"2021-02-15T19:14:31.314437Z\", \"end_time\": \"2021-02-15T19:15:18.705619Z\", \"created_time\": \"2021-02-15T19:14:17.238503Z\", \"created_time_dt\": \"2021-02-15T19:14:17.238503Z\", \"duration\": \"0:01:01\", \"iteration\": \"19\", \"goal\": \"accuracy_max\", \"run_name\": \"RobustScaler, RandomForest\", \"run_properties\": \"copy=True, quantile_range=[25, 75], with_centering=True,\\n             with_scaling=True\", \"primary_metric\": 0.81398252, \"best_metric\": 0.85106117}, {\"run_id\": \"AutoML_f152ea1b-337e-453f-b35a-6ed293cda5c5_20\", \"run_number\": 54, \"metric\": null, \"status\": \"Completed\", \"run_type\": \"azureml.scriptrun\", \"training_percent\": \"100\", \"start_time\": \"2021-02-15T19:14:34.352323Z\", \"end_time\": \"2021-02-15T19:15:23.336234Z\", \"created_time\": \"2021-02-15T19:14:22.231093Z\", \"created_time_dt\": \"2021-02-15T19:14:22.231093Z\", \"duration\": \"0:01:01\", \"iteration\": \"20\", \"goal\": \"accuracy_max\", \"run_name\": \"StandardScalerWrapper, LightGBM\", \"run_properties\": \"<azureml.automl.runtime.shared.model_wrappers.StandardScalerWrapper object at 0x7f22b1eef240\", \"primary_metric\": 0.82875572, \"best_metric\": 0.85106117}, {\"run_id\": \"AutoML_f152ea1b-337e-453f-b35a-6ed293cda5c5_21\", \"run_number\": 55, \"metric\": null, \"status\": \"Completed\", \"run_type\": \"azureml.scriptrun\", \"training_percent\": \"100\", \"start_time\": \"2021-02-15T19:14:34.752128Z\", \"end_time\": \"2021-02-15T19:15:21.892703Z\", \"created_time\": \"2021-02-15T19:14:22.372885Z\", \"created_time_dt\": \"2021-02-15T19:14:22.372885Z\", \"duration\": \"0:00:59\", \"iteration\": \"21\", \"goal\": \"accuracy_max\", \"run_name\": \"StandardScalerWrapper, LightGBM\", \"run_properties\": \"<azureml.automl.runtime.shared.model_wrappers.StandardScalerWrapper object at 0x7fcbab78a4a8\", \"primary_metric\": 0.81764461, \"best_metric\": 0.85106117}, {\"run_id\": \"AutoML_f152ea1b-337e-453f-b35a-6ed293cda5c5_22\", \"run_number\": 56, \"metric\": null, \"status\": \"Completed\", \"run_type\": \"azureml.scriptrun\", \"training_percent\": \"100\", \"start_time\": \"2021-02-15T19:15:07.589664Z\", \"end_time\": \"2021-02-15T19:16:13.841147Z\", \"created_time\": \"2021-02-15T19:14:56.832056Z\", \"created_time_dt\": \"2021-02-15T19:14:56.832056Z\", \"duration\": \"0:01:17\", \"iteration\": \"22\", \"goal\": \"accuracy_max\", \"run_name\": \"SparseNormalizer, XGBoostClassifier\", \"run_properties\": \"<azureml.automl.runtime.shared.model_wrappers.SparseNormalizer object at 0x7fc2257fe8d0\", \"primary_metric\": 0.82122347, \"best_metric\": 0.85106117}, {\"run_id\": \"AutoML_f152ea1b-337e-453f-b35a-6ed293cda5c5_23\", \"run_number\": 57, \"metric\": null, \"status\": \"Completed\", \"run_type\": \"azureml.scriptrun\", \"training_percent\": \"100\", \"start_time\": \"2021-02-15T19:15:32.658818Z\", \"end_time\": \"2021-02-15T19:16:32.993802Z\", \"created_time\": \"2021-02-15T19:15:21.67153Z\", \"created_time_dt\": \"2021-02-15T19:15:21.67153Z\", \"duration\": \"0:01:11\", \"iteration\": \"23\", \"goal\": \"accuracy_max\", \"run_name\": \"StandardScalerWrapper, XGBoostClassifier\", \"run_properties\": \"<azureml.automl.runtime.shared.model_wrappers.StandardScalerWrapper object at 0x7f55cff97d68\", \"primary_metric\": 0.82151477, \"best_metric\": 0.85106117}, {\"run_id\": \"AutoML_f152ea1b-337e-453f-b35a-6ed293cda5c5_24\", \"run_number\": 58, \"metric\": null, \"status\": \"Completed\", \"run_type\": \"azureml.scriptrun\", \"training_percent\": \"100\", \"start_time\": \"2021-02-15T19:15:36.918215Z\", \"end_time\": \"2021-02-15T19:16:34.338698Z\", \"created_time\": \"2021-02-15T19:15:27.079596Z\", \"created_time_dt\": \"2021-02-15T19:15:27.079596Z\", \"duration\": \"0:01:07\", \"iteration\": \"24\", \"goal\": \"accuracy_max\", \"run_name\": \"SparseNormalizer, ExtremeRandomTrees\", \"run_properties\": \"<azureml.automl.runtime.shared.model_wrappers.SparseNormalizer object at 0x7fa4c93e2da0\", \"primary_metric\": 0.54248856, \"best_metric\": 0.85106117}, {\"run_id\": \"AutoML_f152ea1b-337e-453f-b35a-6ed293cda5c5_25\", \"run_number\": 59, \"metric\": null, \"status\": \"Completed\", \"run_type\": \"azureml.scriptrun\", \"training_percent\": \"100\", \"start_time\": \"2021-02-15T19:15:39.179587Z\", \"end_time\": \"2021-02-15T19:16:34.49447Z\", \"created_time\": \"2021-02-15T19:15:27.206264Z\", \"created_time_dt\": \"2021-02-15T19:15:27.206264Z\", \"duration\": \"0:01:07\", \"iteration\": \"25\", \"goal\": \"accuracy_max\", \"run_name\": \"SparseNormalizer, LightGBM\", \"run_properties\": \"<azureml.automl.runtime.shared.model_wrappers.SparseNormalizer object at 0x7f96745398d0\", \"primary_metric\": 0.77299209, \"best_metric\": 0.85106117}, {\"run_id\": \"AutoML_f152ea1b-337e-453f-b35a-6ed293cda5c5_26\", \"run_number\": 60, \"metric\": null, \"status\": \"Completed\", \"run_type\": \"azureml.scriptrun\", \"training_percent\": \"100\", \"start_time\": \"2021-02-15T19:16:28.258156Z\", \"end_time\": \"2021-02-15T19:17:17.113742Z\", \"created_time\": \"2021-02-15T19:16:15.96533Z\", \"created_time_dt\": \"2021-02-15T19:16:15.96533Z\", \"duration\": \"0:01:01\", \"iteration\": \"26\", \"goal\": \"accuracy_max\", \"run_name\": \"StandardScalerWrapper, XGBoostClassifier\", \"run_properties\": \"<azureml.automl.runtime.shared.model_wrappers.StandardScalerWrapper object at 0x7f2f4a665978\", \"primary_metric\": 0.83620474, \"best_metric\": 0.85106117}, {\"run_id\": \"AutoML_f152ea1b-337e-453f-b35a-6ed293cda5c5_27\", \"run_number\": 61, \"metric\": null, \"status\": \"Completed\", \"run_type\": \"azureml.scriptrun\", \"training_percent\": \"100\", \"start_time\": \"2021-02-15T19:16:46.57772Z\", \"end_time\": \"2021-02-15T19:17:41.294576Z\", \"created_time\": \"2021-02-15T19:16:35.664962Z\", \"created_time_dt\": \"2021-02-15T19:16:35.664962Z\", \"duration\": \"0:01:05\", \"iteration\": \"27\", \"goal\": \"accuracy_max\", \"run_name\": \"MaxAbsScaler, RandomForest\", \"run_properties\": \"copy=True\", \"primary_metric\": 0.8065335, \"best_metric\": 0.85106117}, {\"run_id\": \"AutoML_f152ea1b-337e-453f-b35a-6ed293cda5c5_28\", \"run_number\": 62, \"metric\": null, \"status\": \"Completed\", \"run_type\": \"azureml.scriptrun\", \"training_percent\": \"100\", \"start_time\": \"2021-02-15T19:16:52.951852Z\", \"end_time\": \"2021-02-15T19:17:42.247701Z\", \"created_time\": \"2021-02-15T19:16:40.589951Z\", \"created_time_dt\": \"2021-02-15T19:16:40.589951Z\", \"duration\": \"0:01:01\", \"iteration\": \"28\", \"goal\": \"accuracy_max\", \"run_name\": \"RobustScaler, ExtremeRandomTrees\", \"run_properties\": \"copy=True, quantile_range=[10, 90], with_centering=True,\\n             with_scaling=False\", \"primary_metric\": 0.74336246, \"best_metric\": 0.85106117}, {\"run_id\": \"AutoML_f152ea1b-337e-453f-b35a-6ed293cda5c5_29\", \"run_number\": 63, \"metric\": null, \"status\": \"Completed\", \"run_type\": \"azureml.scriptrun\", \"training_percent\": \"100\", \"start_time\": \"2021-02-15T19:16:51.848542Z\", \"end_time\": \"2021-02-15T19:17:43.432105Z\", \"created_time\": \"2021-02-15T19:16:40.725875Z\", \"created_time_dt\": \"2021-02-15T19:16:40.725875Z\", \"duration\": \"0:01:02\", \"iteration\": \"29\", \"goal\": \"accuracy_max\", \"run_name\": \"StandardScalerWrapper, ExtremeRandomTrees\", \"run_properties\": \"<azureml.automl.runtime.shared.model_wrappers.StandardScalerWrapper object at 0x7f56bc7407f0\", \"primary_metric\": 0.83990845, \"best_metric\": 0.85106117}, {\"run_id\": \"AutoML_f152ea1b-337e-453f-b35a-6ed293cda5c5_30\", \"run_number\": 64, \"metric\": null, \"status\": \"Completed\", \"run_type\": \"azureml.scriptrun\", \"training_percent\": \"100\", \"start_time\": \"2021-02-15T19:17:33.824803Z\", \"end_time\": \"2021-02-15T19:18:25.715306Z\", \"created_time\": \"2021-02-15T19:17:20.392358Z\", \"created_time_dt\": \"2021-02-15T19:17:20.392358Z\", \"duration\": \"0:01:05\", \"iteration\": \"30\", \"goal\": \"accuracy_max\", \"run_name\": \"SparseNormalizer, ExtremeRandomTrees\", \"run_properties\": \"<azureml.automl.runtime.shared.model_wrappers.SparseNormalizer object at 0x7f468a8a4518\", \"primary_metric\": 0.68389513, \"best_metric\": 0.85106117}, {\"run_id\": \"AutoML_f152ea1b-337e-453f-b35a-6ed293cda5c5_31\", \"run_number\": 65, \"metric\": null, \"status\": \"Completed\", \"run_type\": \"azureml.scriptrun\", \"training_percent\": \"100\", \"start_time\": \"2021-02-15T19:17:57.54764Z\", \"end_time\": \"2021-02-15T19:18:46.624431Z\", \"created_time\": \"2021-02-15T19:17:44.42883Z\", \"created_time_dt\": \"2021-02-15T19:17:44.42883Z\", \"duration\": \"0:01:02\", \"iteration\": \"31\", \"goal\": \"accuracy_max\", \"run_name\": \"StandardScalerWrapper, XGBoostClassifier\", \"run_properties\": \"<azureml.automl.runtime.shared.model_wrappers.StandardScalerWrapper object at 0x7f0b63ee70f0\", \"primary_metric\": 0.81394091, \"best_metric\": 0.85106117}, {\"run_id\": \"AutoML_f152ea1b-337e-453f-b35a-6ed293cda5c5_32\", \"run_number\": 66, \"metric\": null, \"status\": \"Completed\", \"run_type\": \"azureml.scriptrun\", \"training_percent\": \"100\", \"start_time\": \"2021-02-15T19:17:56.52276Z\", \"end_time\": \"2021-02-15T19:18:48.033022Z\", \"created_time\": \"2021-02-15T19:17:44.572281Z\", \"created_time_dt\": \"2021-02-15T19:17:44.572281Z\", \"duration\": \"0:01:03\", \"iteration\": \"32\", \"goal\": \"accuracy_max\", \"run_name\": \"StandardScalerWrapper, XGBoostClassifier\", \"run_properties\": \"<azureml.automl.runtime.shared.model_wrappers.StandardScalerWrapper object at 0x7f41f1c40be0\", \"primary_metric\": 0.83254266, \"best_metric\": 0.85106117}, {\"run_id\": \"AutoML_f152ea1b-337e-453f-b35a-6ed293cda5c5_33\", \"run_number\": 67, \"metric\": null, \"status\": \"Completed\", \"run_type\": \"azureml.scriptrun\", \"training_percent\": \"100\", \"start_time\": \"2021-02-15T19:18:01.232184Z\", \"end_time\": \"2021-02-15T19:18:48.121094Z\", \"created_time\": \"2021-02-15T19:17:48.735941Z\", \"created_time_dt\": \"2021-02-15T19:17:48.735941Z\", \"duration\": \"0:00:59\", \"iteration\": \"33\", \"goal\": \"accuracy_max\", \"run_name\": \"MinMaxScaler, LogisticRegression\", \"run_properties\": \"copy=True, feature_range=(0, 1\", \"primary_metric\": 0.79533916, \"best_metric\": 0.85106117}, {\"run_id\": \"AutoML_f152ea1b-337e-453f-b35a-6ed293cda5c5_34\", \"run_number\": 68, \"metric\": null, \"status\": \"Completed\", \"run_type\": \"azureml.scriptrun\", \"training_percent\": \"100\", \"start_time\": \"2021-02-15T19:18:40.582194Z\", \"end_time\": \"2021-02-15T19:19:29.654948Z\", \"created_time\": \"2021-02-15T19:18:29.071591Z\", \"created_time_dt\": \"2021-02-15T19:18:29.071591Z\", \"duration\": \"0:01:00\", \"iteration\": \"34\", \"goal\": \"accuracy_max\", \"run_name\": \"SparseNormalizer, XGBoostClassifier\", \"run_properties\": \"<azureml.automl.runtime.shared.model_wrappers.SparseNormalizer object at 0x7f378e6cc748\", \"primary_metric\": 0.82118186, \"best_metric\": 0.85106117}, {\"run_id\": \"AutoML_f152ea1b-337e-453f-b35a-6ed293cda5c5_35\", \"run_number\": 69, \"metric\": null, \"status\": \"Completed\", \"run_type\": \"azureml.scriptrun\", \"training_percent\": \"100\", \"start_time\": \"2021-02-15T19:19:05.807434Z\", \"end_time\": \"2021-02-15T19:20:01.606262Z\", \"created_time\": \"2021-02-15T19:18:50.893114Z\", \"created_time_dt\": \"2021-02-15T19:18:50.893114Z\", \"duration\": \"0:01:10\", \"iteration\": \"35\", \"goal\": \"accuracy_max\", \"run_name\": \"MaxAbsScaler, ExtremeRandomTrees\", \"run_properties\": \"copy=True\", \"primary_metric\": 0.78768206, \"best_metric\": 0.85106117}, {\"run_id\": \"AutoML_f152ea1b-337e-453f-b35a-6ed293cda5c5_37\", \"run_number\": 70, \"metric\": null, \"status\": \"Completed\", \"run_type\": \"azureml.scriptrun\", \"training_percent\": \"100\", \"start_time\": \"2021-02-15T19:19:09.564559Z\", \"end_time\": \"2021-02-15T19:20:07.324254Z\", \"created_time\": \"2021-02-15T19:18:58.080036Z\", \"created_time_dt\": \"2021-02-15T19:18:58.080036Z\", \"duration\": \"0:01:09\", \"iteration\": \"37\", \"goal\": \"accuracy_max\", \"run_name\": \"StandardScalerWrapper, XGBoostClassifier\", \"run_properties\": \"<azureml.automl.runtime.shared.model_wrappers.StandardScalerWrapper object at 0x7fc48b7ec6d8\", \"primary_metric\": 0.80661673, \"best_metric\": 0.85106117}, {\"run_id\": \"AutoML_f152ea1b-337e-453f-b35a-6ed293cda5c5_36\", \"run_number\": 71, \"metric\": null, \"status\": \"Completed\", \"run_type\": \"azureml.scriptrun\", \"training_percent\": \"100\", \"start_time\": \"2021-02-15T19:19:11.313048Z\", \"end_time\": \"2021-02-15T19:19:57.534393Z\", \"created_time\": \"2021-02-15T19:18:58.090667Z\", \"created_time_dt\": \"2021-02-15T19:18:58.090667Z\", \"duration\": \"0:00:59\", \"iteration\": \"36\", \"goal\": \"accuracy_max\", \"run_name\": \"StandardScalerWrapper, RandomForest\", \"run_properties\": \"<azureml.automl.runtime.shared.model_wrappers.StandardScalerWrapper object at 0x7f7fde2e4828\", \"primary_metric\": 0.82134831, \"best_metric\": 0.85106117}, {\"run_id\": \"AutoML_f152ea1b-337e-453f-b35a-6ed293cda5c5_38\", \"run_number\": 72, \"metric\": null, \"status\": \"Completed\", \"run_type\": \"azureml.scriptrun\", \"training_percent\": \"100\", \"start_time\": \"2021-02-15T19:19:41.761239Z\", \"end_time\": \"2021-02-15T19:20:39.409812Z\", \"created_time\": \"2021-02-15T19:19:31.688469Z\", \"created_time_dt\": \"2021-02-15T19:19:31.688469Z\", \"duration\": \"0:01:07\", \"iteration\": \"38\", \"goal\": \"accuracy_max\", \"run_name\": \"MaxAbsScaler, LightGBM\", \"run_properties\": \"copy=True\", \"primary_metric\": 0.83616313, \"best_metric\": 0.85106117}, {\"run_id\": \"AutoML_f152ea1b-337e-453f-b35a-6ed293cda5c5_39\", \"run_number\": 73, \"metric\": null, \"status\": \"Completed\", \"run_type\": \"azureml.scriptrun\", \"training_percent\": \"100\", \"start_time\": \"2021-02-15T19:20:13.305332Z\", \"end_time\": \"2021-02-15T19:21:02.120324Z\", \"created_time\": \"2021-02-15T19:19:59.578252Z\", \"created_time_dt\": \"2021-02-15T19:19:59.578252Z\", \"duration\": \"0:01:02\", \"iteration\": \"39\", \"goal\": \"accuracy_max\", \"run_name\": \"StandardScalerWrapper, LightGBM\", \"run_properties\": \"<azureml.automl.runtime.shared.model_wrappers.StandardScalerWrapper object at 0x7f5e522b5ef0\", \"primary_metric\": 0.83254266, \"best_metric\": 0.85106117}, {\"run_id\": \"AutoML_f152ea1b-337e-453f-b35a-6ed293cda5c5_40\", \"run_number\": 74, \"metric\": null, \"status\": \"Completed\", \"run_type\": \"azureml.scriptrun\", \"training_percent\": \"100\", \"start_time\": \"2021-02-15T19:20:16.907158Z\", \"end_time\": \"2021-02-15T19:21:13.321332Z\", \"created_time\": \"2021-02-15T19:20:05.997007Z\", \"created_time_dt\": \"2021-02-15T19:20:05.997007Z\", \"duration\": \"0:01:07\", \"iteration\": \"40\", \"goal\": \"accuracy_max\", \"run_name\": \"MaxAbsScaler, ExtremeRandomTrees\", \"run_properties\": \"copy=True\", \"primary_metric\": 0.8102372, \"best_metric\": 0.85106117}, {\"run_id\": \"AutoML_f152ea1b-337e-453f-b35a-6ed293cda5c5_41\", \"run_number\": 75, \"metric\": null, \"status\": \"Completed\", \"run_type\": \"azureml.scriptrun\", \"training_percent\": \"100\", \"start_time\": \"2021-02-15T19:20:22.216772Z\", \"end_time\": \"2021-02-15T19:21:12.802982Z\", \"created_time\": \"2021-02-15T19:20:10.664364Z\", \"created_time_dt\": \"2021-02-15T19:20:10.664364Z\", \"duration\": \"0:01:02\", \"iteration\": \"41\", \"goal\": \"accuracy_max\", \"run_name\": \"StandardScalerWrapper, XGBoostClassifier\", \"run_properties\": \"<azureml.automl.runtime.shared.model_wrappers.StandardScalerWrapper object at 0x7fdb0b928e10\", \"primary_metric\": 0.8102372, \"best_metric\": 0.85106117}, {\"run_id\": \"AutoML_f152ea1b-337e-453f-b35a-6ed293cda5c5_42\", \"run_number\": 76, \"metric\": null, \"status\": \"Completed\", \"run_type\": \"azureml.scriptrun\", \"training_percent\": \"100\", \"start_time\": \"2021-02-15T19:20:54.720714Z\", \"end_time\": \"2021-02-15T19:21:48.315084Z\", \"created_time\": \"2021-02-15T19:20:41.704695Z\", \"created_time_dt\": \"2021-02-15T19:20:41.704695Z\", \"duration\": \"0:01:06\", \"iteration\": \"42\", \"goal\": \"accuracy_max\", \"run_name\": \"StandardScalerWrapper, XGBoostClassifier\", \"run_properties\": \"<azureml.automl.runtime.shared.model_wrappers.StandardScalerWrapper object at 0x7f99765752b0\", \"primary_metric\": 0.80278818, \"best_metric\": 0.85106117}, {\"run_id\": \"AutoML_f152ea1b-337e-453f-b35a-6ed293cda5c5_43\", \"run_number\": 77, \"metric\": null, \"status\": \"Completed\", \"run_type\": \"azureml.scriptrun\", \"training_percent\": \"100\", \"start_time\": \"2021-02-15T19:21:14.771578Z\", \"end_time\": \"2021-02-15T19:22:05.113642Z\", \"created_time\": \"2021-02-15T19:21:04.408545Z\", \"created_time_dt\": \"2021-02-15T19:21:04.408545Z\", \"duration\": \"0:01:00\", \"iteration\": \"43\", \"goal\": \"accuracy_max\", \"run_name\": \"StandardScalerWrapper, XGBoostClassifier\", \"run_properties\": \"<azureml.automl.runtime.shared.model_wrappers.StandardScalerWrapper object at 0x7f394053ad68\", \"primary_metric\": 0.81764461, \"best_metric\": 0.85106117}, {\"run_id\": \"AutoML_f152ea1b-337e-453f-b35a-6ed293cda5c5_44\", \"run_number\": 78, \"metric\": null, \"status\": \"Completed\", \"run_type\": \"azureml.scriptrun\", \"training_percent\": \"100\", \"start_time\": \"2021-02-15T19:21:29.441029Z\", \"end_time\": \"2021-02-15T19:22:19.134386Z\", \"created_time\": \"2021-02-15T19:21:16.020511Z\", \"created_time_dt\": \"2021-02-15T19:21:16.020511Z\", \"duration\": \"0:01:03\", \"iteration\": \"44\", \"goal\": \"accuracy_max\", \"run_name\": \"StandardScalerWrapper, ExtremeRandomTrees\", \"run_properties\": \"<azureml.automl.runtime.shared.model_wrappers.StandardScalerWrapper object at 0x7f125c43d208\", \"primary_metric\": 0.83620474, \"best_metric\": 0.85106117}, {\"run_id\": \"AutoML_f152ea1b-337e-453f-b35a-6ed293cda5c5_45\", \"run_number\": 79, \"metric\": null, \"status\": \"Completed\", \"run_type\": \"azureml.scriptrun\", \"training_percent\": \"100\", \"start_time\": \"2021-02-15T19:21:30.189346Z\", \"end_time\": \"2021-02-15T19:22:19.76689Z\", \"created_time\": \"2021-02-15T19:21:16.15431Z\", \"created_time_dt\": \"2021-02-15T19:21:16.15431Z\", \"duration\": \"0:01:03\", \"iteration\": \"45\", \"goal\": \"accuracy_max\", \"run_name\": \"MaxAbsScaler, LightGBM\", \"run_properties\": \"copy=True\", \"primary_metric\": 0.81032043, \"best_metric\": 0.85106117}, {\"run_id\": \"AutoML_f152ea1b-337e-453f-b35a-6ed293cda5c5_46\", \"run_number\": 80, \"metric\": null, \"status\": \"Completed\", \"run_type\": \"azureml.scriptrun\", \"training_percent\": \"100\", \"start_time\": \"2021-02-15T19:22:00.413924Z\", \"end_time\": \"2021-02-15T19:22:53.957913Z\", \"created_time\": \"2021-02-15T19:21:50.478674Z\", \"created_time_dt\": \"2021-02-15T19:21:50.478674Z\", \"duration\": \"0:01:03\", \"iteration\": \"46\", \"goal\": \"accuracy_max\", \"run_name\": \"StandardScalerWrapper, LightGBM\", \"run_properties\": \"<azureml.automl.runtime.shared.model_wrappers.StandardScalerWrapper object at 0x7fd943eda390\", \"primary_metric\": 0.82134831, \"best_metric\": 0.85106117}, {\"run_id\": \"AutoML_f152ea1b-337e-453f-b35a-6ed293cda5c5_47\", \"run_number\": 81, \"metric\": null, \"status\": \"Completed\", \"run_type\": \"azureml.scriptrun\", \"training_percent\": \"100\", \"start_time\": \"2021-02-15T19:22:19.280285Z\", \"end_time\": \"2021-02-15T19:23:12.103869Z\", \"created_time\": \"2021-02-15T19:22:07.424499Z\", \"created_time_dt\": \"2021-02-15T19:22:07.424499Z\", \"duration\": \"0:01:04\", \"iteration\": \"47\", \"goal\": \"accuracy_max\", \"run_name\": \"StandardScalerWrapper, LightGBM\", \"run_properties\": \"<azureml.automl.runtime.shared.model_wrappers.StandardScalerWrapper object at 0x7f43d1ed9dd8\", \"primary_metric\": 0.8102372, \"best_metric\": 0.85106117}, {\"run_id\": \"AutoML_f152ea1b-337e-453f-b35a-6ed293cda5c5_48\", \"run_number\": 82, \"metric\": null, \"status\": \"Completed\", \"run_type\": \"azureml.scriptrun\", \"training_percent\": \"100\", \"start_time\": \"2021-02-15T19:22:33.603796Z\", \"end_time\": \"2021-02-15T19:23:20.097635Z\", \"created_time\": \"2021-02-15T19:22:21.242956Z\", \"created_time_dt\": \"2021-02-15T19:22:21.242956Z\", \"duration\": \"0:00:58\", \"iteration\": \"48\", \"goal\": \"accuracy_max\", \"run_name\": \"RobustScaler, LightGBM\", \"run_properties\": \"copy=True, quantile_range=[25, 75], with_centering=False,\\n             with_scaling=False\", \"primary_metric\": 0.80287141, \"best_metric\": 0.85106117}, {\"run_id\": \"AutoML_f152ea1b-337e-453f-b35a-6ed293cda5c5_49\", \"run_number\": 83, \"metric\": null, \"status\": \"Completed\", \"run_type\": \"azureml.scriptrun\", \"training_percent\": \"100\", \"start_time\": \"2021-02-15T19:22:37.240804Z\", \"end_time\": \"2021-02-15T19:23:32.737905Z\", \"created_time\": \"2021-02-15T19:22:25.161521Z\", \"created_time_dt\": \"2021-02-15T19:22:25.161521Z\", \"duration\": \"0:01:07\", \"iteration\": \"49\", \"goal\": \"accuracy_max\", \"run_name\": \"MaxAbsScaler, RandomForest\", \"run_properties\": \"copy=True\", \"primary_metric\": 0.78052434, \"best_metric\": 0.85106117}, {\"run_id\": \"AutoML_f152ea1b-337e-453f-b35a-6ed293cda5c5_50\", \"run_number\": 84, \"metric\": null, \"status\": \"Completed\", \"run_type\": \"azureml.scriptrun\", \"training_percent\": \"100\", \"start_time\": \"2021-02-15T19:23:10.219172Z\", \"end_time\": \"2021-02-15T19:23:59.231369Z\", \"created_time\": \"2021-02-15T19:22:56.961016Z\", \"created_time_dt\": \"2021-02-15T19:22:56.961016Z\", \"duration\": \"0:01:02\", \"iteration\": \"50\", \"goal\": \"accuracy_max\", \"run_name\": \"RobustScaler, ExtremeRandomTrees\", \"run_properties\": \"copy=True, quantile_range=[10, 90], with_centering=False,\\n             with_scaling=False\", \"primary_metric\": 0.82871411, \"best_metric\": 0.85106117}, {\"run_id\": \"AutoML_f152ea1b-337e-453f-b35a-6ed293cda5c5_51\", \"run_number\": 85, \"metric\": null, \"status\": \"Completed\", \"run_type\": \"azureml.scriptrun\", \"training_percent\": \"100\", \"start_time\": \"2021-02-15T19:23:27.532838Z\", \"end_time\": \"2021-02-15T19:24:26.433279Z\", \"created_time\": \"2021-02-15T19:23:14.402954Z\", \"created_time_dt\": \"2021-02-15T19:23:14.402954Z\", \"duration\": \"0:01:12\", \"iteration\": \"51\", \"goal\": \"accuracy_max\", \"run_name\": \"StandardScalerWrapper, RandomForest\", \"run_properties\": \"<azureml.automl.runtime.shared.model_wrappers.StandardScalerWrapper object at 0x7f06b8bd6470\", \"primary_metric\": 0.78797337, \"best_metric\": 0.85106117}, {\"run_id\": \"AutoML_f152ea1b-337e-453f-b35a-6ed293cda5c5_52\", \"run_number\": 86, \"metric\": null, \"status\": \"Completed\", \"run_type\": \"azureml.scriptrun\", \"training_percent\": \"100\", \"start_time\": \"2021-02-15T19:23:32.331139Z\", \"end_time\": \"2021-02-15T19:24:23.630056Z\", \"created_time\": \"2021-02-15T19:23:22.561544Z\", \"created_time_dt\": \"2021-02-15T19:23:22.561544Z\", \"duration\": \"0:01:01\", \"iteration\": \"52\", \"goal\": \"accuracy_max\", \"run_name\": \"MaxAbsScaler, RandomForest\", \"run_properties\": \"copy=True\", \"primary_metric\": 0.82879734, \"best_metric\": 0.85106117}, {\"run_id\": \"AutoML_f152ea1b-337e-453f-b35a-6ed293cda5c5_53\", \"run_number\": 87, \"metric\": null, \"status\": \"Completed\", \"run_type\": \"azureml.scriptrun\", \"training_percent\": \"100\", \"start_time\": \"2021-02-15T19:23:46.502597Z\", \"end_time\": \"2021-02-15T19:24:44.975161Z\", \"created_time\": \"2021-02-15T19:23:34.896874Z\", \"created_time_dt\": \"2021-02-15T19:23:34.896874Z\", \"duration\": \"0:01:10\", \"iteration\": \"53\", \"goal\": \"accuracy_max\", \"run_name\": \"StandardScalerWrapper, XGBoostClassifier\", \"run_properties\": \"<azureml.automl.runtime.shared.model_wrappers.StandardScalerWrapper object at 0x7f925ffb0ba8\", \"primary_metric\": 0.82505202, \"best_metric\": 0.85106117}, {\"run_id\": \"AutoML_f152ea1b-337e-453f-b35a-6ed293cda5c5_54\", \"run_number\": 88, \"metric\": null, \"status\": \"Completed\", \"run_type\": \"azureml.scriptrun\", \"training_percent\": \"100\", \"start_time\": \"2021-02-15T19:24:14.050814Z\", \"end_time\": \"2021-02-15T19:25:02.021228Z\", \"created_time\": \"2021-02-15T19:24:01.554488Z\", \"created_time_dt\": \"2021-02-15T19:24:01.554488Z\", \"duration\": \"0:01:00\", \"iteration\": \"54\", \"goal\": \"accuracy_max\", \"run_name\": \"MaxAbsScaler, LightGBM\", \"run_properties\": \"copy=True\", \"primary_metric\": 0.82879734, \"best_metric\": 0.85106117}, {\"run_id\": \"AutoML_f152ea1b-337e-453f-b35a-6ed293cda5c5_55\", \"run_number\": 89, \"metric\": null, \"status\": \"Completed\", \"run_type\": \"azureml.scriptrun\", \"training_percent\": \"100\", \"start_time\": \"2021-02-15T19:24:43.471653Z\", \"end_time\": \"2021-02-15T19:25:44.88135Z\", \"created_time\": \"2021-02-15T19:24:27.771879Z\", \"created_time_dt\": \"2021-02-15T19:24:27.771879Z\", \"duration\": \"0:01:17\", \"iteration\": \"55\", \"goal\": \"accuracy_max\", \"run_name\": \"SparseNormalizer, ExtremeRandomTrees\", \"run_properties\": \"<azureml.automl.runtime.shared.model_wrappers.SparseNormalizer object at 0x7f0c004f82e8\", \"primary_metric\": 0.79159384, \"best_metric\": 0.85106117}, {\"run_id\": \"AutoML_f152ea1b-337e-453f-b35a-6ed293cda5c5_56\", \"run_number\": 90, \"metric\": null, \"status\": \"Completed\", \"run_type\": \"azureml.scriptrun\", \"training_percent\": \"100\", \"start_time\": \"2021-02-15T19:24:48.94473Z\", \"end_time\": \"2021-02-15T19:25:43.833336Z\", \"created_time\": \"2021-02-15T19:24:34.621373Z\", \"created_time_dt\": \"2021-02-15T19:24:34.621373Z\", \"duration\": \"0:01:09\", \"iteration\": \"56\", \"goal\": \"accuracy_max\", \"run_name\": \"MaxAbsScaler, LightGBM\", \"run_properties\": \"copy=True\", \"primary_metric\": 0.81394091, \"best_metric\": 0.85106117}, {\"run_id\": \"AutoML_f152ea1b-337e-453f-b35a-6ed293cda5c5_57\", \"run_number\": 91, \"metric\": null, \"status\": \"Completed\", \"run_type\": \"azureml.scriptrun\", \"training_percent\": \"100\", \"start_time\": \"2021-02-15T19:25:02.106255Z\", \"end_time\": \"2021-02-15T19:26:03.860257Z\", \"created_time\": \"2021-02-15T19:24:47.801629Z\", \"created_time_dt\": \"2021-02-15T19:24:47.801629Z\", \"duration\": \"0:01:16\", \"iteration\": \"57\", \"goal\": \"accuracy_max\", \"run_name\": \"MaxAbsScaler, LightGBM\", \"run_properties\": \"copy=True\", \"primary_metric\": 0.82875572, \"best_metric\": 0.85106117}, {\"run_id\": \"AutoML_f152ea1b-337e-453f-b35a-6ed293cda5c5_58\", \"run_number\": 92, \"metric\": null, \"status\": \"Completed\", \"run_type\": \"azureml.scriptrun\", \"training_percent\": \"100\", \"start_time\": \"2021-02-15T19:25:18.758244Z\", \"end_time\": \"2021-02-15T19:26:10.999888Z\", \"created_time\": \"2021-02-15T19:25:05.010355Z\", \"created_time_dt\": \"2021-02-15T19:25:05.010355Z\", \"duration\": \"0:01:05\", \"iteration\": \"58\", \"goal\": \"accuracy_max\", \"run_name\": \"StandardScalerWrapper, LightGBM\", \"run_properties\": \"<azureml.automl.runtime.shared.model_wrappers.StandardScalerWrapper object at 0x7fa7ccb25fd0\", \"primary_metric\": 0.83999168, \"best_metric\": 0.85106117}, {\"run_id\": \"AutoML_f152ea1b-337e-453f-b35a-6ed293cda5c5_59\", \"run_number\": 93, \"metric\": null, \"status\": \"Completed\", \"run_type\": \"azureml.scriptrun\", \"training_percent\": \"100\", \"start_time\": \"2021-02-15T19:25:59.462494Z\", \"end_time\": \"2021-02-15T19:26:47.049106Z\", \"created_time\": \"2021-02-15T19:25:48.476016Z\", \"created_time_dt\": \"2021-02-15T19:25:48.476016Z\", \"duration\": \"0:00:58\", \"iteration\": \"59\", \"goal\": \"accuracy_max\", \"run_name\": \"StandardScalerWrapper, ExtremeRandomTrees\", \"run_properties\": \"<azureml.automl.runtime.shared.model_wrappers.StandardScalerWrapper object at 0x7f8d8194fe48\", \"primary_metric\": 0.82496879, \"best_metric\": 0.85106117}, {\"run_id\": \"AutoML_f152ea1b-337e-453f-b35a-6ed293cda5c5_60\", \"run_number\": 94, \"metric\": null, \"status\": \"Completed\", \"run_type\": \"azureml.scriptrun\", \"training_percent\": \"100\", \"start_time\": \"2021-02-15T19:26:00.924362Z\", \"end_time\": \"2021-02-15T19:26:55.977656Z\", \"created_time\": \"2021-02-15T19:25:48.594798Z\", \"created_time_dt\": \"2021-02-15T19:25:48.594798Z\", \"duration\": \"0:01:07\", \"iteration\": \"60\", \"goal\": \"accuracy_max\", \"run_name\": \"StandardScalerWrapper, GradientBoosting\", \"run_properties\": \"<azureml.automl.runtime.shared.model_wrappers.StandardScalerWrapper object at 0x7f6d6dde0a20\", \"primary_metric\": 0.83254266, \"best_metric\": 0.85106117}, {\"run_id\": \"AutoML_f152ea1b-337e-453f-b35a-6ed293cda5c5_61\", \"run_number\": 95, \"metric\": null, \"status\": \"Completed\", \"run_type\": \"azureml.scriptrun\", \"training_percent\": \"100\", \"start_time\": \"2021-02-15T19:26:19.54578Z\", \"end_time\": \"2021-02-15T19:27:17.94437Z\", \"created_time\": \"2021-02-15T19:26:06.039915Z\", \"created_time_dt\": \"2021-02-15T19:26:06.039915Z\", \"duration\": \"0:01:11\", \"iteration\": \"61\", \"goal\": \"accuracy_max\", \"run_name\": \"MaxAbsScaler, LightGBM\", \"run_properties\": \"copy=True\", \"primary_metric\": 0.81768623, \"best_metric\": 0.85106117}, {\"run_id\": \"AutoML_f152ea1b-337e-453f-b35a-6ed293cda5c5_62\", \"run_number\": 96, \"metric\": null, \"status\": \"Completed\", \"run_type\": \"azureml.scriptrun\", \"training_percent\": \"100\", \"start_time\": \"2021-02-15T19:26:24.250237Z\", \"end_time\": \"2021-02-15T19:27:14.562325Z\", \"created_time\": \"2021-02-15T19:26:13.359577Z\", \"created_time_dt\": \"2021-02-15T19:26:13.359577Z\", \"duration\": \"0:01:01\", \"iteration\": \"62\", \"goal\": \"accuracy_max\", \"run_name\": \"MaxAbsScaler, LightGBM\", \"run_properties\": \"copy=True\", \"primary_metric\": 0.80640866, \"best_metric\": 0.85106117}, {\"run_id\": \"AutoML_f152ea1b-337e-453f-b35a-6ed293cda5c5_63\", \"run_number\": 97, \"metric\": null, \"status\": \"Completed\", \"run_type\": \"azureml.scriptrun\", \"training_percent\": \"100\", \"start_time\": \"2021-02-15T19:27:00.277753Z\", \"end_time\": \"2021-02-15T19:27:56.588677Z\", \"created_time\": \"2021-02-15T19:26:49.300187Z\", \"created_time_dt\": \"2021-02-15T19:26:49.300187Z\", \"duration\": \"0:01:07\", \"iteration\": \"63\", \"goal\": \"accuracy_max\", \"run_name\": \"SparseNormalizer, XGBoostClassifier\", \"run_properties\": \"<azureml.automl.runtime.shared.model_wrappers.SparseNormalizer object at 0x7f2a9c4c85f8\", \"primary_metric\": 0.8360799, \"best_metric\": 0.85106117}, {\"run_id\": \"AutoML_f152ea1b-337e-453f-b35a-6ed293cda5c5_64\", \"run_number\": 98, \"metric\": null, \"status\": \"Completed\", \"run_type\": \"azureml.scriptrun\", \"training_percent\": \"100\", \"start_time\": \"2021-02-15T19:27:10.322138Z\", \"end_time\": \"2021-02-15T19:28:00.937647Z\", \"created_time\": \"2021-02-15T19:26:57.949083Z\", \"created_time_dt\": \"2021-02-15T19:26:57.949083Z\", \"duration\": \"0:01:02\", \"iteration\": \"64\", \"goal\": \"accuracy_max\", \"run_name\": \"SparseNormalizer, LightGBM\", \"run_properties\": \"<azureml.automl.runtime.shared.model_wrappers.SparseNormalizer object at 0x7f9f9bb64710\", \"primary_metric\": 0.74710778, \"best_metric\": 0.85106117}, {\"run_id\": \"AutoML_f152ea1b-337e-453f-b35a-6ed293cda5c5_65\", \"run_number\": 99, \"metric\": null, \"status\": \"Completed\", \"run_type\": \"azureml.scriptrun\", \"training_percent\": \"100\", \"start_time\": \"2021-02-15T19:27:30.919399Z\", \"end_time\": \"2021-02-15T19:28:21.557379Z\", \"created_time\": \"2021-02-15T19:27:18.718014Z\", \"created_time_dt\": \"2021-02-15T19:27:18.718014Z\", \"duration\": \"0:01:02\", \"iteration\": \"65\", \"goal\": \"accuracy_max\", \"run_name\": \"StandardScalerWrapper, ExtremeRandomTrees\", \"run_properties\": \"<azureml.automl.runtime.shared.model_wrappers.StandardScalerWrapper object at 0x7f5bb56bb828\", \"primary_metric\": 0.83241781, \"best_metric\": 0.85106117}, {\"run_id\": \"AutoML_f152ea1b-337e-453f-b35a-6ed293cda5c5_66\", \"run_number\": 100, \"metric\": null, \"status\": \"Completed\", \"run_type\": \"azureml.scriptrun\", \"training_percent\": \"100\", \"start_time\": \"2021-02-15T19:27:34.656898Z\", \"end_time\": \"2021-02-15T19:28:28.200013Z\", \"created_time\": \"2021-02-15T19:27:23.778616Z\", \"created_time_dt\": \"2021-02-15T19:27:23.778616Z\", \"duration\": \"0:01:04\", \"iteration\": \"66\", \"goal\": \"accuracy_max\", \"run_name\": \"StandardScalerWrapper, XGBoostClassifier\", \"run_properties\": \"<azureml.automl.runtime.shared.model_wrappers.StandardScalerWrapper object at 0x7f0822480eb8\", \"primary_metric\": 0.83620474, \"best_metric\": 0.85106117}, {\"run_id\": \"AutoML_f152ea1b-337e-453f-b35a-6ed293cda5c5_67\", \"run_number\": 101, \"metric\": null, \"status\": \"Completed\", \"run_type\": \"azureml.scriptrun\", \"training_percent\": \"100\", \"start_time\": \"2021-02-15T19:28:11.714975Z\", \"end_time\": \"2021-02-15T19:29:03.877948Z\", \"created_time\": \"2021-02-15T19:27:58.829332Z\", \"created_time_dt\": \"2021-02-15T19:27:58.829332Z\", \"duration\": \"0:01:05\", \"iteration\": \"67\", \"goal\": \"accuracy_max\", \"run_name\": \"StandardScalerWrapper, XGBoostClassifier\", \"run_properties\": \"<azureml.automl.runtime.shared.model_wrappers.StandardScalerWrapper object at 0x7fa40c142978\", \"primary_metric\": 0.84735747, \"best_metric\": 0.85106117}, {\"run_id\": \"AutoML_f152ea1b-337e-453f-b35a-6ed293cda5c5_68\", \"run_number\": 102, \"metric\": null, \"status\": \"Completed\", \"run_type\": \"azureml.scriptrun\", \"training_percent\": \"100\", \"start_time\": \"2021-02-15T19:28:15.366573Z\", \"end_time\": \"2021-02-15T19:29:07.206141Z\", \"created_time\": \"2021-02-15T19:28:03.457675Z\", \"created_time_dt\": \"2021-02-15T19:28:03.457675Z\", \"duration\": \"0:01:03\", \"iteration\": \"68\", \"goal\": \"accuracy_max\", \"run_name\": \"StandardScalerWrapper, LightGBM\", \"run_properties\": \"<azureml.automl.runtime.shared.model_wrappers.StandardScalerWrapper object at 0x7ff90729a5c0\", \"primary_metric\": 0.83616313, \"best_metric\": 0.85106117}, {\"run_id\": \"AutoML_f152ea1b-337e-453f-b35a-6ed293cda5c5_69\", \"run_number\": 103, \"metric\": null, \"status\": \"Completed\", \"run_type\": \"azureml.scriptrun\", \"training_percent\": \"100\", \"start_time\": \"2021-02-15T19:28:34.784475Z\", \"end_time\": \"2021-02-15T19:29:23.817725Z\", \"created_time\": \"2021-02-15T19:28:23.64214Z\", \"created_time_dt\": \"2021-02-15T19:28:23.64214Z\", \"duration\": \"0:01:00\", \"iteration\": \"69\", \"goal\": \"accuracy_max\", \"run_name\": \"MaxAbsScaler, LightGBM\", \"run_properties\": \"copy=True\", \"primary_metric\": 0.84735747, \"best_metric\": 0.85106117}, {\"run_id\": \"AutoML_f152ea1b-337e-453f-b35a-6ed293cda5c5_70\", \"run_number\": 104, \"metric\": null, \"status\": \"Completed\", \"run_type\": \"azureml.scriptrun\", \"training_percent\": \"100\", \"start_time\": \"2021-02-15T19:28:42.153798Z\", \"end_time\": \"2021-02-15T19:29:35.616984Z\", \"created_time\": \"2021-02-15T19:28:31.626877Z\", \"created_time_dt\": \"2021-02-15T19:28:31.626877Z\", \"duration\": \"0:01:03\", \"iteration\": \"70\", \"goal\": \"accuracy_max\", \"run_name\": \"MinMaxScaler, ExtremeRandomTrees\", \"run_properties\": \"copy=True, feature_range=(0, 1\", \"primary_metric\": 0.83241781, \"best_metric\": 0.85106117}, {\"run_id\": \"AutoML_f152ea1b-337e-453f-b35a-6ed293cda5c5_71\", \"run_number\": 105, \"metric\": null, \"status\": \"Completed\", \"run_type\": \"azureml.scriptrun\", \"training_percent\": \"100\", \"start_time\": \"2021-02-15T19:29:16.511938Z\", \"end_time\": \"2021-02-15T19:30:10.641896Z\", \"created_time\": \"2021-02-15T19:29:06.030518Z\", \"created_time_dt\": \"2021-02-15T19:29:06.030518Z\", \"duration\": \"0:01:04\", \"iteration\": \"71\", \"goal\": \"accuracy_max\", \"run_name\": \"StandardScalerWrapper, XGBoostClassifier\", \"run_properties\": \"<azureml.automl.runtime.shared.model_wrappers.StandardScalerWrapper object at 0x7fd2e11f2588\", \"primary_metric\": 0.84735747, \"best_metric\": 0.85106117}, {\"run_id\": \"AutoML_f152ea1b-337e-453f-b35a-6ed293cda5c5_72\", \"run_number\": 106, \"metric\": null, \"status\": \"Completed\", \"run_type\": \"azureml.scriptrun\", \"training_percent\": \"100\", \"start_time\": \"2021-02-15T19:29:19.948487Z\", \"end_time\": \"2021-02-15T19:30:17.770917Z\", \"created_time\": \"2021-02-15T19:29:10.031563Z\", \"created_time_dt\": \"2021-02-15T19:29:10.031563Z\", \"duration\": \"0:01:07\", \"iteration\": \"72\", \"goal\": \"accuracy_max\", \"run_name\": \"StandardScalerWrapper, XGBoostClassifier\", \"run_properties\": \"<azureml.automl.runtime.shared.model_wrappers.StandardScalerWrapper object at 0x7f247ad6e668\", \"primary_metric\": 0.80649189, \"best_metric\": 0.85106117}, {\"run_id\": \"AutoML_f152ea1b-337e-453f-b35a-6ed293cda5c5_73\", \"run_number\": 107, \"metric\": null, \"status\": \"Completed\", \"run_type\": \"azureml.scriptrun\", \"training_percent\": \"100\", \"start_time\": \"2021-02-15T19:29:38.863793Z\", \"end_time\": \"2021-02-15T19:30:27.413681Z\", \"created_time\": \"2021-02-15T19:29:26.105322Z\", \"created_time_dt\": \"2021-02-15T19:29:26.105322Z\", \"duration\": \"0:01:01\", \"iteration\": \"73\", \"goal\": \"accuracy_max\", \"run_name\": \"StandardScalerWrapper, XGBoostClassifier\", \"run_properties\": \"<azureml.automl.runtime.shared.model_wrappers.StandardScalerWrapper object at 0x7f1879c60978\", \"primary_metric\": 0.82871411, \"best_metric\": 0.85106117}, {\"run_id\": \"AutoML_f152ea1b-337e-453f-b35a-6ed293cda5c5_74\", \"run_number\": 108, \"metric\": null, \"status\": \"Completed\", \"run_type\": \"azureml.scriptrun\", \"training_percent\": \"100\", \"start_time\": \"2021-02-15T19:29:50.187008Z\", \"end_time\": \"2021-02-15T19:30:45.110114Z\", \"created_time\": \"2021-02-15T19:29:37.822723Z\", \"created_time_dt\": \"2021-02-15T19:29:37.822723Z\", \"duration\": \"0:01:07\", \"iteration\": \"74\", \"goal\": \"accuracy_max\", \"run_name\": \"MaxAbsScaler, LightGBM\", \"run_properties\": \"copy=True\", \"primary_metric\": 0.83616313, \"best_metric\": 0.85106117}, {\"run_id\": \"AutoML_f152ea1b-337e-453f-b35a-6ed293cda5c5_75\", \"run_number\": 109, \"metric\": null, \"status\": \"Completed\", \"run_type\": \"azureml.scriptrun\", \"training_percent\": \"100\", \"start_time\": \"2021-02-15T19:30:25.547925Z\", \"end_time\": \"2021-02-15T19:31:20.180544Z\", \"created_time\": \"2021-02-15T19:30:13.835004Z\", \"created_time_dt\": \"2021-02-15T19:30:13.835004Z\", \"duration\": \"0:01:06\", \"iteration\": \"75\", \"goal\": \"accuracy_max\", \"run_name\": \"MinMaxScaler, ExtremeRandomTrees\", \"run_properties\": \"copy=True, feature_range=(0, 1\", \"primary_metric\": 0.82875572, \"best_metric\": 0.85106117}, {\"run_id\": \"AutoML_f152ea1b-337e-453f-b35a-6ed293cda5c5_76\", \"run_number\": 110, \"metric\": null, \"status\": \"Completed\", \"run_type\": \"azureml.scriptrun\", \"training_percent\": \"100\", \"start_time\": \"2021-02-15T19:30:33.682226Z\", \"end_time\": \"2021-02-15T19:31:37.691131Z\", \"created_time\": \"2021-02-15T19:30:20.27011Z\", \"created_time_dt\": \"2021-02-15T19:30:20.27011Z\", \"duration\": \"0:01:17\", \"iteration\": \"76\", \"goal\": \"accuracy_max\", \"run_name\": \"StandardScalerWrapper, XGBoostClassifier\", \"run_properties\": \"<azureml.automl.runtime.shared.model_wrappers.StandardScalerWrapper object at 0x7fc64e71ac18\", \"primary_metric\": 0.8213067, \"best_metric\": 0.85106117}, {\"run_id\": \"AutoML_f152ea1b-337e-453f-b35a-6ed293cda5c5_77\", \"run_number\": 111, \"metric\": null, \"status\": \"Completed\", \"run_type\": \"azureml.scriptrun\", \"training_percent\": \"100\", \"start_time\": \"2021-02-15T19:30:41.747563Z\", \"end_time\": \"2021-02-15T19:31:30.615367Z\", \"created_time\": \"2021-02-15T19:30:29.818489Z\", \"created_time_dt\": \"2021-02-15T19:30:29.818489Z\", \"duration\": \"0:01:00\", \"iteration\": \"77\", \"goal\": \"accuracy_max\", \"run_name\": \"StandardScalerWrapper, XGBoostClassifier\", \"run_properties\": \"<azureml.automl.runtime.shared.model_wrappers.StandardScalerWrapper object at 0x7f986c94c668\", \"primary_metric\": 0.81402414, \"best_metric\": 0.85106117}, {\"run_id\": \"AutoML_f152ea1b-337e-453f-b35a-6ed293cda5c5_78\", \"run_number\": 112, \"metric\": null, \"status\": \"Completed\", \"run_type\": \"azureml.scriptrun\", \"training_percent\": \"100\", \"start_time\": \"2021-02-15T19:30:59.863722Z\", \"end_time\": \"2021-02-15T19:31:54.484418Z\", \"created_time\": \"2021-02-15T19:30:47.477486Z\", \"created_time_dt\": \"2021-02-15T19:30:47.477486Z\", \"duration\": \"0:01:07\", \"iteration\": \"78\", \"goal\": \"accuracy_max\", \"run_name\": \"MaxAbsScaler, RandomForest\", \"run_properties\": \"copy=True\", \"primary_metric\": 0.83612151, \"best_metric\": 0.85106117}, {\"run_id\": \"AutoML_f152ea1b-337e-453f-b35a-6ed293cda5c5_79\", \"run_number\": 113, \"metric\": null, \"status\": \"Completed\", \"run_type\": \"azureml.scriptrun\", \"training_percent\": \"100\", \"start_time\": \"2021-02-15T19:31:33.464497Z\", \"end_time\": \"2021-02-15T19:32:32.923312Z\", \"created_time\": \"2021-02-15T19:31:22.588663Z\", \"created_time_dt\": \"2021-02-15T19:31:22.588663Z\", \"duration\": \"0:01:10\", \"iteration\": \"79\", \"goal\": \"accuracy_max\", \"run_name\": \"StandardScalerWrapper, XGBoostClassifier\", \"run_properties\": \"<azureml.automl.runtime.shared.model_wrappers.StandardScalerWrapper object at 0x7f34623c6668\", \"primary_metric\": 0.83250104, \"best_metric\": 0.85106117}, {\"run_id\": \"AutoML_f152ea1b-337e-453f-b35a-6ed293cda5c5_80\", \"run_number\": 114, \"metric\": null, \"status\": \"Completed\", \"run_type\": \"azureml.scriptrun\", \"training_percent\": \"100\", \"start_time\": \"2021-02-15T19:31:45.259956Z\", \"end_time\": \"2021-02-15T19:32:35.931793Z\", \"created_time\": \"2021-02-15T19:31:34.249754Z\", \"created_time_dt\": \"2021-02-15T19:31:34.249754Z\", \"duration\": \"0:01:01\", \"iteration\": \"80\", \"goal\": \"accuracy_max\", \"run_name\": \"StandardScalerWrapper, ExtremeRandomTrees\", \"run_properties\": \"<azureml.automl.runtime.shared.model_wrappers.StandardScalerWrapper object at 0x7f696e976a58\", \"primary_metric\": 0.82496879, \"best_metric\": 0.85106117}, {\"run_id\": \"AutoML_f152ea1b-337e-453f-b35a-6ed293cda5c5_81\", \"run_number\": 115, \"metric\": null, \"status\": \"Completed\", \"run_type\": \"azureml.scriptrun\", \"training_percent\": \"100\", \"start_time\": \"2021-02-15T19:31:52.28675Z\", \"end_time\": \"2021-02-15T19:32:44.004011Z\", \"created_time\": \"2021-02-15T19:31:40.026856Z\", \"created_time_dt\": \"2021-02-15T19:31:40.026856Z\", \"duration\": \"0:01:03\", \"iteration\": \"81\", \"goal\": \"accuracy_max\", \"run_name\": \"StandardScalerWrapper, XGBoostClassifier\", \"run_properties\": \"<azureml.automl.runtime.shared.model_wrappers.StandardScalerWrapper object at 0x7fccd50b48d0\", \"primary_metric\": 0.80645027, \"best_metric\": 0.85106117}, {\"run_id\": \"AutoML_f152ea1b-337e-453f-b35a-6ed293cda5c5_82\", \"run_number\": 116, \"metric\": null, \"status\": \"Completed\", \"run_type\": \"azureml.scriptrun\", \"training_percent\": \"100\", \"start_time\": \"2021-02-15T19:32:09.051105Z\", \"end_time\": \"2021-02-15T19:33:01.808629Z\", \"created_time\": \"2021-02-15T19:31:57.123224Z\", \"created_time_dt\": \"2021-02-15T19:31:57.123224Z\", \"duration\": \"0:01:04\", \"iteration\": \"82\", \"goal\": \"accuracy_max\", \"run_name\": \"StandardScalerWrapper, XGBoostClassifier\", \"run_properties\": \"<azureml.automl.runtime.shared.model_wrappers.StandardScalerWrapper object at 0x7f77c1e42358\", \"primary_metric\": 0.81772784, \"best_metric\": 0.85106117}, {\"run_id\": \"AutoML_f152ea1b-337e-453f-b35a-6ed293cda5c5_83\", \"run_number\": 117, \"metric\": null, \"status\": \"Completed\", \"run_type\": \"azureml.scriptrun\", \"training_percent\": \"100\", \"start_time\": \"2021-02-15T19:32:50.583136Z\", \"end_time\": \"2021-02-15T19:33:52.49775Z\", \"created_time\": \"2021-02-15T19:32:37.892556Z\", \"created_time_dt\": \"2021-02-15T19:32:37.892556Z\", \"duration\": \"0:01:14\", \"iteration\": \"83\", \"goal\": \"accuracy_max\", \"run_name\": \"StandardScalerWrapper, RandomForest\", \"run_properties\": \"<azureml.automl.runtime.shared.model_wrappers.StandardScalerWrapper object at 0x7fb30bbb23c8\", \"primary_metric\": 0.83624636, \"best_metric\": 0.85106117}, {\"run_id\": \"AutoML_f152ea1b-337e-453f-b35a-6ed293cda5c5_84\", \"run_number\": 118, \"metric\": null, \"status\": \"Completed\", \"run_type\": \"azureml.scriptrun\", \"training_percent\": \"100\", \"start_time\": \"2021-02-15T19:32:48.882005Z\", \"end_time\": \"2021-02-15T19:33:39.905469Z\", \"created_time\": \"2021-02-15T19:32:38.080325Z\", \"created_time_dt\": \"2021-02-15T19:32:38.080325Z\", \"duration\": \"0:01:01\", \"iteration\": \"84\", \"goal\": \"accuracy_max\", \"run_name\": \"StandardScalerWrapper, XGBoostClassifier\", \"run_properties\": \"<azureml.automl.runtime.shared.model_wrappers.StandardScalerWrapper object at 0x7ff9d04b33c8\", \"primary_metric\": 0.83620474, \"best_metric\": 0.85106117}, {\"run_id\": \"AutoML_f152ea1b-337e-453f-b35a-6ed293cda5c5_85\", \"run_number\": 119, \"metric\": null, \"status\": \"Completed\", \"run_type\": \"azureml.scriptrun\", \"training_percent\": \"100\", \"start_time\": \"2021-02-15T19:32:59.75535Z\", \"end_time\": \"2021-02-15T19:33:55.389486Z\", \"created_time\": \"2021-02-15T19:32:47.963946Z\", \"created_time_dt\": \"2021-02-15T19:32:47.963946Z\", \"duration\": \"0:01:07\", \"iteration\": \"85\", \"goal\": \"accuracy_max\", \"run_name\": \"StandardScalerWrapper, ExtremeRandomTrees\", \"run_properties\": \"<azureml.automl.runtime.shared.model_wrappers.StandardScalerWrapper object at 0x7f8ef7715780\", \"primary_metric\": 0.79171868, \"best_metric\": 0.85106117}, {\"run_id\": \"AutoML_f152ea1b-337e-453f-b35a-6ed293cda5c5_86\", \"run_number\": 120, \"metric\": null, \"status\": \"Completed\", \"run_type\": \"azureml.scriptrun\", \"training_percent\": \"100\", \"start_time\": \"2021-02-15T19:33:16.63827Z\", \"end_time\": \"2021-02-15T19:34:07.00776Z\", \"created_time\": \"2021-02-15T19:33:04.917259Z\", \"created_time_dt\": \"2021-02-15T19:33:04.917259Z\", \"duration\": \"0:01:02\", \"iteration\": \"86\", \"goal\": \"accuracy_max\", \"run_name\": \"StandardScalerWrapper, LightGBM\", \"run_properties\": \"<azureml.automl.runtime.shared.model_wrappers.StandardScalerWrapper object at 0x7f8cacee2b00\", \"primary_metric\": 0.83250104, \"best_metric\": 0.85106117}, {\"run_id\": \"AutoML_f152ea1b-337e-453f-b35a-6ed293cda5c5_87\", \"run_number\": 121, \"metric\": null, \"status\": \"Canceled\", \"run_type\": \"azureml.scriptrun\", \"training_percent\": \"100\", \"start_time\": \"2021-02-15T19:33:53.101785Z\", \"end_time\": \"2021-02-15T19:34:14.126437Z\", \"created_time\": \"2021-02-15T19:33:42.207852Z\", \"created_time_dt\": \"2021-02-15T19:33:42.207852Z\", \"duration\": \"0:00:31\", \"iteration\": \"87\", \"goal\": null, \"run_name\": \"Canceled\", \"run_properties\": null}, {\"run_id\": \"AutoML_f152ea1b-337e-453f-b35a-6ed293cda5c5_88\", \"run_number\": 122, \"metric\": null, \"status\": \"Canceled\", \"run_type\": \"azureml.scriptrun\", \"training_percent\": \"100\", \"start_time\": \"2021-02-15T19:34:06.657258Z\", \"end_time\": \"2021-02-15T19:34:14.284652Z\", \"created_time\": \"2021-02-15T19:33:54.975375Z\", \"created_time_dt\": \"2021-02-15T19:33:54.975375Z\", \"duration\": \"0:00:19\", \"iteration\": \"88\", \"goal\": null, \"run_name\": \"Canceled\", \"run_properties\": null}, {\"run_id\": \"AutoML_f152ea1b-337e-453f-b35a-6ed293cda5c5_89\", \"run_number\": 123, \"metric\": null, \"status\": \"Canceled\", \"run_type\": \"azureml.scriptrun\", \"training_percent\": \"100\", \"start_time\": \"2021-02-15T19:33:59.246586Z\", \"end_time\": \"2021-02-15T19:34:16.701146Z\", \"created_time\": \"2021-02-15T19:33:59.246586Z\", \"created_time_dt\": \"2021-02-15T19:33:59.246586Z\", \"duration\": \"0:00:17\", \"iteration\": \"89\", \"goal\": null, \"run_name\": \"Canceled\", \"run_properties\": null}, {\"run_id\": \"AutoML_f152ea1b-337e-453f-b35a-6ed293cda5c5_90\", \"run_number\": 124, \"metric\": null, \"status\": \"Completed\", \"run_type\": \"azureml.scriptrun\", \"training_percent\": \"100\", \"start_time\": \"2021-02-15T19:34:30.333731Z\", \"end_time\": \"2021-02-15T19:36:21.759433Z\", \"created_time\": \"2021-02-15T19:34:19.026677Z\", \"created_time_dt\": \"2021-02-15T19:34:19.026677Z\", \"duration\": \"0:02:02\", \"iteration\": \"90\", \"goal\": \"accuracy_max\", \"run_name\": \"VotingEnsemble\", \"run_properties\": \"classification_labels=None,\\n                              estimators=[('12',\\n                                           Pipeline(memory=None,\\n                                                    steps=[('robustscaler',\\n                                                            RobustScaler(copy=True,\\n                                                                         quantile_range=[25,\\n                                                                                         75],\\n                                                                         with_centering=True,\\n                                                                         with_scaling=False\", \"primary_metric\": 0.85106117, \"best_metric\": 0.85106117}, {\"run_id\": \"AutoML_f152ea1b-337e-453f-b35a-6ed293cda5c5_91\", \"run_number\": 125, \"metric\": null, \"status\": \"Completed\", \"run_type\": \"azureml.scriptrun\", \"training_percent\": \"100\", \"start_time\": \"2021-02-15T19:34:32.56011Z\", \"end_time\": \"2021-02-15T19:36:19.118078Z\", \"created_time\": \"2021-02-15T19:34:19.168884Z\", \"created_time_dt\": \"2021-02-15T19:34:19.168884Z\", \"duration\": \"0:01:59\", \"iteration\": \"91\", \"goal\": \"accuracy_max\", \"run_name\": \"StackEnsemble\", \"run_properties\": \"base_learners=[('12',\\n                                        Pipeline(memory=None,\\n                                                 steps=[('robustscaler',\\n                                                         RobustScaler(copy=True,\\n                                                                      quantile_range=[25,\\n                                                                                      75],\\n                                                                      with_centering=True,\\n                                                                      with_scaling=False\", \"primary_metric\": 0.83612151, \"best_metric\": 0.85106117}], \"children_metrics\": {\"categories\": [0], \"series\": {\"average_precision_score_micro\": [{\"categories\": [\"0\", \"1\", \"2\", \"3\", \"4\", \"5\", \"6\", \"7\", \"8\", \"9\", \"10\", \"11\", \"12\", \"13\", \"14\", \"15\", \"16\", \"17\", \"18\", \"19\", \"20\", \"21\", \"22\", \"23\", \"24\", \"25\", \"26\", \"27\", \"28\", \"29\", \"30\", \"31\", \"32\", \"33\", \"34\", \"35\", \"36\", \"37\", \"38\", \"39\", \"40\", \"41\", \"42\", \"43\", \"44\", \"45\", \"46\", \"47\", \"48\", \"49\", \"50\", \"51\", \"52\", \"53\", \"54\", \"55\", \"56\", \"57\", \"58\", \"59\", \"60\", \"61\", \"62\", \"63\", \"64\", \"65\", \"66\", \"67\", \"68\", \"69\", \"70\", \"71\", \"72\", \"73\", \"74\", \"75\", \"76\", \"77\", \"78\", \"79\", \"80\", \"81\", \"82\", \"83\", \"84\", \"85\", \"86\", \"90\", \"91\"], \"mode\": \"markers\", \"name\": \"average_precision_score_micro\", \"stepped\": false, \"type\": \"scatter\", \"data\": [0.8992568064794298, 0.8897011684858479, 0.9010991813392705, 0.9023124921807465, 0.9023790334884884, 0.8886183362011696, 0.8987652920041537, 0.8728859751380456, 0.9048773470712401, 0.8759710290114606, 0.9077187929582803, 0.8767281458828192, 0.9045405040263527, 0.8634533999399693, 0.9042240902808598, 0.9066587396508572, 0.8911514901183448, 0.8563925590880826, 0.8926388043312062, 0.9157129007166039, 0.9092358780433072, 0.8980290729571666, 0.8793508189386157, 0.901735423240907, 0.5936596537318387, 0.857385814966846, 0.8991659889441114, 0.8993661408257614, 0.8498083447888795, 0.8961424968004481, 0.6266129364927217, 0.9008712594617073, 0.907649690605818, 0.8757412650617237, 0.8803674888466361, 0.8655901705976762, 0.9051040794769164, 0.8980176337965355, 0.9063742429879792, 0.8934012898889195, 0.8870099808086458, 0.9002113097254102, 0.9006399888547408, 0.8978552966054245, 0.9074520628534625, 0.8998041111123496, 0.9116246885994569, 0.9082412261987333, 0.9000072332168477, 0.8799058213093227, 0.9023638212934628, 0.8848959985865056, 0.9044287905150904, 0.9092508036211449, 0.8910166800502671, 0.8735441115637191, 0.9034735214083116, 0.9022956951808139, 0.8989907770889786, 0.902641550994443, 0.9147954507443409, 0.904084822532906, 0.8954665737830778, 0.880078236949887, 0.8330090930096904, 0.9045500737265172, 0.9145699271110225, 0.9143672356829183, 0.8985819927900861, 0.8960346024823053, 0.9123599437931768, 0.9162523660850045, 0.9037854032233849, 0.9112526946842952, 0.903619666085143, 0.906887166826, 0.9049056773349763, 0.8975167677022687, 0.9120861728789311, 0.9089863166182589, 0.8982811594511878, 0.8951374738352502, 0.8951550878812368, 0.9179646281570433, 0.8818288489793765, 0.8752574965665088, 0.8986815845171051, 0.9142423716013379, 0.9032455391628319]}, {\"categories\": [\"0\", \"1\", \"2\", \"3\", \"4\", \"5\", \"6\", \"7\", \"8\", \"9\", \"10\", \"11\", \"12\", \"13\", \"14\", \"15\", \"16\", \"17\", \"18\", \"19\", \"20\", \"21\", \"22\", \"23\", \"24\", \"25\", \"26\", \"27\", \"28\", \"29\", \"30\", \"31\", \"32\", \"33\", \"34\", \"35\", \"36\", \"37\", \"38\", \"39\", \"40\", \"41\", \"42\", \"43\", \"44\", \"45\", \"46\", \"47\", \"48\", \"49\", \"50\", \"51\", \"52\", \"53\", \"54\", \"55\", \"56\", \"57\", \"58\", \"59\", \"60\", \"61\", \"62\", \"63\", \"64\", \"65\", \"66\", \"67\", \"68\", \"69\", \"70\", \"71\", \"72\", \"73\", \"74\", \"75\", \"76\", \"77\", \"78\", \"79\", \"80\", \"81\", \"82\", \"83\", \"84\", \"85\", \"86\", \"90\", \"91\"], \"mode\": \"lines\", \"name\": \"average_precision_score_micro_max\", \"stepped\": true, \"type\": \"scatter\", \"data\": [0.8992568064794298, 0.8992568064794298, 0.9010991813392705, 0.9023124921807465, 0.9023790334884884, 0.9023790334884884, 0.9023790334884884, 0.9023790334884884, 0.9048773470712401, 0.9048773470712401, 0.9077187929582803, 0.9077187929582803, 0.9077187929582803, 0.9077187929582803, 0.9077187929582803, 0.9077187929582803, 0.9077187929582803, 0.9077187929582803, 0.9077187929582803, 0.9157129007166039, 0.9157129007166039, 0.9157129007166039, 0.9157129007166039, 0.9157129007166039, 0.9157129007166039, 0.9157129007166039, 0.9157129007166039, 0.9157129007166039, 0.9157129007166039, 0.9157129007166039, 0.9157129007166039, 0.9157129007166039, 0.9157129007166039, 0.9157129007166039, 0.9157129007166039, 0.9157129007166039, 0.9157129007166039, 0.9157129007166039, 0.9157129007166039, 0.9157129007166039, 0.9157129007166039, 0.9157129007166039, 0.9157129007166039, 0.9157129007166039, 0.9157129007166039, 0.9157129007166039, 0.9157129007166039, 0.9157129007166039, 0.9157129007166039, 0.9157129007166039, 0.9157129007166039, 0.9157129007166039, 0.9157129007166039, 0.9157129007166039, 0.9157129007166039, 0.9157129007166039, 0.9157129007166039, 0.9157129007166039, 0.9157129007166039, 0.9157129007166039, 0.9157129007166039, 0.9157129007166039, 0.9157129007166039, 0.9157129007166039, 0.9157129007166039, 0.9157129007166039, 0.9157129007166039, 0.9157129007166039, 0.9157129007166039, 0.9157129007166039, 0.9157129007166039, 0.9162523660850045, 0.9162523660850045, 0.9162523660850045, 0.9162523660850045, 0.9162523660850045, 0.9162523660850045, 0.9162523660850045, 0.9162523660850045, 0.9162523660850045, 0.9162523660850045, 0.9162523660850045, 0.9162523660850045, 0.9179646281570433, 0.9179646281570433, 0.9179646281570433, 0.9179646281570433, 0.9179646281570433, 0.9179646281570433]}], \"recall_score_weighted\": [{\"categories\": [\"0\", \"1\", \"2\", \"3\", \"4\", \"5\", \"6\", \"7\", \"8\", \"9\", \"10\", \"11\", \"12\", \"13\", \"14\", \"15\", \"16\", \"17\", \"18\", \"19\", \"20\", \"21\", \"22\", \"23\", \"24\", \"25\", \"26\", \"27\", \"28\", \"29\", \"30\", \"31\", \"32\", \"33\", \"34\", \"35\", \"36\", \"37\", \"38\", \"39\", \"40\", \"41\", \"42\", \"43\", \"44\", \"45\", \"46\", \"47\", \"48\", \"49\", \"50\", \"51\", \"52\", \"53\", \"54\", \"55\", \"56\", \"57\", \"58\", \"59\", \"60\", \"61\", \"62\", \"63\", \"64\", \"65\", \"66\", \"67\", \"68\", \"69\", \"70\", \"71\", \"72\", \"73\", \"74\", \"75\", \"76\", \"77\", \"78\", \"79\", \"80\", \"81\", \"82\", \"83\", \"84\", \"85\", \"86\", \"90\", \"91\"], \"mode\": \"markers\", \"name\": \"recall_score_weighted\", \"stepped\": false, \"type\": \"scatter\", \"data\": [0.8138992925509779, 0.8064918851435704, 0.8140241364960467, 0.828755722014149, 0.8361631294215565, 0.8248023304203079, 0.8288805659592177, 0.8211818560133167, 0.8176446109030379, 0.7953391593841032, 0.8361631294215565, 0.813732833957553, 0.8510611735330836, 0.7989180191427382, 0.8399500624219726, 0.8250520183104454, 0.8213483146067416, 0.7840615896795672, 0.8324594257178527, 0.8139825218476903, 0.828755722014149, 0.8176446109030379, 0.821223470661673, 0.8215147732001663, 0.5424885559717021, 0.7729920932168124, 0.8362047440699126, 0.8065334997919268, 0.7433624635871826, 0.8399084477736163, 0.6838951310861422, 0.8139409071993341, 0.8325426550145653, 0.7953391593841032, 0.8211818560133167, 0.7876820640865585, 0.8213483146067415, 0.8066167290886392, 0.8361631294215565, 0.8325426550145653, 0.8102372034956304, 0.8102372034956304, 0.8027881814398667, 0.8176446109030379, 0.8362047440699126, 0.8103204327923429, 0.8213483146067415, 0.8102372034956304, 0.8028714107365792, 0.7805243445692884, 0.8287141073657928, 0.787973366625052, 0.8287973366625052, 0.8250520183104454, 0.8287973366625052, 0.7915938410320432, 0.8139409071993341, 0.828755722014149, 0.8399916770703287, 0.8249687890137328, 0.8325426550145653, 0.8176862255513941, 0.8064086558468581, 0.8360799001248439, 0.7471077819392425, 0.8324178110694964, 0.8362047440699126, 0.84735746982938, 0.8361631294215565, 0.84735746982938, 0.8324178110694964, 0.84735746982938, 0.8064918851435706, 0.8287141073657928, 0.8361631294215565, 0.828755722014149, 0.8213066999583853, 0.8140241364960467, 0.8361215147732001, 0.8325010403662089, 0.8249687890137328, 0.8064502704952142, 0.8177278401997503, 0.8362463587182689, 0.8362047440699126, 0.791718684977112, 0.8325010403662089, 0.8510611735330836, 0.8361215147732001]}, {\"categories\": [\"0\", \"1\", \"2\", \"3\", \"4\", \"5\", \"6\", \"7\", \"8\", \"9\", \"10\", \"11\", \"12\", \"13\", \"14\", \"15\", \"16\", \"17\", \"18\", \"19\", \"20\", \"21\", \"22\", \"23\", \"24\", \"25\", \"26\", \"27\", \"28\", \"29\", \"30\", \"31\", \"32\", \"33\", \"34\", \"35\", \"36\", \"37\", \"38\", \"39\", \"40\", \"41\", \"42\", \"43\", \"44\", \"45\", \"46\", \"47\", \"48\", \"49\", \"50\", \"51\", \"52\", \"53\", \"54\", \"55\", \"56\", \"57\", \"58\", \"59\", \"60\", \"61\", \"62\", \"63\", \"64\", \"65\", \"66\", \"67\", \"68\", \"69\", \"70\", \"71\", \"72\", \"73\", \"74\", \"75\", \"76\", \"77\", \"78\", \"79\", \"80\", \"81\", \"82\", \"83\", \"84\", \"85\", \"86\", \"90\", \"91\"], \"mode\": \"lines\", \"name\": \"recall_score_weighted_max\", \"stepped\": true, \"type\": \"scatter\", \"data\": [0.8138992925509779, 0.8138992925509779, 0.8140241364960467, 0.828755722014149, 0.8361631294215565, 0.8361631294215565, 0.8361631294215565, 0.8361631294215565, 0.8361631294215565, 0.8361631294215565, 0.8361631294215565, 0.8361631294215565, 0.8510611735330836, 0.8510611735330836, 0.8510611735330836, 0.8510611735330836, 0.8510611735330836, 0.8510611735330836, 0.8510611735330836, 0.8510611735330836, 0.8510611735330836, 0.8510611735330836, 0.8510611735330836, 0.8510611735330836, 0.8510611735330836, 0.8510611735330836, 0.8510611735330836, 0.8510611735330836, 0.8510611735330836, 0.8510611735330836, 0.8510611735330836, 0.8510611735330836, 0.8510611735330836, 0.8510611735330836, 0.8510611735330836, 0.8510611735330836, 0.8510611735330836, 0.8510611735330836, 0.8510611735330836, 0.8510611735330836, 0.8510611735330836, 0.8510611735330836, 0.8510611735330836, 0.8510611735330836, 0.8510611735330836, 0.8510611735330836, 0.8510611735330836, 0.8510611735330836, 0.8510611735330836, 0.8510611735330836, 0.8510611735330836, 0.8510611735330836, 0.8510611735330836, 0.8510611735330836, 0.8510611735330836, 0.8510611735330836, 0.8510611735330836, 0.8510611735330836, 0.8510611735330836, 0.8510611735330836, 0.8510611735330836, 0.8510611735330836, 0.8510611735330836, 0.8510611735330836, 0.8510611735330836, 0.8510611735330836, 0.8510611735330836, 0.8510611735330836, 0.8510611735330836, 0.8510611735330836, 0.8510611735330836, 0.8510611735330836, 0.8510611735330836, 0.8510611735330836, 0.8510611735330836, 0.8510611735330836, 0.8510611735330836, 0.8510611735330836, 0.8510611735330836, 0.8510611735330836, 0.8510611735330836, 0.8510611735330836, 0.8510611735330836, 0.8510611735330836, 0.8510611735330836, 0.8510611735330836, 0.8510611735330836, 0.8510611735330836, 0.8510611735330836]}], \"recall_score_micro\": [{\"categories\": [\"0\", \"1\", \"2\", \"3\", \"4\", \"5\", \"6\", \"7\", \"8\", \"9\", \"10\", \"11\", \"12\", \"13\", \"14\", \"15\", \"16\", \"17\", \"18\", \"19\", \"20\", \"21\", \"22\", \"23\", \"24\", \"25\", \"26\", \"27\", \"28\", \"29\", \"30\", \"31\", \"32\", \"33\", \"34\", \"35\", \"36\", \"37\", \"38\", \"39\", \"40\", \"41\", \"42\", \"43\", \"44\", \"45\", \"46\", \"47\", \"48\", \"49\", \"50\", \"51\", \"52\", \"53\", \"54\", \"55\", \"56\", \"57\", \"58\", \"59\", \"60\", \"61\", \"62\", \"63\", \"64\", \"65\", \"66\", \"67\", \"68\", \"69\", \"70\", \"71\", \"72\", \"73\", \"74\", \"75\", \"76\", \"77\", \"78\", \"79\", \"80\", \"81\", \"82\", \"83\", \"84\", \"85\", \"86\", \"90\", \"91\"], \"mode\": \"markers\", \"name\": \"recall_score_micro\", \"stepped\": false, \"type\": \"scatter\", \"data\": [0.8138992925509779, 0.8064918851435704, 0.8140241364960467, 0.828755722014149, 0.8361631294215565, 0.8248023304203079, 0.8288805659592177, 0.8211818560133167, 0.8176446109030379, 0.7953391593841032, 0.8361631294215565, 0.813732833957553, 0.8510611735330836, 0.7989180191427382, 0.8399500624219726, 0.8250520183104454, 0.8213483146067416, 0.7840615896795672, 0.8324594257178527, 0.8139825218476903, 0.828755722014149, 0.8176446109030379, 0.821223470661673, 0.8215147732001663, 0.5424885559717021, 0.7729920932168124, 0.8362047440699126, 0.8065334997919268, 0.7433624635871826, 0.8399084477736163, 0.6838951310861422, 0.8139409071993341, 0.8325426550145653, 0.7953391593841032, 0.8211818560133167, 0.7876820640865585, 0.8213483146067415, 0.8066167290886392, 0.8361631294215565, 0.8325426550145653, 0.8102372034956304, 0.8102372034956304, 0.8027881814398667, 0.8176446109030379, 0.8362047440699126, 0.8103204327923429, 0.8213483146067415, 0.8102372034956304, 0.8028714107365792, 0.7805243445692884, 0.8287141073657928, 0.787973366625052, 0.8287973366625052, 0.8250520183104454, 0.8287973366625052, 0.7915938410320432, 0.8139409071993341, 0.828755722014149, 0.8399916770703287, 0.8249687890137328, 0.8325426550145653, 0.8176862255513941, 0.8064086558468581, 0.8360799001248439, 0.7471077819392425, 0.8324178110694964, 0.8362047440699126, 0.84735746982938, 0.8361631294215565, 0.84735746982938, 0.8324178110694964, 0.84735746982938, 0.8064918851435706, 0.8287141073657928, 0.8361631294215565, 0.828755722014149, 0.8213066999583853, 0.8140241364960467, 0.8361215147732001, 0.8325010403662089, 0.8249687890137328, 0.8064502704952142, 0.8177278401997503, 0.8362463587182689, 0.8362047440699126, 0.791718684977112, 0.8325010403662089, 0.8510611735330836, 0.8361215147732001]}, {\"categories\": [\"0\", \"1\", \"2\", \"3\", \"4\", \"5\", \"6\", \"7\", \"8\", \"9\", \"10\", \"11\", \"12\", \"13\", \"14\", \"15\", \"16\", \"17\", \"18\", \"19\", \"20\", \"21\", \"22\", \"23\", \"24\", \"25\", \"26\", \"27\", \"28\", \"29\", \"30\", \"31\", \"32\", \"33\", \"34\", \"35\", \"36\", \"37\", \"38\", \"39\", \"40\", \"41\", \"42\", \"43\", \"44\", \"45\", \"46\", \"47\", \"48\", \"49\", \"50\", \"51\", \"52\", \"53\", \"54\", \"55\", \"56\", \"57\", \"58\", \"59\", \"60\", \"61\", \"62\", \"63\", \"64\", \"65\", \"66\", \"67\", \"68\", \"69\", \"70\", \"71\", \"72\", \"73\", \"74\", \"75\", \"76\", \"77\", \"78\", \"79\", \"80\", \"81\", \"82\", \"83\", \"84\", \"85\", \"86\", \"90\", \"91\"], \"mode\": \"lines\", \"name\": \"recall_score_micro_max\", \"stepped\": true, \"type\": \"scatter\", \"data\": [0.8138992925509779, 0.8138992925509779, 0.8140241364960467, 0.828755722014149, 0.8361631294215565, 0.8361631294215565, 0.8361631294215565, 0.8361631294215565, 0.8361631294215565, 0.8361631294215565, 0.8361631294215565, 0.8361631294215565, 0.8510611735330836, 0.8510611735330836, 0.8510611735330836, 0.8510611735330836, 0.8510611735330836, 0.8510611735330836, 0.8510611735330836, 0.8510611735330836, 0.8510611735330836, 0.8510611735330836, 0.8510611735330836, 0.8510611735330836, 0.8510611735330836, 0.8510611735330836, 0.8510611735330836, 0.8510611735330836, 0.8510611735330836, 0.8510611735330836, 0.8510611735330836, 0.8510611735330836, 0.8510611735330836, 0.8510611735330836, 0.8510611735330836, 0.8510611735330836, 0.8510611735330836, 0.8510611735330836, 0.8510611735330836, 0.8510611735330836, 0.8510611735330836, 0.8510611735330836, 0.8510611735330836, 0.8510611735330836, 0.8510611735330836, 0.8510611735330836, 0.8510611735330836, 0.8510611735330836, 0.8510611735330836, 0.8510611735330836, 0.8510611735330836, 0.8510611735330836, 0.8510611735330836, 0.8510611735330836, 0.8510611735330836, 0.8510611735330836, 0.8510611735330836, 0.8510611735330836, 0.8510611735330836, 0.8510611735330836, 0.8510611735330836, 0.8510611735330836, 0.8510611735330836, 0.8510611735330836, 0.8510611735330836, 0.8510611735330836, 0.8510611735330836, 0.8510611735330836, 0.8510611735330836, 0.8510611735330836, 0.8510611735330836, 0.8510611735330836, 0.8510611735330836, 0.8510611735330836, 0.8510611735330836, 0.8510611735330836, 0.8510611735330836, 0.8510611735330836, 0.8510611735330836, 0.8510611735330836, 0.8510611735330836, 0.8510611735330836, 0.8510611735330836, 0.8510611735330836, 0.8510611735330836, 0.8510611735330836, 0.8510611735330836, 0.8510611735330836, 0.8510611735330836]}], \"AUC_weighted\": [{\"categories\": [\"0\", \"1\", \"2\", \"3\", \"4\", \"5\", \"6\", \"7\", \"8\", \"9\", \"10\", \"11\", \"12\", \"13\", \"14\", \"15\", \"16\", \"17\", \"18\", \"19\", \"20\", \"21\", \"22\", \"23\", \"24\", \"25\", \"26\", \"27\", \"28\", \"29\", \"30\", \"31\", \"32\", \"33\", \"34\", \"35\", \"36\", \"37\", \"38\", \"39\", \"40\", \"41\", \"42\", \"43\", \"44\", \"45\", \"46\", \"47\", \"48\", \"49\", \"50\", \"51\", \"52\", \"53\", \"54\", \"55\", \"56\", \"57\", \"58\", \"59\", \"60\", \"61\", \"62\", \"63\", \"64\", \"65\", \"66\", \"67\", \"68\", \"69\", \"70\", \"71\", \"72\", \"73\", \"74\", \"75\", \"76\", \"77\", \"78\", \"79\", \"80\", \"81\", \"82\", \"83\", \"84\", \"85\", \"86\", \"90\", \"91\"], \"mode\": \"markers\", \"name\": \"AUC_weighted\", \"stepped\": false, \"type\": \"scatter\", \"data\": [0.8810114250526366, 0.8720428891847044, 0.8838980736617822, 0.8920572005418191, 0.8778918465755935, 0.8632299210602973, 0.8767955483674589, 0.8496568201275435, 0.8897147949639059, 0.8517522949463722, 0.8946892006951819, 0.8460723507180226, 0.8930183787413132, 0.83439592354496, 0.8845130449460216, 0.891361792398354, 0.8811887740383154, 0.8329572356562638, 0.8884903930900757, 0.9007161289387442, 0.8942136903317449, 0.8895754228812454, 0.8598817274436451, 0.8853184328390661, 0.5461482287778536, 0.8303143495575158, 0.8900349330277301, 0.8834081715193333, 0.852506665432284, 0.8896464045567422, 0.5, 0.8836980952634775, 0.8918322595607373, 0.8491994738911713, 0.8543005394345499, 0.8666186379616603, 0.8821546477576979, 0.880795010662915, 0.8913065182415097, 0.8768454286463733, 0.8636509152659765, 0.882911919787574, 0.8804725889912709, 0.8768619843354976, 0.8877274520613021, 0.8783410702003674, 0.8954898521125476, 0.8923340164518888, 0.8811999620333836, 0.8780126589676728, 0.8830994952558134, 0.8760034992876585, 0.8889815305502681, 0.8960597553397568, 0.8707167227515885, 0.8500383640502899, 0.8847225542742603, 0.8892850194111341, 0.8814757025343652, 0.8870911484013108, 0.899240224414498, 0.8879713342694068, 0.8856614359703766, 0.854462834563274, 0.8196470432562265, 0.8909203977517404, 0.8994850398906635, 0.8962909832558804, 0.8845250240681231, 0.878328789028583, 0.895041552404451, 0.9000914135130295, 0.8881145320030055, 0.8969912522484232, 0.886849816315452, 0.88913785388557, 0.8915006623117274, 0.8778045093305765, 0.8979927573535772, 0.895251719134941, 0.8809686630467461, 0.8736810533024176, 0.8764108231040888, 0.9065102030606144, 0.8870462888801298, 0.8603500839988012, 0.8876169430234239, 0.9004847233463363, 0.8923701670297342]}, {\"categories\": [\"0\", \"1\", \"2\", \"3\", \"4\", \"5\", \"6\", \"7\", \"8\", \"9\", \"10\", \"11\", \"12\", \"13\", \"14\", \"15\", \"16\", \"17\", \"18\", \"19\", \"20\", \"21\", \"22\", \"23\", \"24\", \"25\", \"26\", \"27\", \"28\", \"29\", \"30\", \"31\", \"32\", \"33\", \"34\", \"35\", \"36\", \"37\", \"38\", \"39\", \"40\", \"41\", \"42\", \"43\", \"44\", \"45\", \"46\", \"47\", \"48\", \"49\", \"50\", \"51\", \"52\", \"53\", \"54\", \"55\", \"56\", \"57\", \"58\", \"59\", \"60\", \"61\", \"62\", \"63\", \"64\", \"65\", \"66\", \"67\", \"68\", \"69\", \"70\", \"71\", \"72\", \"73\", \"74\", \"75\", \"76\", \"77\", \"78\", \"79\", \"80\", \"81\", \"82\", \"83\", \"84\", \"85\", \"86\", \"90\", \"91\"], \"mode\": \"lines\", \"name\": \"AUC_weighted_max\", \"stepped\": true, \"type\": \"scatter\", \"data\": [0.8810114250526366, 0.8810114250526366, 0.8838980736617822, 0.8920572005418191, 0.8920572005418191, 0.8920572005418191, 0.8920572005418191, 0.8920572005418191, 0.8920572005418191, 0.8920572005418191, 0.8946892006951819, 0.8946892006951819, 0.8946892006951819, 0.8946892006951819, 0.8946892006951819, 0.8946892006951819, 0.8946892006951819, 0.8946892006951819, 0.8946892006951819, 0.9007161289387442, 0.9007161289387442, 0.9007161289387442, 0.9007161289387442, 0.9007161289387442, 0.9007161289387442, 0.9007161289387442, 0.9007161289387442, 0.9007161289387442, 0.9007161289387442, 0.9007161289387442, 0.9007161289387442, 0.9007161289387442, 0.9007161289387442, 0.9007161289387442, 0.9007161289387442, 0.9007161289387442, 0.9007161289387442, 0.9007161289387442, 0.9007161289387442, 0.9007161289387442, 0.9007161289387442, 0.9007161289387442, 0.9007161289387442, 0.9007161289387442, 0.9007161289387442, 0.9007161289387442, 0.9007161289387442, 0.9007161289387442, 0.9007161289387442, 0.9007161289387442, 0.9007161289387442, 0.9007161289387442, 0.9007161289387442, 0.9007161289387442, 0.9007161289387442, 0.9007161289387442, 0.9007161289387442, 0.9007161289387442, 0.9007161289387442, 0.9007161289387442, 0.9007161289387442, 0.9007161289387442, 0.9007161289387442, 0.9007161289387442, 0.9007161289387442, 0.9007161289387442, 0.9007161289387442, 0.9007161289387442, 0.9007161289387442, 0.9007161289387442, 0.9007161289387442, 0.9007161289387442, 0.9007161289387442, 0.9007161289387442, 0.9007161289387442, 0.9007161289387442, 0.9007161289387442, 0.9007161289387442, 0.9007161289387442, 0.9007161289387442, 0.9007161289387442, 0.9007161289387442, 0.9007161289387442, 0.9065102030606144, 0.9065102030606144, 0.9065102030606144, 0.9065102030606144, 0.9065102030606144, 0.9065102030606144]}], \"AUC_macro\": [{\"categories\": [\"0\", \"1\", \"2\", \"3\", \"4\", \"5\", \"6\", \"7\", \"8\", \"9\", \"10\", \"11\", \"12\", \"13\", \"14\", \"15\", \"16\", \"17\", \"18\", \"19\", \"20\", \"21\", \"22\", \"23\", \"24\", \"25\", \"26\", \"27\", \"28\", \"29\", \"30\", \"31\", \"32\", \"33\", \"34\", \"35\", \"36\", \"37\", \"38\", \"39\", \"40\", \"41\", \"42\", \"43\", \"44\", \"45\", \"46\", \"47\", \"48\", \"49\", \"50\", \"51\", \"52\", \"53\", \"54\", \"55\", \"56\", \"57\", \"58\", \"59\", \"60\", \"61\", \"62\", \"63\", \"64\", \"65\", \"66\", \"67\", \"68\", \"69\", \"70\", \"71\", \"72\", \"73\", \"74\", \"75\", \"76\", \"77\", \"78\", \"79\", \"80\", \"81\", \"82\", \"83\", \"84\", \"85\", \"86\", \"90\", \"91\"], \"mode\": \"markers\", \"name\": \"AUC_macro\", \"stepped\": false, \"type\": \"scatter\", \"data\": [0.8810114250526366, 0.8720428891847044, 0.883898073661782, 0.8920572005418191, 0.8778918465755936, 0.8632299210602973, 0.8767955483674589, 0.8496568201275435, 0.8897147949639059, 0.8517522949463722, 0.8946892006951819, 0.8460723507180226, 0.8930183787413132, 0.8343959235449598, 0.8845130449460216, 0.891361792398354, 0.8811887740383154, 0.8329572356562638, 0.8884903930900757, 0.9007161289387442, 0.8942136903317449, 0.8895754228812454, 0.8598817274436451, 0.8853184328390661, 0.5461482287778536, 0.8303143495575158, 0.8900349330277301, 0.8834081715193333, 0.852506665432284, 0.8896464045567422, 0.5, 0.8836980952634775, 0.8918322595607374, 0.8491994738911713, 0.8543005394345498, 0.8666186379616603, 0.8821573365576904, 0.880795010662915, 0.8913065182415097, 0.8768454286463733, 0.8636421838098566, 0.882911919787574, 0.8804725889912709, 0.8768619843354978, 0.8877274520613021, 0.8783410702003674, 0.8954898521125476, 0.8923340164518888, 0.8811999620333836, 0.8780126589676728, 0.8831363478452777, 0.8760034992876582, 0.8889815305502681, 0.8960597553397568, 0.8707167227515885, 0.8500383640502899, 0.8847225542742602, 0.889285019411134, 0.8814757025343652, 0.887091148401311, 0.8992402244144982, 0.8879713342694068, 0.8856614359703766, 0.854462834563274, 0.8196470432562265, 0.8909203977517404, 0.8994850398906635, 0.8962909832558804, 0.8845250240681231, 0.878328789028583, 0.895041552404451, 0.9000914135130295, 0.8881145320030055, 0.8969912522484232, 0.886849816315452, 0.88913785388557, 0.8915006623117275, 0.8778045093305765, 0.8979927573535772, 0.895251719134941, 0.8809686630467461, 0.8736810533024176, 0.8764108231040888, 0.9065102030606141, 0.8870462888801298, 0.8603500839988012, 0.8876169430234239, 0.9004847233463363, 0.892370167029734]}, {\"categories\": [\"0\", \"1\", \"2\", \"3\", \"4\", \"5\", \"6\", \"7\", \"8\", \"9\", \"10\", \"11\", \"12\", \"13\", \"14\", \"15\", \"16\", \"17\", \"18\", \"19\", \"20\", \"21\", \"22\", \"23\", \"24\", \"25\", \"26\", \"27\", \"28\", \"29\", \"30\", \"31\", \"32\", \"33\", \"34\", \"35\", \"36\", \"37\", \"38\", \"39\", \"40\", \"41\", \"42\", \"43\", \"44\", \"45\", \"46\", \"47\", \"48\", \"49\", \"50\", \"51\", \"52\", \"53\", \"54\", \"55\", \"56\", \"57\", \"58\", \"59\", \"60\", \"61\", \"62\", \"63\", \"64\", \"65\", \"66\", \"67\", \"68\", \"69\", \"70\", \"71\", \"72\", \"73\", \"74\", \"75\", \"76\", \"77\", \"78\", \"79\", \"80\", \"81\", \"82\", \"83\", \"84\", \"85\", \"86\", \"90\", \"91\"], \"mode\": \"lines\", \"name\": \"AUC_macro_max\", \"stepped\": true, \"type\": \"scatter\", \"data\": [0.8810114250526366, 0.8810114250526366, 0.883898073661782, 0.8920572005418191, 0.8920572005418191, 0.8920572005418191, 0.8920572005418191, 0.8920572005418191, 0.8920572005418191, 0.8920572005418191, 0.8946892006951819, 0.8946892006951819, 0.8946892006951819, 0.8946892006951819, 0.8946892006951819, 0.8946892006951819, 0.8946892006951819, 0.8946892006951819, 0.8946892006951819, 0.9007161289387442, 0.9007161289387442, 0.9007161289387442, 0.9007161289387442, 0.9007161289387442, 0.9007161289387442, 0.9007161289387442, 0.9007161289387442, 0.9007161289387442, 0.9007161289387442, 0.9007161289387442, 0.9007161289387442, 0.9007161289387442, 0.9007161289387442, 0.9007161289387442, 0.9007161289387442, 0.9007161289387442, 0.9007161289387442, 0.9007161289387442, 0.9007161289387442, 0.9007161289387442, 0.9007161289387442, 0.9007161289387442, 0.9007161289387442, 0.9007161289387442, 0.9007161289387442, 0.9007161289387442, 0.9007161289387442, 0.9007161289387442, 0.9007161289387442, 0.9007161289387442, 0.9007161289387442, 0.9007161289387442, 0.9007161289387442, 0.9007161289387442, 0.9007161289387442, 0.9007161289387442, 0.9007161289387442, 0.9007161289387442, 0.9007161289387442, 0.9007161289387442, 0.9007161289387442, 0.9007161289387442, 0.9007161289387442, 0.9007161289387442, 0.9007161289387442, 0.9007161289387442, 0.9007161289387442, 0.9007161289387442, 0.9007161289387442, 0.9007161289387442, 0.9007161289387442, 0.9007161289387442, 0.9007161289387442, 0.9007161289387442, 0.9007161289387442, 0.9007161289387442, 0.9007161289387442, 0.9007161289387442, 0.9007161289387442, 0.9007161289387442, 0.9007161289387442, 0.9007161289387442, 0.9007161289387442, 0.9065102030606141, 0.9065102030606141, 0.9065102030606141, 0.9065102030606141, 0.9065102030606141, 0.9065102030606141]}], \"matthews_correlation\": [{\"categories\": [\"0\", \"1\", \"2\", \"3\", \"4\", \"5\", \"6\", \"7\", \"8\", \"9\", \"10\", \"11\", \"12\", \"13\", \"14\", \"15\", \"16\", \"17\", \"18\", \"19\", \"20\", \"21\", \"22\", \"23\", \"24\", \"25\", \"26\", \"27\", \"28\", \"29\", \"30\", \"31\", \"32\", \"33\", \"34\", \"35\", \"36\", \"37\", \"38\", \"39\", \"40\", \"41\", \"42\", \"43\", \"44\", \"45\", \"46\", \"47\", \"48\", \"49\", \"50\", \"51\", \"52\", \"53\", \"54\", \"55\", \"56\", \"57\", \"58\", \"59\", \"60\", \"61\", \"62\", \"63\", \"64\", \"65\", \"66\", \"67\", \"68\", \"69\", \"70\", \"71\", \"72\", \"73\", \"74\", \"75\", \"76\", \"77\", \"78\", \"79\", \"80\", \"81\", \"82\", \"83\", \"84\", \"85\", \"86\", \"90\", \"91\"], \"mode\": \"markers\", \"name\": \"matthews_correlation\", \"stepped\": false, \"type\": \"scatter\", \"data\": [0.5627257679026451, 0.5480781560955876, 0.5664270267537016, 0.5912537849972771, 0.6208154107927708, 0.5808618329018215, 0.5961221669082972, 0.573125126295345, 0.5607571616481147, 0.5114546194666966, 0.6207207835870147, 0.5520885824066949, 0.6496246734527361, 0.5271573693366484, 0.6221336368929715, 0.5809788832320196, 0.5743743348766991, 0.46872169541302044, 0.5994523582551637, 0.5662745918820787, 0.6003028900617375, 0.5619882792190984, 0.573237999512275, 0.5831220496257841, 0.10251563447257284, 0.4396118793099384, 0.6114517342287519, 0.5330329976569864, 0.3649134890348491, 0.6230065018692701, 0.0, 0.5643044337947289, 0.6126951921647813, 0.5081005241695414, 0.5740549819453274, 0.47191860145319936, 0.5890160494292871, 0.5440647486229494, 0.6137395232158741, 0.6084802277367267, 0.5471846615324353, 0.5432237637890375, 0.5434678828113385, 0.5758545548419263, 0.6123627981145047, 0.5598026075421533, 0.5810074613136637, 0.5576043756756003, 0.537418925912578, 0.4696945918342829, 0.5936990813895907, 0.4767400293202546, 0.61242248379993, 0.5840355621227613, 0.594302339912024, 0.49502658133929917, 0.5643044337947289, 0.5934427267560768, 0.6260710524336862, 0.5822668038393607, 0.6127542153567079, 0.5637984778935132, 0.5270425775132281, 0.6108400298031594, 0.3617898089472065, 0.5998459321060406, 0.6206486130517629, 0.6448298610035821, 0.6181014362833127, 0.6464898474213993, 0.5998459321060406, 0.6442930931820178, 0.5374874826465925, 0.5958229536067972, 0.6195940706911626, 0.5920446948316868, 0.5794030097187494, 0.5709225195091829, 0.6207569216570911, 0.60481852634783, 0.5813080945669764, 0.5449544988748373, 0.5653486418974784, 0.6174689340833269, 0.6116132962964308, 0.49458014609547846, 0.600191329297504, 0.657487446432996, 0.6194963192068038]}, {\"categories\": [\"0\", \"1\", \"2\", \"3\", \"4\", \"5\", \"6\", \"7\", \"8\", \"9\", \"10\", \"11\", \"12\", \"13\", \"14\", \"15\", \"16\", \"17\", \"18\", \"19\", \"20\", \"21\", \"22\", \"23\", \"24\", \"25\", \"26\", \"27\", \"28\", \"29\", \"30\", \"31\", \"32\", \"33\", \"34\", \"35\", \"36\", \"37\", \"38\", \"39\", \"40\", \"41\", \"42\", \"43\", \"44\", \"45\", \"46\", \"47\", \"48\", \"49\", \"50\", \"51\", \"52\", \"53\", \"54\", \"55\", \"56\", \"57\", \"58\", \"59\", \"60\", \"61\", \"62\", \"63\", \"64\", \"65\", \"66\", \"67\", \"68\", \"69\", \"70\", \"71\", \"72\", \"73\", \"74\", \"75\", \"76\", \"77\", \"78\", \"79\", \"80\", \"81\", \"82\", \"83\", \"84\", \"85\", \"86\", \"90\", \"91\"], \"mode\": \"lines\", \"name\": \"matthews_correlation_max\", \"stepped\": true, \"type\": \"scatter\", \"data\": [0.5627257679026451, 0.5627257679026451, 0.5664270267537016, 0.5912537849972771, 0.6208154107927708, 0.6208154107927708, 0.6208154107927708, 0.6208154107927708, 0.6208154107927708, 0.6208154107927708, 0.6208154107927708, 0.6208154107927708, 0.6496246734527361, 0.6496246734527361, 0.6496246734527361, 0.6496246734527361, 0.6496246734527361, 0.6496246734527361, 0.6496246734527361, 0.6496246734527361, 0.6496246734527361, 0.6496246734527361, 0.6496246734527361, 0.6496246734527361, 0.6496246734527361, 0.6496246734527361, 0.6496246734527361, 0.6496246734527361, 0.6496246734527361, 0.6496246734527361, 0.6496246734527361, 0.6496246734527361, 0.6496246734527361, 0.6496246734527361, 0.6496246734527361, 0.6496246734527361, 0.6496246734527361, 0.6496246734527361, 0.6496246734527361, 0.6496246734527361, 0.6496246734527361, 0.6496246734527361, 0.6496246734527361, 0.6496246734527361, 0.6496246734527361, 0.6496246734527361, 0.6496246734527361, 0.6496246734527361, 0.6496246734527361, 0.6496246734527361, 0.6496246734527361, 0.6496246734527361, 0.6496246734527361, 0.6496246734527361, 0.6496246734527361, 0.6496246734527361, 0.6496246734527361, 0.6496246734527361, 0.6496246734527361, 0.6496246734527361, 0.6496246734527361, 0.6496246734527361, 0.6496246734527361, 0.6496246734527361, 0.6496246734527361, 0.6496246734527361, 0.6496246734527361, 0.6496246734527361, 0.6496246734527361, 0.6496246734527361, 0.6496246734527361, 0.6496246734527361, 0.6496246734527361, 0.6496246734527361, 0.6496246734527361, 0.6496246734527361, 0.6496246734527361, 0.6496246734527361, 0.6496246734527361, 0.6496246734527361, 0.6496246734527361, 0.6496246734527361, 0.6496246734527361, 0.6496246734527361, 0.6496246734527361, 0.6496246734527361, 0.6496246734527361, 0.657487446432996, 0.657487446432996]}], \"average_precision_score_macro\": [{\"categories\": [\"0\", \"1\", \"2\", \"3\", \"4\", \"5\", \"6\", \"7\", \"8\", \"9\", \"10\", \"11\", \"12\", \"13\", \"14\", \"15\", \"16\", \"17\", \"18\", \"19\", \"20\", \"21\", \"22\", \"23\", \"24\", \"25\", \"26\", \"27\", \"28\", \"29\", \"30\", \"31\", \"32\", \"33\", \"34\", \"35\", \"36\", \"37\", \"38\", \"39\", \"40\", \"41\", \"42\", \"43\", \"44\", \"45\", \"46\", \"47\", \"48\", \"49\", \"50\", \"51\", \"52\", \"53\", \"54\", \"55\", \"56\", \"57\", \"58\", \"59\", \"60\", \"61\", \"62\", \"63\", \"64\", \"65\", \"66\", \"67\", \"68\", \"69\", \"70\", \"71\", \"72\", \"73\", \"74\", \"75\", \"76\", \"77\", \"78\", \"79\", \"80\", \"81\", \"82\", \"83\", \"84\", \"85\", \"86\", \"90\", \"91\"], \"mode\": \"markers\", \"name\": \"average_precision_score_macro\", \"stepped\": false, \"type\": \"scatter\", \"data\": [0.8547037652348705, 0.8477072264049271, 0.8672270295579118, 0.8661014286342749, 0.8632532720019267, 0.8519109961265673, 0.8626221016854442, 0.8388613207122351, 0.8772010225480306, 0.8374071218528226, 0.8735415932289617, 0.8367923652880768, 0.8726800216759836, 0.8270890198234019, 0.8642852274233522, 0.8822064740936262, 0.8637327259349519, 0.8154103308449709, 0.8691135780082098, 0.8765918111216031, 0.8755484986375461, 0.863431410879843, 0.8504122685680354, 0.8627008509917427, 0.5446918303500531, 0.8106891285436119, 0.8629508868917867, 0.8613428751077724, 0.8386900786903512, 0.8745185271503363, 0.5, 0.8598970721702816, 0.8599792225961996, 0.8347186978993225, 0.8464102343212531, 0.8496775602449335, 0.86200180104631, 0.8511085202017048, 0.8712076641702647, 0.8519747857218549, 0.8414104425310506, 0.855481103141814, 0.8601704593100243, 0.8514356216071907, 0.8787195767768354, 0.8589396718946404, 0.87570320752929, 0.8707831198219192, 0.8572757829967833, 0.8619310754527291, 0.8662079858584063, 0.860509469715006, 0.86719157036787, 0.8777145983341526, 0.8507807096013654, 0.8265383635637725, 0.8606008864577328, 0.8667458366582738, 0.8664079954987738, 0.8684464548824932, 0.8812862180931832, 0.8670373391865686, 0.8680860118528185, 0.8502631101580161, 0.805264114512418, 0.8705465933366142, 0.8837410713476879, 0.8801890320464604, 0.8629776136369256, 0.8708217465476977, 0.8784854909823775, 0.8855646234984024, 0.8574852088260708, 0.8818326069164565, 0.8651809278500658, 0.8719704039719697, 0.8731433666572411, 0.8573318475009924, 0.8801133111130142, 0.8780707528184436, 0.8652485216381661, 0.8481703156875527, 0.8459552883416311, 0.8952139249436, 0.8590705650646085, 0.8293142908360016, 0.8708749717442911, 0.8855396822740706, 0.8774051753356303]}, {\"categories\": [\"0\", \"1\", \"2\", \"3\", \"4\", \"5\", \"6\", \"7\", \"8\", \"9\", \"10\", \"11\", \"12\", \"13\", \"14\", \"15\", \"16\", \"17\", \"18\", \"19\", \"20\", \"21\", \"22\", \"23\", \"24\", \"25\", \"26\", \"27\", \"28\", \"29\", \"30\", \"31\", \"32\", \"33\", \"34\", \"35\", \"36\", \"37\", \"38\", \"39\", \"40\", \"41\", \"42\", \"43\", \"44\", \"45\", \"46\", \"47\", \"48\", \"49\", \"50\", \"51\", \"52\", \"53\", \"54\", \"55\", \"56\", \"57\", \"58\", \"59\", \"60\", \"61\", \"62\", \"63\", \"64\", \"65\", \"66\", \"67\", \"68\", \"69\", \"70\", \"71\", \"72\", \"73\", \"74\", \"75\", \"76\", \"77\", \"78\", \"79\", \"80\", \"81\", \"82\", \"83\", \"84\", \"85\", \"86\", \"90\", \"91\"], \"mode\": \"lines\", \"name\": \"average_precision_score_macro_max\", \"stepped\": true, \"type\": \"scatter\", \"data\": [0.8547037652348705, 0.8547037652348705, 0.8672270295579118, 0.8672270295579118, 0.8672270295579118, 0.8672270295579118, 0.8672270295579118, 0.8672270295579118, 0.8772010225480306, 0.8772010225480306, 0.8772010225480306, 0.8772010225480306, 0.8772010225480306, 0.8772010225480306, 0.8772010225480306, 0.8822064740936262, 0.8822064740936262, 0.8822064740936262, 0.8822064740936262, 0.8822064740936262, 0.8822064740936262, 0.8822064740936262, 0.8822064740936262, 0.8822064740936262, 0.8822064740936262, 0.8822064740936262, 0.8822064740936262, 0.8822064740936262, 0.8822064740936262, 0.8822064740936262, 0.8822064740936262, 0.8822064740936262, 0.8822064740936262, 0.8822064740936262, 0.8822064740936262, 0.8822064740936262, 0.8822064740936262, 0.8822064740936262, 0.8822064740936262, 0.8822064740936262, 0.8822064740936262, 0.8822064740936262, 0.8822064740936262, 0.8822064740936262, 0.8822064740936262, 0.8822064740936262, 0.8822064740936262, 0.8822064740936262, 0.8822064740936262, 0.8822064740936262, 0.8822064740936262, 0.8822064740936262, 0.8822064740936262, 0.8822064740936262, 0.8822064740936262, 0.8822064740936262, 0.8822064740936262, 0.8822064740936262, 0.8822064740936262, 0.8822064740936262, 0.8822064740936262, 0.8822064740936262, 0.8822064740936262, 0.8822064740936262, 0.8822064740936262, 0.8822064740936262, 0.8837410713476879, 0.8837410713476879, 0.8837410713476879, 0.8837410713476879, 0.8837410713476879, 0.8855646234984024, 0.8855646234984024, 0.8855646234984024, 0.8855646234984024, 0.8855646234984024, 0.8855646234984024, 0.8855646234984024, 0.8855646234984024, 0.8855646234984024, 0.8855646234984024, 0.8855646234984024, 0.8855646234984024, 0.8952139249436, 0.8952139249436, 0.8952139249436, 0.8952139249436, 0.8952139249436, 0.8952139249436]}], \"f1_score_micro\": [{\"categories\": [\"0\", \"1\", \"2\", \"3\", \"4\", \"5\", \"6\", \"7\", \"8\", \"9\", \"10\", \"11\", \"12\", \"13\", \"14\", \"15\", \"16\", \"17\", \"18\", \"19\", \"20\", \"21\", \"22\", \"23\", \"24\", \"25\", \"26\", \"27\", \"28\", \"29\", \"30\", \"31\", \"32\", \"33\", \"34\", \"35\", \"36\", \"37\", \"38\", \"39\", \"40\", \"41\", \"42\", \"43\", \"44\", \"45\", \"46\", \"47\", \"48\", \"49\", \"50\", \"51\", \"52\", \"53\", \"54\", \"55\", \"56\", \"57\", \"58\", \"59\", \"60\", \"61\", \"62\", \"63\", \"64\", \"65\", \"66\", \"67\", \"68\", \"69\", \"70\", \"71\", \"72\", \"73\", \"74\", \"75\", \"76\", \"77\", \"78\", \"79\", \"80\", \"81\", \"82\", \"83\", \"84\", \"85\", \"86\", \"90\", \"91\"], \"mode\": \"markers\", \"name\": \"f1_score_micro\", \"stepped\": false, \"type\": \"scatter\", \"data\": [0.8138992925509779, 0.8064918851435706, 0.8140241364960467, 0.828755722014149, 0.8361631294215565, 0.8248023304203079, 0.8288805659592177, 0.8211818560133167, 0.817644610903038, 0.7953391593841032, 0.8361631294215565, 0.8137328339575531, 0.8510611735330835, 0.7989180191427384, 0.8399500624219725, 0.8250520183104454, 0.8213483146067416, 0.7840615896795672, 0.8324594257178527, 0.8139825218476903, 0.828755722014149, 0.817644610903038, 0.821223470661673, 0.8215147732001663, 0.5424885559717021, 0.7729920932168124, 0.8362047440699126, 0.8065334997919268, 0.7433624635871827, 0.8399084477736163, 0.6838951310861422, 0.8139409071993343, 0.832542655014565, 0.7953391593841032, 0.8211818560133167, 0.7876820640865585, 0.8213483146067416, 0.8066167290886392, 0.8361631294215565, 0.832542655014565, 0.8102372034956306, 0.8102372034956304, 0.8027881814398669, 0.817644610903038, 0.8362047440699126, 0.8103204327923429, 0.8213483146067416, 0.8102372034956304, 0.8028714107365792, 0.7805243445692884, 0.8287141073657928, 0.7879733666250521, 0.8287973366625052, 0.8250520183104454, 0.8287973366625052, 0.7915938410320432, 0.8139409071993343, 0.828755722014149, 0.8399916770703287, 0.8249687890137328, 0.832542655014565, 0.8176862255513941, 0.8064086558468581, 0.8360799001248439, 0.7471077819392425, 0.8324178110694964, 0.8362047440699126, 0.84735746982938, 0.8361631294215565, 0.8473574698293799, 0.8324178110694964, 0.8473574698293799, 0.8064918851435706, 0.8287141073657928, 0.8361631294215565, 0.828755722014149, 0.8213066999583853, 0.8140241364960467, 0.8361215147732001, 0.8325010403662089, 0.8249687890137328, 0.8064502704952142, 0.8177278401997503, 0.8362463587182688, 0.8362047440699126, 0.791718684977112, 0.8325010403662089, 0.8510611735330835, 0.8361215147732001]}, {\"categories\": [\"0\", \"1\", \"2\", \"3\", \"4\", \"5\", \"6\", \"7\", \"8\", \"9\", \"10\", \"11\", \"12\", \"13\", \"14\", \"15\", \"16\", \"17\", \"18\", \"19\", \"20\", \"21\", \"22\", \"23\", \"24\", \"25\", \"26\", \"27\", \"28\", \"29\", \"30\", \"31\", \"32\", \"33\", \"34\", \"35\", \"36\", \"37\", \"38\", \"39\", \"40\", \"41\", \"42\", \"43\", \"44\", \"45\", \"46\", \"47\", \"48\", \"49\", \"50\", \"51\", \"52\", \"53\", \"54\", \"55\", \"56\", \"57\", \"58\", \"59\", \"60\", \"61\", \"62\", \"63\", \"64\", \"65\", \"66\", \"67\", \"68\", \"69\", \"70\", \"71\", \"72\", \"73\", \"74\", \"75\", \"76\", \"77\", \"78\", \"79\", \"80\", \"81\", \"82\", \"83\", \"84\", \"85\", \"86\", \"90\", \"91\"], \"mode\": \"lines\", \"name\": \"f1_score_micro_max\", \"stepped\": true, \"type\": \"scatter\", \"data\": [0.8138992925509779, 0.8138992925509779, 0.8140241364960467, 0.828755722014149, 0.8361631294215565, 0.8361631294215565, 0.8361631294215565, 0.8361631294215565, 0.8361631294215565, 0.8361631294215565, 0.8361631294215565, 0.8361631294215565, 0.8510611735330835, 0.8510611735330835, 0.8510611735330835, 0.8510611735330835, 0.8510611735330835, 0.8510611735330835, 0.8510611735330835, 0.8510611735330835, 0.8510611735330835, 0.8510611735330835, 0.8510611735330835, 0.8510611735330835, 0.8510611735330835, 0.8510611735330835, 0.8510611735330835, 0.8510611735330835, 0.8510611735330835, 0.8510611735330835, 0.8510611735330835, 0.8510611735330835, 0.8510611735330835, 0.8510611735330835, 0.8510611735330835, 0.8510611735330835, 0.8510611735330835, 0.8510611735330835, 0.8510611735330835, 0.8510611735330835, 0.8510611735330835, 0.8510611735330835, 0.8510611735330835, 0.8510611735330835, 0.8510611735330835, 0.8510611735330835, 0.8510611735330835, 0.8510611735330835, 0.8510611735330835, 0.8510611735330835, 0.8510611735330835, 0.8510611735330835, 0.8510611735330835, 0.8510611735330835, 0.8510611735330835, 0.8510611735330835, 0.8510611735330835, 0.8510611735330835, 0.8510611735330835, 0.8510611735330835, 0.8510611735330835, 0.8510611735330835, 0.8510611735330835, 0.8510611735330835, 0.8510611735330835, 0.8510611735330835, 0.8510611735330835, 0.8510611735330835, 0.8510611735330835, 0.8510611735330835, 0.8510611735330835, 0.8510611735330835, 0.8510611735330835, 0.8510611735330835, 0.8510611735330835, 0.8510611735330835, 0.8510611735330835, 0.8510611735330835, 0.8510611735330835, 0.8510611735330835, 0.8510611735330835, 0.8510611735330835, 0.8510611735330835, 0.8510611735330835, 0.8510611735330835, 0.8510611735330835, 0.8510611735330835, 0.8510611735330835, 0.8510611735330835]}], \"AUC_micro\": [{\"categories\": [\"0\", \"1\", \"2\", \"3\", \"4\", \"5\", \"6\", \"7\", \"8\", \"9\", \"10\", \"11\", \"12\", \"13\", \"14\", \"15\", \"16\", \"17\", \"18\", \"19\", \"20\", \"21\", \"22\", \"23\", \"24\", \"25\", \"26\", \"27\", \"28\", \"29\", \"30\", \"31\", \"32\", \"33\", \"34\", \"35\", \"36\", \"37\", \"38\", \"39\", \"40\", \"41\", \"42\", \"43\", \"44\", \"45\", \"46\", \"47\", \"48\", \"49\", \"50\", \"51\", \"52\", \"53\", \"54\", \"55\", \"56\", \"57\", \"58\", \"59\", \"60\", \"61\", \"62\", \"63\", \"64\", \"65\", \"66\", \"67\", \"68\", \"69\", \"70\", \"71\", \"72\", \"73\", \"74\", \"75\", \"76\", \"77\", \"78\", \"79\", \"80\", \"81\", \"82\", \"83\", \"84\", \"85\", \"86\", \"90\", \"91\"], \"mode\": \"markers\", \"name\": \"AUC_micro\", \"stepped\": false, \"type\": \"scatter\", \"data\": [0.8979977587316729, 0.8871321688505266, 0.8996687245396022, 0.901184386142374, 0.8989603039895512, 0.8904854990354857, 0.8974904444766555, 0.880925855788878, 0.9023587348939085, 0.8756827789649123, 0.9073295552843589, 0.8802348707893742, 0.9034647337935363, 0.8683669809325941, 0.901921173231754, 0.9087729081885264, 0.8879812583417627, 0.8661677740527213, 0.8909181770809792, 0.9144293623815009, 0.9085548235325901, 0.8972346988237238, 0.88862760500685, 0.8993429925036484, 0.5846459092177225, 0.8579982367026652, 0.9059482814604922, 0.8978954573532979, 0.8452435963576531, 0.8948485689184814, 0.6838951310861424, 0.8979491667458955, 0.9073779134799769, 0.8751908117350191, 0.8844347239691542, 0.8701879101393754, 0.9025226451745971, 0.8939308905898423, 0.9060738319713758, 0.8939785526103191, 0.8868766543900857, 0.8958097114354041, 0.896405372393954, 0.8949834138870315, 0.9049903912244526, 0.8965616117597488, 0.9093092799626766, 0.9051212825416419, 0.8955920943597864, 0.8749615623001419, 0.8990264536162922, 0.8835216954670168, 0.9031131913239953, 0.9114661708237155, 0.8947662643917326, 0.8722978299597414, 0.8990637639280488, 0.9036223655096133, 0.9001913806244067, 0.9019909258246169, 0.9110281415812423, 0.9010711589705545, 0.8962921504174712, 0.884781149031875, 0.8360973304800544, 0.9036002801325642, 0.9130250732152848, 0.9110672001238568, 0.902568683652301, 0.9007719335433287, 0.909681047878666, 0.9123519861513101, 0.9002176534429758, 0.9103522698167034, 0.9034691498298787, 0.9047816062215198, 0.9068036417233348, 0.8974995103394997, 0.9096543074797784, 0.9079466054448169, 0.9000402638607691, 0.8908177356332051, 0.8947602118242749, 0.9150608296017827, 0.8941773417851073, 0.8764409500608633, 0.8968961810637245, 0.9146311752423495, 0.9052275375713775]}, {\"categories\": [\"0\", \"1\", \"2\", \"3\", \"4\", \"5\", \"6\", \"7\", \"8\", \"9\", \"10\", \"11\", \"12\", \"13\", \"14\", \"15\", \"16\", \"17\", \"18\", \"19\", \"20\", \"21\", \"22\", \"23\", \"24\", \"25\", \"26\", \"27\", \"28\", \"29\", \"30\", \"31\", \"32\", \"33\", \"34\", \"35\", \"36\", \"37\", \"38\", \"39\", \"40\", \"41\", \"42\", \"43\", \"44\", \"45\", \"46\", \"47\", \"48\", \"49\", \"50\", \"51\", \"52\", \"53\", \"54\", \"55\", \"56\", \"57\", \"58\", \"59\", \"60\", \"61\", \"62\", \"63\", \"64\", \"65\", \"66\", \"67\", \"68\", \"69\", \"70\", \"71\", \"72\", \"73\", \"74\", \"75\", \"76\", \"77\", \"78\", \"79\", \"80\", \"81\", \"82\", \"83\", \"84\", \"85\", \"86\", \"90\", \"91\"], \"mode\": \"lines\", \"name\": \"AUC_micro_max\", \"stepped\": true, \"type\": \"scatter\", \"data\": [0.8979977587316729, 0.8979977587316729, 0.8996687245396022, 0.901184386142374, 0.901184386142374, 0.901184386142374, 0.901184386142374, 0.901184386142374, 0.9023587348939085, 0.9023587348939085, 0.9073295552843589, 0.9073295552843589, 0.9073295552843589, 0.9073295552843589, 0.9073295552843589, 0.9087729081885264, 0.9087729081885264, 0.9087729081885264, 0.9087729081885264, 0.9144293623815009, 0.9144293623815009, 0.9144293623815009, 0.9144293623815009, 0.9144293623815009, 0.9144293623815009, 0.9144293623815009, 0.9144293623815009, 0.9144293623815009, 0.9144293623815009, 0.9144293623815009, 0.9144293623815009, 0.9144293623815009, 0.9144293623815009, 0.9144293623815009, 0.9144293623815009, 0.9144293623815009, 0.9144293623815009, 0.9144293623815009, 0.9144293623815009, 0.9144293623815009, 0.9144293623815009, 0.9144293623815009, 0.9144293623815009, 0.9144293623815009, 0.9144293623815009, 0.9144293623815009, 0.9144293623815009, 0.9144293623815009, 0.9144293623815009, 0.9144293623815009, 0.9144293623815009, 0.9144293623815009, 0.9144293623815009, 0.9144293623815009, 0.9144293623815009, 0.9144293623815009, 0.9144293623815009, 0.9144293623815009, 0.9144293623815009, 0.9144293623815009, 0.9144293623815009, 0.9144293623815009, 0.9144293623815009, 0.9144293623815009, 0.9144293623815009, 0.9144293623815009, 0.9144293623815009, 0.9144293623815009, 0.9144293623815009, 0.9144293623815009, 0.9144293623815009, 0.9144293623815009, 0.9144293623815009, 0.9144293623815009, 0.9144293623815009, 0.9144293623815009, 0.9144293623815009, 0.9144293623815009, 0.9144293623815009, 0.9144293623815009, 0.9144293623815009, 0.9144293623815009, 0.9144293623815009, 0.9150608296017827, 0.9150608296017827, 0.9150608296017827, 0.9150608296017827, 0.9150608296017827, 0.9150608296017827]}], \"norm_macro_recall\": [{\"categories\": [\"0\", \"1\", \"2\", \"3\", \"4\", \"5\", \"6\", \"7\", \"8\", \"9\", \"10\", \"11\", \"12\", \"13\", \"14\", \"15\", \"16\", \"17\", \"18\", \"19\", \"20\", \"21\", \"22\", \"23\", \"24\", \"25\", \"26\", \"27\", \"28\", \"29\", \"30\", \"31\", \"32\", \"33\", \"34\", \"35\", \"36\", \"37\", \"38\", \"39\", \"40\", \"41\", \"42\", \"43\", \"44\", \"45\", \"46\", \"47\", \"48\", \"49\", \"50\", \"51\", \"52\", \"53\", \"54\", \"55\", \"56\", \"57\", \"58\", \"59\", \"60\", \"61\", \"62\", \"63\", \"64\", \"65\", \"66\", \"67\", \"68\", \"69\", \"70\", \"71\", \"72\", \"73\", \"74\", \"75\", \"76\", \"77\", \"78\", \"79\", \"80\", \"81\", \"82\", \"83\", \"84\", \"85\", \"86\", \"90\", \"91\"], \"mode\": \"markers\", \"name\": \"norm_macro_recall\", \"stepped\": false, \"type\": \"scatter\", \"data\": [0.5502016111498415, 0.5360730829313407, 0.5400142141027279, 0.5535803127196114, 0.6179130330697646, 0.5480051675744522, 0.5564104995462242, 0.5413938330432067, 0.4942129151020634, 0.4770285698789137, 0.6157376768638827, 0.5183320218018151, 0.5801032299210603, 0.4887475645490928, 0.5928190540047065, 0.5332423163189589, 0.48643276986572825, 0.422962808145616, 0.5115438713137431, 0.5506245835712091, 0.5877436093814948, 0.5042571237669616, 0.5438518348115532, 0.5718669896634484, 0.1352025626530997, 0.36816174713765853, 0.5710310320981559, 0.47614041289163006, 0.19624026696329255, 0.5344787468772224, 0.0, 0.5536507379877974, 0.600475704872211, 0.4691597174198972, 0.5432329135029768, 0.376555128041479, 0.5880439384099188, 0.5205284653772044, 0.5896525727292152, 0.5855351679812374, 0.5019787994787539, 0.5053723229911709, 0.5405104920183605, 0.5715110386067187, 0.5725007516174386, 0.5522543052600128, 0.5607406669687163, 0.5481862571134805, 0.5244561866648338, 0.3273497571679522, 0.5478288939978613, 0.3964590051717825, 0.616462970158333, 0.555027495404964, 0.5607746218417456, 0.4510829416272623, 0.5536507379877974, 0.5715273100137886, 0.5927323386266838, 0.547423605042453, 0.5997700681856118, 0.5344639062318086, 0.45909155986217937, 0.5859208003287947, 0.2272245421445808, 0.5522691646081934, 0.616692873918571, 0.6286819739461107, 0.6060628291394717, 0.6400535834267302, 0.5522691646081934, 0.6223159262007526, 0.5103242545427852, 0.5683967567532184, 0.6107321151286212, 0.5460631190323563, 0.5635152691725569, 0.5649327892698486, 0.6164792415654029, 0.5797683662338379, 0.5455845245826828, 0.5321453616437114, 0.5375767573236527, 0.5773434496598667, 0.5536296506182902, 0.44804337732691635, 0.516017208415684, 0.6416790315333323, 0.6010931954191313]}, {\"categories\": [\"0\", \"1\", \"2\", \"3\", \"4\", \"5\", \"6\", \"7\", \"8\", \"9\", \"10\", \"11\", \"12\", \"13\", \"14\", \"15\", \"16\", \"17\", \"18\", \"19\", \"20\", \"21\", \"22\", \"23\", \"24\", \"25\", \"26\", \"27\", \"28\", \"29\", \"30\", \"31\", \"32\", \"33\", \"34\", \"35\", \"36\", \"37\", \"38\", \"39\", \"40\", \"41\", \"42\", \"43\", \"44\", \"45\", \"46\", \"47\", \"48\", \"49\", \"50\", \"51\", \"52\", \"53\", \"54\", \"55\", \"56\", \"57\", \"58\", \"59\", \"60\", \"61\", \"62\", \"63\", \"64\", \"65\", \"66\", \"67\", \"68\", \"69\", \"70\", \"71\", \"72\", \"73\", \"74\", \"75\", \"76\", \"77\", \"78\", \"79\", \"80\", \"81\", \"82\", \"83\", \"84\", \"85\", \"86\", \"90\", \"91\"], \"mode\": \"lines\", \"name\": \"norm_macro_recall_max\", \"stepped\": true, \"type\": \"scatter\", \"data\": [0.5502016111498415, 0.5502016111498415, 0.5502016111498415, 0.5535803127196114, 0.6179130330697646, 0.6179130330697646, 0.6179130330697646, 0.6179130330697646, 0.6179130330697646, 0.6179130330697646, 0.6179130330697646, 0.6179130330697646, 0.6179130330697646, 0.6179130330697646, 0.6179130330697646, 0.6179130330697646, 0.6179130330697646, 0.6179130330697646, 0.6179130330697646, 0.6179130330697646, 0.6179130330697646, 0.6179130330697646, 0.6179130330697646, 0.6179130330697646, 0.6179130330697646, 0.6179130330697646, 0.6179130330697646, 0.6179130330697646, 0.6179130330697646, 0.6179130330697646, 0.6179130330697646, 0.6179130330697646, 0.6179130330697646, 0.6179130330697646, 0.6179130330697646, 0.6179130330697646, 0.6179130330697646, 0.6179130330697646, 0.6179130330697646, 0.6179130330697646, 0.6179130330697646, 0.6179130330697646, 0.6179130330697646, 0.6179130330697646, 0.6179130330697646, 0.6179130330697646, 0.6179130330697646, 0.6179130330697646, 0.6179130330697646, 0.6179130330697646, 0.6179130330697646, 0.6179130330697646, 0.6179130330697646, 0.6179130330697646, 0.6179130330697646, 0.6179130330697646, 0.6179130330697646, 0.6179130330697646, 0.6179130330697646, 0.6179130330697646, 0.6179130330697646, 0.6179130330697646, 0.6179130330697646, 0.6179130330697646, 0.6179130330697646, 0.6179130330697646, 0.6179130330697646, 0.6286819739461107, 0.6286819739461107, 0.6400535834267302, 0.6400535834267302, 0.6400535834267302, 0.6400535834267302, 0.6400535834267302, 0.6400535834267302, 0.6400535834267302, 0.6400535834267302, 0.6400535834267302, 0.6400535834267302, 0.6400535834267302, 0.6400535834267302, 0.6400535834267302, 0.6400535834267302, 0.6400535834267302, 0.6400535834267302, 0.6400535834267302, 0.6400535834267302, 0.6416790315333323, 0.6416790315333323]}], \"log_loss\": [{\"categories\": [\"0\", \"1\", \"2\", \"3\", \"4\", \"5\", \"6\", \"7\", \"8\", \"9\", \"10\", \"11\", \"12\", \"13\", \"14\", \"15\", \"16\", \"17\", \"18\", \"19\", \"20\", \"21\", \"22\", \"23\", \"24\", \"25\", \"26\", \"27\", \"28\", \"29\", \"30\", \"31\", \"32\", \"33\", \"34\", \"35\", \"36\", \"37\", \"38\", \"39\", \"40\", \"41\", \"42\", \"43\", \"44\", \"45\", \"46\", \"47\", \"48\", \"49\", \"50\", \"51\", \"52\", \"53\", \"54\", \"55\", \"56\", \"57\", \"58\", \"59\", \"60\", \"61\", \"62\", \"63\", \"64\", \"65\", \"66\", \"67\", \"68\", \"69\", \"70\", \"71\", \"72\", \"73\", \"74\", \"75\", \"76\", \"77\", \"78\", \"79\", \"80\", \"81\", \"82\", \"83\", \"84\", \"85\", \"86\", \"90\", \"91\"], \"mode\": \"markers\", \"name\": \"log_loss\", \"stepped\": false, \"type\": \"scatter\", \"data\": [0.48102263782673643, 0.47412727820170253, 0.3964007266716198, 0.41420656292091645, 0.40168287486114423, 0.463314982089359, 0.41256018156208124, 0.4623676335832319, 0.43263427615841116, 0.4691533314034723, 0.3906174927873951, 0.44067398552982856, 0.4080297119184397, 0.45517808055682946, 0.4040959884623545, 0.40565701027230516, 0.43987383795398244, 0.5162135750970913, 0.4503518246190235, 0.37433672819010394, 0.3890842899161983, 0.4319044266313885, 0.4309010818869563, 0.48844621002414274, 0.6910986997030243, 0.47770344691652017, 0.46674719586794033, 0.4301720564697731, 0.5074279526243319, 0.43002805189757193, 0.627775463745773, 0.41114210617976443, 0.46440880044884675, 0.4684626625525841, 0.44563724478919947, 0.4836208013294961, 0.3911837653700238, 0.5006247935632745, 0.3946100740111418, 0.4507694661473763, 0.4197763032580808, 0.43758561990614603, 0.42329056996766706, 0.42323948551787244, 0.3962284721670432, 0.4111269018510039, 0.38575819964359903, 0.39502872993495003, 0.4119760427414721, 0.4691779618058576, 0.40154633282265245, 0.45117897943539886, 0.39628358832126215, 0.3982852067356096, 0.4136232740741197, 0.45666676684487034, 0.40970486289626856, 0.40255211123950324, 0.4202524312462706, 0.4015882089981458, 0.3956092067981287, 0.41116421170462997, 0.4515042154423677, 0.4532320837708224, 0.5100861735064273, 0.4052027361056685, 0.3892140165890887, 0.4010512826001134, 0.39890017102937675, 0.4109750713229987, 0.39067811766000116, 0.4028917656067743, 0.42409690116423954, 0.388582140055064, 0.40068335616283024, 0.3917774350680301, 0.475379201688564, 0.474871971773872, 0.3833283999079349, 0.39241124715633596, 0.4053939495155041, 0.42572290656926765, 0.425639854818789, 0.3948697652558338, 0.4479412914300686, 0.436236100334154, 0.4417681856824916, 0.3764873455105311, 0.41765336676387355]}, {\"categories\": [\"0\", \"1\", \"2\", \"3\", \"4\", \"5\", \"6\", \"7\", \"8\", \"9\", \"10\", \"11\", \"12\", \"13\", \"14\", \"15\", \"16\", \"17\", \"18\", \"19\", \"20\", \"21\", \"22\", \"23\", \"24\", \"25\", \"26\", \"27\", \"28\", \"29\", \"30\", \"31\", \"32\", \"33\", \"34\", \"35\", \"36\", \"37\", \"38\", \"39\", \"40\", \"41\", \"42\", \"43\", \"44\", \"45\", \"46\", \"47\", \"48\", \"49\", \"50\", \"51\", \"52\", \"53\", \"54\", \"55\", \"56\", \"57\", \"58\", \"59\", \"60\", \"61\", \"62\", \"63\", \"64\", \"65\", \"66\", \"67\", \"68\", \"69\", \"70\", \"71\", \"72\", \"73\", \"74\", \"75\", \"76\", \"77\", \"78\", \"79\", \"80\", \"81\", \"82\", \"83\", \"84\", \"85\", \"86\", \"90\", \"91\"], \"mode\": \"lines\", \"name\": \"log_loss_min\", \"stepped\": true, \"type\": \"scatter\", \"data\": [0.48102263782673643, 0.47412727820170253, 0.3964007266716198, 0.3964007266716198, 0.3964007266716198, 0.3964007266716198, 0.3964007266716198, 0.3964007266716198, 0.3964007266716198, 0.3964007266716198, 0.3906174927873951, 0.3906174927873951, 0.3906174927873951, 0.3906174927873951, 0.3906174927873951, 0.3906174927873951, 0.3906174927873951, 0.3906174927873951, 0.3906174927873951, 0.37433672819010394, 0.37433672819010394, 0.37433672819010394, 0.37433672819010394, 0.37433672819010394, 0.37433672819010394, 0.37433672819010394, 0.37433672819010394, 0.37433672819010394, 0.37433672819010394, 0.37433672819010394, 0.37433672819010394, 0.37433672819010394, 0.37433672819010394, 0.37433672819010394, 0.37433672819010394, 0.37433672819010394, 0.37433672819010394, 0.37433672819010394, 0.37433672819010394, 0.37433672819010394, 0.37433672819010394, 0.37433672819010394, 0.37433672819010394, 0.37433672819010394, 0.37433672819010394, 0.37433672819010394, 0.37433672819010394, 0.37433672819010394, 0.37433672819010394, 0.37433672819010394, 0.37433672819010394, 0.37433672819010394, 0.37433672819010394, 0.37433672819010394, 0.37433672819010394, 0.37433672819010394, 0.37433672819010394, 0.37433672819010394, 0.37433672819010394, 0.37433672819010394, 0.37433672819010394, 0.37433672819010394, 0.37433672819010394, 0.37433672819010394, 0.37433672819010394, 0.37433672819010394, 0.37433672819010394, 0.37433672819010394, 0.37433672819010394, 0.37433672819010394, 0.37433672819010394, 0.37433672819010394, 0.37433672819010394, 0.37433672819010394, 0.37433672819010394, 0.37433672819010394, 0.37433672819010394, 0.37433672819010394, 0.37433672819010394, 0.37433672819010394, 0.37433672819010394, 0.37433672819010394, 0.37433672819010394, 0.37433672819010394, 0.37433672819010394, 0.37433672819010394, 0.37433672819010394, 0.37433672819010394, 0.37433672819010394]}], \"precision_score_macro\": [{\"categories\": [\"0\", \"1\", \"2\", \"3\", \"4\", \"5\", \"6\", \"7\", \"8\", \"9\", \"10\", \"11\", \"12\", \"13\", \"14\", \"15\", \"16\", \"17\", \"18\", \"19\", \"20\", \"21\", \"22\", \"23\", \"24\", \"25\", \"26\", \"27\", \"28\", \"29\", \"30\", \"31\", \"32\", \"33\", \"34\", \"35\", \"36\", \"37\", \"38\", \"39\", \"40\", \"41\", \"42\", \"43\", \"44\", \"45\", \"46\", \"47\", \"48\", \"49\", \"50\", \"51\", \"52\", \"53\", \"54\", \"55\", \"56\", \"57\", \"58\", \"59\", \"60\", \"61\", \"62\", \"63\", \"64\", \"65\", \"66\", \"67\", \"68\", \"69\", \"70\", \"71\", \"72\", \"73\", \"74\", \"75\", \"76\", \"77\", \"78\", \"79\", \"80\", \"81\", \"82\", \"83\", \"84\", \"85\", \"86\", \"90\", \"91\"], \"mode\": \"markers\", \"name\": \"precision_score_macro\", \"stepped\": false, \"type\": \"scatter\", \"data\": [0.7881642512077295, 0.7805234264552215, 0.7989577915160663, 0.8159109995245813, 0.8123168498168498, 0.8087195767847422, 0.8212153456952933, 0.8036750470830073, 0.8205641624990939, 0.7749069928092222, 0.8133031240789862, 0.79503964470927, 0.865396616321274, 0.7856761117582938, 0.8276063769776182, 0.8190383990618141, 0.839432270255267, 0.7610428095105272, 0.852070948788489, 0.7928964602648815, 0.8071892866668987, 0.8148291452015767, 0.802433269345034, 0.7976709401709402, 0.54851978222337, 0.7633933786679782, 0.829290478955009, 0.7996477674425951, 0.8406202318325704, 0.8659349430402061, 0.3419475655430711, 0.7879963152991051, 0.8140374876074277, 0.7760801667051668, 0.8035030304254834, 0.8051859845800314, 0.7959538808236496, 0.7853073494301036, 0.8204673949025746, 0.8168360016420362, 0.7989553858396591, 0.7930821644844914, 0.7738364463371615, 0.7906559127147362, 0.8286453470276999, 0.7843548350848805, 0.8016110205878767, 0.7840637844552766, 0.7755448527291081, 0.8371843434343434, 0.8234388765691154, 0.7882050813636491, 0.8047251899335232, 0.8088019000509344, 0.8169814238166223, 0.7720061022120519, 0.7879963152991051, 0.8090850097339389, 0.8324785307845953, 0.8103580890046528, 0.813639546727782, 0.797838327250092, 0.8053075993865467, 0.8191353806669582, 0.7944152661064425, 0.8264563426442596, 0.8129721116187151, 0.8316911907232365, 0.8164449161558313, 0.8271993364628017, 0.8264563426442596, 0.8344776582677467, 0.7838001867413632, 0.8136227692325891, 0.8150436927971668, 0.8214637495044982, 0.7992900733981566, 0.7894337725713244, 0.8131427814494177, 0.8166909028364137, 0.8106184467869278, 0.7796735642524735, 0.7979302621093666, 0.8332496952763018, 0.8403050028050028, 0.7731366459627328, 0.8518371986793039, 0.83791413444618, 0.8204994777884803]}, {\"categories\": [\"0\", \"1\", \"2\", \"3\", \"4\", \"5\", \"6\", \"7\", \"8\", \"9\", \"10\", \"11\", \"12\", \"13\", \"14\", \"15\", \"16\", \"17\", \"18\", \"19\", \"20\", \"21\", \"22\", \"23\", \"24\", \"25\", \"26\", \"27\", \"28\", \"29\", \"30\", \"31\", \"32\", \"33\", \"34\", \"35\", \"36\", \"37\", \"38\", \"39\", \"40\", \"41\", \"42\", \"43\", \"44\", \"45\", \"46\", \"47\", \"48\", \"49\", \"50\", \"51\", \"52\", \"53\", \"54\", \"55\", \"56\", \"57\", \"58\", \"59\", \"60\", \"61\", \"62\", \"63\", \"64\", \"65\", \"66\", \"67\", \"68\", \"69\", \"70\", \"71\", \"72\", \"73\", \"74\", \"75\", \"76\", \"77\", \"78\", \"79\", \"80\", \"81\", \"82\", \"83\", \"84\", \"85\", \"86\", \"90\", \"91\"], \"mode\": \"lines\", \"name\": \"precision_score_macro_max\", \"stepped\": true, \"type\": \"scatter\", \"data\": [0.7881642512077295, 0.7881642512077295, 0.7989577915160663, 0.8159109995245813, 0.8159109995245813, 0.8159109995245813, 0.8212153456952933, 0.8212153456952933, 0.8212153456952933, 0.8212153456952933, 0.8212153456952933, 0.8212153456952933, 0.865396616321274, 0.865396616321274, 0.865396616321274, 0.865396616321274, 0.865396616321274, 0.865396616321274, 0.865396616321274, 0.865396616321274, 0.865396616321274, 0.865396616321274, 0.865396616321274, 0.865396616321274, 0.865396616321274, 0.865396616321274, 0.865396616321274, 0.865396616321274, 0.865396616321274, 0.8659349430402061, 0.8659349430402061, 0.8659349430402061, 0.8659349430402061, 0.8659349430402061, 0.8659349430402061, 0.8659349430402061, 0.8659349430402061, 0.8659349430402061, 0.8659349430402061, 0.8659349430402061, 0.8659349430402061, 0.8659349430402061, 0.8659349430402061, 0.8659349430402061, 0.8659349430402061, 0.8659349430402061, 0.8659349430402061, 0.8659349430402061, 0.8659349430402061, 0.8659349430402061, 0.8659349430402061, 0.8659349430402061, 0.8659349430402061, 0.8659349430402061, 0.8659349430402061, 0.8659349430402061, 0.8659349430402061, 0.8659349430402061, 0.8659349430402061, 0.8659349430402061, 0.8659349430402061, 0.8659349430402061, 0.8659349430402061, 0.8659349430402061, 0.8659349430402061, 0.8659349430402061, 0.8659349430402061, 0.8659349430402061, 0.8659349430402061, 0.8659349430402061, 0.8659349430402061, 0.8659349430402061, 0.8659349430402061, 0.8659349430402061, 0.8659349430402061, 0.8659349430402061, 0.8659349430402061, 0.8659349430402061, 0.8659349430402061, 0.8659349430402061, 0.8659349430402061, 0.8659349430402061, 0.8659349430402061, 0.8659349430402061, 0.8659349430402061, 0.8659349430402061, 0.8659349430402061, 0.8659349430402061, 0.8659349430402061]}], \"recall_score_macro\": [{\"categories\": [\"0\", \"1\", \"2\", \"3\", \"4\", \"5\", \"6\", \"7\", \"8\", \"9\", \"10\", \"11\", \"12\", \"13\", \"14\", \"15\", \"16\", \"17\", \"18\", \"19\", \"20\", \"21\", \"22\", \"23\", \"24\", \"25\", \"26\", \"27\", \"28\", \"29\", \"30\", \"31\", \"32\", \"33\", \"34\", \"35\", \"36\", \"37\", \"38\", \"39\", \"40\", \"41\", \"42\", \"43\", \"44\", \"45\", \"46\", \"47\", \"48\", \"49\", \"50\", \"51\", \"52\", \"53\", \"54\", \"55\", \"56\", \"57\", \"58\", \"59\", \"60\", \"61\", \"62\", \"63\", \"64\", \"65\", \"66\", \"67\", \"68\", \"69\", \"70\", \"71\", \"72\", \"73\", \"74\", \"75\", \"76\", \"77\", \"78\", \"79\", \"80\", \"81\", \"82\", \"83\", \"84\", \"85\", \"86\", \"90\", \"91\"], \"mode\": \"markers\", \"name\": \"recall_score_macro\", \"stepped\": false, \"type\": \"scatter\", \"data\": [0.7751008055749207, 0.7680365414656704, 0.7700071070513639, 0.7767901563598058, 0.8089565165348823, 0.774002583787226, 0.7782052497731121, 0.7706969165216034, 0.7471064575510318, 0.7385142849394568, 0.8078688384319413, 0.7591660109009076, 0.7900516149605301, 0.7443737822745464, 0.7964095270023531, 0.7666211581594794, 0.7432163849328641, 0.711481404072808, 0.7557719356568716, 0.7753122917856046, 0.7938718046907475, 0.7521285618834809, 0.7719259174057767, 0.7859334948317241, 0.5541604211114961, 0.6840808735688292, 0.7855155160490779, 0.7380702064458151, 0.5981201334816463, 0.7672393734386111, 0.5, 0.7768253689938988, 0.8002378524361055, 0.7345798587099486, 0.7716164567514884, 0.6882775640207396, 0.7940219692049594, 0.7602642326886023, 0.7948262863646076, 0.7927675839906186, 0.750989399739377, 0.7526861614955854, 0.7702552460091803, 0.7857555193033594, 0.7862503758087195, 0.7761271526300065, 0.7803703334843582, 0.7740931285567404, 0.7622280933324168, 0.6636748785839761, 0.7739144469989306, 0.6982295025858912, 0.8082314850791666, 0.777513747702482, 0.7803873109208728, 0.7255414708136311, 0.7768253689938988, 0.7857636550068943, 0.7963661693133419, 0.7737118025212265, 0.799885034092806, 0.7672319531159042, 0.7295457799310897, 0.7929604001643974, 0.6136122710722904, 0.7761345823040967, 0.8083464369592855, 0.8143409869730553, 0.8030314145697358, 0.8200267917133651, 0.7761345823040967, 0.8111579631003764, 0.7551621272713925, 0.7841983783766092, 0.8053660575643106, 0.7730315595161782, 0.7817576345862784, 0.7824663946349242, 0.8082396207827015, 0.7898841831169189, 0.7727922622913415, 0.7660726808218558, 0.7687883786618265, 0.7886717248299333, 0.776814825309145, 0.7240216886634583, 0.7580086042078419, 0.8208395157666661, 0.8005465977095657]}, {\"categories\": [\"0\", \"1\", \"2\", \"3\", \"4\", \"5\", \"6\", \"7\", \"8\", \"9\", \"10\", \"11\", \"12\", \"13\", \"14\", \"15\", \"16\", \"17\", \"18\", \"19\", \"20\", \"21\", \"22\", \"23\", \"24\", \"25\", \"26\", \"27\", \"28\", \"29\", \"30\", \"31\", \"32\", \"33\", \"34\", \"35\", \"36\", \"37\", \"38\", \"39\", \"40\", \"41\", \"42\", \"43\", \"44\", \"45\", \"46\", \"47\", \"48\", \"49\", \"50\", \"51\", \"52\", \"53\", \"54\", \"55\", \"56\", \"57\", \"58\", \"59\", \"60\", \"61\", \"62\", \"63\", \"64\", \"65\", \"66\", \"67\", \"68\", \"69\", \"70\", \"71\", \"72\", \"73\", \"74\", \"75\", \"76\", \"77\", \"78\", \"79\", \"80\", \"81\", \"82\", \"83\", \"84\", \"85\", \"86\", \"90\", \"91\"], \"mode\": \"lines\", \"name\": \"recall_score_macro_max\", \"stepped\": true, \"type\": \"scatter\", \"data\": [0.7751008055749207, 0.7751008055749207, 0.7751008055749207, 0.7767901563598058, 0.8089565165348823, 0.8089565165348823, 0.8089565165348823, 0.8089565165348823, 0.8089565165348823, 0.8089565165348823, 0.8089565165348823, 0.8089565165348823, 0.8089565165348823, 0.8089565165348823, 0.8089565165348823, 0.8089565165348823, 0.8089565165348823, 0.8089565165348823, 0.8089565165348823, 0.8089565165348823, 0.8089565165348823, 0.8089565165348823, 0.8089565165348823, 0.8089565165348823, 0.8089565165348823, 0.8089565165348823, 0.8089565165348823, 0.8089565165348823, 0.8089565165348823, 0.8089565165348823, 0.8089565165348823, 0.8089565165348823, 0.8089565165348823, 0.8089565165348823, 0.8089565165348823, 0.8089565165348823, 0.8089565165348823, 0.8089565165348823, 0.8089565165348823, 0.8089565165348823, 0.8089565165348823, 0.8089565165348823, 0.8089565165348823, 0.8089565165348823, 0.8089565165348823, 0.8089565165348823, 0.8089565165348823, 0.8089565165348823, 0.8089565165348823, 0.8089565165348823, 0.8089565165348823, 0.8089565165348823, 0.8089565165348823, 0.8089565165348823, 0.8089565165348823, 0.8089565165348823, 0.8089565165348823, 0.8089565165348823, 0.8089565165348823, 0.8089565165348823, 0.8089565165348823, 0.8089565165348823, 0.8089565165348823, 0.8089565165348823, 0.8089565165348823, 0.8089565165348823, 0.8089565165348823, 0.8143409869730553, 0.8143409869730553, 0.8200267917133651, 0.8200267917133651, 0.8200267917133651, 0.8200267917133651, 0.8200267917133651, 0.8200267917133651, 0.8200267917133651, 0.8200267917133651, 0.8200267917133651, 0.8200267917133651, 0.8200267917133651, 0.8200267917133651, 0.8200267917133651, 0.8200267917133651, 0.8200267917133651, 0.8200267917133651, 0.8200267917133651, 0.8200267917133651, 0.8208395157666661, 0.8208395157666661]}], \"accuracy\": [{\"categories\": [\"0\", \"1\", \"2\", \"3\", \"4\", \"5\", \"6\", \"7\", \"8\", \"9\", \"10\", \"11\", \"12\", \"13\", \"14\", \"15\", \"16\", \"17\", \"18\", \"19\", \"20\", \"21\", \"22\", \"23\", \"24\", \"25\", \"26\", \"27\", \"28\", \"29\", \"30\", \"31\", \"32\", \"33\", \"34\", \"35\", \"36\", \"37\", \"38\", \"39\", \"40\", \"41\", \"42\", \"43\", \"44\", \"45\", \"46\", \"47\", \"48\", \"49\", \"50\", \"51\", \"52\", \"53\", \"54\", \"55\", \"56\", \"57\", \"58\", \"59\", \"60\", \"61\", \"62\", \"63\", \"64\", \"65\", \"66\", \"67\", \"68\", \"69\", \"70\", \"71\", \"72\", \"73\", \"74\", \"75\", \"76\", \"77\", \"78\", \"79\", \"80\", \"81\", \"82\", \"83\", \"84\", \"85\", \"86\", \"90\", \"91\"], \"mode\": \"markers\", \"name\": \"accuracy\", \"stepped\": false, \"type\": \"scatter\", \"data\": [0.8138992925509779, 0.8064918851435704, 0.8140241364960467, 0.828755722014149, 0.8361631294215565, 0.8248023304203079, 0.8288805659592177, 0.8211818560133167, 0.8176446109030379, 0.7953391593841032, 0.8361631294215565, 0.813732833957553, 0.8510611735330836, 0.7989180191427382, 0.8399500624219726, 0.8250520183104454, 0.8213483146067416, 0.7840615896795672, 0.8324594257178527, 0.8139825218476903, 0.828755722014149, 0.8176446109030379, 0.821223470661673, 0.8215147732001663, 0.5424885559717021, 0.7729920932168124, 0.8362047440699126, 0.8065334997919268, 0.7433624635871826, 0.8399084477736163, 0.6838951310861422, 0.8139409071993341, 0.8325426550145653, 0.7953391593841032, 0.8211818560133167, 0.7876820640865585, 0.8213483146067415, 0.8066167290886392, 0.8361631294215565, 0.8325426550145653, 0.8102372034956304, 0.8102372034956304, 0.8027881814398667, 0.8176446109030379, 0.8362047440699126, 0.8103204327923429, 0.8213483146067415, 0.8102372034956304, 0.8028714107365792, 0.7805243445692884, 0.8287141073657928, 0.787973366625052, 0.8287973366625052, 0.8250520183104454, 0.8287973366625052, 0.7915938410320432, 0.8139409071993341, 0.828755722014149, 0.8399916770703287, 0.8249687890137328, 0.8325426550145653, 0.8176862255513941, 0.8064086558468581, 0.8360799001248439, 0.7471077819392425, 0.8324178110694964, 0.8362047440699126, 0.84735746982938, 0.8361631294215565, 0.84735746982938, 0.8324178110694964, 0.84735746982938, 0.8064918851435706, 0.8287141073657928, 0.8361631294215565, 0.828755722014149, 0.8213066999583853, 0.8140241364960467, 0.8361215147732001, 0.8325010403662089, 0.8249687890137328, 0.8064502704952142, 0.8177278401997503, 0.8362463587182689, 0.8362047440699126, 0.791718684977112, 0.8325010403662089, 0.8510611735330836, 0.8361215147732001]}, {\"categories\": [\"0\", \"1\", \"2\", \"3\", \"4\", \"5\", \"6\", \"7\", \"8\", \"9\", \"10\", \"11\", \"12\", \"13\", \"14\", \"15\", \"16\", \"17\", \"18\", \"19\", \"20\", \"21\", \"22\", \"23\", \"24\", \"25\", \"26\", \"27\", \"28\", \"29\", \"30\", \"31\", \"32\", \"33\", \"34\", \"35\", \"36\", \"37\", \"38\", \"39\", \"40\", \"41\", \"42\", \"43\", \"44\", \"45\", \"46\", \"47\", \"48\", \"49\", \"50\", \"51\", \"52\", \"53\", \"54\", \"55\", \"56\", \"57\", \"58\", \"59\", \"60\", \"61\", \"62\", \"63\", \"64\", \"65\", \"66\", \"67\", \"68\", \"69\", \"70\", \"71\", \"72\", \"73\", \"74\", \"75\", \"76\", \"77\", \"78\", \"79\", \"80\", \"81\", \"82\", \"83\", \"84\", \"85\", \"86\", \"90\", \"91\"], \"mode\": \"lines\", \"name\": \"accuracy_max\", \"stepped\": true, \"type\": \"scatter\", \"data\": [0.8138992925509779, 0.8138992925509779, 0.8140241364960467, 0.828755722014149, 0.8361631294215565, 0.8361631294215565, 0.8361631294215565, 0.8361631294215565, 0.8361631294215565, 0.8361631294215565, 0.8361631294215565, 0.8361631294215565, 0.8510611735330836, 0.8510611735330836, 0.8510611735330836, 0.8510611735330836, 0.8510611735330836, 0.8510611735330836, 0.8510611735330836, 0.8510611735330836, 0.8510611735330836, 0.8510611735330836, 0.8510611735330836, 0.8510611735330836, 0.8510611735330836, 0.8510611735330836, 0.8510611735330836, 0.8510611735330836, 0.8510611735330836, 0.8510611735330836, 0.8510611735330836, 0.8510611735330836, 0.8510611735330836, 0.8510611735330836, 0.8510611735330836, 0.8510611735330836, 0.8510611735330836, 0.8510611735330836, 0.8510611735330836, 0.8510611735330836, 0.8510611735330836, 0.8510611735330836, 0.8510611735330836, 0.8510611735330836, 0.8510611735330836, 0.8510611735330836, 0.8510611735330836, 0.8510611735330836, 0.8510611735330836, 0.8510611735330836, 0.8510611735330836, 0.8510611735330836, 0.8510611735330836, 0.8510611735330836, 0.8510611735330836, 0.8510611735330836, 0.8510611735330836, 0.8510611735330836, 0.8510611735330836, 0.8510611735330836, 0.8510611735330836, 0.8510611735330836, 0.8510611735330836, 0.8510611735330836, 0.8510611735330836, 0.8510611735330836, 0.8510611735330836, 0.8510611735330836, 0.8510611735330836, 0.8510611735330836, 0.8510611735330836, 0.8510611735330836, 0.8510611735330836, 0.8510611735330836, 0.8510611735330836, 0.8510611735330836, 0.8510611735330836, 0.8510611735330836, 0.8510611735330836, 0.8510611735330836, 0.8510611735330836, 0.8510611735330836, 0.8510611735330836, 0.8510611735330836, 0.8510611735330836, 0.8510611735330836, 0.8510611735330836, 0.8510611735330836, 0.8510611735330836]}], \"balanced_accuracy\": [{\"categories\": [\"0\", \"1\", \"2\", \"3\", \"4\", \"5\", \"6\", \"7\", \"8\", \"9\", \"10\", \"11\", \"12\", \"13\", \"14\", \"15\", \"16\", \"17\", \"18\", \"19\", \"20\", \"21\", \"22\", \"23\", \"24\", \"25\", \"26\", \"27\", \"28\", \"29\", \"30\", \"31\", \"32\", \"33\", \"34\", \"35\", \"36\", \"37\", \"38\", \"39\", \"40\", \"41\", \"42\", \"43\", \"44\", \"45\", \"46\", \"47\", \"48\", \"49\", \"50\", \"51\", \"52\", \"53\", \"54\", \"55\", \"56\", \"57\", \"58\", \"59\", \"60\", \"61\", \"62\", \"63\", \"64\", \"65\", \"66\", \"67\", \"68\", \"69\", \"70\", \"71\", \"72\", \"73\", \"74\", \"75\", \"76\", \"77\", \"78\", \"79\", \"80\", \"81\", \"82\", \"83\", \"84\", \"85\", \"86\", \"90\", \"91\"], \"mode\": \"markers\", \"name\": \"balanced_accuracy\", \"stepped\": false, \"type\": \"scatter\", \"data\": [0.7751008055749207, 0.7680365414656704, 0.7700071070513639, 0.7767901563598058, 0.8089565165348823, 0.774002583787226, 0.7782052497731121, 0.7706969165216034, 0.7471064575510318, 0.7385142849394568, 0.8078688384319413, 0.7591660109009076, 0.7900516149605301, 0.7443737822745464, 0.7964095270023531, 0.7666211581594794, 0.7432163849328641, 0.711481404072808, 0.7557719356568716, 0.7753122917856046, 0.7938718046907475, 0.7521285618834809, 0.7719259174057767, 0.7859334948317241, 0.5541604211114961, 0.6840808735688292, 0.7855155160490779, 0.7380702064458151, 0.5981201334816463, 0.7672393734386111, 0.5, 0.7768253689938988, 0.8002378524361055, 0.7345798587099486, 0.7716164567514884, 0.6882775640207396, 0.7940219692049594, 0.7602642326886023, 0.7948262863646076, 0.7927675839906186, 0.750989399739377, 0.7526861614955854, 0.7702552460091803, 0.7857555193033594, 0.7862503758087195, 0.7761271526300065, 0.7803703334843582, 0.7740931285567404, 0.7622280933324168, 0.6636748785839761, 0.7739144469989306, 0.6982295025858912, 0.8082314850791666, 0.777513747702482, 0.7803873109208728, 0.7255414708136311, 0.7768253689938988, 0.7857636550068943, 0.7963661693133419, 0.7737118025212265, 0.799885034092806, 0.7672319531159042, 0.7295457799310897, 0.7929604001643974, 0.6136122710722904, 0.7761345823040967, 0.8083464369592855, 0.8143409869730553, 0.8030314145697358, 0.8200267917133651, 0.7761345823040967, 0.8111579631003764, 0.7551621272713925, 0.7841983783766092, 0.8053660575643106, 0.7730315595161782, 0.7817576345862784, 0.7824663946349242, 0.8082396207827015, 0.7898841831169189, 0.7727922622913415, 0.7660726808218558, 0.7687883786618265, 0.7886717248299333, 0.776814825309145, 0.7240216886634583, 0.7580086042078419, 0.8208395157666661, 0.8005465977095657]}, {\"categories\": [\"0\", \"1\", \"2\", \"3\", \"4\", \"5\", \"6\", \"7\", \"8\", \"9\", \"10\", \"11\", \"12\", \"13\", \"14\", \"15\", \"16\", \"17\", \"18\", \"19\", \"20\", \"21\", \"22\", \"23\", \"24\", \"25\", \"26\", \"27\", \"28\", \"29\", \"30\", \"31\", \"32\", \"33\", \"34\", \"35\", \"36\", \"37\", \"38\", \"39\", \"40\", \"41\", \"42\", \"43\", \"44\", \"45\", \"46\", \"47\", \"48\", \"49\", \"50\", \"51\", \"52\", \"53\", \"54\", \"55\", \"56\", \"57\", \"58\", \"59\", \"60\", \"61\", \"62\", \"63\", \"64\", \"65\", \"66\", \"67\", \"68\", \"69\", \"70\", \"71\", \"72\", \"73\", \"74\", \"75\", \"76\", \"77\", \"78\", \"79\", \"80\", \"81\", \"82\", \"83\", \"84\", \"85\", \"86\", \"90\", \"91\"], \"mode\": \"lines\", \"name\": \"balanced_accuracy_max\", \"stepped\": true, \"type\": \"scatter\", \"data\": [0.7751008055749207, 0.7751008055749207, 0.7751008055749207, 0.7767901563598058, 0.8089565165348823, 0.8089565165348823, 0.8089565165348823, 0.8089565165348823, 0.8089565165348823, 0.8089565165348823, 0.8089565165348823, 0.8089565165348823, 0.8089565165348823, 0.8089565165348823, 0.8089565165348823, 0.8089565165348823, 0.8089565165348823, 0.8089565165348823, 0.8089565165348823, 0.8089565165348823, 0.8089565165348823, 0.8089565165348823, 0.8089565165348823, 0.8089565165348823, 0.8089565165348823, 0.8089565165348823, 0.8089565165348823, 0.8089565165348823, 0.8089565165348823, 0.8089565165348823, 0.8089565165348823, 0.8089565165348823, 0.8089565165348823, 0.8089565165348823, 0.8089565165348823, 0.8089565165348823, 0.8089565165348823, 0.8089565165348823, 0.8089565165348823, 0.8089565165348823, 0.8089565165348823, 0.8089565165348823, 0.8089565165348823, 0.8089565165348823, 0.8089565165348823, 0.8089565165348823, 0.8089565165348823, 0.8089565165348823, 0.8089565165348823, 0.8089565165348823, 0.8089565165348823, 0.8089565165348823, 0.8089565165348823, 0.8089565165348823, 0.8089565165348823, 0.8089565165348823, 0.8089565165348823, 0.8089565165348823, 0.8089565165348823, 0.8089565165348823, 0.8089565165348823, 0.8089565165348823, 0.8089565165348823, 0.8089565165348823, 0.8089565165348823, 0.8089565165348823, 0.8089565165348823, 0.8143409869730553, 0.8143409869730553, 0.8200267917133651, 0.8200267917133651, 0.8200267917133651, 0.8200267917133651, 0.8200267917133651, 0.8200267917133651, 0.8200267917133651, 0.8200267917133651, 0.8200267917133651, 0.8200267917133651, 0.8200267917133651, 0.8200267917133651, 0.8200267917133651, 0.8200267917133651, 0.8200267917133651, 0.8200267917133651, 0.8200267917133651, 0.8200267917133651, 0.8208395157666661, 0.8208395157666661]}], \"precision_score_micro\": [{\"categories\": [\"0\", \"1\", \"2\", \"3\", \"4\", \"5\", \"6\", \"7\", \"8\", \"9\", \"10\", \"11\", \"12\", \"13\", \"14\", \"15\", \"16\", \"17\", \"18\", \"19\", \"20\", \"21\", \"22\", \"23\", \"24\", \"25\", \"26\", \"27\", \"28\", \"29\", \"30\", \"31\", \"32\", \"33\", \"34\", \"35\", \"36\", \"37\", \"38\", \"39\", \"40\", \"41\", \"42\", \"43\", \"44\", \"45\", \"46\", \"47\", \"48\", \"49\", \"50\", \"51\", \"52\", \"53\", \"54\", \"55\", \"56\", \"57\", \"58\", \"59\", \"60\", \"61\", \"62\", \"63\", \"64\", \"65\", \"66\", \"67\", \"68\", \"69\", \"70\", \"71\", \"72\", \"73\", \"74\", \"75\", \"76\", \"77\", \"78\", \"79\", \"80\", \"81\", \"82\", \"83\", \"84\", \"85\", \"86\", \"90\", \"91\"], \"mode\": \"markers\", \"name\": \"precision_score_micro\", \"stepped\": false, \"type\": \"scatter\", \"data\": [0.8138992925509779, 0.8064918851435704, 0.8140241364960467, 0.828755722014149, 0.8361631294215565, 0.8248023304203079, 0.8288805659592177, 0.8211818560133167, 0.8176446109030379, 0.7953391593841032, 0.8361631294215565, 0.813732833957553, 0.8510611735330836, 0.7989180191427382, 0.8399500624219726, 0.8250520183104454, 0.8213483146067416, 0.7840615896795672, 0.8324594257178527, 0.8139825218476903, 0.828755722014149, 0.8176446109030379, 0.821223470661673, 0.8215147732001663, 0.5424885559717021, 0.7729920932168124, 0.8362047440699126, 0.8065334997919268, 0.7433624635871826, 0.8399084477736163, 0.6838951310861422, 0.8139409071993341, 0.8325426550145653, 0.7953391593841032, 0.8211818560133167, 0.7876820640865585, 0.8213483146067415, 0.8066167290886392, 0.8361631294215565, 0.8325426550145653, 0.8102372034956304, 0.8102372034956304, 0.8027881814398667, 0.8176446109030379, 0.8362047440699126, 0.8103204327923429, 0.8213483146067415, 0.8102372034956304, 0.8028714107365792, 0.7805243445692884, 0.8287141073657928, 0.787973366625052, 0.8287973366625052, 0.8250520183104454, 0.8287973366625052, 0.7915938410320432, 0.8139409071993341, 0.828755722014149, 0.8399916770703287, 0.8249687890137328, 0.8325426550145653, 0.8176862255513941, 0.8064086558468581, 0.8360799001248439, 0.7471077819392425, 0.8324178110694964, 0.8362047440699126, 0.84735746982938, 0.8361631294215565, 0.84735746982938, 0.8324178110694964, 0.84735746982938, 0.8064918851435706, 0.8287141073657928, 0.8361631294215565, 0.828755722014149, 0.8213066999583853, 0.8140241364960467, 0.8361215147732001, 0.8325010403662089, 0.8249687890137328, 0.8064502704952142, 0.8177278401997503, 0.8362463587182689, 0.8362047440699126, 0.791718684977112, 0.8325010403662089, 0.8510611735330836, 0.8361215147732001]}, {\"categories\": [\"0\", \"1\", \"2\", \"3\", \"4\", \"5\", \"6\", \"7\", \"8\", \"9\", \"10\", \"11\", \"12\", \"13\", \"14\", \"15\", \"16\", \"17\", \"18\", \"19\", \"20\", \"21\", \"22\", \"23\", \"24\", \"25\", \"26\", \"27\", \"28\", \"29\", \"30\", \"31\", \"32\", \"33\", \"34\", \"35\", \"36\", \"37\", \"38\", \"39\", \"40\", \"41\", \"42\", \"43\", \"44\", \"45\", \"46\", \"47\", \"48\", \"49\", \"50\", \"51\", \"52\", \"53\", \"54\", \"55\", \"56\", \"57\", \"58\", \"59\", \"60\", \"61\", \"62\", \"63\", \"64\", \"65\", \"66\", \"67\", \"68\", \"69\", \"70\", \"71\", \"72\", \"73\", \"74\", \"75\", \"76\", \"77\", \"78\", \"79\", \"80\", \"81\", \"82\", \"83\", \"84\", \"85\", \"86\", \"90\", \"91\"], \"mode\": \"lines\", \"name\": \"precision_score_micro_max\", \"stepped\": true, \"type\": \"scatter\", \"data\": [0.8138992925509779, 0.8138992925509779, 0.8140241364960467, 0.828755722014149, 0.8361631294215565, 0.8361631294215565, 0.8361631294215565, 0.8361631294215565, 0.8361631294215565, 0.8361631294215565, 0.8361631294215565, 0.8361631294215565, 0.8510611735330836, 0.8510611735330836, 0.8510611735330836, 0.8510611735330836, 0.8510611735330836, 0.8510611735330836, 0.8510611735330836, 0.8510611735330836, 0.8510611735330836, 0.8510611735330836, 0.8510611735330836, 0.8510611735330836, 0.8510611735330836, 0.8510611735330836, 0.8510611735330836, 0.8510611735330836, 0.8510611735330836, 0.8510611735330836, 0.8510611735330836, 0.8510611735330836, 0.8510611735330836, 0.8510611735330836, 0.8510611735330836, 0.8510611735330836, 0.8510611735330836, 0.8510611735330836, 0.8510611735330836, 0.8510611735330836, 0.8510611735330836, 0.8510611735330836, 0.8510611735330836, 0.8510611735330836, 0.8510611735330836, 0.8510611735330836, 0.8510611735330836, 0.8510611735330836, 0.8510611735330836, 0.8510611735330836, 0.8510611735330836, 0.8510611735330836, 0.8510611735330836, 0.8510611735330836, 0.8510611735330836, 0.8510611735330836, 0.8510611735330836, 0.8510611735330836, 0.8510611735330836, 0.8510611735330836, 0.8510611735330836, 0.8510611735330836, 0.8510611735330836, 0.8510611735330836, 0.8510611735330836, 0.8510611735330836, 0.8510611735330836, 0.8510611735330836, 0.8510611735330836, 0.8510611735330836, 0.8510611735330836, 0.8510611735330836, 0.8510611735330836, 0.8510611735330836, 0.8510611735330836, 0.8510611735330836, 0.8510611735330836, 0.8510611735330836, 0.8510611735330836, 0.8510611735330836, 0.8510611735330836, 0.8510611735330836, 0.8510611735330836, 0.8510611735330836, 0.8510611735330836, 0.8510611735330836, 0.8510611735330836, 0.8510611735330836, 0.8510611735330836]}], \"average_precision_score_weighted\": [{\"categories\": [\"0\", \"1\", \"2\", \"3\", \"4\", \"5\", \"6\", \"7\", \"8\", \"9\", \"10\", \"11\", \"12\", \"13\", \"14\", \"15\", \"16\", \"17\", \"18\", \"19\", \"20\", \"21\", \"22\", \"23\", \"24\", \"25\", \"26\", \"27\", \"28\", \"29\", \"30\", \"31\", \"32\", \"33\", \"34\", \"35\", \"36\", \"37\", \"38\", \"39\", \"40\", \"41\", \"42\", \"43\", \"44\", \"45\", \"46\", \"47\", \"48\", \"49\", \"50\", \"51\", \"52\", \"53\", \"54\", \"55\", \"56\", \"57\", \"58\", \"59\", \"60\", \"61\", \"62\", \"63\", \"64\", \"65\", \"66\", \"67\", \"68\", \"69\", \"70\", \"71\", \"72\", \"73\", \"74\", \"75\", \"76\", \"77\", \"78\", \"79\", \"80\", \"81\", \"82\", \"83\", \"84\", \"85\", \"86\", \"90\", \"91\"], \"mode\": \"markers\", \"name\": \"average_precision_score_weighted\", \"stepped\": false, \"type\": \"scatter\", \"data\": [0.8849592197816868, 0.879676385386567, 0.8934890302501239, 0.8931295655738426, 0.8902632523734851, 0.8767654827370487, 0.8890681782457692, 0.8624686611978184, 0.9017139922274998, 0.8670853089994401, 0.8984427426908091, 0.8633719493005406, 0.896920744792375, 0.8527763327666903, 0.8919234660163567, 0.9022349590333262, 0.8891609666111343, 0.8435889005820995, 0.8943876556594956, 0.902166695470081, 0.8999371945329186, 0.8909846348848917, 0.871708042702514, 0.8922497312663896, 0.6153264835886101, 0.8440552659851356, 0.8875356247898262, 0.8891250853316551, 0.8656055376174349, 0.8968449711070555, 0.569330741899301, 0.8890832578556548, 0.8902803276872316, 0.8650691550524137, 0.870229982467785, 0.8723716913719494, 0.8903051465607135, 0.8847310204052504, 0.8963023883165094, 0.8829163767611273, 0.8719543756880558, 0.8882168414814545, 0.8895798178387055, 0.8828941891902115, 0.9004972616734692, 0.888491105468845, 0.9008052732650486, 0.8980652424795542, 0.8875553218366022, 0.8895918118563092, 0.8917458403142756, 0.8871116321565243, 0.894166230809084, 0.9000574182970964, 0.8773103685039568, 0.8607814461956719, 0.8909990645852046, 0.8921476835285572, 0.8916760526956091, 0.8935849400490632, 0.9060712595181091, 0.8948436018424665, 0.8924565929211972, 0.8720482532376957, 0.836306164373128, 0.8955078374391595, 0.9063798213250852, 0.9048207626352615, 0.8880740559273042, 0.8916759044266289, 0.9024035421678825, 0.9092532751264835, 0.8900083571598261, 0.9040883607659166, 0.8916159911170848, 0.896691260941671, 0.897139038027381, 0.8859473847868643, 0.9041357654280069, 0.9020141181223101, 0.8887381356676322, 0.8806825046662836, 0.8791915038309662, 0.9157801582093578, 0.8818866489234475, 0.8632539685025996, 0.8959688757261054, 0.9068040551328549, 0.8995572414037049]}, {\"categories\": [\"0\", \"1\", \"2\", \"3\", \"4\", \"5\", \"6\", \"7\", \"8\", \"9\", \"10\", \"11\", \"12\", \"13\", \"14\", \"15\", \"16\", \"17\", \"18\", \"19\", \"20\", \"21\", \"22\", \"23\", \"24\", \"25\", \"26\", \"27\", \"28\", \"29\", \"30\", \"31\", \"32\", \"33\", \"34\", \"35\", \"36\", \"37\", \"38\", \"39\", \"40\", \"41\", \"42\", \"43\", \"44\", \"45\", \"46\", \"47\", \"48\", \"49\", \"50\", \"51\", \"52\", \"53\", \"54\", \"55\", \"56\", \"57\", \"58\", \"59\", \"60\", \"61\", \"62\", \"63\", \"64\", \"65\", \"66\", \"67\", \"68\", \"69\", \"70\", \"71\", \"72\", \"73\", \"74\", \"75\", \"76\", \"77\", \"78\", \"79\", \"80\", \"81\", \"82\", \"83\", \"84\", \"85\", \"86\", \"90\", \"91\"], \"mode\": \"lines\", \"name\": \"average_precision_score_weighted_max\", \"stepped\": true, \"type\": \"scatter\", \"data\": [0.8849592197816868, 0.8849592197816868, 0.8934890302501239, 0.8934890302501239, 0.8934890302501239, 0.8934890302501239, 0.8934890302501239, 0.8934890302501239, 0.9017139922274998, 0.9017139922274998, 0.9017139922274998, 0.9017139922274998, 0.9017139922274998, 0.9017139922274998, 0.9017139922274998, 0.9022349590333262, 0.9022349590333262, 0.9022349590333262, 0.9022349590333262, 0.9022349590333262, 0.9022349590333262, 0.9022349590333262, 0.9022349590333262, 0.9022349590333262, 0.9022349590333262, 0.9022349590333262, 0.9022349590333262, 0.9022349590333262, 0.9022349590333262, 0.9022349590333262, 0.9022349590333262, 0.9022349590333262, 0.9022349590333262, 0.9022349590333262, 0.9022349590333262, 0.9022349590333262, 0.9022349590333262, 0.9022349590333262, 0.9022349590333262, 0.9022349590333262, 0.9022349590333262, 0.9022349590333262, 0.9022349590333262, 0.9022349590333262, 0.9022349590333262, 0.9022349590333262, 0.9022349590333262, 0.9022349590333262, 0.9022349590333262, 0.9022349590333262, 0.9022349590333262, 0.9022349590333262, 0.9022349590333262, 0.9022349590333262, 0.9022349590333262, 0.9022349590333262, 0.9022349590333262, 0.9022349590333262, 0.9022349590333262, 0.9022349590333262, 0.9060712595181091, 0.9060712595181091, 0.9060712595181091, 0.9060712595181091, 0.9060712595181091, 0.9060712595181091, 0.9063798213250852, 0.9063798213250852, 0.9063798213250852, 0.9063798213250852, 0.9063798213250852, 0.9092532751264835, 0.9092532751264835, 0.9092532751264835, 0.9092532751264835, 0.9092532751264835, 0.9092532751264835, 0.9092532751264835, 0.9092532751264835, 0.9092532751264835, 0.9092532751264835, 0.9092532751264835, 0.9092532751264835, 0.9157801582093578, 0.9157801582093578, 0.9157801582093578, 0.9157801582093578, 0.9157801582093578, 0.9157801582093578]}], \"f1_score_macro\": [{\"categories\": [\"0\", \"1\", \"2\", \"3\", \"4\", \"5\", \"6\", \"7\", \"8\", \"9\", \"10\", \"11\", \"12\", \"13\", \"14\", \"15\", \"16\", \"17\", \"18\", \"19\", \"20\", \"21\", \"22\", \"23\", \"24\", \"25\", \"26\", \"27\", \"28\", \"29\", \"30\", \"31\", \"32\", \"33\", \"34\", \"35\", \"36\", \"37\", \"38\", \"39\", \"40\", \"41\", \"42\", \"43\", \"44\", \"45\", \"46\", \"47\", \"48\", \"49\", \"50\", \"51\", \"52\", \"53\", \"54\", \"55\", \"56\", \"57\", \"58\", \"59\", \"60\", \"61\", \"62\", \"63\", \"64\", \"65\", \"66\", \"67\", \"68\", \"69\", \"70\", \"71\", \"72\", \"73\", \"74\", \"75\", \"76\", \"77\", \"78\", \"79\", \"80\", \"81\", \"82\", \"83\", \"84\", \"85\", \"86\", \"90\", \"91\"], \"mode\": \"markers\", \"name\": \"f1_score_macro\", \"stepped\": false, \"type\": \"scatter\", \"data\": [0.7787377072998627, 0.7718215358766641, 0.7750692187639006, 0.7900697492610181, 0.8082067364962132, 0.7838011108069386, 0.7898258277073223, 0.7818860088387375, 0.7633304866739667, 0.7508393521658787, 0.8080280970607193, 0.7684425376155396, 0.8097084065355808, 0.7555152979066023, 0.8045704795260328, 0.7788134939014976, 0.7662103521543026, 0.7216338936665747, 0.7791440279713789, 0.7760370929189273, 0.7967743796163717, 0.7671571301297876, 0.7818120652521547, 0.7893956566856714, 0.525870531402925, 0.6988280657568353, 0.795634694666996, 0.752858361083363, 0.5865648781758285, 0.7893627426467389, 0.40596205725756795, 0.7796284631041904, 0.8005542417350546, 0.7479250577916389, 0.7826533467348914, 0.6929808830440433, 0.7899512497024291, 0.7665554340355515, 0.8010219405500338, 0.8003659873986253, 0.7660854859501821, 0.7630842626527587, 0.7685197974099337, 0.7848939212718239, 0.7987952554638986, 0.776266236800299, 0.7865040441328129, 0.7760108502782428, 0.7670227920344747, 0.6792214159319325, 0.7859167249488301, 0.7159389634389636, 0.8027935184850744, 0.7842755655941729, 0.7877504498830107, 0.7380386736884142, 0.7796284631041904, 0.79130065363442, 0.8052290419050587, 0.7847050145605535, 0.8028373705701431, 0.7769700566317624, 0.7441801146741017, 0.800235497683035, 0.6134258848096882, 0.7911598707664883, 0.8073033460466257, 0.8173566408722022, 0.8036538951782873, 0.8194513203948653, 0.7911598707664883, 0.8170413269319642, 0.7632785379318507, 0.7910190055206617, 0.806082009400872, 0.78822525860738, 0.7834054487179488, 0.7813967216362107, 0.8071678097466325, 0.7960376615197099, 0.7836162452219417, 0.7687264006015758, 0.777810126538911, 0.7963210428852365, 0.791235446249939, 0.7380775014988386, 0.7784516679058769, 0.8232337705776228, 0.803225576073061]}, {\"categories\": [\"0\", \"1\", \"2\", \"3\", \"4\", \"5\", \"6\", \"7\", \"8\", \"9\", \"10\", \"11\", \"12\", \"13\", \"14\", \"15\", \"16\", \"17\", \"18\", \"19\", \"20\", \"21\", \"22\", \"23\", \"24\", \"25\", \"26\", \"27\", \"28\", \"29\", \"30\", \"31\", \"32\", \"33\", \"34\", \"35\", \"36\", \"37\", \"38\", \"39\", \"40\", \"41\", \"42\", \"43\", \"44\", \"45\", \"46\", \"47\", \"48\", \"49\", \"50\", \"51\", \"52\", \"53\", \"54\", \"55\", \"56\", \"57\", \"58\", \"59\", \"60\", \"61\", \"62\", \"63\", \"64\", \"65\", \"66\", \"67\", \"68\", \"69\", \"70\", \"71\", \"72\", \"73\", \"74\", \"75\", \"76\", \"77\", \"78\", \"79\", \"80\", \"81\", \"82\", \"83\", \"84\", \"85\", \"86\", \"90\", \"91\"], \"mode\": \"lines\", \"name\": \"f1_score_macro_max\", \"stepped\": true, \"type\": \"scatter\", \"data\": [0.7787377072998627, 0.7787377072998627, 0.7787377072998627, 0.7900697492610181, 0.8082067364962132, 0.8082067364962132, 0.8082067364962132, 0.8082067364962132, 0.8082067364962132, 0.8082067364962132, 0.8082067364962132, 0.8082067364962132, 0.8097084065355808, 0.8097084065355808, 0.8097084065355808, 0.8097084065355808, 0.8097084065355808, 0.8097084065355808, 0.8097084065355808, 0.8097084065355808, 0.8097084065355808, 0.8097084065355808, 0.8097084065355808, 0.8097084065355808, 0.8097084065355808, 0.8097084065355808, 0.8097084065355808, 0.8097084065355808, 0.8097084065355808, 0.8097084065355808, 0.8097084065355808, 0.8097084065355808, 0.8097084065355808, 0.8097084065355808, 0.8097084065355808, 0.8097084065355808, 0.8097084065355808, 0.8097084065355808, 0.8097084065355808, 0.8097084065355808, 0.8097084065355808, 0.8097084065355808, 0.8097084065355808, 0.8097084065355808, 0.8097084065355808, 0.8097084065355808, 0.8097084065355808, 0.8097084065355808, 0.8097084065355808, 0.8097084065355808, 0.8097084065355808, 0.8097084065355808, 0.8097084065355808, 0.8097084065355808, 0.8097084065355808, 0.8097084065355808, 0.8097084065355808, 0.8097084065355808, 0.8097084065355808, 0.8097084065355808, 0.8097084065355808, 0.8097084065355808, 0.8097084065355808, 0.8097084065355808, 0.8097084065355808, 0.8097084065355808, 0.8097084065355808, 0.8173566408722022, 0.8173566408722022, 0.8194513203948653, 0.8194513203948653, 0.8194513203948653, 0.8194513203948653, 0.8194513203948653, 0.8194513203948653, 0.8194513203948653, 0.8194513203948653, 0.8194513203948653, 0.8194513203948653, 0.8194513203948653, 0.8194513203948653, 0.8194513203948653, 0.8194513203948653, 0.8194513203948653, 0.8194513203948653, 0.8194513203948653, 0.8194513203948653, 0.8232337705776228, 0.8232337705776228]}], \"f1_score_weighted\": [{\"categories\": [\"0\", \"1\", \"2\", \"3\", \"4\", \"5\", \"6\", \"7\", \"8\", \"9\", \"10\", \"11\", \"12\", \"13\", \"14\", \"15\", \"16\", \"17\", \"18\", \"19\", \"20\", \"21\", \"22\", \"23\", \"24\", \"25\", \"26\", \"27\", \"28\", \"29\", \"30\", \"31\", \"32\", \"33\", \"34\", \"35\", \"36\", \"37\", \"38\", \"39\", \"40\", \"41\", \"42\", \"43\", \"44\", \"45\", \"46\", \"47\", \"48\", \"49\", \"50\", \"51\", \"52\", \"53\", \"54\", \"55\", \"56\", \"57\", \"58\", \"59\", \"60\", \"61\", \"62\", \"63\", \"64\", \"65\", \"66\", \"67\", \"68\", \"69\", \"70\", \"71\", \"72\", \"73\", \"74\", \"75\", \"76\", \"77\", \"78\", \"79\", \"80\", \"81\", \"82\", \"83\", \"84\", \"85\", \"86\", \"90\", \"91\"], \"mode\": \"markers\", \"name\": \"f1_score_weighted\", \"stepped\": false, \"type\": \"scatter\", \"data\": [0.8103874839599273, 0.8038649157613671, 0.8084180592629701, 0.8222922798183343, 0.8340280529820124, 0.8165679538785846, 0.8230015493936943, 0.8146585301517296, 0.8044593736698357, 0.7892526262464002, 0.8339731396833473, 0.8045621365672587, 0.8409775729322139, 0.7915206966102586, 0.8344589625178161, 0.815716889899668, 0.8063018810196052, 0.7689398004056794, 0.8182552957883384, 0.809298789193479, 0.8251504507816564, 0.8060593111459101, 0.8145712902663265, 0.819548186299826, 0.5551014742654701, 0.7526440336314671, 0.8280453014074842, 0.7943635726546446, 0.6798131131863118, 0.8263240989149053, 0.5558661476571487, 0.8111522662878997, 0.8288897793706264, 0.7880801714194758, 0.8148098064341255, 0.7520417668528728, 0.8189756946125181, 0.8016694267279272, 0.8306168762722188, 0.8291960563157698, 0.8027932896335083, 0.80156709726954, 0.8005791930260243, 0.8154045446354706, 0.8299084745632691, 0.8082764869197461, 0.8171548747850959, 0.8076899172612917, 0.8003186720527777, 0.744818047523241, 0.8194263803318661, 0.7689127391711663, 0.8281685963307398, 0.8178942710375076, 0.8212194813786574, 0.7801050664447774, 0.8111522662878997, 0.8231693333549363, 0.8351098949950666, 0.8176739594315411, 0.8302158791822776, 0.8118019160818619, 0.7898207078176186, 0.8298378313877633, 0.6982465200998319, 0.8239489175740663, 0.8339503077126159, 0.8437827047947364, 0.8316991398194465, 0.8450429784635366, 0.8239489175740663, 0.8435001734772504, 0.8000224469054841, 0.8226915261292557, 0.83289367823327, 0.8211231089529459, 0.8156517894298793, 0.8119539446422751, 0.8333563969647623, 0.827168111297868, 0.8173595928791061, 0.8022158335990408, 0.8124312903331954, 0.8282730222592884, 0.8254730597634721, 0.7808481550679702, 0.8181609985532234, 0.847827013562163, 0.8313448420077937]}, {\"categories\": [\"0\", \"1\", \"2\", \"3\", \"4\", \"5\", \"6\", \"7\", \"8\", \"9\", \"10\", \"11\", \"12\", \"13\", \"14\", \"15\", \"16\", \"17\", \"18\", \"19\", \"20\", \"21\", \"22\", \"23\", \"24\", \"25\", \"26\", \"27\", \"28\", \"29\", \"30\", \"31\", \"32\", \"33\", \"34\", \"35\", \"36\", \"37\", \"38\", \"39\", \"40\", \"41\", \"42\", \"43\", \"44\", \"45\", \"46\", \"47\", \"48\", \"49\", \"50\", \"51\", \"52\", \"53\", \"54\", \"55\", \"56\", \"57\", \"58\", \"59\", \"60\", \"61\", \"62\", \"63\", \"64\", \"65\", \"66\", \"67\", \"68\", \"69\", \"70\", \"71\", \"72\", \"73\", \"74\", \"75\", \"76\", \"77\", \"78\", \"79\", \"80\", \"81\", \"82\", \"83\", \"84\", \"85\", \"86\", \"90\", \"91\"], \"mode\": \"lines\", \"name\": \"f1_score_weighted_max\", \"stepped\": true, \"type\": \"scatter\", \"data\": [0.8103874839599273, 0.8103874839599273, 0.8103874839599273, 0.8222922798183343, 0.8340280529820124, 0.8340280529820124, 0.8340280529820124, 0.8340280529820124, 0.8340280529820124, 0.8340280529820124, 0.8340280529820124, 0.8340280529820124, 0.8409775729322139, 0.8409775729322139, 0.8409775729322139, 0.8409775729322139, 0.8409775729322139, 0.8409775729322139, 0.8409775729322139, 0.8409775729322139, 0.8409775729322139, 0.8409775729322139, 0.8409775729322139, 0.8409775729322139, 0.8409775729322139, 0.8409775729322139, 0.8409775729322139, 0.8409775729322139, 0.8409775729322139, 0.8409775729322139, 0.8409775729322139, 0.8409775729322139, 0.8409775729322139, 0.8409775729322139, 0.8409775729322139, 0.8409775729322139, 0.8409775729322139, 0.8409775729322139, 0.8409775729322139, 0.8409775729322139, 0.8409775729322139, 0.8409775729322139, 0.8409775729322139, 0.8409775729322139, 0.8409775729322139, 0.8409775729322139, 0.8409775729322139, 0.8409775729322139, 0.8409775729322139, 0.8409775729322139, 0.8409775729322139, 0.8409775729322139, 0.8409775729322139, 0.8409775729322139, 0.8409775729322139, 0.8409775729322139, 0.8409775729322139, 0.8409775729322139, 0.8409775729322139, 0.8409775729322139, 0.8409775729322139, 0.8409775729322139, 0.8409775729322139, 0.8409775729322139, 0.8409775729322139, 0.8409775729322139, 0.8409775729322139, 0.8437827047947364, 0.8437827047947364, 0.8450429784635366, 0.8450429784635366, 0.8450429784635366, 0.8450429784635366, 0.8450429784635366, 0.8450429784635366, 0.8450429784635366, 0.8450429784635366, 0.8450429784635366, 0.8450429784635366, 0.8450429784635366, 0.8450429784635366, 0.8450429784635366, 0.8450429784635366, 0.8450429784635366, 0.8450429784635366, 0.8450429784635366, 0.8450429784635366, 0.847827013562163, 0.847827013562163]}], \"weighted_accuracy\": [{\"categories\": [\"0\", \"1\", \"2\", \"3\", \"4\", \"5\", \"6\", \"7\", \"8\", \"9\", \"10\", \"11\", \"12\", \"13\", \"14\", \"15\", \"16\", \"17\", \"18\", \"19\", \"20\", \"21\", \"22\", \"23\", \"24\", \"25\", \"26\", \"27\", \"28\", \"29\", \"30\", \"31\", \"32\", \"33\", \"34\", \"35\", \"36\", \"37\", \"38\", \"39\", \"40\", \"41\", \"42\", \"43\", \"44\", \"45\", \"46\", \"47\", \"48\", \"49\", \"50\", \"51\", \"52\", \"53\", \"54\", \"55\", \"56\", \"57\", \"58\", \"59\", \"60\", \"61\", \"62\", \"63\", \"64\", \"65\", \"66\", \"67\", \"68\", \"69\", \"70\", \"71\", \"72\", \"73\", \"74\", \"75\", \"76\", \"77\", \"78\", \"79\", \"80\", \"81\", \"82\", \"83\", \"84\", \"85\", \"86\", \"90\", \"91\"], \"mode\": \"markers\", \"name\": \"weighted_accuracy\", \"stepped\": false, \"type\": \"scatter\", \"data\": [0.8435497391010339, 0.8353037362291785, 0.8480078959956793, 0.868426158673377, 0.8576696514257655, 0.8632832026136739, 0.8659268366833421, 0.8593563613497422, 0.8703362642922773, 0.8371710279669107, 0.8580806365396074, 0.8549917073479177, 0.8974500342817061, 0.8397791452259596, 0.872871655376167, 0.868074166152243, 0.8806261082294182, 0.8387045680311275, 0.890112361771679, 0.8436988106395041, 0.8559236540445215, 0.867186382781937, 0.858958401655742, 0.8486142218262597, 0.5358513390774099, 0.8397964293748045, 0.8749015259920192, 0.8584811214794698, 0.852298678326653, 0.8943735390390706, 0.8215295063588467, 0.8418825802822537, 0.8580481695655484, 0.8399099243634088, 0.8589556207328729, 0.8630773617229558, 0.8427031307013806, 0.8420795599095076, 0.8677305235405591, 0.8621439870319508, 0.8543777895822297, 0.8538223497460642, 0.8278197659627077, 0.841653133680941, 0.8734990616714798, 0.8357610929314251, 0.8524974724246558, 0.8374254708273363, 0.8334578198207382, 0.8682769410088791, 0.8704008258715662, 0.8545738313207346, 0.8447501179175217, 0.8614966832134799, 0.8659668180882392, 0.8421502819461649, 0.8418825802822537, 0.8615347120332771, 0.8718829570923387, 0.8638395216443432, 0.8570566903588511, 0.85584884796826, 0.8638266057754805, 0.8693846569394976, 0.8462504676925499, 0.875115166250621, 0.8580731729655039, 0.8722897414747545, 0.8622322417536176, 0.8678604163426619, 0.875115166250621, 0.874638141751356, 0.8449433787331575, 0.8619531607212227, 0.8601615613950987, 0.8709283131396829, 0.8519392516656211, 0.8387382606176518, 0.8578103801956282, 0.8643451516633597, 0.8642402622612125, 0.8371041602437179, 0.8541919336464523, 0.872576395632232, 0.8816690069037407, 0.8431045606708345, 0.8881879720287613, 0.8740181990301462, 0.8630514310584322]}, {\"categories\": [\"0\", \"1\", \"2\", \"3\", \"4\", \"5\", \"6\", \"7\", \"8\", \"9\", \"10\", \"11\", \"12\", \"13\", \"14\", \"15\", \"16\", \"17\", \"18\", \"19\", \"20\", \"21\", \"22\", \"23\", \"24\", \"25\", \"26\", \"27\", \"28\", \"29\", \"30\", \"31\", \"32\", \"33\", \"34\", \"35\", \"36\", \"37\", \"38\", \"39\", \"40\", \"41\", \"42\", \"43\", \"44\", \"45\", \"46\", \"47\", \"48\", \"49\", \"50\", \"51\", \"52\", \"53\", \"54\", \"55\", \"56\", \"57\", \"58\", \"59\", \"60\", \"61\", \"62\", \"63\", \"64\", \"65\", \"66\", \"67\", \"68\", \"69\", \"70\", \"71\", \"72\", \"73\", \"74\", \"75\", \"76\", \"77\", \"78\", \"79\", \"80\", \"81\", \"82\", \"83\", \"84\", \"85\", \"86\", \"90\", \"91\"], \"mode\": \"lines\", \"name\": \"weighted_accuracy_max\", \"stepped\": true, \"type\": \"scatter\", \"data\": [0.8435497391010339, 0.8435497391010339, 0.8480078959956793, 0.868426158673377, 0.868426158673377, 0.868426158673377, 0.868426158673377, 0.868426158673377, 0.8703362642922773, 0.8703362642922773, 0.8703362642922773, 0.8703362642922773, 0.8974500342817061, 0.8974500342817061, 0.8974500342817061, 0.8974500342817061, 0.8974500342817061, 0.8974500342817061, 0.8974500342817061, 0.8974500342817061, 0.8974500342817061, 0.8974500342817061, 0.8974500342817061, 0.8974500342817061, 0.8974500342817061, 0.8974500342817061, 0.8974500342817061, 0.8974500342817061, 0.8974500342817061, 0.8974500342817061, 0.8974500342817061, 0.8974500342817061, 0.8974500342817061, 0.8974500342817061, 0.8974500342817061, 0.8974500342817061, 0.8974500342817061, 0.8974500342817061, 0.8974500342817061, 0.8974500342817061, 0.8974500342817061, 0.8974500342817061, 0.8974500342817061, 0.8974500342817061, 0.8974500342817061, 0.8974500342817061, 0.8974500342817061, 0.8974500342817061, 0.8974500342817061, 0.8974500342817061, 0.8974500342817061, 0.8974500342817061, 0.8974500342817061, 0.8974500342817061, 0.8974500342817061, 0.8974500342817061, 0.8974500342817061, 0.8974500342817061, 0.8974500342817061, 0.8974500342817061, 0.8974500342817061, 0.8974500342817061, 0.8974500342817061, 0.8974500342817061, 0.8974500342817061, 0.8974500342817061, 0.8974500342817061, 0.8974500342817061, 0.8974500342817061, 0.8974500342817061, 0.8974500342817061, 0.8974500342817061, 0.8974500342817061, 0.8974500342817061, 0.8974500342817061, 0.8974500342817061, 0.8974500342817061, 0.8974500342817061, 0.8974500342817061, 0.8974500342817061, 0.8974500342817061, 0.8974500342817061, 0.8974500342817061, 0.8974500342817061, 0.8974500342817061, 0.8974500342817061, 0.8974500342817061, 0.8974500342817061, 0.8974500342817061]}], \"precision_score_weighted\": [{\"categories\": [\"0\", \"1\", \"2\", \"3\", \"4\", \"5\", \"6\", \"7\", \"8\", \"9\", \"10\", \"11\", \"12\", \"13\", \"14\", \"15\", \"16\", \"17\", \"18\", \"19\", \"20\", \"21\", \"22\", \"23\", \"24\", \"25\", \"26\", \"27\", \"28\", \"29\", \"30\", \"31\", \"32\", \"33\", \"34\", \"35\", \"36\", \"37\", \"38\", \"39\", \"40\", \"41\", \"42\", \"43\", \"44\", \"45\", \"46\", \"47\", \"48\", \"49\", \"50\", \"51\", \"52\", \"53\", \"54\", \"55\", \"56\", \"57\", \"58\", \"59\", \"60\", \"61\", \"62\", \"63\", \"64\", \"65\", \"66\", \"67\", \"68\", \"69\", \"70\", \"71\", \"72\", \"73\", \"74\", \"75\", \"76\", \"77\", \"78\", \"79\", \"80\", \"81\", \"82\", \"83\", \"84\", \"85\", \"86\", \"90\", \"91\"], \"mode\": \"markers\", \"name\": \"precision_score_weighted\", \"stepped\": false, \"type\": \"scatter\", \"data\": [0.8116123729834852, 0.8051297673155652, 0.8177334634785164, 0.8256848089706664, 0.8358328315694109, 0.8198321757561752, 0.8310325455930146, 0.8162671198995507, 0.8212456373162597, 0.7912353145715083, 0.8359831488270079, 0.8086817507978418, 0.8580149836608544, 0.7978593583793385, 0.8406072422987121, 0.8263382169516863, 0.828227014895611, 0.7760528230917139, 0.8402135078783332, 0.817534397033707, 0.8276647604108613, 0.8192416831942501, 0.8164780976165642, 0.8215102382705379, 0.6157838136902622, 0.7687177373614092, 0.8382277526979961, 0.8067606572604865, 0.7989412873235731, 0.8518444870289933, 0.46856050203579275, 0.8128686773521316, 0.8357499935198179, 0.7909184059816082, 0.816115879269244, 0.7944347785546686, 0.8247703269172993, 0.806701911642068, 0.8355852625712809, 0.8325459926426122, 0.808144692504337, 0.8082841606867377, 0.8041432073619074, 0.8185926032670912, 0.8364029605461272, 0.8127140928672839, 0.8200970789651366, 0.8101192825674223, 0.8007749943987205, 0.8090439507433889, 0.8296499333971461, 0.7885067497479733, 0.833636529317579, 0.8248422719019978, 0.8308766544968004, 0.78540002868631, 0.8128686773521316, 0.8273935705143248, 0.8435320177587217, 0.8217227276263316, 0.834148566361058, 0.8147653503954452, 0.8070254439784303, 0.8329428575251577, 0.771476590011785, 0.8309222855552431, 0.8371215627305992, 0.8492288497071669, 0.8370270227446589, 0.849481494955906, 0.8309222855552431, 0.8486784101367829, 0.8031749179072379, 0.8286856751674391, 0.8363365356343607, 0.8271725008549579, 0.8214392006073371, 0.8171745450034718, 0.8363639826473754, 0.833074430185433, 0.8220677234644048, 0.8047023542310877, 0.8156818248366128, 0.8430225617467267, 0.8413818668032151, 0.7862142646054061, 0.8420630890897005, 0.8544111347423932, 0.8381218335787911]}, {\"categories\": [\"0\", \"1\", \"2\", \"3\", \"4\", \"5\", \"6\", \"7\", \"8\", \"9\", \"10\", \"11\", \"12\", \"13\", \"14\", \"15\", \"16\", \"17\", \"18\", \"19\", \"20\", \"21\", \"22\", \"23\", \"24\", \"25\", \"26\", \"27\", \"28\", \"29\", \"30\", \"31\", \"32\", \"33\", \"34\", \"35\", \"36\", \"37\", \"38\", \"39\", \"40\", \"41\", \"42\", \"43\", \"44\", \"45\", \"46\", \"47\", \"48\", \"49\", \"50\", \"51\", \"52\", \"53\", \"54\", \"55\", \"56\", \"57\", \"58\", \"59\", \"60\", \"61\", \"62\", \"63\", \"64\", \"65\", \"66\", \"67\", \"68\", \"69\", \"70\", \"71\", \"72\", \"73\", \"74\", \"75\", \"76\", \"77\", \"78\", \"79\", \"80\", \"81\", \"82\", \"83\", \"84\", \"85\", \"86\", \"90\", \"91\"], \"mode\": \"lines\", \"name\": \"precision_score_weighted_max\", \"stepped\": true, \"type\": \"scatter\", \"data\": [0.8116123729834852, 0.8116123729834852, 0.8177334634785164, 0.8256848089706664, 0.8358328315694109, 0.8358328315694109, 0.8358328315694109, 0.8358328315694109, 0.8358328315694109, 0.8358328315694109, 0.8359831488270079, 0.8359831488270079, 0.8580149836608544, 0.8580149836608544, 0.8580149836608544, 0.8580149836608544, 0.8580149836608544, 0.8580149836608544, 0.8580149836608544, 0.8580149836608544, 0.8580149836608544, 0.8580149836608544, 0.8580149836608544, 0.8580149836608544, 0.8580149836608544, 0.8580149836608544, 0.8580149836608544, 0.8580149836608544, 0.8580149836608544, 0.8580149836608544, 0.8580149836608544, 0.8580149836608544, 0.8580149836608544, 0.8580149836608544, 0.8580149836608544, 0.8580149836608544, 0.8580149836608544, 0.8580149836608544, 0.8580149836608544, 0.8580149836608544, 0.8580149836608544, 0.8580149836608544, 0.8580149836608544, 0.8580149836608544, 0.8580149836608544, 0.8580149836608544, 0.8580149836608544, 0.8580149836608544, 0.8580149836608544, 0.8580149836608544, 0.8580149836608544, 0.8580149836608544, 0.8580149836608544, 0.8580149836608544, 0.8580149836608544, 0.8580149836608544, 0.8580149836608544, 0.8580149836608544, 0.8580149836608544, 0.8580149836608544, 0.8580149836608544, 0.8580149836608544, 0.8580149836608544, 0.8580149836608544, 0.8580149836608544, 0.8580149836608544, 0.8580149836608544, 0.8580149836608544, 0.8580149836608544, 0.8580149836608544, 0.8580149836608544, 0.8580149836608544, 0.8580149836608544, 0.8580149836608544, 0.8580149836608544, 0.8580149836608544, 0.8580149836608544, 0.8580149836608544, 0.8580149836608544, 0.8580149836608544, 0.8580149836608544, 0.8580149836608544, 0.8580149836608544, 0.8580149836608544, 0.8580149836608544, 0.8580149836608544, 0.8580149836608544, 0.8580149836608544, 0.8580149836608544]}]}, \"metricName\": null, \"primaryMetricName\": \"accuracy\", \"showLegend\": false}, \"run_metrics\": [{\"name\": \"experiment_status\", \"run_id\": \"AutoML_f152ea1b-337e-453f-b35a-6ed293cda5c5\", \"categories\": [0, 1, 2, 3, 4, 5, 6, 7, 8, 9, 10, 11, 12, 13], \"series\": [{\"data\": [\"DatasetEvaluation\", \"FeaturesGeneration\", \"DatasetFeaturization\", \"DatasetFeaturizationCompleted\", \"DatasetCrossValidationSplit\", \"ModelSelection\", \"BestRunExplainModel\", \"ModelExplanationDataSetSetup\", \"PickSurrogateModel\", \"EngineeredFeatureExplanations\", \"EngineeredFeatureExplanations\", \"RawFeaturesExplanations\", \"RawFeaturesExplanations\", \"BestRunExplainModel\"]}]}, {\"name\": \"experiment_status_description\", \"run_id\": \"AutoML_f152ea1b-337e-453f-b35a-6ed293cda5c5\", \"categories\": [0, 1, 2, 3, 4, 5, 6, 7, 8, 9, 10, 11, 12, 13], \"series\": [{\"data\": [\"Gathering dataset statistics.\", \"Generating features for the dataset.\", \"Beginning to fit featurizers and featurize the dataset.\", \"Completed fit featurizers and featurizing the dataset.\", \"Generating individually featurized CV splits.\", \"Beginning model selection.\", \"Best run model explanations started\", \"Model explanations data setup completed\", \"Choosing LightGBM as the surrogate model for explanations\", \"Computation of engineered features started\", \"Computation of engineered features completed\", \"Computation of raw features started\", \"Computation of raw features completed\", \"Best run model explanations completed\"]}]}], \"run_logs\": \"\\nRun is completed.\", \"graph\": {}, \"widget_settings\": {\"childWidgetDisplay\": \"popup\", \"send_telemetry\": false, \"log_level\": \"INFO\", \"sdk_version\": \"1.20.0\"}, \"loading\": false}"
     },
     "metadata": {},
     "output_type": "display_data"
    },
    {
     "name": "stdout",
     "output_type": "stream",
     "text": [
      "\n",
      "Current status: FeaturesGeneration. Generating features for the dataset.\n",
      "Current status: DatasetCrossValidationSplit. Generating individually featurized CV splits.\n",
      "Current status: ModelSelection. Beginning model selection.\n",
      "\n",
      "****************************************************************************************************\n",
      "DATA GUARDRAILS: \n",
      "\n",
      "TYPE:         Class balancing detection\n",
      "STATUS:       PASSED\n",
      "DESCRIPTION:  Your inputs were analyzed, and all classes are balanced in your training data.\n",
      "              Learn more about imbalanced data: https://aka.ms/AutomatedMLImbalancedData\n",
      "\n",
      "****************************************************************************************************\n",
      "\n",
      "TYPE:         Missing feature values imputation\n",
      "STATUS:       PASSED\n",
      "DESCRIPTION:  No feature missing values were detected in the training data.\n",
      "              Learn more about missing value imputation: https://aka.ms/AutomatedMLFeaturization\n",
      "\n",
      "****************************************************************************************************\n",
      "\n",
      "TYPE:         High cardinality feature detection\n",
      "STATUS:       PASSED\n",
      "DESCRIPTION:  Your inputs were analyzed, and no high cardinality features were detected.\n",
      "              Learn more about high cardinality feature handling: https://aka.ms/AutomatedMLFeaturization\n",
      "\n",
      "****************************************************************************************************\n",
      "\n",
      "****************************************************************************************************\n",
      "ITERATION: The iteration being evaluated.\n",
      "PIPELINE: A summary description of the pipeline being evaluated.\n",
      "DURATION: Time taken for the current iteration.\n",
      "METRIC: The result of computing score on the fitted pipeline.\n",
      "BEST: The best observed score thus far.\n",
      "****************************************************************************************************\n",
      "\n",
      " ITERATION   PIPELINE                                       DURATION      METRIC      BEST\n",
      "         1   MaxAbsScaler XGBoostClassifier                 0:00:54       0.8065    0.8065\n",
      "         0   MaxAbsScaler LightGBM                          0:00:58       0.8139    0.8139\n",
      "         3   MinMaxScaler RandomForest                      0:00:54       0.8288    0.8288\n",
      "         6   MaxAbsScaler LightGBM                          0:00:52       0.8289    0.8289\n",
      "         7   SparseNormalizer XGBoostClassifier             0:00:48       0.8212    0.8289\n",
      "         8   MaxAbsScaler LightGBM                          0:00:49       0.8176    0.8289\n",
      "         9   StandardScalerWrapper LogisticRegression       0:00:56       0.7953    0.8289\n",
      "         4   MinMaxScaler RandomForest                      0:05:29       0.8362    0.8362\n",
      "         5   SparseNormalizer XGBoostClassifier             0:05:30       0.8248    0.8362\n",
      "         2   MinMaxScaler RandomForest                      0:05:32       0.8140    0.8362\n",
      "        10   MinMaxScaler LightGBM                          0:00:49       0.8362    0.8362\n",
      "        12   RobustScaler ExtremeRandomTrees                0:00:49       0.8511    0.8511\n",
      "        11   SparseNormalizer XGBoostClassifier             0:00:54       0.8137    0.8511\n",
      "        13   SparseNormalizer LightGBM                      0:00:47       0.7989    0.8511\n",
      "        14   StandardScalerWrapper RandomForest             0:00:49       0.8400    0.8511\n",
      "        16   MaxAbsScaler ExtremeRandomTrees                0:00:45       0.8213    0.8511\n",
      "        15   StandardScalerWrapper LightGBM                 0:00:50       0.8251    0.8511\n",
      "        17   SparseNormalizer XGBoostClassifier             0:00:48       0.7841    0.8511\n",
      "        18   MinMaxScaler LightGBM                          0:00:50       0.8325    0.8511\n",
      "        19   RobustScaler RandomForest                      0:00:47       0.8140    0.8511\n",
      "        20   StandardScalerWrapper LightGBM                 0:00:49       0.8288    0.8511\n",
      "        21   StandardScalerWrapper LightGBM                 0:00:47       0.8176    0.8511\n",
      "        22   SparseNormalizer XGBoostClassifier             0:01:06       0.8212    0.8511\n",
      "        23   StandardScalerWrapper XGBoostClassifier        0:01:00       0.8215    0.8511\n",
      "        24   SparseNormalizer ExtremeRandomTrees            0:00:57       0.5425    0.8511\n",
      "        25   SparseNormalizer LightGBM                      0:00:55       0.7730    0.8511\n",
      "        26   StandardScalerWrapper XGBoostClassifier        0:00:49       0.8362    0.8511\n",
      "        27   MaxAbsScaler RandomForest                      0:00:55       0.8065    0.8511\n",
      "        28   RobustScaler ExtremeRandomTrees                0:00:49       0.7434    0.8511\n",
      "        29   StandardScalerWrapper ExtremeRandomTrees       0:00:52       0.8399    0.8511\n",
      "        30   SparseNormalizer ExtremeRandomTrees            0:00:52       0.6839    0.8511\n",
      "        31   StandardScalerWrapper XGBoostClassifier        0:00:49       0.8139    0.8511\n",
      "        32   StandardScalerWrapper XGBoostClassifier        0:00:52       0.8325    0.8511\n",
      "        33   MinMaxScaler LogisticRegression                0:00:47       0.7953    0.8511\n",
      "        34   SparseNormalizer XGBoostClassifier             0:00:49       0.8212    0.8511\n",
      "        36   StandardScalerWrapper RandomForest             0:00:46       0.8213    0.8511\n",
      "        35   MaxAbsScaler ExtremeRandomTrees                0:00:56       0.7877    0.8511\n",
      "        37   StandardScalerWrapper XGBoostClassifier        0:00:58       0.8066    0.8511\n",
      "        38   MaxAbsScaler LightGBM                          0:00:58       0.8362    0.8511\n",
      "        39   StandardScalerWrapper LightGBM                 0:00:49       0.8325    0.8511\n",
      "        40   MaxAbsScaler ExtremeRandomTrees                0:00:56       0.8102    0.8511\n",
      "        41   StandardScalerWrapper XGBoostClassifier        0:00:51       0.8102    0.8511\n",
      "        42   StandardScalerWrapper XGBoostClassifier        0:00:54       0.8028    0.8511\n",
      "        43   StandardScalerWrapper XGBoostClassifier        0:00:50       0.8176    0.8511\n",
      "        44   StandardScalerWrapper ExtremeRandomTrees       0:00:50       0.8362    0.8511\n",
      "        45   MaxAbsScaler LightGBM                          0:00:50       0.8103    0.8511\n",
      "        46   StandardScalerWrapper LightGBM                 0:00:54       0.8213    0.8511\n",
      "        47   StandardScalerWrapper LightGBM                 0:00:53       0.8102    0.8511\n",
      "        48   RobustScaler LightGBM                          0:00:46       0.8029    0.8511\n",
      "        49   MaxAbsScaler RandomForest                      0:00:55       0.7805    0.8511\n",
      "        50   RobustScaler ExtremeRandomTrees                0:00:49       0.8287    0.8511\n",
      "        51   StandardScalerWrapper RandomForest             0:00:59       0.7880    0.8511\n",
      "        52   MaxAbsScaler RandomForest                      0:00:51       0.8288    0.8511\n",
      "        53   StandardScalerWrapper XGBoostClassifier        0:00:58       0.8251    0.8511\n",
      "        54   MaxAbsScaler LightGBM                          0:00:48       0.8288    0.8511\n",
      "        55   SparseNormalizer ExtremeRandomTrees            0:01:01       0.7916    0.8511\n",
      "        56   MaxAbsScaler LightGBM                          0:00:55       0.8139    0.8511\n",
      "        57   MaxAbsScaler LightGBM                          0:01:02       0.8288    0.8511\n",
      "        58   StandardScalerWrapper LightGBM                 0:00:52       0.8400    0.8511\n",
      "        59   StandardScalerWrapper ExtremeRandomTrees       0:00:48       0.8250    0.8511\n",
      "        60   StandardScalerWrapper GradientBoosting         0:00:55       0.8325    0.8511\n",
      "        61   MaxAbsScaler LightGBM                          0:00:58       0.8177    0.8511\n",
      "        62   MaxAbsScaler LightGBM                          0:00:50       0.8064    0.8511\n",
      "        63   SparseNormalizer XGBoostClassifier             0:00:56       0.8361    0.8511\n",
      "        64   SparseNormalizer LightGBM                      0:00:51       0.7471    0.8511\n",
      "        65   StandardScalerWrapper ExtremeRandomTrees       0:00:51       0.8324    0.8511\n",
      "        66   StandardScalerWrapper XGBoostClassifier        0:00:54       0.8362    0.8511\n",
      "        67   StandardScalerWrapper XGBoostClassifier        0:00:52       0.8474    0.8511\n",
      "        68   StandardScalerWrapper LightGBM                 0:00:52       0.8362    0.8511\n",
      "        69   MaxAbsScaler LightGBM                          0:00:49       0.8474    0.8511\n",
      "        70   MinMaxScaler ExtremeRandomTrees                0:00:53       0.8324    0.8511\n",
      "        71   StandardScalerWrapper XGBoostClassifier        0:00:54       0.8474    0.8511\n",
      "        72   StandardScalerWrapper XGBoostClassifier        0:00:58       0.8065    0.8511\n",
      "        73   StandardScalerWrapper XGBoostClassifier        0:00:49       0.8287    0.8511\n",
      "        74   MaxAbsScaler LightGBM                          0:00:55       0.8362    0.8511\n",
      "        75   MinMaxScaler ExtremeRandomTrees                0:00:55       0.8288    0.8511\n",
      "        77   StandardScalerWrapper XGBoostClassifier        0:00:49       0.8140    0.8511\n",
      "        76   StandardScalerWrapper XGBoostClassifier        0:01:04       0.8213    0.8511\n",
      "        78   MaxAbsScaler RandomForest                      0:00:55       0.8361    0.8511\n",
      "        79   StandardScalerWrapper XGBoostClassifier        0:00:59       0.8325    0.8511\n",
      "        80   StandardScalerWrapper ExtremeRandomTrees       0:00:51       0.8250    0.8511\n",
      "        81   StandardScalerWrapper XGBoostClassifier        0:00:52       0.8065    0.8511\n",
      "        82   StandardScalerWrapper XGBoostClassifier        0:00:53       0.8177    0.8511\n",
      "        84   StandardScalerWrapper XGBoostClassifier        0:00:51       0.8362    0.8511\n",
      "        83   StandardScalerWrapper RandomForest             0:01:02       0.8362    0.8511\n",
      "        85   StandardScalerWrapper ExtremeRandomTrees       0:00:56       0.7917    0.8511\n",
      "        86   StandardScalerWrapper LightGBM                 0:00:50       0.8325    0.8511\n",
      "        87                                                  0:00:21          nan    0.8511\n",
      "ERROR: {\n",
      "    \"additional_properties\": {},\n",
      "    \"error\": {\n",
      "        \"additional_properties\": {\n",
      "            \"debugInfo\": null\n",
      "        },\n",
      "        \"code\": \"UserError\",\n",
      "        \"severity\": null,\n",
      "        \"message\": \"Experiment timeout reached, please consider increasing your experiment timeout.\",\n",
      "        \"message_format\": \"Experiment timeout reached, please consider increasing your experiment timeout.\",\n",
      "        \"message_parameters\": {},\n",
      "        \"reference_code\": null,\n",
      "        \"details_uri\": null,\n",
      "        \"target\": null,\n",
      "        \"details\": [],\n",
      "        \"inner_error\": {\n",
      "            \"additional_properties\": {},\n",
      "            \"code\": \"ResourceExhausted\",\n",
      "            \"inner_error\": {\n",
      "                \"additional_properties\": {},\n",
      "                \"code\": \"Timeout\",\n",
      "                \"inner_error\": {\n",
      "                    \"additional_properties\": {},\n",
      "                    \"code\": \"ExperimentTimeoutForIterations\",\n",
      "                    \"inner_error\": null\n",
      "                }\n",
      "            }\n",
      "        }\n",
      "    },\n",
      "    \"correlation\": null,\n",
      "    \"environment\": null,\n",
      "    \"location\": null,\n",
      "    \"time\": {},\n",
      "    \"component_name\": null\n",
      "}\n",
      "        88                                                  0:00:08          nan    0.8511\n",
      "ERROR: {\n",
      "    \"additional_properties\": {},\n",
      "    \"error\": {\n",
      "        \"additional_properties\": {\n",
      "            \"debugInfo\": null\n",
      "        },\n",
      "        \"code\": \"UserError\",\n",
      "        \"severity\": null,\n",
      "        \"message\": \"Experiment timeout reached, please consider increasing your experiment timeout.\",\n",
      "        \"message_format\": \"Experiment timeout reached, please consider increasing your experiment timeout.\",\n",
      "        \"message_parameters\": {},\n",
      "        \"reference_code\": null,\n",
      "        \"details_uri\": null,\n",
      "        \"target\": null,\n",
      "        \"details\": [],\n",
      "        \"inner_error\": {\n",
      "            \"additional_properties\": {},\n",
      "            \"code\": \"ResourceExhausted\",\n",
      "            \"inner_error\": {\n",
      "                \"additional_properties\": {},\n",
      "                \"code\": \"Timeout\",\n",
      "                \"inner_error\": {\n",
      "                    \"additional_properties\": {},\n",
      "                    \"code\": \"ExperimentTimeoutForIterations\",\n",
      "                    \"inner_error\": null\n",
      "                }\n",
      "            }\n",
      "        }\n",
      "    },\n",
      "    \"correlation\": null,\n",
      "    \"environment\": null,\n",
      "    \"location\": null,\n",
      "    \"time\": {},\n",
      "    \"component_name\": null\n",
      "}\n",
      "        89                                                  0:00:17          nan    0.8511\n",
      "ERROR: {\n",
      "    \"additional_properties\": {},\n",
      "    \"error\": {\n",
      "        \"additional_properties\": {\n",
      "            \"debugInfo\": null\n",
      "        },\n",
      "        \"code\": \"UserError\",\n",
      "        \"severity\": null,\n",
      "        \"message\": \"Experiment timeout reached, please consider increasing your experiment timeout.\",\n",
      "        \"message_format\": \"Experiment timeout reached, please consider increasing your experiment timeout.\",\n",
      "        \"message_parameters\": {},\n",
      "        \"reference_code\": null,\n",
      "        \"details_uri\": null,\n",
      "        \"target\": null,\n",
      "        \"details\": [],\n",
      "        \"inner_error\": {\n",
      "            \"additional_properties\": {},\n",
      "            \"code\": \"ResourceExhausted\",\n",
      "            \"inner_error\": {\n",
      "                \"additional_properties\": {},\n",
      "                \"code\": \"Timeout\",\n",
      "                \"inner_error\": {\n",
      "                    \"additional_properties\": {},\n",
      "                    \"code\": \"ExperimentTimeoutForIterations\",\n",
      "                    \"inner_error\": null\n",
      "                }\n",
      "            }\n",
      "        }\n",
      "    },\n",
      "    \"correlation\": null,\n",
      "    \"environment\": null,\n",
      "    \"location\": null,\n",
      "    \"time\": {},\n",
      "    \"component_name\": null\n",
      "}\n",
      "        91    StackEnsemble                                 0:01:47       0.8361    0.8511\n",
      "        90    VotingEnsemble                                0:01:51       0.8511    0.8511\n"
     ]
    },
    {
     "data": {
      "text/plain": [
       "{'runId': 'AutoML_f152ea1b-337e-453f-b35a-6ed293cda5c5',\n",
       " 'target': 'compute-cluster',\n",
       " 'status': 'Completed',\n",
       " 'startTimeUtc': '2021-02-15T18:52:58.411777Z',\n",
       " 'endTimeUtc': '2021-02-15T19:36:36.540875Z',\n",
       " 'properties': {'num_iterations': '1000',\n",
       "  'training_type': 'TrainFull',\n",
       "  'acquisition_function': 'EI',\n",
       "  'primary_metric': 'accuracy',\n",
       "  'train_split': '0',\n",
       "  'acquisition_parameter': '0',\n",
       "  'num_cross_validation': '3',\n",
       "  'target': 'compute-cluster',\n",
       "  'AMLSettingsJsonString': '{\"path\":null,\"name\":\"new-experiment\",\"subscription_id\":\"aa7cf8e8-d23f-4bce-a7b9-1f0b4e0ac8ee\",\"resource_group\":\"aml-quickstarts-138975\",\"workspace_name\":\"quick-starts-ws-138975\",\"region\":\"southcentralus\",\"compute_target\":\"compute-cluster\",\"spark_service\":null,\"azure_service\":\"remote\",\"many_models\":false,\"pipeline_fetch_max_batch_size\":1,\"iterations\":1000,\"primary_metric\":\"accuracy\",\"task_type\":\"classification\",\"data_script\":null,\"validation_size\":0.0,\"n_cross_validations\":3,\"y_min\":null,\"y_max\":null,\"num_classes\":null,\"featurization\":\"auto\",\"_ignore_package_version_incompatibilities\":false,\"is_timeseries\":false,\"max_cores_per_iteration\":1,\"max_concurrent_iterations\":4,\"iteration_timeout_minutes\":null,\"mem_in_mb\":null,\"enforce_time_on_windows\":false,\"experiment_timeout_minutes\":30,\"experiment_exit_score\":null,\"whitelist_models\":null,\"blacklist_algos\":[\"TensorFlowLinearClassifier\",\"TensorFlowDNN\"],\"supported_models\":[\"SGD\",\"ExtremeRandomTrees\",\"TensorFlowLinearClassifier\",\"XGBoostClassifier\",\"BernoulliNaiveBayes\",\"LinearSVM\",\"GradientBoosting\",\"SVM\",\"DecisionTree\",\"AveragedPerceptronClassifier\",\"TensorFlowDNN\",\"LightGBM\",\"RandomForest\",\"MultinomialNaiveBayes\",\"KNN\",\"LogisticRegression\"],\"auto_blacklist\":true,\"blacklist_samples_reached\":false,\"exclude_nan_labels\":true,\"verbosity\":20,\"_debug_log\":\"azureml_automl.log\",\"show_warnings\":false,\"model_explainability\":true,\"service_url\":null,\"sdk_url\":null,\"sdk_packages\":null,\"enable_onnx_compatible_models\":false,\"enable_split_onnx_featurizer_estimator_models\":false,\"vm_type\":\"STANDARD_D2_V2\",\"telemetry_verbosity\":20,\"send_telemetry\":true,\"enable_dnn\":false,\"scenario\":\"SDK-1.13.0\",\"environment_label\":null,\"force_text_dnn\":false,\"enable_feature_sweeping\":true,\"enable_early_stopping\":false,\"early_stopping_n_iters\":10,\"metrics\":null,\"enable_ensembling\":true,\"enable_stack_ensembling\":true,\"ensemble_iterations\":15,\"enable_tf\":false,\"enable_subsampling\":null,\"subsample_seed\":null,\"enable_nimbusml\":false,\"enable_streaming\":false,\"force_streaming\":false,\"track_child_runs\":true,\"allowed_private_models\":[],\"label_column_name\":\"DEATH_EVENT\",\"weight_column_name\":null,\"cv_split_column_names\":null,\"enable_local_managed\":false,\"_local_managed_run_id\":null,\"cost_mode\":1,\"lag_length\":0,\"metric_operation\":\"maximize\",\"preprocess\":true}',\n",
       "  'DataPrepJsonString': '{\\\\\"training_data\\\\\": \\\\\"{\\\\\\\\\\\\\"blocks\\\\\\\\\\\\\": [{\\\\\\\\\\\\\"id\\\\\\\\\\\\\": \\\\\\\\\\\\\"4e1d5859-453f-47f4-b4f2-a984371dcd1e\\\\\\\\\\\\\", \\\\\\\\\\\\\"type\\\\\\\\\\\\\": \\\\\\\\\\\\\"Microsoft.DPrep.GetDatastoreFilesBlock\\\\\\\\\\\\\", \\\\\\\\\\\\\"arguments\\\\\\\\\\\\\": {\\\\\\\\\\\\\"datastores\\\\\\\\\\\\\": [{\\\\\\\\\\\\\"datastoreName\\\\\\\\\\\\\": \\\\\\\\\\\\\"workspaceblobstore\\\\\\\\\\\\\", \\\\\\\\\\\\\"path\\\\\\\\\\\\\": \\\\\\\\\\\\\"UI/02-15-2021_064701_UTC/heart_failure_clinical_records_dataset.csv\\\\\\\\\\\\\", \\\\\\\\\\\\\"resourceGroup\\\\\\\\\\\\\": \\\\\\\\\\\\\"aml-quickstarts-138975\\\\\\\\\\\\\", \\\\\\\\\\\\\"subscription\\\\\\\\\\\\\": \\\\\\\\\\\\\"aa7cf8e8-d23f-4bce-a7b9-1f0b4e0ac8ee\\\\\\\\\\\\\", \\\\\\\\\\\\\"workspaceName\\\\\\\\\\\\\": \\\\\\\\\\\\\"quick-starts-ws-138975\\\\\\\\\\\\\"}]}, \\\\\\\\\\\\\"localData\\\\\\\\\\\\\": {}, \\\\\\\\\\\\\"isEnabled\\\\\\\\\\\\\": true, \\\\\\\\\\\\\"name\\\\\\\\\\\\\": null, \\\\\\\\\\\\\"annotation\\\\\\\\\\\\\": null}, {\\\\\\\\\\\\\"id\\\\\\\\\\\\\": \\\\\\\\\\\\\"49377a12-6704-42c3-b084-d61651d4898c\\\\\\\\\\\\\", \\\\\\\\\\\\\"type\\\\\\\\\\\\\": \\\\\\\\\\\\\"Microsoft.DPrep.ParseDelimitedBlock\\\\\\\\\\\\\", \\\\\\\\\\\\\"arguments\\\\\\\\\\\\\": {\\\\\\\\\\\\\"columnHeadersMode\\\\\\\\\\\\\": 3, \\\\\\\\\\\\\"fileEncoding\\\\\\\\\\\\\": 0, \\\\\\\\\\\\\"handleQuotedLineBreaks\\\\\\\\\\\\\": false, \\\\\\\\\\\\\"preview\\\\\\\\\\\\\": false, \\\\\\\\\\\\\"separator\\\\\\\\\\\\\": \\\\\\\\\\\\\",\\\\\\\\\\\\\", \\\\\\\\\\\\\"skipRows\\\\\\\\\\\\\": 0, \\\\\\\\\\\\\"skipRowsMode\\\\\\\\\\\\\": 0}, \\\\\\\\\\\\\"localData\\\\\\\\\\\\\": {}, \\\\\\\\\\\\\"isEnabled\\\\\\\\\\\\\": true, \\\\\\\\\\\\\"name\\\\\\\\\\\\\": null, \\\\\\\\\\\\\"annotation\\\\\\\\\\\\\": null}, {\\\\\\\\\\\\\"id\\\\\\\\\\\\\": \\\\\\\\\\\\\"52c28444-8527-4dd7-be62-8f0650dc3e59\\\\\\\\\\\\\", \\\\\\\\\\\\\"type\\\\\\\\\\\\\": \\\\\\\\\\\\\"Microsoft.DPrep.DropColumnsBlock\\\\\\\\\\\\\", \\\\\\\\\\\\\"arguments\\\\\\\\\\\\\": {\\\\\\\\\\\\\"columns\\\\\\\\\\\\\": {\\\\\\\\\\\\\"type\\\\\\\\\\\\\": 0, \\\\\\\\\\\\\"details\\\\\\\\\\\\\": {\\\\\\\\\\\\\"selectedColumns\\\\\\\\\\\\\": [\\\\\\\\\\\\\"Path\\\\\\\\\\\\\"]}}}, \\\\\\\\\\\\\"localData\\\\\\\\\\\\\": {}, \\\\\\\\\\\\\"isEnabled\\\\\\\\\\\\\": true, \\\\\\\\\\\\\"name\\\\\\\\\\\\\": null, \\\\\\\\\\\\\"annotation\\\\\\\\\\\\\": null}, {\\\\\\\\\\\\\"id\\\\\\\\\\\\\": \\\\\\\\\\\\\"869c179b-a80a-4ea5-b85d-aea809c7491c\\\\\\\\\\\\\", \\\\\\\\\\\\\"type\\\\\\\\\\\\\": \\\\\\\\\\\\\"Microsoft.DPrep.SetColumnTypesBlock\\\\\\\\\\\\\", \\\\\\\\\\\\\"arguments\\\\\\\\\\\\\": {\\\\\\\\\\\\\"columnConversion\\\\\\\\\\\\\": [{\\\\\\\\\\\\\"column\\\\\\\\\\\\\": {\\\\\\\\\\\\\"type\\\\\\\\\\\\\": 2, \\\\\\\\\\\\\"details\\\\\\\\\\\\\": {\\\\\\\\\\\\\"selectedColumn\\\\\\\\\\\\\": \\\\\\\\\\\\\"Path\\\\\\\\\\\\\"}}, \\\\\\\\\\\\\"typeProperty\\\\\\\\\\\\\": 0}, {\\\\\\\\\\\\\"column\\\\\\\\\\\\\": {\\\\\\\\\\\\\"type\\\\\\\\\\\\\": 2, \\\\\\\\\\\\\"details\\\\\\\\\\\\\": {\\\\\\\\\\\\\"selectedColumn\\\\\\\\\\\\\": \\\\\\\\\\\\\"age\\\\\\\\\\\\\"}}, \\\\\\\\\\\\\"typeProperty\\\\\\\\\\\\\": 3}, {\\\\\\\\\\\\\"column\\\\\\\\\\\\\": {\\\\\\\\\\\\\"type\\\\\\\\\\\\\": 2, \\\\\\\\\\\\\"details\\\\\\\\\\\\\": {\\\\\\\\\\\\\"selectedColumn\\\\\\\\\\\\\": \\\\\\\\\\\\\"anaemia\\\\\\\\\\\\\"}}, \\\\\\\\\\\\\"typeProperty\\\\\\\\\\\\\": 2}, {\\\\\\\\\\\\\"column\\\\\\\\\\\\\": {\\\\\\\\\\\\\"type\\\\\\\\\\\\\": 2, \\\\\\\\\\\\\"details\\\\\\\\\\\\\": {\\\\\\\\\\\\\"selectedColumn\\\\\\\\\\\\\": \\\\\\\\\\\\\"creatinine_phosphokinase\\\\\\\\\\\\\"}}, \\\\\\\\\\\\\"typeProperty\\\\\\\\\\\\\": 2}, {\\\\\\\\\\\\\"column\\\\\\\\\\\\\": {\\\\\\\\\\\\\"type\\\\\\\\\\\\\": 2, \\\\\\\\\\\\\"details\\\\\\\\\\\\\": {\\\\\\\\\\\\\"selectedColumn\\\\\\\\\\\\\": \\\\\\\\\\\\\"diabetes\\\\\\\\\\\\\"}}, \\\\\\\\\\\\\"typeProperty\\\\\\\\\\\\\": 2}, {\\\\\\\\\\\\\"column\\\\\\\\\\\\\": {\\\\\\\\\\\\\"type\\\\\\\\\\\\\": 2, \\\\\\\\\\\\\"details\\\\\\\\\\\\\": {\\\\\\\\\\\\\"selectedColumn\\\\\\\\\\\\\": \\\\\\\\\\\\\"ejection_fraction\\\\\\\\\\\\\"}}, \\\\\\\\\\\\\"typeProperty\\\\\\\\\\\\\": 2}, {\\\\\\\\\\\\\"column\\\\\\\\\\\\\": {\\\\\\\\\\\\\"type\\\\\\\\\\\\\": 2, \\\\\\\\\\\\\"details\\\\\\\\\\\\\": {\\\\\\\\\\\\\"selectedColumn\\\\\\\\\\\\\": \\\\\\\\\\\\\"high_blood_pressure\\\\\\\\\\\\\"}}, \\\\\\\\\\\\\"typeProperty\\\\\\\\\\\\\": 2}, {\\\\\\\\\\\\\"column\\\\\\\\\\\\\": {\\\\\\\\\\\\\"type\\\\\\\\\\\\\": 2, \\\\\\\\\\\\\"details\\\\\\\\\\\\\": {\\\\\\\\\\\\\"selectedColumn\\\\\\\\\\\\\": \\\\\\\\\\\\\"platelets\\\\\\\\\\\\\"}}, \\\\\\\\\\\\\"typeProperty\\\\\\\\\\\\\": 3}, {\\\\\\\\\\\\\"column\\\\\\\\\\\\\": {\\\\\\\\\\\\\"type\\\\\\\\\\\\\": 2, \\\\\\\\\\\\\"details\\\\\\\\\\\\\": {\\\\\\\\\\\\\"selectedColumn\\\\\\\\\\\\\": \\\\\\\\\\\\\"serum_creatinine\\\\\\\\\\\\\"}}, \\\\\\\\\\\\\"typeProperty\\\\\\\\\\\\\": 3}, {\\\\\\\\\\\\\"column\\\\\\\\\\\\\": {\\\\\\\\\\\\\"type\\\\\\\\\\\\\": 2, \\\\\\\\\\\\\"details\\\\\\\\\\\\\": {\\\\\\\\\\\\\"selectedColumn\\\\\\\\\\\\\": \\\\\\\\\\\\\"serum_sodium\\\\\\\\\\\\\"}}, \\\\\\\\\\\\\"typeProperty\\\\\\\\\\\\\": 2}, {\\\\\\\\\\\\\"column\\\\\\\\\\\\\": {\\\\\\\\\\\\\"type\\\\\\\\\\\\\": 2, \\\\\\\\\\\\\"details\\\\\\\\\\\\\": {\\\\\\\\\\\\\"selectedColumn\\\\\\\\\\\\\": \\\\\\\\\\\\\"sex\\\\\\\\\\\\\"}}, \\\\\\\\\\\\\"typeProperty\\\\\\\\\\\\\": 2}, {\\\\\\\\\\\\\"column\\\\\\\\\\\\\": {\\\\\\\\\\\\\"type\\\\\\\\\\\\\": 2, \\\\\\\\\\\\\"details\\\\\\\\\\\\\": {\\\\\\\\\\\\\"selectedColumn\\\\\\\\\\\\\": \\\\\\\\\\\\\"smoking\\\\\\\\\\\\\"}}, \\\\\\\\\\\\\"typeProperty\\\\\\\\\\\\\": 2}, {\\\\\\\\\\\\\"column\\\\\\\\\\\\\": {\\\\\\\\\\\\\"type\\\\\\\\\\\\\": 2, \\\\\\\\\\\\\"details\\\\\\\\\\\\\": {\\\\\\\\\\\\\"selectedColumn\\\\\\\\\\\\\": \\\\\\\\\\\\\"time\\\\\\\\\\\\\"}}, \\\\\\\\\\\\\"typeProperty\\\\\\\\\\\\\": 2}, {\\\\\\\\\\\\\"column\\\\\\\\\\\\\": {\\\\\\\\\\\\\"type\\\\\\\\\\\\\": 2, \\\\\\\\\\\\\"details\\\\\\\\\\\\\": {\\\\\\\\\\\\\"selectedColumn\\\\\\\\\\\\\": \\\\\\\\\\\\\"DEATH_EVENT\\\\\\\\\\\\\"}}, \\\\\\\\\\\\\"typeProperty\\\\\\\\\\\\\": 2}]}, \\\\\\\\\\\\\"localData\\\\\\\\\\\\\": {}, \\\\\\\\\\\\\"isEnabled\\\\\\\\\\\\\": true, \\\\\\\\\\\\\"name\\\\\\\\\\\\\": null, \\\\\\\\\\\\\"annotation\\\\\\\\\\\\\": null}, {\\\\\\\\\\\\\"id\\\\\\\\\\\\\": \\\\\\\\\\\\\"d4702808-691b-4115-aac8-a42ad08278dc\\\\\\\\\\\\\", \\\\\\\\\\\\\"type\\\\\\\\\\\\\": \\\\\\\\\\\\\"Microsoft.DPrep.TakeSampleBlock\\\\\\\\\\\\\", \\\\\\\\\\\\\"arguments\\\\\\\\\\\\\": {\\\\\\\\\\\\\"probability\\\\\\\\\\\\\": 0.9, \\\\\\\\\\\\\"probabilityLowerBound\\\\\\\\\\\\\": 0.0, \\\\\\\\\\\\\"seed\\\\\\\\\\\\\": 888299196}, \\\\\\\\\\\\\"localData\\\\\\\\\\\\\": {}, \\\\\\\\\\\\\"isEnabled\\\\\\\\\\\\\": true, \\\\\\\\\\\\\"name\\\\\\\\\\\\\": null, \\\\\\\\\\\\\"annotation\\\\\\\\\\\\\": null}], \\\\\\\\\\\\\"inspectors\\\\\\\\\\\\\": [], \\\\\\\\\\\\\"meta\\\\\\\\\\\\\": {\\\\\\\\\\\\\"savedDatasetId\\\\\\\\\\\\\": \\\\\\\\\\\\\"fe08c28a-8217-4baa-b04f-45734937ae05\\\\\\\\\\\\\", \\\\\\\\\\\\\"datasetType\\\\\\\\\\\\\": \\\\\\\\\\\\\"tabular\\\\\\\\\\\\\", \\\\\\\\\\\\\"subscriptionId\\\\\\\\\\\\\": \\\\\\\\\\\\\"aa7cf8e8-d23f-4bce-a7b9-1f0b4e0ac8ee\\\\\\\\\\\\\", \\\\\\\\\\\\\"workspaceId\\\\\\\\\\\\\": \\\\\\\\\\\\\"ce6ecb49-c51d-4332-82ca-133ce81ca160\\\\\\\\\\\\\", \\\\\\\\\\\\\"workspaceLocation\\\\\\\\\\\\\": \\\\\\\\\\\\\"southcentralus\\\\\\\\\\\\\"}}\\\\\", \\\\\"activities\\\\\": 0}',\n",
       "  'EnableSubsampling': None,\n",
       "  'runTemplate': 'AutoML',\n",
       "  'azureml.runsource': 'automl',\n",
       "  'display_task_type': 'classification',\n",
       "  'dependencies_versions': '{\"azureml-widgets\": \"1.20.0\", \"azureml-train\": \"1.20.0\", \"azureml-train-restclients-hyperdrive\": \"1.20.0\", \"azureml-train-core\": \"1.20.0\", \"azureml-train-automl\": \"1.20.0\", \"azureml-train-automl-runtime\": \"1.20.0\", \"azureml-train-automl-client\": \"1.20.0\", \"azureml-tensorboard\": \"1.20.0\", \"azureml-telemetry\": \"1.20.0\", \"azureml-sdk\": \"1.20.0\", \"azureml-samples\": \"0+unknown\", \"azureml-pipeline\": \"1.20.0\", \"azureml-pipeline-steps\": \"1.20.0\", \"azureml-pipeline-core\": \"1.20.0\", \"azureml-opendatasets\": \"1.20.0\", \"azureml-model-management-sdk\": \"1.0.1b6.post1\", \"azureml-mlflow\": \"1.20.0.post1\", \"azureml-interpret\": \"1.20.0\", \"azureml-explain-model\": \"1.20.0\", \"azureml-defaults\": \"1.20.0\", \"azureml-dataset-runtime\": \"1.20.0\", \"azureml-dataprep\": \"2.7.3\", \"azureml-dataprep-rslex\": \"1.5.0\", \"azureml-dataprep-native\": \"27.0.0\", \"azureml-datadrift\": \"1.20.0\", \"azureml-core\": \"1.20.0\", \"azureml-contrib-services\": \"1.20.0\", \"azureml-contrib-server\": \"1.20.0\", \"azureml-contrib-reinforcementlearning\": \"1.20.0\", \"azureml-contrib-pipeline-steps\": \"1.20.0\", \"azureml-contrib-notebook\": \"1.20.0\", \"azureml-contrib-interpret\": \"1.20.0\", \"azureml-contrib-gbdt\": \"1.20.0\", \"azureml-contrib-fairness\": \"1.20.0\", \"azureml-contrib-dataset\": \"1.20.0\", \"azureml-cli-common\": \"1.20.0\", \"azureml-automl-runtime\": \"1.20.0\", \"azureml-automl-core\": \"1.20.0\", \"azureml-accel-models\": \"1.20.0\"}',\n",
       "  '_aml_system_scenario_identification': 'Remote.Parent',\n",
       "  'ClientType': 'SDK',\n",
       "  'environment_cpu_name': 'AzureML-AutoML',\n",
       "  'environment_cpu_label': 'prod',\n",
       "  'environment_gpu_name': 'AzureML-AutoML-GPU',\n",
       "  'environment_gpu_label': 'prod',\n",
       "  'root_attribution': 'automl',\n",
       "  'attribution': 'AutoML',\n",
       "  'Orchestrator': 'AutoML',\n",
       "  'CancelUri': 'https://southcentralus.experiments.azureml.net/jasmine/v1.0/subscriptions/aa7cf8e8-d23f-4bce-a7b9-1f0b4e0ac8ee/resourceGroups/aml-quickstarts-138975/providers/Microsoft.MachineLearningServices/workspaces/quick-starts-ws-138975/experimentids/9836fa7b-dd04-4fd6-86ce-4e1ad3d707ff/cancel/AutoML_f152ea1b-337e-453f-b35a-6ed293cda5c5',\n",
       "  'ClientSdkVersion': '1.21.0',\n",
       "  'snapshotId': '00000000-0000-0000-0000-000000000000',\n",
       "  'SetupRunId': 'AutoML_f152ea1b-337e-453f-b35a-6ed293cda5c5_setup',\n",
       "  'SetupRunContainerId': 'dcid.AutoML_f152ea1b-337e-453f-b35a-6ed293cda5c5_setup',\n",
       "  'FeaturizationRunJsonPath': 'featurizer_container.json',\n",
       "  'FeaturizationRunId': 'AutoML_f152ea1b-337e-453f-b35a-6ed293cda5c5_featurize',\n",
       "  'ProblemInfoJsonString': '{\"dataset_num_categorical\": 0, \"is_sparse\": false, \"subsampling\": false, \"dataset_classes\": 2, \"dataset_features\": 12, \"dataset_samples\": 269, \"single_frequency_class_detected\": false}',\n",
       "  'ModelExplainRunId': 'AutoML_f152ea1b-337e-453f-b35a-6ed293cda5c5_ModelExplain'},\n",
       " 'inputDatasets': [{'dataset': {'id': 'fe08c28a-8217-4baa-b04f-45734937ae05'}, 'consumptionDetails': {'type': 'RunInput', 'inputName': 'training_data', 'mechanism': 'Direct'}}],\n",
       " 'outputDatasets': [],\n",
       " 'logFiles': {},\n",
       " 'submittedBy': 'ODL_User 138975'}"
      ]
     },
     "execution_count": 10,
     "metadata": {},
     "output_type": "execute_result"
    }
   ],
   "source": [
    "RunDetails(remote_run).show()\n",
    "remote_run.wait_for_completion(show_output=True)"
   ]
  },
  {
   "cell_type": "markdown",
   "metadata": {},
   "source": [
    "## Best Model\n",
    "\n",
    "The best model from the automl experiments and all the properties of the model.\n",
    "\n"
   ]
  },
  {
   "cell_type": "code",
   "execution_count": 11,
   "metadata": {
    "gather": {
     "logged": 1598431425670
    },
    "jupyter": {
     "outputs_hidden": false,
     "source_hidden": false
    },
    "nteract": {
     "transient": {
      "deleting": false
     }
    }
   },
   "outputs": [
    {
     "name": "stderr",
     "output_type": "stream",
     "text": [
      "WARNING:root:The version of the SDK does not match the version the model was trained on.\n",
      "WARNING:root:The consistency in the result may not be guaranteed.\n",
      "WARNING:root:Package:azureml-automl-core, training version:1.21.0, current version:1.20.0\n",
      "Package:azureml-automl-runtime, training version:1.21.0, current version:1.20.0\n",
      "Package:azureml-core, training version:1.21.0.post1, current version:1.20.0\n",
      "Package:azureml-dataprep, training version:2.8.2, current version:2.7.3\n",
      "Package:azureml-dataprep-native, training version:28.0.0, current version:27.0.0\n",
      "Package:azureml-dataprep-rslex, training version:1.6.0, current version:1.5.0\n",
      "Package:azureml-dataset-runtime, training version:1.21.0, current version:1.20.0\n",
      "Package:azureml-defaults, training version:1.21.0, current version:1.20.0\n",
      "Package:azureml-interpret, training version:1.21.0, current version:1.20.0\n",
      "Package:azureml-pipeline-core, training version:1.21.0, current version:1.20.0\n",
      "Package:azureml-telemetry, training version:1.21.0, current version:1.20.0\n",
      "Package:azureml-train-automl-client, training version:1.21.0, current version:1.20.0\n",
      "Package:azureml-train-automl-runtime, training version:1.21.0, current version:1.20.0\n",
      "WARNING:root:Please ensure the version of your local conda dependencies match the version on which your model was trained in order to properly retrieve your model.\n"
     ]
    }
   ],
   "source": [
    "best_automl_run, best_automl_model = remote_run.get_output()"
   ]
  },
  {
   "cell_type": "code",
   "execution_count": 12,
   "metadata": {},
   "outputs": [
    {
     "name": "stdout",
     "output_type": "stream",
     "text": [
      "Run(Experiment: new-experiment,\n",
      "Id: AutoML_f152ea1b-337e-453f-b35a-6ed293cda5c5_12,\n",
      "Type: azureml.scriptrun,\n",
      "Status: Completed)\n"
     ]
    }
   ],
   "source": [
    "print(best_automl_run)"
   ]
  },
  {
   "cell_type": "code",
   "execution_count": 13,
   "metadata": {},
   "outputs": [
    {
     "name": "stdout",
     "output_type": "stream",
     "text": [
      "Pipeline(memory=None,\n",
      "         steps=[('datatransformer',\n",
      "                 DataTransformer(enable_dnn=None, enable_feature_sweeping=None,\n",
      "                                 feature_sweeping_config=None,\n",
      "                                 feature_sweeping_timeout=None,\n",
      "                                 featurization_config=None, force_text_dnn=None,\n",
      "                                 is_cross_validation=None,\n",
      "                                 is_onnx_compatible=None, logger=None,\n",
      "                                 observer=None, task=None, working_dir=None)),\n",
      "                ('RobustScaler',\n",
      "                 RobustScaler(copy...\n",
      "                 ExtraTreesClassifier(bootstrap=False, ccp_alpha=0.0,\n",
      "                                      class_weight=None, criterion='entropy',\n",
      "                                      max_depth=None, max_features=0.8,\n",
      "                                      max_leaf_nodes=None, max_samples=None,\n",
      "                                      min_impurity_decrease=0.0,\n",
      "                                      min_impurity_split=None,\n",
      "                                      min_samples_leaf=0.01,\n",
      "                                      min_samples_split=0.2442105263157895,\n",
      "                                      min_weight_fraction_leaf=0.0,\n",
      "                                      n_estimators=100, n_jobs=1,\n",
      "                                      oob_score=False, random_state=None,\n",
      "                                      verbose=0, warm_start=False))],\n",
      "         verbose=False)\n"
     ]
    }
   ],
   "source": [
    "print(best_automl_model)"
   ]
  },
  {
   "cell_type": "code",
   "execution_count": 14,
   "metadata": {},
   "outputs": [
    {
     "data": {
      "text/html": [
       "<table style=\"width:100%\"><tr><th>Experiment</th><th>Id</th><th>Type</th><th>Status</th><th>Details Page</th><th>Docs Page</th></tr><tr><td>new-experiment</td><td>AutoML_f152ea1b-337e-453f-b35a-6ed293cda5c5_12</td><td>azureml.scriptrun</td><td>Completed</td><td><a href=\"https://ml.azure.com/experiments/new-experiment/runs/AutoML_f152ea1b-337e-453f-b35a-6ed293cda5c5_12?wsid=/subscriptions/aa7cf8e8-d23f-4bce-a7b9-1f0b4e0ac8ee/resourcegroups/aml-quickstarts-138975/workspaces/quick-starts-ws-138975\" target=\"_blank\" rel=\"noopener\">Link to Azure Machine Learning studio</a></td><td><a href=\"https://docs.microsoft.com/en-us/python/api/azureml-core/azureml.core.run.Run?view=azure-ml-py\" target=\"_blank\" rel=\"noopener\">Link to Documentation</a></td></tr></table>"
      ],
      "text/plain": [
       "Run(Experiment: new-experiment,\n",
       "Id: AutoML_f152ea1b-337e-453f-b35a-6ed293cda5c5_12,\n",
       "Type: azureml.scriptrun,\n",
       "Status: Completed)"
      ]
     },
     "execution_count": 14,
     "metadata": {},
     "output_type": "execute_result"
    }
   ],
   "source": [
    "best_automl_run"
   ]
  },
  {
   "cell_type": "code",
   "execution_count": 15,
   "metadata": {},
   "outputs": [
    {
     "name": "stdout",
     "output_type": "stream",
     "text": [
      "balanced_accuracy 0.7900516149605301\n",
      "accuracy 0.8510611735330836\n",
      "weighted_accuracy 0.8974500342817061\n",
      "recall_score_micro 0.8510611735330836\n",
      "recall_score_macro 0.7900516149605301\n",
      "AUC_macro 0.8930183787413132\n",
      "f1_score_micro 0.8510611735330835\n",
      "precision_score_macro 0.865396616321274\n",
      "average_precision_score_macro 0.8726800216759836\n",
      "f1_score_weighted 0.8409775729322139\n",
      "AUC_micro 0.9034647337935363\n",
      "f1_score_macro 0.8097084065355808\n",
      "norm_macro_recall 0.5801032299210603\n",
      "recall_score_weighted 0.8510611735330836\n",
      "precision_score_micro 0.8510611735330836\n",
      "AUC_weighted 0.8930183787413132\n",
      "average_precision_score_weighted 0.896920744792375\n",
      "precision_score_weighted 0.8580149836608544\n",
      "matthews_correlation 0.6496246734527361\n",
      "average_precision_score_micro 0.9045405040263527\n",
      "log_loss 0.4080297119184397\n",
      "confusion_matrix aml://artifactId/ExperimentRun/dcid.AutoML_f152ea1b-337e-453f-b35a-6ed293cda5c5_12/confusion_matrix\n",
      "accuracy_table aml://artifactId/ExperimentRun/dcid.AutoML_f152ea1b-337e-453f-b35a-6ed293cda5c5_12/accuracy_table\n"
     ]
    }
   ],
   "source": [
    "get_best_automl_metrics = best_automl_run.get_metrics()\n",
    "\n",
    "for metric_name in get_best_automl_metrics:\n",
    "    metric = get_best_automl_metrics[metric_name]\n",
    "    print(metric_name, metric)"
   ]
  },
  {
   "cell_type": "code",
   "execution_count": 16,
   "metadata": {
    "gather": {
     "logged": 1598431426111
    },
    "jupyter": {
     "outputs_hidden": false,
     "source_hidden": false
    },
    "nteract": {
     "transient": {
      "deleting": false
     }
    }
   },
   "outputs": [
    {
     "name": "stdout",
     "output_type": "stream",
     "text": [
      "Model(workspace=Workspace.create(name='quick-starts-ws-138975', subscription_id='aa7cf8e8-d23f-4bce-a7b9-1f0b4e0ac8ee', resource_group='aml-quickstarts-138975'), name=best_automl_model, id=best_automl_model:1, version=1, tags={'Training context': 'Auto ML'}, properties={'Accuracy': '0.8510611735330836'})\n"
     ]
    }
   ],
   "source": [
    "# Save the best model\n",
    "model = best_automl_run.register_model(model_name = 'best_automl_model', model_path = 'outputs/model.pkl', \n",
    "                                       tags = {'Training context':'Auto ML'},\n",
    "                                       properties={'Accuracy': get_best_automl_metrics['accuracy']})\n",
    "print(model)"
   ]
  },
  {
   "cell_type": "code",
   "execution_count": 17,
   "metadata": {},
   "outputs": [
    {
     "name": "stdout",
     "output_type": "stream",
     "text": [
      "best_automl_model\n",
      "\t Training context : Auto ML\n",
      "\t Accuracy : 0.8510611735330836\n",
      "\n",
      "\n",
      "best_hyperdrive_model\n",
      "\t Training context : Hyper Drive\n",
      "\t Accuracy : 0.8\n",
      "\n",
      "\n"
     ]
    }
   ],
   "source": [
    "# List best models of HyperDrive Run and AutoML Run to compare the accuracy of the model\n",
    "from azureml.core.model import Model\n",
    "\n",
    "for model in Model.list(ws):\n",
    "    print(model.name)\n",
    "    for tag_name in model.tags:\n",
    "        tag = model.tags[tag_name]\n",
    "        print('\\t',tag_name,':',tag)\n",
    "    for prop_name in model.properties:\n",
    "        prop = model.properties[prop_name]\n",
    "        print('\\t',prop_name,':',prop)\n",
    "    print(\"\\n\")"
   ]
  },
  {
   "cell_type": "markdown",
   "metadata": {},
   "source": [
    "## Model Deployment\n",
    "\n",
    "Register the model, create an inference config and deploy the model as a web service."
   ]
  },
  {
   "cell_type": "code",
   "execution_count": 18,
   "metadata": {
    "gather": {
     "logged": 1598431435189
    },
    "jupyter": {
     "outputs_hidden": false,
     "source_hidden": false
    },
    "nteract": {
     "transient": {
      "deleting": false
     }
    }
   },
   "outputs": [],
   "source": [
    "# Download scoring file\n",
    "best_automl_run.download_file('outputs/scoring_file_v_1_0_0.py','score.py')\n",
    "\n",
    "# Download environment file\n",
    "best_automl_run.download_file('outputs/conda_env_v_1_0_0.yml', 'envFile.yml')"
   ]
  },
  {
   "cell_type": "code",
   "execution_count": 40,
   "metadata": {},
   "outputs": [],
   "source": [
    "# Create an inference config\n",
    "\n",
    "from azureml.core.environment import Environment\n",
    "from azureml.core.model import InferenceConfig\n",
    "from azureml.core.webservice import AciWebservice\n",
    "\n",
    "inference_config = InferenceConfig(entry_script='score.py',\n",
    "                                    environment=best_automl_run.get_environment())\n",
    "\n",
    "\n",
    "aci_config = AciWebservice.deploy_configuration(\n",
    "    cpu_cores=1,\n",
    "    memory_gb=1,\n",
    "    description='Heart failure prediction',\n",
    "    auth_enabled=True\n",
    ")"
   ]
  },
  {
   "cell_type": "code",
   "execution_count": 41,
   "metadata": {},
   "outputs": [
    {
     "name": "stdout",
     "output_type": "stream",
     "text": [
      "Tips: You can try get_logs(): https://aka.ms/debugimage#dockerlog or local deployment: https://aka.ms/debugimage#debug-locally to debug if deployment takes longer than 10 minutes.\n",
      "Running...........................................\n",
      "Failed\n"
     ]
    },
    {
     "name": "stderr",
     "output_type": "stream",
     "text": [
      "ERROR:azureml.core.webservice.webservice:Service deployment polling reached non-successful terminal state, current service state: Failed\n",
      "Operation ID: 5900cf9d-2af5-4b6a-9d1d-e317a322b091\n",
      "More information can be found using '.get_logs()'\n",
      "Error:\n",
      "{\n",
      "  \"code\": \"AciDeploymentFailed\",\n",
      "  \"statusCode\": 400,\n",
      "  \"message\": \"Aci Deployment failed with exception: Error in entry script, FileNotFoundError: [Errno 2] No such file or directory: 'azureml-models/best_hyperdrive_model/1/outputs/model.pkl', please run print(service.get_logs()) to get details.\",\n",
      "  \"details\": [\n",
      "    {\n",
      "      \"code\": \"CrashLoopBackOff\",\n",
      "      \"message\": \"Error in entry script, FileNotFoundError: [Errno 2] No such file or directory: 'azureml-models/best_hyperdrive_model/1/outputs/model.pkl', please run print(service.get_logs()) to get details.\"\n",
      "    }\n",
      "  ]\n",
      "}\n",
      "\n"
     ]
    },
    {
     "ename": "WebserviceException",
     "evalue": "WebserviceException:\n\tMessage: Service deployment polling reached non-successful terminal state, current service state: Failed\nOperation ID: 5900cf9d-2af5-4b6a-9d1d-e317a322b091\nMore information can be found using '.get_logs()'\nError:\n{\n  \"code\": \"AciDeploymentFailed\",\n  \"statusCode\": 400,\n  \"message\": \"Aci Deployment failed with exception: Error in entry script, FileNotFoundError: [Errno 2] No such file or directory: 'azureml-models/best_hyperdrive_model/1/outputs/model.pkl', please run print(service.get_logs()) to get details.\",\n  \"details\": [\n    {\n      \"code\": \"CrashLoopBackOff\",\n      \"message\": \"Error in entry script, FileNotFoundError: [Errno 2] No such file or directory: 'azureml-models/best_hyperdrive_model/1/outputs/model.pkl', please run print(service.get_logs()) to get details.\"\n    }\n  ]\n}\n\tInnerException None\n\tErrorResponse \n{\n    \"error\": {\n        \"message\": \"Service deployment polling reached non-successful terminal state, current service state: Failed\\nOperation ID: 5900cf9d-2af5-4b6a-9d1d-e317a322b091\\nMore information can be found using '.get_logs()'\\nError:\\n{\\n  \\\"code\\\": \\\"AciDeploymentFailed\\\",\\n  \\\"statusCode\\\": 400,\\n  \\\"message\\\": \\\"Aci Deployment failed with exception: Error in entry script, FileNotFoundError: [Errno 2] No such file or directory: 'azureml-models/best_hyperdrive_model/1/outputs/model.pkl', please run print(service.get_logs()) to get details.\\\",\\n  \\\"details\\\": [\\n    {\\n      \\\"code\\\": \\\"CrashLoopBackOff\\\",\\n      \\\"message\\\": \\\"Error in entry script, FileNotFoundError: [Errno 2] No such file or directory: 'azureml-models/best_hyperdrive_model/1/outputs/model.pkl', please run print(service.get_logs()) to get details.\\\"\\n    }\\n  ]\\n}\"\n    }\n}",
     "output_type": "error",
     "traceback": [
      "\u001b[0;31m---------------------------------------------------------------------------\u001b[0m",
      "\u001b[0;31mWebserviceException\u001b[0m                       Traceback (most recent call last)",
      "\u001b[0;32m<ipython-input-41-e65552f9f5c0>\u001b[0m in \u001b[0;36m<module>\u001b[0;34m\u001b[0m\n\u001b[1;32m     11\u001b[0m                        deployment_config=aci_config)\n\u001b[1;32m     12\u001b[0m \u001b[0;34m\u001b[0m\u001b[0m\n\u001b[0;32m---> 13\u001b[0;31m \u001b[0mservice\u001b[0m\u001b[0;34m.\u001b[0m\u001b[0mwait_for_deployment\u001b[0m\u001b[0;34m(\u001b[0m\u001b[0mshow_output\u001b[0m\u001b[0;34m=\u001b[0m\u001b[0;32mTrue\u001b[0m\u001b[0;34m)\u001b[0m\u001b[0;34m\u001b[0m\u001b[0;34m\u001b[0m\u001b[0m\n\u001b[0m",
      "\u001b[0;32m/anaconda/envs/azureml_py36/lib/python3.6/site-packages/azureml/core/webservice/webservice.py\u001b[0m in \u001b[0;36mwait_for_deployment\u001b[0;34m(self, show_output, timeout_sec)\u001b[0m\n\u001b[1;32m    913\u001b[0m                                           \u001b[0;34m'Error:\\n'\u001b[0m\u001b[0;34m\u001b[0m\u001b[0;34m\u001b[0m\u001b[0m\n\u001b[1;32m    914\u001b[0m                                           '{}'.format(self.state, self._operation_endpoint.split('/')[-1],\n\u001b[0;32m--> 915\u001b[0;31m                                                       logs_response, error_response), logger=module_logger)\n\u001b[0m\u001b[1;32m    916\u001b[0m             print('{} service creation operation finished, operation \"{}\"'.format(self._webservice_type,\n\u001b[1;32m    917\u001b[0m                                                                                   operation_state))\n",
      "\u001b[0;31mWebserviceException\u001b[0m: WebserviceException:\n\tMessage: Service deployment polling reached non-successful terminal state, current service state: Failed\nOperation ID: 5900cf9d-2af5-4b6a-9d1d-e317a322b091\nMore information can be found using '.get_logs()'\nError:\n{\n  \"code\": \"AciDeploymentFailed\",\n  \"statusCode\": 400,\n  \"message\": \"Aci Deployment failed with exception: Error in entry script, FileNotFoundError: [Errno 2] No such file or directory: 'azureml-models/best_hyperdrive_model/1/outputs/model.pkl', please run print(service.get_logs()) to get details.\",\n  \"details\": [\n    {\n      \"code\": \"CrashLoopBackOff\",\n      \"message\": \"Error in entry script, FileNotFoundError: [Errno 2] No such file or directory: 'azureml-models/best_hyperdrive_model/1/outputs/model.pkl', please run print(service.get_logs()) to get details.\"\n    }\n  ]\n}\n\tInnerException None\n\tErrorResponse \n{\n    \"error\": {\n        \"message\": \"Service deployment polling reached non-successful terminal state, current service state: Failed\\nOperation ID: 5900cf9d-2af5-4b6a-9d1d-e317a322b091\\nMore information can be found using '.get_logs()'\\nError:\\n{\\n  \\\"code\\\": \\\"AciDeploymentFailed\\\",\\n  \\\"statusCode\\\": 400,\\n  \\\"message\\\": \\\"Aci Deployment failed with exception: Error in entry script, FileNotFoundError: [Errno 2] No such file or directory: 'azureml-models/best_hyperdrive_model/1/outputs/model.pkl', please run print(service.get_logs()) to get details.\\\",\\n  \\\"details\\\": [\\n    {\\n      \\\"code\\\": \\\"CrashLoopBackOff\\\",\\n      \\\"message\\\": \\\"Error in entry script, FileNotFoundError: [Errno 2] No such file or directory: 'azureml-models/best_hyperdrive_model/1/outputs/model.pkl', please run print(service.get_logs()) to get details.\\\"\\n    }\\n  ]\\n}\"\n    }\n}"
     ]
    }
   ],
   "source": [
    "myenv = best_automl_run.get_environment()\n",
    "\n",
    "entry_script = 'score.py'\n",
    "\n",
    "inference_config = InferenceConfig(entry_script=entry_script, environment=myenv)\n",
    "\n",
    "service = Model.deploy(workspace=ws, \n",
    "                       name='deploy1', \n",
    "                       models=[model], \n",
    "                       inference_config=inference_config, \n",
    "                       deployment_config=aci_config)\n",
    "\n",
    "service.wait_for_deployment(show_output=True)"
   ]
  },
  {
   "cell_type": "code",
   "execution_count": null,
   "metadata": {},
   "outputs": [],
   "source": [
    "service.update(enable_app_insights = True)"
   ]
  },
  {
   "cell_type": "code",
   "execution_count": null,
   "metadata": {},
   "outputs": [],
   "source": [
    "print(\"State : \"+service.state)\n",
    "print(\"Swagger URI : \"+service.swagger_uri)\n",
    "print(\"Scoring URI : \"+service.scoring_uri)"
   ]
  },
  {
   "cell_type": "markdown",
   "metadata": {
    "collapsed": true,
    "gather": {
     "logged": 1598431657736
    },
    "jupyter": {
     "outputs_hidden": false,
     "source_hidden": false
    },
    "nteract": {
     "transient": {
      "deleting": false
     }
    }
   },
   "source": [
    "Send a request to the web service that is deployed to test it."
   ]
  },
  {
   "cell_type": "code",
   "execution_count": null,
   "metadata": {
    "gather": {
     "logged": 1598432707604
    },
    "jupyter": {
     "outputs_hidden": false,
     "source_hidden": false
    },
    "nteract": {
     "transient": {
      "deleting": false
     }
    }
   },
   "outputs": [],
   "source": [
    "import requests\n",
    "import json\n",
    "\n",
    "# Two sets of data to score, so we get two results back\n",
    "\n",
    "td = test_data.to_pandas_dataframe()\n",
    "sample_data = td.sample(2)\n",
    "y_test = sample_data[\"DEATH_EVENT\"]\n",
    "sample_data.drop(['DEATH_EVENT'], inplace=True, axis=1)\n",
    "x_test = sample_data\n",
    "data = {\"data\":x_test.to_dict(orient='records')}\n",
    "\n",
    "# Convert to JSON string\n",
    "input_data = json.dumps(data)\n",
    "print(input_data)"
   ]
  },
  {
   "cell_type": "code",
   "execution_count": null,
   "metadata": {},
   "outputs": [],
   "source": [
    "# Set the content type\n",
    "headers = {'Content-Type': 'application/json'}\n",
    "\n",
    "# Make the request and display the response\n",
    "resp = requests.post(service.scoring_uri, input_data, headers=headers)\n",
    "print('Prediction :', resp.text)\n",
    "\n",
    "# Print original labels\n",
    "print('True Values :', y_test.values)"
   ]
  },
  {
   "cell_type": "markdown",
   "metadata": {
    "collapsed": true,
    "gather": {
     "logged": 1598432765711
    },
    "jupyter": {
     "outputs_hidden": false,
     "source_hidden": false
    },
    "nteract": {
     "transient": {
      "deleting": false
     }
    }
   },
   "source": [
    "Print the logs of the web service and delete the service"
   ]
  },
  {
   "cell_type": "code",
   "execution_count": null,
   "metadata": {
    "jupyter": {
     "outputs_hidden": false,
     "source_hidden": false
    },
    "nteract": {
     "transient": {
      "deleting": false
     }
    }
   },
   "outputs": [],
   "source": [
    "print(service.get_logs())"
   ]
  },
  {
   "cell_type": "code",
   "execution_count": 43,
   "metadata": {},
   "outputs": [],
   "source": [
    "service.delete()\n",
    "cpu_cluster.delete()"
   ]
  },
  {
   "cell_type": "code",
   "execution_count": null,
   "metadata": {},
   "outputs": [],
   "source": []
  }
 ],
 "metadata": {
  "kernel_info": {
   "name": "python3"
  },
  "kernelspec": {
   "display_name": "Python 3",
   "language": "python",
   "name": "python3"
  },
  "language_info": {
   "codemirror_mode": {
    "name": "ipython",
    "version": 3
   },
   "file_extension": ".py",
   "mimetype": "text/x-python",
   "name": "python",
   "nbconvert_exporter": "python",
   "pygments_lexer": "ipython3",
   "version": "3.6.9"
  },
  "nteract": {
   "version": "nteract-front-end@1.0.0"
  }
 },
 "nbformat": 4,
 "nbformat_minor": 2
}
