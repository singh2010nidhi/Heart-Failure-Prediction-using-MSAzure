{
 "cells": [
  {
   "cell_type": "markdown",
   "metadata": {},
   "source": [
    "# Automated ML\n",
    "\n",
    "Import all the dependencies that we will need to complete the project."
   ]
  },
  {
   "cell_type": "code",
   "execution_count": 1,
   "metadata": {
    "gather": {
     "logged": 1598423888013
    },
    "jupyter": {
     "outputs_hidden": false,
     "source_hidden": false
    },
    "nteract": {
     "transient": {
      "deleting": false
     }
    }
   },
   "outputs": [],
   "source": [
    "from azureml.core import Workspace, Experiment, Dataset\n",
    "from azureml.core.compute import ComputeTarget, AmlCompute\n",
    "from azureml.core.compute_target import ComputeTargetException\n",
    "from azureml.data.dataset_factory import TabularDatasetFactory\n",
    "from azureml.widgets import RunDetails\n",
    "import pandas as pd\n",
    "from azureml.data.datapath import DataPath\n",
    "from azureml.train.automl import AutoMLConfig\n",
    "import joblib \n",
    "import os"
   ]
  },
  {
   "cell_type": "markdown",
   "metadata": {},
   "source": [
    "## Dataset\n",
    "\n",
    "### Overview\n",
    "\n",
    "The dataset that we will be using for this project is the [Heart Failure Prediction](https://www.kaggle.com/andrewmvd/heart-failure-clinical-data) dataset from Kaggle. \n",
    "\n",
    "Heart failure is a common event caused by CVDs and this dataset contains 12 features that can be used to predict mortality by heart failure.\n",
    "\n",
    "People with cardiovascular disease or who are at high cardiovascular risk need early detection and management wherein a machine learning model can be of great help.\n",
    "\n",
    "**12 clinical features:**\n",
    "\n",
    "* age - Age\n",
    "\n",
    "* anaemia - Decrease of red blood cells or hemoglobin (boolean)\n",
    "\n",
    "* creatinine_phosphokinase - Level of the CPK enzyme in the blood (mcg/L)\n",
    "\n",
    "* diabetes - If the patient has diabetes (boolean)\n",
    "\n",
    "* ejection_fraction - Percentage of blood leaving the heart at each contraction (percentage)\n",
    "\n",
    "* high_blood_pressure - If the patient has hypertension (boolean)\n",
    "  \n",
    "* platelets - Platelets in the blood (kiloplatelets/mL)\n",
    "\n",
    "* serum_creatinine - Level of serum creatinine in the blood (mg/dL)\n",
    "\n",
    "* serum_sodium - Level of serum sodium in the blood (mEq/L)\n",
    "  \n",
    "* sex - Woman or man (binary)\n",
    "  \n",
    "* smoking - If the patient smokes or not (boolean)\n",
    "\n",
    "* time - Follow-up period (days)\n",
    "\n",
    "In this project we will use Azure Automated ML to make prediction on the death event based on the above mentioned clinical features.\n"
   ]
  },
  {
   "cell_type": "code",
   "execution_count": 2,
   "metadata": {
    "gather": {
     "logged": 1598423890461
    },
    "jupyter": {
     "outputs_hidden": false,
     "source_hidden": false
    },
    "nteract": {
     "transient": {
      "deleting": false
     }
    }
   },
   "outputs": [],
   "source": [
    "ws = Workspace.from_config()\n",
    "\n",
    "# choose a name for experiment\n",
    "experiment_name = 'new-experiment'\n",
    "\n",
    "experiment=Experiment(ws, experiment_name)"
   ]
  },
  {
   "cell_type": "code",
   "execution_count": 3,
   "metadata": {},
   "outputs": [
    {
     "name": "stdout",
     "output_type": "stream",
     "text": [
      "Workspace name: quick-starts-ws-138669\n",
      "Azure region: southcentralus\n",
      "Subscription id: a0a76bad-11a1-4a2d-9887-97a29122c8ed\n",
      "Resource group: aml-quickstarts-138669\n"
     ]
    }
   ],
   "source": [
    "print('Workspace name: '+ ws.name,\n",
    "     'Azure region: '+ ws.location,\n",
    "      'Subscription id: '+ ws.subscription_id,\n",
    "     'Resource group: '+ ws.resource_group, sep=\"\\n\")\n",
    "\n",
    "run = experiment.start_logging()"
   ]
  },
  {
   "cell_type": "code",
   "execution_count": 4,
   "metadata": {},
   "outputs": [],
   "source": [
    "ds = Dataset.get_by_name(ws, 'heart-failure-dataset')"
   ]
  },
  {
   "cell_type": "code",
   "execution_count": 5,
   "metadata": {},
   "outputs": [
    {
     "data": {
      "text/html": [
       "<div>\n",
       "<style scoped>\n",
       "    .dataframe tbody tr th:only-of-type {\n",
       "        vertical-align: middle;\n",
       "    }\n",
       "\n",
       "    .dataframe tbody tr th {\n",
       "        vertical-align: top;\n",
       "    }\n",
       "\n",
       "    .dataframe thead th {\n",
       "        text-align: right;\n",
       "    }\n",
       "</style>\n",
       "<table border=\"1\" class=\"dataframe\">\n",
       "  <thead>\n",
       "    <tr style=\"text-align: right;\">\n",
       "      <th></th>\n",
       "      <th>age</th>\n",
       "      <th>anaemia</th>\n",
       "      <th>creatinine_phosphokinase</th>\n",
       "      <th>diabetes</th>\n",
       "      <th>ejection_fraction</th>\n",
       "      <th>high_blood_pressure</th>\n",
       "      <th>platelets</th>\n",
       "      <th>serum_creatinine</th>\n",
       "      <th>serum_sodium</th>\n",
       "      <th>sex</th>\n",
       "      <th>smoking</th>\n",
       "      <th>time</th>\n",
       "      <th>DEATH_EVENT</th>\n",
       "    </tr>\n",
       "  </thead>\n",
       "  <tbody>\n",
       "    <tr>\n",
       "      <th>0</th>\n",
       "      <td>75.0</td>\n",
       "      <td>0</td>\n",
       "      <td>582</td>\n",
       "      <td>0</td>\n",
       "      <td>20</td>\n",
       "      <td>1</td>\n",
       "      <td>265000.00</td>\n",
       "      <td>1.9</td>\n",
       "      <td>130</td>\n",
       "      <td>1</td>\n",
       "      <td>0</td>\n",
       "      <td>4</td>\n",
       "      <td>1</td>\n",
       "    </tr>\n",
       "    <tr>\n",
       "      <th>1</th>\n",
       "      <td>55.0</td>\n",
       "      <td>0</td>\n",
       "      <td>7861</td>\n",
       "      <td>0</td>\n",
       "      <td>38</td>\n",
       "      <td>0</td>\n",
       "      <td>263358.03</td>\n",
       "      <td>1.1</td>\n",
       "      <td>136</td>\n",
       "      <td>1</td>\n",
       "      <td>0</td>\n",
       "      <td>6</td>\n",
       "      <td>1</td>\n",
       "    </tr>\n",
       "    <tr>\n",
       "      <th>2</th>\n",
       "      <td>65.0</td>\n",
       "      <td>0</td>\n",
       "      <td>146</td>\n",
       "      <td>0</td>\n",
       "      <td>20</td>\n",
       "      <td>0</td>\n",
       "      <td>162000.00</td>\n",
       "      <td>1.3</td>\n",
       "      <td>129</td>\n",
       "      <td>1</td>\n",
       "      <td>1</td>\n",
       "      <td>7</td>\n",
       "      <td>1</td>\n",
       "    </tr>\n",
       "    <tr>\n",
       "      <th>3</th>\n",
       "      <td>50.0</td>\n",
       "      <td>1</td>\n",
       "      <td>111</td>\n",
       "      <td>0</td>\n",
       "      <td>20</td>\n",
       "      <td>0</td>\n",
       "      <td>210000.00</td>\n",
       "      <td>1.9</td>\n",
       "      <td>137</td>\n",
       "      <td>1</td>\n",
       "      <td>0</td>\n",
       "      <td>7</td>\n",
       "      <td>1</td>\n",
       "    </tr>\n",
       "    <tr>\n",
       "      <th>4</th>\n",
       "      <td>65.0</td>\n",
       "      <td>1</td>\n",
       "      <td>160</td>\n",
       "      <td>1</td>\n",
       "      <td>20</td>\n",
       "      <td>0</td>\n",
       "      <td>327000.00</td>\n",
       "      <td>2.7</td>\n",
       "      <td>116</td>\n",
       "      <td>0</td>\n",
       "      <td>0</td>\n",
       "      <td>8</td>\n",
       "      <td>1</td>\n",
       "    </tr>\n",
       "  </tbody>\n",
       "</table>\n",
       "</div>"
      ],
      "text/plain": [
       "    age  anaemia  creatinine_phosphokinase  diabetes  ejection_fraction  \\\n",
       "0  75.0        0                       582         0                 20   \n",
       "1  55.0        0                      7861         0                 38   \n",
       "2  65.0        0                       146         0                 20   \n",
       "3  50.0        1                       111         0                 20   \n",
       "4  65.0        1                       160         1                 20   \n",
       "\n",
       "   high_blood_pressure  platelets  serum_creatinine  serum_sodium  sex  \\\n",
       "0                    1  265000.00               1.9           130    1   \n",
       "1                    0  263358.03               1.1           136    1   \n",
       "2                    0  162000.00               1.3           129    1   \n",
       "3                    0  210000.00               1.9           137    1   \n",
       "4                    0  327000.00               2.7           116    0   \n",
       "\n",
       "   smoking  time  DEATH_EVENT  \n",
       "0        0     4            1  \n",
       "1        0     6            1  \n",
       "2        1     7            1  \n",
       "3        0     7            1  \n",
       "4        0     8            1  "
      ]
     },
     "execution_count": 5,
     "metadata": {},
     "output_type": "execute_result"
    }
   ],
   "source": [
    "df = ds.to_pandas_dataframe()\n",
    "df.head()"
   ]
  },
  {
   "cell_type": "code",
   "execution_count": 6,
   "metadata": {},
   "outputs": [],
   "source": [
    "train_data, test_data = ds.random_split(0.9)"
   ]
  },
  {
   "cell_type": "markdown",
   "metadata": {},
   "source": [
    "## Create Compute Cluster"
   ]
  },
  {
   "cell_type": "code",
   "execution_count": 7,
   "metadata": {},
   "outputs": [
    {
     "name": "stdout",
     "output_type": "stream",
     "text": [
      "Creating\n",
      "Succeeded\n",
      "AmlCompute wait for completion finished\n",
      "\n",
      "Minimum number of nodes requested have been provisioned\n"
     ]
    }
   ],
   "source": [
    "cpu_cluster_name = \"compute-cluster\"\n",
    "#Verify that the cluster does not exist already\n",
    "try:\n",
    "    cpu_cluster = ComputeTarget(workspace = ws, name = cpu_cluster_name)\n",
    "    print(\"Found existing cluster. Use it\")\n",
    "except ComputeTargetException:\n",
    "    compute_config = AmlCompute.provisioning_configuration(vm_size='STANDARD_D2_V2', max_nodes =4)\n",
    "    cpu_cluster = ComputeTarget.create(ws, cpu_cluster_name, compute_config)\n",
    "    \n",
    "cpu_cluster.wait_for_completion(show_output=True)\n",
    "    "
   ]
  },
  {
   "cell_type": "markdown",
   "metadata": {},
   "source": [
    "## AutoML Configuration\n",
    "\n",
    "Instantiate an AutoMLConfig object for AutoML Configuration. \n",
    "\n",
    "The parameters used here are:\n",
    "\n",
    "* `n_cross_validation = 3` - Since our dataset is small. We apply cross validation with 3 folds instead of train/validation data split.\n",
    "\n",
    "\n",
    "* `primary_metric = 'accuracy'` - The primary metric parameter determines the metric to be used during model training for optimization. Accuracy primary metric is chosen for binary classification dataset.\n",
    "\n",
    "\n",
    "* `experiment_timeout_minutes = 30` - This defines how long, in minutes, our experiment should continue to run. Here this timeout is set to 30 minutes.\n",
    "\n",
    "\n",
    "* `max_concurrent_iterations = 4` - To help manage child runs and when they can be performed, we match the number of maximum concurrent iterations of our experiment to the number of nodes in the cluster. So, we get a dedicated cluster per experiment.\n",
    "\n",
    "\n",
    "* `task = 'classification'` - This specifies the experiment type as classification.\n",
    "\n",
    "\n",
    "*  `compute_target = cpu_cluster` -  Azure Machine Learning Managed Compute is a managed service that enables the ability to train machine learning models on clusters of Azure virtual machines. Here compute target is set to cpu_cluster which is already defined with 'STANDARD_D2_V2' and maximum nodes equal to 4.\n",
    "\n",
    "\n",
    "* `training_data = train_data` - This specifies the training data to be used in this experiment which is set to train_data which is a part of the dataset uploaded to the datastore.\n",
    "\n",
    "\n",
    "* `label_column_name = 'DEATH_EVENT'` - The target column here is set to DEATH_EVENT which has values 1 if the patient deceased or 0 if the patient survived.\n",
    "\n",
    "\n",
    "* `featurization= 'auto'` - This indicates that as part of preprocessing, data guardrails and featurization steps are performed automatically.\n"
   ]
  },
  {
   "cell_type": "code",
   "execution_count": 8,
   "metadata": {
    "gather": {
     "logged": 1598429217746
    },
    "jupyter": {
     "outputs_hidden": false,
     "source_hidden": false
    },
    "nteract": {
     "transient": {
      "deleting": false
     }
    }
   },
   "outputs": [],
   "source": [
    "# Automl settings\n",
    "automl_settings = {\n",
    "    \"n_cross_validations\": 3,\n",
    "    \"primary_metric\": 'accuracy',\n",
    "    \"experiment_timeout_minutes\": 30,\n",
    "    \"max_concurrent_iterations\": 4\n",
    "}\n",
    "\n",
    "# automl config here\n",
    "automl_config = AutoMLConfig(task = 'classification',\n",
    "                            compute_target = cpu_cluster,\n",
    "                             training_data = train_data,\n",
    "                             label_column_name = 'DEATH_EVENT',\n",
    "                             featurization= 'auto',\n",
    "                             **automl_settings\n",
    "                            )"
   ]
  },
  {
   "cell_type": "code",
   "execution_count": 9,
   "metadata": {
    "gather": {
     "logged": 1598431107951
    },
    "jupyter": {
     "outputs_hidden": false,
     "source_hidden": false
    },
    "nteract": {
     "transient": {
      "deleting": false
     }
    }
   },
   "outputs": [
    {
     "name": "stdout",
     "output_type": "stream",
     "text": [
      "Running on remote.\n"
     ]
    }
   ],
   "source": [
    "# Submit the experiment\n",
    "remote_run = experiment.submit(automl_config)"
   ]
  },
  {
   "cell_type": "markdown",
   "metadata": {},
   "source": [
    "## Run Details\n",
    "\n",
    "The `RunDetails` widget shows the different experiments."
   ]
  },
  {
   "cell_type": "code",
   "execution_count": 10,
   "metadata": {
    "gather": {
     "logged": 1598431121770
    },
    "jupyter": {
     "outputs_hidden": false,
     "source_hidden": false
    },
    "nteract": {
     "transient": {
      "deleting": false
     }
    }
   },
   "outputs": [
    {
     "data": {
      "application/vnd.jupyter.widget-view+json": {
       "model_id": "0ce37aee808b46c183560402953c2be7",
       "version_major": 2,
       "version_minor": 0
      },
      "text/plain": [
       "_AutoMLWidget(widget_settings={'childWidgetDisplay': 'popup', 'send_telemetry': False, 'log_level': 'INFO', 's…"
      ]
     },
     "metadata": {},
     "output_type": "display_data"
    },
    {
     "data": {
      "application/aml.mini.widget.v1": "{\"status\": \"Completed\", \"workbench_run_details_uri\": \"https://ml.azure.com/experiments/new-experiment/runs/AutoML_faab6e12-a632-4021-8373-7cfab7444c1b?wsid=/subscriptions/a0a76bad-11a1-4a2d-9887-97a29122c8ed/resourcegroups/aml-quickstarts-138669/workspaces/quick-starts-ws-138669\", \"run_id\": \"AutoML_faab6e12-a632-4021-8373-7cfab7444c1b\", \"run_properties\": {\"run_id\": \"AutoML_faab6e12-a632-4021-8373-7cfab7444c1b\", \"created_utc\": \"2021-02-12T08:21:20.571949Z\", \"properties\": {\"num_iterations\": \"1000\", \"training_type\": \"TrainFull\", \"acquisition_function\": \"EI\", \"primary_metric\": \"accuracy\", \"train_split\": \"0\", \"acquisition_parameter\": \"0\", \"num_cross_validation\": \"3\", \"target\": \"compute-cluster\", \"AMLSettingsJsonString\": \"{\\\"path\\\":null,\\\"name\\\":\\\"new-experiment\\\",\\\"subscription_id\\\":\\\"a0a76bad-11a1-4a2d-9887-97a29122c8ed\\\",\\\"resource_group\\\":\\\"aml-quickstarts-138669\\\",\\\"workspace_name\\\":\\\"quick-starts-ws-138669\\\",\\\"region\\\":\\\"southcentralus\\\",\\\"compute_target\\\":\\\"compute-cluster\\\",\\\"spark_service\\\":null,\\\"azure_service\\\":\\\"remote\\\",\\\"many_models\\\":false,\\\"pipeline_fetch_max_batch_size\\\":1,\\\"iterations\\\":1000,\\\"primary_metric\\\":\\\"accuracy\\\",\\\"task_type\\\":\\\"classification\\\",\\\"data_script\\\":null,\\\"validation_size\\\":0.0,\\\"n_cross_validations\\\":3,\\\"y_min\\\":null,\\\"y_max\\\":null,\\\"num_classes\\\":null,\\\"featurization\\\":\\\"auto\\\",\\\"_ignore_package_version_incompatibilities\\\":false,\\\"is_timeseries\\\":false,\\\"max_cores_per_iteration\\\":1,\\\"max_concurrent_iterations\\\":4,\\\"iteration_timeout_minutes\\\":null,\\\"mem_in_mb\\\":null,\\\"enforce_time_on_windows\\\":false,\\\"experiment_timeout_minutes\\\":30,\\\"experiment_exit_score\\\":null,\\\"whitelist_models\\\":null,\\\"blacklist_algos\\\":[\\\"TensorFlowLinearClassifier\\\",\\\"TensorFlowDNN\\\"],\\\"supported_models\\\":[\\\"AveragedPerceptronClassifier\\\",\\\"XGBoostClassifier\\\",\\\"SGD\\\",\\\"GradientBoosting\\\",\\\"LinearSVM\\\",\\\"TensorFlowLinearClassifier\\\",\\\"BernoulliNaiveBayes\\\",\\\"MultinomialNaiveBayes\\\",\\\"KNN\\\",\\\"LightGBM\\\",\\\"DecisionTree\\\",\\\"RandomForest\\\",\\\"ExtremeRandomTrees\\\",\\\"SVM\\\",\\\"LogisticRegression\\\",\\\"TensorFlowDNN\\\"],\\\"auto_blacklist\\\":true,\\\"blacklist_samples_reached\\\":false,\\\"exclude_nan_labels\\\":true,\\\"verbosity\\\":20,\\\"_debug_log\\\":\\\"azureml_automl.log\\\",\\\"show_warnings\\\":false,\\\"model_explainability\\\":true,\\\"service_url\\\":null,\\\"sdk_url\\\":null,\\\"sdk_packages\\\":null,\\\"enable_onnx_compatible_models\\\":false,\\\"enable_split_onnx_featurizer_estimator_models\\\":false,\\\"vm_type\\\":\\\"STANDARD_D2_V2\\\",\\\"telemetry_verbosity\\\":20,\\\"send_telemetry\\\":true,\\\"enable_dnn\\\":false,\\\"scenario\\\":\\\"SDK-1.13.0\\\",\\\"environment_label\\\":null,\\\"force_text_dnn\\\":false,\\\"enable_feature_sweeping\\\":true,\\\"enable_early_stopping\\\":false,\\\"early_stopping_n_iters\\\":10,\\\"metrics\\\":null,\\\"enable_ensembling\\\":true,\\\"enable_stack_ensembling\\\":true,\\\"ensemble_iterations\\\":15,\\\"enable_tf\\\":false,\\\"enable_subsampling\\\":null,\\\"subsample_seed\\\":null,\\\"enable_nimbusml\\\":false,\\\"enable_streaming\\\":false,\\\"force_streaming\\\":false,\\\"track_child_runs\\\":true,\\\"allowed_private_models\\\":[],\\\"label_column_name\\\":\\\"DEATH_EVENT\\\",\\\"weight_column_name\\\":null,\\\"cv_split_column_names\\\":null,\\\"enable_local_managed\\\":false,\\\"_local_managed_run_id\\\":null,\\\"cost_mode\\\":1,\\\"lag_length\\\":0,\\\"metric_operation\\\":\\\"maximize\\\",\\\"preprocess\\\":true}\", \"DataPrepJsonString\": \"{\\\\\\\"training_data\\\\\\\": \\\\\\\"{\\\\\\\\\\\\\\\"blocks\\\\\\\\\\\\\\\": [{\\\\\\\\\\\\\\\"id\\\\\\\\\\\\\\\": \\\\\\\\\\\\\\\"783b3010-5f13-4171-abe2-8d1cc3cfaf42\\\\\\\\\\\\\\\", \\\\\\\\\\\\\\\"type\\\\\\\\\\\\\\\": \\\\\\\\\\\\\\\"Microsoft.DPrep.GetDatastoreFilesBlock\\\\\\\\\\\\\\\", \\\\\\\\\\\\\\\"arguments\\\\\\\\\\\\\\\": {\\\\\\\\\\\\\\\"datastores\\\\\\\\\\\\\\\": [{\\\\\\\\\\\\\\\"datastoreName\\\\\\\\\\\\\\\": \\\\\\\\\\\\\\\"workspaceblobstore\\\\\\\\\\\\\\\", \\\\\\\\\\\\\\\"path\\\\\\\\\\\\\\\": \\\\\\\\\\\\\\\"UI/02-12-2021_081708_UTC/heart_failure_clinical_records_dataset.csv\\\\\\\\\\\\\\\", \\\\\\\\\\\\\\\"resourceGroup\\\\\\\\\\\\\\\": \\\\\\\\\\\\\\\"aml-quickstarts-138669\\\\\\\\\\\\\\\", \\\\\\\\\\\\\\\"subscription\\\\\\\\\\\\\\\": \\\\\\\\\\\\\\\"a0a76bad-11a1-4a2d-9887-97a29122c8ed\\\\\\\\\\\\\\\", \\\\\\\\\\\\\\\"workspaceName\\\\\\\\\\\\\\\": \\\\\\\\\\\\\\\"quick-starts-ws-138669\\\\\\\\\\\\\\\"}]}, \\\\\\\\\\\\\\\"localData\\\\\\\\\\\\\\\": {}, \\\\\\\\\\\\\\\"isEnabled\\\\\\\\\\\\\\\": true, \\\\\\\\\\\\\\\"name\\\\\\\\\\\\\\\": null, \\\\\\\\\\\\\\\"annotation\\\\\\\\\\\\\\\": null}, {\\\\\\\\\\\\\\\"id\\\\\\\\\\\\\\\": \\\\\\\\\\\\\\\"79bd1004-cad4-4a65-a4b0-333f82b6b4ad\\\\\\\\\\\\\\\", \\\\\\\\\\\\\\\"type\\\\\\\\\\\\\\\": \\\\\\\\\\\\\\\"Microsoft.DPrep.ParseDelimitedBlock\\\\\\\\\\\\\\\", \\\\\\\\\\\\\\\"arguments\\\\\\\\\\\\\\\": {\\\\\\\\\\\\\\\"columnHeadersMode\\\\\\\\\\\\\\\": 3, \\\\\\\\\\\\\\\"fileEncoding\\\\\\\\\\\\\\\": 0, \\\\\\\\\\\\\\\"handleQuotedLineBreaks\\\\\\\\\\\\\\\": false, \\\\\\\\\\\\\\\"preview\\\\\\\\\\\\\\\": false, \\\\\\\\\\\\\\\"separator\\\\\\\\\\\\\\\": \\\\\\\\\\\\\\\",\\\\\\\\\\\\\\\", \\\\\\\\\\\\\\\"skipRows\\\\\\\\\\\\\\\": 0, \\\\\\\\\\\\\\\"skipRowsMode\\\\\\\\\\\\\\\": 0}, \\\\\\\\\\\\\\\"localData\\\\\\\\\\\\\\\": {}, \\\\\\\\\\\\\\\"isEnabled\\\\\\\\\\\\\\\": true, \\\\\\\\\\\\\\\"name\\\\\\\\\\\\\\\": null, \\\\\\\\\\\\\\\"annotation\\\\\\\\\\\\\\\": null}, {\\\\\\\\\\\\\\\"id\\\\\\\\\\\\\\\": \\\\\\\\\\\\\\\"b23947d6-decb-4ece-8285-e510e04693d0\\\\\\\\\\\\\\\", \\\\\\\\\\\\\\\"type\\\\\\\\\\\\\\\": \\\\\\\\\\\\\\\"Microsoft.DPrep.DropColumnsBlock\\\\\\\\\\\\\\\", \\\\\\\\\\\\\\\"arguments\\\\\\\\\\\\\\\": {\\\\\\\\\\\\\\\"columns\\\\\\\\\\\\\\\": {\\\\\\\\\\\\\\\"type\\\\\\\\\\\\\\\": 0, \\\\\\\\\\\\\\\"details\\\\\\\\\\\\\\\": {\\\\\\\\\\\\\\\"selectedColumns\\\\\\\\\\\\\\\": [\\\\\\\\\\\\\\\"Path\\\\\\\\\\\\\\\"]}}}, \\\\\\\\\\\\\\\"localData\\\\\\\\\\\\\\\": {}, \\\\\\\\\\\\\\\"isEnabled\\\\\\\\\\\\\\\": true, \\\\\\\\\\\\\\\"name\\\\\\\\\\\\\\\": null, \\\\\\\\\\\\\\\"annotation\\\\\\\\\\\\\\\": null}, {\\\\\\\\\\\\\\\"id\\\\\\\\\\\\\\\": \\\\\\\\\\\\\\\"d23b82f3-b6dc-4dcd-a36d-1e8e0897acc5\\\\\\\\\\\\\\\", \\\\\\\\\\\\\\\"type\\\\\\\\\\\\\\\": \\\\\\\\\\\\\\\"Microsoft.DPrep.SetColumnTypesBlock\\\\\\\\\\\\\\\", \\\\\\\\\\\\\\\"arguments\\\\\\\\\\\\\\\": {\\\\\\\\\\\\\\\"columnConversion\\\\\\\\\\\\\\\": [{\\\\\\\\\\\\\\\"column\\\\\\\\\\\\\\\": {\\\\\\\\\\\\\\\"type\\\\\\\\\\\\\\\": 2, \\\\\\\\\\\\\\\"details\\\\\\\\\\\\\\\": {\\\\\\\\\\\\\\\"selectedColumn\\\\\\\\\\\\\\\": \\\\\\\\\\\\\\\"Path\\\\\\\\\\\\\\\"}}, \\\\\\\\\\\\\\\"typeProperty\\\\\\\\\\\\\\\": 0}, {\\\\\\\\\\\\\\\"column\\\\\\\\\\\\\\\": {\\\\\\\\\\\\\\\"type\\\\\\\\\\\\\\\": 2, \\\\\\\\\\\\\\\"details\\\\\\\\\\\\\\\": {\\\\\\\\\\\\\\\"selectedColumn\\\\\\\\\\\\\\\": \\\\\\\\\\\\\\\"age\\\\\\\\\\\\\\\"}}, \\\\\\\\\\\\\\\"typeProperty\\\\\\\\\\\\\\\": 3}, {\\\\\\\\\\\\\\\"column\\\\\\\\\\\\\\\": {\\\\\\\\\\\\\\\"type\\\\\\\\\\\\\\\": 2, \\\\\\\\\\\\\\\"details\\\\\\\\\\\\\\\": {\\\\\\\\\\\\\\\"selectedColumn\\\\\\\\\\\\\\\": \\\\\\\\\\\\\\\"anaemia\\\\\\\\\\\\\\\"}}, \\\\\\\\\\\\\\\"typeProperty\\\\\\\\\\\\\\\": 2}, {\\\\\\\\\\\\\\\"column\\\\\\\\\\\\\\\": {\\\\\\\\\\\\\\\"type\\\\\\\\\\\\\\\": 2, \\\\\\\\\\\\\\\"details\\\\\\\\\\\\\\\": {\\\\\\\\\\\\\\\"selectedColumn\\\\\\\\\\\\\\\": \\\\\\\\\\\\\\\"creatinine_phosphokinase\\\\\\\\\\\\\\\"}}, \\\\\\\\\\\\\\\"typeProperty\\\\\\\\\\\\\\\": 2}, {\\\\\\\\\\\\\\\"column\\\\\\\\\\\\\\\": {\\\\\\\\\\\\\\\"type\\\\\\\\\\\\\\\": 2, \\\\\\\\\\\\\\\"details\\\\\\\\\\\\\\\": {\\\\\\\\\\\\\\\"selectedColumn\\\\\\\\\\\\\\\": \\\\\\\\\\\\\\\"diabetes\\\\\\\\\\\\\\\"}}, \\\\\\\\\\\\\\\"typeProperty\\\\\\\\\\\\\\\": 2}, {\\\\\\\\\\\\\\\"column\\\\\\\\\\\\\\\": {\\\\\\\\\\\\\\\"type\\\\\\\\\\\\\\\": 2, \\\\\\\\\\\\\\\"details\\\\\\\\\\\\\\\": {\\\\\\\\\\\\\\\"selectedColumn\\\\\\\\\\\\\\\": \\\\\\\\\\\\\\\"ejection_fraction\\\\\\\\\\\\\\\"}}, \\\\\\\\\\\\\\\"typeProperty\\\\\\\\\\\\\\\": 2}, {\\\\\\\\\\\\\\\"column\\\\\\\\\\\\\\\": {\\\\\\\\\\\\\\\"type\\\\\\\\\\\\\\\": 2, \\\\\\\\\\\\\\\"details\\\\\\\\\\\\\\\": {\\\\\\\\\\\\\\\"selectedColumn\\\\\\\\\\\\\\\": \\\\\\\\\\\\\\\"high_blood_pressure\\\\\\\\\\\\\\\"}}, \\\\\\\\\\\\\\\"typeProperty\\\\\\\\\\\\\\\": 2}, {\\\\\\\\\\\\\\\"column\\\\\\\\\\\\\\\": {\\\\\\\\\\\\\\\"type\\\\\\\\\\\\\\\": 2, \\\\\\\\\\\\\\\"details\\\\\\\\\\\\\\\": {\\\\\\\\\\\\\\\"selectedColumn\\\\\\\\\\\\\\\": \\\\\\\\\\\\\\\"platelets\\\\\\\\\\\\\\\"}}, \\\\\\\\\\\\\\\"typeProperty\\\\\\\\\\\\\\\": 3}, {\\\\\\\\\\\\\\\"column\\\\\\\\\\\\\\\": {\\\\\\\\\\\\\\\"type\\\\\\\\\\\\\\\": 2, \\\\\\\\\\\\\\\"details\\\\\\\\\\\\\\\": {\\\\\\\\\\\\\\\"selectedColumn\\\\\\\\\\\\\\\": \\\\\\\\\\\\\\\"serum_creatinine\\\\\\\\\\\\\\\"}}, \\\\\\\\\\\\\\\"typeProperty\\\\\\\\\\\\\\\": 3}, {\\\\\\\\\\\\\\\"column\\\\\\\\\\\\\\\": {\\\\\\\\\\\\\\\"type\\\\\\\\\\\\\\\": 2, \\\\\\\\\\\\\\\"details\\\\\\\\\\\\\\\": {\\\\\\\\\\\\\\\"selectedColumn\\\\\\\\\\\\\\\": \\\\\\\\\\\\\\\"serum_sodium\\\\\\\\\\\\\\\"}}, \\\\\\\\\\\\\\\"typeProperty\\\\\\\\\\\\\\\": 2}, {\\\\\\\\\\\\\\\"column\\\\\\\\\\\\\\\": {\\\\\\\\\\\\\\\"type\\\\\\\\\\\\\\\": 2, \\\\\\\\\\\\\\\"details\\\\\\\\\\\\\\\": {\\\\\\\\\\\\\\\"selectedColumn\\\\\\\\\\\\\\\": \\\\\\\\\\\\\\\"sex\\\\\\\\\\\\\\\"}}, \\\\\\\\\\\\\\\"typeProperty\\\\\\\\\\\\\\\": 2}, {\\\\\\\\\\\\\\\"column\\\\\\\\\\\\\\\": {\\\\\\\\\\\\\\\"type\\\\\\\\\\\\\\\": 2, \\\\\\\\\\\\\\\"details\\\\\\\\\\\\\\\": {\\\\\\\\\\\\\\\"selectedColumn\\\\\\\\\\\\\\\": \\\\\\\\\\\\\\\"smoking\\\\\\\\\\\\\\\"}}, \\\\\\\\\\\\\\\"typeProperty\\\\\\\\\\\\\\\": 2}, {\\\\\\\\\\\\\\\"column\\\\\\\\\\\\\\\": {\\\\\\\\\\\\\\\"type\\\\\\\\\\\\\\\": 2, \\\\\\\\\\\\\\\"details\\\\\\\\\\\\\\\": {\\\\\\\\\\\\\\\"selectedColumn\\\\\\\\\\\\\\\": \\\\\\\\\\\\\\\"time\\\\\\\\\\\\\\\"}}, \\\\\\\\\\\\\\\"typeProperty\\\\\\\\\\\\\\\": 2}, {\\\\\\\\\\\\\\\"column\\\\\\\\\\\\\\\": {\\\\\\\\\\\\\\\"type\\\\\\\\\\\\\\\": 2, \\\\\\\\\\\\\\\"details\\\\\\\\\\\\\\\": {\\\\\\\\\\\\\\\"selectedColumn\\\\\\\\\\\\\\\": \\\\\\\\\\\\\\\"DEATH_EVENT\\\\\\\\\\\\\\\"}}, \\\\\\\\\\\\\\\"typeProperty\\\\\\\\\\\\\\\": 2}]}, \\\\\\\\\\\\\\\"localData\\\\\\\\\\\\\\\": {}, \\\\\\\\\\\\\\\"isEnabled\\\\\\\\\\\\\\\": true, \\\\\\\\\\\\\\\"name\\\\\\\\\\\\\\\": null, \\\\\\\\\\\\\\\"annotation\\\\\\\\\\\\\\\": null}, {\\\\\\\\\\\\\\\"id\\\\\\\\\\\\\\\": \\\\\\\\\\\\\\\"eb056cba-ff25-481c-a428-6e1f4a6cc637\\\\\\\\\\\\\\\", \\\\\\\\\\\\\\\"type\\\\\\\\\\\\\\\": \\\\\\\\\\\\\\\"Microsoft.DPrep.TakeSampleBlock\\\\\\\\\\\\\\\", \\\\\\\\\\\\\\\"arguments\\\\\\\\\\\\\\\": {\\\\\\\\\\\\\\\"probability\\\\\\\\\\\\\\\": 0.9, \\\\\\\\\\\\\\\"probabilityLowerBound\\\\\\\\\\\\\\\": 0.0, \\\\\\\\\\\\\\\"seed\\\\\\\\\\\\\\\": 3409541567}, \\\\\\\\\\\\\\\"localData\\\\\\\\\\\\\\\": {}, \\\\\\\\\\\\\\\"isEnabled\\\\\\\\\\\\\\\": true, \\\\\\\\\\\\\\\"name\\\\\\\\\\\\\\\": null, \\\\\\\\\\\\\\\"annotation\\\\\\\\\\\\\\\": null}], \\\\\\\\\\\\\\\"inspectors\\\\\\\\\\\\\\\": [], \\\\\\\\\\\\\\\"meta\\\\\\\\\\\\\\\": {\\\\\\\\\\\\\\\"savedDatasetId\\\\\\\\\\\\\\\": \\\\\\\\\\\\\\\"f32eca8a-3f0e-4e19-8b82-776992029e92\\\\\\\\\\\\\\\", \\\\\\\\\\\\\\\"datasetType\\\\\\\\\\\\\\\": \\\\\\\\\\\\\\\"tabular\\\\\\\\\\\\\\\", \\\\\\\\\\\\\\\"subscriptionId\\\\\\\\\\\\\\\": \\\\\\\\\\\\\\\"a0a76bad-11a1-4a2d-9887-97a29122c8ed\\\\\\\\\\\\\\\", \\\\\\\\\\\\\\\"workspaceId\\\\\\\\\\\\\\\": \\\\\\\\\\\\\\\"c1f80330-6603-4ec7-8ce9-fe5d18f7469d\\\\\\\\\\\\\\\", \\\\\\\\\\\\\\\"workspaceLocation\\\\\\\\\\\\\\\": \\\\\\\\\\\\\\\"southcentralus\\\\\\\\\\\\\\\"}}\\\\\\\", \\\\\\\"activities\\\\\\\": 0}\", \"EnableSubsampling\": null, \"runTemplate\": \"AutoML\", \"azureml.runsource\": \"automl\", \"display_task_type\": \"classification\", \"dependencies_versions\": \"{\\\"azureml-widgets\\\": \\\"1.20.0\\\", \\\"azureml-train\\\": \\\"1.20.0\\\", \\\"azureml-train-restclients-hyperdrive\\\": \\\"1.20.0\\\", \\\"azureml-train-core\\\": \\\"1.20.0\\\", \\\"azureml-train-automl\\\": \\\"1.20.0\\\", \\\"azureml-train-automl-runtime\\\": \\\"1.20.0\\\", \\\"azureml-train-automl-client\\\": \\\"1.20.0\\\", \\\"azureml-tensorboard\\\": \\\"1.20.0\\\", \\\"azureml-telemetry\\\": \\\"1.20.0\\\", \\\"azureml-sdk\\\": \\\"1.20.0\\\", \\\"azureml-samples\\\": \\\"0+unknown\\\", \\\"azureml-pipeline\\\": \\\"1.20.0\\\", \\\"azureml-pipeline-steps\\\": \\\"1.20.0\\\", \\\"azureml-pipeline-core\\\": \\\"1.20.0\\\", \\\"azureml-opendatasets\\\": \\\"1.20.0\\\", \\\"azureml-model-management-sdk\\\": \\\"1.0.1b6.post1\\\", \\\"azureml-mlflow\\\": \\\"1.20.0.post1\\\", \\\"azureml-interpret\\\": \\\"1.20.0\\\", \\\"azureml-explain-model\\\": \\\"1.20.0\\\", \\\"azureml-defaults\\\": \\\"1.20.0\\\", \\\"azureml-dataset-runtime\\\": \\\"1.20.0\\\", \\\"azureml-dataprep\\\": \\\"2.7.3\\\", \\\"azureml-dataprep-rslex\\\": \\\"1.5.0\\\", \\\"azureml-dataprep-native\\\": \\\"27.0.0\\\", \\\"azureml-datadrift\\\": \\\"1.20.0\\\", \\\"azureml-core\\\": \\\"1.20.0\\\", \\\"azureml-contrib-services\\\": \\\"1.20.0\\\", \\\"azureml-contrib-server\\\": \\\"1.20.0\\\", \\\"azureml-contrib-reinforcementlearning\\\": \\\"1.20.0\\\", \\\"azureml-contrib-pipeline-steps\\\": \\\"1.20.0\\\", \\\"azureml-contrib-notebook\\\": \\\"1.20.0\\\", \\\"azureml-contrib-interpret\\\": \\\"1.20.0\\\", \\\"azureml-contrib-gbdt\\\": \\\"1.20.0\\\", \\\"azureml-contrib-fairness\\\": \\\"1.20.0\\\", \\\"azureml-contrib-dataset\\\": \\\"1.20.0\\\", \\\"azureml-cli-common\\\": \\\"1.20.0\\\", \\\"azureml-automl-runtime\\\": \\\"1.20.0\\\", \\\"azureml-automl-core\\\": \\\"1.20.0\\\", \\\"azureml-accel-models\\\": \\\"1.20.0\\\"}\", \"_aml_system_scenario_identification\": \"Remote.Parent\", \"ClientType\": \"SDK\", \"environment_cpu_name\": \"AzureML-AutoML\", \"environment_cpu_label\": \"prod\", \"environment_gpu_name\": \"AzureML-AutoML-GPU\", \"environment_gpu_label\": \"prod\", \"root_attribution\": \"automl\", \"attribution\": \"AutoML\", \"Orchestrator\": \"AutoML\", \"CancelUri\": \"https://southcentralus.experiments.azureml.net/jasmine/v1.0/subscriptions/a0a76bad-11a1-4a2d-9887-97a29122c8ed/resourceGroups/aml-quickstarts-138669/providers/Microsoft.MachineLearningServices/workspaces/quick-starts-ws-138669/experimentids/59ed5b87-a2cc-4572-b795-5369caf6aa8d/cancel/AutoML_faab6e12-a632-4021-8373-7cfab7444c1b\", \"ClientSdkVersion\": \"1.21.0\", \"snapshotId\": \"00000000-0000-0000-0000-000000000000\", \"SetupRunId\": \"AutoML_faab6e12-a632-4021-8373-7cfab7444c1b_setup\", \"SetupRunContainerId\": \"dcid.AutoML_faab6e12-a632-4021-8373-7cfab7444c1b_setup\", \"FeaturizationRunJsonPath\": \"featurizer_container.json\", \"FeaturizationRunId\": \"AutoML_faab6e12-a632-4021-8373-7cfab7444c1b_featurize\", \"ProblemInfoJsonString\": \"{\\\"dataset_num_categorical\\\": 0, \\\"is_sparse\\\": false, \\\"subsampling\\\": false, \\\"dataset_classes\\\": 2, \\\"dataset_features\\\": 12, \\\"dataset_samples\\\": 271, \\\"single_frequency_class_detected\\\": false}\", \"ModelExplainRunId\": \"AutoML_faab6e12-a632-4021-8373-7cfab7444c1b_ModelExplain\"}, \"tags\": {\"model_explain_run\": \"best_run\", \"_aml_system_azureml.automlComponent\": \"AutoML\", \"pipeline_id\": \"\", \"score\": \"\", \"predicted_cost\": \"\", \"fit_time\": \"\", \"training_percent\": \"\", \"iteration\": \"\", \"run_preprocessor\": \"\", \"run_algorithm\": \"\", \"dynamic_whitelisting_iterations\": \"<25>;<30>;<35>;<40>;<45>;<50>;<55>;<60>;<65>;<70>;<75>;<80>;<85>;<90>;<95>;\", \"automl_best_child_run_id\": \"AutoML_faab6e12-a632-4021-8373-7cfab7444c1b_96\"}, \"end_time_utc\": \"2021-02-12T09:03:14.302602Z\", \"status\": \"Completed\", \"log_files\": {}, \"log_groups\": [], \"run_duration\": \"0:41:53\"}, \"child_runs\": [{\"run_id\": \"AutoML_faab6e12-a632-4021-8373-7cfab7444c1b_0\", \"run_number\": 7, \"metric\": null, \"status\": \"Completed\", \"run_type\": \"azureml.scriptrun\", \"training_percent\": \"100\", \"start_time\": \"2021-02-12T08:31:38.006733Z\", \"end_time\": \"2021-02-12T08:32:41.377394Z\", \"created_time\": \"2021-02-12T08:30:32.787284Z\", \"created_time_dt\": \"2021-02-12T08:30:32.787284Z\", \"duration\": \"0:02:08\", \"iteration\": \"0\", \"goal\": \"accuracy_max\", \"run_name\": \"MaxAbsScaler, LightGBM\", \"run_properties\": \"copy=True\", \"primary_metric\": 0.78571429, \"best_metric\": 0.78571429}, {\"run_id\": \"AutoML_faab6e12-a632-4021-8373-7cfab7444c1b_2\", \"run_number\": 8, \"metric\": null, \"status\": \"Completed\", \"run_type\": \"azureml.scriptrun\", \"training_percent\": \"100\", \"start_time\": \"2021-02-12T08:32:46.872237Z\", \"end_time\": \"2021-02-12T08:33:46.566274Z\", \"created_time\": \"2021-02-12T08:30:32.799565Z\", \"created_time_dt\": \"2021-02-12T08:30:32.799565Z\", \"duration\": \"0:03:13\", \"iteration\": \"2\", \"goal\": \"accuracy_max\", \"run_name\": \"MinMaxScaler, RandomForest\", \"run_properties\": \"copy=True, feature_range=(0, 1\", \"primary_metric\": 0.83374033, \"best_metric\": 0.83740334}, {\"run_id\": \"AutoML_faab6e12-a632-4021-8373-7cfab7444c1b_1\", \"run_number\": 9, \"metric\": null, \"status\": \"Completed\", \"run_type\": \"azureml.scriptrun\", \"training_percent\": \"100\", \"start_time\": \"2021-02-12T08:30:45.14798Z\", \"end_time\": \"2021-02-12T08:31:36.200654Z\", \"created_time\": \"2021-02-12T08:30:32.80509Z\", \"created_time_dt\": \"2021-02-12T08:30:32.80509Z\", \"duration\": \"0:01:03\", \"iteration\": \"1\", \"goal\": \"accuracy_max\", \"run_name\": \"MaxAbsScaler, XGBoostClassifier\", \"run_properties\": \"copy=True\", \"primary_metric\": 0.83740334, \"best_metric\": 0.83740334}, {\"run_id\": \"AutoML_faab6e12-a632-4021-8373-7cfab7444c1b_3\", \"run_number\": 10, \"metric\": null, \"status\": \"Completed\", \"run_type\": \"azureml.scriptrun\", \"training_percent\": \"100\", \"start_time\": \"2021-02-12T08:32:41.63767Z\", \"end_time\": \"2021-02-12T08:36:09.557923Z\", \"created_time\": \"2021-02-12T08:30:32.833178Z\", \"created_time_dt\": \"2021-02-12T08:30:32.833178Z\", \"duration\": \"0:05:36\", \"iteration\": \"3\", \"goal\": \"accuracy_max\", \"run_name\": \"MinMaxScaler, RandomForest\", \"run_properties\": \"copy=True, feature_range=(0, 1\", \"primary_metric\": 0.81912902, \"best_metric\": 0.83740334}, {\"run_id\": \"AutoML_faab6e12-a632-4021-8373-7cfab7444c1b_4\", \"run_number\": 11, \"metric\": null, \"status\": \"Completed\", \"run_type\": \"azureml.scriptrun\", \"training_percent\": \"100\", \"start_time\": \"2021-02-12T08:32:44.761532Z\", \"end_time\": \"2021-02-12T08:36:14.396174Z\", \"created_time\": \"2021-02-12T08:31:37.72676Z\", \"created_time_dt\": \"2021-02-12T08:31:37.72676Z\", \"duration\": \"0:04:36\", \"iteration\": \"4\", \"goal\": \"accuracy_max\", \"run_name\": \"MinMaxScaler, RandomForest\", \"run_properties\": \"copy=True, feature_range=(0, 1\", \"primary_metric\": 0.82645503, \"best_metric\": 0.83740334}, {\"run_id\": \"AutoML_faab6e12-a632-4021-8373-7cfab7444c1b_5\", \"run_number\": 12, \"metric\": null, \"status\": \"Completed\", \"run_type\": \"azureml.scriptrun\", \"training_percent\": \"100\", \"start_time\": \"2021-02-12T08:33:00.314606Z\", \"end_time\": \"2021-02-12T08:36:33.245603Z\", \"created_time\": \"2021-02-12T08:32:44.358305Z\", \"created_time_dt\": \"2021-02-12T08:32:44.358305Z\", \"duration\": \"0:03:48\", \"iteration\": \"5\", \"goal\": \"accuracy_max\", \"run_name\": \"SparseNormalizer, XGBoostClassifier\", \"run_properties\": \"<azureml.automl.runtime.shared.model_wrappers.SparseNormalizer object at 0x7f428af70198\", \"primary_metric\": 0.82275132, \"best_metric\": 0.83740334}, {\"run_id\": \"AutoML_faab6e12-a632-4021-8373-7cfab7444c1b_6\", \"run_number\": 13, \"metric\": null, \"status\": \"Completed\", \"run_type\": \"azureml.scriptrun\", \"training_percent\": \"100\", \"start_time\": \"2021-02-12T08:34:05.367728Z\", \"end_time\": \"2021-02-12T08:35:01.643202Z\", \"created_time\": \"2021-02-12T08:33:51.225143Z\", \"created_time_dt\": \"2021-02-12T08:33:51.225143Z\", \"duration\": \"0:01:10\", \"iteration\": \"6\", \"goal\": \"accuracy_max\", \"run_name\": \"StandardScalerWrapper, LightGBM\", \"run_properties\": \"<azureml.automl.runtime.shared.model_wrappers.StandardScalerWrapper object at 0x7f0d1348d710\", \"primary_metric\": 0.84863655, \"best_metric\": 0.84863655}, {\"run_id\": \"AutoML_faab6e12-a632-4021-8373-7cfab7444c1b_7\", \"run_number\": 16, \"metric\": null, \"status\": \"Completed\", \"run_type\": \"azureml.scriptrun\", \"training_percent\": \"100\", \"start_time\": \"2021-02-12T08:35:20.102163Z\", \"end_time\": \"2021-02-12T08:36:09.076683Z\", \"created_time\": \"2021-02-12T08:35:04.567456Z\", \"created_time_dt\": \"2021-02-12T08:35:04.567456Z\", \"duration\": \"0:01:04\", \"iteration\": \"7\", \"goal\": \"accuracy_max\", \"run_name\": \"RobustScaler, SVM\", \"run_properties\": \"copy=True, quantile_range=[10, 90], with_centering=True,\\n             with_scaling=True\", \"primary_metric\": 0.75274725, \"best_metric\": 0.84863655}, {\"run_id\": \"AutoML_faab6e12-a632-4021-8373-7cfab7444c1b_8\", \"run_number\": 17, \"metric\": null, \"status\": \"Completed\", \"run_type\": \"azureml.scriptrun\", \"training_percent\": \"100\", \"start_time\": \"2021-02-12T08:36:23.710537Z\", \"end_time\": \"2021-02-12T08:37:17.23158Z\", \"created_time\": \"2021-02-12T08:36:11.655463Z\", \"created_time_dt\": \"2021-02-12T08:36:11.655463Z\", \"duration\": \"0:01:05\", \"iteration\": \"8\", \"goal\": \"accuracy_max\", \"run_name\": \"SparseNormalizer, XGBoostClassifier\", \"run_properties\": \"<azureml.automl.runtime.shared.model_wrappers.SparseNormalizer object at 0x7f17bbee6cc0\", \"primary_metric\": 0.82649573, \"best_metric\": 0.84863655}, {\"run_id\": \"AutoML_faab6e12-a632-4021-8373-7cfab7444c1b_10\", \"run_number\": 18, \"metric\": null, \"status\": \"Completed\", \"run_type\": \"azureml.scriptrun\", \"training_percent\": \"100\", \"start_time\": \"2021-02-12T08:36:29.125018Z\", \"end_time\": \"2021-02-12T08:37:22.657557Z\", \"created_time\": \"2021-02-12T08:36:17.686083Z\", \"created_time_dt\": \"2021-02-12T08:36:17.686083Z\", \"duration\": \"0:01:04\", \"iteration\": \"10\", \"goal\": \"accuracy_max\", \"run_name\": \"StandardScalerWrapper, RandomForest\", \"run_properties\": \"<azureml.automl.runtime.shared.model_wrappers.StandardScalerWrapper object at 0x7fad8efd6eb8\", \"primary_metric\": 0.82266992, \"best_metric\": 0.84863655}, {\"run_id\": \"AutoML_faab6e12-a632-4021-8373-7cfab7444c1b_9\", \"run_number\": 19, \"metric\": null, \"status\": \"Completed\", \"run_type\": \"azureml.scriptrun\", \"training_percent\": \"100\", \"start_time\": \"2021-02-12T08:36:32.428058Z\", \"end_time\": \"2021-02-12T08:37:30.406644Z\", \"created_time\": \"2021-02-12T08:36:17.876963Z\", \"created_time_dt\": \"2021-02-12T08:36:17.876963Z\", \"duration\": \"0:01:12\", \"iteration\": \"9\", \"goal\": \"accuracy_max\", \"run_name\": \"SparseNormalizer, XGBoostClassifier\", \"run_properties\": \"<azureml.automl.runtime.shared.model_wrappers.SparseNormalizer object at 0x7ff22a29fa20\", \"primary_metric\": 0.81900692, \"best_metric\": 0.84863655}, {\"run_id\": \"AutoML_faab6e12-a632-4021-8373-7cfab7444c1b_11\", \"run_number\": 20, \"metric\": null, \"status\": \"Completed\", \"run_type\": \"azureml.scriptrun\", \"training_percent\": \"100\", \"start_time\": \"2021-02-12T08:36:46.174549Z\", \"end_time\": \"2021-02-12T08:37:43.132959Z\", \"created_time\": \"2021-02-12T08:36:35.457258Z\", \"created_time_dt\": \"2021-02-12T08:36:35.457258Z\", \"duration\": \"0:01:07\", \"iteration\": \"11\", \"goal\": \"accuracy_max\", \"run_name\": \"SparseNormalizer, LightGBM\", \"run_properties\": \"<azureml.automl.runtime.shared.model_wrappers.SparseNormalizer object at 0x7f867c775710\", \"primary_metric\": 0.83015873, \"best_metric\": 0.84863655}, {\"run_id\": \"AutoML_faab6e12-a632-4021-8373-7cfab7444c1b_12\", \"run_number\": 21, \"metric\": null, \"status\": \"Completed\", \"run_type\": \"azureml.scriptrun\", \"training_percent\": \"100\", \"start_time\": \"2021-02-12T08:37:31.744081Z\", \"end_time\": \"2021-02-12T08:38:21.259763Z\", \"created_time\": \"2021-02-12T08:37:18.898771Z\", \"created_time_dt\": \"2021-02-12T08:37:18.898771Z\", \"duration\": \"0:01:02\", \"iteration\": \"12\", \"goal\": \"accuracy_max\", \"run_name\": \"MinMaxScaler, LightGBM\", \"run_properties\": \"copy=True, feature_range=(0, 1\", \"primary_metric\": 0.8043549, \"best_metric\": 0.84863655}, {\"run_id\": \"AutoML_faab6e12-a632-4021-8373-7cfab7444c1b_13\", \"run_number\": 22, \"metric\": null, \"status\": \"Completed\", \"run_type\": \"azureml.scriptrun\", \"training_percent\": \"100\", \"start_time\": \"2021-02-12T08:37:37.790695Z\", \"end_time\": \"2021-02-12T08:38:33.035096Z\", \"created_time\": \"2021-02-12T08:37:24.300431Z\", \"created_time_dt\": \"2021-02-12T08:37:24.300431Z\", \"duration\": \"0:01:08\", \"iteration\": \"13\", \"goal\": \"accuracy_max\", \"run_name\": \"SparseNormalizer, XGBoostClassifier\", \"run_properties\": \"<azureml.automl.runtime.shared.model_wrappers.SparseNormalizer object at 0x7f19be0bf278\", \"primary_metric\": 0.78966219, \"best_metric\": 0.84863655}, {\"run_id\": \"AutoML_faab6e12-a632-4021-8373-7cfab7444c1b_14\", \"run_number\": 23, \"metric\": null, \"status\": \"Completed\", \"run_type\": \"azureml.scriptrun\", \"training_percent\": \"100\", \"start_time\": \"2021-02-12T08:37:49.669257Z\", \"end_time\": \"2021-02-12T08:38:41.836217Z\", \"created_time\": \"2021-02-12T08:37:32.750054Z\", \"created_time_dt\": \"2021-02-12T08:37:32.750054Z\", \"duration\": \"0:01:09\", \"iteration\": \"14\", \"goal\": \"accuracy_max\", \"run_name\": \"StandardScalerWrapper, LightGBM\", \"run_properties\": \"<azureml.automl.runtime.shared.model_wrappers.StandardScalerWrapper object at 0x7fb7830ef710\", \"primary_metric\": 0.80797721, \"best_metric\": 0.84863655}, {\"run_id\": \"AutoML_faab6e12-a632-4021-8373-7cfab7444c1b_15\", \"run_number\": 24, \"metric\": null, \"status\": \"Completed\", \"run_type\": \"azureml.scriptrun\", \"training_percent\": \"100\", \"start_time\": \"2021-02-12T08:37:59.204809Z\", \"end_time\": \"2021-02-12T08:38:59.967595Z\", \"created_time\": \"2021-02-12T08:37:45.540754Z\", \"created_time_dt\": \"2021-02-12T08:37:45.540754Z\", \"duration\": \"0:01:14\", \"iteration\": \"15\", \"goal\": \"accuracy_max\", \"run_name\": \"RobustScaler, RandomForest\", \"run_properties\": \"copy=True, quantile_range=[10, 90], with_centering=True,\\n             with_scaling=True\", \"primary_metric\": 0.84485144, \"best_metric\": 0.84863655}, {\"run_id\": \"AutoML_faab6e12-a632-4021-8373-7cfab7444c1b_16\", \"run_number\": 25, \"metric\": null, \"status\": \"Completed\", \"run_type\": \"azureml.scriptrun\", \"training_percent\": \"100\", \"start_time\": \"2021-02-12T08:38:38.014729Z\", \"end_time\": \"2021-02-12T08:39:30.075218Z\", \"created_time\": \"2021-02-12T08:38:23.843173Z\", \"created_time_dt\": \"2021-02-12T08:38:23.843173Z\", \"duration\": \"0:01:06\", \"iteration\": \"16\", \"goal\": \"accuracy_max\", \"run_name\": \"SparseNormalizer, LightGBM\", \"run_properties\": \"<azureml.automl.runtime.shared.model_wrappers.SparseNormalizer object at 0x7f86b97170f0\", \"primary_metric\": 0.82645503, \"best_metric\": 0.84863655}, {\"run_id\": \"AutoML_faab6e12-a632-4021-8373-7cfab7444c1b_17\", \"run_number\": 26, \"metric\": null, \"status\": \"Completed\", \"run_type\": \"azureml.scriptrun\", \"training_percent\": \"100\", \"start_time\": \"2021-02-12T08:38:50.994423Z\", \"end_time\": \"2021-02-12T08:39:43.810712Z\", \"created_time\": \"2021-02-12T08:38:35.645529Z\", \"created_time_dt\": \"2021-02-12T08:38:35.645529Z\", \"duration\": \"0:01:08\", \"iteration\": \"17\", \"goal\": \"accuracy_max\", \"run_name\": \"MinMaxScaler, LightGBM\", \"run_properties\": \"copy=True, feature_range=(0, 1\", \"primary_metric\": 0.78217338, \"best_metric\": 0.84863655}, {\"run_id\": \"AutoML_faab6e12-a632-4021-8373-7cfab7444c1b_18\", \"run_number\": 31, \"metric\": null, \"status\": \"Completed\", \"run_type\": \"azureml.scriptrun\", \"training_percent\": \"100\", \"start_time\": \"2021-02-12T08:38:57.374073Z\", \"end_time\": \"2021-02-12T08:39:52.230277Z\", \"created_time\": \"2021-02-12T08:38:43.618465Z\", \"created_time_dt\": \"2021-02-12T08:38:43.618465Z\", \"duration\": \"0:01:08\", \"iteration\": \"18\", \"goal\": \"accuracy_max\", \"run_name\": \"StandardScalerWrapper, XGBoostClassifier\", \"run_properties\": \"<azureml.automl.runtime.shared.model_wrappers.StandardScalerWrapper object at 0x7fce621949e8\", \"primary_metric\": 0.82641433, \"best_metric\": 0.84863655}, {\"run_id\": \"AutoML_faab6e12-a632-4021-8373-7cfab7444c1b_19\", \"run_number\": 32, \"metric\": null, \"status\": \"Completed\", \"run_type\": \"azureml.scriptrun\", \"training_percent\": \"100\", \"start_time\": \"2021-02-12T08:39:14.554116Z\", \"end_time\": \"2021-02-12T08:40:09.211808Z\", \"created_time\": \"2021-02-12T08:39:01.647881Z\", \"created_time_dt\": \"2021-02-12T08:39:01.647881Z\", \"duration\": \"0:01:07\", \"iteration\": \"19\", \"goal\": \"accuracy_max\", \"run_name\": \"RobustScaler, LightGBM\", \"run_properties\": \"copy=True, quantile_range=[25, 75], with_centering=False,\\n             with_scaling=True\", \"primary_metric\": 0.83382173, \"best_metric\": 0.84863655}, {\"run_id\": \"AutoML_faab6e12-a632-4021-8373-7cfab7444c1b_20\", \"run_number\": 33, \"metric\": null, \"status\": \"Completed\", \"run_type\": \"azureml.scriptrun\", \"training_percent\": \"100\", \"start_time\": \"2021-02-12T08:39:44.67139Z\", \"end_time\": \"2021-02-12T08:40:39.73374Z\", \"created_time\": \"2021-02-12T08:39:31.954839Z\", \"created_time_dt\": \"2021-02-12T08:39:31.954839Z\", \"duration\": \"0:01:07\", \"iteration\": \"20\", \"goal\": \"accuracy_max\", \"run_name\": \"StandardScalerWrapper, XGBoostClassifier\", \"run_properties\": \"<azureml.automl.runtime.shared.model_wrappers.StandardScalerWrapper object at 0x7f8601254d30\", \"primary_metric\": 0.81172161, \"best_metric\": 0.84863655}, {\"run_id\": \"AutoML_faab6e12-a632-4021-8373-7cfab7444c1b_21\", \"run_number\": 34, \"metric\": null, \"status\": \"Completed\", \"run_type\": \"azureml.scriptrun\", \"training_percent\": \"100\", \"start_time\": \"2021-02-12T08:39:57.402966Z\", \"end_time\": \"2021-02-12T08:40:47.964166Z\", \"created_time\": \"2021-02-12T08:39:45.501384Z\", \"created_time_dt\": \"2021-02-12T08:39:45.501384Z\", \"duration\": \"0:01:02\", \"iteration\": \"21\", \"goal\": \"accuracy_max\", \"run_name\": \"SparseNormalizer, GradientBoosting\", \"run_properties\": \"<azureml.automl.runtime.shared.model_wrappers.SparseNormalizer object at 0x7f68ae4be4e0\", \"primary_metric\": 0.79332519, \"best_metric\": 0.84863655}, {\"run_id\": \"AutoML_faab6e12-a632-4021-8373-7cfab7444c1b_22\", \"run_number\": 35, \"metric\": null, \"status\": \"Completed\", \"run_type\": \"azureml.scriptrun\", \"training_percent\": \"100\", \"start_time\": \"2021-02-12T08:40:04.53028Z\", \"end_time\": \"2021-02-12T08:40:54.919231Z\", \"created_time\": \"2021-02-12T08:39:54.13786Z\", \"created_time_dt\": \"2021-02-12T08:39:54.13786Z\", \"duration\": \"0:01:00\", \"iteration\": \"22\", \"goal\": \"accuracy_max\", \"run_name\": \"StandardScalerWrapper, LightGBM\", \"run_properties\": \"<azureml.automl.runtime.shared.model_wrappers.StandardScalerWrapper object at 0x7fc6f5c413c8\", \"primary_metric\": 0.84126984, \"best_metric\": 0.84863655}, {\"run_id\": \"AutoML_faab6e12-a632-4021-8373-7cfab7444c1b_23\", \"run_number\": 36, \"metric\": null, \"status\": \"Completed\", \"run_type\": \"azureml.scriptrun\", \"training_percent\": \"100\", \"start_time\": \"2021-02-12T08:40:21.297727Z\", \"end_time\": \"2021-02-12T08:41:08.851235Z\", \"created_time\": \"2021-02-12T08:40:10.845091Z\", \"created_time_dt\": \"2021-02-12T08:40:10.845091Z\", \"duration\": \"0:00:58\", \"iteration\": \"23\", \"goal\": \"accuracy_max\", \"run_name\": \"StandardScalerWrapper, ExtremeRandomTrees\", \"run_properties\": \"<azureml.automl.runtime.shared.model_wrappers.StandardScalerWrapper object at 0x7fe9344bffd0\", \"primary_metric\": 0.76723647, \"best_metric\": 0.84863655}, {\"run_id\": \"AutoML_faab6e12-a632-4021-8373-7cfab7444c1b_24\", \"run_number\": 37, \"metric\": null, \"status\": \"Completed\", \"run_type\": \"azureml.scriptrun\", \"training_percent\": \"100\", \"start_time\": \"2021-02-12T08:40:54.006282Z\", \"end_time\": \"2021-02-12T08:41:45.770285Z\", \"created_time\": \"2021-02-12T08:40:41.523724Z\", \"created_time_dt\": \"2021-02-12T08:40:41.523724Z\", \"duration\": \"0:01:04\", \"iteration\": \"24\", \"goal\": \"accuracy_max\", \"run_name\": \"MaxAbsScaler, ExtremeRandomTrees\", \"run_properties\": \"copy=True\", \"primary_metric\": 0.77102157, \"best_metric\": 0.84863655}, {\"run_id\": \"AutoML_faab6e12-a632-4021-8373-7cfab7444c1b_25\", \"run_number\": 38, \"metric\": null, \"status\": \"Completed\", \"run_type\": \"azureml.scriptrun\", \"training_percent\": \"100\", \"start_time\": \"2021-02-12T08:41:00.838499Z\", \"end_time\": \"2021-02-12T08:41:48.916646Z\", \"created_time\": \"2021-02-12T08:40:50.815371Z\", \"created_time_dt\": \"2021-02-12T08:40:50.815371Z\", \"duration\": \"0:00:58\", \"iteration\": \"25\", \"goal\": \"accuracy_max\", \"run_name\": \"SparseNormalizer, LightGBM\", \"run_properties\": \"<azureml.automl.runtime.shared.model_wrappers.SparseNormalizer object at 0x7f63de6b85c0\", \"primary_metric\": 0.67138787, \"best_metric\": 0.84863655}, {\"run_id\": \"AutoML_faab6e12-a632-4021-8373-7cfab7444c1b_26\", \"run_number\": 39, \"metric\": null, \"status\": \"Completed\", \"run_type\": \"azureml.scriptrun\", \"training_percent\": \"100\", \"start_time\": \"2021-02-12T08:41:09.49637Z\", \"end_time\": \"2021-02-12T08:41:58.852869Z\", \"created_time\": \"2021-02-12T08:40:56.81925Z\", \"created_time_dt\": \"2021-02-12T08:40:56.81925Z\", \"duration\": \"0:01:02\", \"iteration\": \"26\", \"goal\": \"accuracy_max\", \"run_name\": \"StandardScalerWrapper, ExtremeRandomTrees\", \"run_properties\": \"<azureml.automl.runtime.shared.model_wrappers.StandardScalerWrapper object at 0x7efc98cc3438\", \"primary_metric\": 0.80801791, \"best_metric\": 0.84863655}, {\"run_id\": \"AutoML_faab6e12-a632-4021-8373-7cfab7444c1b_27\", \"run_number\": 40, \"metric\": null, \"status\": \"Completed\", \"run_type\": \"azureml.scriptrun\", \"training_percent\": \"100\", \"start_time\": \"2021-02-12T08:41:23.381916Z\", \"end_time\": \"2021-02-12T08:42:13.097463Z\", \"created_time\": \"2021-02-12T08:41:10.604421Z\", \"created_time_dt\": \"2021-02-12T08:41:10.604421Z\", \"duration\": \"0:01:02\", \"iteration\": \"27\", \"goal\": \"accuracy_max\", \"run_name\": \"StandardScalerWrapper, LightGBM\", \"run_properties\": \"<azureml.automl.runtime.shared.model_wrappers.StandardScalerWrapper object at 0x7f91f1ae0ba8\", \"primary_metric\": 0.75641026, \"best_metric\": 0.84863655}, {\"run_id\": \"AutoML_faab6e12-a632-4021-8373-7cfab7444c1b_28\", \"run_number\": 41, \"metric\": null, \"status\": \"Completed\", \"run_type\": \"azureml.scriptrun\", \"training_percent\": \"100\", \"start_time\": \"2021-02-12T08:41:58.303214Z\", \"end_time\": \"2021-02-12T08:43:01.377662Z\", \"created_time\": \"2021-02-12T08:41:47.826861Z\", \"created_time_dt\": \"2021-02-12T08:41:47.826861Z\", \"duration\": \"0:01:13\", \"iteration\": \"28\", \"goal\": \"accuracy_max\", \"run_name\": \"StandardScalerWrapper, LightGBM\", \"run_properties\": \"<azureml.automl.runtime.shared.model_wrappers.StandardScalerWrapper object at 0x7f84c874e198\", \"primary_metric\": 0.77492877, \"best_metric\": 0.84863655}, {\"run_id\": \"AutoML_faab6e12-a632-4021-8373-7cfab7444c1b_29\", \"run_number\": 42, \"metric\": null, \"status\": \"Completed\", \"run_type\": \"azureml.scriptrun\", \"training_percent\": \"100\", \"start_time\": \"2021-02-12T08:42:03.599774Z\", \"end_time\": \"2021-02-12T08:42:59.62954Z\", \"created_time\": \"2021-02-12T08:41:50.8642Z\", \"created_time_dt\": \"2021-02-12T08:41:50.8642Z\", \"duration\": \"0:01:08\", \"iteration\": \"29\", \"goal\": \"accuracy_max\", \"run_name\": \"StandardScalerWrapper, XGBoostClassifier\", \"run_properties\": \"<azureml.automl.runtime.shared.model_wrappers.StandardScalerWrapper object at 0x7f9b12036198\", \"primary_metric\": 0.8005698, \"best_metric\": 0.84863655}, {\"run_id\": \"AutoML_faab6e12-a632-4021-8373-7cfab7444c1b_30\", \"run_number\": 43, \"metric\": null, \"status\": \"Completed\", \"run_type\": \"azureml.scriptrun\", \"training_percent\": \"100\", \"start_time\": \"2021-02-12T08:42:13.402733Z\", \"end_time\": \"2021-02-12T08:43:01.366685Z\", \"created_time\": \"2021-02-12T08:42:01.488267Z\", \"created_time_dt\": \"2021-02-12T08:42:01.488267Z\", \"duration\": \"0:00:59\", \"iteration\": \"30\", \"goal\": \"accuracy_max\", \"run_name\": \"StandardScalerWrapper, LightGBM\", \"run_properties\": \"<azureml.automl.runtime.shared.model_wrappers.StandardScalerWrapper object at 0x7f2fa9be45c0\", \"primary_metric\": 0.84489214, \"best_metric\": 0.84863655}, {\"run_id\": \"AutoML_faab6e12-a632-4021-8373-7cfab7444c1b_31\", \"run_number\": 44, \"metric\": null, \"status\": \"Completed\", \"run_type\": \"azureml.scriptrun\", \"training_percent\": \"100\", \"start_time\": \"2021-02-12T08:42:26.128732Z\", \"end_time\": \"2021-02-12T08:43:17.112655Z\", \"created_time\": \"2021-02-12T08:42:14.885492Z\", \"created_time_dt\": \"2021-02-12T08:42:14.885492Z\", \"duration\": \"0:01:02\", \"iteration\": \"31\", \"goal\": \"accuracy_max\", \"run_name\": \"StandardScalerWrapper, LightGBM\", \"run_properties\": \"<azureml.automl.runtime.shared.model_wrappers.StandardScalerWrapper object at 0x7f5db5b176d8\", \"primary_metric\": 0.77114367, \"best_metric\": 0.84863655}, {\"run_id\": \"AutoML_faab6e12-a632-4021-8373-7cfab7444c1b_32\", \"run_number\": 45, \"metric\": null, \"status\": \"Completed\", \"run_type\": \"azureml.scriptrun\", \"training_percent\": \"100\", \"start_time\": \"2021-02-12T08:43:13.889873Z\", \"end_time\": \"2021-02-12T08:44:05.227078Z\", \"created_time\": \"2021-02-12T08:43:01.98329Z\", \"created_time_dt\": \"2021-02-12T08:43:01.98329Z\", \"duration\": \"0:01:03\", \"iteration\": \"32\", \"goal\": \"accuracy_max\", \"run_name\": \"StandardScalerWrapper, LightGBM\", \"run_properties\": \"<azureml.automl.runtime.shared.model_wrappers.StandardScalerWrapper object at 0x7f90ec108c88\", \"primary_metric\": 0.83756614, \"best_metric\": 0.84863655}, {\"run_id\": \"AutoML_faab6e12-a632-4021-8373-7cfab7444c1b_33\", \"run_number\": 46, \"metric\": null, \"status\": \"Completed\", \"run_type\": \"azureml.scriptrun\", \"training_percent\": \"100\", \"start_time\": \"2021-02-12T08:43:18.92712Z\", \"end_time\": \"2021-02-12T08:44:14.082212Z\", \"created_time\": \"2021-02-12T08:43:05.55186Z\", \"created_time_dt\": \"2021-02-12T08:43:05.55186Z\", \"duration\": \"0:01:08\", \"iteration\": \"33\", \"goal\": \"accuracy_max\", \"run_name\": \"MaxAbsScaler, LightGBM\", \"run_properties\": \"copy=True\", \"primary_metric\": 0.82275132, \"best_metric\": 0.84863655}, {\"run_id\": \"AutoML_faab6e12-a632-4021-8373-7cfab7444c1b_34\", \"run_number\": 47, \"metric\": null, \"status\": \"Completed\", \"run_type\": \"azureml.scriptrun\", \"training_percent\": \"100\", \"start_time\": \"2021-02-12T08:43:19.153257Z\", \"end_time\": \"2021-02-12T08:44:10.397571Z\", \"created_time\": \"2021-02-12T08:43:05.586013Z\", \"created_time_dt\": \"2021-02-12T08:43:05.586013Z\", \"duration\": \"0:01:04\", \"iteration\": \"34\", \"goal\": \"accuracy_max\", \"run_name\": \"StandardScalerWrapper, XGBoostClassifier\", \"run_properties\": \"<azureml.automl.runtime.shared.model_wrappers.StandardScalerWrapper object at 0x7f4318629630\", \"primary_metric\": 0.83748474, \"best_metric\": 0.84863655}, {\"run_id\": \"AutoML_faab6e12-a632-4021-8373-7cfab7444c1b_35\", \"run_number\": 48, \"metric\": null, \"status\": \"Completed\", \"run_type\": \"azureml.scriptrun\", \"training_percent\": \"100\", \"start_time\": \"2021-02-12T08:43:36.134445Z\", \"end_time\": \"2021-02-12T08:44:35.58826Z\", \"created_time\": \"2021-02-12T08:43:20.544705Z\", \"created_time_dt\": \"2021-02-12T08:43:20.544705Z\", \"duration\": \"0:01:15\", \"iteration\": \"35\", \"goal\": \"accuracy_max\", \"run_name\": \"SparseNormalizer, LightGBM\", \"run_properties\": \"<azureml.automl.runtime.shared.model_wrappers.SparseNormalizer object at 0x7f670e1d8048\", \"primary_metric\": 0.80801791, \"best_metric\": 0.84863655}, {\"run_id\": \"AutoML_faab6e12-a632-4021-8373-7cfab7444c1b_36\", \"run_number\": 49, \"metric\": null, \"status\": \"Completed\", \"run_type\": \"azureml.scriptrun\", \"training_percent\": \"100\", \"start_time\": \"2021-02-12T08:44:21.813483Z\", \"end_time\": \"2021-02-12T08:45:08.291465Z\", \"created_time\": \"2021-02-12T08:44:07.643973Z\", \"created_time_dt\": \"2021-02-12T08:44:07.643973Z\", \"duration\": \"0:01:00\", \"iteration\": \"36\", \"goal\": \"accuracy_max\", \"run_name\": \"MaxAbsScaler, LightGBM\", \"run_properties\": \"copy=True\", \"primary_metric\": 0.84493284, \"best_metric\": 0.84863655}, {\"run_id\": \"AutoML_faab6e12-a632-4021-8373-7cfab7444c1b_37\", \"run_number\": 50, \"metric\": null, \"status\": \"Completed\", \"run_type\": \"azureml.scriptrun\", \"training_percent\": \"100\", \"start_time\": \"2021-02-12T08:44:27.712966Z\", \"end_time\": \"2021-02-12T08:45:17.637156Z\", \"created_time\": \"2021-02-12T08:44:13.697669Z\", \"created_time_dt\": \"2021-02-12T08:44:13.697669Z\", \"duration\": \"0:01:03\", \"iteration\": \"37\", \"goal\": \"accuracy_max\", \"run_name\": \"RobustScaler, ExtremeRandomTrees\", \"run_properties\": \"copy=True, quantile_range=[25, 75], with_centering=True,\\n             with_scaling=False\", \"primary_metric\": 0.85229955, \"best_metric\": 0.85229955}, {\"run_id\": \"AutoML_faab6e12-a632-4021-8373-7cfab7444c1b_38\", \"run_number\": 51, \"metric\": null, \"status\": \"Completed\", \"run_type\": \"azureml.scriptrun\", \"training_percent\": \"100\", \"start_time\": \"2021-02-12T08:44:29.573373Z\", \"end_time\": \"2021-02-12T08:45:21.017914Z\", \"created_time\": \"2021-02-12T08:44:18.673739Z\", \"created_time_dt\": \"2021-02-12T08:44:18.673739Z\", \"duration\": \"0:01:02\", \"iteration\": \"38\", \"goal\": \"accuracy_max\", \"run_name\": \"SparseNormalizer, XGBoostClassifier\", \"run_properties\": \"<azureml.automl.runtime.shared.model_wrappers.SparseNormalizer object at 0x7f946c65b588\", \"primary_metric\": 0.81900692, \"best_metric\": 0.85229955}, {\"run_id\": \"AutoML_faab6e12-a632-4021-8373-7cfab7444c1b_39\", \"run_number\": 52, \"metric\": null, \"status\": \"Completed\", \"run_type\": \"azureml.scriptrun\", \"training_percent\": \"100\", \"start_time\": \"2021-02-12T08:44:50.249198Z\", \"end_time\": \"2021-02-12T08:45:37.814154Z\", \"created_time\": \"2021-02-12T08:44:38.700823Z\", \"created_time_dt\": \"2021-02-12T08:44:38.700823Z\", \"duration\": \"0:00:59\", \"iteration\": \"39\", \"goal\": \"accuracy_max\", \"run_name\": \"StandardScalerWrapper, LightGBM\", \"run_properties\": \"<azureml.automl.runtime.shared.model_wrappers.StandardScalerWrapper object at 0x7fe2f8101a58\", \"primary_metric\": 0.82657713, \"best_metric\": 0.85229955}, {\"run_id\": \"AutoML_faab6e12-a632-4021-8373-7cfab7444c1b_40\", \"run_number\": 53, \"metric\": null, \"status\": \"Completed\", \"run_type\": \"azureml.scriptrun\", \"training_percent\": \"100\", \"start_time\": \"2021-02-12T08:45:22.540146Z\", \"end_time\": \"2021-02-12T08:46:10.642135Z\", \"created_time\": \"2021-02-12T08:45:11.309776Z\", \"created_time_dt\": \"2021-02-12T08:45:11.309776Z\", \"duration\": \"0:00:59\", \"iteration\": \"40\", \"goal\": \"accuracy_max\", \"run_name\": \"MaxAbsScaler, LightGBM\", \"run_properties\": \"copy=True\", \"primary_metric\": 0.84118844, \"best_metric\": 0.85229955}, {\"run_id\": \"AutoML_faab6e12-a632-4021-8373-7cfab7444c1b_41\", \"run_number\": 54, \"metric\": null, \"status\": \"Completed\", \"run_type\": \"azureml.scriptrun\", \"training_percent\": \"100\", \"start_time\": \"2021-02-12T08:45:30.608084Z\", \"end_time\": \"2021-02-12T08:46:21.43867Z\", \"created_time\": \"2021-02-12T08:45:19.37705Z\", \"created_time_dt\": \"2021-02-12T08:45:19.37705Z\", \"duration\": \"0:01:02\", \"iteration\": \"41\", \"goal\": \"accuracy_max\", \"run_name\": \"StandardScalerWrapper, LightGBM\", \"run_properties\": \"<azureml.automl.runtime.shared.model_wrappers.StandardScalerWrapper object at 0x7f801638fbe0\", \"primary_metric\": 0.84122914, \"best_metric\": 0.85229955}, {\"run_id\": \"AutoML_faab6e12-a632-4021-8373-7cfab7444c1b_42\", \"run_number\": 55, \"metric\": null, \"status\": \"Completed\", \"run_type\": \"azureml.scriptrun\", \"training_percent\": \"100\", \"start_time\": \"2021-02-12T08:45:35.467089Z\", \"end_time\": \"2021-02-12T08:46:33.04675Z\", \"created_time\": \"2021-02-12T08:45:23.145202Z\", \"created_time_dt\": \"2021-02-12T08:45:23.145202Z\", \"duration\": \"0:01:09\", \"iteration\": \"42\", \"goal\": \"accuracy_max\", \"run_name\": \"MaxAbsScaler, LightGBM\", \"run_properties\": \"copy=True\", \"primary_metric\": 0.81900692, \"best_metric\": 0.85229955}, {\"run_id\": \"AutoML_faab6e12-a632-4021-8373-7cfab7444c1b_43\", \"run_number\": 56, \"metric\": null, \"status\": \"Completed\", \"run_type\": \"azureml.scriptrun\", \"training_percent\": \"100\", \"start_time\": \"2021-02-12T08:45:53.116361Z\", \"end_time\": \"2021-02-12T08:46:47.692197Z\", \"created_time\": \"2021-02-12T08:45:39.643523Z\", \"created_time_dt\": \"2021-02-12T08:45:39.643523Z\", \"duration\": \"0:01:08\", \"iteration\": \"43\", \"goal\": \"accuracy_max\", \"run_name\": \"StandardScalerWrapper, XGBoostClassifier\", \"run_properties\": \"<azureml.automl.runtime.shared.model_wrappers.StandardScalerWrapper object at 0x7f3c81720d30\", \"primary_metric\": 0.81526252, \"best_metric\": 0.85229955}, {\"run_id\": \"AutoML_faab6e12-a632-4021-8373-7cfab7444c1b_44\", \"run_number\": 57, \"metric\": null, \"status\": \"Completed\", \"run_type\": \"azureml.scriptrun\", \"training_percent\": \"100\", \"start_time\": \"2021-02-12T08:46:24.250157Z\", \"end_time\": \"2021-02-12T08:47:16.105649Z\", \"created_time\": \"2021-02-12T08:46:12.794896Z\", \"created_time_dt\": \"2021-02-12T08:46:12.794896Z\", \"duration\": \"0:01:03\", \"iteration\": \"44\", \"goal\": \"accuracy_max\", \"run_name\": \"MaxAbsScaler, LightGBM\", \"run_properties\": \"copy=True\", \"primary_metric\": 0.84493284, \"best_metric\": 0.85229955}, {\"run_id\": \"AutoML_faab6e12-a632-4021-8373-7cfab7444c1b_45\", \"run_number\": 58, \"metric\": null, \"status\": \"Completed\", \"run_type\": \"azureml.scriptrun\", \"training_percent\": \"100\", \"start_time\": \"2021-02-12T08:46:36.874249Z\", \"end_time\": \"2021-02-12T08:47:48.212227Z\", \"created_time\": \"2021-02-12T08:46:24.125745Z\", \"created_time_dt\": \"2021-02-12T08:46:24.125745Z\", \"duration\": \"0:01:24\", \"iteration\": \"45\", \"goal\": \"accuracy_max\", \"run_name\": \"RobustScaler, ExtremeRandomTrees\", \"run_properties\": \"copy=True, quantile_range=[10, 90], with_centering=False,\\n             with_scaling=True\", \"primary_metric\": 0.67505088, \"best_metric\": 0.85229955}, {\"run_id\": \"AutoML_faab6e12-a632-4021-8373-7cfab7444c1b_46\", \"run_number\": 59, \"metric\": null, \"status\": \"Completed\", \"run_type\": \"azureml.scriptrun\", \"training_percent\": \"100\", \"start_time\": \"2021-02-12T08:46:47.607882Z\", \"end_time\": \"2021-02-12T08:47:40.407909Z\", \"created_time\": \"2021-02-12T08:46:34.863413Z\", \"created_time_dt\": \"2021-02-12T08:46:34.863413Z\", \"duration\": \"0:01:05\", \"iteration\": \"46\", \"goal\": \"accuracy_max\", \"run_name\": \"SparseNormalizer, XGBoostClassifier\", \"run_properties\": \"<azureml.automl.runtime.shared.model_wrappers.SparseNormalizer object at 0x7ff2c4683470\", \"primary_metric\": 0.8042735, \"best_metric\": 0.85229955}, {\"run_id\": \"AutoML_faab6e12-a632-4021-8373-7cfab7444c1b_47\", \"run_number\": 60, \"metric\": null, \"status\": \"Completed\", \"run_type\": \"azureml.scriptrun\", \"training_percent\": \"100\", \"start_time\": \"2021-02-12T08:47:02.144726Z\", \"end_time\": \"2021-02-12T08:47:55.88679Z\", \"created_time\": \"2021-02-12T08:46:49.675341Z\", \"created_time_dt\": \"2021-02-12T08:46:49.675341Z\", \"duration\": \"0:01:06\", \"iteration\": \"47\", \"goal\": \"accuracy_max\", \"run_name\": \"MaxAbsScaler, RandomForest\", \"run_properties\": \"copy=True\", \"primary_metric\": 0.84122914, \"best_metric\": 0.85229955}, {\"run_id\": \"AutoML_faab6e12-a632-4021-8373-7cfab7444c1b_48\", \"run_number\": 61, \"metric\": null, \"status\": \"Completed\", \"run_type\": \"azureml.scriptrun\", \"training_percent\": \"100\", \"start_time\": \"2021-02-12T08:47:30.828181Z\", \"end_time\": \"2021-02-12T08:48:19.709963Z\", \"created_time\": \"2021-02-12T08:47:17.776764Z\", \"created_time_dt\": \"2021-02-12T08:47:17.776764Z\", \"duration\": \"0:01:01\", \"iteration\": \"48\", \"goal\": \"accuracy_max\", \"run_name\": \"RobustScaler, RandomForest\", \"run_properties\": \"copy=True, quantile_range=[10, 90], with_centering=True,\\n             with_scaling=False\", \"primary_metric\": 0.83756614, \"best_metric\": 0.85229955}, {\"run_id\": \"AutoML_faab6e12-a632-4021-8373-7cfab7444c1b_49\", \"run_number\": 62, \"metric\": null, \"status\": \"Completed\", \"run_type\": \"azureml.scriptrun\", \"training_percent\": \"100\", \"start_time\": \"2021-02-12T08:47:52.333461Z\", \"end_time\": \"2021-02-12T08:48:48.803381Z\", \"created_time\": \"2021-02-12T08:47:42.259258Z\", \"created_time_dt\": \"2021-02-12T08:47:42.259258Z\", \"duration\": \"0:01:06\", \"iteration\": \"49\", \"goal\": \"accuracy_max\", \"run_name\": \"StandardScalerWrapper, LightGBM\", \"run_properties\": \"<azureml.automl.runtime.shared.model_wrappers.StandardScalerWrapper object at 0x7f20bc2409e8\", \"primary_metric\": 0.84493284, \"best_metric\": 0.85229955}, {\"run_id\": \"AutoML_faab6e12-a632-4021-8373-7cfab7444c1b_50\", \"run_number\": 63, \"metric\": null, \"status\": \"Completed\", \"run_type\": \"azureml.scriptrun\", \"training_percent\": \"100\", \"start_time\": \"2021-02-12T08:48:02.059158Z\", \"end_time\": \"2021-02-12T08:48:55.4658Z\", \"created_time\": \"2021-02-12T08:47:51.316281Z\", \"created_time_dt\": \"2021-02-12T08:47:51.316281Z\", \"duration\": \"0:01:04\", \"iteration\": \"50\", \"goal\": \"accuracy_max\", \"run_name\": \"StandardScalerWrapper, ExtremeRandomTrees\", \"run_properties\": \"<azureml.automl.runtime.shared.model_wrappers.StandardScalerWrapper object at 0x7fa6497869e8\", \"primary_metric\": 0.83011803, \"best_metric\": 0.85229955}, {\"run_id\": \"AutoML_faab6e12-a632-4021-8373-7cfab7444c1b_51\", \"run_number\": 64, \"metric\": null, \"status\": \"Completed\", \"run_type\": \"azureml.scriptrun\", \"training_percent\": \"100\", \"start_time\": \"2021-02-12T08:48:08.464935Z\", \"end_time\": \"2021-02-12T08:49:02.208445Z\", \"created_time\": \"2021-02-12T08:47:57.644158Z\", \"created_time_dt\": \"2021-02-12T08:47:57.644158Z\", \"duration\": \"0:01:04\", \"iteration\": \"51\", \"goal\": \"accuracy_max\", \"run_name\": \"StandardScalerWrapper, XGBoostClassifier\", \"run_properties\": \"<azureml.automl.runtime.shared.model_wrappers.StandardScalerWrapper object at 0x7fbaa58116d8\", \"primary_metric\": 0.81900692, \"best_metric\": 0.85229955}, {\"run_id\": \"AutoML_faab6e12-a632-4021-8373-7cfab7444c1b_52\", \"run_number\": 65, \"metric\": null, \"status\": \"Completed\", \"run_type\": \"azureml.scriptrun\", \"training_percent\": \"100\", \"start_time\": \"2021-02-12T08:48:34.475323Z\", \"end_time\": \"2021-02-12T08:49:29.790742Z\", \"created_time\": \"2021-02-12T08:48:21.499234Z\", \"created_time_dt\": \"2021-02-12T08:48:21.499234Z\", \"duration\": \"0:01:08\", \"iteration\": \"52\", \"goal\": \"accuracy_max\", \"run_name\": \"RobustScaler, ExtremeRandomTrees\", \"run_properties\": \"copy=True, quantile_range=[25, 75], with_centering=False,\\n             with_scaling=False\", \"primary_metric\": 0.84489214, \"best_metric\": 0.85229955}, {\"run_id\": \"AutoML_faab6e12-a632-4021-8373-7cfab7444c1b_53\", \"run_number\": 66, \"metric\": null, \"status\": \"Completed\", \"run_type\": \"azureml.scriptrun\", \"training_percent\": \"100\", \"start_time\": \"2021-02-12T08:49:00.720936Z\", \"end_time\": \"2021-02-12T08:49:49.132235Z\", \"created_time\": \"2021-02-12T08:48:50.631656Z\", \"created_time_dt\": \"2021-02-12T08:48:50.631656Z\", \"duration\": \"0:00:58\", \"iteration\": \"53\", \"goal\": \"accuracy_max\", \"run_name\": \"StandardScalerWrapper, XGBoostClassifier\", \"run_properties\": \"<azureml.automl.runtime.shared.model_wrappers.StandardScalerWrapper object at 0x7f17a3053ef0\", \"primary_metric\": 0.80793651, \"best_metric\": 0.85229955}, {\"run_id\": \"AutoML_faab6e12-a632-4021-8373-7cfab7444c1b_54\", \"run_number\": 67, \"metric\": null, \"status\": \"Completed\", \"run_type\": \"azureml.scriptrun\", \"training_percent\": \"100\", \"start_time\": \"2021-02-12T08:49:09.419163Z\", \"end_time\": \"2021-02-12T08:50:01.235928Z\", \"created_time\": \"2021-02-12T08:48:57.069452Z\", \"created_time_dt\": \"2021-02-12T08:48:57.069452Z\", \"duration\": \"0:01:04\", \"iteration\": \"54\", \"goal\": \"accuracy_max\", \"run_name\": \"SparseNormalizer, XGBoostClassifier\", \"run_properties\": \"<azureml.automl.runtime.shared.model_wrappers.SparseNormalizer object at 0x7fb9a60c2438\", \"primary_metric\": 0.83378103, \"best_metric\": 0.85229955}, {\"run_id\": \"AutoML_faab6e12-a632-4021-8373-7cfab7444c1b_55\", \"run_number\": 68, \"metric\": null, \"status\": \"Completed\", \"run_type\": \"azureml.scriptrun\", \"training_percent\": \"100\", \"start_time\": \"2021-02-12T08:49:17.314769Z\", \"end_time\": \"2021-02-12T08:50:07.222485Z\", \"created_time\": \"2021-02-12T08:49:04.7289Z\", \"created_time_dt\": \"2021-02-12T08:49:04.7289Z\", \"duration\": \"0:01:02\", \"iteration\": \"55\", \"goal\": \"accuracy_max\", \"run_name\": \"RobustScaler, ExtremeRandomTrees\", \"run_properties\": \"copy=True, quantile_range=[25, 75], with_centering=True,\\n             with_scaling=False\", \"primary_metric\": 0.85229955, \"best_metric\": 0.85229955}, {\"run_id\": \"AutoML_faab6e12-a632-4021-8373-7cfab7444c1b_56\", \"run_number\": 69, \"metric\": null, \"status\": \"Completed\", \"run_type\": \"azureml.scriptrun\", \"training_percent\": \"100\", \"start_time\": \"2021-02-12T08:49:47.191725Z\", \"end_time\": \"2021-02-12T08:50:44.181083Z\", \"created_time\": \"2021-02-12T08:49:31.457338Z\", \"created_time_dt\": \"2021-02-12T08:49:31.457338Z\", \"duration\": \"0:01:12\", \"iteration\": \"56\", \"goal\": \"accuracy_max\", \"run_name\": \"MaxAbsScaler, LightGBM\", \"run_properties\": \"copy=True\", \"primary_metric\": 0.83756614, \"best_metric\": 0.85229955}, {\"run_id\": \"AutoML_faab6e12-a632-4021-8373-7cfab7444c1b_57\", \"run_number\": 70, \"metric\": null, \"status\": \"Completed\", \"run_type\": \"azureml.scriptrun\", \"training_percent\": \"100\", \"start_time\": \"2021-02-12T08:50:01.731754Z\", \"end_time\": \"2021-02-12T08:50:50.15352Z\", \"created_time\": \"2021-02-12T08:49:50.795156Z\", \"created_time_dt\": \"2021-02-12T08:49:50.795156Z\", \"duration\": \"0:00:59\", \"iteration\": \"57\", \"goal\": \"accuracy_max\", \"run_name\": \"StandardScalerWrapper, XGBoostClassifier\", \"run_properties\": \"<azureml.automl.runtime.shared.model_wrappers.StandardScalerWrapper object at 0x7fc90d617048\", \"primary_metric\": 0.83382173, \"best_metric\": 0.85229955}, {\"run_id\": \"AutoML_faab6e12-a632-4021-8373-7cfab7444c1b_58\", \"run_number\": 71, \"metric\": null, \"status\": \"Completed\", \"run_type\": \"azureml.scriptrun\", \"training_percent\": \"100\", \"start_time\": \"2021-02-12T08:50:14.837192Z\", \"end_time\": \"2021-02-12T08:51:06.462377Z\", \"created_time\": \"2021-02-12T08:50:03.219129Z\", \"created_time_dt\": \"2021-02-12T08:50:03.219129Z\", \"duration\": \"0:01:03\", \"iteration\": \"58\", \"goal\": \"accuracy_max\", \"run_name\": \"StandardScalerWrapper, ExtremeRandomTrees\", \"run_properties\": \"<azureml.automl.runtime.shared.model_wrappers.StandardScalerWrapper object at 0x7f58bedb3780\", \"primary_metric\": 0.85229955, \"best_metric\": 0.85229955}, {\"run_id\": \"AutoML_faab6e12-a632-4021-8373-7cfab7444c1b_59\", \"run_number\": 72, \"metric\": null, \"status\": \"Completed\", \"run_type\": \"azureml.scriptrun\", \"training_percent\": \"100\", \"start_time\": \"2021-02-12T08:50:20.869715Z\", \"end_time\": \"2021-02-12T08:51:19.137024Z\", \"created_time\": \"2021-02-12T08:50:08.94911Z\", \"created_time_dt\": \"2021-02-12T08:50:08.94911Z\", \"duration\": \"0:01:10\", \"iteration\": \"59\", \"goal\": \"accuracy_max\", \"run_name\": \"SparseNormalizer, LightGBM\", \"run_properties\": \"<azureml.automl.runtime.shared.model_wrappers.SparseNormalizer object at 0x7f10f0148438\", \"primary_metric\": 0.83374033, \"best_metric\": 0.85229955}, {\"run_id\": \"AutoML_faab6e12-a632-4021-8373-7cfab7444c1b_60\", \"run_number\": 73, \"metric\": null, \"status\": \"Completed\", \"run_type\": \"azureml.scriptrun\", \"training_percent\": \"100\", \"start_time\": \"2021-02-12T08:50:59.570118Z\", \"end_time\": \"2021-02-12T08:52:00.012776Z\", \"created_time\": \"2021-02-12T08:50:47.40682Z\", \"created_time_dt\": \"2021-02-12T08:50:47.40682Z\", \"duration\": \"0:01:12\", \"iteration\": \"60\", \"goal\": \"accuracy_max\", \"run_name\": \"TruncatedSVDWrapper, ExtremeRandomTrees\", \"run_properties\": \"n_components=0.45526315789473687, random_state=None\", \"primary_metric\": 0.67138787, \"best_metric\": 0.85229955}, {\"run_id\": \"AutoML_faab6e12-a632-4021-8373-7cfab7444c1b_61\", \"run_number\": 74, \"metric\": null, \"status\": \"Completed\", \"run_type\": \"azureml.scriptrun\", \"training_percent\": \"100\", \"start_time\": \"2021-02-12T08:51:03.009251Z\", \"end_time\": \"2021-02-12T08:51:57.424134Z\", \"created_time\": \"2021-02-12T08:50:51.889944Z\", \"created_time_dt\": \"2021-02-12T08:50:51.889944Z\", \"duration\": \"0:01:05\", \"iteration\": \"61\", \"goal\": \"accuracy_max\", \"run_name\": \"StandardScalerWrapper, LightGBM\", \"run_properties\": \"<azureml.automl.runtime.shared.model_wrappers.StandardScalerWrapper object at 0x7fa2942caf28\", \"primary_metric\": 0.83386243, \"best_metric\": 0.85229955}, {\"run_id\": \"AutoML_faab6e12-a632-4021-8373-7cfab7444c1b_62\", \"run_number\": 75, \"metric\": null, \"status\": \"Completed\", \"run_type\": \"azureml.scriptrun\", \"training_percent\": \"100\", \"start_time\": \"2021-02-12T08:51:21.964139Z\", \"end_time\": \"2021-02-12T08:52:08.790799Z\", \"created_time\": \"2021-02-12T08:51:08.037921Z\", \"created_time_dt\": \"2021-02-12T08:51:08.037921Z\", \"duration\": \"0:01:00\", \"iteration\": \"62\", \"goal\": \"accuracy_max\", \"run_name\": \"SparseNormalizer, LightGBM\", \"run_properties\": \"<azureml.automl.runtime.shared.model_wrappers.SparseNormalizer object at 0x7fdf3b6304e0\", \"primary_metric\": 0.84489214, \"best_metric\": 0.85229955}, {\"run_id\": \"AutoML_faab6e12-a632-4021-8373-7cfab7444c1b_63\", \"run_number\": 76, \"metric\": null, \"status\": \"Completed\", \"run_type\": \"azureml.scriptrun\", \"training_percent\": \"100\", \"start_time\": \"2021-02-12T08:51:34.660637Z\", \"end_time\": \"2021-02-12T08:52:21.173198Z\", \"created_time\": \"2021-02-12T08:51:20.893791Z\", \"created_time_dt\": \"2021-02-12T08:51:20.893791Z\", \"duration\": \"0:01:00\", \"iteration\": \"63\", \"goal\": \"accuracy_max\", \"run_name\": \"StandardScalerWrapper, LightGBM\", \"run_properties\": \"<azureml.automl.runtime.shared.model_wrappers.StandardScalerWrapper object at 0x7f55c02e7f28\", \"primary_metric\": 0.84122914, \"best_metric\": 0.85229955}, {\"run_id\": \"AutoML_faab6e12-a632-4021-8373-7cfab7444c1b_64\", \"run_number\": 79, \"metric\": null, \"status\": \"Completed\", \"run_type\": \"azureml.scriptrun\", \"training_percent\": \"100\", \"start_time\": \"2021-02-12T08:52:10.312322Z\", \"end_time\": \"2021-02-12T08:53:06.715385Z\", \"created_time\": \"2021-02-12T08:51:59.066536Z\", \"created_time_dt\": \"2021-02-12T08:51:59.066536Z\", \"duration\": \"0:01:07\", \"iteration\": \"64\", \"goal\": \"accuracy_max\", \"run_name\": \"RobustScaler, RandomForest\", \"run_properties\": \"copy=True, quantile_range=[25, 75], with_centering=False,\\n             with_scaling=True\", \"primary_metric\": 0.78563289, \"best_metric\": 0.85229955}, {\"run_id\": \"AutoML_faab6e12-a632-4021-8373-7cfab7444c1b_65\", \"run_number\": 80, \"metric\": null, \"status\": \"Completed\", \"run_type\": \"azureml.scriptrun\", \"training_percent\": \"100\", \"start_time\": \"2021-02-12T08:52:18.236229Z\", \"end_time\": \"2021-02-12T08:53:11.090309Z\", \"created_time\": \"2021-02-12T08:52:03.471732Z\", \"created_time_dt\": \"2021-02-12T08:52:03.471732Z\", \"duration\": \"0:01:07\", \"iteration\": \"65\", \"goal\": \"accuracy_max\", \"run_name\": \"StandardScalerWrapper, ExtremeRandomTrees\", \"run_properties\": \"<azureml.automl.runtime.shared.model_wrappers.StandardScalerWrapper object at 0x7f0664283cf8\", \"primary_metric\": 0.84867725, \"best_metric\": 0.85229955}, {\"run_id\": \"AutoML_faab6e12-a632-4021-8373-7cfab7444c1b_66\", \"run_number\": 81, \"metric\": null, \"status\": \"Completed\", \"run_type\": \"azureml.scriptrun\", \"training_percent\": \"100\", \"start_time\": \"2021-02-12T08:52:21.914309Z\", \"end_time\": \"2021-02-12T08:53:06.676549Z\", \"created_time\": \"2021-02-12T08:52:10.540242Z\", \"created_time_dt\": \"2021-02-12T08:52:10.540242Z\", \"duration\": \"0:00:56\", \"iteration\": \"66\", \"goal\": \"accuracy_max\", \"run_name\": \"StandardScalerWrapper, XGBoostClassifier\", \"run_properties\": \"<azureml.automl.runtime.shared.model_wrappers.StandardScalerWrapper object at 0x7f89cafb7ac8\", \"primary_metric\": 0.85596256, \"best_metric\": 0.85596256}, {\"run_id\": \"AutoML_faab6e12-a632-4021-8373-7cfab7444c1b_67\", \"run_number\": 82, \"metric\": null, \"status\": \"Completed\", \"run_type\": \"azureml.scriptrun\", \"training_percent\": \"100\", \"start_time\": \"2021-02-12T08:52:37.056496Z\", \"end_time\": \"2021-02-12T08:53:28.782489Z\", \"created_time\": \"2021-02-12T08:52:23.180793Z\", \"created_time_dt\": \"2021-02-12T08:52:23.180793Z\", \"duration\": \"0:01:05\", \"iteration\": \"67\", \"goal\": \"accuracy_max\", \"run_name\": \"StandardScalerWrapper, XGBoostClassifier\", \"run_properties\": \"<azureml.automl.runtime.shared.model_wrappers.StandardScalerWrapper object at 0x7f8d49c71be0\", \"primary_metric\": 0.83374033, \"best_metric\": 0.85596256}, {\"run_id\": \"AutoML_faab6e12-a632-4021-8373-7cfab7444c1b_68\", \"run_number\": 87, \"metric\": null, \"status\": \"Completed\", \"run_type\": \"azureml.scriptrun\", \"training_percent\": \"100\", \"start_time\": \"2021-02-12T08:53:20.685755Z\", \"end_time\": \"2021-02-12T08:54:11.862733Z\", \"created_time\": \"2021-02-12T08:53:09.375361Z\", \"created_time_dt\": \"2021-02-12T08:53:09.375361Z\", \"duration\": \"0:01:02\", \"iteration\": \"68\", \"goal\": \"accuracy_max\", \"run_name\": \"StandardScalerWrapper, XGBoostClassifier\", \"run_properties\": \"<azureml.automl.runtime.shared.model_wrappers.StandardScalerWrapper object at 0x7f5f0a2d52e8\", \"primary_metric\": 0.81534392, \"best_metric\": 0.85596256}, {\"run_id\": \"AutoML_faab6e12-a632-4021-8373-7cfab7444c1b_69\", \"run_number\": 88, \"metric\": null, \"status\": \"Completed\", \"run_type\": \"azureml.scriptrun\", \"training_percent\": \"100\", \"start_time\": \"2021-02-12T08:53:20.705814Z\", \"end_time\": \"2021-02-12T08:54:14.752513Z\", \"created_time\": \"2021-02-12T08:53:09.405344Z\", \"created_time_dt\": \"2021-02-12T08:53:09.405344Z\", \"duration\": \"0:01:05\", \"iteration\": \"69\", \"goal\": \"accuracy_max\", \"run_name\": \"StandardScalerWrapper, XGBoostClassifier\", \"run_properties\": \"<azureml.automl.runtime.shared.model_wrappers.StandardScalerWrapper object at 0x7f8c2118e860\", \"primary_metric\": 0.83378103, \"best_metric\": 0.85596256}, {\"run_id\": \"AutoML_faab6e12-a632-4021-8373-7cfab7444c1b_70\", \"run_number\": 89, \"metric\": null, \"status\": \"Completed\", \"run_type\": \"azureml.scriptrun\", \"training_percent\": \"100\", \"start_time\": \"2021-02-12T08:53:29.311401Z\", \"end_time\": \"2021-02-12T08:54:15.664579Z\", \"created_time\": \"2021-02-12T08:53:15.061296Z\", \"created_time_dt\": \"2021-02-12T08:53:15.061296Z\", \"duration\": \"0:01:00\", \"iteration\": \"70\", \"goal\": \"accuracy_max\", \"run_name\": \"StandardScalerWrapper, XGBoostClassifier\", \"run_properties\": \"<azureml.automl.runtime.shared.model_wrappers.StandardScalerWrapper object at 0x7ff395966748\", \"primary_metric\": 0.84497354, \"best_metric\": 0.85596256}, {\"run_id\": \"AutoML_faab6e12-a632-4021-8373-7cfab7444c1b_71\", \"run_number\": 90, \"metric\": null, \"status\": \"Completed\", \"run_type\": \"azureml.scriptrun\", \"training_percent\": \"100\", \"start_time\": \"2021-02-12T08:53:42.482933Z\", \"end_time\": \"2021-02-12T08:54:31.646664Z\", \"created_time\": \"2021-02-12T08:53:30.47089Z\", \"created_time_dt\": \"2021-02-12T08:53:30.47089Z\", \"duration\": \"0:01:01\", \"iteration\": \"71\", \"goal\": \"accuracy_max\", \"run_name\": \"RobustScaler, RandomForest\", \"run_properties\": \"copy=True, quantile_range=[10, 90], with_centering=False,\\n             with_scaling=False\", \"primary_metric\": 0.83752544, \"best_metric\": 0.85596256}, {\"run_id\": \"AutoML_faab6e12-a632-4021-8373-7cfab7444c1b_72\", \"run_number\": 91, \"metric\": null, \"status\": \"Completed\", \"run_type\": \"azureml.scriptrun\", \"training_percent\": \"100\", \"start_time\": \"2021-02-12T08:54:27.013404Z\", \"end_time\": \"2021-02-12T08:55:13.430131Z\", \"created_time\": \"2021-02-12T08:54:13.780861Z\", \"created_time_dt\": \"2021-02-12T08:54:13.780861Z\", \"duration\": \"0:00:59\", \"iteration\": \"72\", \"goal\": \"accuracy_max\", \"run_name\": \"StandardScalerWrapper, XGBoostClassifier\", \"run_properties\": \"<azureml.automl.runtime.shared.model_wrappers.StandardScalerWrapper object at 0x7fd31ef89e10\", \"primary_metric\": 0.83011803, \"best_metric\": 0.85596256}, {\"run_id\": \"AutoML_faab6e12-a632-4021-8373-7cfab7444c1b_73\", \"run_number\": 92, \"metric\": null, \"status\": \"Completed\", \"run_type\": \"azureml.scriptrun\", \"training_percent\": \"100\", \"start_time\": \"2021-02-12T08:54:28.478769Z\", \"end_time\": \"2021-02-12T08:55:16.351903Z\", \"created_time\": \"2021-02-12T08:54:18.282184Z\", \"created_time_dt\": \"2021-02-12T08:54:18.282184Z\", \"duration\": \"0:00:58\", \"iteration\": \"73\", \"goal\": \"accuracy_max\", \"run_name\": \"StandardScalerWrapper, XGBoostClassifier\", \"run_properties\": \"<azureml.automl.runtime.shared.model_wrappers.StandardScalerWrapper object at 0x7f0f6c9249e8\", \"primary_metric\": 0.83752544, \"best_metric\": 0.85596256}, {\"run_id\": \"AutoML_faab6e12-a632-4021-8373-7cfab7444c1b_74\", \"run_number\": 93, \"metric\": null, \"status\": \"Completed\", \"run_type\": \"azureml.scriptrun\", \"training_percent\": \"100\", \"start_time\": \"2021-02-12T08:54:31.434853Z\", \"end_time\": \"2021-02-12T08:55:24.650272Z\", \"created_time\": \"2021-02-12T08:54:18.290053Z\", \"created_time_dt\": \"2021-02-12T08:54:18.290053Z\", \"duration\": \"0:01:06\", \"iteration\": \"74\", \"goal\": \"accuracy_max\", \"run_name\": \"RobustScaler, RandomForest\", \"run_properties\": \"copy=True, quantile_range=[10, 90], with_centering=True,\\n             with_scaling=False\", \"primary_metric\": 0.84118844, \"best_metric\": 0.85596256}, {\"run_id\": \"AutoML_faab6e12-a632-4021-8373-7cfab7444c1b_75\", \"run_number\": 94, \"metric\": null, \"status\": \"Completed\", \"run_type\": \"azureml.scriptrun\", \"training_percent\": \"100\", \"start_time\": \"2021-02-12T08:54:44.571728Z\", \"end_time\": \"2021-02-12T08:55:41.674939Z\", \"created_time\": \"2021-02-12T08:54:34.380248Z\", \"created_time_dt\": \"2021-02-12T08:54:34.380248Z\", \"duration\": \"0:01:07\", \"iteration\": \"75\", \"goal\": \"accuracy_max\", \"run_name\": \"StandardScalerWrapper, XGBoostClassifier\", \"run_properties\": \"<azureml.automl.runtime.shared.model_wrappers.StandardScalerWrapper object at 0x7f392819ccc0\", \"primary_metric\": 0.82645503, \"best_metric\": 0.85596256}, {\"run_id\": \"AutoML_faab6e12-a632-4021-8373-7cfab7444c1b_76\", \"run_number\": 95, \"metric\": null, \"status\": \"Completed\", \"run_type\": \"azureml.scriptrun\", \"training_percent\": \"100\", \"start_time\": \"2021-02-12T08:55:27.845186Z\", \"end_time\": \"2021-02-12T08:56:17.221143Z\", \"created_time\": \"2021-02-12T08:55:15.223427Z\", \"created_time_dt\": \"2021-02-12T08:55:15.223427Z\", \"duration\": \"0:01:01\", \"iteration\": \"76\", \"goal\": \"accuracy_max\", \"run_name\": \"MaxAbsScaler, LightGBM\", \"run_properties\": \"copy=True\", \"primary_metric\": 0.84126984, \"best_metric\": 0.85596256}, {\"run_id\": \"AutoML_faab6e12-a632-4021-8373-7cfab7444c1b_77\", \"run_number\": 96, \"metric\": null, \"status\": \"Completed\", \"run_type\": \"azureml.scriptrun\", \"training_percent\": \"100\", \"start_time\": \"2021-02-12T08:55:31.026509Z\", \"end_time\": \"2021-02-12T08:56:26.568995Z\", \"created_time\": \"2021-02-12T08:55:18.384627Z\", \"created_time_dt\": \"2021-02-12T08:55:18.384627Z\", \"duration\": \"0:01:08\", \"iteration\": \"77\", \"goal\": \"accuracy_max\", \"run_name\": \"RobustScaler, ExtremeRandomTrees\", \"run_properties\": \"copy=True, quantile_range=[25, 75], with_centering=False,\\n             with_scaling=False\", \"primary_metric\": 0.76369556, \"best_metric\": 0.85596256}, {\"run_id\": \"AutoML_faab6e12-a632-4021-8373-7cfab7444c1b_78\", \"run_number\": 97, \"metric\": null, \"status\": \"Completed\", \"run_type\": \"azureml.scriptrun\", \"training_percent\": \"100\", \"start_time\": \"2021-02-12T08:55:39.491004Z\", \"end_time\": \"2021-02-12T08:56:34.870148Z\", \"created_time\": \"2021-02-12T08:55:26.264425Z\", \"created_time_dt\": \"2021-02-12T08:55:26.264425Z\", \"duration\": \"0:01:08\", \"iteration\": \"78\", \"goal\": \"accuracy_max\", \"run_name\": \"StandardScalerWrapper, LightGBM\", \"run_properties\": \"<azureml.automl.runtime.shared.model_wrappers.StandardScalerWrapper object at 0x7fc0549758d0\", \"primary_metric\": 0.83748474, \"best_metric\": 0.85596256}, {\"run_id\": \"AutoML_faab6e12-a632-4021-8373-7cfab7444c1b_79\", \"run_number\": 98, \"metric\": null, \"status\": \"Completed\", \"run_type\": \"azureml.scriptrun\", \"training_percent\": \"100\", \"start_time\": \"2021-02-12T08:55:54.750997Z\", \"end_time\": \"2021-02-12T08:56:40.491861Z\", \"created_time\": \"2021-02-12T08:55:43.620081Z\", \"created_time_dt\": \"2021-02-12T08:55:43.620081Z\", \"duration\": \"0:00:56\", \"iteration\": \"79\", \"goal\": \"accuracy_max\", \"run_name\": \"StandardScalerWrapper, LightGBM\", \"run_properties\": \"<azureml.automl.runtime.shared.model_wrappers.StandardScalerWrapper object at 0x7f8c71383780\", \"primary_metric\": 0.83748474, \"best_metric\": 0.85596256}, {\"run_id\": \"AutoML_faab6e12-a632-4021-8373-7cfab7444c1b_80\", \"run_number\": 99, \"metric\": null, \"status\": \"Completed\", \"run_type\": \"azureml.scriptrun\", \"training_percent\": \"100\", \"start_time\": \"2021-02-12T08:56:33.059224Z\", \"end_time\": \"2021-02-12T08:57:21.342737Z\", \"created_time\": \"2021-02-12T08:56:20.719851Z\", \"created_time_dt\": \"2021-02-12T08:56:20.719851Z\", \"duration\": \"0:01:00\", \"iteration\": \"80\", \"goal\": \"accuracy_max\", \"run_name\": \"StandardScalerWrapper, XGBoostClassifier\", \"run_properties\": \"<azureml.automl.runtime.shared.model_wrappers.StandardScalerWrapper object at 0x7fc56a47d898\", \"primary_metric\": 0.84863655, \"best_metric\": 0.85596256}, {\"run_id\": \"AutoML_faab6e12-a632-4021-8373-7cfab7444c1b_81\", \"run_number\": 100, \"metric\": null, \"status\": \"Completed\", \"run_type\": \"azureml.scriptrun\", \"training_percent\": \"100\", \"start_time\": \"2021-02-12T08:56:40.772511Z\", \"end_time\": \"2021-02-12T08:57:40.612312Z\", \"created_time\": \"2021-02-12T08:56:29.134301Z\", \"created_time_dt\": \"2021-02-12T08:56:29.134301Z\", \"duration\": \"0:01:11\", \"iteration\": \"81\", \"goal\": \"accuracy_max\", \"run_name\": \"SparseNormalizer, XGBoostClassifier\", \"run_properties\": \"<azureml.automl.runtime.shared.model_wrappers.SparseNormalizer object at 0x7f9a5f43ac50\", \"primary_metric\": 0.83752544, \"best_metric\": 0.85596256}, {\"run_id\": \"AutoML_faab6e12-a632-4021-8373-7cfab7444c1b_82\", \"run_number\": 101, \"metric\": null, \"status\": \"Completed\", \"run_type\": \"azureml.scriptrun\", \"training_percent\": \"100\", \"start_time\": \"2021-02-12T08:56:50.247704Z\", \"end_time\": \"2021-02-12T08:57:48.225023Z\", \"created_time\": \"2021-02-12T08:56:37.461993Z\", \"created_time_dt\": \"2021-02-12T08:56:37.461993Z\", \"duration\": \"0:01:10\", \"iteration\": \"82\", \"goal\": \"accuracy_max\", \"run_name\": \"StandardScalerWrapper, RandomForest\", \"run_properties\": \"<azureml.automl.runtime.shared.model_wrappers.StandardScalerWrapper object at 0x7fb178172358\", \"primary_metric\": 0.83011803, \"best_metric\": 0.85596256}, {\"run_id\": \"AutoML_faab6e12-a632-4021-8373-7cfab7444c1b_83\", \"run_number\": 102, \"metric\": null, \"status\": \"Completed\", \"run_type\": \"azureml.scriptrun\", \"training_percent\": \"100\", \"start_time\": \"2021-02-12T08:56:55.495122Z\", \"end_time\": \"2021-02-12T08:57:47.497494Z\", \"created_time\": \"2021-02-12T08:56:42.868546Z\", \"created_time_dt\": \"2021-02-12T08:56:42.868546Z\", \"duration\": \"0:01:04\", \"iteration\": \"83\", \"goal\": \"accuracy_max\", \"run_name\": \"MinMaxScaler, LogisticRegression\", \"run_properties\": \"copy=True, feature_range=(0, 1\", \"primary_metric\": 0.7967847, \"best_metric\": 0.85596256}, {\"run_id\": \"AutoML_faab6e12-a632-4021-8373-7cfab7444c1b_84\", \"run_number\": 103, \"metric\": null, \"status\": \"Completed\", \"run_type\": \"azureml.scriptrun\", \"training_percent\": \"100\", \"start_time\": \"2021-02-12T08:57:34.833521Z\", \"end_time\": \"2021-02-12T08:58:28.62007Z\", \"created_time\": \"2021-02-12T08:57:23.891216Z\", \"created_time_dt\": \"2021-02-12T08:57:23.891216Z\", \"duration\": \"0:01:04\", \"iteration\": \"84\", \"goal\": \"accuracy_max\", \"run_name\": \"StandardScalerWrapper, LightGBM\", \"run_properties\": \"<azureml.automl.runtime.shared.model_wrappers.StandardScalerWrapper object at 0x7f2befe1cc50\", \"primary_metric\": 0.83756614, \"best_metric\": 0.85596256}, {\"run_id\": \"AutoML_faab6e12-a632-4021-8373-7cfab7444c1b_85\", \"run_number\": 104, \"metric\": null, \"status\": \"Completed\", \"run_type\": \"azureml.scriptrun\", \"training_percent\": \"100\", \"start_time\": \"2021-02-12T08:57:54.68191Z\", \"end_time\": \"2021-02-12T08:58:54.531924Z\", \"created_time\": \"2021-02-12T08:57:43.942848Z\", \"created_time_dt\": \"2021-02-12T08:57:43.942848Z\", \"duration\": \"0:01:10\", \"iteration\": \"85\", \"goal\": \"accuracy_max\", \"run_name\": \"SparseNormalizer, XGBoostClassifier\", \"run_properties\": \"<azureml.automl.runtime.shared.model_wrappers.SparseNormalizer object at 0x7f32cdcc5be0\", \"primary_metric\": 0.82645503, \"best_metric\": 0.85596256}, {\"run_id\": \"AutoML_faab6e12-a632-4021-8373-7cfab7444c1b_86\", \"run_number\": 105, \"metric\": null, \"status\": \"Completed\", \"run_type\": \"azureml.scriptrun\", \"training_percent\": \"100\", \"start_time\": \"2021-02-12T08:57:59.772792Z\", \"end_time\": \"2021-02-12T08:58:47.611968Z\", \"created_time\": \"2021-02-12T08:57:49.445101Z\", \"created_time_dt\": \"2021-02-12T08:57:49.445101Z\", \"duration\": \"0:00:58\", \"iteration\": \"86\", \"goal\": \"accuracy_max\", \"run_name\": \"MaxAbsScaler, ExtremeRandomTrees\", \"run_properties\": \"copy=True\", \"primary_metric\": 0.85608466, \"best_metric\": 0.85608466}, {\"run_id\": \"AutoML_faab6e12-a632-4021-8373-7cfab7444c1b_87\", \"run_number\": 106, \"metric\": null, \"status\": \"Completed\", \"run_type\": \"azureml.scriptrun\", \"training_percent\": \"100\", \"start_time\": \"2021-02-12T08:58:07.132076Z\", \"end_time\": \"2021-02-12T08:58:59.352599Z\", \"created_time\": \"2021-02-12T08:57:53.08158Z\", \"created_time_dt\": \"2021-02-12T08:57:53.08158Z\", \"duration\": \"0:01:06\", \"iteration\": \"87\", \"goal\": \"accuracy_max\", \"run_name\": \"StandardScalerWrapper, XGBoostClassifier\", \"run_properties\": \"<azureml.automl.runtime.shared.model_wrappers.StandardScalerWrapper object at 0x7f74f0c63320\", \"primary_metric\": 0.82266992, \"best_metric\": 0.85608466}, {\"run_id\": \"AutoML_faab6e12-a632-4021-8373-7cfab7444c1b_88\", \"run_number\": 107, \"metric\": null, \"status\": \"Completed\", \"run_type\": \"azureml.scriptrun\", \"training_percent\": \"100\", \"start_time\": \"2021-02-12T08:58:41.651555Z\", \"end_time\": \"2021-02-12T08:59:38.862185Z\", \"created_time\": \"2021-02-12T08:58:30.760683Z\", \"created_time_dt\": \"2021-02-12T08:58:30.760683Z\", \"duration\": \"0:01:08\", \"iteration\": \"88\", \"goal\": \"accuracy_max\", \"run_name\": \"MinMaxScaler, RandomForest\", \"run_properties\": \"copy=True, feature_range=(0, 1\", \"primary_metric\": 0.85229955, \"best_metric\": 0.85608466}, {\"run_id\": \"AutoML_faab6e12-a632-4021-8373-7cfab7444c1b_89\", \"run_number\": 108, \"metric\": null, \"status\": \"Completed\", \"run_type\": \"azureml.scriptrun\", \"training_percent\": \"100\", \"start_time\": \"2021-02-12T08:59:00.005377Z\", \"end_time\": \"2021-02-12T08:59:57.17643Z\", \"created_time\": \"2021-02-12T08:58:49.539452Z\", \"created_time_dt\": \"2021-02-12T08:58:49.539452Z\", \"duration\": \"0:01:07\", \"iteration\": \"89\", \"goal\": \"accuracy_max\", \"run_name\": \"StandardScalerWrapper, LightGBM\", \"run_properties\": \"<azureml.automl.runtime.shared.model_wrappers.StandardScalerWrapper object at 0x7fbad10362b0\", \"primary_metric\": 0.84122914, \"best_metric\": 0.85608466}, {\"run_id\": \"AutoML_faab6e12-a632-4021-8373-7cfab7444c1b_90\", \"run_number\": 109, \"metric\": null, \"status\": \"Completed\", \"run_type\": \"azureml.scriptrun\", \"training_percent\": \"100\", \"start_time\": \"2021-02-12T08:59:08.885429Z\", \"end_time\": \"2021-02-12T09:00:02.682169Z\", \"created_time\": \"2021-02-12T08:58:57.359358Z\", \"created_time_dt\": \"2021-02-12T08:58:57.359358Z\", \"duration\": \"0:01:05\", \"iteration\": \"90\", \"goal\": \"accuracy_max\", \"run_name\": \"MinMaxScaler, ExtremeRandomTrees\", \"run_properties\": \"copy=True, feature_range=(0, 1\", \"primary_metric\": 0.85229955, \"best_metric\": 0.85608466}, {\"run_id\": \"AutoML_faab6e12-a632-4021-8373-7cfab7444c1b_91\", \"run_number\": 110, \"metric\": null, \"status\": \"Completed\", \"run_type\": \"azureml.scriptrun\", \"training_percent\": \"100\", \"start_time\": \"2021-02-12T08:59:13.990599Z\", \"end_time\": \"2021-02-12T09:00:03.573048Z\", \"created_time\": \"2021-02-12T08:59:01.2625Z\", \"created_time_dt\": \"2021-02-12T08:59:01.2625Z\", \"duration\": \"0:01:02\", \"iteration\": \"91\", \"goal\": \"accuracy_max\", \"run_name\": \"StandardScalerWrapper, LightGBM\", \"run_properties\": \"<azureml.automl.runtime.shared.model_wrappers.StandardScalerWrapper object at 0x7f0e83bfb438\", \"primary_metric\": 0.83752544, \"best_metric\": 0.85608466}, {\"run_id\": \"AutoML_faab6e12-a632-4021-8373-7cfab7444c1b_92\", \"run_number\": 111, \"metric\": null, \"status\": \"Completed\", \"run_type\": \"azureml.scriptrun\", \"training_percent\": \"100\", \"start_time\": \"2021-02-12T08:59:56.905547Z\", \"end_time\": \"2021-02-12T09:00:48.368078Z\", \"created_time\": \"2021-02-12T08:59:41.783941Z\", \"created_time_dt\": \"2021-02-12T08:59:41.783941Z\", \"duration\": \"0:01:06\", \"iteration\": \"92\", \"goal\": \"accuracy_max\", \"run_name\": \"TruncatedSVDWrapper, RandomForest\", \"run_properties\": \"n_components=0.9005263157894737, random_state=None\", \"primary_metric\": 0.78229548, \"best_metric\": 0.85608466}, {\"run_id\": \"AutoML_faab6e12-a632-4021-8373-7cfab7444c1b_93\", \"run_number\": 112, \"metric\": null, \"status\": \"Canceled\", \"run_type\": \"azureml.scriptrun\", \"training_percent\": \"100\", \"start_time\": \"2021-02-12T09:00:13.468324Z\", \"end_time\": \"2021-02-12T09:00:56.369105Z\", \"created_time\": \"2021-02-12T08:59:58.896943Z\", \"created_time_dt\": \"2021-02-12T08:59:58.896943Z\", \"duration\": \"0:00:57\", \"iteration\": \"93\", \"goal\": \"accuracy_max\", \"run_name\": \"StandardScalerWrapper, XGBoostClassifier\", \"run_properties\": \"<azureml.automl.runtime.shared.model_wrappers.StandardScalerWrapper object at 0x7f468ee3acc0\", \"primary_metric\": 0.83378103, \"best_metric\": 0.85608466}, {\"run_id\": \"AutoML_faab6e12-a632-4021-8373-7cfab7444c1b_94\", \"run_number\": 113, \"metric\": null, \"status\": \"Canceled\", \"run_type\": \"azureml.scriptrun\", \"training_percent\": \"100\", \"start_time\": \"2021-02-12T09:00:17.404842Z\", \"end_time\": \"2021-02-12T09:00:54.686506Z\", \"created_time\": \"2021-02-12T09:00:05.732488Z\", \"created_time_dt\": \"2021-02-12T09:00:05.732488Z\", \"duration\": \"0:00:48\", \"iteration\": \"94\", \"goal\": \"accuracy_max\", \"run_name\": \"RobustScaler, LightGBM\", \"run_properties\": \"copy=True, quantile_range=[25, 75], with_centering=False,\\n             with_scaling=False\", \"primary_metric\": 0.84126984, \"best_metric\": 0.85608466}, {\"run_id\": \"AutoML_faab6e12-a632-4021-8373-7cfab7444c1b_95\", \"run_number\": 114, \"metric\": null, \"status\": \"Canceled\", \"run_type\": \"azureml.scriptrun\", \"training_percent\": \"100\", \"start_time\": \"2021-02-12T09:00:23.799443Z\", \"end_time\": \"2021-02-12T09:00:55.51271Z\", \"created_time\": \"2021-02-12T09:00:11.440189Z\", \"created_time_dt\": \"2021-02-12T09:00:11.440189Z\", \"duration\": \"0:00:44\", \"iteration\": \"95\", \"goal\": null, \"run_name\": \"MaxAbsScaler, ExtremeRandomTrees\", \"run_properties\": null, \"primary_metric\": 0.85600326, \"best_metric\": 0.85608466}, {\"run_id\": \"AutoML_faab6e12-a632-4021-8373-7cfab7444c1b_96\", \"run_number\": 115, \"metric\": null, \"status\": \"Completed\", \"run_type\": \"azureml.scriptrun\", \"training_percent\": \"100\", \"start_time\": \"2021-02-12T09:01:09.093908Z\", \"end_time\": \"2021-02-12T09:02:45.137778Z\", \"created_time\": \"2021-02-12T09:00:57.209734Z\", \"created_time_dt\": \"2021-02-12T09:00:57.209734Z\", \"duration\": \"0:01:47\", \"iteration\": \"96\", \"goal\": \"accuracy_max\", \"run_name\": \"VotingEnsemble\", \"run_properties\": \"classification_labels=None,\\n                              estimators=[('86',\\n                                           Pipeline(memory=None,\\n                                                    steps=[('maxabsscaler',\\n                                                            MaxAbsScaler(copy=True\", \"primary_metric\": 0.86715507, \"best_metric\": 0.86715507}, {\"run_id\": \"AutoML_faab6e12-a632-4021-8373-7cfab7444c1b_97\", \"run_number\": 116, \"metric\": null, \"status\": \"Completed\", \"run_type\": \"azureml.scriptrun\", \"training_percent\": \"100\", \"start_time\": \"2021-02-12T09:01:07.911977Z\", \"end_time\": \"2021-02-12T09:02:53.39314Z\", \"created_time\": \"2021-02-12T09:00:57.22304Z\", \"created_time_dt\": \"2021-02-12T09:00:57.22304Z\", \"duration\": \"0:01:56\", \"iteration\": \"97\", \"goal\": \"accuracy_max\", \"run_name\": \"StackEnsemble\", \"run_properties\": \"base_learners=[('86',\\n                                        Pipeline(memory=None,\\n                                                 steps=[('maxabsscaler',\\n                                                         MaxAbsScaler(copy=True\", \"primary_metric\": 0.85234025, \"best_metric\": 0.86715507}], \"children_metrics\": {\"categories\": [0], \"series\": {\"log_loss\": [{\"categories\": [\"0\", \"1\", \"2\", \"3\", \"4\", \"5\", \"6\", \"7\", \"8\", \"9\", \"10\", \"11\", \"12\", \"13\", \"14\", \"15\", \"16\", \"17\", \"18\", \"19\", \"20\", \"21\", \"22\", \"23\", \"24\", \"25\", \"26\", \"27\", \"28\", \"29\", \"30\", \"31\", \"32\", \"33\", \"34\", \"35\", \"36\", \"37\", \"38\", \"39\", \"40\", \"41\", \"42\", \"43\", \"44\", \"45\", \"46\", \"47\", \"48\", \"49\", \"50\", \"51\", \"52\", \"53\", \"54\", \"55\", \"56\", \"57\", \"58\", \"59\", \"60\", \"61\", \"62\", \"63\", \"64\", \"65\", \"66\", \"67\", \"68\", \"69\", \"70\", \"71\", \"72\", \"73\", \"74\", \"75\", \"76\", \"77\", \"78\", \"79\", \"80\", \"81\", \"82\", \"83\", \"84\", \"85\", \"86\", \"87\", \"88\", \"89\", \"90\", \"91\", \"92\", \"93\", \"94\", \"95\", \"96\", \"97\"], \"mode\": \"markers\", \"name\": \"log_loss\", \"stepped\": false, \"type\": \"scatter\", \"data\": [0.46431189772414944, 0.3636386829573865, 0.5005856758759445, 0.4095563568568923, 0.5049806643161787, 0.47888031080967197, 0.3476466656905341, 0.505040857644981, 0.4078153568657236, 0.39522510361347646, 0.40560701344662786, 0.3940791013979825, 0.41895588081657437, 0.4933768791413648, 0.4236538741041107, 0.3484265777397566, 0.40397745589818396, 0.45870769099366404, 0.48254977494959234, 0.4541221405906928, 0.48573461415025904, 0.45540704171370766, 0.3713725185890306, 0.5873936694422077, 0.659170413262829, 0.6275315484956568, 0.455843258996389, 0.5158833630139558, 0.4698669906720907, 0.5242891680380177, 0.3579030769369364, 0.49527695923971243, 0.35075330879981226, 0.40849841050993985, 0.415291532265972, 0.4165967663178945, 0.37315338117122776, 0.39930782019643374, 0.39188821330857815, 0.37784207020486954, 0.40955478633773806, 0.36154202430785637, 0.3639145006609071, 0.38033800911764143, 0.4372501007231329, 0.5530518312394124, 0.46376171480199346, 0.354020165010466, 0.36869842830401917, 0.4341005440114294, 0.4138006736110807, 0.44881693316893995, 0.38868270294206625, 0.4495948389464701, 0.4026956971245186, 0.41455279426313646, 0.39006865526135837, 0.4357229573739692, 0.3770348662346968, 0.4112036470612949, 0.637480369837624, 0.42526844131995173, 0.42908808841464596, 0.3754025527824046, 2.9076017558784297, 0.3822109867871353, 0.3920683577040583, 0.36284130073269266, 0.48955076196169517, 0.34712759031354884, 0.40269324555436253, 0.3580663174038086, 0.4335755181626551, 0.4734651685141748, 0.3561955659835843, 0.3745116441186071, 0.386822779043516, 0.5191890008450079, 0.3617982993762016, 0.3643700662155998, 0.4005288432322774, 0.38510023452959663, 0.3547328600002373, 0.4966982990137691, 0.39723622615656967, 0.4714480649079009, 0.6079381053222731, 0.4802449118638609, 0.3836077769041317, 0.3627000435272254, 0.37638981265410715, 0.45974766935763994, 0.4484654231505068, 0.4514989637585944, 0.40519745825402714, 0.4161685984964337, 0.3670245325078148, 0.3991878163218905]}, {\"categories\": [\"0\", \"1\", \"2\", \"3\", \"4\", \"5\", \"6\", \"7\", \"8\", \"9\", \"10\", \"11\", \"12\", \"13\", \"14\", \"15\", \"16\", \"17\", \"18\", \"19\", \"20\", \"21\", \"22\", \"23\", \"24\", \"25\", \"26\", \"27\", \"28\", \"29\", \"30\", \"31\", \"32\", \"33\", \"34\", \"35\", \"36\", \"37\", \"38\", \"39\", \"40\", \"41\", \"42\", \"43\", \"44\", \"45\", \"46\", \"47\", \"48\", \"49\", \"50\", \"51\", \"52\", \"53\", \"54\", \"55\", \"56\", \"57\", \"58\", \"59\", \"60\", \"61\", \"62\", \"63\", \"64\", \"65\", \"66\", \"67\", \"68\", \"69\", \"70\", \"71\", \"72\", \"73\", \"74\", \"75\", \"76\", \"77\", \"78\", \"79\", \"80\", \"81\", \"82\", \"83\", \"84\", \"85\", \"86\", \"87\", \"88\", \"89\", \"90\", \"91\", \"92\", \"93\", \"94\", \"95\", \"96\", \"97\"], \"mode\": \"lines\", \"name\": \"log_loss_min\", \"stepped\": true, \"type\": \"scatter\", \"data\": [0.46431189772414944, 0.3636386829573865, 0.3636386829573865, 0.3636386829573865, 0.3636386829573865, 0.3636386829573865, 0.3476466656905341, 0.3476466656905341, 0.3476466656905341, 0.3476466656905341, 0.3476466656905341, 0.3476466656905341, 0.3476466656905341, 0.3476466656905341, 0.3476466656905341, 0.3476466656905341, 0.3476466656905341, 0.3476466656905341, 0.3476466656905341, 0.3476466656905341, 0.3476466656905341, 0.3476466656905341, 0.3476466656905341, 0.3476466656905341, 0.3476466656905341, 0.3476466656905341, 0.3476466656905341, 0.3476466656905341, 0.3476466656905341, 0.3476466656905341, 0.3476466656905341, 0.3476466656905341, 0.3476466656905341, 0.3476466656905341, 0.3476466656905341, 0.3476466656905341, 0.3476466656905341, 0.3476466656905341, 0.3476466656905341, 0.3476466656905341, 0.3476466656905341, 0.3476466656905341, 0.3476466656905341, 0.3476466656905341, 0.3476466656905341, 0.3476466656905341, 0.3476466656905341, 0.3476466656905341, 0.3476466656905341, 0.3476466656905341, 0.3476466656905341, 0.3476466656905341, 0.3476466656905341, 0.3476466656905341, 0.3476466656905341, 0.3476466656905341, 0.3476466656905341, 0.3476466656905341, 0.3476466656905341, 0.3476466656905341, 0.3476466656905341, 0.3476466656905341, 0.3476466656905341, 0.3476466656905341, 0.3476466656905341, 0.3476466656905341, 0.3476466656905341, 0.3476466656905341, 0.3476466656905341, 0.34712759031354884, 0.34712759031354884, 0.34712759031354884, 0.34712759031354884, 0.34712759031354884, 0.34712759031354884, 0.34712759031354884, 0.34712759031354884, 0.34712759031354884, 0.34712759031354884, 0.34712759031354884, 0.34712759031354884, 0.34712759031354884, 0.34712759031354884, 0.34712759031354884, 0.34712759031354884, 0.34712759031354884, 0.34712759031354884, 0.34712759031354884, 0.34712759031354884, 0.34712759031354884, 0.34712759031354884, 0.34712759031354884, 0.34712759031354884, 0.34712759031354884, 0.34712759031354884, 0.34712759031354884, 0.34712759031354884, 0.34712759031354884]}], \"precision_score_micro\": [{\"categories\": [\"0\", \"1\", \"2\", \"3\", \"4\", \"5\", \"6\", \"7\", \"8\", \"9\", \"10\", \"11\", \"12\", \"13\", \"14\", \"15\", \"16\", \"17\", \"18\", \"19\", \"20\", \"21\", \"22\", \"23\", \"24\", \"25\", \"26\", \"27\", \"28\", \"29\", \"30\", \"31\", \"32\", \"33\", \"34\", \"35\", \"36\", \"37\", \"38\", \"39\", \"40\", \"41\", \"42\", \"43\", \"44\", \"45\", \"46\", \"47\", \"48\", \"49\", \"50\", \"51\", \"52\", \"53\", \"54\", \"55\", \"56\", \"57\", \"58\", \"59\", \"60\", \"61\", \"62\", \"63\", \"64\", \"65\", \"66\", \"67\", \"68\", \"69\", \"70\", \"71\", \"72\", \"73\", \"74\", \"75\", \"76\", \"77\", \"78\", \"79\", \"80\", \"81\", \"82\", \"83\", \"84\", \"85\", \"86\", \"87\", \"88\", \"89\", \"90\", \"91\", \"92\", \"93\", \"94\", \"95\", \"96\", \"97\"], \"mode\": \"markers\", \"name\": \"precision_score_micro\", \"stepped\": false, \"type\": \"scatter\", \"data\": [0.7857142857142857, 0.8374033374033374, 0.8337403337403337, 0.8191290191290191, 0.8264550264550264, 0.8227513227513228, 0.8486365486365487, 0.7527472527472527, 0.8264957264957266, 0.819006919006919, 0.8226699226699227, 0.8301587301587302, 0.8043549043549043, 0.7896621896621897, 0.8079772079772081, 0.8448514448514448, 0.8264550264550264, 0.7821733821733822, 0.8264143264143264, 0.8338217338217339, 0.8117216117216116, 0.7933251933251934, 0.8412698412698413, 0.7672364672364672, 0.771021571021571, 0.6713878713878714, 0.808017908017908, 0.7564102564102564, 0.774928774928775, 0.8005698005698005, 0.8448921448921448, 0.7711436711436711, 0.8375661375661375, 0.8227513227513227, 0.8374847374847375, 0.8080179080179081, 0.8449328449328449, 0.8522995522995522, 0.819006919006919, 0.8265771265771266, 0.8411884411884412, 0.8412291412291412, 0.819006919006919, 0.8152625152625154, 0.8449328449328449, 0.675050875050875, 0.8042735042735042, 0.8412291412291412, 0.8375661375661375, 0.8449328449328449, 0.8301180301180301, 0.819006919006919, 0.8448921448921448, 0.8079365079365078, 0.8337810337810337, 0.8522995522995522, 0.8375661375661375, 0.8338217338217339, 0.8522995522995522, 0.8337403337403337, 0.6713878713878714, 0.8338624338624339, 0.8448921448921448, 0.8412291412291412, 0.7856328856328857, 0.8486772486772486, 0.8559625559625559, 0.8337403337403337, 0.8153439153439153, 0.8337810337810337, 0.8449735449735449, 0.8375254375254375, 0.8301180301180301, 0.8375254375254375, 0.8411884411884412, 0.8264550264550264, 0.8412698412698413, 0.7636955636955637, 0.8374847374847375, 0.8374847374847375, 0.8486365486365486, 0.8375254375254375, 0.8301180301180301, 0.7967846967846968, 0.8375661375661375, 0.8264550264550264, 0.8560846560846561, 0.8226699226699227, 0.8522995522995522, 0.8412291412291412, 0.8522995522995522, 0.8375254375254375, 0.7822954822954823, 0.8337810337810337, 0.8412698412698413, 0.8560032560032559, 0.8671550671550672, 0.8523402523402522]}, {\"categories\": [\"0\", \"1\", \"2\", \"3\", \"4\", \"5\", \"6\", \"7\", \"8\", \"9\", \"10\", \"11\", \"12\", \"13\", \"14\", \"15\", \"16\", \"17\", \"18\", \"19\", \"20\", \"21\", \"22\", \"23\", \"24\", \"25\", \"26\", \"27\", \"28\", \"29\", \"30\", \"31\", \"32\", \"33\", \"34\", \"35\", \"36\", \"37\", \"38\", \"39\", \"40\", \"41\", \"42\", \"43\", \"44\", \"45\", \"46\", \"47\", \"48\", \"49\", \"50\", \"51\", \"52\", \"53\", \"54\", \"55\", \"56\", \"57\", \"58\", \"59\", \"60\", \"61\", \"62\", \"63\", \"64\", \"65\", \"66\", \"67\", \"68\", \"69\", \"70\", \"71\", \"72\", \"73\", \"74\", \"75\", \"76\", \"77\", \"78\", \"79\", \"80\", \"81\", \"82\", \"83\", \"84\", \"85\", \"86\", \"87\", \"88\", \"89\", \"90\", \"91\", \"92\", \"93\", \"94\", \"95\", \"96\", \"97\"], \"mode\": \"lines\", \"name\": \"precision_score_micro_max\", \"stepped\": true, \"type\": \"scatter\", \"data\": [0.7857142857142857, 0.8374033374033374, 0.8374033374033374, 0.8374033374033374, 0.8374033374033374, 0.8374033374033374, 0.8486365486365487, 0.8486365486365487, 0.8486365486365487, 0.8486365486365487, 0.8486365486365487, 0.8486365486365487, 0.8486365486365487, 0.8486365486365487, 0.8486365486365487, 0.8486365486365487, 0.8486365486365487, 0.8486365486365487, 0.8486365486365487, 0.8486365486365487, 0.8486365486365487, 0.8486365486365487, 0.8486365486365487, 0.8486365486365487, 0.8486365486365487, 0.8486365486365487, 0.8486365486365487, 0.8486365486365487, 0.8486365486365487, 0.8486365486365487, 0.8486365486365487, 0.8486365486365487, 0.8486365486365487, 0.8486365486365487, 0.8486365486365487, 0.8486365486365487, 0.8486365486365487, 0.8522995522995522, 0.8522995522995522, 0.8522995522995522, 0.8522995522995522, 0.8522995522995522, 0.8522995522995522, 0.8522995522995522, 0.8522995522995522, 0.8522995522995522, 0.8522995522995522, 0.8522995522995522, 0.8522995522995522, 0.8522995522995522, 0.8522995522995522, 0.8522995522995522, 0.8522995522995522, 0.8522995522995522, 0.8522995522995522, 0.8522995522995522, 0.8522995522995522, 0.8522995522995522, 0.8522995522995522, 0.8522995522995522, 0.8522995522995522, 0.8522995522995522, 0.8522995522995522, 0.8522995522995522, 0.8522995522995522, 0.8522995522995522, 0.8559625559625559, 0.8559625559625559, 0.8559625559625559, 0.8559625559625559, 0.8559625559625559, 0.8559625559625559, 0.8559625559625559, 0.8559625559625559, 0.8559625559625559, 0.8559625559625559, 0.8559625559625559, 0.8559625559625559, 0.8559625559625559, 0.8559625559625559, 0.8559625559625559, 0.8559625559625559, 0.8559625559625559, 0.8559625559625559, 0.8559625559625559, 0.8559625559625559, 0.8560846560846561, 0.8560846560846561, 0.8560846560846561, 0.8560846560846561, 0.8560846560846561, 0.8560846560846561, 0.8560846560846561, 0.8560846560846561, 0.8560846560846561, 0.8560846560846561, 0.8671550671550672, 0.8671550671550672]}], \"norm_macro_recall\": [{\"categories\": [\"0\", \"1\", \"2\", \"3\", \"4\", \"5\", \"6\", \"7\", \"8\", \"9\", \"10\", \"11\", \"12\", \"13\", \"14\", \"15\", \"16\", \"17\", \"18\", \"19\", \"20\", \"21\", \"22\", \"23\", \"24\", \"25\", \"26\", \"27\", \"28\", \"29\", \"30\", \"31\", \"32\", \"33\", \"34\", \"35\", \"36\", \"37\", \"38\", \"39\", \"40\", \"41\", \"42\", \"43\", \"44\", \"45\", \"46\", \"47\", \"48\", \"49\", \"50\", \"51\", \"52\", \"53\", \"54\", \"55\", \"56\", \"57\", \"58\", \"59\", \"60\", \"61\", \"62\", \"63\", \"64\", \"65\", \"66\", \"67\", \"68\", \"69\", \"70\", \"71\", \"72\", \"73\", \"74\", \"75\", \"76\", \"77\", \"78\", \"79\", \"80\", \"81\", \"82\", \"83\", \"84\", \"85\", \"86\", \"87\", \"88\", \"89\", \"90\", \"91\", \"92\", \"93\", \"94\", \"95\", \"96\", \"97\"], \"mode\": \"markers\", \"name\": \"norm_macro_recall\", \"stepped\": false, \"type\": \"scatter\", \"data\": [0.5071857884185588, 0.633118151675891, 0.5919400212013374, 0.5224420080637168, 0.5871128016372757, 0.5579032650466567, 0.6306178355742398, 0.35917467675517806, 0.58153584418325, 0.5635385421653442, 0.5449938189410436, 0.5706723707391315, 0.4522072324639157, 0.4936069334826205, 0.48536359537942236, 0.6179899946197319, 0.5478053185883177, 0.39177199173688476, 0.5531658619517962, 0.5501510515357599, 0.5277082296011247, 0.44372310483616634, 0.5975722579308088, 0.504945411061494, 0.49477445456841723, 0.0, 0.4469732634683284, 0.3235495526761965, 0.3703016002155595, 0.4746907886380132, 0.60965470072949, 0.3105221999279724, 0.6283053725072659, 0.5323780523429454, 0.5620043547907495, 0.5106312353775736, 0.6109055912641422, 0.598014073572187, 0.5531093153630634, 0.5440931545026392, 0.5874246362796333, 0.6197148719504911, 0.5884017173839048, 0.5649673739495615, 0.5775043810962203, 0.013333333333333345, 0.46837776632545136, 0.6101606087056866, 0.6002053686995127, 0.5775043810962203, 0.5445013340216357, 0.5756675965141909, 0.6031071091915385, 0.563570713320073, 0.5933675856722674, 0.5931093386165184, 0.5759619503718955, 0.5654599635095161, 0.6148030156242871, 0.5830624858117593, 0.0, 0.5669341395306116, 0.5693059396008952, 0.6052558737500179, 0.535527657223148, 0.5990872728319133, 0.6264330333928332, 0.6191331402715248, 0.5366176861707926, 0.5982619612138187, 0.5940641836046286, 0.6216963046481621, 0.6108503119886964, 0.6178716403481158, 0.6053083393574316, 0.5671440019602662, 0.5835347809190289, 0.31946731567059045, 0.6130694705682477, 0.6126479493795542, 0.6131521656669136, 0.5936851929847814, 0.5932114561633136, 0.5165243351764603, 0.5766136284429283, 0.5819847811951636, 0.6341766838189963, 0.5849780298452278, 0.6226539633043043, 0.6195166362482412, 0.6148030156242871, 0.5609037397078029, 0.41205152733051215, 0.5965370838830595, 0.5867146385439385, 0.6038620267885614, 0.6596593659538611, 0.6330307244991715]}, {\"categories\": [\"0\", \"1\", \"2\", \"3\", \"4\", \"5\", \"6\", \"7\", \"8\", \"9\", \"10\", \"11\", \"12\", \"13\", \"14\", \"15\", \"16\", \"17\", \"18\", \"19\", \"20\", \"21\", \"22\", \"23\", \"24\", \"25\", \"26\", \"27\", \"28\", \"29\", \"30\", \"31\", \"32\", \"33\", \"34\", \"35\", \"36\", \"37\", \"38\", \"39\", \"40\", \"41\", \"42\", \"43\", \"44\", \"45\", \"46\", \"47\", \"48\", \"49\", \"50\", \"51\", \"52\", \"53\", \"54\", \"55\", \"56\", \"57\", \"58\", \"59\", \"60\", \"61\", \"62\", \"63\", \"64\", \"65\", \"66\", \"67\", \"68\", \"69\", \"70\", \"71\", \"72\", \"73\", \"74\", \"75\", \"76\", \"77\", \"78\", \"79\", \"80\", \"81\", \"82\", \"83\", \"84\", \"85\", \"86\", \"87\", \"88\", \"89\", \"90\", \"91\", \"92\", \"93\", \"94\", \"95\", \"96\", \"97\"], \"mode\": \"lines\", \"name\": \"norm_macro_recall_max\", \"stepped\": true, \"type\": \"scatter\", \"data\": [0.5071857884185588, 0.633118151675891, 0.633118151675891, 0.633118151675891, 0.633118151675891, 0.633118151675891, 0.633118151675891, 0.633118151675891, 0.633118151675891, 0.633118151675891, 0.633118151675891, 0.633118151675891, 0.633118151675891, 0.633118151675891, 0.633118151675891, 0.633118151675891, 0.633118151675891, 0.633118151675891, 0.633118151675891, 0.633118151675891, 0.633118151675891, 0.633118151675891, 0.633118151675891, 0.633118151675891, 0.633118151675891, 0.633118151675891, 0.633118151675891, 0.633118151675891, 0.633118151675891, 0.633118151675891, 0.633118151675891, 0.633118151675891, 0.633118151675891, 0.633118151675891, 0.633118151675891, 0.633118151675891, 0.633118151675891, 0.633118151675891, 0.633118151675891, 0.633118151675891, 0.633118151675891, 0.633118151675891, 0.633118151675891, 0.633118151675891, 0.633118151675891, 0.633118151675891, 0.633118151675891, 0.633118151675891, 0.633118151675891, 0.633118151675891, 0.633118151675891, 0.633118151675891, 0.633118151675891, 0.633118151675891, 0.633118151675891, 0.633118151675891, 0.633118151675891, 0.633118151675891, 0.633118151675891, 0.633118151675891, 0.633118151675891, 0.633118151675891, 0.633118151675891, 0.633118151675891, 0.633118151675891, 0.633118151675891, 0.633118151675891, 0.633118151675891, 0.633118151675891, 0.633118151675891, 0.633118151675891, 0.633118151675891, 0.633118151675891, 0.633118151675891, 0.633118151675891, 0.633118151675891, 0.633118151675891, 0.633118151675891, 0.633118151675891, 0.633118151675891, 0.633118151675891, 0.633118151675891, 0.633118151675891, 0.633118151675891, 0.633118151675891, 0.633118151675891, 0.6341766838189963, 0.6341766838189963, 0.6341766838189963, 0.6341766838189963, 0.6341766838189963, 0.6341766838189963, 0.6341766838189963, 0.6341766838189963, 0.6341766838189963, 0.6341766838189963, 0.6596593659538611, 0.6596593659538611]}], \"balanced_accuracy\": [{\"categories\": [\"0\", \"1\", \"2\", \"3\", \"4\", \"5\", \"6\", \"7\", \"8\", \"9\", \"10\", \"11\", \"12\", \"13\", \"14\", \"15\", \"16\", \"17\", \"18\", \"19\", \"20\", \"21\", \"22\", \"23\", \"24\", \"25\", \"26\", \"27\", \"28\", \"29\", \"30\", \"31\", \"32\", \"33\", \"34\", \"35\", \"36\", \"37\", \"38\", \"39\", \"40\", \"41\", \"42\", \"43\", \"44\", \"45\", \"46\", \"47\", \"48\", \"49\", \"50\", \"51\", \"52\", \"53\", \"54\", \"55\", \"56\", \"57\", \"58\", \"59\", \"60\", \"61\", \"62\", \"63\", \"64\", \"65\", \"66\", \"67\", \"68\", \"69\", \"70\", \"71\", \"72\", \"73\", \"74\", \"75\", \"76\", \"77\", \"78\", \"79\", \"80\", \"81\", \"82\", \"83\", \"84\", \"85\", \"86\", \"87\", \"88\", \"89\", \"90\", \"91\", \"92\", \"93\", \"94\", \"95\", \"96\", \"97\"], \"mode\": \"markers\", \"name\": \"balanced_accuracy\", \"stepped\": false, \"type\": \"scatter\", \"data\": [0.7535928942092793, 0.8165590758379455, 0.7959700106006687, 0.7612210040318583, 0.7935564008186379, 0.7789516325233284, 0.81530891778712, 0.6795873383775891, 0.790767922091625, 0.781769271082672, 0.7724969094705217, 0.7853361853695656, 0.7261036162319577, 0.7468034667413103, 0.7426817976897112, 0.8089949973098659, 0.7739026592941588, 0.6958859958684424, 0.776582930975898, 0.77507552576788, 0.7638541148005623, 0.721861552418083, 0.7987861289654044, 0.7524727055307471, 0.7473872272842086, 0.5, 0.7234866317341643, 0.6617747763380982, 0.6851508001077797, 0.7373453943190066, 0.8048273503647451, 0.6552610999639862, 0.8141526862536329, 0.7661890261714728, 0.7810021773953748, 0.7553156176887867, 0.8054527956320712, 0.7990070367860934, 0.7765546576815318, 0.7720465772513195, 0.7937123181398166, 0.8098574359752456, 0.7942008586919523, 0.7824836869747808, 0.7887521905481102, 0.5066666666666667, 0.7341888831627257, 0.8050803043528433, 0.8001026843497563, 0.7887521905481102, 0.7722506670108178, 0.7878337982570954, 0.8015535545957692, 0.7817853566600365, 0.7966837928361338, 0.7965546693082591, 0.7879809751859477, 0.782729981754758, 0.8074015078121436, 0.7915312429058797, 0.5, 0.7834670697653058, 0.7846529698004477, 0.8026279368750089, 0.767763828611574, 0.7995436364159566, 0.8132165166964166, 0.8095665701357624, 0.7683088430853964, 0.7991309806069093, 0.7970320918023143, 0.810848152324081, 0.8054251559943482, 0.808935820174058, 0.8026541696787158, 0.7835720009801331, 0.7917673904595145, 0.6597336578352953, 0.8065347352841238, 0.8063239746897771, 0.8065760828334568, 0.7968425964923908, 0.7966057280816567, 0.7582621675882302, 0.7883068142214641, 0.7909923905975819, 0.8170883419094981, 0.7924890149226139, 0.8113269816521522, 0.8097583181241207, 0.8074015078121436, 0.7804518698539015, 0.7060257636652562, 0.7982685419415297, 0.7933573192719692, 0.8019310133942806, 0.8298296829769306, 0.8165153622495858]}, {\"categories\": [\"0\", \"1\", \"2\", \"3\", \"4\", \"5\", \"6\", \"7\", \"8\", \"9\", \"10\", \"11\", \"12\", \"13\", \"14\", \"15\", \"16\", \"17\", \"18\", \"19\", \"20\", \"21\", \"22\", \"23\", \"24\", \"25\", \"26\", \"27\", \"28\", \"29\", \"30\", \"31\", \"32\", \"33\", \"34\", \"35\", \"36\", \"37\", \"38\", \"39\", \"40\", \"41\", \"42\", \"43\", \"44\", \"45\", \"46\", \"47\", \"48\", \"49\", \"50\", \"51\", \"52\", \"53\", \"54\", \"55\", \"56\", \"57\", \"58\", \"59\", \"60\", \"61\", \"62\", \"63\", \"64\", \"65\", \"66\", \"67\", \"68\", \"69\", \"70\", \"71\", \"72\", \"73\", \"74\", \"75\", \"76\", \"77\", \"78\", \"79\", \"80\", \"81\", \"82\", \"83\", \"84\", \"85\", \"86\", \"87\", \"88\", \"89\", \"90\", \"91\", \"92\", \"93\", \"94\", \"95\", \"96\", \"97\"], \"mode\": \"lines\", \"name\": \"balanced_accuracy_max\", \"stepped\": true, \"type\": \"scatter\", \"data\": [0.7535928942092793, 0.8165590758379455, 0.8165590758379455, 0.8165590758379455, 0.8165590758379455, 0.8165590758379455, 0.8165590758379455, 0.8165590758379455, 0.8165590758379455, 0.8165590758379455, 0.8165590758379455, 0.8165590758379455, 0.8165590758379455, 0.8165590758379455, 0.8165590758379455, 0.8165590758379455, 0.8165590758379455, 0.8165590758379455, 0.8165590758379455, 0.8165590758379455, 0.8165590758379455, 0.8165590758379455, 0.8165590758379455, 0.8165590758379455, 0.8165590758379455, 0.8165590758379455, 0.8165590758379455, 0.8165590758379455, 0.8165590758379455, 0.8165590758379455, 0.8165590758379455, 0.8165590758379455, 0.8165590758379455, 0.8165590758379455, 0.8165590758379455, 0.8165590758379455, 0.8165590758379455, 0.8165590758379455, 0.8165590758379455, 0.8165590758379455, 0.8165590758379455, 0.8165590758379455, 0.8165590758379455, 0.8165590758379455, 0.8165590758379455, 0.8165590758379455, 0.8165590758379455, 0.8165590758379455, 0.8165590758379455, 0.8165590758379455, 0.8165590758379455, 0.8165590758379455, 0.8165590758379455, 0.8165590758379455, 0.8165590758379455, 0.8165590758379455, 0.8165590758379455, 0.8165590758379455, 0.8165590758379455, 0.8165590758379455, 0.8165590758379455, 0.8165590758379455, 0.8165590758379455, 0.8165590758379455, 0.8165590758379455, 0.8165590758379455, 0.8165590758379455, 0.8165590758379455, 0.8165590758379455, 0.8165590758379455, 0.8165590758379455, 0.8165590758379455, 0.8165590758379455, 0.8165590758379455, 0.8165590758379455, 0.8165590758379455, 0.8165590758379455, 0.8165590758379455, 0.8165590758379455, 0.8165590758379455, 0.8165590758379455, 0.8165590758379455, 0.8165590758379455, 0.8165590758379455, 0.8165590758379455, 0.8165590758379455, 0.8170883419094981, 0.8170883419094981, 0.8170883419094981, 0.8170883419094981, 0.8170883419094981, 0.8170883419094981, 0.8170883419094981, 0.8170883419094981, 0.8170883419094981, 0.8170883419094981, 0.8298296829769306, 0.8298296829769306]}], \"precision_score_weighted\": [{\"categories\": [\"0\", \"1\", \"2\", \"3\", \"4\", \"5\", \"6\", \"7\", \"8\", \"9\", \"10\", \"11\", \"12\", \"13\", \"14\", \"15\", \"16\", \"17\", \"18\", \"19\", \"20\", \"21\", \"22\", \"23\", \"24\", \"25\", \"26\", \"27\", \"28\", \"29\", \"30\", \"31\", \"32\", \"33\", \"34\", \"35\", \"36\", \"37\", \"38\", \"39\", \"40\", \"41\", \"42\", \"43\", \"44\", \"45\", \"46\", \"47\", \"48\", \"49\", \"50\", \"51\", \"52\", \"53\", \"54\", \"55\", \"56\", \"57\", \"58\", \"59\", \"60\", \"61\", \"62\", \"63\", \"64\", \"65\", \"66\", \"67\", \"68\", \"69\", \"70\", \"71\", \"72\", \"73\", \"74\", \"75\", \"76\", \"77\", \"78\", \"79\", \"80\", \"81\", \"82\", \"83\", \"84\", \"85\", \"86\", \"87\", \"88\", \"89\", \"90\", \"91\", \"92\", \"93\", \"94\", \"95\", \"96\", \"97\"], \"mode\": \"markers\", \"name\": \"precision_score_weighted\", \"stepped\": false, \"type\": \"scatter\", \"data\": [0.7878814489232884, 0.8385309680501859, 0.8312726373122651, 0.8183442169602883, 0.8244368319104316, 0.8211837552159853, 0.8473016192865243, 0.742704969742456, 0.8255042057759869, 0.8170815454531146, 0.8232508726954705, 0.827587221802069, 0.8112460539996772, 0.7886719361478977, 0.8074553571402507, 0.8426498539862596, 0.8254951229592034, 0.7871631237317512, 0.8276945155238676, 0.8360951232193162, 0.80794330446562, 0.7919094234524754, 0.8384674553732653, 0.7830499220082033, 0.7837579017617188, 0.45229587488439743, 0.8163451483467307, 0.7552531595388738, 0.771728807960692, 0.8024148979960676, 0.842379125233269, 0.8124871923213437, 0.8375120157286909, 0.8210421194752827, 0.838247023248635, 0.8135056501232971, 0.8423554966858537, 0.8563267321171196, 0.8189251025722486, 0.8240206046931192, 0.8426097931411941, 0.8398653515340708, 0.8197650360376901, 0.8152135050948188, 0.8472901400792366, 0.545819201374757, 0.8059150761452551, 0.8386978366416779, 0.8347181887117475, 0.8472901400792366, 0.829879525066772, 0.8183418666611942, 0.8498370967545664, 0.8097532417390032, 0.8343364455107212, 0.8571923455487142, 0.836490868341491, 0.8312603084580309, 0.8560669961217208, 0.8327820024383091, 0.45229587488439743, 0.8321409406555215, 0.851183634474022, 0.8384882626681569, 0.7893760970415493, 0.8496032008638719, 0.8557103247281819, 0.8341128735781207, 0.8148065650937696, 0.8326681475377368, 0.8436502008685108, 0.8366869750501463, 0.8305791128019333, 0.8391676052236398, 0.8393072727601666, 0.8246446087313667, 0.8395007168608216, 0.7768622879835413, 0.8372096455050059, 0.8356267670435941, 0.8476390544346893, 0.8362043193875203, 0.828572388613004, 0.8046257045964649, 0.8363144729893047, 0.8239857860764851, 0.8538799774775977, 0.8211894268466248, 0.8513357678774914, 0.8396806984902222, 0.8560669961217208, 0.8396267420662049, 0.7771066228713127, 0.8311065976774251, 0.8400726488797933, 0.8603003099912062, 0.8656087018140589, 0.8509896303842917]}, {\"categories\": [\"0\", \"1\", \"2\", \"3\", \"4\", \"5\", \"6\", \"7\", \"8\", \"9\", \"10\", \"11\", \"12\", \"13\", \"14\", \"15\", \"16\", \"17\", \"18\", \"19\", \"20\", \"21\", \"22\", \"23\", \"24\", \"25\", \"26\", \"27\", \"28\", \"29\", \"30\", \"31\", \"32\", \"33\", \"34\", \"35\", \"36\", \"37\", \"38\", \"39\", \"40\", \"41\", \"42\", \"43\", \"44\", \"45\", \"46\", \"47\", \"48\", \"49\", \"50\", \"51\", \"52\", \"53\", \"54\", \"55\", \"56\", \"57\", \"58\", \"59\", \"60\", \"61\", \"62\", \"63\", \"64\", \"65\", \"66\", \"67\", \"68\", \"69\", \"70\", \"71\", \"72\", \"73\", \"74\", \"75\", \"76\", \"77\", \"78\", \"79\", \"80\", \"81\", \"82\", \"83\", \"84\", \"85\", \"86\", \"87\", \"88\", \"89\", \"90\", \"91\", \"92\", \"93\", \"94\", \"95\", \"96\", \"97\"], \"mode\": \"lines\", \"name\": \"precision_score_weighted_max\", \"stepped\": true, \"type\": \"scatter\", \"data\": [0.7878814489232884, 0.8385309680501859, 0.8385309680501859, 0.8385309680501859, 0.8385309680501859, 0.8385309680501859, 0.8473016192865243, 0.8473016192865243, 0.8473016192865243, 0.8473016192865243, 0.8473016192865243, 0.8473016192865243, 0.8473016192865243, 0.8473016192865243, 0.8473016192865243, 0.8473016192865243, 0.8473016192865243, 0.8473016192865243, 0.8473016192865243, 0.8473016192865243, 0.8473016192865243, 0.8473016192865243, 0.8473016192865243, 0.8473016192865243, 0.8473016192865243, 0.8473016192865243, 0.8473016192865243, 0.8473016192865243, 0.8473016192865243, 0.8473016192865243, 0.8473016192865243, 0.8473016192865243, 0.8473016192865243, 0.8473016192865243, 0.8473016192865243, 0.8473016192865243, 0.8473016192865243, 0.8563267321171196, 0.8563267321171196, 0.8563267321171196, 0.8563267321171196, 0.8563267321171196, 0.8563267321171196, 0.8563267321171196, 0.8563267321171196, 0.8563267321171196, 0.8563267321171196, 0.8563267321171196, 0.8563267321171196, 0.8563267321171196, 0.8563267321171196, 0.8563267321171196, 0.8563267321171196, 0.8563267321171196, 0.8563267321171196, 0.8571923455487142, 0.8571923455487142, 0.8571923455487142, 0.8571923455487142, 0.8571923455487142, 0.8571923455487142, 0.8571923455487142, 0.8571923455487142, 0.8571923455487142, 0.8571923455487142, 0.8571923455487142, 0.8571923455487142, 0.8571923455487142, 0.8571923455487142, 0.8571923455487142, 0.8571923455487142, 0.8571923455487142, 0.8571923455487142, 0.8571923455487142, 0.8571923455487142, 0.8571923455487142, 0.8571923455487142, 0.8571923455487142, 0.8571923455487142, 0.8571923455487142, 0.8571923455487142, 0.8571923455487142, 0.8571923455487142, 0.8571923455487142, 0.8571923455487142, 0.8571923455487142, 0.8571923455487142, 0.8571923455487142, 0.8571923455487142, 0.8571923455487142, 0.8571923455487142, 0.8571923455487142, 0.8571923455487142, 0.8571923455487142, 0.8571923455487142, 0.8603003099912062, 0.8656087018140589, 0.8656087018140589]}], \"recall_score_micro\": [{\"categories\": [\"0\", \"1\", \"2\", \"3\", \"4\", \"5\", \"6\", \"7\", \"8\", \"9\", \"10\", \"11\", \"12\", \"13\", \"14\", \"15\", \"16\", \"17\", \"18\", \"19\", \"20\", \"21\", \"22\", \"23\", \"24\", \"25\", \"26\", \"27\", \"28\", \"29\", \"30\", \"31\", \"32\", \"33\", \"34\", \"35\", \"36\", \"37\", \"38\", \"39\", \"40\", \"41\", \"42\", \"43\", \"44\", \"45\", \"46\", \"47\", \"48\", \"49\", \"50\", \"51\", \"52\", \"53\", \"54\", \"55\", \"56\", \"57\", \"58\", \"59\", \"60\", \"61\", \"62\", \"63\", \"64\", \"65\", \"66\", \"67\", \"68\", \"69\", \"70\", \"71\", \"72\", \"73\", \"74\", \"75\", \"76\", \"77\", \"78\", \"79\", \"80\", \"81\", \"82\", \"83\", \"84\", \"85\", \"86\", \"87\", \"88\", \"89\", \"90\", \"91\", \"92\", \"93\", \"94\", \"95\", \"96\", \"97\"], \"mode\": \"markers\", \"name\": \"recall_score_micro\", \"stepped\": false, \"type\": \"scatter\", \"data\": [0.7857142857142857, 0.8374033374033374, 0.8337403337403337, 0.8191290191290191, 0.8264550264550264, 0.8227513227513228, 0.8486365486365487, 0.7527472527472527, 0.8264957264957266, 0.819006919006919, 0.8226699226699227, 0.8301587301587302, 0.8043549043549043, 0.7896621896621897, 0.8079772079772081, 0.8448514448514448, 0.8264550264550264, 0.7821733821733822, 0.8264143264143264, 0.8338217338217339, 0.8117216117216116, 0.7933251933251934, 0.8412698412698413, 0.7672364672364672, 0.771021571021571, 0.6713878713878714, 0.808017908017908, 0.7564102564102564, 0.774928774928775, 0.8005698005698005, 0.8448921448921448, 0.7711436711436711, 0.8375661375661375, 0.8227513227513227, 0.8374847374847375, 0.8080179080179081, 0.8449328449328449, 0.8522995522995522, 0.819006919006919, 0.8265771265771266, 0.8411884411884412, 0.8412291412291412, 0.819006919006919, 0.8152625152625154, 0.8449328449328449, 0.675050875050875, 0.8042735042735042, 0.8412291412291412, 0.8375661375661375, 0.8449328449328449, 0.8301180301180301, 0.819006919006919, 0.8448921448921448, 0.8079365079365078, 0.8337810337810337, 0.8522995522995522, 0.8375661375661375, 0.8338217338217339, 0.8522995522995522, 0.8337403337403337, 0.6713878713878714, 0.8338624338624339, 0.8448921448921448, 0.8412291412291412, 0.7856328856328857, 0.8486772486772486, 0.8559625559625559, 0.8337403337403337, 0.8153439153439153, 0.8337810337810337, 0.8449735449735449, 0.8375254375254375, 0.8301180301180301, 0.8375254375254375, 0.8411884411884412, 0.8264550264550264, 0.8412698412698413, 0.7636955636955637, 0.8374847374847375, 0.8374847374847375, 0.8486365486365486, 0.8375254375254375, 0.8301180301180301, 0.7967846967846968, 0.8375661375661375, 0.8264550264550264, 0.8560846560846561, 0.8226699226699227, 0.8522995522995522, 0.8412291412291412, 0.8522995522995522, 0.8375254375254375, 0.7822954822954823, 0.8337810337810337, 0.8412698412698413, 0.8560032560032559, 0.8671550671550672, 0.8523402523402522]}, {\"categories\": [\"0\", \"1\", \"2\", \"3\", \"4\", \"5\", \"6\", \"7\", \"8\", \"9\", \"10\", \"11\", \"12\", \"13\", \"14\", \"15\", \"16\", \"17\", \"18\", \"19\", \"20\", \"21\", \"22\", \"23\", \"24\", \"25\", \"26\", \"27\", \"28\", \"29\", \"30\", \"31\", \"32\", \"33\", \"34\", \"35\", \"36\", \"37\", \"38\", \"39\", \"40\", \"41\", \"42\", \"43\", \"44\", \"45\", \"46\", \"47\", \"48\", \"49\", \"50\", \"51\", \"52\", \"53\", \"54\", \"55\", \"56\", \"57\", \"58\", \"59\", \"60\", \"61\", \"62\", \"63\", \"64\", \"65\", \"66\", \"67\", \"68\", \"69\", \"70\", \"71\", \"72\", \"73\", \"74\", \"75\", \"76\", \"77\", \"78\", \"79\", \"80\", \"81\", \"82\", \"83\", \"84\", \"85\", \"86\", \"87\", \"88\", \"89\", \"90\", \"91\", \"92\", \"93\", \"94\", \"95\", \"96\", \"97\"], \"mode\": \"lines\", \"name\": \"recall_score_micro_max\", \"stepped\": true, \"type\": \"scatter\", \"data\": [0.7857142857142857, 0.8374033374033374, 0.8374033374033374, 0.8374033374033374, 0.8374033374033374, 0.8374033374033374, 0.8486365486365487, 0.8486365486365487, 0.8486365486365487, 0.8486365486365487, 0.8486365486365487, 0.8486365486365487, 0.8486365486365487, 0.8486365486365487, 0.8486365486365487, 0.8486365486365487, 0.8486365486365487, 0.8486365486365487, 0.8486365486365487, 0.8486365486365487, 0.8486365486365487, 0.8486365486365487, 0.8486365486365487, 0.8486365486365487, 0.8486365486365487, 0.8486365486365487, 0.8486365486365487, 0.8486365486365487, 0.8486365486365487, 0.8486365486365487, 0.8486365486365487, 0.8486365486365487, 0.8486365486365487, 0.8486365486365487, 0.8486365486365487, 0.8486365486365487, 0.8486365486365487, 0.8522995522995522, 0.8522995522995522, 0.8522995522995522, 0.8522995522995522, 0.8522995522995522, 0.8522995522995522, 0.8522995522995522, 0.8522995522995522, 0.8522995522995522, 0.8522995522995522, 0.8522995522995522, 0.8522995522995522, 0.8522995522995522, 0.8522995522995522, 0.8522995522995522, 0.8522995522995522, 0.8522995522995522, 0.8522995522995522, 0.8522995522995522, 0.8522995522995522, 0.8522995522995522, 0.8522995522995522, 0.8522995522995522, 0.8522995522995522, 0.8522995522995522, 0.8522995522995522, 0.8522995522995522, 0.8522995522995522, 0.8522995522995522, 0.8559625559625559, 0.8559625559625559, 0.8559625559625559, 0.8559625559625559, 0.8559625559625559, 0.8559625559625559, 0.8559625559625559, 0.8559625559625559, 0.8559625559625559, 0.8559625559625559, 0.8559625559625559, 0.8559625559625559, 0.8559625559625559, 0.8559625559625559, 0.8559625559625559, 0.8559625559625559, 0.8559625559625559, 0.8559625559625559, 0.8559625559625559, 0.8559625559625559, 0.8560846560846561, 0.8560846560846561, 0.8560846560846561, 0.8560846560846561, 0.8560846560846561, 0.8560846560846561, 0.8560846560846561, 0.8560846560846561, 0.8560846560846561, 0.8560846560846561, 0.8671550671550672, 0.8671550671550672]}], \"AUC_weighted\": [{\"categories\": [\"0\", \"1\", \"2\", \"3\", \"4\", \"5\", \"6\", \"7\", \"8\", \"9\", \"10\", \"11\", \"12\", \"13\", \"14\", \"15\", \"16\", \"17\", \"18\", \"19\", \"20\", \"21\", \"22\", \"23\", \"24\", \"25\", \"26\", \"27\", \"28\", \"29\", \"30\", \"31\", \"32\", \"33\", \"34\", \"35\", \"36\", \"37\", \"38\", \"39\", \"40\", \"41\", \"42\", \"43\", \"44\", \"45\", \"46\", \"47\", \"48\", \"49\", \"50\", \"51\", \"52\", \"53\", \"54\", \"55\", \"56\", \"57\", \"58\", \"59\", \"60\", \"61\", \"62\", \"63\", \"64\", \"65\", \"66\", \"67\", \"68\", \"69\", \"70\", \"71\", \"72\", \"73\", \"74\", \"75\", \"76\", \"77\", \"78\", \"79\", \"80\", \"81\", \"82\", \"83\", \"84\", \"85\", \"86\", \"87\", \"88\", \"89\", \"90\", \"91\", \"92\", \"93\", \"94\", \"95\", \"96\", \"97\"], \"mode\": \"markers\", \"name\": \"AUC_weighted\", \"stepped\": false, \"type\": \"scatter\", \"data\": [0.8924229140706365, 0.9158164941986989, 0.8990831027123507, 0.8980909088002408, 0.9002161176089983, 0.8788474289478576, 0.9153872625519485, 0.808674050219905, 0.8846549676597734, 0.8894810749335799, 0.9041180570149522, 0.8885427960942335, 0.9038575524362984, 0.8595359162689599, 0.9000605539341114, 0.9143624498561046, 0.8859769265656866, 0.8754285820033569, 0.9031015768070816, 0.9068222545639023, 0.9089330578574053, 0.851350697269376, 0.9053548462670502, 0.8435075239944164, 0.8355508719221993, 0.7417119813522794, 0.8880193743909897, 0.8141022591990911, 0.8703140408138825, 0.883486772223787, 0.9179079457733309, 0.9012855982537431, 0.9153780367437528, 0.9089069451965482, 0.9083565882414836, 0.8842169791494991, 0.914190986631492, 0.9092024016555684, 0.8949964611148462, 0.9024200626157404, 0.9048077176666283, 0.9132580405844485, 0.9105770335122009, 0.9054140185583885, 0.9074965766554498, 0.8769775120683008, 0.8581730574427185, 0.9230235498394688, 0.9195806239425129, 0.9026129112676262, 0.8950234293090614, 0.902475712008675, 0.9061371467448991, 0.9010416956729294, 0.8890839156143752, 0.8922649184719341, 0.9077065030321051, 0.9066775686613965, 0.9110931361905434, 0.880915963273881, 0.5442424242424243, 0.9147937103667875, 0.8994708191911149, 0.9060333181313873, 0.8358027136200427, 0.9023553375931725, 0.914953046914717, 0.9094266250313559, 0.9026828198728287, 0.9208682859403702, 0.9161401299693722, 0.9126094707252084, 0.9035898276599262, 0.8978435821482065, 0.9133554570577965, 0.9093197095217181, 0.9133198405161801, 0.8136933220050252, 0.9105197369995505, 0.9141662100753926, 0.9094847935485615, 0.8980363174395002, 0.9130142746176816, 0.8646643988734862, 0.9067483114842902, 0.8765397638437263, 0.905068553607013, 0.8831203985409619, 0.9184356354544262, 0.9096504666629267, 0.9071239652333721, 0.9081555388712017, 0.861457605996756, 0.9015091831284169, 0.909951310172311, 0.9134558402844207, 0.917153186106022, 0.9162318648485952]}, {\"categories\": [\"0\", \"1\", \"2\", \"3\", \"4\", \"5\", \"6\", \"7\", \"8\", \"9\", \"10\", \"11\", \"12\", \"13\", \"14\", \"15\", \"16\", \"17\", \"18\", \"19\", \"20\", \"21\", \"22\", \"23\", \"24\", \"25\", \"26\", \"27\", \"28\", \"29\", \"30\", \"31\", \"32\", \"33\", \"34\", \"35\", \"36\", \"37\", \"38\", \"39\", \"40\", \"41\", \"42\", \"43\", \"44\", \"45\", \"46\", \"47\", \"48\", \"49\", \"50\", \"51\", \"52\", \"53\", \"54\", \"55\", \"56\", \"57\", \"58\", \"59\", \"60\", \"61\", \"62\", \"63\", \"64\", \"65\", \"66\", \"67\", \"68\", \"69\", \"70\", \"71\", \"72\", \"73\", \"74\", \"75\", \"76\", \"77\", \"78\", \"79\", \"80\", \"81\", \"82\", \"83\", \"84\", \"85\", \"86\", \"87\", \"88\", \"89\", \"90\", \"91\", \"92\", \"93\", \"94\", \"95\", \"96\", \"97\"], \"mode\": \"lines\", \"name\": \"AUC_weighted_max\", \"stepped\": true, \"type\": \"scatter\", \"data\": [0.8924229140706365, 0.9158164941986989, 0.9158164941986989, 0.9158164941986989, 0.9158164941986989, 0.9158164941986989, 0.9158164941986989, 0.9158164941986989, 0.9158164941986989, 0.9158164941986989, 0.9158164941986989, 0.9158164941986989, 0.9158164941986989, 0.9158164941986989, 0.9158164941986989, 0.9158164941986989, 0.9158164941986989, 0.9158164941986989, 0.9158164941986989, 0.9158164941986989, 0.9158164941986989, 0.9158164941986989, 0.9158164941986989, 0.9158164941986989, 0.9158164941986989, 0.9158164941986989, 0.9158164941986989, 0.9158164941986989, 0.9158164941986989, 0.9158164941986989, 0.9179079457733309, 0.9179079457733309, 0.9179079457733309, 0.9179079457733309, 0.9179079457733309, 0.9179079457733309, 0.9179079457733309, 0.9179079457733309, 0.9179079457733309, 0.9179079457733309, 0.9179079457733309, 0.9179079457733309, 0.9179079457733309, 0.9179079457733309, 0.9179079457733309, 0.9179079457733309, 0.9179079457733309, 0.9230235498394688, 0.9230235498394688, 0.9230235498394688, 0.9230235498394688, 0.9230235498394688, 0.9230235498394688, 0.9230235498394688, 0.9230235498394688, 0.9230235498394688, 0.9230235498394688, 0.9230235498394688, 0.9230235498394688, 0.9230235498394688, 0.9230235498394688, 0.9230235498394688, 0.9230235498394688, 0.9230235498394688, 0.9230235498394688, 0.9230235498394688, 0.9230235498394688, 0.9230235498394688, 0.9230235498394688, 0.9230235498394688, 0.9230235498394688, 0.9230235498394688, 0.9230235498394688, 0.9230235498394688, 0.9230235498394688, 0.9230235498394688, 0.9230235498394688, 0.9230235498394688, 0.9230235498394688, 0.9230235498394688, 0.9230235498394688, 0.9230235498394688, 0.9230235498394688, 0.9230235498394688, 0.9230235498394688, 0.9230235498394688, 0.9230235498394688, 0.9230235498394688, 0.9230235498394688, 0.9230235498394688, 0.9230235498394688, 0.9230235498394688, 0.9230235498394688, 0.9230235498394688, 0.9230235498394688, 0.9230235498394688, 0.9230235498394688, 0.9230235498394688]}], \"AUC_micro\": [{\"categories\": [\"0\", \"1\", \"2\", \"3\", \"4\", \"5\", \"6\", \"7\", \"8\", \"9\", \"10\", \"11\", \"12\", \"13\", \"14\", \"15\", \"16\", \"17\", \"18\", \"19\", \"20\", \"21\", \"22\", \"23\", \"24\", \"25\", \"26\", \"27\", \"28\", \"29\", \"30\", \"31\", \"32\", \"33\", \"34\", \"35\", \"36\", \"37\", \"38\", \"39\", \"40\", \"41\", \"42\", \"43\", \"44\", \"45\", \"46\", \"47\", \"48\", \"49\", \"50\", \"51\", \"52\", \"53\", \"54\", \"55\", \"56\", \"57\", \"58\", \"59\", \"60\", \"61\", \"62\", \"63\", \"64\", \"65\", \"66\", \"67\", \"68\", \"69\", \"70\", \"71\", \"72\", \"73\", \"74\", \"75\", \"76\", \"77\", \"78\", \"79\", \"80\", \"81\", \"82\", \"83\", \"84\", \"85\", \"86\", \"87\", \"88\", \"89\", \"90\", \"91\", \"92\", \"93\", \"94\", \"95\", \"96\", \"97\"], \"mode\": \"markers\", \"name\": \"AUC_micro\", \"stepped\": false, \"type\": \"scatter\", \"data\": [0.9019923887445255, 0.9245757629518314, 0.9134713954249974, 0.9103152588378474, 0.913714035252497, 0.8973621950789227, 0.9263588024149686, 0.8389145015884942, 0.9041932422030102, 0.9057660229699301, 0.9116346110363205, 0.9042847700845259, 0.9084568870283155, 0.8846989812069177, 0.9059088209759759, 0.9279081968092958, 0.9013148349412085, 0.8845332490509538, 0.9105803905315505, 0.8972821367571062, 0.9156760753830352, 0.8708972296640184, 0.9163043816401569, 0.8485913611554637, 0.8401137712737224, 0.7786493500168713, 0.8871946590017408, 0.8415399175960837, 0.8778989635155692, 0.888873582890677, 0.9272499842219012, 0.8741914382817925, 0.9254152224115595, 0.9124846405798787, 0.9176450876939276, 0.8918354227511737, 0.9221255161426102, 0.9137979151043863, 0.9106089501327596, 0.9125055521514618, 0.9156052404159851, 0.922064799036716, 0.9193129942458391, 0.914966369044513, 0.903645222863782, 0.8354700805006056, 0.8775040836701399, 0.9302968270367539, 0.9278198195780614, 0.9042285503579764, 0.9037185326318417, 0.9151444702360454, 0.9117151166113316, 0.9131923243400655, 0.9052353172988093, 0.9014490854417595, 0.9163079795436327, 0.9074584389969006, 0.9166749756371245, 0.8986763690792995, 0.6890185923152955, 0.9129804903187076, 0.9105561046830889, 0.9170498433868398, 0.8578031693355258, 0.9100183150183151, 0.9208248342802677, 0.9192540760916829, 0.9098774277773055, 0.9275654865642656, 0.921008779580208, 0.9242960160176277, 0.9159927008278657, 0.9091142001398412, 0.9248980088784728, 0.9208655343209678, 0.918879431968565, 0.8342134679863618, 0.9192264159663427, 0.9236330824242911, 0.9151604371750891, 0.9123663520488917, 0.9217445756884096, 0.8725518776434527, 0.91511478753237, 0.8964829251154037, 0.9136245349187962, 0.8947235006209365, 0.9252220537568524, 0.921580190261509, 0.9148264980621512, 0.8976086564364952, 0.875529222281359, 0.9168445293231618, 0.9185947404018222, 0.9137068394455451, 0.9272409894632117, 0.9202491498462194]}, {\"categories\": [\"0\", \"1\", \"2\", \"3\", \"4\", \"5\", \"6\", \"7\", \"8\", \"9\", \"10\", \"11\", \"12\", \"13\", \"14\", \"15\", \"16\", \"17\", \"18\", \"19\", \"20\", \"21\", \"22\", \"23\", \"24\", \"25\", \"26\", \"27\", \"28\", \"29\", \"30\", \"31\", \"32\", \"33\", \"34\", \"35\", \"36\", \"37\", \"38\", \"39\", \"40\", \"41\", \"42\", \"43\", \"44\", \"45\", \"46\", \"47\", \"48\", \"49\", \"50\", \"51\", \"52\", \"53\", \"54\", \"55\", \"56\", \"57\", \"58\", \"59\", \"60\", \"61\", \"62\", \"63\", \"64\", \"65\", \"66\", \"67\", \"68\", \"69\", \"70\", \"71\", \"72\", \"73\", \"74\", \"75\", \"76\", \"77\", \"78\", \"79\", \"80\", \"81\", \"82\", \"83\", \"84\", \"85\", \"86\", \"87\", \"88\", \"89\", \"90\", \"91\", \"92\", \"93\", \"94\", \"95\", \"96\", \"97\"], \"mode\": \"lines\", \"name\": \"AUC_micro_max\", \"stepped\": true, \"type\": \"scatter\", \"data\": [0.9019923887445255, 0.9245757629518314, 0.9245757629518314, 0.9245757629518314, 0.9245757629518314, 0.9245757629518314, 0.9263588024149686, 0.9263588024149686, 0.9263588024149686, 0.9263588024149686, 0.9263588024149686, 0.9263588024149686, 0.9263588024149686, 0.9263588024149686, 0.9263588024149686, 0.9279081968092958, 0.9279081968092958, 0.9279081968092958, 0.9279081968092958, 0.9279081968092958, 0.9279081968092958, 0.9279081968092958, 0.9279081968092958, 0.9279081968092958, 0.9279081968092958, 0.9279081968092958, 0.9279081968092958, 0.9279081968092958, 0.9279081968092958, 0.9279081968092958, 0.9279081968092958, 0.9279081968092958, 0.9279081968092958, 0.9279081968092958, 0.9279081968092958, 0.9279081968092958, 0.9279081968092958, 0.9279081968092958, 0.9279081968092958, 0.9279081968092958, 0.9279081968092958, 0.9279081968092958, 0.9279081968092958, 0.9279081968092958, 0.9279081968092958, 0.9279081968092958, 0.9279081968092958, 0.9302968270367539, 0.9302968270367539, 0.9302968270367539, 0.9302968270367539, 0.9302968270367539, 0.9302968270367539, 0.9302968270367539, 0.9302968270367539, 0.9302968270367539, 0.9302968270367539, 0.9302968270367539, 0.9302968270367539, 0.9302968270367539, 0.9302968270367539, 0.9302968270367539, 0.9302968270367539, 0.9302968270367539, 0.9302968270367539, 0.9302968270367539, 0.9302968270367539, 0.9302968270367539, 0.9302968270367539, 0.9302968270367539, 0.9302968270367539, 0.9302968270367539, 0.9302968270367539, 0.9302968270367539, 0.9302968270367539, 0.9302968270367539, 0.9302968270367539, 0.9302968270367539, 0.9302968270367539, 0.9302968270367539, 0.9302968270367539, 0.9302968270367539, 0.9302968270367539, 0.9302968270367539, 0.9302968270367539, 0.9302968270367539, 0.9302968270367539, 0.9302968270367539, 0.9302968270367539, 0.9302968270367539, 0.9302968270367539, 0.9302968270367539, 0.9302968270367539, 0.9302968270367539, 0.9302968270367539, 0.9302968270367539, 0.9302968270367539, 0.9302968270367539]}], \"precision_score_macro\": [{\"categories\": [\"0\", \"1\", \"2\", \"3\", \"4\", \"5\", \"6\", \"7\", \"8\", \"9\", \"10\", \"11\", \"12\", \"13\", \"14\", \"15\", \"16\", \"17\", \"18\", \"19\", \"20\", \"21\", \"22\", \"23\", \"24\", \"25\", \"26\", \"27\", \"28\", \"29\", \"30\", \"31\", \"32\", \"33\", \"34\", \"35\", \"36\", \"37\", \"38\", \"39\", \"40\", \"41\", \"42\", \"43\", \"44\", \"45\", \"46\", \"47\", \"48\", \"49\", \"50\", \"51\", \"52\", \"53\", \"54\", \"55\", \"56\", \"57\", \"58\", \"59\", \"60\", \"61\", \"62\", \"63\", \"64\", \"65\", \"66\", \"67\", \"68\", \"69\", \"70\", \"71\", \"72\", \"73\", \"74\", \"75\", \"76\", \"77\", \"78\", \"79\", \"80\", \"81\", \"82\", \"83\", \"84\", \"85\", \"86\", \"87\", \"88\", \"89\", \"90\", \"91\", \"92\", \"93\", \"94\", \"95\", \"96\", \"97\"], \"mode\": \"markers\", \"name\": \"precision_score_macro\", \"stepped\": false, \"type\": \"scatter\", \"data\": [0.7645206802311192, 0.8189951814242639, 0.8205297064393693, 0.8142779095904095, 0.8055595809236186, 0.8093724249637645, 0.8344836082581181, 0.7208947726571769, 0.8076395340604234, 0.8003799508122521, 0.8180509112641121, 0.8174565161623241, 0.8190621274860406, 0.7643830128205128, 0.8069943598909752, 0.8323348694316436, 0.8207804336468129, 0.7936951997409514, 0.8225104631096761, 0.8362139074080477, 0.7939932009529889, 0.7857452812695781, 0.8284325343084147, 0.7497047842435816, 0.7523816003715008, 0.3356939356939357, 0.8273867263186884, 0.7481185481185482, 0.7666551644812515, 0.7984628199638593, 0.8334431306756579, 0.8419901876139105, 0.8153429355450105, 0.8172339319935343, 0.8397399259647447, 0.8053186274509804, 0.8320989774114774, 0.8605258268616209, 0.8055354134375632, 0.8163324979114451, 0.8379739423217685, 0.8240305810898607, 0.7965146902770921, 0.7984230234981909, 0.8486735431769388, 0.5037037037037037, 0.8056478290493635, 0.8258010275369488, 0.8204871349798886, 0.8486735431769388, 0.8276928712631196, 0.7992671499071653, 0.8456277626774291, 0.7850504793677944, 0.8212557659879872, 0.8628463662908671, 0.8298365553261249, 0.8257851966116899, 0.8536420795152754, 0.8267885281099892, 0.3356939356939357, 0.825833716096192, 0.8593894632252574, 0.8268959435626103, 0.7575440194292652, 0.84633379204866, 0.8527129120879121, 0.8149904262909825, 0.8039507504323655, 0.8193516942735326, 0.8381866112499915, 0.8167523348139413, 0.8089185365568458, 0.8216306466521983, 0.8295954452928234, 0.8132800608828005, 0.8341652477486866, 0.7894667619253845, 0.8223608120813992, 0.8202861752764289, 0.8404418498168497, 0.8259698366896231, 0.8123373862028864, 0.7921791009510307, 0.8299774492364818, 0.8064658540962015, 0.8441639114083261, 0.8026168478729008, 0.8453442278521788, 0.8239405331510593, 0.8536420795152754, 0.839779897854578, 0.767993311184918, 0.8169592640490256, 0.8333217175069391, 0.8656793976172268, 0.8584611568986569, 0.8401233867715265]}, {\"categories\": [\"0\", \"1\", \"2\", \"3\", \"4\", \"5\", \"6\", \"7\", \"8\", \"9\", \"10\", \"11\", \"12\", \"13\", \"14\", \"15\", \"16\", \"17\", \"18\", \"19\", \"20\", \"21\", \"22\", \"23\", \"24\", \"25\", \"26\", \"27\", \"28\", \"29\", \"30\", \"31\", \"32\", \"33\", \"34\", \"35\", \"36\", \"37\", \"38\", \"39\", \"40\", \"41\", \"42\", \"43\", \"44\", \"45\", \"46\", \"47\", \"48\", \"49\", \"50\", \"51\", \"52\", \"53\", \"54\", \"55\", \"56\", \"57\", \"58\", \"59\", \"60\", \"61\", \"62\", \"63\", \"64\", \"65\", \"66\", \"67\", \"68\", \"69\", \"70\", \"71\", \"72\", \"73\", \"74\", \"75\", \"76\", \"77\", \"78\", \"79\", \"80\", \"81\", \"82\", \"83\", \"84\", \"85\", \"86\", \"87\", \"88\", \"89\", \"90\", \"91\", \"92\", \"93\", \"94\", \"95\", \"96\", \"97\"], \"mode\": \"lines\", \"name\": \"precision_score_macro_max\", \"stepped\": true, \"type\": \"scatter\", \"data\": [0.7645206802311192, 0.8189951814242639, 0.8205297064393693, 0.8205297064393693, 0.8205297064393693, 0.8205297064393693, 0.8344836082581181, 0.8344836082581181, 0.8344836082581181, 0.8344836082581181, 0.8344836082581181, 0.8344836082581181, 0.8344836082581181, 0.8344836082581181, 0.8344836082581181, 0.8344836082581181, 0.8344836082581181, 0.8344836082581181, 0.8344836082581181, 0.8362139074080477, 0.8362139074080477, 0.8362139074080477, 0.8362139074080477, 0.8362139074080477, 0.8362139074080477, 0.8362139074080477, 0.8362139074080477, 0.8362139074080477, 0.8362139074080477, 0.8362139074080477, 0.8362139074080477, 0.8419901876139105, 0.8419901876139105, 0.8419901876139105, 0.8419901876139105, 0.8419901876139105, 0.8419901876139105, 0.8605258268616209, 0.8605258268616209, 0.8605258268616209, 0.8605258268616209, 0.8605258268616209, 0.8605258268616209, 0.8605258268616209, 0.8605258268616209, 0.8605258268616209, 0.8605258268616209, 0.8605258268616209, 0.8605258268616209, 0.8605258268616209, 0.8605258268616209, 0.8605258268616209, 0.8605258268616209, 0.8605258268616209, 0.8605258268616209, 0.8628463662908671, 0.8628463662908671, 0.8628463662908671, 0.8628463662908671, 0.8628463662908671, 0.8628463662908671, 0.8628463662908671, 0.8628463662908671, 0.8628463662908671, 0.8628463662908671, 0.8628463662908671, 0.8628463662908671, 0.8628463662908671, 0.8628463662908671, 0.8628463662908671, 0.8628463662908671, 0.8628463662908671, 0.8628463662908671, 0.8628463662908671, 0.8628463662908671, 0.8628463662908671, 0.8628463662908671, 0.8628463662908671, 0.8628463662908671, 0.8628463662908671, 0.8628463662908671, 0.8628463662908671, 0.8628463662908671, 0.8628463662908671, 0.8628463662908671, 0.8628463662908671, 0.8628463662908671, 0.8628463662908671, 0.8628463662908671, 0.8628463662908671, 0.8628463662908671, 0.8628463662908671, 0.8628463662908671, 0.8628463662908671, 0.8628463662908671, 0.8656793976172268, 0.8656793976172268, 0.8656793976172268]}], \"accuracy\": [{\"categories\": [\"0\", \"1\", \"2\", \"3\", \"4\", \"5\", \"6\", \"7\", \"8\", \"9\", \"10\", \"11\", \"12\", \"13\", \"14\", \"15\", \"16\", \"17\", \"18\", \"19\", \"20\", \"21\", \"22\", \"23\", \"24\", \"25\", \"26\", \"27\", \"28\", \"29\", \"30\", \"31\", \"32\", \"33\", \"34\", \"35\", \"36\", \"37\", \"38\", \"39\", \"40\", \"41\", \"42\", \"43\", \"44\", \"45\", \"46\", \"47\", \"48\", \"49\", \"50\", \"51\", \"52\", \"53\", \"54\", \"55\", \"56\", \"57\", \"58\", \"59\", \"60\", \"61\", \"62\", \"63\", \"64\", \"65\", \"66\", \"67\", \"68\", \"69\", \"70\", \"71\", \"72\", \"73\", \"74\", \"75\", \"76\", \"77\", \"78\", \"79\", \"80\", \"81\", \"82\", \"83\", \"84\", \"85\", \"86\", \"87\", \"88\", \"89\", \"90\", \"91\", \"92\", \"93\", \"94\", \"95\", \"96\", \"97\"], \"mode\": \"markers\", \"name\": \"accuracy\", \"stepped\": false, \"type\": \"scatter\", \"data\": [0.7857142857142857, 0.8374033374033374, 0.8337403337403337, 0.8191290191290191, 0.8264550264550264, 0.8227513227513228, 0.8486365486365487, 0.7527472527472527, 0.8264957264957266, 0.819006919006919, 0.8226699226699227, 0.8301587301587302, 0.8043549043549043, 0.7896621896621897, 0.8079772079772081, 0.8448514448514448, 0.8264550264550264, 0.7821733821733822, 0.8264143264143264, 0.8338217338217339, 0.8117216117216116, 0.7933251933251934, 0.8412698412698413, 0.7672364672364672, 0.771021571021571, 0.6713878713878714, 0.808017908017908, 0.7564102564102564, 0.774928774928775, 0.8005698005698005, 0.8448921448921448, 0.7711436711436711, 0.8375661375661375, 0.8227513227513227, 0.8374847374847375, 0.8080179080179081, 0.8449328449328449, 0.8522995522995522, 0.819006919006919, 0.8265771265771266, 0.8411884411884412, 0.8412291412291412, 0.819006919006919, 0.8152625152625154, 0.8449328449328449, 0.675050875050875, 0.8042735042735042, 0.8412291412291412, 0.8375661375661375, 0.8449328449328449, 0.8301180301180301, 0.819006919006919, 0.8448921448921448, 0.8079365079365078, 0.8337810337810337, 0.8522995522995522, 0.8375661375661375, 0.8338217338217339, 0.8522995522995522, 0.8337403337403337, 0.6713878713878714, 0.8338624338624339, 0.8448921448921448, 0.8412291412291412, 0.7856328856328857, 0.8486772486772486, 0.8559625559625559, 0.8337403337403337, 0.8153439153439153, 0.8337810337810337, 0.8449735449735449, 0.8375254375254375, 0.8301180301180301, 0.8375254375254375, 0.8411884411884412, 0.8264550264550264, 0.8412698412698413, 0.7636955636955637, 0.8374847374847375, 0.8374847374847375, 0.8486365486365486, 0.8375254375254375, 0.8301180301180301, 0.7967846967846968, 0.8375661375661375, 0.8264550264550264, 0.8560846560846561, 0.8226699226699227, 0.8522995522995522, 0.8412291412291412, 0.8522995522995522, 0.8375254375254375, 0.7822954822954823, 0.8337810337810337, 0.8412698412698413, 0.8560032560032559, 0.8671550671550672, 0.8523402523402522]}, {\"categories\": [\"0\", \"1\", \"2\", \"3\", \"4\", \"5\", \"6\", \"7\", \"8\", \"9\", \"10\", \"11\", \"12\", \"13\", \"14\", \"15\", \"16\", \"17\", \"18\", \"19\", \"20\", \"21\", \"22\", \"23\", \"24\", \"25\", \"26\", \"27\", \"28\", \"29\", \"30\", \"31\", \"32\", \"33\", \"34\", \"35\", \"36\", \"37\", \"38\", \"39\", \"40\", \"41\", \"42\", \"43\", \"44\", \"45\", \"46\", \"47\", \"48\", \"49\", \"50\", \"51\", \"52\", \"53\", \"54\", \"55\", \"56\", \"57\", \"58\", \"59\", \"60\", \"61\", \"62\", \"63\", \"64\", \"65\", \"66\", \"67\", \"68\", \"69\", \"70\", \"71\", \"72\", \"73\", \"74\", \"75\", \"76\", \"77\", \"78\", \"79\", \"80\", \"81\", \"82\", \"83\", \"84\", \"85\", \"86\", \"87\", \"88\", \"89\", \"90\", \"91\", \"92\", \"93\", \"94\", \"95\", \"96\", \"97\"], \"mode\": \"lines\", \"name\": \"accuracy_max\", \"stepped\": true, \"type\": \"scatter\", \"data\": [0.7857142857142857, 0.8374033374033374, 0.8374033374033374, 0.8374033374033374, 0.8374033374033374, 0.8374033374033374, 0.8486365486365487, 0.8486365486365487, 0.8486365486365487, 0.8486365486365487, 0.8486365486365487, 0.8486365486365487, 0.8486365486365487, 0.8486365486365487, 0.8486365486365487, 0.8486365486365487, 0.8486365486365487, 0.8486365486365487, 0.8486365486365487, 0.8486365486365487, 0.8486365486365487, 0.8486365486365487, 0.8486365486365487, 0.8486365486365487, 0.8486365486365487, 0.8486365486365487, 0.8486365486365487, 0.8486365486365487, 0.8486365486365487, 0.8486365486365487, 0.8486365486365487, 0.8486365486365487, 0.8486365486365487, 0.8486365486365487, 0.8486365486365487, 0.8486365486365487, 0.8486365486365487, 0.8522995522995522, 0.8522995522995522, 0.8522995522995522, 0.8522995522995522, 0.8522995522995522, 0.8522995522995522, 0.8522995522995522, 0.8522995522995522, 0.8522995522995522, 0.8522995522995522, 0.8522995522995522, 0.8522995522995522, 0.8522995522995522, 0.8522995522995522, 0.8522995522995522, 0.8522995522995522, 0.8522995522995522, 0.8522995522995522, 0.8522995522995522, 0.8522995522995522, 0.8522995522995522, 0.8522995522995522, 0.8522995522995522, 0.8522995522995522, 0.8522995522995522, 0.8522995522995522, 0.8522995522995522, 0.8522995522995522, 0.8522995522995522, 0.8559625559625559, 0.8559625559625559, 0.8559625559625559, 0.8559625559625559, 0.8559625559625559, 0.8559625559625559, 0.8559625559625559, 0.8559625559625559, 0.8559625559625559, 0.8559625559625559, 0.8559625559625559, 0.8559625559625559, 0.8559625559625559, 0.8559625559625559, 0.8559625559625559, 0.8559625559625559, 0.8559625559625559, 0.8559625559625559, 0.8559625559625559, 0.8559625559625559, 0.8560846560846561, 0.8560846560846561, 0.8560846560846561, 0.8560846560846561, 0.8560846560846561, 0.8560846560846561, 0.8560846560846561, 0.8560846560846561, 0.8560846560846561, 0.8560846560846561, 0.8671550671550672, 0.8671550671550672]}], \"f1_score_micro\": [{\"categories\": [\"0\", \"1\", \"2\", \"3\", \"4\", \"5\", \"6\", \"7\", \"8\", \"9\", \"10\", \"11\", \"12\", \"13\", \"14\", \"15\", \"16\", \"17\", \"18\", \"19\", \"20\", \"21\", \"22\", \"23\", \"24\", \"25\", \"26\", \"27\", \"28\", \"29\", \"30\", \"31\", \"32\", \"33\", \"34\", \"35\", \"36\", \"37\", \"38\", \"39\", \"40\", \"41\", \"42\", \"43\", \"44\", \"45\", \"46\", \"47\", \"48\", \"49\", \"50\", \"51\", \"52\", \"53\", \"54\", \"55\", \"56\", \"57\", \"58\", \"59\", \"60\", \"61\", \"62\", \"63\", \"64\", \"65\", \"66\", \"67\", \"68\", \"69\", \"70\", \"71\", \"72\", \"73\", \"74\", \"75\", \"76\", \"77\", \"78\", \"79\", \"80\", \"81\", \"82\", \"83\", \"84\", \"85\", \"86\", \"87\", \"88\", \"89\", \"90\", \"91\", \"92\", \"93\", \"94\", \"95\", \"96\", \"97\"], \"mode\": \"markers\", \"name\": \"f1_score_micro\", \"stepped\": false, \"type\": \"scatter\", \"data\": [0.7857142857142857, 0.8374033374033374, 0.8337403337403337, 0.8191290191290191, 0.8264550264550264, 0.8227513227513228, 0.8486365486365487, 0.7527472527472527, 0.8264957264957266, 0.819006919006919, 0.8226699226699227, 0.8301587301587302, 0.8043549043549043, 0.7896621896621897, 0.8079772079772081, 0.8448514448514448, 0.8264550264550264, 0.7821733821733822, 0.8264143264143264, 0.8338217338217339, 0.8117216117216118, 0.7933251933251934, 0.8412698412698413, 0.7672364672364672, 0.771021571021571, 0.6713878713878714, 0.8080179080179081, 0.7564102564102564, 0.774928774928775, 0.8005698005698005, 0.8448921448921448, 0.7711436711436711, 0.8375661375661375, 0.8227513227513227, 0.8374847374847375, 0.8080179080179081, 0.8449328449328449, 0.8522995522995522, 0.819006919006919, 0.8265771265771266, 0.8411884411884412, 0.8412291412291414, 0.819006919006919, 0.8152625152625154, 0.8449328449328449, 0.675050875050875, 0.8042735042735042, 0.8412291412291412, 0.8375661375661375, 0.8449328449328449, 0.8301180301180301, 0.819006919006919, 0.8448921448921448, 0.8079365079365078, 0.8337810337810337, 0.8522995522995522, 0.8375661375661375, 0.8338217338217339, 0.8522995522995522, 0.8337403337403337, 0.6713878713878714, 0.8338624338624339, 0.8448921448921448, 0.8412291412291414, 0.7856328856328857, 0.8486772486772486, 0.8559625559625559, 0.8337403337403337, 0.8153439153439154, 0.8337810337810337, 0.8449735449735449, 0.8375254375254375, 0.8301180301180301, 0.8375254375254375, 0.8411884411884413, 0.8264550264550264, 0.8412698412698414, 0.7636955636955637, 0.8374847374847376, 0.8374847374847375, 0.8486365486365486, 0.8375254375254375, 0.8301180301180301, 0.7967846967846968, 0.8375661375661375, 0.8264550264550264, 0.8560846560846561, 0.8226699226699227, 0.8522995522995522, 0.8412291412291412, 0.8522995522995522, 0.8375254375254375, 0.7822954822954823, 0.8337810337810337, 0.8412698412698414, 0.8560032560032559, 0.8671550671550672, 0.8523402523402522]}, {\"categories\": [\"0\", \"1\", \"2\", \"3\", \"4\", \"5\", \"6\", \"7\", \"8\", \"9\", \"10\", \"11\", \"12\", \"13\", \"14\", \"15\", \"16\", \"17\", \"18\", \"19\", \"20\", \"21\", \"22\", \"23\", \"24\", \"25\", \"26\", \"27\", \"28\", \"29\", \"30\", \"31\", \"32\", \"33\", \"34\", \"35\", \"36\", \"37\", \"38\", \"39\", \"40\", \"41\", \"42\", \"43\", \"44\", \"45\", \"46\", \"47\", \"48\", \"49\", \"50\", \"51\", \"52\", \"53\", \"54\", \"55\", \"56\", \"57\", \"58\", \"59\", \"60\", \"61\", \"62\", \"63\", \"64\", \"65\", \"66\", \"67\", \"68\", \"69\", \"70\", \"71\", \"72\", \"73\", \"74\", \"75\", \"76\", \"77\", \"78\", \"79\", \"80\", \"81\", \"82\", \"83\", \"84\", \"85\", \"86\", \"87\", \"88\", \"89\", \"90\", \"91\", \"92\", \"93\", \"94\", \"95\", \"96\", \"97\"], \"mode\": \"lines\", \"name\": \"f1_score_micro_max\", \"stepped\": true, \"type\": \"scatter\", \"data\": [0.7857142857142857, 0.8374033374033374, 0.8374033374033374, 0.8374033374033374, 0.8374033374033374, 0.8374033374033374, 0.8486365486365487, 0.8486365486365487, 0.8486365486365487, 0.8486365486365487, 0.8486365486365487, 0.8486365486365487, 0.8486365486365487, 0.8486365486365487, 0.8486365486365487, 0.8486365486365487, 0.8486365486365487, 0.8486365486365487, 0.8486365486365487, 0.8486365486365487, 0.8486365486365487, 0.8486365486365487, 0.8486365486365487, 0.8486365486365487, 0.8486365486365487, 0.8486365486365487, 0.8486365486365487, 0.8486365486365487, 0.8486365486365487, 0.8486365486365487, 0.8486365486365487, 0.8486365486365487, 0.8486365486365487, 0.8486365486365487, 0.8486365486365487, 0.8486365486365487, 0.8486365486365487, 0.8522995522995522, 0.8522995522995522, 0.8522995522995522, 0.8522995522995522, 0.8522995522995522, 0.8522995522995522, 0.8522995522995522, 0.8522995522995522, 0.8522995522995522, 0.8522995522995522, 0.8522995522995522, 0.8522995522995522, 0.8522995522995522, 0.8522995522995522, 0.8522995522995522, 0.8522995522995522, 0.8522995522995522, 0.8522995522995522, 0.8522995522995522, 0.8522995522995522, 0.8522995522995522, 0.8522995522995522, 0.8522995522995522, 0.8522995522995522, 0.8522995522995522, 0.8522995522995522, 0.8522995522995522, 0.8522995522995522, 0.8522995522995522, 0.8559625559625559, 0.8559625559625559, 0.8559625559625559, 0.8559625559625559, 0.8559625559625559, 0.8559625559625559, 0.8559625559625559, 0.8559625559625559, 0.8559625559625559, 0.8559625559625559, 0.8559625559625559, 0.8559625559625559, 0.8559625559625559, 0.8559625559625559, 0.8559625559625559, 0.8559625559625559, 0.8559625559625559, 0.8559625559625559, 0.8559625559625559, 0.8559625559625559, 0.8560846560846561, 0.8560846560846561, 0.8560846560846561, 0.8560846560846561, 0.8560846560846561, 0.8560846560846561, 0.8560846560846561, 0.8560846560846561, 0.8560846560846561, 0.8560846560846561, 0.8671550671550672, 0.8671550671550672]}], \"matthews_correlation\": [{\"categories\": [\"0\", \"1\", \"2\", \"3\", \"4\", \"5\", \"6\", \"7\", \"8\", \"9\", \"10\", \"11\", \"12\", \"13\", \"14\", \"15\", \"16\", \"17\", \"18\", \"19\", \"20\", \"21\", \"22\", \"23\", \"24\", \"25\", \"26\", \"27\", \"28\", \"29\", \"30\", \"31\", \"32\", \"33\", \"34\", \"35\", \"36\", \"37\", \"38\", \"39\", \"40\", \"41\", \"42\", \"43\", \"44\", \"45\", \"46\", \"47\", \"48\", \"49\", \"50\", \"51\", \"52\", \"53\", \"54\", \"55\", \"56\", \"57\", \"58\", \"59\", \"60\", \"61\", \"62\", \"63\", \"64\", \"65\", \"66\", \"67\", \"68\", \"69\", \"70\", \"71\", \"72\", \"73\", \"74\", \"75\", \"76\", \"77\", \"78\", \"79\", \"80\", \"81\", \"82\", \"83\", \"84\", \"85\", \"86\", \"87\", \"88\", \"89\", \"90\", \"91\", \"92\", \"93\", \"94\", \"95\", \"96\", \"97\"], \"mode\": \"markers\", \"name\": \"matthews_correlation\", \"stepped\": false, \"type\": \"scatter\", \"data\": [0.5174881847749732, 0.6354767967947867, 0.6159471119182058, 0.5710230728484881, 0.5988701469432379, 0.5871679147492838, 0.6492814796428358, 0.395307489784218, 0.5977414482438389, 0.5814709201645799, 0.588513458895593, 0.6016965964491889, 0.5343787964185763, 0.5106231697256608, 0.5451977855418493, 0.6408177965222375, 0.5916044721683854, 0.4766781503927178, 0.5968282134159101, 0.6065984638244545, 0.556530343790224, 0.503553180078146, 0.6263644081135566, 0.5019849481553952, 0.4993720584325949, 0.0, 0.537623204219052, 0.39987553268650516, 0.44213341188754435, 0.5315346620833651, 0.6374116250849139, 0.4592718752862282, 0.629472296691255, 0.5809588641511483, 0.6178573899317912, 0.5565117690823901, 0.6369193005574078, 0.6556825937460078, 0.5801685351484326, 0.585210309046175, 0.6288818995631149, 0.6335179517789661, 0.5906183088847072, 0.5802597783257754, 0.6337226335466524, 0.057089922571845024, 0.5350848910608877, 0.6304296439524036, 0.6202322566882558, 0.6337226335466524, 0.5961923208913359, 0.5867323405713288, 0.6441919282608004, 0.5666107658012555, 0.6163885968736725, 0.6549725194582839, 0.615679756130994, 0.6066755978027221, 0.6580793166977832, 0.6169240136851529, 0.0, 0.6070882785617725, 0.639464220023782, 0.6289838981107708, 0.5248788890396358, 0.6431867966909236, 0.6647563912574764, 0.6244495643295523, 0.5707413456766378, 0.617818441049034, 0.6338435272563417, 0.6275214811308633, 0.6142477906063327, 0.6301326364118279, 0.6314779388225444, 0.5954512095592168, 0.6239042577768826, 0.42676942164275505, 0.6282490153575642, 0.626384737858051, 0.6460930076520038, 0.6219107551417883, 0.6085565121839337, 0.546624816749746, 0.6164205996538415, 0.5972284586269411, 0.6604285770868443, 0.5949433053040941, 0.6556644080825395, 0.63332775259983, 0.6580793166977832, 0.6161049457154314, 0.46698708451600046, 0.6149197224187345, 0.6248474033327164, 0.663704110190506, 0.6876159828584966, 0.6556706862716196]}, {\"categories\": [\"0\", \"1\", \"2\", \"3\", \"4\", \"5\", \"6\", \"7\", \"8\", \"9\", \"10\", \"11\", \"12\", \"13\", \"14\", \"15\", \"16\", \"17\", \"18\", \"19\", \"20\", \"21\", \"22\", \"23\", \"24\", \"25\", \"26\", \"27\", \"28\", \"29\", \"30\", \"31\", \"32\", \"33\", \"34\", \"35\", \"36\", \"37\", \"38\", \"39\", \"40\", \"41\", \"42\", \"43\", \"44\", \"45\", \"46\", \"47\", \"48\", \"49\", \"50\", \"51\", \"52\", \"53\", \"54\", \"55\", \"56\", \"57\", \"58\", \"59\", \"60\", \"61\", \"62\", \"63\", \"64\", \"65\", \"66\", \"67\", \"68\", \"69\", \"70\", \"71\", \"72\", \"73\", \"74\", \"75\", \"76\", \"77\", \"78\", \"79\", \"80\", \"81\", \"82\", \"83\", \"84\", \"85\", \"86\", \"87\", \"88\", \"89\", \"90\", \"91\", \"92\", \"93\", \"94\", \"95\", \"96\", \"97\"], \"mode\": \"lines\", \"name\": \"matthews_correlation_max\", \"stepped\": true, \"type\": \"scatter\", \"data\": [0.5174881847749732, 0.6354767967947867, 0.6354767967947867, 0.6354767967947867, 0.6354767967947867, 0.6354767967947867, 0.6492814796428358, 0.6492814796428358, 0.6492814796428358, 0.6492814796428358, 0.6492814796428358, 0.6492814796428358, 0.6492814796428358, 0.6492814796428358, 0.6492814796428358, 0.6492814796428358, 0.6492814796428358, 0.6492814796428358, 0.6492814796428358, 0.6492814796428358, 0.6492814796428358, 0.6492814796428358, 0.6492814796428358, 0.6492814796428358, 0.6492814796428358, 0.6492814796428358, 0.6492814796428358, 0.6492814796428358, 0.6492814796428358, 0.6492814796428358, 0.6492814796428358, 0.6492814796428358, 0.6492814796428358, 0.6492814796428358, 0.6492814796428358, 0.6492814796428358, 0.6492814796428358, 0.6556825937460078, 0.6556825937460078, 0.6556825937460078, 0.6556825937460078, 0.6556825937460078, 0.6556825937460078, 0.6556825937460078, 0.6556825937460078, 0.6556825937460078, 0.6556825937460078, 0.6556825937460078, 0.6556825937460078, 0.6556825937460078, 0.6556825937460078, 0.6556825937460078, 0.6556825937460078, 0.6556825937460078, 0.6556825937460078, 0.6556825937460078, 0.6556825937460078, 0.6556825937460078, 0.6580793166977832, 0.6580793166977832, 0.6580793166977832, 0.6580793166977832, 0.6580793166977832, 0.6580793166977832, 0.6580793166977832, 0.6580793166977832, 0.6647563912574764, 0.6647563912574764, 0.6647563912574764, 0.6647563912574764, 0.6647563912574764, 0.6647563912574764, 0.6647563912574764, 0.6647563912574764, 0.6647563912574764, 0.6647563912574764, 0.6647563912574764, 0.6647563912574764, 0.6647563912574764, 0.6647563912574764, 0.6647563912574764, 0.6647563912574764, 0.6647563912574764, 0.6647563912574764, 0.6647563912574764, 0.6647563912574764, 0.6647563912574764, 0.6647563912574764, 0.6647563912574764, 0.6647563912574764, 0.6647563912574764, 0.6647563912574764, 0.6647563912574764, 0.6647563912574764, 0.6647563912574764, 0.6647563912574764, 0.6876159828584966, 0.6876159828584966]}], \"AUC_macro\": [{\"categories\": [\"0\", \"1\", \"2\", \"3\", \"4\", \"5\", \"6\", \"7\", \"8\", \"9\", \"10\", \"11\", \"12\", \"13\", \"14\", \"15\", \"16\", \"17\", \"18\", \"19\", \"20\", \"21\", \"22\", \"23\", \"24\", \"25\", \"26\", \"27\", \"28\", \"29\", \"30\", \"31\", \"32\", \"33\", \"34\", \"35\", \"36\", \"37\", \"38\", \"39\", \"40\", \"41\", \"42\", \"43\", \"44\", \"45\", \"46\", \"47\", \"48\", \"49\", \"50\", \"51\", \"52\", \"53\", \"54\", \"55\", \"56\", \"57\", \"58\", \"59\", \"60\", \"61\", \"62\", \"63\", \"64\", \"65\", \"66\", \"67\", \"68\", \"69\", \"70\", \"71\", \"72\", \"73\", \"74\", \"75\", \"76\", \"77\", \"78\", \"79\", \"80\", \"81\", \"82\", \"83\", \"84\", \"85\", \"86\", \"87\", \"88\", \"89\", \"90\", \"91\", \"92\", \"93\", \"94\", \"95\", \"96\", \"97\"], \"mode\": \"markers\", \"name\": \"AUC_macro\", \"stepped\": false, \"type\": \"scatter\", \"data\": [0.8924229140706365, 0.9158164941986989, 0.8990831027123507, 0.8980909088002408, 0.9002161176089984, 0.8788474289478576, 0.9153872625519485, 0.808674050219905, 0.8846549676597734, 0.8894810749335799, 0.9041180570149522, 0.8885427960942335, 0.9038575524362984, 0.8595359162689599, 0.9000605539341114, 0.9143624498561046, 0.8859769265656866, 0.8754285820033569, 0.9031015768070817, 0.9068222545639023, 0.9089330578574053, 0.851350697269376, 0.9053548462670502, 0.8435075239944165, 0.8355508719221993, 0.7417119813522796, 0.8880193743909895, 0.8141022591990911, 0.8703140408138825, 0.883486772223787, 0.9179079457733309, 0.9012855982537431, 0.9153780367437528, 0.9089069451965482, 0.9083565882414838, 0.8842169791494991, 0.914190986631492, 0.9092024016555684, 0.8949964611148462, 0.9024200626157404, 0.9048077176666283, 0.9132580405844485, 0.9105770335122009, 0.9054140185583885, 0.9074965766554497, 0.8769775120683009, 0.8581730574427188, 0.9230235498394688, 0.9195806239425129, 0.9026129112676262, 0.8950234293090613, 0.902475712008675, 0.9061371467448991, 0.9010416956729292, 0.8890839156143752, 0.892264918471934, 0.9077065030321051, 0.9066775686613964, 0.9110931361905434, 0.880915963273881, 0.5442424242424243, 0.9147937103667875, 0.8994708191911149, 0.9060333181313873, 0.8358027136200427, 0.9023411626746783, 0.9149530469147171, 0.909426625031356, 0.9026828198728287, 0.9208682859403702, 0.9161401299693722, 0.9126094707252084, 0.9035898276599262, 0.8978435821482065, 0.9133554570577965, 0.9093197095217181, 0.9133198405161802, 0.8136933220050252, 0.9105197369995505, 0.9141662100753924, 0.9094847935485615, 0.8980363174395002, 0.9130142746176818, 0.8646643988734862, 0.9067483114842902, 0.8765397638437263, 0.9050543786885187, 0.8831203985409619, 0.9184356354544262, 0.9096504666629267, 0.9071239652333722, 0.9081555388712017, 0.8614576059967559, 0.9015091831284172, 0.909951310172311, 0.9134558402844207, 0.917153186106022, 0.9162318648485952]}, {\"categories\": [\"0\", \"1\", \"2\", \"3\", \"4\", \"5\", \"6\", \"7\", \"8\", \"9\", \"10\", \"11\", \"12\", \"13\", \"14\", \"15\", \"16\", \"17\", \"18\", \"19\", \"20\", \"21\", \"22\", \"23\", \"24\", \"25\", \"26\", \"27\", \"28\", \"29\", \"30\", \"31\", \"32\", \"33\", \"34\", \"35\", \"36\", \"37\", \"38\", \"39\", \"40\", \"41\", \"42\", \"43\", \"44\", \"45\", \"46\", \"47\", \"48\", \"49\", \"50\", \"51\", \"52\", \"53\", \"54\", \"55\", \"56\", \"57\", \"58\", \"59\", \"60\", \"61\", \"62\", \"63\", \"64\", \"65\", \"66\", \"67\", \"68\", \"69\", \"70\", \"71\", \"72\", \"73\", \"74\", \"75\", \"76\", \"77\", \"78\", \"79\", \"80\", \"81\", \"82\", \"83\", \"84\", \"85\", \"86\", \"87\", \"88\", \"89\", \"90\", \"91\", \"92\", \"93\", \"94\", \"95\", \"96\", \"97\"], \"mode\": \"lines\", \"name\": \"AUC_macro_max\", \"stepped\": true, \"type\": \"scatter\", \"data\": [0.8924229140706365, 0.9158164941986989, 0.9158164941986989, 0.9158164941986989, 0.9158164941986989, 0.9158164941986989, 0.9158164941986989, 0.9158164941986989, 0.9158164941986989, 0.9158164941986989, 0.9158164941986989, 0.9158164941986989, 0.9158164941986989, 0.9158164941986989, 0.9158164941986989, 0.9158164941986989, 0.9158164941986989, 0.9158164941986989, 0.9158164941986989, 0.9158164941986989, 0.9158164941986989, 0.9158164941986989, 0.9158164941986989, 0.9158164941986989, 0.9158164941986989, 0.9158164941986989, 0.9158164941986989, 0.9158164941986989, 0.9158164941986989, 0.9158164941986989, 0.9179079457733309, 0.9179079457733309, 0.9179079457733309, 0.9179079457733309, 0.9179079457733309, 0.9179079457733309, 0.9179079457733309, 0.9179079457733309, 0.9179079457733309, 0.9179079457733309, 0.9179079457733309, 0.9179079457733309, 0.9179079457733309, 0.9179079457733309, 0.9179079457733309, 0.9179079457733309, 0.9179079457733309, 0.9230235498394688, 0.9230235498394688, 0.9230235498394688, 0.9230235498394688, 0.9230235498394688, 0.9230235498394688, 0.9230235498394688, 0.9230235498394688, 0.9230235498394688, 0.9230235498394688, 0.9230235498394688, 0.9230235498394688, 0.9230235498394688, 0.9230235498394688, 0.9230235498394688, 0.9230235498394688, 0.9230235498394688, 0.9230235498394688, 0.9230235498394688, 0.9230235498394688, 0.9230235498394688, 0.9230235498394688, 0.9230235498394688, 0.9230235498394688, 0.9230235498394688, 0.9230235498394688, 0.9230235498394688, 0.9230235498394688, 0.9230235498394688, 0.9230235498394688, 0.9230235498394688, 0.9230235498394688, 0.9230235498394688, 0.9230235498394688, 0.9230235498394688, 0.9230235498394688, 0.9230235498394688, 0.9230235498394688, 0.9230235498394688, 0.9230235498394688, 0.9230235498394688, 0.9230235498394688, 0.9230235498394688, 0.9230235498394688, 0.9230235498394688, 0.9230235498394688, 0.9230235498394688, 0.9230235498394688, 0.9230235498394688, 0.9230235498394688, 0.9230235498394688]}], \"f1_score_macro\": [{\"categories\": [\"0\", \"1\", \"2\", \"3\", \"4\", \"5\", \"6\", \"7\", \"8\", \"9\", \"10\", \"11\", \"12\", \"13\", \"14\", \"15\", \"16\", \"17\", \"18\", \"19\", \"20\", \"21\", \"22\", \"23\", \"24\", \"25\", \"26\", \"27\", \"28\", \"29\", \"30\", \"31\", \"32\", \"33\", \"34\", \"35\", \"36\", \"37\", \"38\", \"39\", \"40\", \"41\", \"42\", \"43\", \"44\", \"45\", \"46\", \"47\", \"48\", \"49\", \"50\", \"51\", \"52\", \"53\", \"54\", \"55\", \"56\", \"57\", \"58\", \"59\", \"60\", \"61\", \"62\", \"63\", \"64\", \"65\", \"66\", \"67\", \"68\", \"69\", \"70\", \"71\", \"72\", \"73\", \"74\", \"75\", \"76\", \"77\", \"78\", \"79\", \"80\", \"81\", \"82\", \"83\", \"84\", \"85\", \"86\", \"87\", \"88\", \"89\", \"90\", \"91\", \"92\", \"93\", \"94\", \"95\", \"96\", \"97\"], \"mode\": \"markers\", \"name\": \"f1_score_macro\", \"stepped\": false, \"type\": \"scatter\", \"data\": [0.7569208059281238, 0.8172002065975192, 0.8060604759543231, 0.7764820165333645, 0.7985708845804257, 0.789345426755347, 0.8230229620187824, 0.6861924409515416, 0.7960908173951652, 0.7878622351556354, 0.7869017772042204, 0.7971997760980898, 0.7453869154691072, 0.752284656720058, 0.7610759936795574, 0.8187600457889394, 0.7886782814792562, 0.7125796606960518, 0.7908708827404478, 0.790061609283697, 0.7748416691331661, 0.7380257088590421, 0.8103838810921632, 0.7446950171106564, 0.7429091139391549, 0.4013701406694426, 0.7402406975771522, 0.6718632391987458, 0.6978628239044905, 0.7528398782691462, 0.8160850718069644, 0.6641465901826124, 0.814645671788529, 0.7826753955830337, 0.799701900433217, 0.7666140201178799, 0.8161629711759559, 0.8174186858878176, 0.7833507233507233, 0.7856689945687471, 0.8057037296478274, 0.8158311181462624, 0.7949126646448859, 0.7886368437271242, 0.8057930153185789, 0.41508890598056464, 0.7523518795976617, 0.8138040040839357, 0.8086269717282951, 0.8057930153185789, 0.7866788171970974, 0.7924415248200424, 0.8132767036987919, 0.7823621369769507, 0.8027239393340477, 0.8155160476060863, 0.8009060804978113, 0.7972486928965973, 0.8205187605236389, 0.8046653128700815, 0.4013701406694426, 0.797168149206222, 0.8061438864230309, 0.8125915020019799, 0.7603884785512379, 0.8140625985572182, 0.827759290088149, 0.8118203324189417, 0.7797485771714617, 0.8072919598325338, 0.8118549485118828, 0.8135490418160153, 0.8067676230709182, 0.8128889075884453, 0.8134688442238538, 0.7944515995109809, 0.8061684144493318, 0.6702690694591803, 0.8126291118965558, 0.8124998772328272, 0.8193514218560108, 0.8072516002409319, 0.8032305524845881, 0.7657994647181484, 0.8019969060913404, 0.7972894974671411, 0.827704757128226, 0.7964665347092564, 0.8244386872939504, 0.8157368739254305, 0.8205187605236389, 0.7961485141667944, 0.7184224639278073, 0.8062549542447695, 0.8064155796910484, 0.8211215217393685, 0.8414189399492545, 0.8256479324904129]}, {\"categories\": [\"0\", \"1\", \"2\", \"3\", \"4\", \"5\", \"6\", \"7\", \"8\", \"9\", \"10\", \"11\", \"12\", \"13\", \"14\", \"15\", \"16\", \"17\", \"18\", \"19\", \"20\", \"21\", \"22\", \"23\", \"24\", \"25\", \"26\", \"27\", \"28\", \"29\", \"30\", \"31\", \"32\", \"33\", \"34\", \"35\", \"36\", \"37\", \"38\", \"39\", \"40\", \"41\", \"42\", \"43\", \"44\", \"45\", \"46\", \"47\", \"48\", \"49\", \"50\", \"51\", \"52\", \"53\", \"54\", \"55\", \"56\", \"57\", \"58\", \"59\", \"60\", \"61\", \"62\", \"63\", \"64\", \"65\", \"66\", \"67\", \"68\", \"69\", \"70\", \"71\", \"72\", \"73\", \"74\", \"75\", \"76\", \"77\", \"78\", \"79\", \"80\", \"81\", \"82\", \"83\", \"84\", \"85\", \"86\", \"87\", \"88\", \"89\", \"90\", \"91\", \"92\", \"93\", \"94\", \"95\", \"96\", \"97\"], \"mode\": \"lines\", \"name\": \"f1_score_macro_max\", \"stepped\": true, \"type\": \"scatter\", \"data\": [0.7569208059281238, 0.8172002065975192, 0.8172002065975192, 0.8172002065975192, 0.8172002065975192, 0.8172002065975192, 0.8230229620187824, 0.8230229620187824, 0.8230229620187824, 0.8230229620187824, 0.8230229620187824, 0.8230229620187824, 0.8230229620187824, 0.8230229620187824, 0.8230229620187824, 0.8230229620187824, 0.8230229620187824, 0.8230229620187824, 0.8230229620187824, 0.8230229620187824, 0.8230229620187824, 0.8230229620187824, 0.8230229620187824, 0.8230229620187824, 0.8230229620187824, 0.8230229620187824, 0.8230229620187824, 0.8230229620187824, 0.8230229620187824, 0.8230229620187824, 0.8230229620187824, 0.8230229620187824, 0.8230229620187824, 0.8230229620187824, 0.8230229620187824, 0.8230229620187824, 0.8230229620187824, 0.8230229620187824, 0.8230229620187824, 0.8230229620187824, 0.8230229620187824, 0.8230229620187824, 0.8230229620187824, 0.8230229620187824, 0.8230229620187824, 0.8230229620187824, 0.8230229620187824, 0.8230229620187824, 0.8230229620187824, 0.8230229620187824, 0.8230229620187824, 0.8230229620187824, 0.8230229620187824, 0.8230229620187824, 0.8230229620187824, 0.8230229620187824, 0.8230229620187824, 0.8230229620187824, 0.8230229620187824, 0.8230229620187824, 0.8230229620187824, 0.8230229620187824, 0.8230229620187824, 0.8230229620187824, 0.8230229620187824, 0.8230229620187824, 0.827759290088149, 0.827759290088149, 0.827759290088149, 0.827759290088149, 0.827759290088149, 0.827759290088149, 0.827759290088149, 0.827759290088149, 0.827759290088149, 0.827759290088149, 0.827759290088149, 0.827759290088149, 0.827759290088149, 0.827759290088149, 0.827759290088149, 0.827759290088149, 0.827759290088149, 0.827759290088149, 0.827759290088149, 0.827759290088149, 0.827759290088149, 0.827759290088149, 0.827759290088149, 0.827759290088149, 0.827759290088149, 0.827759290088149, 0.827759290088149, 0.827759290088149, 0.827759290088149, 0.827759290088149, 0.8414189399492545, 0.8414189399492545]}], \"average_precision_score_macro\": [{\"categories\": [\"0\", \"1\", \"2\", \"3\", \"4\", \"5\", \"6\", \"7\", \"8\", \"9\", \"10\", \"11\", \"12\", \"13\", \"14\", \"15\", \"16\", \"17\", \"18\", \"19\", \"20\", \"21\", \"22\", \"23\", \"24\", \"25\", \"26\", \"27\", \"28\", \"29\", \"30\", \"31\", \"32\", \"33\", \"34\", \"35\", \"36\", \"37\", \"38\", \"39\", \"40\", \"41\", \"42\", \"43\", \"44\", \"45\", \"46\", \"47\", \"48\", \"49\", \"50\", \"51\", \"52\", \"53\", \"54\", \"55\", \"56\", \"57\", \"58\", \"59\", \"60\", \"61\", \"62\", \"63\", \"64\", \"65\", \"66\", \"67\", \"68\", \"69\", \"70\", \"71\", \"72\", \"73\", \"74\", \"75\", \"76\", \"77\", \"78\", \"79\", \"80\", \"81\", \"82\", \"83\", \"84\", \"85\", \"86\", \"87\", \"88\", \"89\", \"90\", \"91\", \"92\", \"93\", \"94\", \"95\", \"96\", \"97\"], \"mode\": \"markers\", \"name\": \"average_precision_score_macro\", \"stepped\": false, \"type\": \"scatter\", \"data\": [0.8781459788010114, 0.9046086063270086, 0.875889259933088, 0.8762238645273371, 0.8700650207143878, 0.8629113108396492, 0.9055286523096121, 0.7869102464902861, 0.8763657659340023, 0.874187614674175, 0.8981787964809405, 0.8744855217553152, 0.893804357338755, 0.830779585888389, 0.8926366236248393, 0.8998241275577189, 0.8736349386501739, 0.8647437977351862, 0.8901427594041365, 0.8851417908700512, 0.8945412248380746, 0.8401718467942167, 0.887476853781647, 0.8228688218889276, 0.8122246622449625, 0.7339550899210078, 0.8679576821380897, 0.7947639121365911, 0.8528444410488106, 0.863636839899605, 0.9048906926140511, 0.8894783375585466, 0.9021912764590215, 0.8973880649769074, 0.89578543935243, 0.8729903862905989, 0.9011888881192305, 0.8929019115538029, 0.8847532626473109, 0.887835226464099, 0.893956224474396, 0.9015087090182506, 0.8973563455809984, 0.8940476166202423, 0.8856054931991867, 0.8631328161965381, 0.8317520890233551, 0.9138278151601952, 0.9054348653804936, 0.8770130955375643, 0.8700591079164992, 0.881946121230043, 0.8810444280477242, 0.8835707886365199, 0.8819098560108443, 0.8686382350181877, 0.8917305797889795, 0.8802895954198665, 0.8854773211078432, 0.8695854909760902, 0.527358139157524, 0.8984924260442559, 0.8902600922540133, 0.8894018663289098, 0.794893909832067, 0.8753352705691201, 0.902042002506836, 0.8993513189540842, 0.8900018855311661, 0.9106621630241737, 0.8989579305055605, 0.9010434336205403, 0.8875187549079353, 0.8805049398763911, 0.9035506326728252, 0.896333313199705, 0.8988932110454733, 0.787400073942548, 0.9002340056493873, 0.9036229465914009, 0.8939141395708509, 0.8822891243877867, 0.8989252424372228, 0.8511265603028518, 0.8939473801458494, 0.8633304227688895, 0.8784968113936711, 0.8431489664969658, 0.908340808339554, 0.8980764214301087, 0.8849117099595696, 0.8956191856141192, 0.8299348911885778, 0.8905193293089214, 0.8945735056064832, 0.896926039814451, 0.9022903467197653, 0.9010395367832613]}, {\"categories\": [\"0\", \"1\", \"2\", \"3\", \"4\", \"5\", \"6\", \"7\", \"8\", \"9\", \"10\", \"11\", \"12\", \"13\", \"14\", \"15\", \"16\", \"17\", \"18\", \"19\", \"20\", \"21\", \"22\", \"23\", \"24\", \"25\", \"26\", \"27\", \"28\", \"29\", \"30\", \"31\", \"32\", \"33\", \"34\", \"35\", \"36\", \"37\", \"38\", \"39\", \"40\", \"41\", \"42\", \"43\", \"44\", \"45\", \"46\", \"47\", \"48\", \"49\", \"50\", \"51\", \"52\", \"53\", \"54\", \"55\", \"56\", \"57\", \"58\", \"59\", \"60\", \"61\", \"62\", \"63\", \"64\", \"65\", \"66\", \"67\", \"68\", \"69\", \"70\", \"71\", \"72\", \"73\", \"74\", \"75\", \"76\", \"77\", \"78\", \"79\", \"80\", \"81\", \"82\", \"83\", \"84\", \"85\", \"86\", \"87\", \"88\", \"89\", \"90\", \"91\", \"92\", \"93\", \"94\", \"95\", \"96\", \"97\"], \"mode\": \"lines\", \"name\": \"average_precision_score_macro_max\", \"stepped\": true, \"type\": \"scatter\", \"data\": [0.8781459788010114, 0.9046086063270086, 0.9046086063270086, 0.9046086063270086, 0.9046086063270086, 0.9046086063270086, 0.9055286523096121, 0.9055286523096121, 0.9055286523096121, 0.9055286523096121, 0.9055286523096121, 0.9055286523096121, 0.9055286523096121, 0.9055286523096121, 0.9055286523096121, 0.9055286523096121, 0.9055286523096121, 0.9055286523096121, 0.9055286523096121, 0.9055286523096121, 0.9055286523096121, 0.9055286523096121, 0.9055286523096121, 0.9055286523096121, 0.9055286523096121, 0.9055286523096121, 0.9055286523096121, 0.9055286523096121, 0.9055286523096121, 0.9055286523096121, 0.9055286523096121, 0.9055286523096121, 0.9055286523096121, 0.9055286523096121, 0.9055286523096121, 0.9055286523096121, 0.9055286523096121, 0.9055286523096121, 0.9055286523096121, 0.9055286523096121, 0.9055286523096121, 0.9055286523096121, 0.9055286523096121, 0.9055286523096121, 0.9055286523096121, 0.9055286523096121, 0.9055286523096121, 0.9138278151601952, 0.9138278151601952, 0.9138278151601952, 0.9138278151601952, 0.9138278151601952, 0.9138278151601952, 0.9138278151601952, 0.9138278151601952, 0.9138278151601952, 0.9138278151601952, 0.9138278151601952, 0.9138278151601952, 0.9138278151601952, 0.9138278151601952, 0.9138278151601952, 0.9138278151601952, 0.9138278151601952, 0.9138278151601952, 0.9138278151601952, 0.9138278151601952, 0.9138278151601952, 0.9138278151601952, 0.9138278151601952, 0.9138278151601952, 0.9138278151601952, 0.9138278151601952, 0.9138278151601952, 0.9138278151601952, 0.9138278151601952, 0.9138278151601952, 0.9138278151601952, 0.9138278151601952, 0.9138278151601952, 0.9138278151601952, 0.9138278151601952, 0.9138278151601952, 0.9138278151601952, 0.9138278151601952, 0.9138278151601952, 0.9138278151601952, 0.9138278151601952, 0.9138278151601952, 0.9138278151601952, 0.9138278151601952, 0.9138278151601952, 0.9138278151601952, 0.9138278151601952, 0.9138278151601952, 0.9138278151601952, 0.9138278151601952, 0.9138278151601952]}], \"recall_score_weighted\": [{\"categories\": [\"0\", \"1\", \"2\", \"3\", \"4\", \"5\", \"6\", \"7\", \"8\", \"9\", \"10\", \"11\", \"12\", \"13\", \"14\", \"15\", \"16\", \"17\", \"18\", \"19\", \"20\", \"21\", \"22\", \"23\", \"24\", \"25\", \"26\", \"27\", \"28\", \"29\", \"30\", \"31\", \"32\", \"33\", \"34\", \"35\", \"36\", \"37\", \"38\", \"39\", \"40\", \"41\", \"42\", \"43\", \"44\", \"45\", \"46\", \"47\", \"48\", \"49\", \"50\", \"51\", \"52\", \"53\", \"54\", \"55\", \"56\", \"57\", \"58\", \"59\", \"60\", \"61\", \"62\", \"63\", \"64\", \"65\", \"66\", \"67\", \"68\", \"69\", \"70\", \"71\", \"72\", \"73\", \"74\", \"75\", \"76\", \"77\", \"78\", \"79\", \"80\", \"81\", \"82\", \"83\", \"84\", \"85\", \"86\", \"87\", \"88\", \"89\", \"90\", \"91\", \"92\", \"93\", \"94\", \"95\", \"96\", \"97\"], \"mode\": \"markers\", \"name\": \"recall_score_weighted\", \"stepped\": false, \"type\": \"scatter\", \"data\": [0.7857142857142857, 0.8374033374033374, 0.8337403337403337, 0.8191290191290191, 0.8264550264550264, 0.8227513227513228, 0.8486365486365487, 0.7527472527472527, 0.8264957264957266, 0.819006919006919, 0.8226699226699227, 0.8301587301587302, 0.8043549043549043, 0.7896621896621897, 0.8079772079772081, 0.8448514448514448, 0.8264550264550264, 0.7821733821733822, 0.8264143264143264, 0.8338217338217339, 0.8117216117216116, 0.7933251933251934, 0.8412698412698413, 0.7672364672364672, 0.771021571021571, 0.6713878713878714, 0.808017908017908, 0.7564102564102564, 0.774928774928775, 0.8005698005698005, 0.8448921448921448, 0.7711436711436711, 0.8375661375661375, 0.8227513227513227, 0.8374847374847375, 0.8080179080179081, 0.8449328449328449, 0.8522995522995522, 0.819006919006919, 0.8265771265771266, 0.8411884411884412, 0.8412291412291412, 0.819006919006919, 0.8152625152625154, 0.8449328449328449, 0.675050875050875, 0.8042735042735042, 0.8412291412291412, 0.8375661375661375, 0.8449328449328449, 0.8301180301180301, 0.819006919006919, 0.8448921448921448, 0.8079365079365078, 0.8337810337810337, 0.8522995522995522, 0.8375661375661375, 0.8338217338217339, 0.8522995522995522, 0.8337403337403337, 0.6713878713878714, 0.8338624338624339, 0.8448921448921448, 0.8412291412291412, 0.7856328856328857, 0.8486772486772486, 0.8559625559625559, 0.8337403337403337, 0.8153439153439153, 0.8337810337810337, 0.8449735449735449, 0.8375254375254375, 0.8301180301180301, 0.8375254375254375, 0.8411884411884412, 0.8264550264550264, 0.8412698412698413, 0.7636955636955637, 0.8374847374847375, 0.8374847374847375, 0.8486365486365486, 0.8375254375254375, 0.8301180301180301, 0.7967846967846968, 0.8375661375661375, 0.8264550264550264, 0.8560846560846561, 0.8226699226699227, 0.8522995522995522, 0.8412291412291412, 0.8522995522995522, 0.8375254375254375, 0.7822954822954823, 0.8337810337810337, 0.8412698412698413, 0.8560032560032559, 0.8671550671550672, 0.8523402523402522]}, {\"categories\": [\"0\", \"1\", \"2\", \"3\", \"4\", \"5\", \"6\", \"7\", \"8\", \"9\", \"10\", \"11\", \"12\", \"13\", \"14\", \"15\", \"16\", \"17\", \"18\", \"19\", \"20\", \"21\", \"22\", \"23\", \"24\", \"25\", \"26\", \"27\", \"28\", \"29\", \"30\", \"31\", \"32\", \"33\", \"34\", \"35\", \"36\", \"37\", \"38\", \"39\", \"40\", \"41\", \"42\", \"43\", \"44\", \"45\", \"46\", \"47\", \"48\", \"49\", \"50\", \"51\", \"52\", \"53\", \"54\", \"55\", \"56\", \"57\", \"58\", \"59\", \"60\", \"61\", \"62\", \"63\", \"64\", \"65\", \"66\", \"67\", \"68\", \"69\", \"70\", \"71\", \"72\", \"73\", \"74\", \"75\", \"76\", \"77\", \"78\", \"79\", \"80\", \"81\", \"82\", \"83\", \"84\", \"85\", \"86\", \"87\", \"88\", \"89\", \"90\", \"91\", \"92\", \"93\", \"94\", \"95\", \"96\", \"97\"], \"mode\": \"lines\", \"name\": \"recall_score_weighted_max\", \"stepped\": true, \"type\": \"scatter\", \"data\": [0.7857142857142857, 0.8374033374033374, 0.8374033374033374, 0.8374033374033374, 0.8374033374033374, 0.8374033374033374, 0.8486365486365487, 0.8486365486365487, 0.8486365486365487, 0.8486365486365487, 0.8486365486365487, 0.8486365486365487, 0.8486365486365487, 0.8486365486365487, 0.8486365486365487, 0.8486365486365487, 0.8486365486365487, 0.8486365486365487, 0.8486365486365487, 0.8486365486365487, 0.8486365486365487, 0.8486365486365487, 0.8486365486365487, 0.8486365486365487, 0.8486365486365487, 0.8486365486365487, 0.8486365486365487, 0.8486365486365487, 0.8486365486365487, 0.8486365486365487, 0.8486365486365487, 0.8486365486365487, 0.8486365486365487, 0.8486365486365487, 0.8486365486365487, 0.8486365486365487, 0.8486365486365487, 0.8522995522995522, 0.8522995522995522, 0.8522995522995522, 0.8522995522995522, 0.8522995522995522, 0.8522995522995522, 0.8522995522995522, 0.8522995522995522, 0.8522995522995522, 0.8522995522995522, 0.8522995522995522, 0.8522995522995522, 0.8522995522995522, 0.8522995522995522, 0.8522995522995522, 0.8522995522995522, 0.8522995522995522, 0.8522995522995522, 0.8522995522995522, 0.8522995522995522, 0.8522995522995522, 0.8522995522995522, 0.8522995522995522, 0.8522995522995522, 0.8522995522995522, 0.8522995522995522, 0.8522995522995522, 0.8522995522995522, 0.8522995522995522, 0.8559625559625559, 0.8559625559625559, 0.8559625559625559, 0.8559625559625559, 0.8559625559625559, 0.8559625559625559, 0.8559625559625559, 0.8559625559625559, 0.8559625559625559, 0.8559625559625559, 0.8559625559625559, 0.8559625559625559, 0.8559625559625559, 0.8559625559625559, 0.8559625559625559, 0.8559625559625559, 0.8559625559625559, 0.8559625559625559, 0.8559625559625559, 0.8559625559625559, 0.8560846560846561, 0.8560846560846561, 0.8560846560846561, 0.8560846560846561, 0.8560846560846561, 0.8560846560846561, 0.8560846560846561, 0.8560846560846561, 0.8560846560846561, 0.8560846560846561, 0.8671550671550672, 0.8671550671550672]}], \"average_precision_score_micro\": [{\"categories\": [\"0\", \"1\", \"2\", \"3\", \"4\", \"5\", \"6\", \"7\", \"8\", \"9\", \"10\", \"11\", \"12\", \"13\", \"14\", \"15\", \"16\", \"17\", \"18\", \"19\", \"20\", \"21\", \"22\", \"23\", \"24\", \"25\", \"26\", \"27\", \"28\", \"29\", \"30\", \"31\", \"32\", \"33\", \"34\", \"35\", \"36\", \"37\", \"38\", \"39\", \"40\", \"41\", \"42\", \"43\", \"44\", \"45\", \"46\", \"47\", \"48\", \"49\", \"50\", \"51\", \"52\", \"53\", \"54\", \"55\", \"56\", \"57\", \"58\", \"59\", \"60\", \"61\", \"62\", \"63\", \"64\", \"65\", \"66\", \"67\", \"68\", \"69\", \"70\", \"71\", \"72\", \"73\", \"74\", \"75\", \"76\", \"77\", \"78\", \"79\", \"80\", \"81\", \"82\", \"83\", \"84\", \"85\", \"86\", \"87\", \"88\", \"89\", \"90\", \"91\", \"92\", \"93\", \"94\", \"95\", \"96\", \"97\"], \"mode\": \"markers\", \"name\": \"average_precision_score_micro\", \"stepped\": false, \"type\": \"scatter\", \"data\": [0.9079960275511652, 0.9285966753876961, 0.9069987979372618, 0.909909799587334, 0.9084682146176507, 0.8887698968786123, 0.9295547253379817, 0.8274018918061127, 0.8991744636745406, 0.9044660012214648, 0.9113120434844827, 0.9037992833546378, 0.9127023740748069, 0.869915178964391, 0.9100540294415217, 0.927344186625684, 0.8981980014889089, 0.887174732047424, 0.9119252275164461, 0.8983334807760844, 0.9186390951754412, 0.8734613023594294, 0.9184011534296217, 0.8470715413546244, 0.8357345185327522, 0.7897163026181463, 0.8844750768807987, 0.8481326293020882, 0.8812617340420283, 0.8919499735421744, 0.9295349506041751, 0.8827736920177203, 0.9258244480160552, 0.9150590532191427, 0.9121161546557834, 0.8917448286839011, 0.9243768943197522, 0.9143057892001876, 0.9116249922710584, 0.9154386826906457, 0.9160400136878444, 0.9250857324588528, 0.9239167044241784, 0.9191677553747933, 0.9051900198617502, 0.843134055069941, 0.8692540673277819, 0.9319173283360097, 0.9300977928921518, 0.9012696333817344, 0.9032186664628864, 0.9126997760116348, 0.9063888409647062, 0.9114854887625151, 0.9039008661551007, 0.8972385752139557, 0.9179223936756132, 0.9010103619515232, 0.9124070356049362, 0.9002899721386243, 0.6453706427574358, 0.9167604910975155, 0.9076099004939318, 0.9177642717368095, 0.8282102060204678, 0.9056144543359038, 0.9217962394378628, 0.9220910186011343, 0.9136390144432275, 0.9297222910099446, 0.9238660721784392, 0.9260162397094382, 0.9179286918399993, 0.9123652220525438, 0.9261743356338353, 0.9222325843853865, 0.9217262917652865, 0.8285461196239173, 0.9227735430704763, 0.9268065045318905, 0.9180672043801531, 0.909303739059592, 0.9234997595129822, 0.8756109753673641, 0.9171165313744024, 0.8934193148634731, 0.9019018497745496, 0.8872264219495655, 0.9265372363231639, 0.9221958468032573, 0.9113590445293943, 0.8992219774079974, 0.8773713776128466, 0.9176894071932425, 0.9194180429526844, 0.9134966404065867, 0.9267713377931074, 0.9177955551626518]}, {\"categories\": [\"0\", \"1\", \"2\", \"3\", \"4\", \"5\", \"6\", \"7\", \"8\", \"9\", \"10\", \"11\", \"12\", \"13\", \"14\", \"15\", \"16\", \"17\", \"18\", \"19\", \"20\", \"21\", \"22\", \"23\", \"24\", \"25\", \"26\", \"27\", \"28\", \"29\", \"30\", \"31\", \"32\", \"33\", \"34\", \"35\", \"36\", \"37\", \"38\", \"39\", \"40\", \"41\", \"42\", \"43\", \"44\", \"45\", \"46\", \"47\", \"48\", \"49\", \"50\", \"51\", \"52\", \"53\", \"54\", \"55\", \"56\", \"57\", \"58\", \"59\", \"60\", \"61\", \"62\", \"63\", \"64\", \"65\", \"66\", \"67\", \"68\", \"69\", \"70\", \"71\", \"72\", \"73\", \"74\", \"75\", \"76\", \"77\", \"78\", \"79\", \"80\", \"81\", \"82\", \"83\", \"84\", \"85\", \"86\", \"87\", \"88\", \"89\", \"90\", \"91\", \"92\", \"93\", \"94\", \"95\", \"96\", \"97\"], \"mode\": \"lines\", \"name\": \"average_precision_score_micro_max\", \"stepped\": true, \"type\": \"scatter\", \"data\": [0.9079960275511652, 0.9285966753876961, 0.9285966753876961, 0.9285966753876961, 0.9285966753876961, 0.9285966753876961, 0.9295547253379817, 0.9295547253379817, 0.9295547253379817, 0.9295547253379817, 0.9295547253379817, 0.9295547253379817, 0.9295547253379817, 0.9295547253379817, 0.9295547253379817, 0.9295547253379817, 0.9295547253379817, 0.9295547253379817, 0.9295547253379817, 0.9295547253379817, 0.9295547253379817, 0.9295547253379817, 0.9295547253379817, 0.9295547253379817, 0.9295547253379817, 0.9295547253379817, 0.9295547253379817, 0.9295547253379817, 0.9295547253379817, 0.9295547253379817, 0.9295547253379817, 0.9295547253379817, 0.9295547253379817, 0.9295547253379817, 0.9295547253379817, 0.9295547253379817, 0.9295547253379817, 0.9295547253379817, 0.9295547253379817, 0.9295547253379817, 0.9295547253379817, 0.9295547253379817, 0.9295547253379817, 0.9295547253379817, 0.9295547253379817, 0.9295547253379817, 0.9295547253379817, 0.9319173283360097, 0.9319173283360097, 0.9319173283360097, 0.9319173283360097, 0.9319173283360097, 0.9319173283360097, 0.9319173283360097, 0.9319173283360097, 0.9319173283360097, 0.9319173283360097, 0.9319173283360097, 0.9319173283360097, 0.9319173283360097, 0.9319173283360097, 0.9319173283360097, 0.9319173283360097, 0.9319173283360097, 0.9319173283360097, 0.9319173283360097, 0.9319173283360097, 0.9319173283360097, 0.9319173283360097, 0.9319173283360097, 0.9319173283360097, 0.9319173283360097, 0.9319173283360097, 0.9319173283360097, 0.9319173283360097, 0.9319173283360097, 0.9319173283360097, 0.9319173283360097, 0.9319173283360097, 0.9319173283360097, 0.9319173283360097, 0.9319173283360097, 0.9319173283360097, 0.9319173283360097, 0.9319173283360097, 0.9319173283360097, 0.9319173283360097, 0.9319173283360097, 0.9319173283360097, 0.9319173283360097, 0.9319173283360097, 0.9319173283360097, 0.9319173283360097, 0.9319173283360097, 0.9319173283360097, 0.9319173283360097, 0.9319173283360097, 0.9319173283360097]}], \"recall_score_macro\": [{\"categories\": [\"0\", \"1\", \"2\", \"3\", \"4\", \"5\", \"6\", \"7\", \"8\", \"9\", \"10\", \"11\", \"12\", \"13\", \"14\", \"15\", \"16\", \"17\", \"18\", \"19\", \"20\", \"21\", \"22\", \"23\", \"24\", \"25\", \"26\", \"27\", \"28\", \"29\", \"30\", \"31\", \"32\", \"33\", \"34\", \"35\", \"36\", \"37\", \"38\", \"39\", \"40\", \"41\", \"42\", \"43\", \"44\", \"45\", \"46\", \"47\", \"48\", \"49\", \"50\", \"51\", \"52\", \"53\", \"54\", \"55\", \"56\", \"57\", \"58\", \"59\", \"60\", \"61\", \"62\", \"63\", \"64\", \"65\", \"66\", \"67\", \"68\", \"69\", \"70\", \"71\", \"72\", \"73\", \"74\", \"75\", \"76\", \"77\", \"78\", \"79\", \"80\", \"81\", \"82\", \"83\", \"84\", \"85\", \"86\", \"87\", \"88\", \"89\", \"90\", \"91\", \"92\", \"93\", \"94\", \"95\", \"96\", \"97\"], \"mode\": \"markers\", \"name\": \"recall_score_macro\", \"stepped\": false, \"type\": \"scatter\", \"data\": [0.7535928942092793, 0.8165590758379455, 0.7959700106006687, 0.7612210040318583, 0.7935564008186379, 0.7789516325233284, 0.81530891778712, 0.6795873383775891, 0.790767922091625, 0.781769271082672, 0.7724969094705217, 0.7853361853695656, 0.7261036162319577, 0.7468034667413103, 0.7426817976897112, 0.8089949973098659, 0.7739026592941588, 0.6958859958684424, 0.776582930975898, 0.77507552576788, 0.7638541148005623, 0.721861552418083, 0.7987861289654044, 0.7524727055307471, 0.7473872272842086, 0.5, 0.7234866317341643, 0.6617747763380982, 0.6851508001077797, 0.7373453943190066, 0.8048273503647451, 0.6552610999639862, 0.8141526862536329, 0.7661890261714728, 0.7810021773953748, 0.7553156176887867, 0.8054527956320712, 0.7990070367860934, 0.7765546576815318, 0.7720465772513195, 0.7937123181398166, 0.8098574359752456, 0.7942008586919523, 0.7824836869747808, 0.7887521905481102, 0.5066666666666667, 0.7341888831627257, 0.8050803043528433, 0.8001026843497563, 0.7887521905481102, 0.7722506670108178, 0.7878337982570954, 0.8015535545957692, 0.7817853566600365, 0.7966837928361338, 0.7965546693082591, 0.7879809751859477, 0.782729981754758, 0.8074015078121436, 0.7915312429058797, 0.5, 0.7834670697653058, 0.7846529698004477, 0.8026279368750089, 0.767763828611574, 0.7995436364159566, 0.8132165166964166, 0.8095665701357624, 0.7683088430853964, 0.7991309806069093, 0.7970320918023143, 0.810848152324081, 0.8054251559943482, 0.808935820174058, 0.8026541696787158, 0.7835720009801331, 0.7917673904595145, 0.6597336578352953, 0.8065347352841238, 0.8063239746897771, 0.8065760828334568, 0.7968425964923908, 0.7966057280816567, 0.7582621675882302, 0.7883068142214641, 0.7909923905975819, 0.8170883419094981, 0.7924890149226139, 0.8113269816521522, 0.8097583181241207, 0.8074015078121436, 0.7804518698539015, 0.7060257636652562, 0.7982685419415297, 0.7933573192719692, 0.8019310133942806, 0.8298296829769306, 0.8165153622495858]}, {\"categories\": [\"0\", \"1\", \"2\", \"3\", \"4\", \"5\", \"6\", \"7\", \"8\", \"9\", \"10\", \"11\", \"12\", \"13\", \"14\", \"15\", \"16\", \"17\", \"18\", \"19\", \"20\", \"21\", \"22\", \"23\", \"24\", \"25\", \"26\", \"27\", \"28\", \"29\", \"30\", \"31\", \"32\", \"33\", \"34\", \"35\", \"36\", \"37\", \"38\", \"39\", \"40\", \"41\", \"42\", \"43\", \"44\", \"45\", \"46\", \"47\", \"48\", \"49\", \"50\", \"51\", \"52\", \"53\", \"54\", \"55\", \"56\", \"57\", \"58\", \"59\", \"60\", \"61\", \"62\", \"63\", \"64\", \"65\", \"66\", \"67\", \"68\", \"69\", \"70\", \"71\", \"72\", \"73\", \"74\", \"75\", \"76\", \"77\", \"78\", \"79\", \"80\", \"81\", \"82\", \"83\", \"84\", \"85\", \"86\", \"87\", \"88\", \"89\", \"90\", \"91\", \"92\", \"93\", \"94\", \"95\", \"96\", \"97\"], \"mode\": \"lines\", \"name\": \"recall_score_macro_max\", \"stepped\": true, \"type\": \"scatter\", \"data\": [0.7535928942092793, 0.8165590758379455, 0.8165590758379455, 0.8165590758379455, 0.8165590758379455, 0.8165590758379455, 0.8165590758379455, 0.8165590758379455, 0.8165590758379455, 0.8165590758379455, 0.8165590758379455, 0.8165590758379455, 0.8165590758379455, 0.8165590758379455, 0.8165590758379455, 0.8165590758379455, 0.8165590758379455, 0.8165590758379455, 0.8165590758379455, 0.8165590758379455, 0.8165590758379455, 0.8165590758379455, 0.8165590758379455, 0.8165590758379455, 0.8165590758379455, 0.8165590758379455, 0.8165590758379455, 0.8165590758379455, 0.8165590758379455, 0.8165590758379455, 0.8165590758379455, 0.8165590758379455, 0.8165590758379455, 0.8165590758379455, 0.8165590758379455, 0.8165590758379455, 0.8165590758379455, 0.8165590758379455, 0.8165590758379455, 0.8165590758379455, 0.8165590758379455, 0.8165590758379455, 0.8165590758379455, 0.8165590758379455, 0.8165590758379455, 0.8165590758379455, 0.8165590758379455, 0.8165590758379455, 0.8165590758379455, 0.8165590758379455, 0.8165590758379455, 0.8165590758379455, 0.8165590758379455, 0.8165590758379455, 0.8165590758379455, 0.8165590758379455, 0.8165590758379455, 0.8165590758379455, 0.8165590758379455, 0.8165590758379455, 0.8165590758379455, 0.8165590758379455, 0.8165590758379455, 0.8165590758379455, 0.8165590758379455, 0.8165590758379455, 0.8165590758379455, 0.8165590758379455, 0.8165590758379455, 0.8165590758379455, 0.8165590758379455, 0.8165590758379455, 0.8165590758379455, 0.8165590758379455, 0.8165590758379455, 0.8165590758379455, 0.8165590758379455, 0.8165590758379455, 0.8165590758379455, 0.8165590758379455, 0.8165590758379455, 0.8165590758379455, 0.8165590758379455, 0.8165590758379455, 0.8165590758379455, 0.8165590758379455, 0.8170883419094981, 0.8170883419094981, 0.8170883419094981, 0.8170883419094981, 0.8170883419094981, 0.8170883419094981, 0.8170883419094981, 0.8170883419094981, 0.8170883419094981, 0.8170883419094981, 0.8298296829769306, 0.8298296829769306]}], \"average_precision_score_weighted\": [{\"categories\": [\"0\", \"1\", \"2\", \"3\", \"4\", \"5\", \"6\", \"7\", \"8\", \"9\", \"10\", \"11\", \"12\", \"13\", \"14\", \"15\", \"16\", \"17\", \"18\", \"19\", \"20\", \"21\", \"22\", \"23\", \"24\", \"25\", \"26\", \"27\", \"28\", \"29\", \"30\", \"31\", \"32\", \"33\", \"34\", \"35\", \"36\", \"37\", \"38\", \"39\", \"40\", \"41\", \"42\", \"43\", \"44\", \"45\", \"46\", \"47\", \"48\", \"49\", \"50\", \"51\", \"52\", \"53\", \"54\", \"55\", \"56\", \"57\", \"58\", \"59\", \"60\", \"61\", \"62\", \"63\", \"64\", \"65\", \"66\", \"67\", \"68\", \"69\", \"70\", \"71\", \"72\", \"73\", \"74\", \"75\", \"76\", \"77\", \"78\", \"79\", \"80\", \"81\", \"82\", \"83\", \"84\", \"85\", \"86\", \"87\", \"88\", \"89\", \"90\", \"91\", \"92\", \"93\", \"94\", \"95\", \"96\", \"97\"], \"mode\": \"markers\", \"name\": \"average_precision_score_weighted\", \"stepped\": false, \"type\": \"scatter\", \"data\": [0.9007017947563208, 0.9225858754988788, 0.8967801902566137, 0.9003662039133241, 0.8944537396759501, 0.88216083978421, 0.923006654437689, 0.8168844612153457, 0.8942844024847192, 0.8966294613468694, 0.9136415684522093, 0.8953021494621473, 0.9135002327473671, 0.8583236390083613, 0.9119055282640746, 0.9173203738086605, 0.8931358973229852, 0.888591239955356, 0.9102096670739229, 0.9064427983557657, 0.9150910296644067, 0.8687979413253388, 0.9090575673753319, 0.8521597711267015, 0.8439740956194287, 0.7831667642578815, 0.8901598653095707, 0.8350738362755199, 0.8812224624153936, 0.8886871955731847, 0.9229170003722901, 0.9112247151223003, 0.9201291413678376, 0.9159154191949259, 0.9118242335257616, 0.8936060036155554, 0.9195241852617562, 0.9117262231144153, 0.9047640771191233, 0.9092050179053004, 0.9129392158827585, 0.9201397003235151, 0.9174204289203153, 0.9142511504477887, 0.9073201165470586, 0.8837158850309409, 0.8595764300019147, 0.9293392132810672, 0.9239761650026814, 0.8990742859529132, 0.8941681208768041, 0.9032562122077024, 0.9017938307893143, 0.9041972128167409, 0.900213426330224, 0.8915364098181765, 0.9120107532733123, 0.9009186450547251, 0.9062168957001311, 0.8912640333683752, 0.5888117012213175, 0.9198584037048634, 0.9070319820103429, 0.9101738829912458, 0.8226308771354597, 0.8979378276847152, 0.9193502130552931, 0.9177629894061106, 0.9116506380279118, 0.9268524950592897, 0.9193497889533147, 0.9194084170981013, 0.9097718716543799, 0.9047039938771414, 0.9206225196242448, 0.9159363077804082, 0.9188797387176595, 0.8223139538254577, 0.9189513069743418, 0.9215853242335895, 0.9141727624693731, 0.9032807549953142, 0.9181963404551157, 0.8743834014178172, 0.9135949829267539, 0.8858295704054133, 0.8995978537898844, 0.8740199803880454, 0.9251230613118123, 0.9164536414170551, 0.9049583663952482, 0.9138010956728092, 0.8643178716316321, 0.9104964285708497, 0.9144244531682338, 0.9153604851094803, 0.9196967887161375, 0.9191556613772344]}, {\"categories\": [\"0\", \"1\", \"2\", \"3\", \"4\", \"5\", \"6\", \"7\", \"8\", \"9\", \"10\", \"11\", \"12\", \"13\", \"14\", \"15\", \"16\", \"17\", \"18\", \"19\", \"20\", \"21\", \"22\", \"23\", \"24\", \"25\", \"26\", \"27\", \"28\", \"29\", \"30\", \"31\", \"32\", \"33\", \"34\", \"35\", \"36\", \"37\", \"38\", \"39\", \"40\", \"41\", \"42\", \"43\", \"44\", \"45\", \"46\", \"47\", \"48\", \"49\", \"50\", \"51\", \"52\", \"53\", \"54\", \"55\", \"56\", \"57\", \"58\", \"59\", \"60\", \"61\", \"62\", \"63\", \"64\", \"65\", \"66\", \"67\", \"68\", \"69\", \"70\", \"71\", \"72\", \"73\", \"74\", \"75\", \"76\", \"77\", \"78\", \"79\", \"80\", \"81\", \"82\", \"83\", \"84\", \"85\", \"86\", \"87\", \"88\", \"89\", \"90\", \"91\", \"92\", \"93\", \"94\", \"95\", \"96\", \"97\"], \"mode\": \"lines\", \"name\": \"average_precision_score_weighted_max\", \"stepped\": true, \"type\": \"scatter\", \"data\": [0.9007017947563208, 0.9225858754988788, 0.9225858754988788, 0.9225858754988788, 0.9225858754988788, 0.9225858754988788, 0.923006654437689, 0.923006654437689, 0.923006654437689, 0.923006654437689, 0.923006654437689, 0.923006654437689, 0.923006654437689, 0.923006654437689, 0.923006654437689, 0.923006654437689, 0.923006654437689, 0.923006654437689, 0.923006654437689, 0.923006654437689, 0.923006654437689, 0.923006654437689, 0.923006654437689, 0.923006654437689, 0.923006654437689, 0.923006654437689, 0.923006654437689, 0.923006654437689, 0.923006654437689, 0.923006654437689, 0.923006654437689, 0.923006654437689, 0.923006654437689, 0.923006654437689, 0.923006654437689, 0.923006654437689, 0.923006654437689, 0.923006654437689, 0.923006654437689, 0.923006654437689, 0.923006654437689, 0.923006654437689, 0.923006654437689, 0.923006654437689, 0.923006654437689, 0.923006654437689, 0.923006654437689, 0.9293392132810672, 0.9293392132810672, 0.9293392132810672, 0.9293392132810672, 0.9293392132810672, 0.9293392132810672, 0.9293392132810672, 0.9293392132810672, 0.9293392132810672, 0.9293392132810672, 0.9293392132810672, 0.9293392132810672, 0.9293392132810672, 0.9293392132810672, 0.9293392132810672, 0.9293392132810672, 0.9293392132810672, 0.9293392132810672, 0.9293392132810672, 0.9293392132810672, 0.9293392132810672, 0.9293392132810672, 0.9293392132810672, 0.9293392132810672, 0.9293392132810672, 0.9293392132810672, 0.9293392132810672, 0.9293392132810672, 0.9293392132810672, 0.9293392132810672, 0.9293392132810672, 0.9293392132810672, 0.9293392132810672, 0.9293392132810672, 0.9293392132810672, 0.9293392132810672, 0.9293392132810672, 0.9293392132810672, 0.9293392132810672, 0.9293392132810672, 0.9293392132810672, 0.9293392132810672, 0.9293392132810672, 0.9293392132810672, 0.9293392132810672, 0.9293392132810672, 0.9293392132810672, 0.9293392132810672, 0.9293392132810672, 0.9293392132810672, 0.9293392132810672]}], \"weighted_accuracy\": [{\"categories\": [\"0\", \"1\", \"2\", \"3\", \"4\", \"5\", \"6\", \"7\", \"8\", \"9\", \"10\", \"11\", \"12\", \"13\", \"14\", \"15\", \"16\", \"17\", \"18\", \"19\", \"20\", \"21\", \"22\", \"23\", \"24\", \"25\", \"26\", \"27\", \"28\", \"29\", \"30\", \"31\", \"32\", \"33\", \"34\", \"35\", \"36\", \"37\", \"38\", \"39\", \"40\", \"41\", \"42\", \"43\", \"44\", \"45\", \"46\", \"47\", \"48\", \"49\", \"50\", \"51\", \"52\", \"53\", \"54\", \"55\", \"56\", \"57\", \"58\", \"59\", \"60\", \"61\", \"62\", \"63\", \"64\", \"65\", \"66\", \"67\", \"68\", \"69\", \"70\", \"71\", \"72\", \"73\", \"74\", \"75\", \"76\", \"77\", \"78\", \"79\", \"80\", \"81\", \"82\", \"83\", \"84\", \"85\", \"86\", \"87\", \"88\", \"89\", \"90\", \"91\", \"92\", \"93\", \"94\", \"95\", \"96\", \"97\"], \"mode\": \"markers\", \"name\": \"weighted_accuracy\", \"stepped\": false, \"type\": \"scatter\", \"data\": [0.808702021177512, 0.8531748557234633, 0.8623932259109536, 0.8612468363463265, 0.8507340293087244, 0.8561840185040266, 0.8730856772623786, 0.8054139323736945, 0.8540474000902476, 0.8473674559624245, 0.8613906950051015, 0.8637422518105843, 0.8625059534259352, 0.8229474840851553, 0.8569317122514718, 0.8718445859847201, 0.865011787258862, 0.846567095507031, 0.8643702297540318, 0.8787316555091512, 0.8469044469279504, 0.8476359132528026, 0.8729366240680231, 0.7763213826605599, 0.7864195543907894, 0.8023806181741465, 0.8715297009801972, 0.8283865037185697, 0.8415125602534449, 0.8487644302751997, 0.8748084482133494, 0.8591961197870756, 0.8547596567521353, 0.8655217881616174, 0.8805333080192534, 0.8461343444631119, 0.8746096482264919, 0.8925010936208363, 0.8525143432522779, 0.8660719613439366, 0.8779335803843605, 0.8641357340467221, 0.8370711290822256, 0.8391602109774755, 0.8877641129873203, 0.8040536423326153, 0.8579749940105653, 0.8681285940201224, 0.8657654293588349, 0.8877641129873203, 0.8743042204198522, 0.8417065930399152, 0.8773092012208644, 0.8265907712636876, 0.8624847001680603, 0.8945547127379068, 0.8750221071833216, 0.8724281886023526, 0.8860689983624043, 0.86527959508643, 0.8023806181741465, 0.871284812596841, 0.8911179677563826, 0.8701822131371929, 0.8005084051179536, 0.8850016929806369, 0.8888152268911607, 0.8517112828627931, 0.8511461123156049, 0.8592630725305828, 0.8812618460936642, 0.857173990635333, 0.8481572056774649, 0.8597532831754596, 0.8699621105284526, 0.8578087285514457, 0.8779909906213104, 0.8421018717383616, 0.85979272068354, 0.8607848332207233, 0.8806242633187346, 0.8689431192577349, 0.854846288752225, 0.8234683344008457, 0.8748126558855227, 0.8537322244444491, 0.8847618001140184, 0.8460064462570402, 0.8831493427592916, 0.8641832705652512, 0.8860689983624043, 0.8810579349628509, 0.8379257412907282, 0.8606740876633637, 0.8773483866370211, 0.8968809921916062, 0.8950327066347574, 0.8782225580781784]}, {\"categories\": [\"0\", \"1\", \"2\", \"3\", \"4\", \"5\", \"6\", \"7\", \"8\", \"9\", \"10\", \"11\", \"12\", \"13\", \"14\", \"15\", \"16\", \"17\", \"18\", \"19\", \"20\", \"21\", \"22\", \"23\", \"24\", \"25\", \"26\", \"27\", \"28\", \"29\", \"30\", \"31\", \"32\", \"33\", \"34\", \"35\", \"36\", \"37\", \"38\", \"39\", \"40\", \"41\", \"42\", \"43\", \"44\", \"45\", \"46\", \"47\", \"48\", \"49\", \"50\", \"51\", \"52\", \"53\", \"54\", \"55\", \"56\", \"57\", \"58\", \"59\", \"60\", \"61\", \"62\", \"63\", \"64\", \"65\", \"66\", \"67\", \"68\", \"69\", \"70\", \"71\", \"72\", \"73\", \"74\", \"75\", \"76\", \"77\", \"78\", \"79\", \"80\", \"81\", \"82\", \"83\", \"84\", \"85\", \"86\", \"87\", \"88\", \"89\", \"90\", \"91\", \"92\", \"93\", \"94\", \"95\", \"96\", \"97\"], \"mode\": \"lines\", \"name\": \"weighted_accuracy_max\", \"stepped\": true, \"type\": \"scatter\", \"data\": [0.808702021177512, 0.8531748557234633, 0.8623932259109536, 0.8623932259109536, 0.8623932259109536, 0.8623932259109536, 0.8730856772623786, 0.8730856772623786, 0.8730856772623786, 0.8730856772623786, 0.8730856772623786, 0.8730856772623786, 0.8730856772623786, 0.8730856772623786, 0.8730856772623786, 0.8730856772623786, 0.8730856772623786, 0.8730856772623786, 0.8730856772623786, 0.8787316555091512, 0.8787316555091512, 0.8787316555091512, 0.8787316555091512, 0.8787316555091512, 0.8787316555091512, 0.8787316555091512, 0.8787316555091512, 0.8787316555091512, 0.8787316555091512, 0.8787316555091512, 0.8787316555091512, 0.8787316555091512, 0.8787316555091512, 0.8787316555091512, 0.8805333080192534, 0.8805333080192534, 0.8805333080192534, 0.8925010936208363, 0.8925010936208363, 0.8925010936208363, 0.8925010936208363, 0.8925010936208363, 0.8925010936208363, 0.8925010936208363, 0.8925010936208363, 0.8925010936208363, 0.8925010936208363, 0.8925010936208363, 0.8925010936208363, 0.8925010936208363, 0.8925010936208363, 0.8925010936208363, 0.8925010936208363, 0.8925010936208363, 0.8925010936208363, 0.8945547127379068, 0.8945547127379068, 0.8945547127379068, 0.8945547127379068, 0.8945547127379068, 0.8945547127379068, 0.8945547127379068, 0.8945547127379068, 0.8945547127379068, 0.8945547127379068, 0.8945547127379068, 0.8945547127379068, 0.8945547127379068, 0.8945547127379068, 0.8945547127379068, 0.8945547127379068, 0.8945547127379068, 0.8945547127379068, 0.8945547127379068, 0.8945547127379068, 0.8945547127379068, 0.8945547127379068, 0.8945547127379068, 0.8945547127379068, 0.8945547127379068, 0.8945547127379068, 0.8945547127379068, 0.8945547127379068, 0.8945547127379068, 0.8945547127379068, 0.8945547127379068, 0.8945547127379068, 0.8945547127379068, 0.8945547127379068, 0.8945547127379068, 0.8945547127379068, 0.8945547127379068, 0.8945547127379068, 0.8945547127379068, 0.8945547127379068, 0.8968809921916062, 0.8968809921916062, 0.8968809921916062]}], \"f1_score_weighted\": [{\"categories\": [\"0\", \"1\", \"2\", \"3\", \"4\", \"5\", \"6\", \"7\", \"8\", \"9\", \"10\", \"11\", \"12\", \"13\", \"14\", \"15\", \"16\", \"17\", \"18\", \"19\", \"20\", \"21\", \"22\", \"23\", \"24\", \"25\", \"26\", \"27\", \"28\", \"29\", \"30\", \"31\", \"32\", \"33\", \"34\", \"35\", \"36\", \"37\", \"38\", \"39\", \"40\", \"41\", \"42\", \"43\", \"44\", \"45\", \"46\", \"47\", \"48\", \"49\", \"50\", \"51\", \"52\", \"53\", \"54\", \"55\", \"56\", \"57\", \"58\", \"59\", \"60\", \"61\", \"62\", \"63\", \"64\", \"65\", \"66\", \"67\", \"68\", \"69\", \"70\", \"71\", \"72\", \"73\", \"74\", \"75\", \"76\", \"77\", \"78\", \"79\", \"80\", \"81\", \"82\", \"83\", \"84\", \"85\", \"86\", \"87\", \"88\", \"89\", \"90\", \"91\", \"92\", \"93\", \"94\", \"95\", \"96\", \"97\"], \"mode\": \"markers\", \"name\": \"f1_score_weighted\", \"stepped\": false, \"type\": \"scatter\", \"data\": [0.7852947154172721, 0.8374818623070572, 0.8308624884281696, 0.8113199297426282, 0.8247164255515789, 0.8181787715974523, 0.8466026368244305, 0.7384883910051755, 0.8234880524735596, 0.8154750634038069, 0.8163008196302308, 0.8257233469497752, 0.7890283200310598, 0.7863854004037755, 0.7978708894431419, 0.8423516937938103, 0.8200547538163206, 0.7624379056722251, 0.8202914081087993, 0.823074518304516, 0.8070242304437949, 0.7803729706507484, 0.837482400374498, 0.7691459868993938, 0.7710204629603606, 0.5400354614368574, 0.7870654562644424, 0.7306632131573932, 0.7534378008088325, 0.7898904637722474, 0.8414214867571647, 0.7310166802063133, 0.8374627480964753, 0.8151115085978936, 0.8297638370984991, 0.8006640693309398, 0.8416572260252323, 0.8451292902810388, 0.8128449328449329, 0.8196323232095811, 0.8339779075619815, 0.8398033906985315, 0.8190464577207334, 0.8140441877668155, 0.8362344180835453, 0.5483826589070339, 0.7915374970854527, 0.838781014135066, 0.8348404263273825, 0.8362344180835453, 0.8198344688112004, 0.8179334747488028, 0.8394698274533248, 0.8080344824239166, 0.8291014561579212, 0.844125949800579, 0.830889618559902, 0.8272520328368711, 0.8465665257779925, 0.8300628725593663, 0.5400354614368574, 0.8275430705946731, 0.8358975388156544, 0.8382293663653947, 0.7857639788807805, 0.8426171295691959, 0.8517041802177215, 0.8335835997292117, 0.8100220320225922, 0.8319146195381094, 0.8398421208961354, 0.8369377167884631, 0.8300491471843762, 0.8363196734023647, 0.8383358624166094, 0.8228864651302383, 0.8354597408744509, 0.7318494446655855, 0.8361502823600319, 0.8359798799995208, 0.8448363381877129, 0.8335221935705786, 0.828490123720909, 0.7945509275286567, 0.83145440537092, 0.824014392013022, 0.8528643882890901, 0.821004584345503, 0.848864992710887, 0.8397128816985426, 0.8465665257779925, 0.8279293060727042, 0.7671874409125788, 0.8314004718030552, 0.8353759069217318, 0.8486816984261205, 0.8643095067861993, 0.8499110192624091]}, {\"categories\": [\"0\", \"1\", \"2\", \"3\", \"4\", \"5\", \"6\", \"7\", \"8\", \"9\", \"10\", \"11\", \"12\", \"13\", \"14\", \"15\", \"16\", \"17\", \"18\", \"19\", \"20\", \"21\", \"22\", \"23\", \"24\", \"25\", \"26\", \"27\", \"28\", \"29\", \"30\", \"31\", \"32\", \"33\", \"34\", \"35\", \"36\", \"37\", \"38\", \"39\", \"40\", \"41\", \"42\", \"43\", \"44\", \"45\", \"46\", \"47\", \"48\", \"49\", \"50\", \"51\", \"52\", \"53\", \"54\", \"55\", \"56\", \"57\", \"58\", \"59\", \"60\", \"61\", \"62\", \"63\", \"64\", \"65\", \"66\", \"67\", \"68\", \"69\", \"70\", \"71\", \"72\", \"73\", \"74\", \"75\", \"76\", \"77\", \"78\", \"79\", \"80\", \"81\", \"82\", \"83\", \"84\", \"85\", \"86\", \"87\", \"88\", \"89\", \"90\", \"91\", \"92\", \"93\", \"94\", \"95\", \"96\", \"97\"], \"mode\": \"lines\", \"name\": \"f1_score_weighted_max\", \"stepped\": true, \"type\": \"scatter\", \"data\": [0.7852947154172721, 0.8374818623070572, 0.8374818623070572, 0.8374818623070572, 0.8374818623070572, 0.8374818623070572, 0.8466026368244305, 0.8466026368244305, 0.8466026368244305, 0.8466026368244305, 0.8466026368244305, 0.8466026368244305, 0.8466026368244305, 0.8466026368244305, 0.8466026368244305, 0.8466026368244305, 0.8466026368244305, 0.8466026368244305, 0.8466026368244305, 0.8466026368244305, 0.8466026368244305, 0.8466026368244305, 0.8466026368244305, 0.8466026368244305, 0.8466026368244305, 0.8466026368244305, 0.8466026368244305, 0.8466026368244305, 0.8466026368244305, 0.8466026368244305, 0.8466026368244305, 0.8466026368244305, 0.8466026368244305, 0.8466026368244305, 0.8466026368244305, 0.8466026368244305, 0.8466026368244305, 0.8466026368244305, 0.8466026368244305, 0.8466026368244305, 0.8466026368244305, 0.8466026368244305, 0.8466026368244305, 0.8466026368244305, 0.8466026368244305, 0.8466026368244305, 0.8466026368244305, 0.8466026368244305, 0.8466026368244305, 0.8466026368244305, 0.8466026368244305, 0.8466026368244305, 0.8466026368244305, 0.8466026368244305, 0.8466026368244305, 0.8466026368244305, 0.8466026368244305, 0.8466026368244305, 0.8466026368244305, 0.8466026368244305, 0.8466026368244305, 0.8466026368244305, 0.8466026368244305, 0.8466026368244305, 0.8466026368244305, 0.8466026368244305, 0.8517041802177215, 0.8517041802177215, 0.8517041802177215, 0.8517041802177215, 0.8517041802177215, 0.8517041802177215, 0.8517041802177215, 0.8517041802177215, 0.8517041802177215, 0.8517041802177215, 0.8517041802177215, 0.8517041802177215, 0.8517041802177215, 0.8517041802177215, 0.8517041802177215, 0.8517041802177215, 0.8517041802177215, 0.8517041802177215, 0.8517041802177215, 0.8517041802177215, 0.8528643882890901, 0.8528643882890901, 0.8528643882890901, 0.8528643882890901, 0.8528643882890901, 0.8528643882890901, 0.8528643882890901, 0.8528643882890901, 0.8528643882890901, 0.8528643882890901, 0.8643095067861993, 0.8643095067861993]}]}, \"metricName\": null, \"primaryMetricName\": \"accuracy\", \"showLegend\": false}, \"run_metrics\": [{\"name\": \"experiment_status\", \"run_id\": \"AutoML_faab6e12-a632-4021-8373-7cfab7444c1b\", \"categories\": [0, 1, 2, 3, 4, 5], \"series\": [{\"data\": [\"DatasetEvaluation\", \"FeaturesGeneration\", \"DatasetFeaturization\", \"DatasetFeaturizationCompleted\", \"DatasetCrossValidationSplit\", \"ModelSelection\"]}]}, {\"name\": \"experiment_status_description\", \"run_id\": \"AutoML_faab6e12-a632-4021-8373-7cfab7444c1b\", \"categories\": [0, 1, 2, 3, 4, 5], \"series\": [{\"data\": [\"Gathering dataset statistics.\", \"Generating features for the dataset.\", \"Beginning to fit featurizers and featurize the dataset.\", \"Completed fit featurizers and featurizing the dataset.\", \"Generating individually featurized CV splits.\", \"Beginning model selection.\"]}]}, {\"name\": \"precision_score_macro\", \"run_id\": \"AutoML_faab6e12-a632-4021-8373-7cfab7444c1b\", \"categories\": [0], \"series\": [{\"data\": [0.8584611568986569]}]}, {\"name\": \"AUC_macro\", \"run_id\": \"AutoML_faab6e12-a632-4021-8373-7cfab7444c1b\", \"categories\": [0], \"series\": [{\"data\": [0.917153186106022]}]}, {\"name\": \"recall_score_micro\", \"run_id\": \"AutoML_faab6e12-a632-4021-8373-7cfab7444c1b\", \"categories\": [0], \"series\": [{\"data\": [0.8671550671550672]}]}, {\"name\": \"AUC_weighted\", \"run_id\": \"AutoML_faab6e12-a632-4021-8373-7cfab7444c1b\", \"categories\": [0], \"series\": [{\"data\": [0.917153186106022]}]}, {\"name\": \"average_precision_score_micro\", \"run_id\": \"AutoML_faab6e12-a632-4021-8373-7cfab7444c1b\", \"categories\": [0], \"series\": [{\"data\": [0.9267713377931074]}]}, {\"name\": \"AUC_micro\", \"run_id\": \"AutoML_faab6e12-a632-4021-8373-7cfab7444c1b\", \"categories\": [0], \"series\": [{\"data\": [0.9272409894632117]}]}, {\"name\": \"balanced_accuracy\", \"run_id\": \"AutoML_faab6e12-a632-4021-8373-7cfab7444c1b\", \"categories\": [0], \"series\": [{\"data\": [0.8298296829769306]}]}, {\"name\": \"weighted_accuracy\", \"run_id\": \"AutoML_faab6e12-a632-4021-8373-7cfab7444c1b\", \"categories\": [0], \"series\": [{\"data\": [0.8950327066347574]}]}, {\"name\": \"f1_score_weighted\", \"run_id\": \"AutoML_faab6e12-a632-4021-8373-7cfab7444c1b\", \"categories\": [0], \"series\": [{\"data\": [0.8643095067861993]}]}, {\"name\": \"f1_score_micro\", \"run_id\": \"AutoML_faab6e12-a632-4021-8373-7cfab7444c1b\", \"categories\": [0], \"series\": [{\"data\": [0.8671550671550672]}]}, {\"name\": \"recall_score_weighted\", \"run_id\": \"AutoML_faab6e12-a632-4021-8373-7cfab7444c1b\", \"categories\": [0], \"series\": [{\"data\": [0.8671550671550672]}]}, {\"name\": \"precision_score_weighted\", \"run_id\": \"AutoML_faab6e12-a632-4021-8373-7cfab7444c1b\", \"categories\": [0], \"series\": [{\"data\": [0.8656087018140589]}]}, {\"name\": \"precision_score_micro\", \"run_id\": \"AutoML_faab6e12-a632-4021-8373-7cfab7444c1b\", \"categories\": [0], \"series\": [{\"data\": [0.8671550671550672]}]}, {\"name\": \"average_precision_score_weighted\", \"run_id\": \"AutoML_faab6e12-a632-4021-8373-7cfab7444c1b\", \"categories\": [0], \"series\": [{\"data\": [0.9196967887161375]}]}, {\"name\": \"log_loss\", \"run_id\": \"AutoML_faab6e12-a632-4021-8373-7cfab7444c1b\", \"categories\": [0], \"series\": [{\"data\": [0.3670245325078148]}]}, {\"name\": \"norm_macro_recall\", \"run_id\": \"AutoML_faab6e12-a632-4021-8373-7cfab7444c1b\", \"categories\": [0], \"series\": [{\"data\": [0.6596593659538611]}]}, {\"name\": \"average_precision_score_macro\", \"run_id\": \"AutoML_faab6e12-a632-4021-8373-7cfab7444c1b\", \"categories\": [0], \"series\": [{\"data\": [0.9022903467197653]}]}, {\"name\": \"accuracy\", \"run_id\": \"AutoML_faab6e12-a632-4021-8373-7cfab7444c1b\", \"categories\": [0], \"series\": [{\"data\": [0.8671550671550672]}]}, {\"name\": \"f1_score_macro\", \"run_id\": \"AutoML_faab6e12-a632-4021-8373-7cfab7444c1b\", \"categories\": [0], \"series\": [{\"data\": [0.8414189399492545]}]}, {\"name\": \"recall_score_macro\", \"run_id\": \"AutoML_faab6e12-a632-4021-8373-7cfab7444c1b\", \"categories\": [0], \"series\": [{\"data\": [0.8298296829769306]}]}, {\"name\": \"matthews_correlation\", \"run_id\": \"AutoML_faab6e12-a632-4021-8373-7cfab7444c1b\", \"categories\": [0], \"series\": [{\"data\": [0.6876159828584966]}]}], \"run_logs\": \"\\nRun is completed.\", \"graph\": {}, \"widget_settings\": {\"childWidgetDisplay\": \"popup\", \"send_telemetry\": false, \"log_level\": \"INFO\", \"sdk_version\": \"1.20.0\"}, \"loading\": false}"
     },
     "metadata": {},
     "output_type": "display_data"
    },
    {
     "name": "stdout",
     "output_type": "stream",
     "text": [
      "\n",
      "Current status: FeaturesGeneration. Generating features for the dataset.\n",
      "Current status: DatasetCrossValidationSplit. Generating individually featurized CV splits.\n",
      "Current status: ModelSelection. Beginning model selection.\n",
      "\n",
      "****************************************************************************************************\n",
      "DATA GUARDRAILS: \n",
      "\n",
      "TYPE:         Class balancing detection\n",
      "STATUS:       PASSED\n",
      "DESCRIPTION:  Your inputs were analyzed, and all classes are balanced in your training data.\n",
      "              Learn more about imbalanced data: https://aka.ms/AutomatedMLImbalancedData\n",
      "\n",
      "****************************************************************************************************\n",
      "\n",
      "TYPE:         Missing feature values imputation\n",
      "STATUS:       PASSED\n",
      "DESCRIPTION:  No feature missing values were detected in the training data.\n",
      "              Learn more about missing value imputation: https://aka.ms/AutomatedMLFeaturization\n",
      "\n",
      "****************************************************************************************************\n",
      "\n",
      "TYPE:         High cardinality feature detection\n",
      "STATUS:       PASSED\n",
      "DESCRIPTION:  Your inputs were analyzed, and no high cardinality features were detected.\n",
      "              Learn more about high cardinality feature handling: https://aka.ms/AutomatedMLFeaturization\n",
      "\n",
      "****************************************************************************************************\n",
      "\n",
      "****************************************************************************************************\n",
      "ITERATION: The iteration being evaluated.\n",
      "PIPELINE: A summary description of the pipeline being evaluated.\n",
      "DURATION: Time taken for the current iteration.\n",
      "METRIC: The result of computing score on the fitted pipeline.\n",
      "BEST: The best observed score thus far.\n",
      "****************************************************************************************************\n",
      "\n",
      " ITERATION   PIPELINE                                       DURATION      METRIC      BEST\n",
      "         1   MaxAbsScaler XGBoostClassifier                 0:00:51       0.8374    0.8374\n",
      "         0   MaxAbsScaler LightGBM                          0:01:03       0.7857    0.8374\n",
      "         2   MinMaxScaler RandomForest                      0:01:00       0.8337    0.8374\n",
      "         6   StandardScalerWrapper LightGBM                 0:00:56       0.8486    0.8486\n",
      "         3   MinMaxScaler RandomForest                      0:03:28       0.8191    0.8486\n",
      "         7   RobustScaler SVM                               0:00:49       0.7527    0.8486\n",
      "         4   MinMaxScaler RandomForest                      0:03:30       0.8265    0.8486\n",
      "         5   SparseNormalizer XGBoostClassifier             0:03:33       0.8228    0.8486\n",
      "        10   StandardScalerWrapper RandomForest             0:00:54       0.8227    0.8486\n",
      "         8   SparseNormalizer XGBoostClassifier             0:00:54       0.8265    0.8486\n",
      "         9   SparseNormalizer XGBoostClassifier             0:00:58       0.8190    0.8486\n",
      "        11   SparseNormalizer LightGBM                      0:00:57       0.8302    0.8486\n",
      "        12   MinMaxScaler LightGBM                          0:00:50       0.8044    0.8486\n",
      "        13   SparseNormalizer XGBoostClassifier             0:00:55       0.7897    0.8486\n",
      "        14   StandardScalerWrapper LightGBM                 0:00:52       0.8080    0.8486\n",
      "        15   RobustScaler RandomForest                      0:01:01       0.8449    0.8486\n",
      "        16   SparseNormalizer LightGBM                      0:00:52       0.8265    0.8486\n",
      "        17   MinMaxScaler LightGBM                          0:00:53       0.7822    0.8486\n",
      "        18   StandardScalerWrapper XGBoostClassifier        0:00:55       0.8264    0.8486\n",
      "        19   RobustScaler LightGBM                          0:00:55       0.8338    0.8486\n",
      "        20   StandardScalerWrapper XGBoostClassifier        0:00:55       0.8117    0.8486\n",
      "        21   SparseNormalizer GradientBoosting              0:00:51       0.7933    0.8486\n",
      "        22   StandardScalerWrapper LightGBM                 0:00:50       0.8413    0.8486\n",
      "        23   StandardScalerWrapper ExtremeRandomTrees       0:00:48       0.7672    0.8486\n",
      "        24   MaxAbsScaler ExtremeRandomTrees                0:00:52       0.7710    0.8486\n",
      "        25   SparseNormalizer LightGBM                      0:00:48       0.6714    0.8486\n",
      "        26   StandardScalerWrapper ExtremeRandomTrees       0:00:49       0.8080    0.8486\n",
      "        27   StandardScalerWrapper LightGBM                 0:00:50       0.7564    0.8486\n",
      "        28   StandardScalerWrapper LightGBM                 0:01:03       0.7749    0.8486\n",
      "        29   StandardScalerWrapper XGBoostClassifier        0:00:56       0.8006    0.8486\n",
      "        30   StandardScalerWrapper LightGBM                 0:00:48       0.8449    0.8486\n",
      "        31   StandardScalerWrapper LightGBM                 0:00:51       0.7711    0.8486\n",
      "        32   StandardScalerWrapper LightGBM                 0:00:51       0.8376    0.8486\n",
      "        34   StandardScalerWrapper XGBoostClassifier        0:00:51       0.8375    0.8486\n",
      "        33   MaxAbsScaler LightGBM                          0:00:55       0.8228    0.8486\n",
      "        35   SparseNormalizer LightGBM                      0:00:59       0.8080    0.8486\n",
      "        36   MaxAbsScaler LightGBM                          0:00:46       0.8449    0.8486\n",
      "        37   RobustScaler ExtremeRandomTrees                0:00:50       0.8523    0.8523\n",
      "        38   SparseNormalizer XGBoostClassifier             0:00:51       0.8190    0.8523\n",
      "        39   StandardScalerWrapper LightGBM                 0:00:48       0.8266    0.8523\n",
      "        40   MaxAbsScaler LightGBM                          0:00:48       0.8412    0.8523\n",
      "        41   StandardScalerWrapper LightGBM                 0:00:51       0.8412    0.8523\n",
      "        42   MaxAbsScaler LightGBM                          0:00:58       0.8190    0.8523\n",
      "        43   StandardScalerWrapper XGBoostClassifier        0:00:55       0.8153    0.8523\n",
      "        44   MaxAbsScaler LightGBM                          0:00:52       0.8449    0.8523\n",
      "        46   SparseNormalizer XGBoostClassifier             0:00:53       0.8043    0.8523\n",
      "        45   RobustScaler ExtremeRandomTrees                0:01:11       0.6751    0.8523\n",
      "        47   MaxAbsScaler RandomForest                      0:00:54       0.8412    0.8523\n",
      "        48   RobustScaler RandomForest                      0:00:49       0.8376    0.8523\n",
      "        49   StandardScalerWrapper LightGBM                 0:00:56       0.8449    0.8523\n",
      "        50   StandardScalerWrapper ExtremeRandomTrees       0:00:53       0.8301    0.8523\n",
      "        51   StandardScalerWrapper XGBoostClassifier        0:00:54       0.8190    0.8523\n",
      "        52   RobustScaler ExtremeRandomTrees                0:00:55       0.8449    0.8523\n",
      "        53   StandardScalerWrapper XGBoostClassifier        0:00:48       0.8079    0.8523\n",
      "        54   SparseNormalizer XGBoostClassifier             0:00:52       0.8338    0.8523\n",
      "        55   RobustScaler ExtremeRandomTrees                0:00:50       0.8523    0.8523\n",
      "        56   MaxAbsScaler LightGBM                          0:00:57       0.8376    0.8523\n",
      "        57   StandardScalerWrapper XGBoostClassifier        0:00:48       0.8338    0.8523\n",
      "        58   StandardScalerWrapper ExtremeRandomTrees       0:00:52       0.8523    0.8523\n",
      "        59   SparseNormalizer LightGBM                      0:00:58       0.8337    0.8523\n",
      "        61   StandardScalerWrapper LightGBM                 0:00:54       0.8339    0.8523\n",
      "        60   TruncatedSVDWrapper ExtremeRandomTrees         0:01:00       0.6714    0.8523\n",
      "        62   SparseNormalizer LightGBM                      0:00:47       0.8449    0.8523\n",
      "        63   StandardScalerWrapper LightGBM                 0:00:47       0.8412    0.8523\n",
      "        64   RobustScaler RandomForest                      0:00:56       0.7856    0.8523\n",
      "        65   StandardScalerWrapper ExtremeRandomTrees       0:00:53       0.8487    0.8523\n",
      "        66   StandardScalerWrapper XGBoostClassifier        0:00:45       0.8560    0.8560\n",
      "        67   StandardScalerWrapper XGBoostClassifier        0:00:52       0.8337    0.8560\n",
      "        68   StandardScalerWrapper XGBoostClassifier        0:00:51       0.8153    0.8560\n",
      "        69   StandardScalerWrapper XGBoostClassifier        0:00:54       0.8338    0.8560\n",
      "        70   StandardScalerWrapper XGBoostClassifier        0:00:46       0.8450    0.8560\n",
      "        71   RobustScaler RandomForest                      0:00:49       0.8375    0.8560\n",
      "        72   StandardScalerWrapper XGBoostClassifier        0:00:46       0.8301    0.8560\n",
      "        73   StandardScalerWrapper XGBoostClassifier        0:00:48       0.8375    0.8560\n",
      "        74   RobustScaler RandomForest                      0:00:53       0.8412    0.8560\n",
      "        75   StandardScalerWrapper XGBoostClassifier        0:00:57       0.8265    0.8560\n",
      "        76   MaxAbsScaler LightGBM                          0:00:49       0.8413    0.8560\n",
      "        77   RobustScaler ExtremeRandomTrees                0:00:56       0.7637    0.8560\n",
      "        78   StandardScalerWrapper LightGBM                 0:00:55       0.8375    0.8560\n",
      "        79   StandardScalerWrapper LightGBM                 0:00:46       0.8375    0.8560\n",
      "        80   StandardScalerWrapper XGBoostClassifier        0:00:48       0.8486    0.8560\n",
      "        81   SparseNormalizer XGBoostClassifier             0:01:00       0.8375    0.8560\n",
      "        82   StandardScalerWrapper RandomForest             0:00:58       0.8301    0.8560\n",
      "        83   MinMaxScaler LogisticRegression                0:00:52       0.7968    0.8560\n",
      "        84   StandardScalerWrapper LightGBM                 0:00:54       0.8376    0.8560\n",
      "        85   SparseNormalizer XGBoostClassifier             0:01:00       0.8265    0.8560\n",
      "        86   MaxAbsScaler ExtremeRandomTrees                0:00:48       0.8561    0.8561\n",
      "        87   StandardScalerWrapper XGBoostClassifier        0:00:52       0.8227    0.8561\n",
      "        88   MinMaxScaler RandomForest                      0:00:57       0.8523    0.8561\n",
      "        89   StandardScalerWrapper LightGBM                 0:00:57       0.8412    0.8561\n",
      "        90   MinMaxScaler ExtremeRandomTrees                0:00:54       0.8523    0.8561\n",
      "        91   StandardScalerWrapper LightGBM                 0:00:50       0.8375    0.8561\n",
      "        92   TruncatedSVDWrapper RandomForest               0:00:51       0.7823    0.8561\n",
      "        93   StandardScalerWrapper XGBoostClassifier        0:00:43       0.8338    0.8561\n",
      "ERROR: {\n",
      "    \"additional_properties\": {},\n",
      "    \"error\": {\n",
      "        \"additional_properties\": {\n",
      "            \"debugInfo\": null\n",
      "        },\n",
      "        \"code\": \"UserError\",\n",
      "        \"severity\": null,\n",
      "        \"message\": \"Experiment timeout reached, please consider increasing your experiment timeout.\",\n",
      "        \"message_format\": \"Experiment timeout reached, please consider increasing your experiment timeout.\",\n",
      "        \"message_parameters\": {},\n",
      "        \"reference_code\": null,\n",
      "        \"details_uri\": null,\n",
      "        \"target\": null,\n",
      "        \"details\": [],\n",
      "        \"inner_error\": {\n",
      "            \"additional_properties\": {},\n",
      "            \"code\": \"ResourceExhausted\",\n",
      "            \"inner_error\": {\n",
      "                \"additional_properties\": {},\n",
      "                \"code\": \"Timeout\",\n",
      "                \"inner_error\": {\n",
      "                    \"additional_properties\": {},\n",
      "                    \"code\": \"ExperimentTimeoutForIterations\",\n",
      "                    \"inner_error\": null\n",
      "                }\n",
      "            }\n",
      "        }\n",
      "    },\n",
      "    \"correlation\": null,\n",
      "    \"environment\": null,\n",
      "    \"location\": null,\n",
      "    \"time\": {},\n",
      "    \"component_name\": null\n",
      "}\n",
      "        94   RobustScaler LightGBM                          0:00:37       0.8413    0.8561\n",
      "ERROR: {\n",
      "    \"additional_properties\": {},\n",
      "    \"error\": {\n",
      "        \"additional_properties\": {\n",
      "            \"debugInfo\": null\n",
      "        },\n",
      "        \"code\": \"UserError\",\n",
      "        \"severity\": null,\n",
      "        \"message\": \"Experiment timeout reached, please consider increasing your experiment timeout.\",\n",
      "        \"message_format\": \"Experiment timeout reached, please consider increasing your experiment timeout.\",\n",
      "        \"message_parameters\": {},\n",
      "        \"reference_code\": null,\n",
      "        \"details_uri\": null,\n",
      "        \"target\": null,\n",
      "        \"details\": [],\n",
      "        \"inner_error\": {\n",
      "            \"additional_properties\": {},\n",
      "            \"code\": \"ResourceExhausted\",\n",
      "            \"inner_error\": {\n",
      "                \"additional_properties\": {},\n",
      "                \"code\": \"Timeout\",\n",
      "                \"inner_error\": {\n",
      "                    \"additional_properties\": {},\n",
      "                    \"code\": \"ExperimentTimeoutForIterations\",\n",
      "                    \"inner_error\": null\n",
      "                }\n",
      "            }\n",
      "        }\n",
      "    },\n",
      "    \"correlation\": null,\n",
      "    \"environment\": null,\n",
      "    \"location\": null,\n",
      "    \"time\": {},\n",
      "    \"component_name\": null\n",
      "}\n",
      "        95   MaxAbsScaler ExtremeRandomTrees                0:00:32       0.8560    0.8561\n",
      "ERROR: {\n",
      "    \"additional_properties\": {},\n",
      "    \"error\": {\n",
      "        \"additional_properties\": {\n",
      "            \"debugInfo\": null\n",
      "        },\n",
      "        \"code\": \"UserError\",\n",
      "        \"severity\": null,\n",
      "        \"message\": \"Experiment timeout reached, please consider increasing your experiment timeout.\",\n",
      "        \"message_format\": \"Experiment timeout reached, please consider increasing your experiment timeout.\",\n",
      "        \"message_parameters\": {},\n",
      "        \"reference_code\": null,\n",
      "        \"details_uri\": null,\n",
      "        \"target\": null,\n",
      "        \"details\": [],\n",
      "        \"inner_error\": {\n",
      "            \"additional_properties\": {},\n",
      "            \"code\": \"ResourceExhausted\",\n",
      "            \"inner_error\": {\n",
      "                \"additional_properties\": {},\n",
      "                \"code\": \"Timeout\",\n",
      "                \"inner_error\": {\n",
      "                    \"additional_properties\": {},\n",
      "                    \"code\": \"ExperimentTimeoutForIterations\",\n",
      "                    \"inner_error\": null\n",
      "                }\n",
      "            }\n",
      "        }\n",
      "    },\n",
      "    \"correlation\": null,\n",
      "    \"environment\": null,\n",
      "    \"location\": null,\n",
      "    \"time\": {},\n",
      "    \"component_name\": null\n",
      "}\n",
      "        96    VotingEnsemble                                0:01:36       0.8672    0.8672\n",
      "        97    StackEnsemble                                 0:01:45       0.8523    0.8672\n"
     ]
    },
    {
     "data": {
      "text/plain": [
       "{'runId': 'AutoML_faab6e12-a632-4021-8373-7cfab7444c1b',\n",
       " 'target': 'compute-cluster',\n",
       " 'status': 'Completed',\n",
       " 'startTimeUtc': '2021-02-12T08:21:37.50759Z',\n",
       " 'endTimeUtc': '2021-02-12T09:03:14.302602Z',\n",
       " 'properties': {'num_iterations': '1000',\n",
       "  'training_type': 'TrainFull',\n",
       "  'acquisition_function': 'EI',\n",
       "  'primary_metric': 'accuracy',\n",
       "  'train_split': '0',\n",
       "  'acquisition_parameter': '0',\n",
       "  'num_cross_validation': '3',\n",
       "  'target': 'compute-cluster',\n",
       "  'AMLSettingsJsonString': '{\"path\":null,\"name\":\"new-experiment\",\"subscription_id\":\"a0a76bad-11a1-4a2d-9887-97a29122c8ed\",\"resource_group\":\"aml-quickstarts-138669\",\"workspace_name\":\"quick-starts-ws-138669\",\"region\":\"southcentralus\",\"compute_target\":\"compute-cluster\",\"spark_service\":null,\"azure_service\":\"remote\",\"many_models\":false,\"pipeline_fetch_max_batch_size\":1,\"iterations\":1000,\"primary_metric\":\"accuracy\",\"task_type\":\"classification\",\"data_script\":null,\"validation_size\":0.0,\"n_cross_validations\":3,\"y_min\":null,\"y_max\":null,\"num_classes\":null,\"featurization\":\"auto\",\"_ignore_package_version_incompatibilities\":false,\"is_timeseries\":false,\"max_cores_per_iteration\":1,\"max_concurrent_iterations\":4,\"iteration_timeout_minutes\":null,\"mem_in_mb\":null,\"enforce_time_on_windows\":false,\"experiment_timeout_minutes\":30,\"experiment_exit_score\":null,\"whitelist_models\":null,\"blacklist_algos\":[\"TensorFlowLinearClassifier\",\"TensorFlowDNN\"],\"supported_models\":[\"AveragedPerceptronClassifier\",\"XGBoostClassifier\",\"SGD\",\"GradientBoosting\",\"LinearSVM\",\"TensorFlowLinearClassifier\",\"BernoulliNaiveBayes\",\"MultinomialNaiveBayes\",\"KNN\",\"LightGBM\",\"DecisionTree\",\"RandomForest\",\"ExtremeRandomTrees\",\"SVM\",\"LogisticRegression\",\"TensorFlowDNN\"],\"auto_blacklist\":true,\"blacklist_samples_reached\":false,\"exclude_nan_labels\":true,\"verbosity\":20,\"_debug_log\":\"azureml_automl.log\",\"show_warnings\":false,\"model_explainability\":true,\"service_url\":null,\"sdk_url\":null,\"sdk_packages\":null,\"enable_onnx_compatible_models\":false,\"enable_split_onnx_featurizer_estimator_models\":false,\"vm_type\":\"STANDARD_D2_V2\",\"telemetry_verbosity\":20,\"send_telemetry\":true,\"enable_dnn\":false,\"scenario\":\"SDK-1.13.0\",\"environment_label\":null,\"force_text_dnn\":false,\"enable_feature_sweeping\":true,\"enable_early_stopping\":false,\"early_stopping_n_iters\":10,\"metrics\":null,\"enable_ensembling\":true,\"enable_stack_ensembling\":true,\"ensemble_iterations\":15,\"enable_tf\":false,\"enable_subsampling\":null,\"subsample_seed\":null,\"enable_nimbusml\":false,\"enable_streaming\":false,\"force_streaming\":false,\"track_child_runs\":true,\"allowed_private_models\":[],\"label_column_name\":\"DEATH_EVENT\",\"weight_column_name\":null,\"cv_split_column_names\":null,\"enable_local_managed\":false,\"_local_managed_run_id\":null,\"cost_mode\":1,\"lag_length\":0,\"metric_operation\":\"maximize\",\"preprocess\":true}',\n",
       "  'DataPrepJsonString': '{\\\\\"training_data\\\\\": \\\\\"{\\\\\\\\\\\\\"blocks\\\\\\\\\\\\\": [{\\\\\\\\\\\\\"id\\\\\\\\\\\\\": \\\\\\\\\\\\\"783b3010-5f13-4171-abe2-8d1cc3cfaf42\\\\\\\\\\\\\", \\\\\\\\\\\\\"type\\\\\\\\\\\\\": \\\\\\\\\\\\\"Microsoft.DPrep.GetDatastoreFilesBlock\\\\\\\\\\\\\", \\\\\\\\\\\\\"arguments\\\\\\\\\\\\\": {\\\\\\\\\\\\\"datastores\\\\\\\\\\\\\": [{\\\\\\\\\\\\\"datastoreName\\\\\\\\\\\\\": \\\\\\\\\\\\\"workspaceblobstore\\\\\\\\\\\\\", \\\\\\\\\\\\\"path\\\\\\\\\\\\\": \\\\\\\\\\\\\"UI/02-12-2021_081708_UTC/heart_failure_clinical_records_dataset.csv\\\\\\\\\\\\\", \\\\\\\\\\\\\"resourceGroup\\\\\\\\\\\\\": \\\\\\\\\\\\\"aml-quickstarts-138669\\\\\\\\\\\\\", \\\\\\\\\\\\\"subscription\\\\\\\\\\\\\": \\\\\\\\\\\\\"a0a76bad-11a1-4a2d-9887-97a29122c8ed\\\\\\\\\\\\\", \\\\\\\\\\\\\"workspaceName\\\\\\\\\\\\\": \\\\\\\\\\\\\"quick-starts-ws-138669\\\\\\\\\\\\\"}]}, \\\\\\\\\\\\\"localData\\\\\\\\\\\\\": {}, \\\\\\\\\\\\\"isEnabled\\\\\\\\\\\\\": true, \\\\\\\\\\\\\"name\\\\\\\\\\\\\": null, \\\\\\\\\\\\\"annotation\\\\\\\\\\\\\": null}, {\\\\\\\\\\\\\"id\\\\\\\\\\\\\": \\\\\\\\\\\\\"79bd1004-cad4-4a65-a4b0-333f82b6b4ad\\\\\\\\\\\\\", \\\\\\\\\\\\\"type\\\\\\\\\\\\\": \\\\\\\\\\\\\"Microsoft.DPrep.ParseDelimitedBlock\\\\\\\\\\\\\", \\\\\\\\\\\\\"arguments\\\\\\\\\\\\\": {\\\\\\\\\\\\\"columnHeadersMode\\\\\\\\\\\\\": 3, \\\\\\\\\\\\\"fileEncoding\\\\\\\\\\\\\": 0, \\\\\\\\\\\\\"handleQuotedLineBreaks\\\\\\\\\\\\\": false, \\\\\\\\\\\\\"preview\\\\\\\\\\\\\": false, \\\\\\\\\\\\\"separator\\\\\\\\\\\\\": \\\\\\\\\\\\\",\\\\\\\\\\\\\", \\\\\\\\\\\\\"skipRows\\\\\\\\\\\\\": 0, \\\\\\\\\\\\\"skipRowsMode\\\\\\\\\\\\\": 0}, \\\\\\\\\\\\\"localData\\\\\\\\\\\\\": {}, \\\\\\\\\\\\\"isEnabled\\\\\\\\\\\\\": true, \\\\\\\\\\\\\"name\\\\\\\\\\\\\": null, \\\\\\\\\\\\\"annotation\\\\\\\\\\\\\": null}, {\\\\\\\\\\\\\"id\\\\\\\\\\\\\": \\\\\\\\\\\\\"b23947d6-decb-4ece-8285-e510e04693d0\\\\\\\\\\\\\", \\\\\\\\\\\\\"type\\\\\\\\\\\\\": \\\\\\\\\\\\\"Microsoft.DPrep.DropColumnsBlock\\\\\\\\\\\\\", \\\\\\\\\\\\\"arguments\\\\\\\\\\\\\": {\\\\\\\\\\\\\"columns\\\\\\\\\\\\\": {\\\\\\\\\\\\\"type\\\\\\\\\\\\\": 0, \\\\\\\\\\\\\"details\\\\\\\\\\\\\": {\\\\\\\\\\\\\"selectedColumns\\\\\\\\\\\\\": [\\\\\\\\\\\\\"Path\\\\\\\\\\\\\"]}}}, \\\\\\\\\\\\\"localData\\\\\\\\\\\\\": {}, \\\\\\\\\\\\\"isEnabled\\\\\\\\\\\\\": true, \\\\\\\\\\\\\"name\\\\\\\\\\\\\": null, \\\\\\\\\\\\\"annotation\\\\\\\\\\\\\": null}, {\\\\\\\\\\\\\"id\\\\\\\\\\\\\": \\\\\\\\\\\\\"d23b82f3-b6dc-4dcd-a36d-1e8e0897acc5\\\\\\\\\\\\\", \\\\\\\\\\\\\"type\\\\\\\\\\\\\": \\\\\\\\\\\\\"Microsoft.DPrep.SetColumnTypesBlock\\\\\\\\\\\\\", \\\\\\\\\\\\\"arguments\\\\\\\\\\\\\": {\\\\\\\\\\\\\"columnConversion\\\\\\\\\\\\\": [{\\\\\\\\\\\\\"column\\\\\\\\\\\\\": {\\\\\\\\\\\\\"type\\\\\\\\\\\\\": 2, \\\\\\\\\\\\\"details\\\\\\\\\\\\\": {\\\\\\\\\\\\\"selectedColumn\\\\\\\\\\\\\": \\\\\\\\\\\\\"Path\\\\\\\\\\\\\"}}, \\\\\\\\\\\\\"typeProperty\\\\\\\\\\\\\": 0}, {\\\\\\\\\\\\\"column\\\\\\\\\\\\\": {\\\\\\\\\\\\\"type\\\\\\\\\\\\\": 2, \\\\\\\\\\\\\"details\\\\\\\\\\\\\": {\\\\\\\\\\\\\"selectedColumn\\\\\\\\\\\\\": \\\\\\\\\\\\\"age\\\\\\\\\\\\\"}}, \\\\\\\\\\\\\"typeProperty\\\\\\\\\\\\\": 3}, {\\\\\\\\\\\\\"column\\\\\\\\\\\\\": {\\\\\\\\\\\\\"type\\\\\\\\\\\\\": 2, \\\\\\\\\\\\\"details\\\\\\\\\\\\\": {\\\\\\\\\\\\\"selectedColumn\\\\\\\\\\\\\": \\\\\\\\\\\\\"anaemia\\\\\\\\\\\\\"}}, \\\\\\\\\\\\\"typeProperty\\\\\\\\\\\\\": 2}, {\\\\\\\\\\\\\"column\\\\\\\\\\\\\": {\\\\\\\\\\\\\"type\\\\\\\\\\\\\": 2, \\\\\\\\\\\\\"details\\\\\\\\\\\\\": {\\\\\\\\\\\\\"selectedColumn\\\\\\\\\\\\\": \\\\\\\\\\\\\"creatinine_phosphokinase\\\\\\\\\\\\\"}}, \\\\\\\\\\\\\"typeProperty\\\\\\\\\\\\\": 2}, {\\\\\\\\\\\\\"column\\\\\\\\\\\\\": {\\\\\\\\\\\\\"type\\\\\\\\\\\\\": 2, \\\\\\\\\\\\\"details\\\\\\\\\\\\\": {\\\\\\\\\\\\\"selectedColumn\\\\\\\\\\\\\": \\\\\\\\\\\\\"diabetes\\\\\\\\\\\\\"}}, \\\\\\\\\\\\\"typeProperty\\\\\\\\\\\\\": 2}, {\\\\\\\\\\\\\"column\\\\\\\\\\\\\": {\\\\\\\\\\\\\"type\\\\\\\\\\\\\": 2, \\\\\\\\\\\\\"details\\\\\\\\\\\\\": {\\\\\\\\\\\\\"selectedColumn\\\\\\\\\\\\\": \\\\\\\\\\\\\"ejection_fraction\\\\\\\\\\\\\"}}, \\\\\\\\\\\\\"typeProperty\\\\\\\\\\\\\": 2}, {\\\\\\\\\\\\\"column\\\\\\\\\\\\\": {\\\\\\\\\\\\\"type\\\\\\\\\\\\\": 2, \\\\\\\\\\\\\"details\\\\\\\\\\\\\": {\\\\\\\\\\\\\"selectedColumn\\\\\\\\\\\\\": \\\\\\\\\\\\\"high_blood_pressure\\\\\\\\\\\\\"}}, \\\\\\\\\\\\\"typeProperty\\\\\\\\\\\\\": 2}, {\\\\\\\\\\\\\"column\\\\\\\\\\\\\": {\\\\\\\\\\\\\"type\\\\\\\\\\\\\": 2, \\\\\\\\\\\\\"details\\\\\\\\\\\\\": {\\\\\\\\\\\\\"selectedColumn\\\\\\\\\\\\\": \\\\\\\\\\\\\"platelets\\\\\\\\\\\\\"}}, \\\\\\\\\\\\\"typeProperty\\\\\\\\\\\\\": 3}, {\\\\\\\\\\\\\"column\\\\\\\\\\\\\": {\\\\\\\\\\\\\"type\\\\\\\\\\\\\": 2, \\\\\\\\\\\\\"details\\\\\\\\\\\\\": {\\\\\\\\\\\\\"selectedColumn\\\\\\\\\\\\\": \\\\\\\\\\\\\"serum_creatinine\\\\\\\\\\\\\"}}, \\\\\\\\\\\\\"typeProperty\\\\\\\\\\\\\": 3}, {\\\\\\\\\\\\\"column\\\\\\\\\\\\\": {\\\\\\\\\\\\\"type\\\\\\\\\\\\\": 2, \\\\\\\\\\\\\"details\\\\\\\\\\\\\": {\\\\\\\\\\\\\"selectedColumn\\\\\\\\\\\\\": \\\\\\\\\\\\\"serum_sodium\\\\\\\\\\\\\"}}, \\\\\\\\\\\\\"typeProperty\\\\\\\\\\\\\": 2}, {\\\\\\\\\\\\\"column\\\\\\\\\\\\\": {\\\\\\\\\\\\\"type\\\\\\\\\\\\\": 2, \\\\\\\\\\\\\"details\\\\\\\\\\\\\": {\\\\\\\\\\\\\"selectedColumn\\\\\\\\\\\\\": \\\\\\\\\\\\\"sex\\\\\\\\\\\\\"}}, \\\\\\\\\\\\\"typeProperty\\\\\\\\\\\\\": 2}, {\\\\\\\\\\\\\"column\\\\\\\\\\\\\": {\\\\\\\\\\\\\"type\\\\\\\\\\\\\": 2, \\\\\\\\\\\\\"details\\\\\\\\\\\\\": {\\\\\\\\\\\\\"selectedColumn\\\\\\\\\\\\\": \\\\\\\\\\\\\"smoking\\\\\\\\\\\\\"}}, \\\\\\\\\\\\\"typeProperty\\\\\\\\\\\\\": 2}, {\\\\\\\\\\\\\"column\\\\\\\\\\\\\": {\\\\\\\\\\\\\"type\\\\\\\\\\\\\": 2, \\\\\\\\\\\\\"details\\\\\\\\\\\\\": {\\\\\\\\\\\\\"selectedColumn\\\\\\\\\\\\\": \\\\\\\\\\\\\"time\\\\\\\\\\\\\"}}, \\\\\\\\\\\\\"typeProperty\\\\\\\\\\\\\": 2}, {\\\\\\\\\\\\\"column\\\\\\\\\\\\\": {\\\\\\\\\\\\\"type\\\\\\\\\\\\\": 2, \\\\\\\\\\\\\"details\\\\\\\\\\\\\": {\\\\\\\\\\\\\"selectedColumn\\\\\\\\\\\\\": \\\\\\\\\\\\\"DEATH_EVENT\\\\\\\\\\\\\"}}, \\\\\\\\\\\\\"typeProperty\\\\\\\\\\\\\": 2}]}, \\\\\\\\\\\\\"localData\\\\\\\\\\\\\": {}, \\\\\\\\\\\\\"isEnabled\\\\\\\\\\\\\": true, \\\\\\\\\\\\\"name\\\\\\\\\\\\\": null, \\\\\\\\\\\\\"annotation\\\\\\\\\\\\\": null}, {\\\\\\\\\\\\\"id\\\\\\\\\\\\\": \\\\\\\\\\\\\"eb056cba-ff25-481c-a428-6e1f4a6cc637\\\\\\\\\\\\\", \\\\\\\\\\\\\"type\\\\\\\\\\\\\": \\\\\\\\\\\\\"Microsoft.DPrep.TakeSampleBlock\\\\\\\\\\\\\", \\\\\\\\\\\\\"arguments\\\\\\\\\\\\\": {\\\\\\\\\\\\\"probability\\\\\\\\\\\\\": 0.9, \\\\\\\\\\\\\"probabilityLowerBound\\\\\\\\\\\\\": 0.0, \\\\\\\\\\\\\"seed\\\\\\\\\\\\\": 3409541567}, \\\\\\\\\\\\\"localData\\\\\\\\\\\\\": {}, \\\\\\\\\\\\\"isEnabled\\\\\\\\\\\\\": true, \\\\\\\\\\\\\"name\\\\\\\\\\\\\": null, \\\\\\\\\\\\\"annotation\\\\\\\\\\\\\": null}], \\\\\\\\\\\\\"inspectors\\\\\\\\\\\\\": [], \\\\\\\\\\\\\"meta\\\\\\\\\\\\\": {\\\\\\\\\\\\\"savedDatasetId\\\\\\\\\\\\\": \\\\\\\\\\\\\"f32eca8a-3f0e-4e19-8b82-776992029e92\\\\\\\\\\\\\", \\\\\\\\\\\\\"datasetType\\\\\\\\\\\\\": \\\\\\\\\\\\\"tabular\\\\\\\\\\\\\", \\\\\\\\\\\\\"subscriptionId\\\\\\\\\\\\\": \\\\\\\\\\\\\"a0a76bad-11a1-4a2d-9887-97a29122c8ed\\\\\\\\\\\\\", \\\\\\\\\\\\\"workspaceId\\\\\\\\\\\\\": \\\\\\\\\\\\\"c1f80330-6603-4ec7-8ce9-fe5d18f7469d\\\\\\\\\\\\\", \\\\\\\\\\\\\"workspaceLocation\\\\\\\\\\\\\": \\\\\\\\\\\\\"southcentralus\\\\\\\\\\\\\"}}\\\\\", \\\\\"activities\\\\\": 0}',\n",
       "  'EnableSubsampling': None,\n",
       "  'runTemplate': 'AutoML',\n",
       "  'azureml.runsource': 'automl',\n",
       "  'display_task_type': 'classification',\n",
       "  'dependencies_versions': '{\"azureml-widgets\": \"1.20.0\", \"azureml-train\": \"1.20.0\", \"azureml-train-restclients-hyperdrive\": \"1.20.0\", \"azureml-train-core\": \"1.20.0\", \"azureml-train-automl\": \"1.20.0\", \"azureml-train-automl-runtime\": \"1.20.0\", \"azureml-train-automl-client\": \"1.20.0\", \"azureml-tensorboard\": \"1.20.0\", \"azureml-telemetry\": \"1.20.0\", \"azureml-sdk\": \"1.20.0\", \"azureml-samples\": \"0+unknown\", \"azureml-pipeline\": \"1.20.0\", \"azureml-pipeline-steps\": \"1.20.0\", \"azureml-pipeline-core\": \"1.20.0\", \"azureml-opendatasets\": \"1.20.0\", \"azureml-model-management-sdk\": \"1.0.1b6.post1\", \"azureml-mlflow\": \"1.20.0.post1\", \"azureml-interpret\": \"1.20.0\", \"azureml-explain-model\": \"1.20.0\", \"azureml-defaults\": \"1.20.0\", \"azureml-dataset-runtime\": \"1.20.0\", \"azureml-dataprep\": \"2.7.3\", \"azureml-dataprep-rslex\": \"1.5.0\", \"azureml-dataprep-native\": \"27.0.0\", \"azureml-datadrift\": \"1.20.0\", \"azureml-core\": \"1.20.0\", \"azureml-contrib-services\": \"1.20.0\", \"azureml-contrib-server\": \"1.20.0\", \"azureml-contrib-reinforcementlearning\": \"1.20.0\", \"azureml-contrib-pipeline-steps\": \"1.20.0\", \"azureml-contrib-notebook\": \"1.20.0\", \"azureml-contrib-interpret\": \"1.20.0\", \"azureml-contrib-gbdt\": \"1.20.0\", \"azureml-contrib-fairness\": \"1.20.0\", \"azureml-contrib-dataset\": \"1.20.0\", \"azureml-cli-common\": \"1.20.0\", \"azureml-automl-runtime\": \"1.20.0\", \"azureml-automl-core\": \"1.20.0\", \"azureml-accel-models\": \"1.20.0\"}',\n",
       "  '_aml_system_scenario_identification': 'Remote.Parent',\n",
       "  'ClientType': 'SDK',\n",
       "  'environment_cpu_name': 'AzureML-AutoML',\n",
       "  'environment_cpu_label': 'prod',\n",
       "  'environment_gpu_name': 'AzureML-AutoML-GPU',\n",
       "  'environment_gpu_label': 'prod',\n",
       "  'root_attribution': 'automl',\n",
       "  'attribution': 'AutoML',\n",
       "  'Orchestrator': 'AutoML',\n",
       "  'CancelUri': 'https://southcentralus.experiments.azureml.net/jasmine/v1.0/subscriptions/a0a76bad-11a1-4a2d-9887-97a29122c8ed/resourceGroups/aml-quickstarts-138669/providers/Microsoft.MachineLearningServices/workspaces/quick-starts-ws-138669/experimentids/59ed5b87-a2cc-4572-b795-5369caf6aa8d/cancel/AutoML_faab6e12-a632-4021-8373-7cfab7444c1b',\n",
       "  'ClientSdkVersion': '1.21.0',\n",
       "  'snapshotId': '00000000-0000-0000-0000-000000000000',\n",
       "  'SetupRunId': 'AutoML_faab6e12-a632-4021-8373-7cfab7444c1b_setup',\n",
       "  'SetupRunContainerId': 'dcid.AutoML_faab6e12-a632-4021-8373-7cfab7444c1b_setup',\n",
       "  'FeaturizationRunJsonPath': 'featurizer_container.json',\n",
       "  'FeaturizationRunId': 'AutoML_faab6e12-a632-4021-8373-7cfab7444c1b_featurize',\n",
       "  'ProblemInfoJsonString': '{\"dataset_num_categorical\": 0, \"is_sparse\": false, \"subsampling\": false, \"dataset_classes\": 2, \"dataset_features\": 12, \"dataset_samples\": 271, \"single_frequency_class_detected\": false}',\n",
       "  'ModelExplainRunId': 'AutoML_faab6e12-a632-4021-8373-7cfab7444c1b_ModelExplain'},\n",
       " 'inputDatasets': [{'dataset': {'id': 'f32eca8a-3f0e-4e19-8b82-776992029e92'}, 'consumptionDetails': {'type': 'RunInput', 'inputName': 'training_data', 'mechanism': 'Direct'}}],\n",
       " 'outputDatasets': [],\n",
       " 'logFiles': {},\n",
       " 'submittedBy': 'ODL_User 138669'}"
      ]
     },
     "execution_count": 10,
     "metadata": {},
     "output_type": "execute_result"
    }
   ],
   "source": [
    "RunDetails(remote_run).show()\n",
    "remote_run.wait_for_completion(show_output=True)"
   ]
  },
  {
   "cell_type": "markdown",
   "metadata": {},
   "source": [
    "## Best Model\n",
    "\n",
    "The best model from the automl experiments and all the properties of the model.\n",
    "\n"
   ]
  },
  {
   "cell_type": "code",
   "execution_count": 11,
   "metadata": {
    "gather": {
     "logged": 1598431425670
    },
    "jupyter": {
     "outputs_hidden": false,
     "source_hidden": false
    },
    "nteract": {
     "transient": {
      "deleting": false
     }
    }
   },
   "outputs": [
    {
     "name": "stderr",
     "output_type": "stream",
     "text": [
      "WARNING:root:The version of the SDK does not match the version the model was trained on.\n",
      "WARNING:root:The consistency in the result may not be guaranteed.\n",
      "WARNING:root:Package:azureml-automl-core, training version:1.21.0, current version:1.20.0\n",
      "Package:azureml-automl-runtime, training version:1.21.0, current version:1.20.0\n",
      "Package:azureml-core, training version:1.21.0.post1, current version:1.20.0\n",
      "Package:azureml-dataprep, training version:2.8.2, current version:2.7.3\n",
      "Package:azureml-dataprep-native, training version:28.0.0, current version:27.0.0\n",
      "Package:azureml-dataprep-rslex, training version:1.6.0, current version:1.5.0\n",
      "Package:azureml-dataset-runtime, training version:1.21.0, current version:1.20.0\n",
      "Package:azureml-defaults, training version:1.21.0, current version:1.20.0\n",
      "Package:azureml-interpret, training version:1.21.0, current version:1.20.0\n",
      "Package:azureml-pipeline-core, training version:1.21.0, current version:1.20.0\n",
      "Package:azureml-telemetry, training version:1.21.0, current version:1.20.0\n",
      "Package:azureml-train-automl-client, training version:1.21.0, current version:1.20.0\n",
      "Package:azureml-train-automl-runtime, training version:1.21.0, current version:1.20.0\n",
      "WARNING:root:Please ensure the version of your local conda dependencies match the version on which your model was trained in order to properly retrieve your model.\n"
     ]
    }
   ],
   "source": [
    "best_automl_run, best_automl_model = remote_run.get_output()"
   ]
  },
  {
   "cell_type": "code",
   "execution_count": 12,
   "metadata": {},
   "outputs": [
    {
     "name": "stdout",
     "output_type": "stream",
     "text": [
      "Run(Experiment: new-experiment,\n",
      "Id: AutoML_faab6e12-a632-4021-8373-7cfab7444c1b_96,\n",
      "Type: azureml.scriptrun,\n",
      "Status: Completed)\n"
     ]
    }
   ],
   "source": [
    "print(best_automl_run)"
   ]
  },
  {
   "cell_type": "code",
   "execution_count": 13,
   "metadata": {},
   "outputs": [
    {
     "name": "stdout",
     "output_type": "stream",
     "text": [
      "Pipeline(memory=None,\n",
      "         steps=[('datatransformer',\n",
      "                 DataTransformer(enable_dnn=None, enable_feature_sweeping=None,\n",
      "                                 feature_sweeping_config=None,\n",
      "                                 feature_sweeping_timeout=None,\n",
      "                                 featurization_config=None, force_text_dnn=None,\n",
      "                                 is_cross_validation=None,\n",
      "                                 is_onnx_compatible=None, logger=None,\n",
      "                                 observer=None, task=None, working_dir=None)),\n",
      "                ('prefittedsoftvotingclassifier',...\n",
      "                                                                                                    max_samples=None,\n",
      "                                                                                                    min_impurity_decrease=0.0,\n",
      "                                                                                                    min_impurity_split=None,\n",
      "                                                                                                    min_samples_leaf=0.01,\n",
      "                                                                                                    min_samples_split=0.056842105263157895,\n",
      "                                                                                                    min_weight_fraction_leaf=0.0,\n",
      "                                                                                                    n_estimators=400,\n",
      "                                                                                                    n_jobs=1,\n",
      "                                                                                                    oob_score=False,\n",
      "                                                                                                    random_state=None,\n",
      "                                                                                                    verbose=0,\n",
      "                                                                                                    warm_start=False))],\n",
      "                                                                     verbose=False))],\n",
      "                                               flatten_transform=None,\n",
      "                                               weights=[0.1, 0.1, 0.1, 0.1, 0.1,\n",
      "                                                        0.1, 0.1, 0.1, 0.1,\n",
      "                                                        0.1]))],\n",
      "         verbose=False)\n"
     ]
    }
   ],
   "source": [
    "print(best_automl_model)"
   ]
  },
  {
   "cell_type": "code",
   "execution_count": 14,
   "metadata": {},
   "outputs": [
    {
     "data": {
      "text/html": [
       "<table style=\"width:100%\"><tr><th>Experiment</th><th>Id</th><th>Type</th><th>Status</th><th>Details Page</th><th>Docs Page</th></tr><tr><td>new-experiment</td><td>AutoML_faab6e12-a632-4021-8373-7cfab7444c1b_96</td><td>azureml.scriptrun</td><td>Completed</td><td><a href=\"https://ml.azure.com/experiments/new-experiment/runs/AutoML_faab6e12-a632-4021-8373-7cfab7444c1b_96?wsid=/subscriptions/a0a76bad-11a1-4a2d-9887-97a29122c8ed/resourcegroups/aml-quickstarts-138669/workspaces/quick-starts-ws-138669\" target=\"_blank\" rel=\"noopener\">Link to Azure Machine Learning studio</a></td><td><a href=\"https://docs.microsoft.com/en-us/python/api/azureml-core/azureml.core.run.Run?view=azure-ml-py\" target=\"_blank\" rel=\"noopener\">Link to Documentation</a></td></tr></table>"
      ],
      "text/plain": [
       "Run(Experiment: new-experiment,\n",
       "Id: AutoML_faab6e12-a632-4021-8373-7cfab7444c1b_96,\n",
       "Type: azureml.scriptrun,\n",
       "Status: Completed)"
      ]
     },
     "execution_count": 14,
     "metadata": {},
     "output_type": "execute_result"
    }
   ],
   "source": [
    "best_automl_run"
   ]
  },
  {
   "cell_type": "code",
   "execution_count": 15,
   "metadata": {},
   "outputs": [
    {
     "name": "stdout",
     "output_type": "stream",
     "text": [
      "matthews_correlation 0.6876159828584966\n",
      "AUC_weighted 0.917153186106022\n",
      "precision_score_micro 0.8671550671550672\n",
      "precision_score_weighted 0.8656087018140589\n",
      "f1_score_weighted 0.8643095067861993\n",
      "recall_score_micro 0.8671550671550672\n",
      "recall_score_weighted 0.8671550671550672\n",
      "AUC_macro 0.917153186106022\n",
      "f1_score_micro 0.8671550671550672\n",
      "recall_score_macro 0.8298296829769306\n",
      "f1_score_macro 0.8414189399492545\n",
      "accuracy 0.8671550671550672\n",
      "balanced_accuracy 0.8298296829769306\n",
      "average_precision_score_macro 0.9022903467197653\n",
      "average_precision_score_micro 0.9267713377931074\n",
      "norm_macro_recall 0.6596593659538611\n",
      "average_precision_score_weighted 0.9196967887161375\n",
      "log_loss 0.3670245325078148\n",
      "AUC_micro 0.9272409894632117\n",
      "precision_score_macro 0.8584611568986569\n",
      "weighted_accuracy 0.8950327066347574\n",
      "accuracy_table aml://artifactId/ExperimentRun/dcid.AutoML_faab6e12-a632-4021-8373-7cfab7444c1b_96/accuracy_table\n",
      "confusion_matrix aml://artifactId/ExperimentRun/dcid.AutoML_faab6e12-a632-4021-8373-7cfab7444c1b_96/confusion_matrix\n"
     ]
    }
   ],
   "source": [
    "get_best_automl_metrics = best_automl_run.get_metrics()\n",
    "\n",
    "for metric_name in get_best_automl_metrics:\n",
    "    metric = get_best_automl_metrics[metric_name]\n",
    "    print(metric_name, metric)"
   ]
  },
  {
   "cell_type": "code",
   "execution_count": 16,
   "metadata": {
    "gather": {
     "logged": 1598431426111
    },
    "jupyter": {
     "outputs_hidden": false,
     "source_hidden": false
    },
    "nteract": {
     "transient": {
      "deleting": false
     }
    }
   },
   "outputs": [
    {
     "name": "stdout",
     "output_type": "stream",
     "text": [
      "Model(workspace=Workspace.create(name='quick-starts-ws-138669', subscription_id='a0a76bad-11a1-4a2d-9887-97a29122c8ed', resource_group='aml-quickstarts-138669'), name=best_automl_model, id=best_automl_model:1, version=1, tags={'Training context': 'Auto ML'}, properties={'Accuracy': '0.8671550671550672'})\n"
     ]
    }
   ],
   "source": [
    "# Save the best model\n",
    "model = best_automl_run.register_model(model_name = 'best_automl_model', model_path = 'outputs/model.pkl', \n",
    "                                       tags = {'Training context':'Auto ML'},\n",
    "                                       properties={'Accuracy': get_best_automl_metrics['accuracy']})\n",
    "print(model)"
   ]
  },
  {
   "cell_type": "code",
   "execution_count": 17,
   "metadata": {},
   "outputs": [
    {
     "ename": "NameError",
     "evalue": "name 'Model' is not defined",
     "output_type": "error",
     "traceback": [
      "\u001b[0;31m---------------------------------------------------------------------------\u001b[0m",
      "\u001b[0;31mNameError\u001b[0m                                 Traceback (most recent call last)",
      "\u001b[0;32m<ipython-input-17-9a10a1e9b4db>\u001b[0m in \u001b[0;36m<module>\u001b[0;34m\u001b[0m\n\u001b[1;32m      1\u001b[0m \u001b[0;31m# List best models of HyperDrive Run and AutoML Run to compare the accuracy of the model\u001b[0m\u001b[0;34m\u001b[0m\u001b[0;34m\u001b[0m\u001b[0;34m\u001b[0m\u001b[0m\n\u001b[1;32m      2\u001b[0m \u001b[0;34m\u001b[0m\u001b[0m\n\u001b[0;32m----> 3\u001b[0;31m \u001b[0;32mfor\u001b[0m \u001b[0mmodel\u001b[0m \u001b[0;32min\u001b[0m \u001b[0mModel\u001b[0m\u001b[0;34m.\u001b[0m\u001b[0mlist\u001b[0m\u001b[0;34m(\u001b[0m\u001b[0mws\u001b[0m\u001b[0;34m)\u001b[0m\u001b[0;34m:\u001b[0m\u001b[0;34m\u001b[0m\u001b[0;34m\u001b[0m\u001b[0m\n\u001b[0m\u001b[1;32m      4\u001b[0m     \u001b[0mprint\u001b[0m\u001b[0;34m(\u001b[0m\u001b[0mmodel\u001b[0m\u001b[0;34m.\u001b[0m\u001b[0mname\u001b[0m\u001b[0;34m)\u001b[0m\u001b[0;34m\u001b[0m\u001b[0;34m\u001b[0m\u001b[0m\n\u001b[1;32m      5\u001b[0m     \u001b[0;32mfor\u001b[0m \u001b[0mtag_name\u001b[0m \u001b[0;32min\u001b[0m \u001b[0mmodel\u001b[0m\u001b[0;34m.\u001b[0m\u001b[0mtags\u001b[0m\u001b[0;34m:\u001b[0m\u001b[0;34m\u001b[0m\u001b[0;34m\u001b[0m\u001b[0m\n",
      "\u001b[0;31mNameError\u001b[0m: name 'Model' is not defined"
     ]
    }
   ],
   "source": [
    "# List best models of HyperDrive Run and AutoML Run to compare the accuracy of the model\n",
    "\n",
    "for model in Model.list(ws):\n",
    "    print(model.name)\n",
    "    for tag_name in model.tags:\n",
    "        tag = model.tags[tag_name]\n",
    "        print('\\t',tag_name,':',tag)\n",
    "    for prop_name in model.properties:\n",
    "        prop = model.properties[prop_name]\n",
    "        print('\\t',prop_name,':',prop)\n",
    "    print(\"\\n\")"
   ]
  },
  {
   "cell_type": "markdown",
   "metadata": {},
   "source": [
    "## Model Deployment\n",
    "\n",
    "Register the model, create an inference config and deploy the model as a web service."
   ]
  },
  {
   "cell_type": "code",
   "execution_count": 18,
   "metadata": {
    "gather": {
     "logged": 1598431435189
    },
    "jupyter": {
     "outputs_hidden": false,
     "source_hidden": false
    },
    "nteract": {
     "transient": {
      "deleting": false
     }
    }
   },
   "outputs": [],
   "source": [
    "# Download scoring file\n",
    "best_automl_run.download_file('outputs/scoring_file_v_1_0_0.py','score.py')\n",
    "\n",
    "# Download environment file\n",
    "best_automl_run.download_file('outputs/conda_env_v_1_0_0.yml', 'envFile.yml')"
   ]
  },
  {
   "cell_type": "code",
   "execution_count": 19,
   "metadata": {},
   "outputs": [],
   "source": [
    "# Create an inference config\n",
    "\n",
    "from azureml.core.environment import Environment\n",
    "from azureml.core.model import InferenceConfig\n",
    "\n",
    "\n",
    "# env = Environment.get(ws, \"AzureML-Minimal\").clone(env_name)\n",
    "\n",
    "# for pip_package in [\"scikit-learn\"]:\n",
    "#     env.python.conda_dependencies.add_pip_package(pip_package)\n",
    "\n",
    "inference_config = InferenceConfig(entry_script='score.py',\n",
    "                                    environment=best_automl_run.get_environment())"
   ]
  },
  {
   "cell_type": "code",
   "execution_count": 20,
   "metadata": {},
   "outputs": [
    {
     "name": "stdout",
     "output_type": "stream",
     "text": [
      "Tips: You can try get_logs(): https://aka.ms/debugimage#dockerlog or local deployment: https://aka.ms/debugimage#debug-locally to debug if deployment takes longer than 10 minutes.\n",
      "Running....................................................\n",
      "Succeeded\n",
      "ACI service creation operation finished, operation \"Succeeded\"\n"
     ]
    }
   ],
   "source": [
    "# Deploy the model as a web service\n",
    "from azureml.core.webservice import AciWebservice, Webservice\n",
    "from azureml.core.model import Model\n",
    "\n",
    "deployment_config = AciWebservice.deploy_configuration(cpu_cores = 1, memory_gb = 1)\n",
    "service = Model.deploy(ws, \"aciservice\", [model], inference_config, deployment_config)\n",
    "service.wait_for_deployment(show_output = True)"
   ]
  },
  {
   "cell_type": "code",
   "execution_count": 21,
   "metadata": {},
   "outputs": [],
   "source": [
    "service.update(enable_app_insights = True)"
   ]
  },
  {
   "cell_type": "code",
   "execution_count": 24,
   "metadata": {},
   "outputs": [
    {
     "name": "stdout",
     "output_type": "stream",
     "text": [
      "State : Healthy\n",
      "Swagger URI : http://f4b51c89-2d5e-469f-9132-b8a5132ff160.southcentralus.azurecontainer.io/swagger.json\n",
      "Scoring URI : http://f4b51c89-2d5e-469f-9132-b8a5132ff160.southcentralus.azurecontainer.io/score\n"
     ]
    }
   ],
   "source": [
    "print(\"State : \"+service.state)\n",
    "print(\"Swagger URI : \"+service.swagger_uri)\n",
    "print(\"Scoring URI : \"+service.scoring_uri)"
   ]
  },
  {
   "cell_type": "markdown",
   "metadata": {
    "collapsed": true,
    "gather": {
     "logged": 1598431657736
    },
    "jupyter": {
     "outputs_hidden": false,
     "source_hidden": false
    },
    "nteract": {
     "transient": {
      "deleting": false
     }
    }
   },
   "source": [
    "Send a request to the web service that is deployed to test it."
   ]
  },
  {
   "cell_type": "code",
   "execution_count": 39,
   "metadata": {
    "gather": {
     "logged": 1598432707604
    },
    "jupyter": {
     "outputs_hidden": false,
     "source_hidden": false
    },
    "nteract": {
     "transient": {
      "deleting": false
     }
    }
   },
   "outputs": [
    {
     "name": "stdout",
     "output_type": "stream",
     "text": [
      "{\"data\": {\"age\": {\"3\": 90.0, \"1\": 75.0}, \"anaemia\": {\"3\": 1, \"1\": 1}, \"creatinine_phosphokinase\": {\"3\": 60, \"1\": 81}, \"diabetes\": {\"3\": 1, \"1\": 0}, \"ejection_fraction\": {\"3\": 50, \"1\": 38}, \"high_blood_pressure\": {\"3\": 0, \"1\": 1}, \"platelets\": {\"3\": 226000.0, \"1\": 368000.0}, \"serum_creatinine\": {\"3\": 1.0, \"1\": 4.0}, \"serum_sodium\": {\"3\": 134, \"1\": 131}, \"sex\": {\"3\": 1, \"1\": 1}, \"smoking\": {\"3\": 0, \"1\": 1}, \"time\": {\"3\": 30, \"1\": 10}}}\n"
     ]
    }
   ],
   "source": [
    "import requests\n",
    "import json\n",
    "\n",
    "# Two sets of data to score, so we get two results back\n",
    "\n",
    "td = test_data.to_pandas_dataframe()\n",
    "sample_data = td.sample(2)\n",
    "y_test = sample_data[\"DEATH_EVENT\"]\n",
    "sample_data.drop(['DEATH_EVENT'], inplace=True, axis=1)\n",
    "x_test = sample_data\n",
    "data = {\"data\":x_test.to_dict()}\n",
    "\n",
    "# Convert to JSON string\n",
    "input_data = json.dumps(data)\n",
    "print(input_data)"
   ]
  },
  {
   "cell_type": "code",
   "execution_count": 40,
   "metadata": {},
   "outputs": [
    {
     "name": "stdout",
     "output_type": "stream",
     "text": [
      "\"{\\\"result\\\": [1, 1]}\"\n"
     ]
    }
   ],
   "source": [
    "# Set the content type\n",
    "headers = {'Content-Type': 'application/json'}\n",
    "\n",
    "# Make the request and display the response\n",
    "resp = requests.post(service.scoring_uri, input_data, headers=headers)\n",
    "print(resp.text)"
   ]
  },
  {
   "cell_type": "code",
   "execution_count": 41,
   "metadata": {},
   "outputs": [
    {
     "name": "stdout",
     "output_type": "stream",
     "text": [
      "3    1\n",
      "1    1\n",
      "Name: DEATH_EVENT, dtype: int64\n"
     ]
    }
   ],
   "source": [
    "# Print original labels\n",
    "print(y_test)"
   ]
  },
  {
   "cell_type": "markdown",
   "metadata": {
    "collapsed": true,
    "gather": {
     "logged": 1598432765711
    },
    "jupyter": {
     "outputs_hidden": false,
     "source_hidden": false
    },
    "nteract": {
     "transient": {
      "deleting": false
     }
    }
   },
   "source": [
    "Print the logs of the web service and delete the service"
   ]
  },
  {
   "cell_type": "code",
   "execution_count": 42,
   "metadata": {
    "jupyter": {
     "outputs_hidden": false,
     "source_hidden": false
    },
    "nteract": {
     "transient": {
      "deleting": false
     }
    }
   },
   "outputs": [
    {
     "name": "stdout",
     "output_type": "stream",
     "text": [
      "2021-02-12T09:12:40,103765300+00:00 - gunicorn/run \n",
      "2021-02-12T09:12:40,102932200+00:00 - iot-server/run \n",
      "2021-02-12T09:12:40,138524100+00:00 - rsyslog/run \n",
      "2021-02-12T09:12:40,164934300+00:00 - nginx/run \n",
      "/usr/sbin/nginx: /azureml-envs/azureml_20a8278aa8b20dd48cc50f56a6d2586c/lib/libcrypto.so.1.0.0: no version information available (required by /usr/sbin/nginx)\n",
      "/usr/sbin/nginx: /azureml-envs/azureml_20a8278aa8b20dd48cc50f56a6d2586c/lib/libcrypto.so.1.0.0: no version information available (required by /usr/sbin/nginx)\n",
      "/usr/sbin/nginx: /azureml-envs/azureml_20a8278aa8b20dd48cc50f56a6d2586c/lib/libssl.so.1.0.0: no version information available (required by /usr/sbin/nginx)\n",
      "/usr/sbin/nginx: /azureml-envs/azureml_20a8278aa8b20dd48cc50f56a6d2586c/lib/libssl.so.1.0.0: no version information available (required by /usr/sbin/nginx)\n",
      "/usr/sbin/nginx: /azureml-envs/azureml_20a8278aa8b20dd48cc50f56a6d2586c/lib/libssl.so.1.0.0: no version information available (required by /usr/sbin/nginx)\n",
      "rsyslogd: /azureml-envs/azureml_20a8278aa8b20dd48cc50f56a6d2586c/lib/libuuid.so.1: no version information available (required by rsyslogd)\n",
      "EdgeHubConnectionString and IOTEDGE_IOTHUBHOSTNAME are not set. Exiting...\n",
      "2021-02-12T09:12:41,942381500+00:00 - iot-server/finish 1 0\n",
      "2021-02-12T09:12:41,953656300+00:00 - Exit code 1 is normal. Not restarting iot-server.\n",
      "Starting gunicorn 19.9.0\n",
      "Listening at: http://127.0.0.1:31311 (66)\n",
      "Using worker: sync\n",
      "worker timeout is set to 300\n",
      "Booting worker with pid: 95\n",
      "SPARK_HOME not set. Skipping PySpark Initialization.\n",
      "Generating new fontManager, this may take some time...\n",
      "Initializing logger\n",
      "2021-02-12 09:12:47,362 | root | INFO | Starting up app insights client\n",
      "2021-02-12 09:12:47,364 | root | INFO | Starting up request id generator\n",
      "2021-02-12 09:12:47,364 | root | INFO | Starting up app insight hooks\n",
      "2021-02-12 09:12:47,364 | root | INFO | Invoking user's init function\n",
      "2021-02-12 09:12:59,110 | root | INFO | Users's init has completed successfully\n",
      "2021-02-12 09:12:59,159 | root | INFO | Skipping middleware: dbg_model_info as it's not enabled.\n",
      "2021-02-12 09:12:59,159 | root | INFO | Skipping middleware: dbg_resource_usage as it's not enabled.\n",
      "2021-02-12 09:12:59,161 | root | INFO | Scoring timeout is found from os.environ: 60000 ms\n",
      "2021-02-12 09:13:25,066 | root | INFO | 200\n",
      "127.0.0.1 - - [12/Feb/2021:09:13:25 +0000] \"GET /swagger.json HTTP/1.0\" 200 2832 \"-\" \"Go-http-client/1.1\"\n",
      "2021-02-12 09:25:31,244 | root | INFO | Validation Request Content-Type\n",
      "2021-02-12 09:25:31,247 | root | INFO | Scoring Timer is set to 60.0 seconds\n",
      "2021-02-12 09:25:31,993 | root | INFO | 200\n",
      "127.0.0.1 - - [12/Feb/2021:09:25:31 +0000] \"POST /score HTTP/1.0\" 200 22 \"-\" \"python-requests/2.25.1\"\n",
      "2021-02-12 09:27:26,786 | root | INFO | Validation Request Content-Type\n",
      "2021-02-12 09:27:26,789 | root | INFO | Scoring Timer is set to 60.0 seconds\n",
      "2021-02-12 09:27:27,472 | root | INFO | 200\n",
      "127.0.0.1 - - [12/Feb/2021:09:27:27 +0000] \"POST /score HTTP/1.0\" 200 22 \"-\" \"python-requests/2.25.1\"\n",
      "2021-02-12 09:27:39,301 | root | INFO | Validation Request Content-Type\n",
      "2021-02-12 09:27:39,301 | root | INFO | Scoring Timer is set to 60.0 seconds\n",
      "2021-02-12 09:27:39,793 | root | INFO | 200\n",
      "127.0.0.1 - - [12/Feb/2021:09:27:39 +0000] \"POST /score HTTP/1.0\" 200 22 \"-\" \"python-requests/2.25.1\"\n",
      "2021-02-12 09:27:50,141 | root | INFO | Validation Request Content-Type\n",
      "2021-02-12 09:27:50,142 | root | INFO | Scoring Timer is set to 60.0 seconds\n",
      "2021-02-12 09:27:50,849 | root | INFO | 200\n",
      "127.0.0.1 - - [12/Feb/2021:09:27:50 +0000] \"POST /score HTTP/1.0\" 200 22 \"-\" \"python-requests/2.25.1\"\n",
      "\n"
     ]
    }
   ],
   "source": [
    "print(service.get_logs())"
   ]
  },
  {
   "cell_type": "code",
   "execution_count": 43,
   "metadata": {},
   "outputs": [],
   "source": [
    "service.delete()\n",
    "cpu_cluster.delete()"
   ]
  },
  {
   "cell_type": "code",
   "execution_count": null,
   "metadata": {},
   "outputs": [],
   "source": []
  }
 ],
 "metadata": {
  "kernel_info": {
   "name": "python3"
  },
  "kernelspec": {
   "display_name": "Python 3",
   "language": "python",
   "name": "python3"
  },
  "language_info": {
   "codemirror_mode": {
    "name": "ipython",
    "version": 3
   },
   "file_extension": ".py",
   "mimetype": "text/x-python",
   "name": "python",
   "nbconvert_exporter": "python",
   "pygments_lexer": "ipython3",
   "version": "3.6.9"
  },
  "nteract": {
   "version": "nteract-front-end@1.0.0"
  }
 },
 "nbformat": 4,
 "nbformat_minor": 2
}
